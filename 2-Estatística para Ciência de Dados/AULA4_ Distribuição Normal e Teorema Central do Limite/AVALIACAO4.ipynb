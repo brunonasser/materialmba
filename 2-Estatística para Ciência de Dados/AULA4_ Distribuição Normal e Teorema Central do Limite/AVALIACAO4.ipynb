{
 "cells": [
  {
   "cell_type": "markdown",
   "metadata": {},
   "source": [
    "### QUESTAO 1"
   ]
  },
  {
   "cell_type": "code",
   "execution_count": 9,
   "metadata": {},
   "outputs": [
    {
     "name": "stdout",
     "output_type": "stream",
     "text": [
      "Z: 1.0\n",
      "0.15865525393145707\n"
     ]
    }
   ],
   "source": [
    "import scipy.stats as st\n",
    "\n",
    "media = 100\n",
    "dp = 10\n",
    "z = (110-media)/dp\n",
    "print('Z:', z)\n",
    "print(1-st.norm.cdf(z))"
   ]
  },
  {
   "cell_type": "markdown",
   "metadata": {},
   "source": [
    "### QUESTAO 2"
   ]
  },
  {
   "cell_type": "code",
   "execution_count": 5,
   "metadata": {},
   "outputs": [
    {
     "name": "stdout",
     "output_type": "stream",
     "text": [
      "Z: 0.20000000000000018\n",
      "0.5792597094391031\n"
     ]
    }
   ],
   "source": [
    "import scipy.stats as st\n",
    "\n",
    "media = 1.7\n",
    "dp = 0.5\n",
    "z = (1.8-media)/dp\n",
    "print('Z:', z)\n",
    "print(st.norm.cdf(z))"
   ]
  },
  {
   "cell_type": "markdown",
   "metadata": {},
   "source": [
    "## QUESTAO5"
   ]
  },
  {
   "cell_type": "code",
   "execution_count": 13,
   "metadata": {},
   "outputs": [
    {
     "name": "stdout",
     "output_type": "stream",
     "text": [
      "Probabilidade teórica: 0.9544997361036416\n"
     ]
    }
   ],
   "source": [
    "import scipy.stats as st\n",
    "import numpy as np\n",
    "media = 5\n",
    "dp = 10\n",
    "n=100\n",
    "z1 = (3 - media)/(dp/np.sqrt(n))\n",
    "z2 = (7 - media)/(dp/np.sqrt(n))\n",
    "print('Probabilidade teórica:',st.norm.cdf(z2)-st.norm.cdf(z1))\n"
   ]
  },
  {
   "cell_type": "code",
   "execution_count": null,
   "metadata": {},
   "outputs": [],
   "source": []
  }
 ],
 "metadata": {
  "kernelspec": {
   "display_name": "Python 3",
   "language": "python",
   "name": "python3"
  },
  "language_info": {
   "codemirror_mode": {
    "name": "ipython",
    "version": 3
   },
   "file_extension": ".py",
   "mimetype": "text/x-python",
   "name": "python",
   "nbconvert_exporter": "python",
   "pygments_lexer": "ipython3",
   "version": "3.8.5"
  }
 },
 "nbformat": 4,
 "nbformat_minor": 4
}
