{
 "cells": [
  {
   "cell_type": "markdown",
   "metadata": {},
   "source": [
    "## Questao1"
   ]
  },
  {
   "cell_type": "markdown",
   "metadata": {},
   "source": [
    "Uma empresa de market digital acredita que o tempo médio para um cliente responder a uma propaganda é maior do que 20 horas. Para analisar essa hipótese, são selecionados dados de 20 clientes, onde obtém-se os valores: 22,21,19,18,24,17,20,22,23,19,21,25,20,21,22,18,24,20,21,19. Suponha que o tempo de resposta tem distribuição normal com desvio padrão de 5 horas. Teste a seguinte hipótese ao nível de 5%:\n",
    "- H0:μ=20\n",
    "- H1:μ>20."
   ]
  },
  {
   "cell_type": "code",
   "execution_count": 3,
   "metadata": {},
   "outputs": [],
   "source": [
    "import numpy as np\n",
    "import matplotlib.pyplot as plt\n",
    "\n",
    "mu = 20 # hipotese a ser testada\n",
    "sigma = 5 # desvio padrao populacional\n",
    "n = 20 #tamanho da amostra\n",
    "Ns = 1000 # numero de simulacoes\n",
    "Xm=[] #distribuicao da media amostral\n",
    "for s in range(1,Ns):\n",
    "    x = np.random.normal(mu, sigma, n) # sorteia uma amostra de tamanho n\n",
    "    Xm.append(np.mean(x))"
   ]
  },
  {
   "cell_type": "code",
   "execution_count": 5,
   "metadata": {},
   "outputs": [
    {
     "name": "stdout",
     "output_type": "stream",
     "text": [
      "Xc= 21.82238468671677   Xobs =  20.8\n",
      "Aceitamos H0\n"
     ]
    }
   ],
   "source": [
    "X = [22,21,19,18,24,17,20,22,23,19,21,25,20,21,22,18,24,20,21,19]\n",
    "xobs = np.mean(X)\n",
    "\n",
    "alpha = 95  #100%-5%\n",
    "xc = np.percentile(Xm, alpha)\n",
    "print('Xc=',xc,'  Xobs = ', xobs)\n",
    "if(xobs < xc):\n",
    "    print(\"Aceitamos H0\")\n",
    "else:\n",
    "    print(\"Rejeitamos H0\")"
   ]
  },
  {
   "cell_type": "markdown",
   "metadata": {},
   "source": [
    "### Resposta:\n",
    "\n",
    "Como Xobs é menor que Xcritico aceitamos a hipótese nula "
   ]
  },
  {
   "cell_type": "code",
   "execution_count": null,
   "metadata": {},
   "outputs": [],
   "source": []
  }
 ],
 "metadata": {
  "kernelspec": {
   "display_name": "Python 3",
   "language": "python",
   "name": "python3"
  },
  "language_info": {
   "codemirror_mode": {
    "name": "ipython",
    "version": 3
   },
   "file_extension": ".py",
   "mimetype": "text/x-python",
   "name": "python",
   "nbconvert_exporter": "python",
   "pygments_lexer": "ipython3",
   "version": "3.8.5"
  }
 },
 "nbformat": 4,
 "nbformat_minor": 4
}
