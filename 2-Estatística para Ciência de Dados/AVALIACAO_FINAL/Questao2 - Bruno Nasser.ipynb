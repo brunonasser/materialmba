{
 "cells": [
  {
   "cell_type": "markdown",
   "metadata": {},
   "source": [
    "## Questao2"
   ]
  },
  {
   "cell_type": "markdown",
   "metadata": {},
   "source": [
    "Seja a variável aleatória com distribuição de probabilidade: P(X=0)=0,2; P(X=1)=0,1; P(X=2)=0,3; P(X = 4) = 0,4. Uma amostra com 100 observações é sorteada. Qual é a probabilidade de que a média amostral é maior do que 3? Calcule o valor teórico e compare com a simulação, conforme feito na aula."
   ]
  },
  {
   "cell_type": "markdown",
   "metadata": {},
   "source": [
    "### variancia e esperanca:"
   ]
  },
  {
   "cell_type": "code",
   "execution_count": 24,
   "metadata": {},
   "outputs": [
    {
     "name": "stdout",
     "output_type": "stream",
     "text": [
      "Esperança: 2.3 Variância: 2.410000000000001\n"
     ]
    }
   ],
   "source": [
    "def esperanca(X,P):\n",
    "    E = 0\n",
    "    for i in range(0, len(X)):\n",
    "        E = E + X[i]*P[i]\n",
    "    return E\n",
    "    \n",
    "def variancia(X,P):\n",
    "    E = 0; E2 = 0\n",
    "    for i in range(0, len(X)):\n",
    "        E = E + X[i]*P[i]\n",
    "        E2 = E2 + (X[i]**2)*P[i]\n",
    "    V = E2-E**2\n",
    "    return V\n",
    "    \n",
    "X = [0,1,2,4]\n",
    "P = [0.2,0.1,0.3,0.4]\n",
    "E = esperanca(X,P)\n",
    "V = variancia(X,P)\n",
    "print(\"Esperança:\", E, \"Variância:\",V)"
   ]
  },
  {
   "cell_type": "markdown",
   "metadata": {},
   "source": [
    "### valor teorico:"
   ]
  },
  {
   "cell_type": "code",
   "execution_count": 25,
   "metadata": {},
   "outputs": [
    {
     "name": "stdout",
     "output_type": "stream",
     "text": [
      "Probabilidade: 3.2552163833354797e-06\n"
     ]
    }
   ],
   "source": [
    "import scipy.stats as st\n",
    "import numpy as np\n",
    "\n",
    "mu = E\n",
    "sigma = np.sqrt(V)\n",
    "n = 100\n",
    "x = 3\n",
    "Z = (x - mu)/(sigma/np.sqrt(n))\n",
    "pt = 1-st.norm.cdf(Z)\n",
    "print('Probabilidade:',pt)"
   ]
  },
  {
   "cell_type": "markdown",
   "metadata": {},
   "source": [
    "### simulação:"
   ]
  },
  {
   "cell_type": "code",
   "execution_count": 29,
   "metadata": {},
   "outputs": [
    {
     "data": {
      "image/png": "[encoded data removed]",
      "text/plain": [
       "<Figure size 576x432 with 1 Axes>"
      ]
     },
     "metadata": {
      "needs_background": "light"
     },
     "output_type": "display_data"
    },
    {
     "name": "stdout",
     "output_type": "stream",
     "text": [
      "Media das amostras: 2.29846 Media da população: 2.3\n"
     ]
    }
   ],
   "source": [
    "import matplotlib.pyplot as plt\n",
    "\n",
    "n = 100\n",
    "ns = 1000 #numero de simulacoes\n",
    "vx = [] # armazena a media amostral\n",
    "for s in range(0,ns):\n",
    "    A = np.random.choice(X, n, p=P)\n",
    "    vx.append(np.mean(A))\n",
    "plt.figure(figsize=(8,6))\n",
    "plt.hist(x=vx, bins='auto',color='#0504aa', alpha=0.7, rwidth=0.85, density = True)\n",
    "plt.xlabel(r'$\\bar{X}$', fontsize=20)\n",
    "plt.ylabel(r'$P(\\bar{X})$', fontsize=20)\n",
    "plt.show(True)    \n",
    "print(\"Media das amostras:\", np.mean(vx), \"Media da população:\", E)"
   ]
  },
  {
   "cell_type": "markdown",
   "metadata": {},
   "source": [
    "pelo grafico temos que nenhum valor de media foi acima de 3 logo a probabilidade simulada vai ser zero"
   ]
  },
  {
   "cell_type": "code",
   "execution_count": 35,
   "metadata": {},
   "outputs": [
    {
     "data": {
      "text/plain": [
       "[]"
      ]
     },
     "execution_count": 35,
     "metadata": {},
     "output_type": "execute_result"
    }
   ],
   "source": [
    "#nenhum valor da media deu maior que 3\n",
    "[i for i in vx if i>3]"
   ]
  },
  {
   "cell_type": "code",
   "execution_count": 32,
   "metadata": {},
   "outputs": [
    {
     "name": "stdout",
     "output_type": "stream",
     "text": [
      "Probabilidade de ser maior do que 3: 0.0 Valor teórico: 3.2552163833354797e-06\n"
     ]
    }
   ],
   "source": [
    "nmaior = 0\n",
    "for i in range(0, len(vx)):\n",
    "    if(vx[i] > 3):\n",
    "        nmaior = nmaior + 1\n",
    "simulado = nmaior/len(vx)\n",
    "print(\"Probabilidade de ser maior do que 3:\", simulado, \"Valor teórico:\", pt)"
   ]
  },
  {
   "cell_type": "markdown",
   "metadata": {},
   "source": [
    "### Resposta valor teorico e simulado próximo de 0"
   ]
  }
 ],
 "metadata": {
  "kernelspec": {
   "display_name": "Python 3",
   "language": "python",
   "name": "python3"
  },
  "language_info": {
   "codemirror_mode": {
    "name": "ipython",
    "version": 3
   },
   "file_extension": ".py",
   "mimetype": "text/x-python",
   "name": "python",
   "nbconvert_exporter": "python",
   "pygments_lexer": "ipython3",
   "version": "3.8.5"
  }
 },
 "nbformat": 4,
 "nbformat_minor": 4
}
