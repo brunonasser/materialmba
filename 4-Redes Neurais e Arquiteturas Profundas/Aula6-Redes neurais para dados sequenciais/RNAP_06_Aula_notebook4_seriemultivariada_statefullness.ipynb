{
 "cells": [
  {
   "cell_type": "markdown",
   "metadata": {
    "id": "fvaEK6Bn-wwG"
   },
   "source": [
    "## MBA em Ciência de Dados\n",
    "# Redes Neurais e Arquiteturas Profundas\n",
    "\n",
    "### <span style=\"color:darkred\">Módulo 6 - Redes neurais para dados sequenciais</span>\n",
    "\n",
    "#### Material complementar:  <span style=\"color:darkred\">**Séries Multivariadas e Statefulness**</span>\n",
    "\n",
    "Moacir Antonelli Ponti\n",
    "\n",
    "CeMEAI - ICMC/USP São Carlos\n",
    "\n",
    "---\n",
    "\n",
    "Utilizaremos a base de dados 3W (Petrobrás) que possui séries multivariadas medidas em poços de petróleo"
   ]
  },
  {
   "cell_type": "code",
   "execution_count": null,
   "metadata": {
    "id": "wvtQgvYq_z7v"
   },
   "outputs": [],
   "source": [
    "import numpy as np\n",
    "from pandas import read_csv\n",
    "import pandas as pd\n",
    "\n",
    "import matplotlib.pyplot as plt\n",
    "import tensorflow as tf\n",
    "from tensorflow import keras\n",
    "\n",
    "from numpy.random import seed\n",
    "from tensorflow.random import set_seed\n",
    "\n",
    "from sklearn.metrics import mean_squared_error\n",
    "from math import sqrt\n",
    "\n",
    "# outros \n",
    "df1 = pd.read_csv(\"data/WELL-00001_20140124213136.csv\")\n",
    "df1.dropna(subset=['class'], inplace = True)"
   ]
  },
  {
   "cell_type": "code",
   "execution_count": 2,
   "metadata": {},
   "outputs": [],
   "source": [
    "series = np.array(df1.iloc[:,2:6])"
   ]
  },
  {
   "cell_type": "code",
   "execution_count": 3,
   "metadata": {
    "colab": {
     "base_uri": "https://localhost:8080/",
     "height": 304
    },
    "id": "KgO7dF4s9D7X",
    "outputId": "cab7acb3-61d1-4736-de0e-57a52957ed9d"
   },
   "outputs": [
    {
     "name": "stdout",
     "output_type": "stream",
     "text": [
      "Tamanho da série:  12440\n"
     ]
    }
   ],
   "source": [
    "N = series.shape[0]\n",
    "print(\"Tamanho da série: \", N)"
   ]
  },
  {
   "cell_type": "markdown",
   "metadata": {
    "id": "lWWx5HaQhh-a"
   },
   "source": [
    "## Parte 1: Preparando os dados\n",
    "\n",
    "1. **Separação em treinamento e teste**: o treinamento sempre deve vir antes do teste no caso de dados sequenciais\n",
    "2. **Normalização**: aqui utilizaremos a normalização Min-Max para 0-1\n",
    "3. **Inserção de ruído opcional**: no treinamento e teste para avaliação da robustez dos modelos\n",
    "4. **Formulação como aprendizado supervisionado**: adequando os arrays de forma a permitir uso nas redes neurais"
   ]
  },
  {
   "cell_type": "code",
   "execution_count": 4,
   "metadata": {},
   "outputs": [],
   "source": [
    "# variaveis que definem divisao em treinamento e teste e controlam adição de ruído\n",
    "porc_treinamento = 32\n",
    "inserir_ruido_serie = False\n",
    "inserir_ruido_teste = False\n",
    "porc_ruido = 1"
   ]
  },
  {
   "cell_type": "code",
   "execution_count": 5,
   "metadata": {},
   "outputs": [
    {
     "name": "stdout",
     "output_type": "stream",
     "text": [
      "Exemplos de Treinamento:  3980\n",
      "Exemplos de Teste:  8461\n"
     ]
    }
   ],
   "source": [
    "# calcula tamanhos dos dados de treinamento (n_train) e teste (n_test)\n",
    "n_train = int(len(series)*(porc_treinamento/100.0))\n",
    "n_test = len(series)-n_train+1\n",
    "\n",
    "train_x = series[:n_train]\n",
    "test_x = series[n_train-1:]\n",
    "\n",
    "train_x_norm = np.zeros(train_x.shape)\n",
    "test_x_norm = np.zeros(test_x.shape)\n",
    "\n",
    "for i in range(series.shape[1]):\n",
    "    vmin = train_x[:,i].min()\n",
    "    vmax = train_x[:,i].max()\n",
    "    train_x_norm[:,i] = (train_x[:,i] - vmin)/(vmax - vmin)\n",
    "    test_x_norm[:,i] = (test_x[:,i] - vmin)/(vmax - vmin)\n",
    "\n",
    "print(\"Exemplos de Treinamento: \", n_train)\n",
    "print(\"Exemplos de Teste: \", n_test)"
   ]
  },
  {
   "cell_type": "code",
   "execution_count": 6,
   "metadata": {
    "colab": {
     "base_uri": "https://localhost:8080/",
     "height": 321
    },
    "id": "H1HLKlEHNvY7",
    "outputId": "205535d1-d5df-465a-a448-1abab0197d2b",
    "scrolled": true
   },
   "outputs": [],
   "source": [
    "seed(1)\n",
    "set_seed(1)\n",
    "\n",
    "# insere ruido na serie\n",
    "if (inserir_ruido_serie):\n",
    "    train_x_norm = train_x_norm + np.random.randn(n_train)*(porc_ruido/100.0)\n",
    "\n",
    "# insere ruido apenas no teste\n",
    "if (inserir_ruido_teste):\n",
    "    test_x_norm = test_x_norm + np.random.randn(n_test)*(porc_ruido/100.0)"
   ]
  },
  {
   "cell_type": "markdown",
   "metadata": {
    "id": "tkAi1yZVBnRN"
   },
   "source": [
    "## Parte 2: problema regressão com entrada multivariada\n",
    "\n",
    "Vamos usar as séries 1, 2 e 3 para prever a série 0."
   ]
  },
  {
   "cell_type": "code",
   "execution_count": 7,
   "metadata": {},
   "outputs": [],
   "source": [
    "train_y_norm = np.array(train_x_norm[:,0], copy=True)\n",
    "test_y_norm = np.array(test_x_norm[:,0], copy=True)\n",
    "\n",
    "train_x_norm = np.delete(train_x_norm, 0, 1)\n",
    "test_x_norm = np.delete(test_x_norm, 0, 1)"
   ]
  },
  {
   "cell_type": "code",
   "execution_count": 8,
   "metadata": {
    "scrolled": true
   },
   "outputs": [
    {
     "data": {
      "text/plain": [
       "<matplotlib.legend.Legend at 0x7f4285cbbac0>"
      ]
     },
     "execution_count": 8,
     "metadata": {},
     "output_type": "execute_result"
    },
    {
     "data": {
      "image/png": "[encoded data removed]",
      "text/plain": [
       "<Figure size 432x288 with 1 Axes>"
      ]
     },
     "metadata": {
      "needs_background": "light"
     },
     "output_type": "display_data"
    }
   ],
   "source": [
    "for i in range(train_x_norm.shape[1]):\n",
    "    plt.plot(np.arange(0, n_train), train_x_norm[:,i], label=str(i))\n",
    "    plt.plot(np.arange(n_train,n_train+n_test), test_x_norm[:,i])\n",
    "\n",
    "plt.plot(np.arange(0, n_train), train_y_norm, label='target')\n",
    "plt.plot(np.arange(n_train,n_train+n_test), test_y_norm)\n",
    "ax = plt.title('Série preparada para os experimentos')\n",
    "plt.legend()"
   ]
  },
  {
   "cell_type": "code",
   "execution_count": 9,
   "metadata": {},
   "outputs": [
    {
     "data": {
      "text/plain": [
       "array([[ 9.82935154e-01,  0.00000000e+00,  1.00000000e+00],\n",
       "       [ 9.82721843e-01, -1.37516098e-04,  1.00037578e+00],\n",
       "       [ 9.82508532e-01, -2.75032196e-04,  1.00074460e+00],\n",
       "       [ 9.82081911e-01, -4.13552061e-04,  1.00112037e+00]])"
      ]
     },
     "execution_count": 9,
     "metadata": {},
     "output_type": "execute_result"
    }
   ],
   "source": [
    "test_x_norm[:4]"
   ]
  },
  {
   "cell_type": "code",
   "execution_count": 10,
   "metadata": {},
   "outputs": [
    {
     "data": {
      "text/plain": [
       "array([ 0.        , -0.00035237, -0.00070473, -0.0010571 ])"
      ]
     },
     "execution_count": 10,
     "metadata": {},
     "output_type": "execute_result"
    }
   ],
   "source": [
    "test_y_norm[:4]"
   ]
  },
  {
   "cell_type": "code",
   "execution_count": 11,
   "metadata": {},
   "outputs": [],
   "source": [
    "# formato deve ser [samples, time steps, features]\n",
    "def recurrent_array(data, target, time_steps=1):\n",
    "    \n",
    "    array_in = np.array(np.reshape(data, (-1, data.shape[1])), copy=True)\n",
    "    array_out= np.array(np.reshape(target, (-1, 1)), copy=True)\n",
    "    \n",
    "    train_y_ts = array_out[time_steps:]\n",
    "    train_x_ts = []\n",
    "    for i in range(0, len(array_in) - time_steps):\n",
    "        train_x_ts.append(array_in[i:i+time_steps])\n",
    "        \n",
    "    train_x_ts = np.array(train_x_ts)\n",
    "    \n",
    "    #rec_array = np.reshape(array, (array.shape[0], time_steps, array.shape[1]))\n",
    "    return train_x_ts, train_y_ts"
   ]
  },
  {
   "cell_type": "code",
   "execution_count": 12,
   "metadata": {
    "colab": {
     "base_uri": "https://localhost:8080/",
     "height": 165
    },
    "id": "VqKwoFi3PbeL",
    "outputId": "ebef5dbc-7ed4-4e73-8a83-bf94d5dc3992"
   },
   "outputs": [],
   "source": [
    "time_steps = 2\n",
    "\n",
    "train_x_rec, train_y_rec = recurrent_array(train_x_norm, train_y_norm, time_steps=time_steps)\n",
    "test_x_rec, test_y_rec = recurrent_array(test_x_norm, test_y_norm, time_steps=time_steps)"
   ]
  },
  {
   "cell_type": "code",
   "execution_count": 13,
   "metadata": {},
   "outputs": [
    {
     "name": "stdout",
     "output_type": "stream",
     "text": [
      "Dados de treinamento para rede recorrente\n",
      "Tamanho dos arrays de teste x e y\n",
      "(3978, 2, 3)\n",
      "(3978, 1)\n",
      "\n",
      "Primeiros 5 elementos de teste x e y\n",
      "[[[ 9.82935154e-01  0.00000000e+00  1.00000000e+00]\n",
      "  [ 9.82721843e-01 -1.37516098e-04  1.00037578e+00]]\n",
      "\n",
      " [[ 9.82721843e-01 -1.37516098e-04  1.00037578e+00]\n",
      "  [ 9.82508532e-01 -2.75032196e-04  1.00074460e+00]]\n",
      "\n",
      " [[ 9.82508532e-01 -2.75032196e-04  1.00074460e+00]\n",
      "  [ 9.82081911e-01 -4.13552061e-04  1.00112037e+00]]\n",
      "\n",
      " [[ 9.82081911e-01 -4.13552061e-04  1.00112037e+00]\n",
      "  [ 9.81868601e-01 -5.51068159e-04  1.00149615e+00]]\n",
      "\n",
      " [[ 9.81868601e-01 -5.51068159e-04  1.00149615e+00]\n",
      "  [ 9.81655290e-01 -6.88584257e-04  1.00187193e+00]]]\n",
      "[[-0.00070473]\n",
      " [-0.0010571 ]\n",
      " [-0.00140947]\n",
      " [-0.00176183]\n",
      " [-0.0021142 ]]\n",
      "\n",
      "Número de features: 3\n"
     ]
    }
   ],
   "source": [
    "print('Dados de treinamento para rede recorrente')\n",
    "print('Tamanho dos arrays de teste x e y')\n",
    "print(train_x_rec.shape)\n",
    "print(train_y_rec.shape)\n",
    "\n",
    "print('\\nPrimeiros 5 elementos de teste x e y')\n",
    "print(test_x_rec[:5])\n",
    "print(test_y_rec[:5])\n",
    "\n",
    "no_features = train_x_rec.shape[2]\n",
    "print('\\nNúmero de features:', no_features)"
   ]
  },
  {
   "cell_type": "markdown",
   "metadata": {
    "id": "5dGpbKZKI5oZ"
   },
   "source": [
    "#### Rede com unidades LSTM"
   ]
  },
  {
   "cell_type": "code",
   "execution_count": 15,
   "metadata": {
    "colab": {
     "base_uri": "https://localhost:8080/",
     "height": 276
    },
    "id": "kWGmUwwqH3Tq",
    "outputId": "02439c3c-9977-434e-f5df-c75f29fd633a"
   },
   "outputs": [
    {
     "name": "stdout",
     "output_type": "stream",
     "text": [
      "WARNING:tensorflow:Layer lstm_2 will not use cuDNN kernels since it doesn't meet the criteria. It will use a generic GPU kernel as fallback when running on GPU.\n",
      "WARNING:tensorflow:Layer lstm_3 will not use cuDNN kernels since it doesn't meet the criteria. It will use a generic GPU kernel as fallback when running on GPU.\n",
      "Model: \"sequential_1\"\n",
      "_________________________________________________________________\n",
      "Layer (type)                 Output Shape              Param #   \n",
      "=================================================================\n",
      "lstm_2 (LSTM)                (None, None, 16)          1280      \n",
      "_________________________________________________________________\n",
      "lstm_3 (LSTM)                (None, 32)                6272      \n",
      "_________________________________________________________________\n",
      "dropout_1 (Dropout)          (None, 32)                0         \n",
      "_________________________________________________________________\n",
      "dense_1 (Dense)              (None, 1)                 33        \n",
      "=================================================================\n",
      "Total params: 7,585\n",
      "Trainable params: 7,585\n",
      "Non-trainable params: 0\n",
      "_________________________________________________________________\n"
     ]
    }
   ],
   "source": [
    "seed(1)\n",
    "set_seed(1)\n",
    "\n",
    "modelLSTM = keras.models.Sequential()\n",
    "modelLSTM.add(keras.layers.InputLayer((None, no_features)))\n",
    "modelLSTM.add(keras.layers.LSTM(16, return_sequences=True, stateful=False, \n",
    "                                activation='gelu')) # 32\n",
    "modelLSTM.add(keras.layers.LSTM(32, stateful=False, activation='gelu'))\n",
    "modelLSTM.add(keras.layers.Dropout(0.2))\n",
    "modelLSTM.add(keras.layers.Dense(1, activation='linear'))\n",
    "modelLSTM.summary()"
   ]
  },
  {
   "cell_type": "code",
   "execution_count": 17,
   "metadata": {
    "id": "u7kS_G-yT4_z",
    "scrolled": true
   },
   "outputs": [
    {
     "name": "stdout",
     "output_type": "stream",
     "text": [
      "Época 0000 - learning rate 0.00010000\n",
      "Época 0005 - learning rate 0.00009901\n",
      "Época 0010 - learning rate 0.00009418\n",
      "Época 0015 - learning rate 0.00008958\n",
      "Época 0020 - learning rate 0.00008521\n"
     ]
    }
   ],
   "source": [
    "epochs = 25\n",
    "batch_size = 6 \n",
    "\n",
    "# decaimento de learning rate\n",
    "def scheduler(epoch, lr):\n",
    "    if (epoch % 5 == 0): print(\"Época %04d - learning rate %.8f\" % (epoch, lr))\n",
    "    if (epoch+1 < 5):\n",
    "        return lr\n",
    "    else:\n",
    "        return np.round(lr * tf.math.exp(-0.01),9)\n",
    "\n",
    "callbacklr = tf.keras.callbacks.LearningRateScheduler(scheduler)\n",
    "\n",
    "# compilacao e treinamento\n",
    "modelLSTM.compile(loss='mean_squared_error', \n",
    "            optimizer=keras.optimizers.Adam(learning_rate=0.0001),\n",
    "            metrics=['mae'])\n",
    "\n",
    "# importante aqui\n",
    "histLSTM = modelLSTM.fit(train_x_rec, train_y_rec,  \n",
    "                  batch_size=batch_size, epochs=epochs,\n",
    "                  callbacks=[callbacklr], shuffle=False,\n",
    "                  verbose=0)"
   ]
  },
  {
   "cell_type": "code",
   "execution_count": 18,
   "metadata": {},
   "outputs": [
    {
     "name": "stdout",
     "output_type": "stream",
     "text": [
      "Scores treinamento\n",
      "MSE: 0.0020\n",
      "MAE: 0.0314\n"
     ]
    },
    {
     "data": {
      "image/png": "[encoded data removed]",
      "text/plain": [
       "<Figure size 432x288 with 1 Axes>"
      ]
     },
     "metadata": {
      "needs_background": "light"
     },
     "output_type": "display_data"
    }
   ],
   "source": [
    "scores = modelLSTM.evaluate(train_x_rec, train_y_rec, verbose=0)\n",
    "print('Scores treinamento')\n",
    "print('MSE: %.4f' % (scores[0]))\n",
    "print('MAE: %.4f' % (scores[1]))\n",
    "\n",
    "plt.plot(histLSTM.history['loss'])\n",
    "ax = plt.title('Convergencia de treinamento LSTM')"
   ]
  },
  {
   "cell_type": "code",
   "execution_count": 75,
   "metadata": {},
   "outputs": [
    {
     "name": "stdout",
     "output_type": "stream",
     "text": [
      "Scores test\n",
      "MSE: 0.0060\n",
      "MAE: 0.0696\n"
     ]
    }
   ],
   "source": [
    "scoresT = modelLSTM.evaluate(test_x_rec, test_y_rec, verbose=0)\n",
    "print('Scores test')\n",
    "print('MSE: %.4f' % (scoresT[0]))\n",
    "print('MAE: %.4f' % (scoresT[1]))"
   ]
  },
  {
   "cell_type": "code",
   "execution_count": 19,
   "metadata": {
    "id": "zYYzkppkeAnb"
   },
   "outputs": [],
   "source": [
    "# realiza predicoes com os dados de treinamento e teste\n",
    "train_y_predL = modelLSTM.predict(train_x_rec)\n",
    "train_y_predL = np.reshape(train_y_predL, (-1, 1))[time_steps:]\n",
    "\n",
    "test_y_predL = modelLSTM.predict(test_x_rec)\n",
    "test_y_predL = np.reshape(test_y_predL, (-1, 1))[time_steps:]"
   ]
  },
  {
   "cell_type": "code",
   "execution_count": 20,
   "metadata": {
    "colab": {
     "base_uri": "https://localhost:8080/",
     "height": 284
    },
    "id": "NkY3bse8KaH8",
    "outputId": "44a7e5cc-c4e1-4f52-d145-d892b4ab581e"
   },
   "outputs": [
    {
     "data": {
      "image/png": "[encoded data removed]",
      "text/plain": [
       "<Figure size 648x432 with 1 Axes>"
      ]
     },
     "metadata": {
      "needs_background": "light"
     },
     "output_type": "display_data"
    }
   ],
   "source": [
    "fig = plt.figure(figsize=(9,6))\n",
    "plt.plot(np.arange(time_steps, len(test_y_predL)+time_steps), \n",
    "         test_y_predL, label='pred test')\n",
    "plt.plot(test_y_norm, '--', label='test')\n",
    "plt.legend()\n",
    "axt = plt.title('Training + Testing')\n",
    "plt.show()"
   ]
  },
  {
   "cell_type": "markdown",
   "metadata": {
    "id": "lRiqHHRW6DOq"
   },
   "source": [
    "## Parte 3: Statefullness\n",
    "\n",
    "Ao considerar uma unidade recorrente como \"*stateful*\" estamos indicando que cada seleção de batch é a continuação da anterior.\n",
    "\n",
    "Isso só é possível se usarmos batches sequenciais e sem embaralhamento (shuffle) por isso a recomendação anterior de usar batchsize 1 para predição do próximo instante de tempo.\n",
    "\n",
    "O *stateful* também permite que a LSTM mantenha a memória mesmo quando usamos time_step=1, desde que os batches sejam sequenciais, de forma que cada posição do batch na iteração $j$ é uma continuação da mesma posição do batch $j-1$\n",
    "\n",
    "Além disso:\n",
    "* é preciso especificar na própria arquitetura o batch size \n",
    "* o batch_size tem que ser divisível pelo total de exemplos de treinamento para não haver sobras no final da época\n",
    "* LayerNormalization passa a ser necessário para evitar problemas com a magnitude do gradiente. Ao retirá-lo obtemos `nan` como valor de custo após algumas épocas"
   ]
  },
  {
   "cell_type": "code",
   "execution_count": 219,
   "metadata": {},
   "outputs": [
    {
     "name": "stdout",
     "output_type": "stream",
     "text": [
      "3978\n",
      "1989.0\n"
     ]
    }
   ],
   "source": [
    "print(train_x_rec.shape[0])\n",
    "batch_size = 2\n",
    "print(train_x_rec.shape[0]/batch_size)"
   ]
  },
  {
   "cell_type": "code",
   "execution_count": 221,
   "metadata": {
    "colab": {
     "base_uri": "https://localhost:8080/",
     "height": 276
    },
    "id": "6dqW-ikP6Db6",
    "outputId": "946f8853-e701-4da7-b722-481e5c1a75f6"
   },
   "outputs": [
    {
     "name": "stdout",
     "output_type": "stream",
     "text": [
      "Model: \"sequential_51\"\n",
      "_________________________________________________________________\n",
      "Layer (type)                 Output Shape              Param #   \n",
      "=================================================================\n",
      "lstm_101 (LSTM)              (2, 2, 16)                1280      \n",
      "_________________________________________________________________\n",
      "activation_51 (Activation)   (2, 2, 16)                0         \n",
      "_________________________________________________________________\n",
      "lstm_102 (LSTM)              (2, 32)                   6272      \n",
      "_________________________________________________________________\n",
      "layer_normalization_42 (Laye (2, 32)                   64        \n",
      "_________________________________________________________________\n",
      "activation_52 (Activation)   (2, 32)                   0         \n",
      "_________________________________________________________________\n",
      "dropout_34 (Dropout)         (2, 32)                   0         \n",
      "_________________________________________________________________\n",
      "dense_51 (Dense)             (2, 1)                    33        \n",
      "=================================================================\n",
      "Total params: 7,649\n",
      "Trainable params: 7,649\n",
      "Non-trainable params: 0\n",
      "_________________________________________________________________\n"
     ]
    }
   ],
   "source": [
    "no_features = 3\n",
    "\n",
    "seed(1)\n",
    "set_seed(1)\n",
    "\n",
    "modelLSTMs = keras.models.Sequential()\n",
    "# notar a especificacao da entrada\n",
    "modelLSTMs.add(keras.layers.InputLayer(\n",
    "    batch_input_shape=(batch_size, train_x_rec.shape[1], train_x_rec.shape[2])))\n",
    "modelLSTMs.add(keras.layers.LSTM(16, return_sequences=True, stateful=True))\n",
    "modelLSTMs.add(keras.layers.Activation('gelu'))\n",
    "modelLSTMs.add(keras.layers.LSTM(32, stateful=True))\n",
    "modelLSTMs.add(keras.layers.LayerNormalization())\n",
    "modelLSTMs.add(keras.layers.Activation('gelu'))\n",
    "modelLSTMs.add(keras.layers.Dropout(0.5))\n",
    "modelLSTMs.add(keras.layers.Dense(1, activation='linear'))\n",
    "modelLSTMs.summary()"
   ]
  },
  {
   "cell_type": "markdown",
   "metadata": {},
   "source": [
    "Nesse tipo de modelo, é mais indicado resetar os estados das unidades LSTM a cada época.\n",
    "- caso queiramos fazer decrescer o learning rate, então também é preciso re-compilar o modelo com o valor a cada época"
   ]
  },
  {
   "cell_type": "code",
   "execution_count": 222,
   "metadata": {
    "id": "2BYxFsqC6Ig2"
   },
   "outputs": [
    {
     "name": "stdout",
     "output_type": "stream",
     "text": [
      "Época 0000 - learning rate 0.00005000\n",
      "1989/1989 [==============================] - 9s 4ms/step - loss: 0.1090 - mae: 0.2308\n",
      "1989/1989 [==============================] - 9s 4ms/step - loss: 0.0544 - mae: 0.1499\n",
      "1989/1989 [==============================] - 9s 4ms/step - loss: 0.0249 - mae: 0.1074\n",
      "1989/1989 [==============================] - 9s 4ms/step - loss: 0.0187 - mae: 0.0942\n",
      "1989/1989 [==============================] - 9s 4ms/step - loss: 0.0161 - mae: 0.0874\n",
      "Época 0005 - learning rate 0.00004950\n",
      "1989/1989 [==============================] - 10s 4ms/step - loss: 0.0147 - mae: 0.0833\n",
      "1989/1989 [==============================] - 10s 4ms/step - loss: 0.0138 - mae: 0.0804\n",
      "1989/1989 [==============================] - 12s 4ms/step - loss: 0.0131 - mae: 0.0780\n",
      "1989/1989 [==============================] - 11s 4ms/step - loss: 0.0126 - mae: 0.0760\n",
      "1989/1989 [==============================] - 10s 4ms/step - loss: 0.0121 - mae: 0.0742\n",
      "Época 0010 - learning rate 0.00004709\n",
      "1989/1989 [==============================] - 10s 4ms/step - loss: 0.0116 - mae: 0.0726\n",
      "1989/1989 [==============================] - 10s 4ms/step - loss: 0.0112 - mae: 0.0711\n",
      "1989/1989 [==============================] - 11s 4ms/step - loss: 0.0108 - mae: 0.0697\n",
      "1989/1989 [==============================] - 11s 4ms/step - loss: 0.0105 - mae: 0.0684\n",
      "1989/1989 [==============================] - 11s 4ms/step - loss: 0.0101 - mae: 0.0673\n"
     ]
    }
   ],
   "source": [
    "epochs = 15\n",
    "\n",
    "# compilacao e treinamento\n",
    "lr = 0.00005\n",
    "histLSTMs = []\n",
    "for i in range(epochs):\n",
    "    lr = scheduler(i, lr)\n",
    "    modelLSTMs.compile(loss='mean_squared_error', \n",
    "            optimizer=keras.optimizers.Adam(learning_rate=lr),\n",
    "            metrics=['mae'])\n",
    "    hist = modelLSTMs.fit(train_x_rec, train_y_rec,  \n",
    "                  batch_size=batch_size, epochs=1,\n",
    "                  shuffle=False,\n",
    "                  verbose=1)\n",
    "    modelLSTMs.reset_states()\n",
    "    \n",
    "    histLSTMs.append(hist.history['loss'])"
   ]
  },
  {
   "cell_type": "code",
   "execution_count": 223,
   "metadata": {},
   "outputs": [
    {
     "name": "stdout",
     "output_type": "stream",
     "text": [
      "Scores treinamento\n",
      "MSE: 0.0055\n",
      "MAE: 0.0580\n"
     ]
    }
   ],
   "source": [
    "scores = modelLSTMs.evaluate(train_x_rec, train_y_rec, batch_size=batch_size, verbose=0)\n",
    "print('Scores treinamento')\n",
    "print('MSE: %.4f' % (scores[0]))\n",
    "print('MAE: %.4f' % (scores[1]))"
   ]
  },
  {
   "cell_type": "code",
   "execution_count": 171,
   "metadata": {},
   "outputs": [
    {
     "ename": "ValueError",
     "evalue": "in user code:\n\n    /home/maponti/.virtualenvs/rn21/lib/python3.9/site-packages/tensorflow/python/keras/engine/training.py:1323 test_function  *\n        return step_function(self, iterator)\n    /home/maponti/.virtualenvs/rn21/lib/python3.9/site-packages/tensorflow/python/keras/engine/training.py:1314 step_function  **\n        outputs = model.distribute_strategy.run(run_step, args=(data,))\n    /home/maponti/.virtualenvs/rn21/lib/python3.9/site-packages/tensorflow/python/distribute/distribute_lib.py:1285 run\n        return self._extended.call_for_each_replica(fn, args=args, kwargs=kwargs)\n    /home/maponti/.virtualenvs/rn21/lib/python3.9/site-packages/tensorflow/python/distribute/distribute_lib.py:2833 call_for_each_replica\n        return self._call_for_each_replica(fn, args, kwargs)\n    /home/maponti/.virtualenvs/rn21/lib/python3.9/site-packages/tensorflow/python/distribute/distribute_lib.py:3608 _call_for_each_replica\n        return fn(*args, **kwargs)\n    /home/maponti/.virtualenvs/rn21/lib/python3.9/site-packages/tensorflow/python/keras/engine/training.py:1307 run_step  **\n        outputs = model.test_step(data)\n    /home/maponti/.virtualenvs/rn21/lib/python3.9/site-packages/tensorflow/python/keras/engine/training.py:1266 test_step\n        y_pred = self(x, training=False)\n    /home/maponti/.virtualenvs/rn21/lib/python3.9/site-packages/tensorflow/python/keras/engine/base_layer.py:1013 __call__\n        input_spec.assert_input_compatibility(self.input_spec, inputs, self.name)\n    /home/maponti/.virtualenvs/rn21/lib/python3.9/site-packages/tensorflow/python/keras/engine/input_spec.py:267 assert_input_compatibility\n        raise ValueError('Input ' + str(input_index) +\n\n    ValueError: Input 0 is incompatible with layer sequential_38: expected shape=(2, None, 3), found shape=(1, 2, 3)\n",
     "output_type": "error",
     "traceback": [
      "\u001b[0;31m---------------------------------------------------------------------------\u001b[0m",
      "\u001b[0;31mValueError\u001b[0m                                Traceback (most recent call last)",
      "\u001b[0;32m/tmp/ipykernel_8182/1920214932.py\u001b[0m in \u001b[0;36m<module>\u001b[0;34m\u001b[0m\n\u001b[0;32m----> 1\u001b[0;31m \u001b[0mscoresT\u001b[0m \u001b[0;34m=\u001b[0m \u001b[0mmodelLSTMs\u001b[0m\u001b[0;34m.\u001b[0m\u001b[0mevaluate\u001b[0m\u001b[0;34m(\u001b[0m\u001b[0mtest_x_rec\u001b[0m\u001b[0;34m,\u001b[0m \u001b[0mtest_y_rec\u001b[0m\u001b[0;34m,\u001b[0m \u001b[0mbatch_size\u001b[0m\u001b[0;34m=\u001b[0m\u001b[0mnew_batch_size\u001b[0m\u001b[0;34m,\u001b[0m \u001b[0mverbose\u001b[0m\u001b[0;34m=\u001b[0m\u001b[0;36m0\u001b[0m\u001b[0;34m)\u001b[0m\u001b[0;34m\u001b[0m\u001b[0;34m\u001b[0m\u001b[0m\n\u001b[0m\u001b[1;32m      2\u001b[0m \u001b[0mprint\u001b[0m\u001b[0;34m(\u001b[0m\u001b[0;34m'Scores test'\u001b[0m\u001b[0;34m)\u001b[0m\u001b[0;34m\u001b[0m\u001b[0;34m\u001b[0m\u001b[0m\n\u001b[1;32m      3\u001b[0m \u001b[0mprint\u001b[0m\u001b[0;34m(\u001b[0m\u001b[0;34m'MSE: %.4f'\u001b[0m \u001b[0;34m%\u001b[0m \u001b[0;34m(\u001b[0m\u001b[0mscoresT\u001b[0m\u001b[0;34m[\u001b[0m\u001b[0;36m0\u001b[0m\u001b[0;34m]\u001b[0m\u001b[0;34m)\u001b[0m\u001b[0;34m)\u001b[0m\u001b[0;34m\u001b[0m\u001b[0;34m\u001b[0m\u001b[0m\n\u001b[1;32m      4\u001b[0m \u001b[0mprint\u001b[0m\u001b[0;34m(\u001b[0m\u001b[0;34m'MAE: %.4f'\u001b[0m \u001b[0;34m%\u001b[0m \u001b[0;34m(\u001b[0m\u001b[0mscoresT\u001b[0m\u001b[0;34m[\u001b[0m\u001b[0;36m1\u001b[0m\u001b[0;34m]\u001b[0m\u001b[0;34m)\u001b[0m\u001b[0;34m)\u001b[0m\u001b[0;34m\u001b[0m\u001b[0;34m\u001b[0m\u001b[0m\n",
      "\u001b[0;32m~/.virtualenvs/rn21/lib/python3.9/site-packages/tensorflow/python/keras/engine/training.py\u001b[0m in \u001b[0;36mevaluate\u001b[0;34m(self, x, y, batch_size, verbose, sample_weight, steps, callbacks, max_queue_size, workers, use_multiprocessing, return_dict, **kwargs)\u001b[0m\n\u001b[1;32m   1487\u001b[0m             \u001b[0;32mwith\u001b[0m \u001b[0mtrace\u001b[0m\u001b[0;34m.\u001b[0m\u001b[0mTrace\u001b[0m\u001b[0;34m(\u001b[0m\u001b[0;34m'test'\u001b[0m\u001b[0;34m,\u001b[0m \u001b[0mstep_num\u001b[0m\u001b[0;34m=\u001b[0m\u001b[0mstep\u001b[0m\u001b[0;34m,\u001b[0m \u001b[0m_r\u001b[0m\u001b[0;34m=\u001b[0m\u001b[0;36m1\u001b[0m\u001b[0;34m)\u001b[0m\u001b[0;34m:\u001b[0m\u001b[0;34m\u001b[0m\u001b[0;34m\u001b[0m\u001b[0m\n\u001b[1;32m   1488\u001b[0m               \u001b[0mcallbacks\u001b[0m\u001b[0;34m.\u001b[0m\u001b[0mon_test_batch_begin\u001b[0m\u001b[0;34m(\u001b[0m\u001b[0mstep\u001b[0m\u001b[0;34m)\u001b[0m\u001b[0;34m\u001b[0m\u001b[0;34m\u001b[0m\u001b[0m\n\u001b[0;32m-> 1489\u001b[0;31m               \u001b[0mtmp_logs\u001b[0m \u001b[0;34m=\u001b[0m \u001b[0mself\u001b[0m\u001b[0;34m.\u001b[0m\u001b[0mtest_function\u001b[0m\u001b[0;34m(\u001b[0m\u001b[0miterator\u001b[0m\u001b[0;34m)\u001b[0m\u001b[0;34m\u001b[0m\u001b[0;34m\u001b[0m\u001b[0m\n\u001b[0m\u001b[1;32m   1490\u001b[0m               \u001b[0;32mif\u001b[0m \u001b[0mdata_handler\u001b[0m\u001b[0;34m.\u001b[0m\u001b[0mshould_sync\u001b[0m\u001b[0;34m:\u001b[0m\u001b[0;34m\u001b[0m\u001b[0;34m\u001b[0m\u001b[0m\n\u001b[1;32m   1491\u001b[0m                 \u001b[0mcontext\u001b[0m\u001b[0;34m.\u001b[0m\u001b[0masync_wait\u001b[0m\u001b[0;34m(\u001b[0m\u001b[0;34m)\u001b[0m\u001b[0;34m\u001b[0m\u001b[0;34m\u001b[0m\u001b[0m\n",
      "\u001b[0;32m~/.virtualenvs/rn21/lib/python3.9/site-packages/tensorflow/python/eager/def_function.py\u001b[0m in \u001b[0;36m__call__\u001b[0;34m(self, *args, **kwds)\u001b[0m\n\u001b[1;32m    887\u001b[0m \u001b[0;34m\u001b[0m\u001b[0m\n\u001b[1;32m    888\u001b[0m       \u001b[0;32mwith\u001b[0m \u001b[0mOptionalXlaContext\u001b[0m\u001b[0;34m(\u001b[0m\u001b[0mself\u001b[0m\u001b[0;34m.\u001b[0m\u001b[0m_jit_compile\u001b[0m\u001b[0;34m)\u001b[0m\u001b[0;34m:\u001b[0m\u001b[0;34m\u001b[0m\u001b[0;34m\u001b[0m\u001b[0m\n\u001b[0;32m--> 889\u001b[0;31m         \u001b[0mresult\u001b[0m \u001b[0;34m=\u001b[0m \u001b[0mself\u001b[0m\u001b[0;34m.\u001b[0m\u001b[0m_call\u001b[0m\u001b[0;34m(\u001b[0m\u001b[0;34m*\u001b[0m\u001b[0margs\u001b[0m\u001b[0;34m,\u001b[0m \u001b[0;34m**\u001b[0m\u001b[0mkwds\u001b[0m\u001b[0;34m)\u001b[0m\u001b[0;34m\u001b[0m\u001b[0;34m\u001b[0m\u001b[0m\n\u001b[0m\u001b[1;32m    890\u001b[0m \u001b[0;34m\u001b[0m\u001b[0m\n\u001b[1;32m    891\u001b[0m       \u001b[0mnew_tracing_count\u001b[0m \u001b[0;34m=\u001b[0m \u001b[0mself\u001b[0m\u001b[0;34m.\u001b[0m\u001b[0mexperimental_get_tracing_count\u001b[0m\u001b[0;34m(\u001b[0m\u001b[0;34m)\u001b[0m\u001b[0;34m\u001b[0m\u001b[0;34m\u001b[0m\u001b[0m\n",
      "\u001b[0;32m~/.virtualenvs/rn21/lib/python3.9/site-packages/tensorflow/python/eager/def_function.py\u001b[0m in \u001b[0;36m_call\u001b[0;34m(self, *args, **kwds)\u001b[0m\n\u001b[1;32m    922\u001b[0m       \u001b[0;31m# In this case we have not created variables on the first call. So we can\u001b[0m\u001b[0;34m\u001b[0m\u001b[0;34m\u001b[0m\u001b[0;34m\u001b[0m\u001b[0m\n\u001b[1;32m    923\u001b[0m       \u001b[0;31m# run the first trace but we should fail if variables are created.\u001b[0m\u001b[0;34m\u001b[0m\u001b[0;34m\u001b[0m\u001b[0;34m\u001b[0m\u001b[0m\n\u001b[0;32m--> 924\u001b[0;31m       \u001b[0mresults\u001b[0m \u001b[0;34m=\u001b[0m \u001b[0mself\u001b[0m\u001b[0;34m.\u001b[0m\u001b[0m_stateful_fn\u001b[0m\u001b[0;34m(\u001b[0m\u001b[0;34m*\u001b[0m\u001b[0margs\u001b[0m\u001b[0;34m,\u001b[0m \u001b[0;34m**\u001b[0m\u001b[0mkwds\u001b[0m\u001b[0;34m)\u001b[0m\u001b[0;34m\u001b[0m\u001b[0;34m\u001b[0m\u001b[0m\n\u001b[0m\u001b[1;32m    925\u001b[0m       \u001b[0;32mif\u001b[0m \u001b[0mself\u001b[0m\u001b[0;34m.\u001b[0m\u001b[0m_created_variables\u001b[0m\u001b[0;34m:\u001b[0m\u001b[0;34m\u001b[0m\u001b[0;34m\u001b[0m\u001b[0m\n\u001b[1;32m    926\u001b[0m         raise ValueError(\"Creating variables on a non-first call to a function\"\n",
      "\u001b[0;32m~/.virtualenvs/rn21/lib/python3.9/site-packages/tensorflow/python/eager/function.py\u001b[0m in \u001b[0;36m__call__\u001b[0;34m(self, *args, **kwargs)\u001b[0m\n\u001b[1;32m   3020\u001b[0m     \u001b[0;32mwith\u001b[0m \u001b[0mself\u001b[0m\u001b[0;34m.\u001b[0m\u001b[0m_lock\u001b[0m\u001b[0;34m:\u001b[0m\u001b[0;34m\u001b[0m\u001b[0;34m\u001b[0m\u001b[0m\n\u001b[1;32m   3021\u001b[0m       (graph_function,\n\u001b[0;32m-> 3022\u001b[0;31m        filtered_flat_args) = self._maybe_define_function(args, kwargs)\n\u001b[0m\u001b[1;32m   3023\u001b[0m     return graph_function._call_flat(\n\u001b[1;32m   3024\u001b[0m         filtered_flat_args, captured_inputs=graph_function.captured_inputs)  # pylint: disable=protected-access\n",
      "\u001b[0;32m~/.virtualenvs/rn21/lib/python3.9/site-packages/tensorflow/python/eager/function.py\u001b[0m in \u001b[0;36m_maybe_define_function\u001b[0;34m(self, args, kwargs)\u001b[0m\n\u001b[1;32m   3438\u001b[0m               \u001b[0mself\u001b[0m\u001b[0;34m.\u001b[0m\u001b[0minput_signature\u001b[0m \u001b[0;32mis\u001b[0m \u001b[0;32mNone\u001b[0m \u001b[0;32mand\u001b[0m\u001b[0;34m\u001b[0m\u001b[0;34m\u001b[0m\u001b[0m\n\u001b[1;32m   3439\u001b[0m               call_context_key in self._function_cache.missed):\n\u001b[0;32m-> 3440\u001b[0;31m             return self._define_function_with_shape_relaxation(\n\u001b[0m\u001b[1;32m   3441\u001b[0m                 args, kwargs, flat_args, filtered_flat_args, cache_key_context)\n\u001b[1;32m   3442\u001b[0m \u001b[0;34m\u001b[0m\u001b[0m\n",
      "\u001b[0;32m~/.virtualenvs/rn21/lib/python3.9/site-packages/tensorflow/python/eager/function.py\u001b[0m in \u001b[0;36m_define_function_with_shape_relaxation\u001b[0;34m(self, args, kwargs, flat_args, filtered_flat_args, cache_key_context)\u001b[0m\n\u001b[1;32m   3360\u001b[0m           expand_composites=True)\n\u001b[1;32m   3361\u001b[0m \u001b[0;34m\u001b[0m\u001b[0m\n\u001b[0;32m-> 3362\u001b[0;31m     graph_function = self._create_graph_function(\n\u001b[0m\u001b[1;32m   3363\u001b[0m         args, kwargs, override_flat_arg_shapes=relaxed_arg_shapes)\n\u001b[1;32m   3364\u001b[0m     \u001b[0mself\u001b[0m\u001b[0;34m.\u001b[0m\u001b[0m_function_cache\u001b[0m\u001b[0;34m.\u001b[0m\u001b[0marg_relaxed\u001b[0m\u001b[0;34m[\u001b[0m\u001b[0mrank_only_cache_key\u001b[0m\u001b[0;34m]\u001b[0m \u001b[0;34m=\u001b[0m \u001b[0mgraph_function\u001b[0m\u001b[0;34m\u001b[0m\u001b[0;34m\u001b[0m\u001b[0m\n",
      "\u001b[0;32m~/.virtualenvs/rn21/lib/python3.9/site-packages/tensorflow/python/eager/function.py\u001b[0m in \u001b[0;36m_create_graph_function\u001b[0;34m(self, args, kwargs, override_flat_arg_shapes)\u001b[0m\n\u001b[1;32m   3277\u001b[0m     \u001b[0marg_names\u001b[0m \u001b[0;34m=\u001b[0m \u001b[0mbase_arg_names\u001b[0m \u001b[0;34m+\u001b[0m \u001b[0mmissing_arg_names\u001b[0m\u001b[0;34m\u001b[0m\u001b[0;34m\u001b[0m\u001b[0m\n\u001b[1;32m   3278\u001b[0m     graph_function = ConcreteFunction(\n\u001b[0;32m-> 3279\u001b[0;31m         func_graph_module.func_graph_from_py_func(\n\u001b[0m\u001b[1;32m   3280\u001b[0m             \u001b[0mself\u001b[0m\u001b[0;34m.\u001b[0m\u001b[0m_name\u001b[0m\u001b[0;34m,\u001b[0m\u001b[0;34m\u001b[0m\u001b[0;34m\u001b[0m\u001b[0m\n\u001b[1;32m   3281\u001b[0m             \u001b[0mself\u001b[0m\u001b[0;34m.\u001b[0m\u001b[0m_python_function\u001b[0m\u001b[0;34m,\u001b[0m\u001b[0;34m\u001b[0m\u001b[0;34m\u001b[0m\u001b[0m\n",
      "\u001b[0;32m~/.virtualenvs/rn21/lib/python3.9/site-packages/tensorflow/python/framework/func_graph.py\u001b[0m in \u001b[0;36mfunc_graph_from_py_func\u001b[0;34m(name, python_func, args, kwargs, signature, func_graph, autograph, autograph_options, add_control_dependencies, arg_names, op_return_value, collections, capture_by_value, override_flat_arg_shapes)\u001b[0m\n\u001b[1;32m    997\u001b[0m         \u001b[0m_\u001b[0m\u001b[0;34m,\u001b[0m \u001b[0moriginal_func\u001b[0m \u001b[0;34m=\u001b[0m \u001b[0mtf_decorator\u001b[0m\u001b[0;34m.\u001b[0m\u001b[0munwrap\u001b[0m\u001b[0;34m(\u001b[0m\u001b[0mpython_func\u001b[0m\u001b[0;34m)\u001b[0m\u001b[0;34m\u001b[0m\u001b[0;34m\u001b[0m\u001b[0m\n\u001b[1;32m    998\u001b[0m \u001b[0;34m\u001b[0m\u001b[0m\n\u001b[0;32m--> 999\u001b[0;31m       \u001b[0mfunc_outputs\u001b[0m \u001b[0;34m=\u001b[0m \u001b[0mpython_func\u001b[0m\u001b[0;34m(\u001b[0m\u001b[0;34m*\u001b[0m\u001b[0mfunc_args\u001b[0m\u001b[0;34m,\u001b[0m \u001b[0;34m**\u001b[0m\u001b[0mfunc_kwargs\u001b[0m\u001b[0;34m)\u001b[0m\u001b[0;34m\u001b[0m\u001b[0;34m\u001b[0m\u001b[0m\n\u001b[0m\u001b[1;32m   1000\u001b[0m \u001b[0;34m\u001b[0m\u001b[0m\n\u001b[1;32m   1001\u001b[0m       \u001b[0;31m# invariant: `func_outputs` contains only Tensors, CompositeTensors,\u001b[0m\u001b[0;34m\u001b[0m\u001b[0;34m\u001b[0m\u001b[0;34m\u001b[0m\u001b[0m\n",
      "\u001b[0;32m~/.virtualenvs/rn21/lib/python3.9/site-packages/tensorflow/python/eager/def_function.py\u001b[0m in \u001b[0;36mwrapped_fn\u001b[0;34m(*args, **kwds)\u001b[0m\n\u001b[1;32m    670\u001b[0m         \u001b[0;31m# the function a weak reference to itself to avoid a reference cycle.\u001b[0m\u001b[0;34m\u001b[0m\u001b[0;34m\u001b[0m\u001b[0;34m\u001b[0m\u001b[0m\n\u001b[1;32m    671\u001b[0m         \u001b[0;32mwith\u001b[0m \u001b[0mOptionalXlaContext\u001b[0m\u001b[0;34m(\u001b[0m\u001b[0mcompile_with_xla\u001b[0m\u001b[0;34m)\u001b[0m\u001b[0;34m:\u001b[0m\u001b[0;34m\u001b[0m\u001b[0;34m\u001b[0m\u001b[0m\n\u001b[0;32m--> 672\u001b[0;31m           \u001b[0mout\u001b[0m \u001b[0;34m=\u001b[0m \u001b[0mweak_wrapped_fn\u001b[0m\u001b[0;34m(\u001b[0m\u001b[0;34m)\u001b[0m\u001b[0;34m.\u001b[0m\u001b[0m__wrapped__\u001b[0m\u001b[0;34m(\u001b[0m\u001b[0;34m*\u001b[0m\u001b[0margs\u001b[0m\u001b[0;34m,\u001b[0m \u001b[0;34m**\u001b[0m\u001b[0mkwds\u001b[0m\u001b[0;34m)\u001b[0m\u001b[0;34m\u001b[0m\u001b[0;34m\u001b[0m\u001b[0m\n\u001b[0m\u001b[1;32m    673\u001b[0m         \u001b[0;32mreturn\u001b[0m \u001b[0mout\u001b[0m\u001b[0;34m\u001b[0m\u001b[0;34m\u001b[0m\u001b[0m\n\u001b[1;32m    674\u001b[0m \u001b[0;34m\u001b[0m\u001b[0m\n",
      "\u001b[0;32m~/.virtualenvs/rn21/lib/python3.9/site-packages/tensorflow/python/framework/func_graph.py\u001b[0m in \u001b[0;36mwrapper\u001b[0;34m(*args, **kwargs)\u001b[0m\n\u001b[1;32m    984\u001b[0m           \u001b[0;32mexcept\u001b[0m \u001b[0mException\u001b[0m \u001b[0;32mas\u001b[0m \u001b[0me\u001b[0m\u001b[0;34m:\u001b[0m  \u001b[0;31m# pylint:disable=broad-except\u001b[0m\u001b[0;34m\u001b[0m\u001b[0;34m\u001b[0m\u001b[0m\n\u001b[1;32m    985\u001b[0m             \u001b[0;32mif\u001b[0m \u001b[0mhasattr\u001b[0m\u001b[0;34m(\u001b[0m\u001b[0me\u001b[0m\u001b[0;34m,\u001b[0m \u001b[0;34m\"ag_error_metadata\"\u001b[0m\u001b[0;34m)\u001b[0m\u001b[0;34m:\u001b[0m\u001b[0;34m\u001b[0m\u001b[0;34m\u001b[0m\u001b[0m\n\u001b[0;32m--> 986\u001b[0;31m               \u001b[0;32mraise\u001b[0m \u001b[0me\u001b[0m\u001b[0;34m.\u001b[0m\u001b[0mag_error_metadata\u001b[0m\u001b[0;34m.\u001b[0m\u001b[0mto_exception\u001b[0m\u001b[0;34m(\u001b[0m\u001b[0me\u001b[0m\u001b[0;34m)\u001b[0m\u001b[0;34m\u001b[0m\u001b[0;34m\u001b[0m\u001b[0m\n\u001b[0m\u001b[1;32m    987\u001b[0m             \u001b[0;32melse\u001b[0m\u001b[0;34m:\u001b[0m\u001b[0;34m\u001b[0m\u001b[0;34m\u001b[0m\u001b[0m\n\u001b[1;32m    988\u001b[0m               \u001b[0;32mraise\u001b[0m\u001b[0;34m\u001b[0m\u001b[0;34m\u001b[0m\u001b[0m\n",
      "\u001b[0;31mValueError\u001b[0m: in user code:\n\n    /home/maponti/.virtualenvs/rn21/lib/python3.9/site-packages/tensorflow/python/keras/engine/training.py:1323 test_function  *\n        return step_function(self, iterator)\n    /home/maponti/.virtualenvs/rn21/lib/python3.9/site-packages/tensorflow/python/keras/engine/training.py:1314 step_function  **\n        outputs = model.distribute_strategy.run(run_step, args=(data,))\n    /home/maponti/.virtualenvs/rn21/lib/python3.9/site-packages/tensorflow/python/distribute/distribute_lib.py:1285 run\n        return self._extended.call_for_each_replica(fn, args=args, kwargs=kwargs)\n    /home/maponti/.virtualenvs/rn21/lib/python3.9/site-packages/tensorflow/python/distribute/distribute_lib.py:2833 call_for_each_replica\n        return self._call_for_each_replica(fn, args, kwargs)\n    /home/maponti/.virtualenvs/rn21/lib/python3.9/site-packages/tensorflow/python/distribute/distribute_lib.py:3608 _call_for_each_replica\n        return fn(*args, **kwargs)\n    /home/maponti/.virtualenvs/rn21/lib/python3.9/site-packages/tensorflow/python/keras/engine/training.py:1307 run_step  **\n        outputs = model.test_step(data)\n    /home/maponti/.virtualenvs/rn21/lib/python3.9/site-packages/tensorflow/python/keras/engine/training.py:1266 test_step\n        y_pred = self(x, training=False)\n    /home/maponti/.virtualenvs/rn21/lib/python3.9/site-packages/tensorflow/python/keras/engine/base_layer.py:1013 __call__\n        input_spec.assert_input_compatibility(self.input_spec, inputs, self.name)\n    /home/maponti/.virtualenvs/rn21/lib/python3.9/site-packages/tensorflow/python/keras/engine/input_spec.py:267 assert_input_compatibility\n        raise ValueError('Input ' + str(input_index) +\n\n    ValueError: Input 0 is incompatible with layer sequential_38: expected shape=(2, None, 3), found shape=(1, 2, 3)\n"
     ]
    }
   ],
   "source": [
    "scoresT = modelLSTMs.evaluate(test_x_rec, test_y_rec, \n",
    "                              batch_size=new_batch_size, verbose=0)\n",
    "print('Scores test')\n",
    "print('MSE: %.4f' % (scoresT[0]))\n",
    "print('MAE: %.4f' % (scoresT[1]))"
   ]
  },
  {
   "cell_type": "markdown",
   "metadata": {},
   "source": [
    "Como o modelo foi criado com batch_size fixo e relacionado ao conjunto de treinamento, depois não conseguimos usá-lo para outras inferências e testes\n",
    "\n",
    "Assim é preciso criar um novo modelo com batch_size=1 e setar os pesos do modelo treinado"
   ]
  },
  {
   "cell_type": "code",
   "execution_count": 224,
   "metadata": {},
   "outputs": [
    {
     "name": "stdout",
     "output_type": "stream",
     "text": [
      "Model: \"sequential_52\"\n",
      "_________________________________________________________________\n",
      "Layer (type)                 Output Shape              Param #   \n",
      "=================================================================\n",
      "lstm_103 (LSTM)              (1, 2, 16)                1280      \n",
      "_________________________________________________________________\n",
      "activation_53 (Activation)   (1, 2, 16)                0         \n",
      "_________________________________________________________________\n",
      "lstm_104 (LSTM)              (1, 32)                   6272      \n",
      "_________________________________________________________________\n",
      "layer_normalization_43 (Laye (1, 32)                   64        \n",
      "_________________________________________________________________\n",
      "activation_54 (Activation)   (1, 32)                   0         \n",
      "_________________________________________________________________\n",
      "dense_52 (Dense)             (1, 1)                    33        \n",
      "=================================================================\n",
      "Total params: 7,649\n",
      "Trainable params: 7,649\n",
      "Non-trainable params: 0\n",
      "_________________________________________________________________\n"
     ]
    }
   ],
   "source": [
    "new_batch_size = 1\n",
    "\n",
    "# redefinir batch_size de entrada requer montar um novo modelo, \n",
    "# deve ser identico ao outro exceto pela entrada\n",
    "inference_model = keras.models.Sequential()\n",
    "inference_model.add(keras.layers.InputLayer(\n",
    "    batch_input_shape=(new_batch_size, train_x_rec.shape[1], train_x_rec.shape[2])))\n",
    "inference_model.add(keras.layers.LSTM(16, return_sequences=True, stateful=True))\n",
    "inference_model.add(keras.layers.Activation('gelu'))\n",
    "inference_model.add(keras.layers.LSTM(32, stateful=True))\n",
    "inference_model.add(keras.layers.LayerNormalization())\n",
    "inference_model.add(keras.layers.Activation('gelu'))\n",
    "inference_model.add(keras.layers.Dense(1, activation='linear'))\n",
    "inference_model.summary()\n",
    "\n",
    "inference_model.compile(loss='mean_squared_error', \n",
    "            optimizer=keras.optimizers.Adam(learning_rate=0.0001),\n",
    "            metrics=['mae'])\n",
    "\n",
    "# copia pesos do modelo anterior\n",
    "pesos_modelo = modelLSTMs.get_weights()\n",
    "inference_model.set_weights(pesos_modelo)"
   ]
  },
  {
   "cell_type": "code",
   "execution_count": 225,
   "metadata": {},
   "outputs": [
    {
     "name": "stdout",
     "output_type": "stream",
     "text": [
      "Scores test\n",
      "MSE: 0.0050\n",
      "MAE: 0.0616\n"
     ]
    }
   ],
   "source": [
    "scoresT = inference_model.evaluate(test_x_rec, test_y_rec, \n",
    "                                   batch_size=new_batch_size, verbose=0)\n",
    "print('Scores test')\n",
    "print('MSE: %.4f' % (scoresT[0]))\n",
    "print('MAE: %.4f' % (scoresT[1]))"
   ]
  },
  {
   "cell_type": "code",
   "execution_count": 226,
   "metadata": {
    "id": "K8W2s1Mx6N35"
   },
   "outputs": [
    {
     "data": {
      "image/png": "[encoded data removed]",
      "text/plain": [
       "<Figure size 432x288 with 1 Axes>"
      ]
     },
     "metadata": {
      "needs_background": "light"
     },
     "output_type": "display_data"
    }
   ],
   "source": [
    "plt.plot(histLSTMs)\n",
    "ax = plt.title('Convergencia de treinamento modelLSTMs')"
   ]
  },
  {
   "cell_type": "code",
   "execution_count": 227,
   "metadata": {
    "colab": {
     "base_uri": "https://localhost:8080/",
     "height": 284
    },
    "id": "9V3C-8ML6Qsz",
    "outputId": "f3510dcd-f8bd-477b-dba4-52d27a9f8f6f"
   },
   "outputs": [],
   "source": [
    "# realiza predicoes com os dados de treinamento e teste\n",
    "train_y_predS = inference_model.predict(train_x_rec, batch_size=new_batch_size)\n",
    "train_y_predS = np.reshape(train_y_predS, (-1, 1))[time_steps:]\n",
    "\n",
    "test_y_predS = inference_model.predict(test_x_rec, batch_size=new_batch_size)\n",
    "test_y_predS = np.reshape(test_y_predS, (-1, 1))[time_steps:]"
   ]
  },
  {
   "cell_type": "code",
   "execution_count": 228,
   "metadata": {
    "colab": {
     "base_uri": "https://localhost:8080/",
     "height": 36
    },
    "id": "I-uAA6hRGfcz",
    "outputId": "1cc6f2fd-c307-41ea-bc50-166922984d4c"
   },
   "outputs": [
    {
     "data": {
      "image/png": "[encoded data removed]",
      "text/plain": [
       "<Figure size 648x432 with 1 Axes>"
      ]
     },
     "metadata": {
      "needs_background": "light"
     },
     "output_type": "display_data"
    }
   ],
   "source": [
    "fig = plt.figure(figsize=(9,6))\n",
    "plt.plot(np.arange(time_steps,len(test_y_predS)+time_steps),\n",
    "         test_y_predS, label='pred test')\n",
    "plt.plot(test_y_norm, '--', label='test')\n",
    "plt.legend()\n",
    "axt = plt.title('Training + Testing')\n",
    "plt.show()"
   ]
  },
  {
   "cell_type": "code",
   "execution_count": null,
   "metadata": {},
   "outputs": [],
   "source": []
  }
 ],
 "metadata": {
  "accelerator": "GPU",
  "colab": {
   "collapsed_sections": [],
   "name": "RNAP-06-Aula-notebook1_lstm.ipynb",
   "provenance": []
  },
  "kernelspec": {
   "display_name": "Python 3",
   "language": "python",
   "name": "python3"
  },
  "language_info": {
   "codemirror_mode": {
    "name": "ipython",
    "version": 3
   },
   "file_extension": ".py",
   "mimetype": "text/x-python",
   "name": "python",
   "nbconvert_exporter": "python",
   "pygments_lexer": "ipython3",
   "version": "3.9.6"
  }
 },
 "nbformat": 4,
 "nbformat_minor": 1
}
