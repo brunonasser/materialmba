{
 "cells": [
  {
   "cell_type": "markdown",
   "metadata": {
    "id": "RcZ_NvVeUkRX"
   },
   "source": [
    "## MBA em Ciência de Dados\n",
    "# Redes Neurais e Arquiteturas Profundas\n",
    "\n",
    "### <span style=\"color:darkred\">Módulo 4 - Estratégias de Treinamento e Transferência de Aprendizado</span>\n",
    "\n",
    "#### <span style=\"color:darkred\">**Parte 2: Aumentação de Dados e Transferência de Aprendizado**</span>\n",
    "\n",
    "Moacir Antonelli Ponti\n",
    "\n",
    "CeMEAI - ICMC/USP São Carlos\n",
    "\n",
    "---"
   ]
  },
  {
   "cell_type": "code",
   "execution_count": 1,
   "metadata": {
    "colab": {
     "base_uri": "https://localhost:8080/",
     "height": 312,
     "referenced_widgets": [
      "95117dd15aff478893684e1f4ff6b285",
      "01781556d5cc484284893677253f281a",
      "cc810a7a820f4d52a286de0c4c1bfb44",
      "897c78494f4b46ab80215ff2b82c65c3",
      "ccda14d6f8e844118b2d82a18a2bb21e",
      "7214b475957c43c8918af74c4a02da11",
      "465459d80df24a1eb618522e0f81f0d5",
      "0bee25b73feb4dd2a088a8f16f9a0fa8",
      "82b3570a80c645ac999f9b6448ce1f17",
      "3afb8c2da9264dab9515b297b6245213",
      "facd2e88211f4d18b8cb7a893fcce380",
      "928d3edae23d447da50e4dbfecafbef4",
      "0b5c495b14fe47f397afdd538266232b",
      "d3ec723a4ff749d88d8517abbfa1f7b9",
      "15dca0ebda484f91b36c1aaace179924",
      "55b853f834754df4b499692b69e6ec41",
      "8a27c3e8efbe4f8db2163e9971b410d1",
      "5f397729d9e94f45b06b0eb8e9f089ef",
      "d39e6bf5ee1a4962955a18843aba6597",
      "fc81548f00ff4c96a3b57caf64d38698",
      "5f376c51ca8747f39b606da941698b61",
      "d7752dd85a584c64ad7010057a8757b2",
      "9b1d316c0eec4fa48cfe03449cfcdffe",
      "8975dff4d53046a8a706e891c3a0b68c",
      "1b75df8a12a94c6d9457df433e813b62",
      "b47e6317132047989583068bf2641f6c",
      "4711f2e484d9469eb3e463458323ca6c",
      "fa0e65c2a94a48ec85d9ee2a520ec753",
      "8f7d2fa1bb9444359c167ec802e3d3bf",
      "e50af6428d034afd954745090e18e58a",
      "3c23c7c79105422f96074a3c77bd9297",
      "17e731fc312843ef9304fc94ee10b3a5",
      "63dc8713a0914631bb5ce74a9a448acb",
      "3e3e73a55ece4a1499a41043db6b33c7",
      "7160e56b8f8542479fe1b503dc4ae062",
      "f1c7e61902874f4d88697316e8ce29e2",
      "d01c07e7205748ae893a141e0a092a19",
      "333841e129e04830996b3b9af3e3fa54",
      "d9b619eab42c48b59ae9dffe3cbc3505",
      "4289544c17de494da0d62c4b9ddb7c39",
      "f75ab9df1e3e4b4cb8a7559d203c3af6",
      "56a0cd0aeab147f38912594d7293721b",
      "f0478231d234492388fe2586e086be73",
      "b091475a8a0447e697ae1a43a97a15f7",
      "b3ca228c56ec4e52823ff781ecc0f1df",
      "ed368a37708f4699b8950c007b00faf7",
      "845a2bacf8b14eb596ce3ec7481ca667",
      "846a4bff7bb841e5a9deb9be423f0ed6",
      "b2237debf356484e9d036a623a21fcc8",
      "505ed9d5425b49bebdaf5b2cdec2a1cd",
      "2b4255f7dd34459b91ae0ba8802799d5",
      "e05975d0c5d34358a5c8ecff6af348de",
      "32ff6495c796446e97be9e0155139dee",
      "40dc4d84167442e9b58e66ff9d1cf5b5",
      "e7472bd9871f4f0fad3e0c6d9b4170f5",
      "caf5792549754807954cda03f886a0c1",
      "e6a1833ac0f64fc3b85cbbd5c5a964b6",
      "c47bee7d4ecd494595f060a66e72b165",
      "84aa3226cc3c417eba4e3ab0f0d043a9",
      "738a2f4b69c34519b573c5fdd60985ed",
      "c4d04f3aa9504b018c3a9f5cb5235921",
      "f26b27af5f8e4730b11eb0504340673f",
      "a63c58ed83ac470abd29c312ef64cf46",
      "d94a4cc118764cbdba713b49f25fdb76",
      "ebdaee28c5124e23a71bf045e4554b91",
      "e55dd308503b48d3b190aeb860441ff2",
      "199e81cbf7424156934525ccb8f8f518",
      "607fa3feda524fbdac5a3250c3afa12e",
      "1f3164827d88413cab8438bdfd89bcf6",
      "3c309380249e47cdb1c37073c08b7be5",
      "102f3276a46346b3b26bc19ee2c3473d",
      "6a821377de074d3db1377fa7c53e728b",
      "b68aa7e777a94b20bb22b2956c6fc129",
      "af0d57299a184a66ad53099c0132a5db",
      "ccbd03feae10462e91e7fc9d6a16f1e5",
      "e3abf0f4060140b9887baa7a6ce3c591",
      "fb38178fc2a04c6daffde627da266abf",
      "016df6a2170e425e8576b9520499a6be",
      "63b10000a4fa4fd8ac2d44545d304a69",
      "fb711cbd37e747fe8299ca6e201fc26f",
      "d5f11520aae147e9aadb8f8e94a3138d",
      "5e991bf7f08e45d6a3004b2c08f86985",
      "3e43265ed5e54388bb3f9e1744ad5ad3",
      "50b7c423ef7649588db2975a284aeaa6",
      "10adf018ae874ee185dd08f3b68cd693",
      "379a84382885462798d426f84bdab15d",
      "fa854cc756f44bb7b1faa4747571c85a",
      "51aa65e691564d6eb3d9fdaac43cee3f"
     ]
    },
    "executionInfo": {
     "elapsed": 16088,
     "status": "ok",
     "timestamp": 1634841717991,
     "user": {
      "displayName": "Moacir Antonelli Ponti",
      "photoUrl": "https://lh3.googleusercontent.com/a-/AOh14Gii-34vbZyib3WjjMBVbm8-88oDpqhrecIMH0SQGg=s64",
      "userId": "09722981635546271521"
     },
     "user_tz": 180
    },
    "id": "eQMniHZovJzB",
    "outputId": "26195c69-b7c5-4aba-8e64-2a5d7a86ca92"
   },
   "outputs": [
    {
     "name": "stdout",
     "output_type": "stream",
     "text": [
      "\u001b[1mDownloading and preparing dataset beans/0.1.0 (download: Unknown size, generated: 171.63 MiB, total: 171.63 MiB) to /root/tensorflow_datasets/beans/0.1.0...\u001b[0m\n"
     ]
    },
    {
     "data": {
      "application/vnd.jupyter.widget-view+json": {
       "model_id": "95117dd15aff478893684e1f4ff6b285",
       "version_major": 2,
       "version_minor": 0
      },
      "text/plain": [
       "Dl Completed...: 0 url [00:00, ? url/s]"
      ]
     },
     "metadata": {},
     "output_type": "display_data"
    },
    {
     "data": {
      "application/vnd.jupyter.widget-view+json": {
       "model_id": "928d3edae23d447da50e4dbfecafbef4",
       "version_major": 2,
       "version_minor": 0
      },
      "text/plain": [
       "Dl Size...: 0 MiB [00:00, ? MiB/s]"
      ]
     },
     "metadata": {},
     "output_type": "display_data"
    },
    {
     "name": "stdout",
     "output_type": "stream",
     "text": [
      "\n",
      "\n"
     ]
    },
    {
     "data": {
      "application/vnd.jupyter.widget-view+json": {
       "model_id": "9b1d316c0eec4fa48cfe03449cfcdffe",
       "version_major": 2,
       "version_minor": 0
      },
      "text/plain": [
       "0 examples [00:00, ? examples/s]"
      ]
     },
     "metadata": {},
     "output_type": "display_data"
    },
    {
     "name": "stdout",
     "output_type": "stream",
     "text": [
      "Shuffling and writing examples to /root/tensorflow_datasets/beans/0.1.0.incompleteZ56P6M/beans-train.tfrecord\n"
     ]
    },
    {
     "data": {
      "application/vnd.jupyter.widget-view+json": {
       "model_id": "3e3e73a55ece4a1499a41043db6b33c7",
       "version_major": 2,
       "version_minor": 0
      },
      "text/plain": [
       "  0%|          | 0/1034 [00:00<?, ? examples/s]"
      ]
     },
     "metadata": {},
     "output_type": "display_data"
    },
    {
     "data": {
      "application/vnd.jupyter.widget-view+json": {
       "model_id": "b3ca228c56ec4e52823ff781ecc0f1df",
       "version_major": 2,
       "version_minor": 0
      },
      "text/plain": [
       "0 examples [00:00, ? examples/s]"
      ]
     },
     "metadata": {},
     "output_type": "display_data"
    },
    {
     "name": "stdout",
     "output_type": "stream",
     "text": [
      "Shuffling and writing examples to /root/tensorflow_datasets/beans/0.1.0.incompleteZ56P6M/beans-validation.tfrecord\n"
     ]
    },
    {
     "data": {
      "application/vnd.jupyter.widget-view+json": {
       "model_id": "caf5792549754807954cda03f886a0c1",
       "version_major": 2,
       "version_minor": 0
      },
      "text/plain": [
       "  0%|          | 0/133 [00:00<?, ? examples/s]"
      ]
     },
     "metadata": {},
     "output_type": "display_data"
    },
    {
     "data": {
      "application/vnd.jupyter.widget-view+json": {
       "model_id": "199e81cbf7424156934525ccb8f8f518",
       "version_major": 2,
       "version_minor": 0
      },
      "text/plain": [
       "0 examples [00:00, ? examples/s]"
      ]
     },
     "metadata": {},
     "output_type": "display_data"
    },
    {
     "name": "stdout",
     "output_type": "stream",
     "text": [
      "Shuffling and writing examples to /root/tensorflow_datasets/beans/0.1.0.incompleteZ56P6M/beans-test.tfrecord\n"
     ]
    },
    {
     "data": {
      "application/vnd.jupyter.widget-view+json": {
       "model_id": "016df6a2170e425e8576b9520499a6be",
       "version_major": 2,
       "version_minor": 0
      },
      "text/plain": [
       "  0%|          | 0/128 [00:00<?, ? examples/s]"
      ]
     },
     "metadata": {},
     "output_type": "display_data"
    },
    {
     "name": "stdout",
     "output_type": "stream",
     "text": [
      "\u001b[1mDataset beans downloaded and prepared to /root/tensorflow_datasets/beans/0.1.0. Subsequent calls will reuse this data.\u001b[0m\n"
     ]
    }
   ],
   "source": [
    "import numpy as np\n",
    "import matplotlib.pyplot as plt\n",
    "import tensorflow as tf\n",
    "from tensorflow import keras\n",
    "from tensorflow.keras import layers\n",
    "from numpy.random import seed\n",
    "from tensorflow.random import set_seed\n",
    "\n",
    "import tensorflow_datasets as tfds\n",
    "\n",
    "#tfds.disable_progress_bar()\n",
    "\n",
    "# selecionamos 50% do treinamento\n",
    "(train_ds, validation_ds, test_ds), info = tfds.load(\n",
    "    \"beans\",\n",
    "    split=[\"train[0%:50%]\", \"validation[0%:100%]\", \"test[0%:100%]\"],\n",
    "    as_supervised=True, \n",
    "    with_info=True\n",
    ")"
   ]
  },
  {
   "cell_type": "code",
   "execution_count": 2,
   "metadata": {
    "colab": {
     "base_uri": "https://localhost:8080/",
     "height": 373
    },
    "executionInfo": {
     "elapsed": 1782,
     "status": "ok",
     "timestamp": 1634841719766,
     "user": {
      "displayName": "Moacir Antonelli Ponti",
      "photoUrl": "https://lh3.googleusercontent.com/a-/AOh14Gii-34vbZyib3WjjMBVbm8-88oDpqhrecIMH0SQGg=s64",
      "userId": "09722981635546271521"
     },
     "user_tz": 180
    },
    "id": "lzR7MWTFv49H",
    "outputId": "2602235f-2ed7-482a-ccd1-a09f5cd1c48b"
   },
   "outputs": [
    {
     "data": {
      "image/png": "[encoded data removed]",
      "text/plain": [
       "<Figure size 432x432 with 9 Axes>"
      ]
     },
     "metadata": {
      "needs_background": "light"
     },
     "output_type": "display_data"
    }
   ],
   "source": [
    "import matplotlib.pyplot as plt\n",
    "\n",
    "plt.figure(figsize=(6, 6))\n",
    "for i, (image, label) in enumerate(train_ds.take(9)):\n",
    "    ax = plt.subplot(3, 3, i + 1)\n",
    "    plt.imshow(image)\n",
    "    plt.title(int(label))\n",
    "    plt.axis(\"off\")\n"
   ]
  },
  {
   "cell_type": "code",
   "execution_count": 3,
   "metadata": {
    "colab": {
     "base_uri": "https://localhost:8080/"
    },
    "executionInfo": {
     "elapsed": 23,
     "status": "ok",
     "timestamp": 1634841719768,
     "user": {
      "displayName": "Moacir Antonelli Ponti",
      "photoUrl": "https://lh3.googleusercontent.com/a-/AOh14Gii-34vbZyib3WjjMBVbm8-88oDpqhrecIMH0SQGg=s64",
      "userId": "09722981635546271521"
     },
     "user_tz": 180
    },
    "id": "3RwE_SFxv8j4",
    "outputId": "a0d9f0ae-d859-4c4a-b9d6-38028b669ab6"
   },
   "outputs": [
    {
     "name": "stdout",
     "output_type": "stream",
     "text": [
      "tfds.core.DatasetInfo(\n",
      "    name='beans',\n",
      "    version=0.1.0,\n",
      "    description='Beans is a dataset of images of beans taken in the field using smartphone\n",
      "cameras. It consists of 3 classes: 2 disease classes and the healthy class.\n",
      "Diseases depicted include Angular Leaf Spot and Bean Rust. Data was annotated\n",
      "by experts from the National Crops Resources Research Institute (NaCRRI) in\n",
      "Uganda and collected by the Makerere AI research lab.',\n",
      "    homepage='https://github.com/AI-Lab-Makerere/ibean/',\n",
      "    features=FeaturesDict({\n",
      "        'image': Image(shape=(500, 500, 3), dtype=tf.uint8),\n",
      "        'label': ClassLabel(shape=(), dtype=tf.int64, num_classes=3),\n",
      "    }),\n",
      "    total_num_examples=1295,\n",
      "    splits={\n",
      "        'test': 128,\n",
      "        'train': 1034,\n",
      "        'validation': 133,\n",
      "    },\n",
      "    supervised_keys=('image', 'label'),\n",
      "    citation=\"\"\"@ONLINE {beansdata,\n",
      "        author=\"Makerere AI Lab\",\n",
      "        title=\"Bean disease dataset\",\n",
      "        month=\"January\",\n",
      "        year=\"2020\",\n",
      "        url=\"https://github.com/AI-Lab-Makerere/ibean/\"\n",
      "    }\"\"\",\n",
      "    redistribution_info=,\n",
      ")\n",
      "\n"
     ]
    }
   ],
   "source": [
    "print(info)\n",
    "\n",
    "def normalize_img(image, label):\n",
    "  \"\"\"Normalizes images: `uint8` -> `float32`.\"\"\"\n",
    "  return tf.cast(image, tf.float32) / 255., label\n",
    "\n",
    "# redimensionando exemplos e normalizando entre 0-1 tipo float32\n",
    "img_size = (128, 128)\n",
    "train_ds = train_ds.map(lambda x, y: (tf.image.resize(x, img_size), tf.one_hot(y,3)))\n",
    "train_ds = train_ds.map(normalize_img, num_parallel_calls=tf.data.experimental.AUTOTUNE)\n",
    "\n",
    "validation_ds = validation_ds.map(lambda x, y: (tf.image.resize(x, img_size), tf.one_hot(y,3)))\n",
    "validation_ds = validation_ds.map(normalize_img, num_parallel_calls=tf.data.experimental.AUTOTUNE)\n",
    "\n",
    "test_ds = test_ds.map(lambda x, y: (tf.image.resize(x, img_size), tf.one_hot(y,3)))\n",
    "test_ds = test_ds.map(normalize_img, num_parallel_calls=tf.data.experimental.AUTOTUNE)\n",
    "\n",
    "input_shape = img_size+(3,)"
   ]
  },
  {
   "cell_type": "code",
   "execution_count": 4,
   "metadata": {
    "executionInfo": {
     "elapsed": 15,
     "status": "ok",
     "timestamp": 1634841719769,
     "user": {
      "displayName": "Moacir Antonelli Ponti",
      "photoUrl": "https://lh3.googleusercontent.com/a-/AOh14Gii-34vbZyib3WjjMBVbm8-88oDpqhrecIMH0SQGg=s64",
      "userId": "09722981635546271521"
     },
     "user_tz": 180
    },
    "id": "vEF4fHO2wBhk"
   },
   "outputs": [],
   "source": [
    "batch_size = 32\n",
    "\n",
    "train_ds = train_ds.cache().batch(batch_size).prefetch(buffer_size=10)\n",
    "validation_ds = validation_ds.cache().batch(batch_size).prefetch(buffer_size=10)\n",
    "test_ds = test_ds.cache().batch(batch_size).prefetch(buffer_size=10)"
   ]
  },
  {
   "cell_type": "markdown",
   "metadata": {
    "id": "BVRIaICPMe8X"
   },
   "source": [
    "---\n",
    "\n",
    "### Data Augmentation: \n",
    "#### funciona como uma camada de pré-processamento, gerando transformações aleatórias na imagem de entrada. \n",
    "\n",
    "Ao longo das épocas é responsável pela perturbação da entrada."
   ]
  },
  {
   "cell_type": "code",
   "execution_count": 5,
   "metadata": {
    "executionInfo": {
     "elapsed": 13,
     "status": "ok",
     "timestamp": 1634841719769,
     "user": {
      "displayName": "Moacir Antonelli Ponti",
      "photoUrl": "https://lh3.googleusercontent.com/a-/AOh14Gii-34vbZyib3WjjMBVbm8-88oDpqhrecIMH0SQGg=s64",
      "userId": "09722981635546271521"
     },
     "user_tz": 180
    },
    "id": "XkG-xyIUwHDw"
   },
   "outputs": [],
   "source": [
    "data_augmentation = keras.Sequential(\n",
    "    [\n",
    "        layers.experimental.preprocessing.RandomFlip(\"horizontal\"),\n",
    "        layers.experimental.preprocessing.RandomFlip(\"vertical\"),\n",
    "        layers.experimental.preprocessing.RandomRotation(0.25),\n",
    "        layers.experimental.preprocessing.RandomContrast(0.3),\n",
    "    ]\n",
    ")"
   ]
  },
  {
   "cell_type": "code",
   "execution_count": 6,
   "metadata": {
    "colab": {
     "base_uri": "https://localhost:8080/",
     "height": 473
    },
    "executionInfo": {
     "elapsed": 2427,
     "status": "ok",
     "timestamp": 1634841722184,
     "user": {
      "displayName": "Moacir Antonelli Ponti",
      "photoUrl": "https://lh3.googleusercontent.com/a-/AOh14Gii-34vbZyib3WjjMBVbm8-88oDpqhrecIMH0SQGg=s64",
      "userId": "09722981635546271521"
     },
     "user_tz": 180
    },
    "id": "Er96eyiYwwic",
    "outputId": "22a31301-5e91-4a9e-bfe0-35ea07e506b3"
   },
   "outputs": [
    {
     "name": "stderr",
     "output_type": "stream",
     "text": [
      "WARNING:matplotlib.image:Clipping input data to the valid range for imshow with RGB data ([0..1] for floats or [0..255] for integers).\n",
      "WARNING:matplotlib.image:Clipping input data to the valid range for imshow with RGB data ([0..1] for floats or [0..255] for integers).\n",
      "WARNING:matplotlib.image:Clipping input data to the valid range for imshow with RGB data ([0..1] for floats or [0..255] for integers).\n",
      "WARNING:matplotlib.image:Clipping input data to the valid range for imshow with RGB data ([0..1] for floats or [0..255] for integers).\n",
      "WARNING:matplotlib.image:Clipping input data to the valid range for imshow with RGB data ([0..1] for floats or [0..255] for integers).\n",
      "WARNING:matplotlib.image:Clipping input data to the valid range for imshow with RGB data ([0..1] for floats or [0..255] for integers).\n"
     ]
    },
    {
     "data": {
      "image/png": "[encoded data removed]",
      "text/plain": [
       "<Figure size 432x432 with 9 Axes>"
      ]
     },
     "metadata": {
      "needs_background": "light"
     },
     "output_type": "display_data"
    }
   ],
   "source": [
    "for images, labels in train_ds.take(1):\n",
    "    plt.figure(figsize=(6, 6))\n",
    "    for i in range(9):\n",
    "        ax = plt.subplot(3, 3, i + 1)\n",
    "        augmented_image = data_augmentation(\n",
    "            tf.expand_dims(images[1], 0), training=True\n",
    "        )\n",
    "        #plt.title(str(labels[i].numpy()))\n",
    "        plt.imshow(augmented_image[0].numpy())\n",
    "        plt.axis(\"off\")\n"
   ]
  },
  {
   "cell_type": "markdown",
   "metadata": {
    "id": "S_J2gyHLPEBw"
   },
   "source": [
    "--- \n",
    "### Carregando a CNN \"MobileNet V2\" para ser usada como \"backbone\" da solução\n",
    "\n",
    "**Abordagem 1**: pesos inicializados aleatoriamente\n",
    "\n",
    "carregamos `include_top=False` pois não queremos a última camada (top), especifica da ImageNet\n"
   ]
  },
  {
   "cell_type": "code",
   "execution_count": 7,
   "metadata": {
    "colab": {
     "base_uri": "https://localhost:8080/"
    },
    "executionInfo": {
     "elapsed": 905,
     "status": "ok",
     "timestamp": 1634841723084,
     "user": {
      "displayName": "Moacir Antonelli Ponti",
      "photoUrl": "https://lh3.googleusercontent.com/a-/AOh14Gii-34vbZyib3WjjMBVbm8-88oDpqhrecIMH0SQGg=s64",
      "userId": "09722981635546271521"
     },
     "user_tz": 180
    },
    "id": "LFPlunRIPHK3",
    "outputId": "e52f1587-8378-4a3f-a4f2-8991d853456a"
   },
   "outputs": [
    {
     "name": "stdout",
     "output_type": "stream",
     "text": [
      "Model: \"model\"\n",
      "_________________________________________________________________\n",
      "Layer (type)                 Output Shape              Param #   \n",
      "=================================================================\n",
      "input_2 (InputLayer)         [(None, 128, 128, 3)]     0         \n",
      "_________________________________________________________________\n",
      "sequential (Sequential)      (None, 128, 128, 3)       0         \n",
      "_________________________________________________________________\n",
      "mobilenetv2_1.00_128 (Functi (None, 4, 4, 1280)        2257984   \n",
      "_________________________________________________________________\n",
      "avg_pool (GlobalAveragePooli (None, 1280)              0         \n",
      "_________________________________________________________________\n",
      "dropout (Dropout)            (None, 1280)              0         \n",
      "_________________________________________________________________\n",
      "dense (Dense)                (None, 3)                 3843      \n",
      "=================================================================\n",
      "Total params: 2,261,827\n",
      "Trainable params: 2,227,715\n",
      "Non-trainable params: 34,112\n",
      "_________________________________________________________________\n"
     ]
    }
   ],
   "source": [
    "base_model_random = tf.keras.applications.MobileNetV2(\n",
    "    weights=None,#nao carrega os pesos pre treinados\n",
    "    input_shape=(128, 128, 3),\n",
    "    include_top=False\n",
    ")\n",
    "\n",
    "# Permitir treinamento do modelo carregado\n",
    "base_model_random.trainable = True\n",
    "\n",
    "# Com base na MobileNetV2 vamos criar nosso modelo\n",
    "# definimos o tamanho da entrada\n",
    "inputs = keras.Input(shape=(128, 128, 3))\n",
    "# aplicamos a transformacao da imagem de entrada\n",
    "x = data_augmentation(inputs)\n",
    "\n",
    "# Depois da \"aumentacao de dados\", temos o modelo base\n",
    "x = base_model_random(x, training=True)\n",
    "x = keras.layers.GlobalAveragePooling2D(name=\"avg_pool\")(x)\n",
    "x = keras.layers.Dropout(0.3)(x)\n",
    "outputs = keras.layers.Dense(3,activation=\"softmax\")(x)\n",
    "\n",
    "model_random = keras.Model(inputs, outputs)\n",
    "\n",
    "model_random.summary()"
   ]
  },
  {
   "cell_type": "markdown",
   "metadata": {
    "id": "7WgdDRvlSLQN"
   },
   "source": [
    "#### Compilando e treinando o modelo a partir de pessos aleatórios"
   ]
  },
  {
   "cell_type": "code",
   "execution_count": 8,
   "metadata": {
    "colab": {
     "base_uri": "https://localhost:8080/"
    },
    "executionInfo": {
     "elapsed": 91801,
     "status": "ok",
     "timestamp": 1634841814875,
     "user": {
      "displayName": "Moacir Antonelli Ponti",
      "photoUrl": "https://lh3.googleusercontent.com/a-/AOh14Gii-34vbZyib3WjjMBVbm8-88oDpqhrecIMH0SQGg=s64",
      "userId": "09722981635546271521"
     },
     "user_tz": 180
    },
    "id": "KLmPoh8IPoUK",
    "outputId": "7370703f-3c7a-4ef6-ecce-353c71e3a862"
   },
   "outputs": [
    {
     "name": "stdout",
     "output_type": "stream",
     "text": [
      "Epoch 1/20\n",
      "17/17 [==============================] - 40s 257ms/step - loss: 1.1572 - acc: 0.3288 - val_loss: 1.1006 - val_acc: 0.3383\n",
      "Epoch 2/20\n",
      "17/17 [==============================] - 2s 136ms/step - loss: 1.1409 - acc: 0.3868 - val_loss: 1.0842 - val_acc: 0.3835\n",
      "Epoch 3/20\n",
      "17/17 [==============================] - 2s 130ms/step - loss: 1.1166 - acc: 0.4062 - val_loss: 1.0767 - val_acc: 0.4060\n",
      "Epoch 4/20\n",
      "17/17 [==============================] - 2s 131ms/step - loss: 1.1127 - acc: 0.3946 - val_loss: 1.0717 - val_acc: 0.4436\n",
      "Epoch 5/20\n",
      "17/17 [==============================] - 2s 130ms/step - loss: 1.0627 - acc: 0.4797 - val_loss: 1.0468 - val_acc: 0.4060\n",
      "Epoch 6/20\n",
      "17/17 [==============================] - 2s 131ms/step - loss: 1.0973 - acc: 0.4545 - val_loss: 1.0236 - val_acc: 0.4286\n",
      "Epoch 7/20\n",
      "17/17 [==============================] - 2s 130ms/step - loss: 1.0695 - acc: 0.4797 - val_loss: 1.0139 - val_acc: 0.4662\n",
      "Epoch 8/20\n",
      "17/17 [==============================] - 2s 130ms/step - loss: 1.0575 - acc: 0.4758 - val_loss: 1.0464 - val_acc: 0.4662\n",
      "Epoch 9/20\n",
      "17/17 [==============================] - 2s 129ms/step - loss: 1.0267 - acc: 0.5126 - val_loss: 1.0444 - val_acc: 0.4586\n",
      "Epoch 10/20\n",
      "17/17 [==============================] - 2s 130ms/step - loss: 1.0056 - acc: 0.5184 - val_loss: 1.0286 - val_acc: 0.4887\n",
      "Epoch 11/20\n",
      "17/17 [==============================] - 2s 131ms/step - loss: 1.0323 - acc: 0.4932 - val_loss: 1.0249 - val_acc: 0.5263\n",
      "Epoch 12/20\n",
      "17/17 [==============================] - 2s 130ms/step - loss: 0.9992 - acc: 0.5300 - val_loss: 1.0036 - val_acc: 0.5188\n",
      "Epoch 13/20\n",
      "17/17 [==============================] - 2s 130ms/step - loss: 0.9768 - acc: 0.5280 - val_loss: 0.9613 - val_acc: 0.5263\n",
      "Epoch 14/20\n",
      "17/17 [==============================] - 2s 130ms/step - loss: 0.9690 - acc: 0.5474 - val_loss: 0.9533 - val_acc: 0.5414\n",
      "Epoch 15/20\n",
      "17/17 [==============================] - 2s 130ms/step - loss: 0.9773 - acc: 0.5319 - val_loss: 0.9219 - val_acc: 0.5639\n",
      "Epoch 16/20\n",
      "17/17 [==============================] - 2s 130ms/step - loss: 1.0021 - acc: 0.5397 - val_loss: 0.8935 - val_acc: 0.5489\n",
      "Epoch 17/20\n",
      "17/17 [==============================] - 2s 131ms/step - loss: 0.9372 - acc: 0.5474 - val_loss: 0.8700 - val_acc: 0.6090\n",
      "Epoch 18/20\n",
      "17/17 [==============================] - 2s 130ms/step - loss: 0.9201 - acc: 0.5822 - val_loss: 0.8811 - val_acc: 0.5789\n",
      "Epoch 19/20\n",
      "17/17 [==============================] - 2s 131ms/step - loss: 0.8976 - acc: 0.6074 - val_loss: 0.8715 - val_acc: 0.6015\n",
      "Epoch 20/20\n",
      "17/17 [==============================] - 2s 130ms/step - loss: 0.9219 - acc: 0.5919 - val_loss: 0.8629 - val_acc: 0.6241\n"
     ]
    }
   ],
   "source": [
    "seed(1)\n",
    "set_seed(2)\n",
    "\n",
    "model_random.compile(\n",
    "    optimizer=keras.optimizers.Adam(0.0001),\n",
    "    loss=\"categorical_crossentropy\",\n",
    "    metrics=[\"acc\"],\n",
    ")\n",
    "\n",
    "epochs = 20\n",
    "rand_hist = model_random.fit(train_ds, epochs=epochs, validation_data=validation_ds)"
   ]
  },
  {
   "cell_type": "code",
   "execution_count": 9,
   "metadata": {
    "colab": {
     "base_uri": "https://localhost:8080/"
    },
    "executionInfo": {
     "elapsed": 429,
     "status": "ok",
     "timestamp": 1634841815289,
     "user": {
      "displayName": "Moacir Antonelli Ponti",
      "photoUrl": "https://lh3.googleusercontent.com/a-/AOh14Gii-34vbZyib3WjjMBVbm8-88oDpqhrecIMH0SQGg=s64",
      "userId": "09722981635546271521"
     },
     "user_tz": 180
    },
    "id": "HmY_9rKiKHcY",
    "outputId": "ec960aef-4e92-4fef-825a-4eec357f21fa"
   },
   "outputs": [
    {
     "name": "stdout",
     "output_type": "stream",
     "text": [
      "5/5 [==============================] - 0s 28ms/step - loss: 0.8629 - acc: 0.6241\n",
      "Inicializacao Aleatoria. Scores:  [0.8628509044647217, 0.6240601539611816]\n"
     ]
    }
   ],
   "source": [
    "scores = model_random.evaluate(validation_ds)\n",
    "print('Inicializacao Aleatoria. Scores: ', scores)"
   ]
  },
  {
   "cell_type": "markdown",
   "metadata": {
    "id": "RtHrj4HEPHmf"
   },
   "source": [
    "--- \n",
    "### Carregando a CNN \"MobileNet V2\" com pesos pré-treinados\n",
    "\n",
    "**Abordagem 2**: uso de pesos pré-treinados na imagenet para Transferência de Aprendizado\n"
   ]
  },
  {
   "cell_type": "markdown",
   "metadata": {},
   "source": [
    "Agora a MobileNet sera carregada com os pesos ja treinados, ou seja, ela nao será treinada com a nossa base de dados"
   ]
  },
  {
   "cell_type": "code",
   "execution_count": 10,
   "metadata": {
    "colab": {
     "base_uri": "https://localhost:8080/"
    },
    "executionInfo": {
     "elapsed": 2034,
     "status": "ok",
     "timestamp": 1634841817318,
     "user": {
      "displayName": "Moacir Antonelli Ponti",
      "photoUrl": "https://lh3.googleusercontent.com/a-/AOh14Gii-34vbZyib3WjjMBVbm8-88oDpqhrecIMH0SQGg=s64",
      "userId": "09722981635546271521"
     },
     "user_tz": 180
    },
    "id": "DrgMgkniwu__",
    "outputId": "39ef07ff-8ac1-439e-ca96-8e916aa6ce2f"
   },
   "outputs": [
    {
     "name": "stdout",
     "output_type": "stream",
     "text": [
      "Downloading data from https://storage.googleapis.com/tensorflow/keras-applications/mobilenet_v2/mobilenet_v2_weights_tf_dim_ordering_tf_kernels_1.0_128_no_top.h5\n",
      "9412608/9406464 [==============================] - 0s 0us/step\n",
      "9420800/9406464 [==============================] - 0s 0us/step\n",
      "Model: \"model_1\"\n",
      "_________________________________________________________________\n",
      "Layer (type)                 Output Shape              Param #   \n",
      "=================================================================\n",
      "input_4 (InputLayer)         [(None, 128, 128, 3)]     0         \n",
      "_________________________________________________________________\n",
      "sequential (Sequential)      (None, 128, 128, 3)       0         \n",
      "_________________________________________________________________\n",
      "mobilenetv2_1.00_128 (Functi (None, 4, 4, 1280)        2257984   \n",
      "_________________________________________________________________\n",
      "avg_pool (GlobalAveragePooli (None, 1280)              0         \n",
      "_________________________________________________________________\n",
      "projection (Dense)           (None, 160)               204960    \n",
      "_________________________________________________________________\n",
      "dropout_1 (Dropout)          (None, 160)               0         \n",
      "_________________________________________________________________\n",
      "dense_1 (Dense)              (None, 3)                 483       \n",
      "=================================================================\n",
      "Total params: 2,463,427\n",
      "Trainable params: 205,443\n",
      "Non-trainable params: 2,257,984\n",
      "_________________________________________________________________\n"
     ]
    }
   ],
   "source": [
    "base_model = tf.keras.applications.MobileNetV2(\n",
    "    weights=\"imagenet\",\n",
    "    input_shape=(128, 128, 3),\n",
    "    include_top=False\n",
    ")\n",
    "\n",
    "# Tornamos o modelo base não treinável, \"congelando\" os parâmetros\n",
    "base_model.trainable = False\n",
    "\n",
    "# Nosso modelo como anteriormente\n",
    "inputs = keras.Input(shape=(128, 128, 3))\n",
    "x = data_augmentation(inputs) \n",
    "\n",
    "# Incluindo a MobileNetV2 com parametros pré-treinados, mas ainda não treinável\n",
    "x = base_model(x, training=False)\n",
    "x = keras.layers.GlobalAveragePooling2D(name=\"avg_pool\")(x)\n",
    "x = keras.layers.Dense(160,activation=\"relu\", name=\"projection\")(x)\n",
    "x = keras.layers.Dropout(0.3)(x)\n",
    "outputs = keras.layers.Dense(3,activation=\"softmax\")(x)\n",
    "model = keras.Model(inputs, outputs)\n",
    "\n",
    "model.summary()"
   ]
  },
  {
   "cell_type": "markdown",
   "metadata": {
    "id": "G-ueXHNWSiER"
   },
   "source": [
    "#### Passo 1: treinar apenas a camada de saída (softmax)\n"
   ]
  },
  {
   "cell_type": "code",
   "execution_count": 11,
   "metadata": {
    "colab": {
     "base_uri": "https://localhost:8080/"
    },
    "executionInfo": {
     "elapsed": 22710,
     "status": "ok",
     "timestamp": 1634841840017,
     "user": {
      "displayName": "Moacir Antonelli Ponti",
      "photoUrl": "https://lh3.googleusercontent.com/a-/AOh14Gii-34vbZyib3WjjMBVbm8-88oDpqhrecIMH0SQGg=s64",
      "userId": "09722981635546271521"
     },
     "user_tz": 180
    },
    "id": "aR03RSATxX_P",
    "outputId": "785b1958-ce39-47b2-8630-6ab2d4182707",
    "scrolled": true
   },
   "outputs": [
    {
     "name": "stdout",
     "output_type": "stream",
     "text": [
      "Epoch 1/16\n",
      "17/17 [==============================] - 5s 110ms/step - loss: 1.1999 - acc: 0.4429 - val_loss: 0.8419 - val_acc: 0.6241\n",
      "Epoch 2/16\n",
      "17/17 [==============================] - 1s 46ms/step - loss: 0.8829 - acc: 0.6228 - val_loss: 0.6541 - val_acc: 0.7444\n",
      "Epoch 3/16\n",
      "17/17 [==============================] - 1s 47ms/step - loss: 0.7347 - acc: 0.6809 - val_loss: 0.6051 - val_acc: 0.7444\n",
      "Epoch 4/16\n",
      "17/17 [==============================] - 1s 47ms/step - loss: 0.6881 - acc: 0.6847 - val_loss: 0.5819 - val_acc: 0.7368\n",
      "Epoch 5/16\n",
      "17/17 [==============================] - 1s 47ms/step - loss: 0.6622 - acc: 0.6963 - val_loss: 0.5138 - val_acc: 0.7669\n",
      "Epoch 6/16\n",
      "17/17 [==============================] - 1s 47ms/step - loss: 0.6278 - acc: 0.7447 - val_loss: 0.5203 - val_acc: 0.7669\n",
      "Epoch 7/16\n",
      "17/17 [==============================] - 1s 47ms/step - loss: 0.5543 - acc: 0.7582 - val_loss: 0.5084 - val_acc: 0.7820\n",
      "Epoch 8/16\n",
      "17/17 [==============================] - 1s 46ms/step - loss: 0.5986 - acc: 0.7408 - val_loss: 0.4909 - val_acc: 0.7970\n",
      "Epoch 9/16\n",
      "17/17 [==============================] - 1s 47ms/step - loss: 0.5439 - acc: 0.7737 - val_loss: 0.5048 - val_acc: 0.7744\n",
      "Epoch 10/16\n",
      "17/17 [==============================] - 1s 47ms/step - loss: 0.5623 - acc: 0.7756 - val_loss: 0.4580 - val_acc: 0.7970\n",
      "Epoch 11/16\n",
      "17/17 [==============================] - 1s 46ms/step - loss: 0.4705 - acc: 0.8143 - val_loss: 0.5234 - val_acc: 0.7669\n",
      "Epoch 12/16\n",
      "17/17 [==============================] - 1s 47ms/step - loss: 0.4604 - acc: 0.7988 - val_loss: 0.4627 - val_acc: 0.7895\n",
      "Epoch 13/16\n",
      "17/17 [==============================] - 1s 46ms/step - loss: 0.4816 - acc: 0.7892 - val_loss: 0.4773 - val_acc: 0.7895\n",
      "Epoch 14/16\n",
      "17/17 [==============================] - 1s 46ms/step - loss: 0.4668 - acc: 0.8046 - val_loss: 0.4726 - val_acc: 0.7895\n",
      "Epoch 15/16\n",
      "17/17 [==============================] - 1s 47ms/step - loss: 0.4099 - acc: 0.8414 - val_loss: 0.4343 - val_acc: 0.8120\n",
      "Epoch 16/16\n",
      "17/17 [==============================] - 1s 48ms/step - loss: 0.4233 - acc: 0.8182 - val_loss: 0.4496 - val_acc: 0.8045\n"
     ]
    }
   ],
   "source": [
    "seed(1)\n",
    "set_seed(2)\n",
    "\n",
    "model.compile(\n",
    "    optimizer=keras.optimizers.Adam(0.0001),\n",
    "    loss=\"categorical_crossentropy\",\n",
    "    metrics=[\"acc\"],\n",
    ")\n",
    "\n",
    "epochs = 16\n",
    "pt_hist1 = model.fit(train_ds, epochs=epochs, validation_data=validation_ds)"
   ]
  },
  {
   "cell_type": "code",
   "execution_count": 12,
   "metadata": {
    "colab": {
     "base_uri": "https://localhost:8080/"
    },
    "executionInfo": {
     "elapsed": 408,
     "status": "ok",
     "timestamp": 1634841840411,
     "user": {
      "displayName": "Moacir Antonelli Ponti",
      "photoUrl": "https://lh3.googleusercontent.com/a-/AOh14Gii-34vbZyib3WjjMBVbm8-88oDpqhrecIMH0SQGg=s64",
      "userId": "09722981635546271521"
     },
     "user_tz": 180
    },
    "id": "pEPl-KFmKHca",
    "outputId": "3a03421d-3735-46bb-ae46-fde909a472e9"
   },
   "outputs": [
    {
     "name": "stdout",
     "output_type": "stream",
     "text": [
      "5/5 [==============================] - 0s 27ms/step - loss: 0.4496 - acc: 0.8045\n",
      "Transferencia do Aprendizado de Representacaoes. Scores:  [0.44956061244010925, 0.8045112490653992]\n"
     ]
    }
   ],
   "source": [
    "scores = model.evaluate(validation_ds)\n",
    "print('Transferencia do Aprendizado de Representacaoes. Scores: ', scores)"
   ]
  },
  {
   "cell_type": "markdown",
   "metadata": {
    "id": "iZJmEV08Oazi"
   },
   "source": [
    "#### Passo 2: ajuste fino do restante dos parâmetros\n",
    "\n",
    "Executamos mais algumas épocas para tentar melhorar as outras camadas"
   ]
  },
  {
   "cell_type": "code",
   "execution_count": 13,
   "metadata": {
    "colab": {
     "base_uri": "https://localhost:8080/"
    },
    "executionInfo": {
     "elapsed": 16,
     "status": "ok",
     "timestamp": 1634841840412,
     "user": {
      "displayName": "Moacir Antonelli Ponti",
      "photoUrl": "https://lh3.googleusercontent.com/a-/AOh14Gii-34vbZyib3WjjMBVbm8-88oDpqhrecIMH0SQGg=s64",
      "userId": "09722981635546271521"
     },
     "user_tz": 180
    },
    "id": "2mh4g7Jlxasm",
    "outputId": "dc46a0cb-ec25-4a35-8a32-7ae53b713cad"
   },
   "outputs": [
    {
     "name": "stdout",
     "output_type": "stream",
     "text": [
      "<keras.layers.convolutional.DepthwiseConv2D object at 0x7f038ef2cf50> False\n",
      "<keras.layers.normalization.batch_normalization.BatchNormalization object at 0x7f038eec9310> False\n",
      "<keras.layers.advanced_activations.ReLU object at 0x7f038efa5290> False\n",
      "<keras.layers.convolutional.Conv2D object at 0x7f038eecb510> False\n",
      "<keras.layers.normalization.batch_normalization.BatchNormalization object at 0x7f038eebdcd0> True\n",
      "<keras.layers.convolutional.Conv2D object at 0x7f038ef168d0> True\n",
      "<keras.layers.normalization.batch_normalization.BatchNormalization object at 0x7f038eed3b50> True\n",
      "<keras.layers.advanced_activations.ReLU object at 0x7f038eee08d0> True\n",
      "Model: \"model_1\"\n",
      "_________________________________________________________________\n",
      "Layer (type)                 Output Shape              Param #   \n",
      "=================================================================\n",
      "input_4 (InputLayer)         [(None, 128, 128, 3)]     0         \n",
      "_________________________________________________________________\n",
      "sequential (Sequential)      (None, 128, 128, 3)       0         \n",
      "_________________________________________________________________\n",
      "mobilenetv2_1.00_128 (Functi (None, 4, 4, 1280)        2257984   \n",
      "_________________________________________________________________\n",
      "avg_pool (GlobalAveragePooli (None, 1280)              0         \n",
      "_________________________________________________________________\n",
      "projection (Dense)           (None, 160)               204960    \n",
      "_________________________________________________________________\n",
      "dropout_1 (Dropout)          (None, 160)               0         \n",
      "_________________________________________________________________\n",
      "dense_1 (Dense)              (None, 3)                 483       \n",
      "=================================================================\n",
      "Total params: 2,463,427\n",
      "Trainable params: 618,243\n",
      "Non-trainable params: 1,845,184\n",
      "_________________________________________________________________\n"
     ]
    }
   ],
   "source": [
    "# des-congelando o modelo base, permitindo ser treinável\n",
    "\n",
    "# modelo completo\n",
    "base_model.trainable = True\n",
    "\n",
    "# congelando as primeiras camadas, deixando apenas as ultimas treinaveis\n",
    "for layer in base_model.layers[:-4]: \n",
    "    layer.trainable = False\n",
    "    # congela tambem camadas de BN\n",
    "    if isinstance(layer, keras.layers.BatchNormalization):\n",
    "        layer._per_input_updates = {}\n",
    "        \n",
    "# verificando\n",
    "for layer in base_model.layers[-8:]: print(layer, layer.trainable)      \n",
    "# note a diferença no summary\n",
    "model.summary()"
   ]
  },
  {
   "cell_type": "code",
   "execution_count": 14,
   "metadata": {
    "colab": {
     "base_uri": "https://localhost:8080/"
    },
    "executionInfo": {
     "elapsed": 9532,
     "status": "ok",
     "timestamp": 1634841849935,
     "user": {
      "displayName": "Moacir Antonelli Ponti",
      "photoUrl": "https://lh3.googleusercontent.com/a-/AOh14Gii-34vbZyib3WjjMBVbm8-88oDpqhrecIMH0SQGg=s64",
      "userId": "09722981635546271521"
     },
     "user_tz": 180
    },
    "id": "m9fbpGH8KHcb",
    "outputId": "8d7e25e5-24b3-4f36-f5a1-f5064bc7b691"
   },
   "outputs": [
    {
     "name": "stdout",
     "output_type": "stream",
     "text": [
      "Epoch 1/5\n",
      "17/17 [==============================] - 5s 105ms/step - loss: 0.4167 - acc: 0.8298 - val_loss: 0.4481 - val_acc: 0.8045\n",
      "Epoch 2/5\n",
      "17/17 [==============================] - 1s 48ms/step - loss: 0.4172 - acc: 0.8279 - val_loss: 0.4463 - val_acc: 0.8045\n",
      "Epoch 3/5\n",
      "17/17 [==============================] - 1s 48ms/step - loss: 0.4408 - acc: 0.8221 - val_loss: 0.4451 - val_acc: 0.8045\n",
      "Epoch 4/5\n",
      "17/17 [==============================] - 1s 49ms/step - loss: 0.4233 - acc: 0.8375 - val_loss: 0.4449 - val_acc: 0.8045\n",
      "Epoch 5/5\n",
      "17/17 [==============================] - 1s 49ms/step - loss: 0.4298 - acc: 0.8317 - val_loss: 0.4439 - val_acc: 0.7970\n"
     ]
    }
   ],
   "source": [
    "# aqui definimos um passo/learning rate bem pequeno para o ajuste-fino\n",
    "model.compile(\n",
    "    optimizer=keras.optimizers.Adam(10e-7), \n",
    "    loss=\"categorical_crossentropy\",\n",
    "    metrics=[\"acc\"],\n",
    ")\n",
    "\n",
    "epochs = 5\n",
    "pt_hist2 = model.fit(train_ds, epochs=epochs, validation_data=validation_ds)"
   ]
  },
  {
   "cell_type": "code",
   "execution_count": 15,
   "metadata": {
    "colab": {
     "base_uri": "https://localhost:8080/"
    },
    "executionInfo": {
     "elapsed": 13,
     "status": "ok",
     "timestamp": 1634841849936,
     "user": {
      "displayName": "Moacir Antonelli Ponti",
      "photoUrl": "https://lh3.googleusercontent.com/a-/AOh14Gii-34vbZyib3WjjMBVbm8-88oDpqhrecIMH0SQGg=s64",
      "userId": "09722981635546271521"
     },
     "user_tz": 180
    },
    "id": "8wnP42EuKHcb",
    "outputId": "dd0f4aef-39d4-49fb-8af6-33304e957b50"
   },
   "outputs": [
    {
     "name": "stdout",
     "output_type": "stream",
     "text": [
      "5/5 [==============================] - 0s 27ms/step - loss: 0.4439 - acc: 0.7970\n",
      "Ajuste Fino. Scores validacao:  [0.44394323229789734, 0.7969924807548523]\n"
     ]
    }
   ],
   "source": [
    "scores = model.evaluate(validation_ds)\n",
    "print('Ajuste Fino. Scores validacao: ', scores)"
   ]
  },
  {
   "cell_type": "markdown",
   "metadata": {
    "id": "8BV3_JSQQFAY"
   },
   "source": [
    "Comparando o histórico das duas abordagens"
   ]
  },
  {
   "cell_type": "code",
   "execution_count": 16,
   "metadata": {
    "colab": {
     "base_uri": "https://localhost:8080/",
     "height": 284
    },
    "executionInfo": {
     "elapsed": 611,
     "status": "ok",
     "timestamp": 1634841850539,
     "user": {
      "displayName": "Moacir Antonelli Ponti",
      "photoUrl": "https://lh3.googleusercontent.com/a-/AOh14Gii-34vbZyib3WjjMBVbm8-88oDpqhrecIMH0SQGg=s64",
      "userId": "09722981635546271521"
     },
     "user_tz": 180
    },
    "id": "lm8D5MWcQPLY",
    "outputId": "2a1a4d46-2c0b-42d5-bc3e-77f8f0a488b3"
   },
   "outputs": [
    {
     "data": {
      "text/plain": [
       "<matplotlib.legend.Legend at 0x7f038c3d8790>"
      ]
     },
     "execution_count": 16,
     "metadata": {},
     "output_type": "execute_result"
    },
    {
     "data": {
      "image/png": "[encoded data removed]",
      "text/plain": [
       "<Figure size 432x288 with 1 Axes>"
      ]
     },
     "metadata": {
      "needs_background": "light"
     },
     "output_type": "display_data"
    }
   ],
   "source": [
    "pt_tra_hist = np.concatenate((pt_hist1.history['acc'], pt_hist2.history['acc']), axis=None)\n",
    "pt_val_hist = np.concatenate((pt_hist1.history['val_acc'], pt_hist2.history['val_acc']), axis=None)\n",
    "\n",
    "plt.plot(rand_hist.history['acc'])\n",
    "plt.plot(rand_hist.history['val_acc'])\n",
    "plt.plot(pt_tra_hist)\n",
    "plt.plot(pt_val_hist)\n",
    "plt.legend(['rnd_acc','rnd_val_acc','pt_acc','pt_val_acc'])"
   ]
  },
  {
   "cell_type": "markdown",
   "metadata": {
    "id": "Yb3E9VcNTUdi"
   },
   "source": [
    "--- \n",
    "### Obtendo features a partir da CNN \"MobileNet V2\" com pesos pré-treinados\n",
    "\n",
    "**Abordagem 3**: obter a saída dessa rede, sem incluir a camada de predição (softmax).\n",
    "\n",
    "Esse processo *não necessita de treinamento* da rede. Para obter features, incluímos uma nova camada, de Global Pooling e definimos essa camada como sendo a de saída do modelo.\n",
    "\n",
    "Aqui também não incluimos o \"topo\" da rede, cujas camadas dependem de uma entrada de tamanho igual a da ImageNet (224x224) e saída com 1000 classes."
   ]
  },
  {
   "cell_type": "code",
   "execution_count": 17,
   "metadata": {
    "colab": {
     "base_uri": "https://localhost:8080/"
    },
    "executionInfo": {
     "elapsed": 3144,
     "status": "ok",
     "timestamp": 1634841853676,
     "user": {
      "displayName": "Moacir Antonelli Ponti",
      "photoUrl": "https://lh3.googleusercontent.com/a-/AOh14Gii-34vbZyib3WjjMBVbm8-88oDpqhrecIMH0SQGg=s64",
      "userId": "09722981635546271521"
     },
     "user_tz": 180
    },
    "id": "BlX4FmonKHcd",
    "outputId": "28693e52-556c-41ff-ee5f-d6271e80435e"
   },
   "outputs": [
    {
     "name": "stdout",
     "output_type": "stream",
     "text": [
      "\tDados x features obtidas treinamento:  (517, 1280)\n",
      "\tDados x features obtidas test:  (128, 1280)\n"
     ]
    }
   ],
   "source": [
    "# carregando pessos pré-treinados\n",
    "base_model_extraction = keras.applications.MobileNetV2(\n",
    "    weights=\"imagenet\",\n",
    "    input_shape=(128, 128, 3),\n",
    "    include_top=False\n",
    ")\n",
    "\n",
    "# obtemos a camada de saída do modelo carregado (última camada pois não incluímos o topo da rede)\n",
    "base_output = base_model_extraction.layers[-1].output\n",
    "\n",
    "# para evitar uma dimensionalidade alta, definimos uma nova camada de saída\n",
    "feat_layer = keras.layers.GlobalAveragePooling2D()(base_output)\n",
    "\n",
    "# montamos um novo modelo com a entrada do pré-treinado, e saída criada acima\n",
    "model_imagenet = keras.models.Model(base_model_extraction.inputs, feat_layer)\n",
    "\n",
    "# passando os exemplos de treinamento pela rede sem treinamento\n",
    "# o \"predict\" vai nos dar a saída programada, obtida da GlobalAveragePooling2D\n",
    "features_train_mobilenet = np.array(model_imagenet.predict(train_ds))\n",
    "features_val_mobilenet = np.array(model_imagenet.predict(validation_ds))\n",
    "features_test_mobilenet = np.array(model_imagenet.predict(test_ds))\n",
    "\n",
    "print('\\tDados x features obtidas treinamento: ', features_train_mobilenet.shape)\n",
    "print('\\tDados x features obtidas test: ', features_test_mobilenet.shape)"
   ]
  },
  {
   "cell_type": "markdown",
   "metadata": {
    "id": "t967wPyaKHce"
   },
   "source": [
    "As features obtidas podem ser utilizadas para treinar classificadores não profundos ou como índices de sistemas de recuperação baseada em conteúdo.\n",
    "\n",
    "Vamos visualizá-las utilizando uma projeção PCA em duas dimensões"
   ]
  },
  {
   "cell_type": "code",
   "execution_count": 18,
   "metadata": {
    "executionInfo": {
     "elapsed": 1107,
     "status": "ok",
     "timestamp": 1634841854778,
     "user": {
      "displayName": "Moacir Antonelli Ponti",
      "photoUrl": "https://lh3.googleusercontent.com/a-/AOh14Gii-34vbZyib3WjjMBVbm8-88oDpqhrecIMH0SQGg=s64",
      "userId": "09722981635546271521"
     },
     "user_tz": 180
    },
    "id": "_3f9QZB8KHce"
   },
   "outputs": [],
   "source": [
    "from sklearn.decomposition import PCA\n",
    "\n",
    "# pca com dados da ImageNet\n",
    "pca = PCA(n_components=2)\n",
    "pca.fit(features_train_mobilenet)\n",
    "pca_train_imagenet = pca.transform(features_train_mobilenet)"
   ]
  },
  {
   "cell_type": "code",
   "execution_count": 19,
   "metadata": {
    "colab": {
     "base_uri": "https://localhost:8080/"
    },
    "executionInfo": {
     "elapsed": 9,
     "status": "ok",
     "timestamp": 1634841855543,
     "user": {
      "displayName": "Moacir Antonelli Ponti",
      "photoUrl": "https://lh3.googleusercontent.com/a-/AOh14Gii-34vbZyib3WjjMBVbm8-88oDpqhrecIMH0SQGg=s64",
      "userId": "09722981635546271521"
     },
     "user_tz": 180
    },
    "id": "lnyZHw9vKHce",
    "outputId": "0a4d23f1-df4e-4215-dbc7-92928a1e6b3e"
   },
   "outputs": [
    {
     "name": "stdout",
     "output_type": "stream",
     "text": [
      "[0.09472617 0.07667255]\n"
     ]
    }
   ],
   "source": [
    "print(pca.explained_variance_ratio_)"
   ]
  },
  {
   "cell_type": "code",
   "execution_count": 20,
   "metadata": {
    "executionInfo": {
     "elapsed": 392,
     "status": "ok",
     "timestamp": 1634841855930,
     "user": {
      "displayName": "Moacir Antonelli Ponti",
      "photoUrl": "https://lh3.googleusercontent.com/a-/AOh14Gii-34vbZyib3WjjMBVbm8-88oDpqhrecIMH0SQGg=s64",
      "userId": "09722981635546271521"
     },
     "user_tz": 180
    },
    "id": "9T_GioGqKHce"
   },
   "outputs": [],
   "source": [
    "# obtem labels treinamento\n",
    "train_ds2 = train_ds.map(lambda x, y: (x, tf.math.argmax(y,axis=1)))\n",
    "train_labels = list(np.concatenate([y for x, y in train_ds2], axis=0))\n",
    "\n",
    "# obtem labels da validacao\n",
    "validation_ds2 = validation_ds.map(lambda x, y: (x, tf.math.argmax(y,axis=1)))\n",
    "val_labels = list(np.concatenate([y for x, y in validation_ds2], axis=0))\n",
    "\n",
    "# obtem labels do teste\n",
    "test_ds2 = test_ds.map(lambda x, y: (x, tf.math.argmax(y,axis=1)))\n",
    "test_labels = list(np.concatenate([y for x, y in test_ds2], axis=0))"
   ]
  },
  {
   "cell_type": "code",
   "execution_count": 21,
   "metadata": {
    "colab": {
     "base_uri": "https://localhost:8080/"
    },
    "executionInfo": {
     "elapsed": 13,
     "status": "ok",
     "timestamp": 1634841855931,
     "user": {
      "displayName": "Moacir Antonelli Ponti",
      "photoUrl": "https://lh3.googleusercontent.com/a-/AOh14Gii-34vbZyib3WjjMBVbm8-88oDpqhrecIMH0SQGg=s64",
      "userId": "09722981635546271521"
     },
     "user_tz": 180
    },
    "id": "JGlyNKe8KHce",
    "outputId": "5e82954b-7c6f-4a99-e093-1294066baf33"
   },
   "outputs": [
    {
     "data": {
      "text/plain": [
       "(517, 2)"
      ]
     },
     "execution_count": 21,
     "metadata": {},
     "output_type": "execute_result"
    }
   ],
   "source": [
    "pca_train_imagenet.shape"
   ]
  },
  {
   "cell_type": "code",
   "execution_count": 22,
   "metadata": {
    "colab": {
     "base_uri": "https://localhost:8080/",
     "height": 284
    },
    "executionInfo": {
     "elapsed": 690,
     "status": "ok",
     "timestamp": 1634841856615,
     "user": {
      "displayName": "Moacir Antonelli Ponti",
      "photoUrl": "https://lh3.googleusercontent.com/a-/AOh14Gii-34vbZyib3WjjMBVbm8-88oDpqhrecIMH0SQGg=s64",
      "userId": "09722981635546271521"
     },
     "user_tz": 180
    },
    "id": "gNrdSQ77KHcf",
    "outputId": "9b3a5a25-bb5f-464d-a94a-1e0e00d6a6cc"
   },
   "outputs": [
    {
     "data": {
      "text/plain": [
       "<matplotlib.collections.PathCollection at 0x7f0378715550>"
      ]
     },
     "execution_count": 22,
     "metadata": {},
     "output_type": "execute_result"
    },
    {
     "data": {
      "image/png": "[encoded data removed]",
      "text/plain": [
       "<Figure size 432x288 with 1 Axes>"
      ]
     },
     "metadata": {
      "needs_background": "light"
     },
     "output_type": "display_data"
    }
   ],
   "source": [
    "colors = ((np.array(train_labels)/2)*100).astype(int)\n",
    "plt.scatter(pca_train_imagenet[:,0], pca_train_imagenet[:,1], c=colors, alpha=0.5, cmap='jet')"
   ]
  },
  {
   "cell_type": "markdown",
   "metadata": {
    "id": "10vPv8dFKHcf"
   },
   "source": [
    "Usando em um classificador externo"
   ]
  },
  {
   "cell_type": "code",
   "execution_count": 23,
   "metadata": {
    "colab": {
     "base_uri": "https://localhost:8080/"
    },
    "executionInfo": {
     "elapsed": 1470,
     "status": "ok",
     "timestamp": 1634841858079,
     "user": {
      "displayName": "Moacir Antonelli Ponti",
      "photoUrl": "https://lh3.googleusercontent.com/a-/AOh14Gii-34vbZyib3WjjMBVbm8-88oDpqhrecIMH0SQGg=s64",
      "userId": "09722981635546271521"
     },
     "user_tz": 180
    },
    "id": "thSF2EdZKHcf",
    "outputId": "0d369f8e-3eac-4968-d686-d21516d9fac7"
   },
   "outputs": [
    {
     "data": {
      "text/plain": [
       "SVC(C=10, break_ties=False, cache_size=200, class_weight=None, coef0=0.0,\n",
       "    decision_function_shape='ovr', degree=3, gamma='scale', kernel='rbf',\n",
       "    max_iter=-1, probability=True, random_state=None, shrinking=True, tol=0.001,\n",
       "    verbose=False)"
      ]
     },
     "execution_count": 23,
     "metadata": {},
     "output_type": "execute_result"
    }
   ],
   "source": [
    "from sklearn.svm import SVC\n",
    "\n",
    "svm_feat1 = SVC(C=10, probability=True)\n",
    "svm_feat1.fit(features_train_mobilenet, train_labels)"
   ]
  },
  {
   "cell_type": "code",
   "execution_count": 24,
   "metadata": {
    "colab": {
     "base_uri": "https://localhost:8080/"
    },
    "executionInfo": {
     "elapsed": 282,
     "status": "ok",
     "timestamp": 1634841858353,
     "user": {
      "displayName": "Moacir Antonelli Ponti",
      "photoUrl": "https://lh3.googleusercontent.com/a-/AOh14Gii-34vbZyib3WjjMBVbm8-88oDpqhrecIMH0SQGg=s64",
      "userId": "09722981635546271521"
     },
     "user_tz": 180
    },
    "id": "IKC8hvglKHcf",
    "outputId": "f21aa01e-5cd8-4ad5-db52-8ffdd15caba0"
   },
   "outputs": [
    {
     "name": "stdout",
     "output_type": "stream",
     "text": [
      "Acurácia Treinamento:\n",
      "1.0\n",
      "Acurácia Validacao:\n",
      "0.8872180451127819\n"
     ]
    }
   ],
   "source": [
    "print('Acurácia Treinamento:')\n",
    "print(svm_feat1.score(features_train_mobilenet, train_labels))\n",
    "print('Acurácia Validacao:')\n",
    "print(svm_feat1.score(features_val_mobilenet, val_labels))"
   ]
  },
  {
   "cell_type": "markdown",
   "metadata": {
    "id": "EkgodmPEKHcf"
   },
   "source": [
    "---\n",
    "Resumo comparativo das abordagens:\n",
    "\n",
    "1. Treinamento a partir de pesos aleatórios\n",
    "2. Pré-treinamento + Transferência de Aprendizado e Ajuste Fino\n",
    "3. Extração de Características + Classificador Externo"
   ]
  },
  {
   "cell_type": "code",
   "execution_count": 25,
   "metadata": {
    "colab": {
     "base_uri": "https://localhost:8080/"
    },
    "executionInfo": {
     "elapsed": 857,
     "status": "ok",
     "timestamp": 1634841859205,
     "user": {
      "displayName": "Moacir Antonelli Ponti",
      "photoUrl": "https://lh3.googleusercontent.com/a-/AOh14Gii-34vbZyib3WjjMBVbm8-88oDpqhrecIMH0SQGg=s64",
      "userId": "09722981635546271521"
     },
     "user_tz": 180
    },
    "id": "6_ndy9JoKHch",
    "outputId": "332317dc-9cad-4b24-ed0a-1b5541d7820e"
   },
   "outputs": [
    {
     "name": "stdout",
     "output_type": "stream",
     "text": [
      "MobileNet treinada de pesos aleatorios:  61.71875\n",
      "MobileNet pré-treinada + ajuste fino:  80.46875\n",
      "Features MobileNet + SVM:  91.40625\n"
     ]
    }
   ],
   "source": [
    "scoresR = model_random.evaluate(test_ds, verbose=0)\n",
    "scoresTL = model.evaluate(test_ds, verbose=0)\n",
    "scoresF = svm_feat1.score(features_test_mobilenet, test_labels)\n",
    "\n",
    "print('MobileNet treinada de pesos aleatorios: ', scoresR[1]*100)\n",
    "print('MobileNet pré-treinada + ajuste fino: ', scoresTL[1]*100)\n",
    "print('Features MobileNet + SVM: ', scoresF*100)"
   ]
  },
  {
   "cell_type": "code",
   "execution_count": null,
   "metadata": {
    "id": "qEAo8aV1KNmW"
   },
   "outputs": [],
   "source": []
  }
 ],
 "metadata": {
  "accelerator": "GPU",
  "colab": {
   "collapsed_sections": [],
   "name": "RNAP-04-Aula_notebook2_pretreinamento_aumentacao.ipynb",
   "provenance": []
  },
  "kernelspec": {
   "display_name": "Python 3",
   "language": "python",
   "name": "python3"
  },
  "language_info": {
   "codemirror_mode": {
    "name": "ipython",
    "version": 3
   },
   "file_extension": ".py",
   "mimetype": "text/x-python",
   "name": "python",
   "nbconvert_exporter": "python",
   "pygments_lexer": "ipython3",
   "version": "3.8.5"
  },
  "toc": {
   "base_numbering": 1,
   "nav_menu": {},
   "number_sections": true,
   "sideBar": true,
   "skip_h1_title": false,
   "title_cell": "Table of Contents",
   "title_sidebar": "Contents",
   "toc_cell": false,
   "toc_position": {},
   "toc_section_display": true,
   "toc_window_display": false
  },
  "varInspector": {
   "cols": {
    "lenName": 16,
    "lenType": 16,
    "lenVar": 40
   },
   "kernels_config": {
    "python": {
     "delete_cmd_postfix": "",
     "delete_cmd_prefix": "del ",
     "library": "var_list.py",
     "varRefreshCmd": "print(var_dic_list())"
    },
    "r": {
     "delete_cmd_postfix": ") ",
     "delete_cmd_prefix": "rm(",
     "library": "var_list.r",
     "varRefreshCmd": "cat(var_dic_list()) "
    }
   },
   "types_to_exclude": [
    "module",
    "function",
    "builtin_function_or_method",
    "instance",
    "_Feature"
   ],
   "window_display": false
  },
  "widgets": {
   "application/vnd.jupyter.widget-state+json": {
    "016df6a2170e425e8576b9520499a6be": {
     "model_module": "@jupyter-widgets/controls",
     "model_module_version": "1.5.0",
     "model_name": "HBoxModel",
     "state": {
      "_dom_classes": [],
      "_model_module": "@jupyter-widgets/controls",
      "_model_module_version": "1.5.0",
      "_model_name": "HBoxModel",
      "_view_count": null,
      "_view_module": "@jupyter-widgets/controls",
      "_view_module_version": "1.5.0",
      "_view_name": "HBoxView",
      "box_style": "",
      "children": [
       "IPY_MODEL_fb711cbd37e747fe8299ca6e201fc26f",
       "IPY_MODEL_d5f11520aae147e9aadb8f8e94a3138d",
       "IPY_MODEL_5e991bf7f08e45d6a3004b2c08f86985"
      ],
      "layout": "IPY_MODEL_63b10000a4fa4fd8ac2d44545d304a69"
     }
    },
    "01781556d5cc484284893677253f281a": {
     "model_module": "@jupyter-widgets/base",
     "model_module_version": "1.2.0",
     "model_name": "LayoutModel",
     "state": {
      "_model_module": "@jupyter-widgets/base",
      "_model_module_version": "1.2.0",
      "_model_name": "LayoutModel",
      "_view_count": null,
      "_view_module": "@jupyter-widgets/base",
      "_view_module_version": "1.2.0",
      "_view_name": "LayoutView",
      "align_content": null,
      "align_items": null,
      "align_self": null,
      "border": null,
      "bottom": null,
      "display": null,
      "flex": null,
      "flex_flow": null,
      "grid_area": null,
      "grid_auto_columns": null,
      "grid_auto_flow": null,
      "grid_auto_rows": null,
      "grid_column": null,
      "grid_gap": null,
      "grid_row": null,
      "grid_template_areas": null,
      "grid_template_columns": null,
      "grid_template_rows": null,
      "height": null,
      "justify_content": null,
      "justify_items": null,
      "left": null,
      "margin": null,
      "max_height": null,
      "max_width": null,
      "min_height": null,
      "min_width": null,
      "object_fit": null,
      "object_position": null,
      "order": null,
      "overflow": null,
      "overflow_x": null,
      "overflow_y": null,
      "padding": null,
      "right": null,
      "top": null,
      "visibility": null,
      "width": null
     }
    },
    "0b5c495b14fe47f397afdd538266232b": {
     "model_module": "@jupyter-widgets/base",
     "model_module_version": "1.2.0",
     "model_name": "LayoutModel",
     "state": {
      "_model_module": "@jupyter-widgets/base",
      "_model_module_version": "1.2.0",
      "_model_name": "LayoutModel",
      "_view_count": null,
      "_view_module": "@jupyter-widgets/base",
      "_view_module_version": "1.2.0",
      "_view_name": "LayoutView",
      "align_content": null,
      "align_items": null,
      "align_self": null,
      "border": null,
      "bottom": null,
      "display": null,
      "flex": null,
      "flex_flow": null,
      "grid_area": null,
      "grid_auto_columns": null,
      "grid_auto_flow": null,
      "grid_auto_rows": null,
      "grid_column": null,
      "grid_gap": null,
      "grid_row": null,
      "grid_template_areas": null,
      "grid_template_columns": null,
      "grid_template_rows": null,
      "height": null,
      "justify_content": null,
      "justify_items": null,
      "left": null,
      "margin": null,
      "max_height": null,
      "max_width": null,
      "min_height": null,
      "min_width": null,
      "object_fit": null,
      "object_position": null,
      "order": null,
      "overflow": null,
      "overflow_x": null,
      "overflow_y": null,
      "padding": null,
      "right": null,
      "top": null,
      "visibility": null,
      "width": null
     }
    },
    "0bee25b73feb4dd2a088a8f16f9a0fa8": {
     "model_module": "@jupyter-widgets/controls",
     "model_module_version": "1.5.0",
     "model_name": "ProgressStyleModel",
     "state": {
      "_model_module": "@jupyter-widgets/controls",
      "_model_module_version": "1.5.0",
      "_model_name": "ProgressStyleModel",
      "_view_count": null,
      "_view_module": "@jupyter-widgets/base",
      "_view_module_version": "1.2.0",
      "_view_name": "StyleView",
      "bar_color": null,
      "description_width": ""
     }
    },
    "102f3276a46346b3b26bc19ee2c3473d": {
     "model_module": "@jupyter-widgets/controls",
     "model_module_version": "1.5.0",
     "model_name": "HTMLModel",
     "state": {
      "_dom_classes": [],
      "_model_module": "@jupyter-widgets/controls",
      "_model_module_version": "1.5.0",
      "_model_name": "HTMLModel",
      "_view_count": null,
      "_view_module": "@jupyter-widgets/controls",
      "_view_module_version": "1.5.0",
      "_view_name": "HTMLView",
      "description": "",
      "description_tooltip": null,
      "layout": "IPY_MODEL_fb38178fc2a04c6daffde627da266abf",
      "placeholder": "​",
      "style": "IPY_MODEL_e3abf0f4060140b9887baa7a6ce3c591",
      "value": " 77/0 [00:00&lt;00:00, 428.98 examples/s]"
     }
    },
    "10adf018ae874ee185dd08f3b68cd693": {
     "model_module": "@jupyter-widgets/controls",
     "model_module_version": "1.5.0",
     "model_name": "ProgressStyleModel",
     "state": {
      "_model_module": "@jupyter-widgets/controls",
      "_model_module_version": "1.5.0",
      "_model_name": "ProgressStyleModel",
      "_view_count": null,
      "_view_module": "@jupyter-widgets/base",
      "_view_module_version": "1.2.0",
      "_view_name": "StyleView",
      "bar_color": null,
      "description_width": ""
     }
    },
    "15dca0ebda484f91b36c1aaace179924": {
     "model_module": "@jupyter-widgets/controls",
     "model_module_version": "1.5.0",
     "model_name": "FloatProgressModel",
     "state": {
      "_dom_classes": [],
      "_model_module": "@jupyter-widgets/controls",
      "_model_module_version": "1.5.0",
      "_model_name": "FloatProgressModel",
      "_view_count": null,
      "_view_module": "@jupyter-widgets/controls",
      "_view_module_version": "1.5.0",
      "_view_name": "ProgressView",
      "bar_style": "success",
      "description": "",
      "description_tooltip": null,
      "layout": "IPY_MODEL_fc81548f00ff4c96a3b57caf64d38698",
      "max": 1,
      "min": 0,
      "orientation": "horizontal",
      "style": "IPY_MODEL_d39e6bf5ee1a4962955a18843aba6597",
      "value": 1
     }
    },
    "17e731fc312843ef9304fc94ee10b3a5": {
     "model_module": "@jupyter-widgets/controls",
     "model_module_version": "1.5.0",
     "model_name": "DescriptionStyleModel",
     "state": {
      "_model_module": "@jupyter-widgets/controls",
      "_model_module_version": "1.5.0",
      "_model_name": "DescriptionStyleModel",
      "_view_count": null,
      "_view_module": "@jupyter-widgets/base",
      "_view_module_version": "1.2.0",
      "_view_name": "StyleView",
      "description_width": ""
     }
    },
    "199e81cbf7424156934525ccb8f8f518": {
     "model_module": "@jupyter-widgets/controls",
     "model_module_version": "1.5.0",
     "model_name": "HBoxModel",
     "state": {
      "_dom_classes": [],
      "_model_module": "@jupyter-widgets/controls",
      "_model_module_version": "1.5.0",
      "_model_name": "HBoxModel",
      "_view_count": null,
      "_view_module": "@jupyter-widgets/controls",
      "_view_module_version": "1.5.0",
      "_view_name": "HBoxView",
      "box_style": "",
      "children": [
       "IPY_MODEL_1f3164827d88413cab8438bdfd89bcf6",
       "IPY_MODEL_3c309380249e47cdb1c37073c08b7be5",
       "IPY_MODEL_102f3276a46346b3b26bc19ee2c3473d"
      ],
      "layout": "IPY_MODEL_607fa3feda524fbdac5a3250c3afa12e"
     }
    },
    "1b75df8a12a94c6d9457df433e813b62": {
     "model_module": "@jupyter-widgets/controls",
     "model_module_version": "1.5.0",
     "model_name": "HTMLModel",
     "state": {
      "_dom_classes": [],
      "_model_module": "@jupyter-widgets/controls",
      "_model_module_version": "1.5.0",
      "_model_name": "HTMLModel",
      "_view_count": null,
      "_view_module": "@jupyter-widgets/controls",
      "_view_module_version": "1.5.0",
      "_view_name": "HTMLView",
      "description": "",
      "description_tooltip": null,
      "layout": "IPY_MODEL_8f7d2fa1bb9444359c167ec802e3d3bf",
      "placeholder": "​",
      "style": "IPY_MODEL_fa0e65c2a94a48ec85d9ee2a520ec753",
      "value": ""
     }
    },
    "1f3164827d88413cab8438bdfd89bcf6": {
     "model_module": "@jupyter-widgets/controls",
     "model_module_version": "1.5.0",
     "model_name": "HTMLModel",
     "state": {
      "_dom_classes": [],
      "_model_module": "@jupyter-widgets/controls",
      "_model_module_version": "1.5.0",
      "_model_name": "HTMLModel",
      "_view_count": null,
      "_view_module": "@jupyter-widgets/controls",
      "_view_module_version": "1.5.0",
      "_view_name": "HTMLView",
      "description": "",
      "description_tooltip": null,
      "layout": "IPY_MODEL_b68aa7e777a94b20bb22b2956c6fc129",
      "placeholder": "​",
      "style": "IPY_MODEL_6a821377de074d3db1377fa7c53e728b",
      "value": ""
     }
    },
    "2b4255f7dd34459b91ae0ba8802799d5": {
     "model_module": "@jupyter-widgets/base",
     "model_module_version": "1.2.0",
     "model_name": "LayoutModel",
     "state": {
      "_model_module": "@jupyter-widgets/base",
      "_model_module_version": "1.2.0",
      "_model_name": "LayoutModel",
      "_view_count": null,
      "_view_module": "@jupyter-widgets/base",
      "_view_module_version": "1.2.0",
      "_view_name": "LayoutView",
      "align_content": null,
      "align_items": null,
      "align_self": null,
      "border": null,
      "bottom": null,
      "display": null,
      "flex": null,
      "flex_flow": null,
      "grid_area": null,
      "grid_auto_columns": null,
      "grid_auto_flow": null,
      "grid_auto_rows": null,
      "grid_column": null,
      "grid_gap": null,
      "grid_row": null,
      "grid_template_areas": null,
      "grid_template_columns": null,
      "grid_template_rows": null,
      "height": null,
      "justify_content": null,
      "justify_items": null,
      "left": null,
      "margin": null,
      "max_height": null,
      "max_width": null,
      "min_height": null,
      "min_width": null,
      "object_fit": null,
      "object_position": null,
      "order": null,
      "overflow": null,
      "overflow_x": null,
      "overflow_y": null,
      "padding": null,
      "right": null,
      "top": null,
      "visibility": null,
      "width": null
     }
    },
    "32ff6495c796446e97be9e0155139dee": {
     "model_module": "@jupyter-widgets/base",
     "model_module_version": "1.2.0",
     "model_name": "LayoutModel",
     "state": {
      "_model_module": "@jupyter-widgets/base",
      "_model_module_version": "1.2.0",
      "_model_name": "LayoutModel",
      "_view_count": null,
      "_view_module": "@jupyter-widgets/base",
      "_view_module_version": "1.2.0",
      "_view_name": "LayoutView",
      "align_content": null,
      "align_items": null,
      "align_self": null,
      "border": null,
      "bottom": null,
      "display": null,
      "flex": null,
      "flex_flow": null,
      "grid_area": null,
      "grid_auto_columns": null,
      "grid_auto_flow": null,
      "grid_auto_rows": null,
      "grid_column": null,
      "grid_gap": null,
      "grid_row": null,
      "grid_template_areas": null,
      "grid_template_columns": null,
      "grid_template_rows": null,
      "height": null,
      "justify_content": null,
      "justify_items": null,
      "left": null,
      "margin": null,
      "max_height": null,
      "max_width": null,
      "min_height": null,
      "min_width": null,
      "object_fit": null,
      "object_position": null,
      "order": null,
      "overflow": null,
      "overflow_x": null,
      "overflow_y": null,
      "padding": null,
      "right": null,
      "top": null,
      "visibility": null,
      "width": "20px"
     }
    },
    "333841e129e04830996b3b9af3e3fa54": {
     "model_module": "@jupyter-widgets/controls",
     "model_module_version": "1.5.0",
     "model_name": "HTMLModel",
     "state": {
      "_dom_classes": [],
      "_model_module": "@jupyter-widgets/controls",
      "_model_module_version": "1.5.0",
      "_model_name": "HTMLModel",
      "_view_count": null,
      "_view_module": "@jupyter-widgets/controls",
      "_view_module_version": "1.5.0",
      "_view_name": "HTMLView",
      "description": "",
      "description_tooltip": null,
      "layout": "IPY_MODEL_b091475a8a0447e697ae1a43a97a15f7",
      "placeholder": "​",
      "style": "IPY_MODEL_f0478231d234492388fe2586e086be73",
      "value": " 1033/1034 [00:00&lt;00:00, 3057.50 examples/s]"
     }
    },
    "379a84382885462798d426f84bdab15d": {
     "model_module": "@jupyter-widgets/base",
     "model_module_version": "1.2.0",
     "model_name": "LayoutModel",
     "state": {
      "_model_module": "@jupyter-widgets/base",
      "_model_module_version": "1.2.0",
      "_model_name": "LayoutModel",
      "_view_count": null,
      "_view_module": "@jupyter-widgets/base",
      "_view_module_version": "1.2.0",
      "_view_name": "LayoutView",
      "align_content": null,
      "align_items": null,
      "align_self": null,
      "border": null,
      "bottom": null,
      "display": null,
      "flex": null,
      "flex_flow": null,
      "grid_area": null,
      "grid_auto_columns": null,
      "grid_auto_flow": null,
      "grid_auto_rows": null,
      "grid_column": null,
      "grid_gap": null,
      "grid_row": null,
      "grid_template_areas": null,
      "grid_template_columns": null,
      "grid_template_rows": null,
      "height": null,
      "justify_content": null,
      "justify_items": null,
      "left": null,
      "margin": null,
      "max_height": null,
      "max_width": null,
      "min_height": null,
      "min_width": null,
      "object_fit": null,
      "object_position": null,
      "order": null,
      "overflow": null,
      "overflow_x": null,
      "overflow_y": null,
      "padding": null,
      "right": null,
      "top": null,
      "visibility": null,
      "width": null
     }
    },
    "3afb8c2da9264dab9515b297b6245213": {
     "model_module": "@jupyter-widgets/controls",
     "model_module_version": "1.5.0",
     "model_name": "DescriptionStyleModel",
     "state": {
      "_model_module": "@jupyter-widgets/controls",
      "_model_module_version": "1.5.0",
      "_model_name": "DescriptionStyleModel",
      "_view_count": null,
      "_view_module": "@jupyter-widgets/base",
      "_view_module_version": "1.2.0",
      "_view_name": "StyleView",
      "description_width": ""
     }
    },
    "3c23c7c79105422f96074a3c77bd9297": {
     "model_module": "@jupyter-widgets/base",
     "model_module_version": "1.2.0",
     "model_name": "LayoutModel",
     "state": {
      "_model_module": "@jupyter-widgets/base",
      "_model_module_version": "1.2.0",
      "_model_name": "LayoutModel",
      "_view_count": null,
      "_view_module": "@jupyter-widgets/base",
      "_view_module_version": "1.2.0",
      "_view_name": "LayoutView",
      "align_content": null,
      "align_items": null,
      "align_self": null,
      "border": null,
      "bottom": null,
      "display": null,
      "flex": null,
      "flex_flow": null,
      "grid_area": null,
      "grid_auto_columns": null,
      "grid_auto_flow": null,
      "grid_auto_rows": null,
      "grid_column": null,
      "grid_gap": null,
      "grid_row": null,
      "grid_template_areas": null,
      "grid_template_columns": null,
      "grid_template_rows": null,
      "height": null,
      "justify_content": null,
      "justify_items": null,
      "left": null,
      "margin": null,
      "max_height": null,
      "max_width": null,
      "min_height": null,
      "min_width": null,
      "object_fit": null,
      "object_position": null,
      "order": null,
      "overflow": null,
      "overflow_x": null,
      "overflow_y": null,
      "padding": null,
      "right": null,
      "top": null,
      "visibility": null,
      "width": "20px"
     }
    },
    "3c309380249e47cdb1c37073c08b7be5": {
     "model_module": "@jupyter-widgets/controls",
     "model_module_version": "1.5.0",
     "model_name": "FloatProgressModel",
     "state": {
      "_dom_classes": [],
      "_model_module": "@jupyter-widgets/controls",
      "_model_module_version": "1.5.0",
      "_model_name": "FloatProgressModel",
      "_view_count": null,
      "_view_module": "@jupyter-widgets/controls",
      "_view_module_version": "1.5.0",
      "_view_name": "ProgressView",
      "bar_style": "info",
      "description": "",
      "description_tooltip": null,
      "layout": "IPY_MODEL_ccbd03feae10462e91e7fc9d6a16f1e5",
      "max": 1,
      "min": 0,
      "orientation": "horizontal",
      "style": "IPY_MODEL_af0d57299a184a66ad53099c0132a5db",
      "value": 1
     }
    },
    "3e3e73a55ece4a1499a41043db6b33c7": {
     "model_module": "@jupyter-widgets/controls",
     "model_module_version": "1.5.0",
     "model_name": "HBoxModel",
     "state": {
      "_dom_classes": [],
      "_model_module": "@jupyter-widgets/controls",
      "_model_module_version": "1.5.0",
      "_model_name": "HBoxModel",
      "_view_count": null,
      "_view_module": "@jupyter-widgets/controls",
      "_view_module_version": "1.5.0",
      "_view_name": "HBoxView",
      "box_style": "",
      "children": [
       "IPY_MODEL_f1c7e61902874f4d88697316e8ce29e2",
       "IPY_MODEL_d01c07e7205748ae893a141e0a092a19",
       "IPY_MODEL_333841e129e04830996b3b9af3e3fa54"
      ],
      "layout": "IPY_MODEL_7160e56b8f8542479fe1b503dc4ae062"
     }
    },
    "3e43265ed5e54388bb3f9e1744ad5ad3": {
     "model_module": "@jupyter-widgets/controls",
     "model_module_version": "1.5.0",
     "model_name": "DescriptionStyleModel",
     "state": {
      "_model_module": "@jupyter-widgets/controls",
      "_model_module_version": "1.5.0",
      "_model_name": "DescriptionStyleModel",
      "_view_count": null,
      "_view_module": "@jupyter-widgets/base",
      "_view_module_version": "1.2.0",
      "_view_name": "StyleView",
      "description_width": ""
     }
    },
    "40dc4d84167442e9b58e66ff9d1cf5b5": {
     "model_module": "@jupyter-widgets/controls",
     "model_module_version": "1.5.0",
     "model_name": "DescriptionStyleModel",
     "state": {
      "_model_module": "@jupyter-widgets/controls",
      "_model_module_version": "1.5.0",
      "_model_name": "DescriptionStyleModel",
      "_view_count": null,
      "_view_module": "@jupyter-widgets/base",
      "_view_module_version": "1.2.0",
      "_view_name": "StyleView",
      "description_width": ""
     }
    },
    "4289544c17de494da0d62c4b9ddb7c39": {
     "model_module": "@jupyter-widgets/base",
     "model_module_version": "1.2.0",
     "model_name": "LayoutModel",
     "state": {
      "_model_module": "@jupyter-widgets/base",
      "_model_module_version": "1.2.0",
      "_model_name": "LayoutModel",
      "_view_count": null,
      "_view_module": "@jupyter-widgets/base",
      "_view_module_version": "1.2.0",
      "_view_name": "LayoutView",
      "align_content": null,
      "align_items": null,
      "align_self": null,
      "border": null,
      "bottom": null,
      "display": null,
      "flex": null,
      "flex_flow": null,
      "grid_area": null,
      "grid_auto_columns": null,
      "grid_auto_flow": null,
      "grid_auto_rows": null,
      "grid_column": null,
      "grid_gap": null,
      "grid_row": null,
      "grid_template_areas": null,
      "grid_template_columns": null,
      "grid_template_rows": null,
      "height": null,
      "justify_content": null,
      "justify_items": null,
      "left": null,
      "margin": null,
      "max_height": null,
      "max_width": null,
      "min_height": null,
      "min_width": null,
      "object_fit": null,
      "object_position": null,
      "order": null,
      "overflow": null,
      "overflow_x": null,
      "overflow_y": null,
      "padding": null,
      "right": null,
      "top": null,
      "visibility": null,
      "width": null
     }
    },
    "465459d80df24a1eb618522e0f81f0d5": {
     "model_module": "@jupyter-widgets/base",
     "model_module_version": "1.2.0",
     "model_name": "LayoutModel",
     "state": {
      "_model_module": "@jupyter-widgets/base",
      "_model_module_version": "1.2.0",
      "_model_name": "LayoutModel",
      "_view_count": null,
      "_view_module": "@jupyter-widgets/base",
      "_view_module_version": "1.2.0",
      "_view_name": "LayoutView",
      "align_content": null,
      "align_items": null,
      "align_self": null,
      "border": null,
      "bottom": null,
      "display": null,
      "flex": null,
      "flex_flow": null,
      "grid_area": null,
      "grid_auto_columns": null,
      "grid_auto_flow": null,
      "grid_auto_rows": null,
      "grid_column": null,
      "grid_gap": null,
      "grid_row": null,
      "grid_template_areas": null,
      "grid_template_columns": null,
      "grid_template_rows": null,
      "height": null,
      "justify_content": null,
      "justify_items": null,
      "left": null,
      "margin": null,
      "max_height": null,
      "max_width": null,
      "min_height": null,
      "min_width": null,
      "object_fit": null,
      "object_position": null,
      "order": null,
      "overflow": null,
      "overflow_x": null,
      "overflow_y": null,
      "padding": null,
      "right": null,
      "top": null,
      "visibility": null,
      "width": null
     }
    },
    "4711f2e484d9469eb3e463458323ca6c": {
     "model_module": "@jupyter-widgets/controls",
     "model_module_version": "1.5.0",
     "model_name": "HTMLModel",
     "state": {
      "_dom_classes": [],
      "_model_module": "@jupyter-widgets/controls",
      "_model_module_version": "1.5.0",
      "_model_name": "HTMLModel",
      "_view_count": null,
      "_view_module": "@jupyter-widgets/controls",
      "_view_module_version": "1.5.0",
      "_view_name": "HTMLView",
      "description": "",
      "description_tooltip": null,
      "layout": "IPY_MODEL_63dc8713a0914631bb5ce74a9a448acb",
      "placeholder": "​",
      "style": "IPY_MODEL_17e731fc312843ef9304fc94ee10b3a5",
      "value": " 982/0 [00:01&lt;00:00, 1092.50 examples/s]"
     }
    },
    "505ed9d5425b49bebdaf5b2cdec2a1cd": {
     "model_module": "@jupyter-widgets/controls",
     "model_module_version": "1.5.0",
     "model_name": "DescriptionStyleModel",
     "state": {
      "_model_module": "@jupyter-widgets/controls",
      "_model_module_version": "1.5.0",
      "_model_name": "DescriptionStyleModel",
      "_view_count": null,
      "_view_module": "@jupyter-widgets/base",
      "_view_module_version": "1.2.0",
      "_view_name": "StyleView",
      "description_width": ""
     }
    },
    "50b7c423ef7649588db2975a284aeaa6": {
     "model_module": "@jupyter-widgets/base",
     "model_module_version": "1.2.0",
     "model_name": "LayoutModel",
     "state": {
      "_model_module": "@jupyter-widgets/base",
      "_model_module_version": "1.2.0",
      "_model_name": "LayoutModel",
      "_view_count": null,
      "_view_module": "@jupyter-widgets/base",
      "_view_module_version": "1.2.0",
      "_view_name": "LayoutView",
      "align_content": null,
      "align_items": null,
      "align_self": null,
      "border": null,
      "bottom": null,
      "display": null,
      "flex": null,
      "flex_flow": null,
      "grid_area": null,
      "grid_auto_columns": null,
      "grid_auto_flow": null,
      "grid_auto_rows": null,
      "grid_column": null,
      "grid_gap": null,
      "grid_row": null,
      "grid_template_areas": null,
      "grid_template_columns": null,
      "grid_template_rows": null,
      "height": null,
      "justify_content": null,
      "justify_items": null,
      "left": null,
      "margin": null,
      "max_height": null,
      "max_width": null,
      "min_height": null,
      "min_width": null,
      "object_fit": null,
      "object_position": null,
      "order": null,
      "overflow": null,
      "overflow_x": null,
      "overflow_y": null,
      "padding": null,
      "right": null,
      "top": null,
      "visibility": null,
      "width": null
     }
    },
    "51aa65e691564d6eb3d9fdaac43cee3f": {
     "model_module": "@jupyter-widgets/base",
     "model_module_version": "1.2.0",
     "model_name": "LayoutModel",
     "state": {
      "_model_module": "@jupyter-widgets/base",
      "_model_module_version": "1.2.0",
      "_model_name": "LayoutModel",
      "_view_count": null,
      "_view_module": "@jupyter-widgets/base",
      "_view_module_version": "1.2.0",
      "_view_name": "LayoutView",
      "align_content": null,
      "align_items": null,
      "align_self": null,
      "border": null,
      "bottom": null,
      "display": null,
      "flex": null,
      "flex_flow": null,
      "grid_area": null,
      "grid_auto_columns": null,
      "grid_auto_flow": null,
      "grid_auto_rows": null,
      "grid_column": null,
      "grid_gap": null,
      "grid_row": null,
      "grid_template_areas": null,
      "grid_template_columns": null,
      "grid_template_rows": null,
      "height": null,
      "justify_content": null,
      "justify_items": null,
      "left": null,
      "margin": null,
      "max_height": null,
      "max_width": null,
      "min_height": null,
      "min_width": null,
      "object_fit": null,
      "object_position": null,
      "order": null,
      "overflow": null,
      "overflow_x": null,
      "overflow_y": null,
      "padding": null,
      "right": null,
      "top": null,
      "visibility": null,
      "width": null
     }
    },
    "55b853f834754df4b499692b69e6ec41": {
     "model_module": "@jupyter-widgets/controls",
     "model_module_version": "1.5.0",
     "model_name": "HTMLModel",
     "state": {
      "_dom_classes": [],
      "_model_module": "@jupyter-widgets/controls",
      "_model_module_version": "1.5.0",
      "_model_name": "HTMLModel",
      "_view_count": null,
      "_view_module": "@jupyter-widgets/controls",
      "_view_module_version": "1.5.0",
      "_view_name": "HTMLView",
      "description": "",
      "description_tooltip": null,
      "layout": "IPY_MODEL_d7752dd85a584c64ad7010057a8757b2",
      "placeholder": "​",
      "style": "IPY_MODEL_5f376c51ca8747f39b606da941698b61",
      "value": " 170/170 [00:04&lt;00:00, 41.75 MiB/s]"
     }
    },
    "56a0cd0aeab147f38912594d7293721b": {
     "model_module": "@jupyter-widgets/base",
     "model_module_version": "1.2.0",
     "model_name": "LayoutModel",
     "state": {
      "_model_module": "@jupyter-widgets/base",
      "_model_module_version": "1.2.0",
      "_model_name": "LayoutModel",
      "_view_count": null,
      "_view_module": "@jupyter-widgets/base",
      "_view_module_version": "1.2.0",
      "_view_name": "LayoutView",
      "align_content": null,
      "align_items": null,
      "align_self": null,
      "border": null,
      "bottom": null,
      "display": null,
      "flex": null,
      "flex_flow": null,
      "grid_area": null,
      "grid_auto_columns": null,
      "grid_auto_flow": null,
      "grid_auto_rows": null,
      "grid_column": null,
      "grid_gap": null,
      "grid_row": null,
      "grid_template_areas": null,
      "grid_template_columns": null,
      "grid_template_rows": null,
      "height": null,
      "justify_content": null,
      "justify_items": null,
      "left": null,
      "margin": null,
      "max_height": null,
      "max_width": null,
      "min_height": null,
      "min_width": null,
      "object_fit": null,
      "object_position": null,
      "order": null,
      "overflow": null,
      "overflow_x": null,
      "overflow_y": null,
      "padding": null,
      "right": null,
      "top": null,
      "visibility": null,
      "width": null
     }
    },
    "5e991bf7f08e45d6a3004b2c08f86985": {
     "model_module": "@jupyter-widgets/controls",
     "model_module_version": "1.5.0",
     "model_name": "HTMLModel",
     "state": {
      "_dom_classes": [],
      "_model_module": "@jupyter-widgets/controls",
      "_model_module_version": "1.5.0",
      "_model_name": "HTMLModel",
      "_view_count": null,
      "_view_module": "@jupyter-widgets/controls",
      "_view_module_version": "1.5.0",
      "_view_name": "HTMLView",
      "description": "",
      "description_tooltip": null,
      "layout": "IPY_MODEL_51aa65e691564d6eb3d9fdaac43cee3f",
      "placeholder": "​",
      "style": "IPY_MODEL_fa854cc756f44bb7b1faa4747571c85a",
      "value": " 127/128 [00:00&lt;00:00, 1764.24 examples/s]"
     }
    },
    "5f376c51ca8747f39b606da941698b61": {
     "model_module": "@jupyter-widgets/controls",
     "model_module_version": "1.5.0",
     "model_name": "DescriptionStyleModel",
     "state": {
      "_model_module": "@jupyter-widgets/controls",
      "_model_module_version": "1.5.0",
      "_model_name": "DescriptionStyleModel",
      "_view_count": null,
      "_view_module": "@jupyter-widgets/base",
      "_view_module_version": "1.2.0",
      "_view_name": "StyleView",
      "description_width": ""
     }
    },
    "5f397729d9e94f45b06b0eb8e9f089ef": {
     "model_module": "@jupyter-widgets/base",
     "model_module_version": "1.2.0",
     "model_name": "LayoutModel",
     "state": {
      "_model_module": "@jupyter-widgets/base",
      "_model_module_version": "1.2.0",
      "_model_name": "LayoutModel",
      "_view_count": null,
      "_view_module": "@jupyter-widgets/base",
      "_view_module_version": "1.2.0",
      "_view_name": "LayoutView",
      "align_content": null,
      "align_items": null,
      "align_self": null,
      "border": null,
      "bottom": null,
      "display": null,
      "flex": null,
      "flex_flow": null,
      "grid_area": null,
      "grid_auto_columns": null,
      "grid_auto_flow": null,
      "grid_auto_rows": null,
      "grid_column": null,
      "grid_gap": null,
      "grid_row": null,
      "grid_template_areas": null,
      "grid_template_columns": null,
      "grid_template_rows": null,
      "height": null,
      "justify_content": null,
      "justify_items": null,
      "left": null,
      "margin": null,
      "max_height": null,
      "max_width": null,
      "min_height": null,
      "min_width": null,
      "object_fit": null,
      "object_position": null,
      "order": null,
      "overflow": null,
      "overflow_x": null,
      "overflow_y": null,
      "padding": null,
      "right": null,
      "top": null,
      "visibility": null,
      "width": null
     }
    },
    "607fa3feda524fbdac5a3250c3afa12e": {
     "model_module": "@jupyter-widgets/base",
     "model_module_version": "1.2.0",
     "model_name": "LayoutModel",
     "state": {
      "_model_module": "@jupyter-widgets/base",
      "_model_module_version": "1.2.0",
      "_model_name": "LayoutModel",
      "_view_count": null,
      "_view_module": "@jupyter-widgets/base",
      "_view_module_version": "1.2.0",
      "_view_name": "LayoutView",
      "align_content": null,
      "align_items": null,
      "align_self": null,
      "border": null,
      "bottom": null,
      "display": null,
      "flex": null,
      "flex_flow": null,
      "grid_area": null,
      "grid_auto_columns": null,
      "grid_auto_flow": null,
      "grid_auto_rows": null,
      "grid_column": null,
      "grid_gap": null,
      "grid_row": null,
      "grid_template_areas": null,
      "grid_template_columns": null,
      "grid_template_rows": null,
      "height": null,
      "justify_content": null,
      "justify_items": null,
      "left": null,
      "margin": null,
      "max_height": null,
      "max_width": null,
      "min_height": null,
      "min_width": null,
      "object_fit": null,
      "object_position": null,
      "order": null,
      "overflow": null,
      "overflow_x": null,
      "overflow_y": null,
      "padding": null,
      "right": null,
      "top": null,
      "visibility": null,
      "width": null
     }
    },
    "63b10000a4fa4fd8ac2d44545d304a69": {
     "model_module": "@jupyter-widgets/base",
     "model_module_version": "1.2.0",
     "model_name": "LayoutModel",
     "state": {
      "_model_module": "@jupyter-widgets/base",
      "_model_module_version": "1.2.0",
      "_model_name": "LayoutModel",
      "_view_count": null,
      "_view_module": "@jupyter-widgets/base",
      "_view_module_version": "1.2.0",
      "_view_name": "LayoutView",
      "align_content": null,
      "align_items": null,
      "align_self": null,
      "border": null,
      "bottom": null,
      "display": null,
      "flex": null,
      "flex_flow": null,
      "grid_area": null,
      "grid_auto_columns": null,
      "grid_auto_flow": null,
      "grid_auto_rows": null,
      "grid_column": null,
      "grid_gap": null,
      "grid_row": null,
      "grid_template_areas": null,
      "grid_template_columns": null,
      "grid_template_rows": null,
      "height": null,
      "justify_content": null,
      "justify_items": null,
      "left": null,
      "margin": null,
      "max_height": null,
      "max_width": null,
      "min_height": null,
      "min_width": null,
      "object_fit": null,
      "object_position": null,
      "order": null,
      "overflow": null,
      "overflow_x": null,
      "overflow_y": null,
      "padding": null,
      "right": null,
      "top": null,
      "visibility": null,
      "width": null
     }
    },
    "63dc8713a0914631bb5ce74a9a448acb": {
     "model_module": "@jupyter-widgets/base",
     "model_module_version": "1.2.0",
     "model_name": "LayoutModel",
     "state": {
      "_model_module": "@jupyter-widgets/base",
      "_model_module_version": "1.2.0",
      "_model_name": "LayoutModel",
      "_view_count": null,
      "_view_module": "@jupyter-widgets/base",
      "_view_module_version": "1.2.0",
      "_view_name": "LayoutView",
      "align_content": null,
      "align_items": null,
      "align_self": null,
      "border": null,
      "bottom": null,
      "display": null,
      "flex": null,
      "flex_flow": null,
      "grid_area": null,
      "grid_auto_columns": null,
      "grid_auto_flow": null,
      "grid_auto_rows": null,
      "grid_column": null,
      "grid_gap": null,
      "grid_row": null,
      "grid_template_areas": null,
      "grid_template_columns": null,
      "grid_template_rows": null,
      "height": null,
      "justify_content": null,
      "justify_items": null,
      "left": null,
      "margin": null,
      "max_height": null,
      "max_width": null,
      "min_height": null,
      "min_width": null,
      "object_fit": null,
      "object_position": null,
      "order": null,
      "overflow": null,
      "overflow_x": null,
      "overflow_y": null,
      "padding": null,
      "right": null,
      "top": null,
      "visibility": null,
      "width": null
     }
    },
    "6a821377de074d3db1377fa7c53e728b": {
     "model_module": "@jupyter-widgets/controls",
     "model_module_version": "1.5.0",
     "model_name": "DescriptionStyleModel",
     "state": {
      "_model_module": "@jupyter-widgets/controls",
      "_model_module_version": "1.5.0",
      "_model_name": "DescriptionStyleModel",
      "_view_count": null,
      "_view_module": "@jupyter-widgets/base",
      "_view_module_version": "1.2.0",
      "_view_name": "StyleView",
      "description_width": ""
     }
    },
    "7160e56b8f8542479fe1b503dc4ae062": {
     "model_module": "@jupyter-widgets/base",
     "model_module_version": "1.2.0",
     "model_name": "LayoutModel",
     "state": {
      "_model_module": "@jupyter-widgets/base",
      "_model_module_version": "1.2.0",
      "_model_name": "LayoutModel",
      "_view_count": null,
      "_view_module": "@jupyter-widgets/base",
      "_view_module_version": "1.2.0",
      "_view_name": "LayoutView",
      "align_content": null,
      "align_items": null,
      "align_self": null,
      "border": null,
      "bottom": null,
      "display": null,
      "flex": null,
      "flex_flow": null,
      "grid_area": null,
      "grid_auto_columns": null,
      "grid_auto_flow": null,
      "grid_auto_rows": null,
      "grid_column": null,
      "grid_gap": null,
      "grid_row": null,
      "grid_template_areas": null,
      "grid_template_columns": null,
      "grid_template_rows": null,
      "height": null,
      "justify_content": null,
      "justify_items": null,
      "left": null,
      "margin": null,
      "max_height": null,
      "max_width": null,
      "min_height": null,
      "min_width": null,
      "object_fit": null,
      "object_position": null,
      "order": null,
      "overflow": null,
      "overflow_x": null,
      "overflow_y": null,
      "padding": null,
      "right": null,
      "top": null,
      "visibility": null,
      "width": null
     }
    },
    "7214b475957c43c8918af74c4a02da11": {
     "model_module": "@jupyter-widgets/controls",
     "model_module_version": "1.5.0",
     "model_name": "DescriptionStyleModel",
     "state": {
      "_model_module": "@jupyter-widgets/controls",
      "_model_module_version": "1.5.0",
      "_model_name": "DescriptionStyleModel",
      "_view_count": null,
      "_view_module": "@jupyter-widgets/base",
      "_view_module_version": "1.2.0",
      "_view_name": "StyleView",
      "description_width": ""
     }
    },
    "738a2f4b69c34519b573c5fdd60985ed": {
     "model_module": "@jupyter-widgets/controls",
     "model_module_version": "1.5.0",
     "model_name": "HTMLModel",
     "state": {
      "_dom_classes": [],
      "_model_module": "@jupyter-widgets/controls",
      "_model_module_version": "1.5.0",
      "_model_name": "HTMLModel",
      "_view_count": null,
      "_view_module": "@jupyter-widgets/controls",
      "_view_module_version": "1.5.0",
      "_view_name": "HTMLView",
      "description": "",
      "description_tooltip": null,
      "layout": "IPY_MODEL_e55dd308503b48d3b190aeb860441ff2",
      "placeholder": "​",
      "style": "IPY_MODEL_ebdaee28c5124e23a71bf045e4554b91",
      "value": " 132/133 [00:00&lt;00:00, 1538.49 examples/s]"
     }
    },
    "82b3570a80c645ac999f9b6448ce1f17": {
     "model_module": "@jupyter-widgets/base",
     "model_module_version": "1.2.0",
     "model_name": "LayoutModel",
     "state": {
      "_model_module": "@jupyter-widgets/base",
      "_model_module_version": "1.2.0",
      "_model_name": "LayoutModel",
      "_view_count": null,
      "_view_module": "@jupyter-widgets/base",
      "_view_module_version": "1.2.0",
      "_view_name": "LayoutView",
      "align_content": null,
      "align_items": null,
      "align_self": null,
      "border": null,
      "bottom": null,
      "display": null,
      "flex": null,
      "flex_flow": null,
      "grid_area": null,
      "grid_auto_columns": null,
      "grid_auto_flow": null,
      "grid_auto_rows": null,
      "grid_column": null,
      "grid_gap": null,
      "grid_row": null,
      "grid_template_areas": null,
      "grid_template_columns": null,
      "grid_template_rows": null,
      "height": null,
      "justify_content": null,
      "justify_items": null,
      "left": null,
      "margin": null,
      "max_height": null,
      "max_width": null,
      "min_height": null,
      "min_width": null,
      "object_fit": null,
      "object_position": null,
      "order": null,
      "overflow": null,
      "overflow_x": null,
      "overflow_y": null,
      "padding": null,
      "right": null,
      "top": null,
      "visibility": null,
      "width": "20px"
     }
    },
    "845a2bacf8b14eb596ce3ec7481ca667": {
     "model_module": "@jupyter-widgets/controls",
     "model_module_version": "1.5.0",
     "model_name": "HTMLModel",
     "state": {
      "_dom_classes": [],
      "_model_module": "@jupyter-widgets/controls",
      "_model_module_version": "1.5.0",
      "_model_name": "HTMLModel",
      "_view_count": null,
      "_view_module": "@jupyter-widgets/controls",
      "_view_module_version": "1.5.0",
      "_view_name": "HTMLView",
      "description": "",
      "description_tooltip": null,
      "layout": "IPY_MODEL_2b4255f7dd34459b91ae0ba8802799d5",
      "placeholder": "​",
      "style": "IPY_MODEL_505ed9d5425b49bebdaf5b2cdec2a1cd",
      "value": ""
     }
    },
    "846a4bff7bb841e5a9deb9be423f0ed6": {
     "model_module": "@jupyter-widgets/controls",
     "model_module_version": "1.5.0",
     "model_name": "FloatProgressModel",
     "state": {
      "_dom_classes": [],
      "_model_module": "@jupyter-widgets/controls",
      "_model_module_version": "1.5.0",
      "_model_name": "FloatProgressModel",
      "_view_count": null,
      "_view_module": "@jupyter-widgets/controls",
      "_view_module_version": "1.5.0",
      "_view_name": "ProgressView",
      "bar_style": "info",
      "description": "",
      "description_tooltip": null,
      "layout": "IPY_MODEL_32ff6495c796446e97be9e0155139dee",
      "max": 1,
      "min": 0,
      "orientation": "horizontal",
      "style": "IPY_MODEL_e05975d0c5d34358a5c8ecff6af348de",
      "value": 1
     }
    },
    "84aa3226cc3c417eba4e3ab0f0d043a9": {
     "model_module": "@jupyter-widgets/controls",
     "model_module_version": "1.5.0",
     "model_name": "FloatProgressModel",
     "state": {
      "_dom_classes": [],
      "_model_module": "@jupyter-widgets/controls",
      "_model_module_version": "1.5.0",
      "_model_name": "FloatProgressModel",
      "_view_count": null,
      "_view_module": "@jupyter-widgets/controls",
      "_view_module_version": "1.5.0",
      "_view_name": "ProgressView",
      "bar_style": "danger",
      "description": "",
      "description_tooltip": null,
      "layout": "IPY_MODEL_d94a4cc118764cbdba713b49f25fdb76",
      "max": 133,
      "min": 0,
      "orientation": "horizontal",
      "style": "IPY_MODEL_a63c58ed83ac470abd29c312ef64cf46",
      "value": 132
     }
    },
    "8975dff4d53046a8a706e891c3a0b68c": {
     "model_module": "@jupyter-widgets/base",
     "model_module_version": "1.2.0",
     "model_name": "LayoutModel",
     "state": {
      "_model_module": "@jupyter-widgets/base",
      "_model_module_version": "1.2.0",
      "_model_name": "LayoutModel",
      "_view_count": null,
      "_view_module": "@jupyter-widgets/base",
      "_view_module_version": "1.2.0",
      "_view_name": "LayoutView",
      "align_content": null,
      "align_items": null,
      "align_self": null,
      "border": null,
      "bottom": null,
      "display": null,
      "flex": null,
      "flex_flow": null,
      "grid_area": null,
      "grid_auto_columns": null,
      "grid_auto_flow": null,
      "grid_auto_rows": null,
      "grid_column": null,
      "grid_gap": null,
      "grid_row": null,
      "grid_template_areas": null,
      "grid_template_columns": null,
      "grid_template_rows": null,
      "height": null,
      "justify_content": null,
      "justify_items": null,
      "left": null,
      "margin": null,
      "max_height": null,
      "max_width": null,
      "min_height": null,
      "min_width": null,
      "object_fit": null,
      "object_position": null,
      "order": null,
      "overflow": null,
      "overflow_x": null,
      "overflow_y": null,
      "padding": null,
      "right": null,
      "top": null,
      "visibility": null,
      "width": null
     }
    },
    "897c78494f4b46ab80215ff2b82c65c3": {
     "model_module": "@jupyter-widgets/controls",
     "model_module_version": "1.5.0",
     "model_name": "FloatProgressModel",
     "state": {
      "_dom_classes": [],
      "_model_module": "@jupyter-widgets/controls",
      "_model_module_version": "1.5.0",
      "_model_name": "FloatProgressModel",
      "_view_count": null,
      "_view_module": "@jupyter-widgets/controls",
      "_view_module_version": "1.5.0",
      "_view_name": "ProgressView",
      "bar_style": "success",
      "description": "",
      "description_tooltip": null,
      "layout": "IPY_MODEL_82b3570a80c645ac999f9b6448ce1f17",
      "max": 1,
      "min": 0,
      "orientation": "horizontal",
      "style": "IPY_MODEL_0bee25b73feb4dd2a088a8f16f9a0fa8",
      "value": 1
     }
    },
    "8a27c3e8efbe4f8db2163e9971b410d1": {
     "model_module": "@jupyter-widgets/controls",
     "model_module_version": "1.5.0",
     "model_name": "DescriptionStyleModel",
     "state": {
      "_model_module": "@jupyter-widgets/controls",
      "_model_module_version": "1.5.0",
      "_model_name": "DescriptionStyleModel",
      "_view_count": null,
      "_view_module": "@jupyter-widgets/base",
      "_view_module_version": "1.2.0",
      "_view_name": "StyleView",
      "description_width": ""
     }
    },
    "8f7d2fa1bb9444359c167ec802e3d3bf": {
     "model_module": "@jupyter-widgets/base",
     "model_module_version": "1.2.0",
     "model_name": "LayoutModel",
     "state": {
      "_model_module": "@jupyter-widgets/base",
      "_model_module_version": "1.2.0",
      "_model_name": "LayoutModel",
      "_view_count": null,
      "_view_module": "@jupyter-widgets/base",
      "_view_module_version": "1.2.0",
      "_view_name": "LayoutView",
      "align_content": null,
      "align_items": null,
      "align_self": null,
      "border": null,
      "bottom": null,
      "display": null,
      "flex": null,
      "flex_flow": null,
      "grid_area": null,
      "grid_auto_columns": null,
      "grid_auto_flow": null,
      "grid_auto_rows": null,
      "grid_column": null,
      "grid_gap": null,
      "grid_row": null,
      "grid_template_areas": null,
      "grid_template_columns": null,
      "grid_template_rows": null,
      "height": null,
      "justify_content": null,
      "justify_items": null,
      "left": null,
      "margin": null,
      "max_height": null,
      "max_width": null,
      "min_height": null,
      "min_width": null,
      "object_fit": null,
      "object_position": null,
      "order": null,
      "overflow": null,
      "overflow_x": null,
      "overflow_y": null,
      "padding": null,
      "right": null,
      "top": null,
      "visibility": null,
      "width": null
     }
    },
    "928d3edae23d447da50e4dbfecafbef4": {
     "model_module": "@jupyter-widgets/controls",
     "model_module_version": "1.5.0",
     "model_name": "HBoxModel",
     "state": {
      "_dom_classes": [],
      "_model_module": "@jupyter-widgets/controls",
      "_model_module_version": "1.5.0",
      "_model_name": "HBoxModel",
      "_view_count": null,
      "_view_module": "@jupyter-widgets/controls",
      "_view_module_version": "1.5.0",
      "_view_name": "HBoxView",
      "box_style": "",
      "children": [
       "IPY_MODEL_d3ec723a4ff749d88d8517abbfa1f7b9",
       "IPY_MODEL_15dca0ebda484f91b36c1aaace179924",
       "IPY_MODEL_55b853f834754df4b499692b69e6ec41"
      ],
      "layout": "IPY_MODEL_0b5c495b14fe47f397afdd538266232b"
     }
    },
    "95117dd15aff478893684e1f4ff6b285": {
     "model_module": "@jupyter-widgets/controls",
     "model_module_version": "1.5.0",
     "model_name": "HBoxModel",
     "state": {
      "_dom_classes": [],
      "_model_module": "@jupyter-widgets/controls",
      "_model_module_version": "1.5.0",
      "_model_name": "HBoxModel",
      "_view_count": null,
      "_view_module": "@jupyter-widgets/controls",
      "_view_module_version": "1.5.0",
      "_view_name": "HBoxView",
      "box_style": "",
      "children": [
       "IPY_MODEL_cc810a7a820f4d52a286de0c4c1bfb44",
       "IPY_MODEL_897c78494f4b46ab80215ff2b82c65c3",
       "IPY_MODEL_ccda14d6f8e844118b2d82a18a2bb21e"
      ],
      "layout": "IPY_MODEL_01781556d5cc484284893677253f281a"
     }
    },
    "9b1d316c0eec4fa48cfe03449cfcdffe": {
     "model_module": "@jupyter-widgets/controls",
     "model_module_version": "1.5.0",
     "model_name": "HBoxModel",
     "state": {
      "_dom_classes": [],
      "_model_module": "@jupyter-widgets/controls",
      "_model_module_version": "1.5.0",
      "_model_name": "HBoxModel",
      "_view_count": null,
      "_view_module": "@jupyter-widgets/controls",
      "_view_module_version": "1.5.0",
      "_view_name": "HBoxView",
      "box_style": "",
      "children": [
       "IPY_MODEL_1b75df8a12a94c6d9457df433e813b62",
       "IPY_MODEL_b47e6317132047989583068bf2641f6c",
       "IPY_MODEL_4711f2e484d9469eb3e463458323ca6c"
      ],
      "layout": "IPY_MODEL_8975dff4d53046a8a706e891c3a0b68c"
     }
    },
    "a63c58ed83ac470abd29c312ef64cf46": {
     "model_module": "@jupyter-widgets/controls",
     "model_module_version": "1.5.0",
     "model_name": "ProgressStyleModel",
     "state": {
      "_model_module": "@jupyter-widgets/controls",
      "_model_module_version": "1.5.0",
      "_model_name": "ProgressStyleModel",
      "_view_count": null,
      "_view_module": "@jupyter-widgets/base",
      "_view_module_version": "1.2.0",
      "_view_name": "StyleView",
      "bar_color": null,
      "description_width": ""
     }
    },
    "af0d57299a184a66ad53099c0132a5db": {
     "model_module": "@jupyter-widgets/controls",
     "model_module_version": "1.5.0",
     "model_name": "ProgressStyleModel",
     "state": {
      "_model_module": "@jupyter-widgets/controls",
      "_model_module_version": "1.5.0",
      "_model_name": "ProgressStyleModel",
      "_view_count": null,
      "_view_module": "@jupyter-widgets/base",
      "_view_module_version": "1.2.0",
      "_view_name": "StyleView",
      "bar_color": null,
      "description_width": ""
     }
    },
    "b091475a8a0447e697ae1a43a97a15f7": {
     "model_module": "@jupyter-widgets/base",
     "model_module_version": "1.2.0",
     "model_name": "LayoutModel",
     "state": {
      "_model_module": "@jupyter-widgets/base",
      "_model_module_version": "1.2.0",
      "_model_name": "LayoutModel",
      "_view_count": null,
      "_view_module": "@jupyter-widgets/base",
      "_view_module_version": "1.2.0",
      "_view_name": "LayoutView",
      "align_content": null,
      "align_items": null,
      "align_self": null,
      "border": null,
      "bottom": null,
      "display": null,
      "flex": null,
      "flex_flow": null,
      "grid_area": null,
      "grid_auto_columns": null,
      "grid_auto_flow": null,
      "grid_auto_rows": null,
      "grid_column": null,
      "grid_gap": null,
      "grid_row": null,
      "grid_template_areas": null,
      "grid_template_columns": null,
      "grid_template_rows": null,
      "height": null,
      "justify_content": null,
      "justify_items": null,
      "left": null,
      "margin": null,
      "max_height": null,
      "max_width": null,
      "min_height": null,
      "min_width": null,
      "object_fit": null,
      "object_position": null,
      "order": null,
      "overflow": null,
      "overflow_x": null,
      "overflow_y": null,
      "padding": null,
      "right": null,
      "top": null,
      "visibility": null,
      "width": null
     }
    },
    "b2237debf356484e9d036a623a21fcc8": {
     "model_module": "@jupyter-widgets/controls",
     "model_module_version": "1.5.0",
     "model_name": "HTMLModel",
     "state": {
      "_dom_classes": [],
      "_model_module": "@jupyter-widgets/controls",
      "_model_module_version": "1.5.0",
      "_model_name": "HTMLModel",
      "_view_count": null,
      "_view_module": "@jupyter-widgets/controls",
      "_view_module_version": "1.5.0",
      "_view_name": "HTMLView",
      "description": "",
      "description_tooltip": null,
      "layout": "IPY_MODEL_e7472bd9871f4f0fad3e0c6d9b4170f5",
      "placeholder": "​",
      "style": "IPY_MODEL_40dc4d84167442e9b58e66ff9d1cf5b5",
      "value": " 98/0 [00:00&lt;00:00, 538.09 examples/s]"
     }
    },
    "b3ca228c56ec4e52823ff781ecc0f1df": {
     "model_module": "@jupyter-widgets/controls",
     "model_module_version": "1.5.0",
     "model_name": "HBoxModel",
     "state": {
      "_dom_classes": [],
      "_model_module": "@jupyter-widgets/controls",
      "_model_module_version": "1.5.0",
      "_model_name": "HBoxModel",
      "_view_count": null,
      "_view_module": "@jupyter-widgets/controls",
      "_view_module_version": "1.5.0",
      "_view_name": "HBoxView",
      "box_style": "",
      "children": [
       "IPY_MODEL_845a2bacf8b14eb596ce3ec7481ca667",
       "IPY_MODEL_846a4bff7bb841e5a9deb9be423f0ed6",
       "IPY_MODEL_b2237debf356484e9d036a623a21fcc8"
      ],
      "layout": "IPY_MODEL_ed368a37708f4699b8950c007b00faf7"
     }
    },
    "b47e6317132047989583068bf2641f6c": {
     "model_module": "@jupyter-widgets/controls",
     "model_module_version": "1.5.0",
     "model_name": "FloatProgressModel",
     "state": {
      "_dom_classes": [],
      "_model_module": "@jupyter-widgets/controls",
      "_model_module_version": "1.5.0",
      "_model_name": "FloatProgressModel",
      "_view_count": null,
      "_view_module": "@jupyter-widgets/controls",
      "_view_module_version": "1.5.0",
      "_view_name": "ProgressView",
      "bar_style": "info",
      "description": "",
      "description_tooltip": null,
      "layout": "IPY_MODEL_3c23c7c79105422f96074a3c77bd9297",
      "max": 1,
      "min": 0,
      "orientation": "horizontal",
      "style": "IPY_MODEL_e50af6428d034afd954745090e18e58a",
      "value": 1
     }
    },
    "b68aa7e777a94b20bb22b2956c6fc129": {
     "model_module": "@jupyter-widgets/base",
     "model_module_version": "1.2.0",
     "model_name": "LayoutModel",
     "state": {
      "_model_module": "@jupyter-widgets/base",
      "_model_module_version": "1.2.0",
      "_model_name": "LayoutModel",
      "_view_count": null,
      "_view_module": "@jupyter-widgets/base",
      "_view_module_version": "1.2.0",
      "_view_name": "LayoutView",
      "align_content": null,
      "align_items": null,
      "align_self": null,
      "border": null,
      "bottom": null,
      "display": null,
      "flex": null,
      "flex_flow": null,
      "grid_area": null,
      "grid_auto_columns": null,
      "grid_auto_flow": null,
      "grid_auto_rows": null,
      "grid_column": null,
      "grid_gap": null,
      "grid_row": null,
      "grid_template_areas": null,
      "grid_template_columns": null,
      "grid_template_rows": null,
      "height": null,
      "justify_content": null,
      "justify_items": null,
      "left": null,
      "margin": null,
      "max_height": null,
      "max_width": null,
      "min_height": null,
      "min_width": null,
      "object_fit": null,
      "object_position": null,
      "order": null,
      "overflow": null,
      "overflow_x": null,
      "overflow_y": null,
      "padding": null,
      "right": null,
      "top": null,
      "visibility": null,
      "width": null
     }
    },
    "c47bee7d4ecd494595f060a66e72b165": {
     "model_module": "@jupyter-widgets/controls",
     "model_module_version": "1.5.0",
     "model_name": "HTMLModel",
     "state": {
      "_dom_classes": [],
      "_model_module": "@jupyter-widgets/controls",
      "_model_module_version": "1.5.0",
      "_model_name": "HTMLModel",
      "_view_count": null,
      "_view_module": "@jupyter-widgets/controls",
      "_view_module_version": "1.5.0",
      "_view_name": "HTMLView",
      "description": "",
      "description_tooltip": null,
      "layout": "IPY_MODEL_f26b27af5f8e4730b11eb0504340673f",
      "placeholder": "​",
      "style": "IPY_MODEL_c4d04f3aa9504b018c3a9f5cb5235921",
      "value": " 99%"
     }
    },
    "c4d04f3aa9504b018c3a9f5cb5235921": {
     "model_module": "@jupyter-widgets/controls",
     "model_module_version": "1.5.0",
     "model_name": "DescriptionStyleModel",
     "state": {
      "_model_module": "@jupyter-widgets/controls",
      "_model_module_version": "1.5.0",
      "_model_name": "DescriptionStyleModel",
      "_view_count": null,
      "_view_module": "@jupyter-widgets/base",
      "_view_module_version": "1.2.0",
      "_view_name": "StyleView",
      "description_width": ""
     }
    },
    "caf5792549754807954cda03f886a0c1": {
     "model_module": "@jupyter-widgets/controls",
     "model_module_version": "1.5.0",
     "model_name": "HBoxModel",
     "state": {
      "_dom_classes": [],
      "_model_module": "@jupyter-widgets/controls",
      "_model_module_version": "1.5.0",
      "_model_name": "HBoxModel",
      "_view_count": null,
      "_view_module": "@jupyter-widgets/controls",
      "_view_module_version": "1.5.0",
      "_view_name": "HBoxView",
      "box_style": "",
      "children": [
       "IPY_MODEL_c47bee7d4ecd494595f060a66e72b165",
       "IPY_MODEL_84aa3226cc3c417eba4e3ab0f0d043a9",
       "IPY_MODEL_738a2f4b69c34519b573c5fdd60985ed"
      ],
      "layout": "IPY_MODEL_e6a1833ac0f64fc3b85cbbd5c5a964b6"
     }
    },
    "cc810a7a820f4d52a286de0c4c1bfb44": {
     "model_module": "@jupyter-widgets/controls",
     "model_module_version": "1.5.0",
     "model_name": "HTMLModel",
     "state": {
      "_dom_classes": [],
      "_model_module": "@jupyter-widgets/controls",
      "_model_module_version": "1.5.0",
      "_model_name": "HTMLModel",
      "_view_count": null,
      "_view_module": "@jupyter-widgets/controls",
      "_view_module_version": "1.5.0",
      "_view_name": "HTMLView",
      "description": "",
      "description_tooltip": null,
      "layout": "IPY_MODEL_465459d80df24a1eb618522e0f81f0d5",
      "placeholder": "​",
      "style": "IPY_MODEL_7214b475957c43c8918af74c4a02da11",
      "value": "Dl Completed...: 100%"
     }
    },
    "ccbd03feae10462e91e7fc9d6a16f1e5": {
     "model_module": "@jupyter-widgets/base",
     "model_module_version": "1.2.0",
     "model_name": "LayoutModel",
     "state": {
      "_model_module": "@jupyter-widgets/base",
      "_model_module_version": "1.2.0",
      "_model_name": "LayoutModel",
      "_view_count": null,
      "_view_module": "@jupyter-widgets/base",
      "_view_module_version": "1.2.0",
      "_view_name": "LayoutView",
      "align_content": null,
      "align_items": null,
      "align_self": null,
      "border": null,
      "bottom": null,
      "display": null,
      "flex": null,
      "flex_flow": null,
      "grid_area": null,
      "grid_auto_columns": null,
      "grid_auto_flow": null,
      "grid_auto_rows": null,
      "grid_column": null,
      "grid_gap": null,
      "grid_row": null,
      "grid_template_areas": null,
      "grid_template_columns": null,
      "grid_template_rows": null,
      "height": null,
      "justify_content": null,
      "justify_items": null,
      "left": null,
      "margin": null,
      "max_height": null,
      "max_width": null,
      "min_height": null,
      "min_width": null,
      "object_fit": null,
      "object_position": null,
      "order": null,
      "overflow": null,
      "overflow_x": null,
      "overflow_y": null,
      "padding": null,
      "right": null,
      "top": null,
      "visibility": null,
      "width": "20px"
     }
    },
    "ccda14d6f8e844118b2d82a18a2bb21e": {
     "model_module": "@jupyter-widgets/controls",
     "model_module_version": "1.5.0",
     "model_name": "HTMLModel",
     "state": {
      "_dom_classes": [],
      "_model_module": "@jupyter-widgets/controls",
      "_model_module_version": "1.5.0",
      "_model_name": "HTMLModel",
      "_view_count": null,
      "_view_module": "@jupyter-widgets/controls",
      "_view_module_version": "1.5.0",
      "_view_name": "HTMLView",
      "description": "",
      "description_tooltip": null,
      "layout": "IPY_MODEL_facd2e88211f4d18b8cb7a893fcce380",
      "placeholder": "​",
      "style": "IPY_MODEL_3afb8c2da9264dab9515b297b6245213",
      "value": " 3/3 [00:04&lt;00:00,  1.82s/ url]"
     }
    },
    "d01c07e7205748ae893a141e0a092a19": {
     "model_module": "@jupyter-widgets/controls",
     "model_module_version": "1.5.0",
     "model_name": "FloatProgressModel",
     "state": {
      "_dom_classes": [],
      "_model_module": "@jupyter-widgets/controls",
      "_model_module_version": "1.5.0",
      "_model_name": "FloatProgressModel",
      "_view_count": null,
      "_view_module": "@jupyter-widgets/controls",
      "_view_module_version": "1.5.0",
      "_view_name": "ProgressView",
      "bar_style": "danger",
      "description": "",
      "description_tooltip": null,
      "layout": "IPY_MODEL_56a0cd0aeab147f38912594d7293721b",
      "max": 1034,
      "min": 0,
      "orientation": "horizontal",
      "style": "IPY_MODEL_f75ab9df1e3e4b4cb8a7559d203c3af6",
      "value": 1033
     }
    },
    "d39e6bf5ee1a4962955a18843aba6597": {
     "model_module": "@jupyter-widgets/controls",
     "model_module_version": "1.5.0",
     "model_name": "ProgressStyleModel",
     "state": {
      "_model_module": "@jupyter-widgets/controls",
      "_model_module_version": "1.5.0",
      "_model_name": "ProgressStyleModel",
      "_view_count": null,
      "_view_module": "@jupyter-widgets/base",
      "_view_module_version": "1.2.0",
      "_view_name": "StyleView",
      "bar_color": null,
      "description_width": ""
     }
    },
    "d3ec723a4ff749d88d8517abbfa1f7b9": {
     "model_module": "@jupyter-widgets/controls",
     "model_module_version": "1.5.0",
     "model_name": "HTMLModel",
     "state": {
      "_dom_classes": [],
      "_model_module": "@jupyter-widgets/controls",
      "_model_module_version": "1.5.0",
      "_model_name": "HTMLModel",
      "_view_count": null,
      "_view_module": "@jupyter-widgets/controls",
      "_view_module_version": "1.5.0",
      "_view_name": "HTMLView",
      "description": "",
      "description_tooltip": null,
      "layout": "IPY_MODEL_5f397729d9e94f45b06b0eb8e9f089ef",
      "placeholder": "​",
      "style": "IPY_MODEL_8a27c3e8efbe4f8db2163e9971b410d1",
      "value": "Dl Size...: 100%"
     }
    },
    "d5f11520aae147e9aadb8f8e94a3138d": {
     "model_module": "@jupyter-widgets/controls",
     "model_module_version": "1.5.0",
     "model_name": "FloatProgressModel",
     "state": {
      "_dom_classes": [],
      "_model_module": "@jupyter-widgets/controls",
      "_model_module_version": "1.5.0",
      "_model_name": "FloatProgressModel",
      "_view_count": null,
      "_view_module": "@jupyter-widgets/controls",
      "_view_module_version": "1.5.0",
      "_view_name": "ProgressView",
      "bar_style": "danger",
      "description": "",
      "description_tooltip": null,
      "layout": "IPY_MODEL_379a84382885462798d426f84bdab15d",
      "max": 128,
      "min": 0,
      "orientation": "horizontal",
      "style": "IPY_MODEL_10adf018ae874ee185dd08f3b68cd693",
      "value": 127
     }
    },
    "d7752dd85a584c64ad7010057a8757b2": {
     "model_module": "@jupyter-widgets/base",
     "model_module_version": "1.2.0",
     "model_name": "LayoutModel",
     "state": {
      "_model_module": "@jupyter-widgets/base",
      "_model_module_version": "1.2.0",
      "_model_name": "LayoutModel",
      "_view_count": null,
      "_view_module": "@jupyter-widgets/base",
      "_view_module_version": "1.2.0",
      "_view_name": "LayoutView",
      "align_content": null,
      "align_items": null,
      "align_self": null,
      "border": null,
      "bottom": null,
      "display": null,
      "flex": null,
      "flex_flow": null,
      "grid_area": null,
      "grid_auto_columns": null,
      "grid_auto_flow": null,
      "grid_auto_rows": null,
      "grid_column": null,
      "grid_gap": null,
      "grid_row": null,
      "grid_template_areas": null,
      "grid_template_columns": null,
      "grid_template_rows": null,
      "height": null,
      "justify_content": null,
      "justify_items": null,
      "left": null,
      "margin": null,
      "max_height": null,
      "max_width": null,
      "min_height": null,
      "min_width": null,
      "object_fit": null,
      "object_position": null,
      "order": null,
      "overflow": null,
      "overflow_x": null,
      "overflow_y": null,
      "padding": null,
      "right": null,
      "top": null,
      "visibility": null,
      "width": null
     }
    },
    "d94a4cc118764cbdba713b49f25fdb76": {
     "model_module": "@jupyter-widgets/base",
     "model_module_version": "1.2.0",
     "model_name": "LayoutModel",
     "state": {
      "_model_module": "@jupyter-widgets/base",
      "_model_module_version": "1.2.0",
      "_model_name": "LayoutModel",
      "_view_count": null,
      "_view_module": "@jupyter-widgets/base",
      "_view_module_version": "1.2.0",
      "_view_name": "LayoutView",
      "align_content": null,
      "align_items": null,
      "align_self": null,
      "border": null,
      "bottom": null,
      "display": null,
      "flex": null,
      "flex_flow": null,
      "grid_area": null,
      "grid_auto_columns": null,
      "grid_auto_flow": null,
      "grid_auto_rows": null,
      "grid_column": null,
      "grid_gap": null,
      "grid_row": null,
      "grid_template_areas": null,
      "grid_template_columns": null,
      "grid_template_rows": null,
      "height": null,
      "justify_content": null,
      "justify_items": null,
      "left": null,
      "margin": null,
      "max_height": null,
      "max_width": null,
      "min_height": null,
      "min_width": null,
      "object_fit": null,
      "object_position": null,
      "order": null,
      "overflow": null,
      "overflow_x": null,
      "overflow_y": null,
      "padding": null,
      "right": null,
      "top": null,
      "visibility": null,
      "width": null
     }
    },
    "d9b619eab42c48b59ae9dffe3cbc3505": {
     "model_module": "@jupyter-widgets/controls",
     "model_module_version": "1.5.0",
     "model_name": "DescriptionStyleModel",
     "state": {
      "_model_module": "@jupyter-widgets/controls",
      "_model_module_version": "1.5.0",
      "_model_name": "DescriptionStyleModel",
      "_view_count": null,
      "_view_module": "@jupyter-widgets/base",
      "_view_module_version": "1.2.0",
      "_view_name": "StyleView",
      "description_width": ""
     }
    },
    "e05975d0c5d34358a5c8ecff6af348de": {
     "model_module": "@jupyter-widgets/controls",
     "model_module_version": "1.5.0",
     "model_name": "ProgressStyleModel",
     "state": {
      "_model_module": "@jupyter-widgets/controls",
      "_model_module_version": "1.5.0",
      "_model_name": "ProgressStyleModel",
      "_view_count": null,
      "_view_module": "@jupyter-widgets/base",
      "_view_module_version": "1.2.0",
      "_view_name": "StyleView",
      "bar_color": null,
      "description_width": ""
     }
    },
    "e3abf0f4060140b9887baa7a6ce3c591": {
     "model_module": "@jupyter-widgets/controls",
     "model_module_version": "1.5.0",
     "model_name": "DescriptionStyleModel",
     "state": {
      "_model_module": "@jupyter-widgets/controls",
      "_model_module_version": "1.5.0",
      "_model_name": "DescriptionStyleModel",
      "_view_count": null,
      "_view_module": "@jupyter-widgets/base",
      "_view_module_version": "1.2.0",
      "_view_name": "StyleView",
      "description_width": ""
     }
    },
    "e50af6428d034afd954745090e18e58a": {
     "model_module": "@jupyter-widgets/controls",
     "model_module_version": "1.5.0",
     "model_name": "ProgressStyleModel",
     "state": {
      "_model_module": "@jupyter-widgets/controls",
      "_model_module_version": "1.5.0",
      "_model_name": "ProgressStyleModel",
      "_view_count": null,
      "_view_module": "@jupyter-widgets/base",
      "_view_module_version": "1.2.0",
      "_view_name": "StyleView",
      "bar_color": null,
      "description_width": ""
     }
    },
    "e55dd308503b48d3b190aeb860441ff2": {
     "model_module": "@jupyter-widgets/base",
     "model_module_version": "1.2.0",
     "model_name": "LayoutModel",
     "state": {
      "_model_module": "@jupyter-widgets/base",
      "_model_module_version": "1.2.0",
      "_model_name": "LayoutModel",
      "_view_count": null,
      "_view_module": "@jupyter-widgets/base",
      "_view_module_version": "1.2.0",
      "_view_name": "LayoutView",
      "align_content": null,
      "align_items": null,
      "align_self": null,
      "border": null,
      "bottom": null,
      "display": null,
      "flex": null,
      "flex_flow": null,
      "grid_area": null,
      "grid_auto_columns": null,
      "grid_auto_flow": null,
      "grid_auto_rows": null,
      "grid_column": null,
      "grid_gap": null,
      "grid_row": null,
      "grid_template_areas": null,
      "grid_template_columns": null,
      "grid_template_rows": null,
      "height": null,
      "justify_content": null,
      "justify_items": null,
      "left": null,
      "margin": null,
      "max_height": null,
      "max_width": null,
      "min_height": null,
      "min_width": null,
      "object_fit": null,
      "object_position": null,
      "order": null,
      "overflow": null,
      "overflow_x": null,
      "overflow_y": null,
      "padding": null,
      "right": null,
      "top": null,
      "visibility": null,
      "width": null
     }
    },
    "e6a1833ac0f64fc3b85cbbd5c5a964b6": {
     "model_module": "@jupyter-widgets/base",
     "model_module_version": "1.2.0",
     "model_name": "LayoutModel",
     "state": {
      "_model_module": "@jupyter-widgets/base",
      "_model_module_version": "1.2.0",
      "_model_name": "LayoutModel",
      "_view_count": null,
      "_view_module": "@jupyter-widgets/base",
      "_view_module_version": "1.2.0",
      "_view_name": "LayoutView",
      "align_content": null,
      "align_items": null,
      "align_self": null,
      "border": null,
      "bottom": null,
      "display": null,
      "flex": null,
      "flex_flow": null,
      "grid_area": null,
      "grid_auto_columns": null,
      "grid_auto_flow": null,
      "grid_auto_rows": null,
      "grid_column": null,
      "grid_gap": null,
      "grid_row": null,
      "grid_template_areas": null,
      "grid_template_columns": null,
      "grid_template_rows": null,
      "height": null,
      "justify_content": null,
      "justify_items": null,
      "left": null,
      "margin": null,
      "max_height": null,
      "max_width": null,
      "min_height": null,
      "min_width": null,
      "object_fit": null,
      "object_position": null,
      "order": null,
      "overflow": null,
      "overflow_x": null,
      "overflow_y": null,
      "padding": null,
      "right": null,
      "top": null,
      "visibility": null,
      "width": null
     }
    },
    "e7472bd9871f4f0fad3e0c6d9b4170f5": {
     "model_module": "@jupyter-widgets/base",
     "model_module_version": "1.2.0",
     "model_name": "LayoutModel",
     "state": {
      "_model_module": "@jupyter-widgets/base",
      "_model_module_version": "1.2.0",
      "_model_name": "LayoutModel",
      "_view_count": null,
      "_view_module": "@jupyter-widgets/base",
      "_view_module_version": "1.2.0",
      "_view_name": "LayoutView",
      "align_content": null,
      "align_items": null,
      "align_self": null,
      "border": null,
      "bottom": null,
      "display": null,
      "flex": null,
      "flex_flow": null,
      "grid_area": null,
      "grid_auto_columns": null,
      "grid_auto_flow": null,
      "grid_auto_rows": null,
      "grid_column": null,
      "grid_gap": null,
      "grid_row": null,
      "grid_template_areas": null,
      "grid_template_columns": null,
      "grid_template_rows": null,
      "height": null,
      "justify_content": null,
      "justify_items": null,
      "left": null,
      "margin": null,
      "max_height": null,
      "max_width": null,
      "min_height": null,
      "min_width": null,
      "object_fit": null,
      "object_position": null,
      "order": null,
      "overflow": null,
      "overflow_x": null,
      "overflow_y": null,
      "padding": null,
      "right": null,
      "top": null,
      "visibility": null,
      "width": null
     }
    },
    "ebdaee28c5124e23a71bf045e4554b91": {
     "model_module": "@jupyter-widgets/controls",
     "model_module_version": "1.5.0",
     "model_name": "DescriptionStyleModel",
     "state": {
      "_model_module": "@jupyter-widgets/controls",
      "_model_module_version": "1.5.0",
      "_model_name": "DescriptionStyleModel",
      "_view_count": null,
      "_view_module": "@jupyter-widgets/base",
      "_view_module_version": "1.2.0",
      "_view_name": "StyleView",
      "description_width": ""
     }
    },
    "ed368a37708f4699b8950c007b00faf7": {
     "model_module": "@jupyter-widgets/base",
     "model_module_version": "1.2.0",
     "model_name": "LayoutModel",
     "state": {
      "_model_module": "@jupyter-widgets/base",
      "_model_module_version": "1.2.0",
      "_model_name": "LayoutModel",
      "_view_count": null,
      "_view_module": "@jupyter-widgets/base",
      "_view_module_version": "1.2.0",
      "_view_name": "LayoutView",
      "align_content": null,
      "align_items": null,
      "align_self": null,
      "border": null,
      "bottom": null,
      "display": null,
      "flex": null,
      "flex_flow": null,
      "grid_area": null,
      "grid_auto_columns": null,
      "grid_auto_flow": null,
      "grid_auto_rows": null,
      "grid_column": null,
      "grid_gap": null,
      "grid_row": null,
      "grid_template_areas": null,
      "grid_template_columns": null,
      "grid_template_rows": null,
      "height": null,
      "justify_content": null,
      "justify_items": null,
      "left": null,
      "margin": null,
      "max_height": null,
      "max_width": null,
      "min_height": null,
      "min_width": null,
      "object_fit": null,
      "object_position": null,
      "order": null,
      "overflow": null,
      "overflow_x": null,
      "overflow_y": null,
      "padding": null,
      "right": null,
      "top": null,
      "visibility": null,
      "width": null
     }
    },
    "f0478231d234492388fe2586e086be73": {
     "model_module": "@jupyter-widgets/controls",
     "model_module_version": "1.5.0",
     "model_name": "DescriptionStyleModel",
     "state": {
      "_model_module": "@jupyter-widgets/controls",
      "_model_module_version": "1.5.0",
      "_model_name": "DescriptionStyleModel",
      "_view_count": null,
      "_view_module": "@jupyter-widgets/base",
      "_view_module_version": "1.2.0",
      "_view_name": "StyleView",
      "description_width": ""
     }
    },
    "f1c7e61902874f4d88697316e8ce29e2": {
     "model_module": "@jupyter-widgets/controls",
     "model_module_version": "1.5.0",
     "model_name": "HTMLModel",
     "state": {
      "_dom_classes": [],
      "_model_module": "@jupyter-widgets/controls",
      "_model_module_version": "1.5.0",
      "_model_name": "HTMLModel",
      "_view_count": null,
      "_view_module": "@jupyter-widgets/controls",
      "_view_module_version": "1.5.0",
      "_view_name": "HTMLView",
      "description": "",
      "description_tooltip": null,
      "layout": "IPY_MODEL_4289544c17de494da0d62c4b9ddb7c39",
      "placeholder": "​",
      "style": "IPY_MODEL_d9b619eab42c48b59ae9dffe3cbc3505",
      "value": "100%"
     }
    },
    "f26b27af5f8e4730b11eb0504340673f": {
     "model_module": "@jupyter-widgets/base",
     "model_module_version": "1.2.0",
     "model_name": "LayoutModel",
     "state": {
      "_model_module": "@jupyter-widgets/base",
      "_model_module_version": "1.2.0",
      "_model_name": "LayoutModel",
      "_view_count": null,
      "_view_module": "@jupyter-widgets/base",
      "_view_module_version": "1.2.0",
      "_view_name": "LayoutView",
      "align_content": null,
      "align_items": null,
      "align_self": null,
      "border": null,
      "bottom": null,
      "display": null,
      "flex": null,
      "flex_flow": null,
      "grid_area": null,
      "grid_auto_columns": null,
      "grid_auto_flow": null,
      "grid_auto_rows": null,
      "grid_column": null,
      "grid_gap": null,
      "grid_row": null,
      "grid_template_areas": null,
      "grid_template_columns": null,
      "grid_template_rows": null,
      "height": null,
      "justify_content": null,
      "justify_items": null,
      "left": null,
      "margin": null,
      "max_height": null,
      "max_width": null,
      "min_height": null,
      "min_width": null,
      "object_fit": null,
      "object_position": null,
      "order": null,
      "overflow": null,
      "overflow_x": null,
      "overflow_y": null,
      "padding": null,
      "right": null,
      "top": null,
      "visibility": null,
      "width": null
     }
    },
    "f75ab9df1e3e4b4cb8a7559d203c3af6": {
     "model_module": "@jupyter-widgets/controls",
     "model_module_version": "1.5.0",
     "model_name": "ProgressStyleModel",
     "state": {
      "_model_module": "@jupyter-widgets/controls",
      "_model_module_version": "1.5.0",
      "_model_name": "ProgressStyleModel",
      "_view_count": null,
      "_view_module": "@jupyter-widgets/base",
      "_view_module_version": "1.2.0",
      "_view_name": "StyleView",
      "bar_color": null,
      "description_width": ""
     }
    },
    "fa0e65c2a94a48ec85d9ee2a520ec753": {
     "model_module": "@jupyter-widgets/controls",
     "model_module_version": "1.5.0",
     "model_name": "DescriptionStyleModel",
     "state": {
      "_model_module": "@jupyter-widgets/controls",
      "_model_module_version": "1.5.0",
      "_model_name": "DescriptionStyleModel",
      "_view_count": null,
      "_view_module": "@jupyter-widgets/base",
      "_view_module_version": "1.2.0",
      "_view_name": "StyleView",
      "description_width": ""
     }
    },
    "fa854cc756f44bb7b1faa4747571c85a": {
     "model_module": "@jupyter-widgets/controls",
     "model_module_version": "1.5.0",
     "model_name": "DescriptionStyleModel",
     "state": {
      "_model_module": "@jupyter-widgets/controls",
      "_model_module_version": "1.5.0",
      "_model_name": "DescriptionStyleModel",
      "_view_count": null,
      "_view_module": "@jupyter-widgets/base",
      "_view_module_version": "1.2.0",
      "_view_name": "StyleView",
      "description_width": ""
     }
    },
    "facd2e88211f4d18b8cb7a893fcce380": {
     "model_module": "@jupyter-widgets/base",
     "model_module_version": "1.2.0",
     "model_name": "LayoutModel",
     "state": {
      "_model_module": "@jupyter-widgets/base",
      "_model_module_version": "1.2.0",
      "_model_name": "LayoutModel",
      "_view_count": null,
      "_view_module": "@jupyter-widgets/base",
      "_view_module_version": "1.2.0",
      "_view_name": "LayoutView",
      "align_content": null,
      "align_items": null,
      "align_self": null,
      "border": null,
      "bottom": null,
      "display": null,
      "flex": null,
      "flex_flow": null,
      "grid_area": null,
      "grid_auto_columns": null,
      "grid_auto_flow": null,
      "grid_auto_rows": null,
      "grid_column": null,
      "grid_gap": null,
      "grid_row": null,
      "grid_template_areas": null,
      "grid_template_columns": null,
      "grid_template_rows": null,
      "height": null,
      "justify_content": null,
      "justify_items": null,
      "left": null,
      "margin": null,
      "max_height": null,
      "max_width": null,
      "min_height": null,
      "min_width": null,
      "object_fit": null,
      "object_position": null,
      "order": null,
      "overflow": null,
      "overflow_x": null,
      "overflow_y": null,
      "padding": null,
      "right": null,
      "top": null,
      "visibility": null,
      "width": null
     }
    },
    "fb38178fc2a04c6daffde627da266abf": {
     "model_module": "@jupyter-widgets/base",
     "model_module_version": "1.2.0",
     "model_name": "LayoutModel",
     "state": {
      "_model_module": "@jupyter-widgets/base",
      "_model_module_version": "1.2.0",
      "_model_name": "LayoutModel",
      "_view_count": null,
      "_view_module": "@jupyter-widgets/base",
      "_view_module_version": "1.2.0",
      "_view_name": "LayoutView",
      "align_content": null,
      "align_items": null,
      "align_self": null,
      "border": null,
      "bottom": null,
      "display": null,
      "flex": null,
      "flex_flow": null,
      "grid_area": null,
      "grid_auto_columns": null,
      "grid_auto_flow": null,
      "grid_auto_rows": null,
      "grid_column": null,
      "grid_gap": null,
      "grid_row": null,
      "grid_template_areas": null,
      "grid_template_columns": null,
      "grid_template_rows": null,
      "height": null,
      "justify_content": null,
      "justify_items": null,
      "left": null,
      "margin": null,
      "max_height": null,
      "max_width": null,
      "min_height": null,
      "min_width": null,
      "object_fit": null,
      "object_position": null,
      "order": null,
      "overflow": null,
      "overflow_x": null,
      "overflow_y": null,
      "padding": null,
      "right": null,
      "top": null,
      "visibility": null,
      "width": null
     }
    },
    "fb711cbd37e747fe8299ca6e201fc26f": {
     "model_module": "@jupyter-widgets/controls",
     "model_module_version": "1.5.0",
     "model_name": "HTMLModel",
     "state": {
      "_dom_classes": [],
      "_model_module": "@jupyter-widgets/controls",
      "_model_module_version": "1.5.0",
      "_model_name": "HTMLModel",
      "_view_count": null,
      "_view_module": "@jupyter-widgets/controls",
      "_view_module_version": "1.5.0",
      "_view_name": "HTMLView",
      "description": "",
      "description_tooltip": null,
      "layout": "IPY_MODEL_50b7c423ef7649588db2975a284aeaa6",
      "placeholder": "​",
      "style": "IPY_MODEL_3e43265ed5e54388bb3f9e1744ad5ad3",
      "value": " 99%"
     }
    },
    "fc81548f00ff4c96a3b57caf64d38698": {
     "model_module": "@jupyter-widgets/base",
     "model_module_version": "1.2.0",
     "model_name": "LayoutModel",
     "state": {
      "_model_module": "@jupyter-widgets/base",
      "_model_module_version": "1.2.0",
      "_model_name": "LayoutModel",
      "_view_count": null,
      "_view_module": "@jupyter-widgets/base",
      "_view_module_version": "1.2.0",
      "_view_name": "LayoutView",
      "align_content": null,
      "align_items": null,
      "align_self": null,
      "border": null,
      "bottom": null,
      "display": null,
      "flex": null,
      "flex_flow": null,
      "grid_area": null,
      "grid_auto_columns": null,
      "grid_auto_flow": null,
      "grid_auto_rows": null,
      "grid_column": null,
      "grid_gap": null,
      "grid_row": null,
      "grid_template_areas": null,
      "grid_template_columns": null,
      "grid_template_rows": null,
      "height": null,
      "justify_content": null,
      "justify_items": null,
      "left": null,
      "margin": null,
      "max_height": null,
      "max_width": null,
      "min_height": null,
      "min_width": null,
      "object_fit": null,
      "object_position": null,
      "order": null,
      "overflow": null,
      "overflow_x": null,
      "overflow_y": null,
      "padding": null,
      "right": null,
      "top": null,
      "visibility": null,
      "width": "20px"
     }
    }
   }
  }
 },
 "nbformat": 4,
 "nbformat_minor": 1
}
