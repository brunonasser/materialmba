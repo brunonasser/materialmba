{
  "nbformat": 4,
  "nbformat_minor": 0,
  "metadata": {
    "colab": {
      "name": "Monitoria_29_11.ipynb",
      "provenance": [],
      "collapsed_sections": []
    },
    "kernelspec": {
      "name": "python3",
      "display_name": "Python 3"
    },
    "language_info": {
      "name": "python"
    },
    "accelerator": "GPU"
  },
  "cells": [
    {
      "cell_type": "code",
      "metadata": {
        "id": "PGEZJssG8oQp"
      },
      "source": [
        "import numpy as np\n",
        "import matplotlib.pyplot as plt\n",
        "from tensorflow import keras"
      ],
      "execution_count": 1,
      "outputs": []
    },
    {
      "cell_type": "code",
      "metadata": {
        "id": "kyLAqlSB-If_"
      },
      "source": [
        "# Processando os dados\n",
        "(x_train, y_train), (x_test, y_test) = keras.datasets.mnist.load_data()\n",
        "\n",
        "x_train = x_train.reshape(-1, 28 * 28)\n",
        "x_test = x_test.reshape(-1, 28 * 28)\n",
        "\n",
        "x_train = x_train / 255\n",
        "x_test = x_test / 255"
      ],
      "execution_count": 2,
      "outputs": []
    },
    {
      "cell_type": "code",
      "metadata": {
        "id": "oW7EypIH_A9q",
        "colab": {
          "base_uri": "https://localhost:8080/"
        },
        "outputId": "82a75ecb-86cb-424b-b259-f9309cb57e11"
      },
      "source": [
        "# Criando um novo modelo\n",
        "input = keras.layers.Input(shape=(784,), name='input_layer')\n",
        "\n",
        "x = keras.layers.Dropout(0.5, name='dropout')(input)\n",
        "x = keras.layers.Dense(64, activation='relu', name='layer_1')(x)\n",
        "x = keras.layers.Dense(32, activation='relu', name='layer_2')(x)\n",
        "x = keras.layers.Dense(64, activation='relu', name='layer_3')(x)\n",
        "out = keras.layers.Dense(784, activation='sigmoid', name='output_layer')(x)\n",
        "\n",
        "model = keras.Model(input, out)\n",
        "model.summary()"
      ],
      "execution_count": 3,
      "outputs": [
        {
          "output_type": "stream",
          "name": "stdout",
          "text": [
            "Model: \"model\"\n",
            "_________________________________________________________________\n",
            " Layer (type)                Output Shape              Param #   \n",
            "=================================================================\n",
            " input_layer (InputLayer)    [(None, 784)]             0         \n",
            "                                                                 \n",
            " dropout (Dropout)           (None, 784)               0         \n",
            "                                                                 \n",
            " layer_1 (Dense)             (None, 64)                50240     \n",
            "                                                                 \n",
            " layer_2 (Dense)             (None, 32)                2080      \n",
            "                                                                 \n",
            " layer_3 (Dense)             (None, 64)                2112      \n",
            "                                                                 \n",
            " output_layer (Dense)        (None, 784)               50960     \n",
            "                                                                 \n",
            "=================================================================\n",
            "Total params: 105,392\n",
            "Trainable params: 105,392\n",
            "Non-trainable params: 0\n",
            "_________________________________________________________________\n"
          ]
        }
      ]
    },
    {
      "cell_type": "code",
      "metadata": {
        "colab": {
          "base_uri": "https://localhost:8080/"
        },
        "id": "9zO_oR_6d4_O",
        "outputId": "b48aa497-f0f9-465c-8448-d55165a71ac9"
      },
      "source": [
        "# Criando um modelo pegando todas as camadas menos o dropout\n",
        "model2 = keras.Sequential([layer for layer in model.layers if layer.name != 'dropout'])\n",
        "model2.summary()"
      ],
      "execution_count": 4,
      "outputs": [
        {
          "output_type": "stream",
          "name": "stdout",
          "text": [
            "Model: \"sequential\"\n",
            "_________________________________________________________________\n",
            " Layer (type)                Output Shape              Param #   \n",
            "=================================================================\n",
            " layer_1 (Dense)             (None, 64)                50240     \n",
            "                                                                 \n",
            " layer_2 (Dense)             (None, 32)                2080      \n",
            "                                                                 \n",
            " layer_3 (Dense)             (None, 64)                2112      \n",
            "                                                                 \n",
            " output_layer (Dense)        (None, 784)               50960     \n",
            "                                                                 \n",
            "=================================================================\n",
            "Total params: 105,392\n",
            "Trainable params: 105,392\n",
            "Non-trainable params: 0\n",
            "_________________________________________________________________\n"
          ]
        }
      ]
    },
    {
      "cell_type": "code",
      "metadata": {
        "colab": {
          "base_uri": "https://localhost:8080/"
        },
        "id": "SeCcK2joeSdo",
        "outputId": "41e06215-a6d4-498a-c3f3-d0d415d9abe8"
      },
      "source": [
        "# Criando um modelo pegando o model2 e tirando a ultima camada\n",
        "model3 = keras.Sequential()\n",
        "model3.add(keras.Input(784,))\n",
        "for layer in model2.layers[:-1]:\n",
        "    model3.add(layer)\n",
        "model3.summary()"
      ],
      "execution_count": 5,
      "outputs": [
        {
          "output_type": "stream",
          "name": "stdout",
          "text": [
            "Model: \"sequential_1\"\n",
            "_________________________________________________________________\n",
            " Layer (type)                Output Shape              Param #   \n",
            "=================================================================\n",
            " layer_1 (Dense)             (None, 64)                50240     \n",
            "                                                                 \n",
            " layer_2 (Dense)             (None, 32)                2080      \n",
            "                                                                 \n",
            " layer_3 (Dense)             (None, 64)                2112      \n",
            "                                                                 \n",
            "=================================================================\n",
            "Total params: 54,432\n",
            "Trainable params: 54,432\n",
            "Non-trainable params: 0\n",
            "_________________________________________________________________\n"
          ]
        }
      ]
    }
  ]
}