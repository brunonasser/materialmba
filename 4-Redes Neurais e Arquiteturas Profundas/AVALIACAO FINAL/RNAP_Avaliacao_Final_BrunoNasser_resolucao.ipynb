{
 "cells": [
  {
   "cell_type": "markdown",
   "metadata": {
    "id": "K8CDQUj8yqpq"
   },
   "source": [
    "## MBA em Ciência de Dados\n",
    "# Redes Neurais e Arquiteturas Profundas\n",
    "\n",
    "## <span style=\"color:darkred\">Avaliação Final</span>\n",
    "\n",
    "Moacir Antonelli Ponti\n",
    "\n",
    "CeMEAI - ICMC/USP São Carlos\n",
    "\n",
    "---"
   ]
  },
  {
   "cell_type": "markdown",
   "metadata": {},
   "source": [
    "Nessa avaliação será utilizado o dataset `smartphone_activity.csv` que contém 561 colunas, cujo objetivo é classificar uma entre 6 ações de uma pessoa com base em sensores disponíveis no smartphone. Vamos assumir um cenário com alta disponibilidade de exemplos não rotulados, e baixa de exemplos rotulados. Para tal, pré-treinaremos camadas de uma rede neural com dados não anotados, a qual posteriormente será usada para compor um modelo inicial de classificação.\n",
    "\n",
    "Conforme código abaixo, use como características de entrada as 561 primeiras colunas e como classe a última coluna (activity). \n",
    "\n",
    "As tarefas a realizar são as seguintes:\n",
    "\n",
    "1. **Prepare** os dados conforme o código fornecido (leia abaixo e estude o código para entender):\n",
    "    * carregue o dataset e organize as features e rótulos\n",
    "    * conjunto S = 2% dos dados iniciais como treinamento com rótulo (assumiremos que temos rótulos apenas para esses 2%), no formato par (x,y)\n",
    "    * conjunto U = 50% dos dados iniciais como treinamento não anotado (note que S está contido em U), \n",
    "    * conjunto T = o restante dos 50% para teste, no formato par (x,y).<br><br>\n",
    "    \n",
    "1.  (3,0 pt) **Modelo A**: projete e treine um undercomplete autoencoder com dropout na entrada para pré-treinamento baseado em auto-supervisão. Esse autoencoder aprende a preencher os valores eliminados na camada de entrada. A arquitetura deve ter a seguinte estrutura:\n",
    "    1. Encoder:\n",
    "        * entrada com 561 valores\n",
    "        * dropout com taxa de 0.25\n",
    "        * normalização em batch\n",
    "        * densa 256 neurônios, relu\n",
    "        * densa 256 neurônios, relu\n",
    "        * densa 64 neurônios, ativação linear \n",
    "        * normalização em batch (consideraremos essa camada como sendo o código produzido pelo encoder)\n",
    "        * ativação relu\n",
    "        * dropout 0.25\n",
    "    2. Decoder:\n",
    "        * densa 256 neurônios, ativação tanh\n",
    "        * densa 256 neurônios, ativação tanh\n",
    "        * densa 561 neurônios, ativação tanh\n",
    "    * Usar Adam com taxa de aprendizado inicial de 0.005 e com decaimento exponencial a -0.1<br>\n",
    "    * Treinar com perda MSE por 20 épocas com batch size 16 utilizando o conjunto **U**<br>\n",
    "    * Exiba a perda final MSE após as 20 utilizando o conjunto **U** (use o evaluate para isso)<br>\n",
    "    * Obtenha o código (saída do encoder relativa a normalização em batch após a camada de 64 dimensões) para os dados de treinamento (conjunto **U**) e armazene-o num array `code_train`. Exiba na tela esse código para a primeira instância de treinamento (índice 0)<br><br>\n",
    "    \n",
    "1. (3,5 pt)  **Modelo B**: rede neural profunda densa, utilizando como base o encoder do modelo A (inclusive seus pesos pré-treinados), e inserindo uma nova camada densa de classificação (em 6 classes) com ativação softmax (essa inicializada aleatoriamente). Porém **não** deve conter o primeiro dropout (logo após a camada de entrada) do encoder, ou seja a primeira camada dropout deve ser removida.<br>\n",
    "    * A arquitetura deve ter portanto as seguintes camadas:\n",
    "        * entrada\n",
    "        * normalização em batch\n",
    "        * densa 256 neurônios, relu\n",
    "        * densa 256 neurônios, relu\n",
    "        * densa 64 neurônios, ativação linear\n",
    "        * normalização em batch\n",
    "        * ativação relu\n",
    "        * dropout 0.25\n",
    "        * densa 6 neurônios, softmax\n",
    "        \n",
    "    * Utilizar Adam com taxa de aprendizado inicial de 0.001 e com decaimento em todas as épocas exponencial a -0.1\n",
    "    * Treinar com perda entropia cruzada categórica por 50 épocas com batch size 16 \n",
    "    * Compute como métricas, além da perda, precisão e revocação (precision / recall)<br><br>\n",
    "    \n",
    "1. (3,5 pt) **Avalie a rede neural de classificação** (Modelo B): \n",
    "    * Exiba o gráfico da precisão e revocação calculada no treinamento ao longo das épocas para o modelo B\n",
    "    * Exiba precisão e revocação calculada no treinamento S e teste T (use evaluate no modelo B)<br><br>\n",
    "    \n",
    "1. **Bônus:** (+1 ponto extra) \n",
    "    * (0,5) *Análise de projeção das características*: visualize scatterplots com os 2 principais componentes obtidos do PCA com as classes dos exemplos atribuídas com cores ou marcadores diferentes. Projetar em 2D os seguintes espaços:\n",
    "        1. scatterplot com projeção PCA do conjunto de S original (561 dimensões)\n",
    "        1. scatterplot com projeção PCA do código (64 dimensões) do conjunto S após processado pelo \"encoder\" do *Modelo A* (code_train obtido no item/questão 2)\n",
    "        1. scatterplot com projeção PCA do código (64 dimensões) do conjunto S após processado pelo \"encoder\" do *Modelo B* (treinado no item/questão 3)<br><br>    \n",
    "    \n",
    "    * (0,5) Obtenha um classificador SVM com kernel linear, treinado nos dados S obtendo sua representação do código (64 dimensões) da rede de classificação (modelo B). Avalie precisão e revocação no treinamento S e teste T."
   ]
  },
  {
   "cell_type": "code",
   "execution_count": 1,
   "metadata": {},
   "outputs": [],
   "source": [
    "import random\n",
    "import numpy as np\n",
    "import matplotlib.pyplot as plt\n",
    "import tensorflow as tf\n",
    "from numpy.random import seed\n",
    "from tensorflow.random import set_seed\n",
    "from tensorflow import keras\n",
    "from tensorflow.keras import layers"
   ]
  },
  {
   "cell_type": "code",
   "execution_count": 2,
   "metadata": {
    "scrolled": true
   },
   "outputs": [
    {
     "data": {
      "text/plain": [
       "(10299, 562)"
      ]
     },
     "execution_count": 2,
     "metadata": {},
     "output_type": "execute_result"
    }
   ],
   "source": [
    "import pandas as pd\n",
    "df = pd.read_csv(\"smartphone_activity_dataset.csv\")\n",
    "df.shape"
   ]
  },
  {
   "cell_type": "markdown",
   "metadata": {},
   "source": [
    "### Parte 1: separar dados"
   ]
  },
  {
   "cell_type": "code",
   "execution_count": 3,
   "metadata": {},
   "outputs": [
    {
     "name": "stdout",
     "output_type": "stream",
     "text": [
      "(10299, 561)\n",
      "Tamanho conjunto de treinamento:  205\n",
      "Tamanho conjunto de treinamento não rotulado:  5149\n",
      "Tamanho conjunto de testes:  5149\n"
     ]
    }
   ],
   "source": [
    "from tensorflow.keras.utils import to_categorical\n",
    "\n",
    "rotulos = np.array(df['activity'])-1\n",
    "features = np.array(df.iloc[:, :-1])\n",
    "\n",
    "print(features.shape)\n",
    "perc_train = 0.5\n",
    "perc_rot = 0.02\n",
    "\n",
    "n_train_U = int(features.shape[0]*perc_train)\n",
    "n_train_S = int(features.shape[0]*perc_rot)\n",
    "n_test = int(features.shape[0]*(1-perc_train))\n",
    "print(\"Tamanho conjunto de treinamento: \", n_train_S)\n",
    "print(\"Tamanho conjunto de treinamento não rotulado: \", n_train_U)\n",
    "print(\"Tamanho conjunto de testes: \", n_test)\n",
    "\n",
    "x_trainS = features[:n_train_S,:]\n",
    "y_trainS = to_categorical(rotulos[:n_train_S], 6)\n",
    "# rotulos discretos de treinamento\n",
    "rot_trainS = rotulos[:n_train_S]\n",
    "\n",
    "x_trainU = features[:n_train_U,:]\n",
    "y_trainU = to_categorical(rotulos[:n_train_U], 6)\n",
    "\n",
    "x_test = features[n_train_U:,:]\n",
    "y_test = to_categorical(rotulos[n_train_U:], 6)\n",
    "# rotulos discretos de teste\n",
    "rot_test = rotulos[n_train_U:]"
   ]
  },
  {
   "cell_type": "markdown",
   "metadata": {},
   "source": [
    "### Parte 2: Modelo A"
   ]
  },
  {
   "cell_type": "code",
   "execution_count": 4,
   "metadata": {},
   "outputs": [
    {
     "name": "stdout",
     "output_type": "stream",
     "text": [
      "Model: \"model\"\n",
      "_________________________________________________________________\n",
      "Layer (type)                 Output Shape              Param #   \n",
      "=================================================================\n",
      "input_1 (InputLayer)         [(None, 561)]             0         \n",
      "_________________________________________________________________\n",
      "dropout (Dropout)            (None, 561)               0         \n",
      "_________________________________________________________________\n",
      "batch_normalization (BatchNo (None, 561)               2244      \n",
      "_________________________________________________________________\n",
      "dense (Dense)                (None, 256)               143872    \n",
      "_________________________________________________________________\n",
      "dense_1 (Dense)              (None, 256)               65792     \n",
      "_________________________________________________________________\n",
      "dense_2 (Dense)              (None, 64)                16448     \n",
      "_________________________________________________________________\n",
      "code (BatchNormalization)    (None, 64)                256       \n",
      "_________________________________________________________________\n",
      "dense_3 (Dense)              (None, 256)               16640     \n",
      "_________________________________________________________________\n",
      "dropout_1 (Dropout)          (None, 256)               0         \n",
      "_________________________________________________________________\n",
      "dense_4 (Dense)              (None, 256)               65792     \n",
      "_________________________________________________________________\n",
      "dense_5 (Dense)              (None, 256)               65792     \n",
      "_________________________________________________________________\n",
      "dense_6 (Dense)              (None, 561)               144177    \n",
      "=================================================================\n",
      "Total params: 521,013\n",
      "Trainable params: 519,763\n",
      "Non-trainable params: 1,250\n",
      "_________________________________________________________________\n"
     ]
    }
   ],
   "source": [
    "seed(1)\n",
    "set_seed(2)\n",
    "\n",
    "### instanciar modelo AE\n",
    "    #encoder\n",
    "entrada = keras.layers.Input(shape=(x_trainU.shape[1]))\n",
    "a1 = keras.layers.Dropout(0.25)(entrada)\n",
    "a2 = layers.BatchNormalization()(a1)\n",
    "a3 = keras.layers.Dense(256, activation='relu')(a2)\n",
    "a4 = keras.layers.Dense(256, activation='relu')(a3)\n",
    "a5 = keras.layers.Dense(64, activation='linear')(a4)\n",
    "a6 = layers.BatchNormalization(name='code')(a5)\n",
    "a7 = keras.layers.Dense(256,activation='relu')(a6) #nao discriminou a qtd de neuronios na questao!!!!!\n",
    "a8 = keras.layers.Dropout(0.25)(a7)\n",
    "\n",
    "    #decoder\n",
    "a9 = keras.layers.Dense(256, activation='tanh')(a8)\n",
    "a10 = keras.layers.Dense(256, activation='tanh')(a9)\n",
    "saida = keras.layers.Dense(561, activation='tanh')(a10)\n",
    "\n",
    "autoencoder = keras.models.Model(entrada, saida)\n",
    "autoencoder.summary()\n",
    "\n"
   ]
  },
  {
   "cell_type": "code",
   "execution_count": 6,
   "metadata": {},
   "outputs": [],
   "source": [
    "#definando funcao que calcula decaimento exp\n",
    "def scheduler(epoch, lr):\n",
    "    return np.round(lr * tf.math.exp(-0.1),4)\n",
    "\n",
    "callbacklr = tf.keras.callbacks.LearningRateScheduler(scheduler)\n",
    "\n"
   ]
  },
  {
   "cell_type": "code",
   "execution_count": 7,
   "metadata": {},
   "outputs": [
    {
     "name": "stdout",
     "output_type": "stream",
     "text": [
      "Epoch 1/20\n",
      "322/322 [==============================] - 2s 4ms/step - loss: 0.0516\n",
      "Epoch 2/20\n",
      "322/322 [==============================] - 1s 4ms/step - loss: 0.0390\n",
      "Epoch 3/20\n",
      "322/322 [==============================] - 1s 4ms/step - loss: 0.0362\n",
      "Epoch 4/20\n",
      "322/322 [==============================] - 1s 4ms/step - loss: 0.0357\n",
      "Epoch 5/20\n",
      "322/322 [==============================] - 1s 5ms/step - loss: 0.0334\n",
      "Epoch 6/20\n",
      "322/322 [==============================] - 2s 5ms/step - loss: 0.0316\n",
      "Epoch 7/20\n",
      "322/322 [==============================] - 1s 4ms/step - loss: 0.0305\n",
      "Epoch 8/20\n",
      "322/322 [==============================] - 1s 4ms/step - loss: 0.0295\n",
      "Epoch 9/20\n",
      "322/322 [==============================] - 1s 4ms/step - loss: 0.0282\n",
      "Epoch 10/20\n",
      "322/322 [==============================] - 1s 4ms/step - loss: 0.0276\n",
      "Epoch 11/20\n",
      "322/322 [==============================] - 1s 4ms/step - loss: 0.0266\n",
      "Epoch 12/20\n",
      "322/322 [==============================] - 1s 4ms/step - loss: 0.0257\n",
      "Epoch 13/20\n",
      "322/322 [==============================] - 1s 4ms/step - loss: 0.0251\n",
      "Epoch 14/20\n",
      "322/322 [==============================] - 2s 5ms/step - loss: 0.0246\n",
      "Epoch 15/20\n",
      "322/322 [==============================] - 2s 5ms/step - loss: 0.0241\n",
      "Epoch 16/20\n",
      "322/322 [==============================] - 2s 5ms/step - loss: 0.0238\n",
      "Epoch 17/20\n",
      "322/322 [==============================] - 1s 4ms/step - loss: 0.0232\n",
      "Epoch 18/20\n",
      "322/322 [==============================] - 1s 5ms/step - loss: 0.0229\n",
      "Epoch 19/20\n",
      "322/322 [==============================] - 1s 4ms/step - loss: 0.0224\n",
      "Epoch 20/20\n",
      "322/322 [==============================] - 1s 5ms/step - loss: 0.0221\n"
     ]
    }
   ],
   "source": [
    "### compilar\n",
    "tf.keras.backend.clear_session()\n",
    "epochs = 20\n",
    "batch_size=16\n",
    "\n",
    "autoencoder.compile(optimizer=keras.optimizers.Adam(learning_rate=0.005), loss='mse')\n",
    "\n",
    "### treinar\n",
    "hist = autoencoder.fit(x_trainU, x_trainU, callbacks=[callbacklr],batch_size=batch_size, epochs=epochs)\n"
   ]
  },
  {
   "cell_type": "code",
   "execution_count": 9,
   "metadata": {},
   "outputs": [
    {
     "data": {
      "text/plain": [
       "[<matplotlib.lines.Line2D at 0x13883e042b0>]"
      ]
     },
     "execution_count": 9,
     "metadata": {},
     "output_type": "execute_result"
    },
    {
     "data": {
      "image/png": "[encoded data removed]",
      "text/plain": [
       "<Figure size 432x288 with 1 Axes>"
      ]
     },
     "metadata": {
      "needs_background": "light"
     },
     "output_type": "display_data"
    }
   ],
   "source": [
    "### avaliar MSE no treinamento\n",
    "plt.plot(hist.history['loss'])"
   ]
  },
  {
   "cell_type": "code",
   "execution_count": 10,
   "metadata": {},
   "outputs": [
    {
     "data": {
      "text/plain": [
       "0.02210036851465702"
      ]
     },
     "execution_count": 10,
     "metadata": {},
     "output_type": "execute_result"
    }
   ],
   "source": [
    "hist.history['loss'][-1]"
   ]
  },
  {
   "cell_type": "code",
   "execution_count": 11,
   "metadata": {},
   "outputs": [
    {
     "name": "stdout",
     "output_type": "stream",
     "text": [
      "161/161 [==============================] - 0s 2ms/step - loss: 0.0187\n"
     ]
    },
    {
     "data": {
      "text/plain": [
       "0.01865185983479023"
      ]
     },
     "execution_count": 11,
     "metadata": {},
     "output_type": "execute_result"
    }
   ],
   "source": [
    "autoencoder.evaluate(x_trainU, x_trainU)\n"
   ]
  },
  {
   "cell_type": "code",
   "execution_count": 12,
   "metadata": {},
   "outputs": [
    {
     "data": {
      "text/plain": [
       "array([-0.38498712, -0.180262  ,  0.1903316 , -1.1926479 , -0.0707486 ,\n",
       "       -0.41003504,  0.43647343,  0.06323438, -0.35398555, -1.1004453 ,\n",
       "       -0.283273  ,  0.04105251, -1.0859079 , -0.28517735,  0.11789216,\n",
       "       -0.38461876,  0.33483842, -0.5498347 , -0.5016617 ,  0.45938182,\n",
       "       -0.02023453, -0.15390918,  0.5977977 , -0.70766276,  1.495714  ,\n",
       "        0.20791729,  0.25104094,  0.02540439, -0.014496  , -0.11456232,\n",
       "       -0.00455053,  0.2884263 ,  0.50165653, -0.36614206, -0.06144466,\n",
       "       -0.05986466,  1.2352755 ,  0.10723158,  0.5563261 , -0.08825582,\n",
       "        0.769439  , -0.19497278, -0.4214949 , -1.078487  , -0.28565136,\n",
       "        0.01175091,  0.19854729, -0.66061985,  0.11753123,  0.15506122,\n",
       "       -0.25131637, -0.67980754,  0.6757011 ,  0.18540362, -0.35830373,\n",
       "       -0.6074448 ,  0.2529592 , -0.1499463 , -0.52478755, -0.515006  ,\n",
       "       -0.27036262,  0.5466025 ,  0.11883853,  0.18193358], dtype=float32)"
      ]
     },
     "execution_count": 12,
     "metadata": {},
     "output_type": "execute_result"
    }
   ],
   "source": [
    "### obter código 64d da normalizacao em batch do treinamento\n",
    "code_model = keras.models.Model(inputs=autoencoder.input, outputs=autoencoder.get_layer('code').output)\n",
    "code_train = np.asarray(code_model.predict(x_trainU))\n",
    "### exibir código da primeira instancia do treinamento\n",
    "code_train[0]"
   ]
  },
  {
   "cell_type": "code",
   "execution_count": 13,
   "metadata": {},
   "outputs": [
    {
     "data": {
      "text/plain": [
       "(5149, 64)"
      ]
     },
     "execution_count": 13,
     "metadata": {},
     "output_type": "execute_result"
    }
   ],
   "source": [
    "code_train.shape"
   ]
  },
  {
   "cell_type": "markdown",
   "metadata": {},
   "source": [
    "### Parte 3: Modelo B"
   ]
  },
  {
   "cell_type": "code",
   "execution_count": 14,
   "metadata": {},
   "outputs": [
    {
     "name": "stdout",
     "output_type": "stream",
     "text": [
      "Model: \"model\"\n",
      "_________________________________________________________________\n",
      "Layer (type)                 Output Shape              Param #   \n",
      "=================================================================\n",
      "input_1 (InputLayer)         [(None, 561)]             0         \n",
      "_________________________________________________________________\n",
      "dropout (Dropout)            (None, 561)               0         \n",
      "_________________________________________________________________\n",
      "batch_normalization (BatchNo (None, 561)               2244      \n",
      "_________________________________________________________________\n",
      "dense (Dense)                (None, 256)               143872    \n",
      "_________________________________________________________________\n",
      "dense_1 (Dense)              (None, 256)               65792     \n",
      "_________________________________________________________________\n",
      "dense_2 (Dense)              (None, 64)                16448     \n",
      "_________________________________________________________________\n",
      "code (BatchNormalization)    (None, 64)                256       \n",
      "=================================================================\n",
      "Total params: 228,612\n",
      "Trainable params: 227,362\n",
      "Non-trainable params: 1,250\n",
      "_________________________________________________________________\n"
     ]
    }
   ],
   "source": [
    "code_model.summary()"
   ]
  },
  {
   "cell_type": "markdown",
   "metadata": {},
   "source": [
    "code_model nao contem todas as camadas solicitadas pelo model B, logo vamos olhar para o autoencoder ja pretreinado"
   ]
  },
  {
   "cell_type": "code",
   "execution_count": 18,
   "metadata": {},
   "outputs": [
    {
     "name": "stdout",
     "output_type": "stream",
     "text": [
      "Model: \"model\"\n",
      "_________________________________________________________________\n",
      "Layer (type)                 Output Shape              Param #   \n",
      "=================================================================\n",
      "input_1 (InputLayer)         [(None, 561)]             0         \n",
      "_________________________________________________________________\n",
      "dropout (Dropout)            (None, 561)               0         \n",
      "_________________________________________________________________\n",
      "batch_normalization (BatchNo (None, 561)               2244      \n",
      "_________________________________________________________________\n",
      "dense (Dense)                (None, 256)               143872    \n",
      "_________________________________________________________________\n",
      "dense_1 (Dense)              (None, 256)               65792     \n",
      "_________________________________________________________________\n",
      "dense_2 (Dense)              (None, 64)                16448     \n",
      "_________________________________________________________________\n",
      "code (BatchNormalization)    (None, 64)                256       \n",
      "_________________________________________________________________\n",
      "dense_3 (Dense)              (None, 256)               16640     \n",
      "_________________________________________________________________\n",
      "dropout_1 (Dropout)          (None, 256)               0         \n",
      "_________________________________________________________________\n",
      "dense_4 (Dense)              (None, 256)               65792     \n",
      "_________________________________________________________________\n",
      "dense_5 (Dense)              (None, 256)               65792     \n",
      "_________________________________________________________________\n",
      "dense_6 (Dense)              (None, 561)               144177    \n",
      "=================================================================\n",
      "Total params: 521,013\n",
      "Trainable params: 519,763\n",
      "Non-trainable params: 1,250\n",
      "_________________________________________________________________\n"
     ]
    }
   ],
   "source": [
    "autoencoder.summary()"
   ]
  },
  {
   "cell_type": "code",
   "execution_count": 17,
   "metadata": {},
   "outputs": [
    {
     "data": {
      "text/plain": [
       "[<keras.engine.input_layer.InputLayer at 0x138f7511ca0>,\n",
       " <keras.layers.core.Dropout at 0x1388218dbb0>,\n",
       " <keras.layers.normalization.batch_normalization.BatchNormalization at 0x138821a67f0>,\n",
       " <keras.layers.core.Dense at 0x138821a6b20>,\n",
       " <keras.layers.core.Dense at 0x138821a6d60>,\n",
       " <keras.layers.core.Dense at 0x13882256460>,\n",
       " <keras.layers.normalization.batch_normalization.BatchNormalization at 0x138822a1340>,\n",
       " <keras.layers.core.Dense at 0x138822ae2e0>,\n",
       " <keras.layers.core.Dropout at 0x138822aef10>,\n",
       " <keras.layers.core.Dense at 0x138822a1a30>,\n",
       " <keras.layers.core.Dense at 0x138822c1ac0>,\n",
       " <keras.layers.core.Dense at 0x138822c16d0>]"
      ]
     },
     "execution_count": 17,
     "metadata": {},
     "output_type": "execute_result"
    }
   ],
   "source": [
    "autoencoder.layers"
   ]
  },
  {
   "cell_type": "code",
   "execution_count": 23,
   "metadata": {
    "scrolled": false
   },
   "outputs": [
    {
     "name": "stdout",
     "output_type": "stream",
     "text": [
      "Model: \"sequential_4\"\n",
      "_________________________________________________________________\n",
      "Layer (type)                 Output Shape              Param #   \n",
      "=================================================================\n",
      "batch_normalization (BatchNo (None, 561)               2244      \n",
      "_________________________________________________________________\n",
      "dense (Dense)                (None, 256)               143872    \n",
      "_________________________________________________________________\n",
      "dense_1 (Dense)              (None, 256)               65792     \n",
      "_________________________________________________________________\n",
      "dense_2 (Dense)              (None, 64)                16448     \n",
      "_________________________________________________________________\n",
      "code (BatchNormalization)    (None, 64)                256       \n",
      "_________________________________________________________________\n",
      "dense_3 (Dense)              (None, 256)               16640     \n",
      "_________________________________________________________________\n",
      "dropout_1 (Dropout)          (None, 256)               0         \n",
      "_________________________________________________________________\n",
      "dense_final (Dense)          (None, 6)                 1542      \n",
      "=================================================================\n",
      "Total params: 246,794\n",
      "Trainable params: 245,544\n",
      "Non-trainable params: 1,250\n",
      "_________________________________________________________________\n"
     ]
    }
   ],
   "source": [
    "### criar novo modelo usando encoder pré-treinado do modelo A\n",
    "\n",
    "# dica: obter lista de camadas\n",
    "layers = [l for l in autoencoder.layers]\n",
    "\n",
    "# montar novo modelo com nova camada de entrada\n",
    "novo_modelo = keras.Sequential()\n",
    "novo_modelo.add(keras.layers.Input(shape=(x_trainU.shape[1])))\n",
    "\n",
    "# adicionar camadas anteriores usando novo_modelo.add(layers[i])\n",
    "for i in range(len(layers)):\n",
    "    if i not in [0,1,9,10,11]: #retirando dropout e camada de entrada\n",
    "        novo_modelo.add(layers[i])\n",
    "\n",
    "\n",
    "\n",
    "# adicionar novas camadas\n",
    "novo_modelo.add(keras.layers.Dense(6, activation='softmax',name='dense_final'))\n",
    "\n",
    "\n",
    "novo_modelo.summary()"
   ]
  },
  {
   "cell_type": "code",
   "execution_count": 24,
   "metadata": {},
   "outputs": [],
   "source": [
    "metrics = [keras.metrics.Precision(name=\"precision\"),keras.metrics.Recall(name=\"recall\")]"
   ]
  },
  {
   "cell_type": "code",
   "execution_count": 25,
   "metadata": {},
   "outputs": [
    {
     "data": {
      "text/plain": [
       "(5149, 6)"
      ]
     },
     "execution_count": 25,
     "metadata": {},
     "output_type": "execute_result"
    }
   ],
   "source": [
    "y_trainU.shape"
   ]
  },
  {
   "cell_type": "code",
   "execution_count": 26,
   "metadata": {
    "scrolled": true
   },
   "outputs": [
    {
     "name": "stdout",
     "output_type": "stream",
     "text": [
      "Epoch 1/50\n",
      "322/322 [==============================] - 2s 5ms/step - loss: 0.5514 - precision: 0.8587 - recall: 0.7071 - val_loss: 0.2653 - val_precision: 0.9078 - val_recall: 0.8891\n",
      "Epoch 2/50\n",
      "322/322 [==============================] - 1s 4ms/step - loss: 0.2249 - precision: 0.9178 - recall: 0.9107 - val_loss: 0.1859 - val_precision: 0.9329 - val_recall: 0.9229\n",
      "Epoch 3/50\n",
      "322/322 [==============================] - 1s 4ms/step - loss: 0.1568 - precision: 0.9419 - recall: 0.9377 - val_loss: 0.1815 - val_precision: 0.9350 - val_recall: 0.9278\n",
      "Epoch 4/50\n",
      "322/322 [==============================] - 1s 4ms/step - loss: 0.1306 - precision: 0.9554 - recall: 0.9534 - val_loss: 0.1932 - val_precision: 0.9332 - val_recall: 0.9278\n",
      "Epoch 5/50\n",
      "322/322 [==============================] - 1s 4ms/step - loss: 0.1161 - precision: 0.9581 - recall: 0.9557 - val_loss: 0.1584 - val_precision: 0.9474 - val_recall: 0.9437\n",
      "Epoch 6/50\n",
      "322/322 [==============================] - 1s 3ms/step - loss: 0.0928 - precision: 0.9635 - recall: 0.9625 - val_loss: 0.1336 - val_precision: 0.9544 - val_recall: 0.9518\n",
      "Epoch 7/50\n",
      "322/322 [==============================] - 1s 3ms/step - loss: 0.0935 - precision: 0.9677 - recall: 0.9660 - val_loss: 0.1397 - val_precision: 0.9546 - val_recall: 0.9511\n",
      "Epoch 8/50\n",
      "322/322 [==============================] - 1s 3ms/step - loss: 0.0883 - precision: 0.9695 - recall: 0.9685 - val_loss: 0.1604 - val_precision: 0.9462 - val_recall: 0.9419\n",
      "Epoch 9/50\n",
      "322/322 [==============================] - 1s 3ms/step - loss: 0.0806 - precision: 0.9706 - recall: 0.9695 - val_loss: 0.1501 - val_precision: 0.9532 - val_recall: 0.9497\n",
      "Epoch 10/50\n",
      "322/322 [==============================] - 1s 3ms/step - loss: 0.0809 - precision: 0.9710 - recall: 0.9697 - val_loss: 0.1729 - val_precision: 0.9471 - val_recall: 0.9449\n",
      "Epoch 11/50\n",
      "322/322 [==============================] - 1s 4ms/step - loss: 0.0725 - precision: 0.9749 - recall: 0.9742 - val_loss: 0.1669 - val_precision: 0.9451 - val_recall: 0.9421\n",
      "Epoch 12/50\n",
      "322/322 [==============================] - 1s 4ms/step - loss: 0.0694 - precision: 0.9759 - recall: 0.9748 - val_loss: 0.1673 - val_precision: 0.9483 - val_recall: 0.9443\n",
      "Epoch 13/50\n",
      "322/322 [==============================] - 1s 4ms/step - loss: 0.0773 - precision: 0.9716 - recall: 0.9715 - val_loss: 0.1574 - val_precision: 0.9526 - val_recall: 0.9476\n",
      "Epoch 14/50\n",
      "322/322 [==============================] - 1s 4ms/step - loss: 0.0586 - precision: 0.9788 - recall: 0.9784 - val_loss: 0.1590 - val_precision: 0.9519 - val_recall: 0.9501\n",
      "Epoch 15/50\n",
      "322/322 [==============================] - 1s 4ms/step - loss: 0.0618 - precision: 0.9776 - recall: 0.9769 - val_loss: 0.2055 - val_precision: 0.9411 - val_recall: 0.9365\n",
      "Epoch 16/50\n",
      "322/322 [==============================] - 1s 3ms/step - loss: 0.0542 - precision: 0.9821 - recall: 0.9812 - val_loss: 0.1597 - val_precision: 0.9489 - val_recall: 0.9454\n",
      "Epoch 17/50\n",
      "322/322 [==============================] - 1s 4ms/step - loss: 0.0589 - precision: 0.9802 - recall: 0.9798 - val_loss: 0.1705 - val_precision: 0.9491 - val_recall: 0.9443\n",
      "Epoch 18/50\n",
      "322/322 [==============================] - 1s 4ms/step - loss: 0.0463 - precision: 0.9821 - recall: 0.9819 - val_loss: 0.1876 - val_precision: 0.9456 - val_recall: 0.9423\n",
      "Epoch 19/50\n",
      "322/322 [==============================] - 1s 4ms/step - loss: 0.0497 - precision: 0.9815 - recall: 0.9812 - val_loss: 0.1672 - val_precision: 0.9535 - val_recall: 0.9520\n",
      "Epoch 20/50\n",
      "322/322 [==============================] - 1s 4ms/step - loss: 0.0535 - precision: 0.9823 - recall: 0.9814 - val_loss: 0.1369 - val_precision: 0.9562 - val_recall: 0.9544\n",
      "Epoch 21/50\n",
      "322/322 [==============================] - 1s 4ms/step - loss: 0.0520 - precision: 0.9837 - recall: 0.9831 - val_loss: 0.1684 - val_precision: 0.9509 - val_recall: 0.9480\n",
      "Epoch 22/50\n",
      "322/322 [==============================] - 1s 4ms/step - loss: 0.0377 - precision: 0.9866 - recall: 0.9864 - val_loss: 0.1893 - val_precision: 0.9464 - val_recall: 0.9437\n",
      "Epoch 23/50\n",
      "322/322 [==============================] - 1s 3ms/step - loss: 0.0367 - precision: 0.9862 - recall: 0.9860 - val_loss: 0.1549 - val_precision: 0.9562 - val_recall: 0.9542\n",
      "Epoch 24/50\n",
      "322/322 [==============================] - 1s 4ms/step - loss: 0.0347 - precision: 0.9887 - recall: 0.9883 - val_loss: 0.1781 - val_precision: 0.9506 - val_recall: 0.9489\n",
      "Epoch 25/50\n",
      "322/322 [==============================] - 1s 3ms/step - loss: 0.0513 - precision: 0.9829 - recall: 0.9821 - val_loss: 0.1511 - val_precision: 0.9521 - val_recall: 0.9501\n",
      "Epoch 26/50\n",
      "322/322 [==============================] - 1s 4ms/step - loss: 0.0340 - precision: 0.9887 - recall: 0.9885 - val_loss: 0.1586 - val_precision: 0.9510 - val_recall: 0.9501\n",
      "Epoch 27/50\n",
      "322/322 [==============================] - 2s 6ms/step - loss: 0.0373 - precision: 0.9882 - recall: 0.9882 - val_loss: 0.2255 - val_precision: 0.9383 - val_recall: 0.9359\n",
      "Epoch 28/50\n",
      "322/322 [==============================] - 2s 6ms/step - loss: 0.0446 - precision: 0.9854 - recall: 0.9850 - val_loss: 0.1786 - val_precision: 0.9482 - val_recall: 0.9454\n",
      "Epoch 29/50\n",
      "322/322 [==============================] - 2s 5ms/step - loss: 0.0354 - precision: 0.9874 - recall: 0.9870 - val_loss: 0.1741 - val_precision: 0.9531 - val_recall: 0.9513\n",
      "Epoch 30/50\n",
      "322/322 [==============================] - 1s 4ms/step - loss: 0.0298 - precision: 0.9903 - recall: 0.9899 - val_loss: 0.2269 - val_precision: 0.9338 - val_recall: 0.9317\n",
      "Epoch 31/50\n",
      "322/322 [==============================] - 1s 3ms/step - loss: 0.0384 - precision: 0.9849 - recall: 0.9849 - val_loss: 0.1973 - val_precision: 0.9445 - val_recall: 0.9417\n",
      "Epoch 32/50\n",
      "322/322 [==============================] - 1s 4ms/step - loss: 0.0320 - precision: 0.9883 - recall: 0.9882 - val_loss: 0.1797 - val_precision: 0.9532 - val_recall: 0.9524\n",
      "Epoch 33/50\n",
      "322/322 [==============================] - 1s 4ms/step - loss: 0.0334 - precision: 0.9872 - recall: 0.9872 - val_loss: 0.1702 - val_precision: 0.9510 - val_recall: 0.9499\n",
      "Epoch 34/50\n",
      "322/322 [==============================] - 1s 4ms/step - loss: 0.0286 - precision: 0.9901 - recall: 0.9895 - val_loss: 0.1838 - val_precision: 0.9529 - val_recall: 0.9513\n",
      "Epoch 35/50\n",
      "322/322 [==============================] - 1s 4ms/step - loss: 0.0314 - precision: 0.9905 - recall: 0.9903 - val_loss: 0.2113 - val_precision: 0.9420 - val_recall: 0.9402\n",
      "Epoch 36/50\n",
      "322/322 [==============================] - 1s 4ms/step - loss: 0.0275 - precision: 0.9911 - recall: 0.9909 - val_loss: 0.1724 - val_precision: 0.9529 - val_recall: 0.9507\n",
      "Epoch 37/50\n",
      "322/322 [==============================] - 1s 4ms/step - loss: 0.0325 - precision: 0.9885 - recall: 0.9885 - val_loss: 0.1900 - val_precision: 0.9508 - val_recall: 0.9487\n",
      "Epoch 38/50\n",
      "322/322 [==============================] - 1s 3ms/step - loss: 0.0305 - precision: 0.9893 - recall: 0.9891 - val_loss: 0.1804 - val_precision: 0.9525 - val_recall: 0.9491\n",
      "Epoch 39/50\n",
      "322/322 [==============================] - 1s 4ms/step - loss: 0.0267 - precision: 0.9924 - recall: 0.9922 - val_loss: 0.2018 - val_precision: 0.9465 - val_recall: 0.9449\n",
      "Epoch 40/50\n",
      "322/322 [==============================] - 2s 5ms/step - loss: 0.0327 - precision: 0.9864 - recall: 0.9860 - val_loss: 0.2187 - val_precision: 0.9444 - val_recall: 0.9425\n",
      "Epoch 41/50\n",
      "322/322 [==============================] - 1s 4ms/step - loss: 0.0212 - precision: 0.9926 - recall: 0.9926 - val_loss: 0.1602 - val_precision: 0.9566 - val_recall: 0.9550\n",
      "Epoch 42/50\n",
      "322/322 [==============================] - 1s 3ms/step - loss: 0.0285 - precision: 0.9891 - recall: 0.9887 - val_loss: 0.2225 - val_precision: 0.9447 - val_recall: 0.9423\n",
      "Epoch 43/50\n",
      "322/322 [==============================] - 1s 4ms/step - loss: 0.0234 - precision: 0.9920 - recall: 0.9918 - val_loss: 0.2026 - val_precision: 0.9468 - val_recall: 0.9443\n",
      "Epoch 44/50\n",
      "322/322 [==============================] - 1s 3ms/step - loss: 0.0253 - precision: 0.9913 - recall: 0.9911 - val_loss: 0.1793 - val_precision: 0.9531 - val_recall: 0.9517\n",
      "Epoch 45/50\n",
      "322/322 [==============================] - 1s 4ms/step - loss: 0.0244 - precision: 0.9926 - recall: 0.9922 - val_loss: 0.2990 - val_precision: 0.9307 - val_recall: 0.9256\n"
     ]
    },
    {
     "name": "stdout",
     "output_type": "stream",
     "text": [
      "Epoch 46/50\n",
      "322/322 [==============================] - 1s 3ms/step - loss: 0.0236 - precision: 0.9905 - recall: 0.9905 - val_loss: 0.2016 - val_precision: 0.9481 - val_recall: 0.9464\n",
      "Epoch 47/50\n",
      "322/322 [==============================] - 1s 3ms/step - loss: 0.0183 - precision: 0.9949 - recall: 0.9944 - val_loss: 0.2112 - val_precision: 0.9459 - val_recall: 0.9441\n",
      "Epoch 48/50\n",
      "322/322 [==============================] - 1s 3ms/step - loss: 0.0247 - precision: 0.9930 - recall: 0.9928 - val_loss: 0.1782 - val_precision: 0.9529 - val_recall: 0.9515\n",
      "Epoch 49/50\n",
      "322/322 [==============================] - 1s 4ms/step - loss: 0.0292 - precision: 0.9903 - recall: 0.9899 - val_loss: 0.1666 - val_precision: 0.9533 - val_recall: 0.9518\n",
      "Epoch 50/50\n",
      "322/322 [==============================] - 1s 3ms/step - loss: 0.0170 - precision: 0.9948 - recall: 0.9944 - val_loss: 0.2120 - val_precision: 0.9460 - val_recall: 0.9427\n"
     ]
    }
   ],
   "source": [
    "# compilar modelo B\n",
    "tf.keras.backend.clear_session()\n",
    "epochs = 50\n",
    "batch_size=16\n",
    "\n",
    "novo_modelo.compile(optimizer=keras.optimizers.Adam(learning_rate=0.001), loss='categorical_crossentropy',metrics=metrics)\n",
    "\n",
    "# treinar modelo B\n",
    "hist2 = novo_modelo.fit(x_trainU, y_trainU, callbacks=[callbacklr],batch_size=batch_size, epochs=epochs,\n",
    "                      validation_data=(x_test, y_test))\n"
   ]
  },
  {
   "cell_type": "markdown",
   "metadata": {},
   "source": [
    "### Parte 4: Avaliação da rede neural de classificação"
   ]
  },
  {
   "cell_type": "code",
   "execution_count": 34,
   "metadata": {},
   "outputs": [
    {
     "data": {
      "text/html": [
       "<div>\n",
       "<style scoped>\n",
       "    .dataframe tbody tr th:only-of-type {\n",
       "        vertical-align: middle;\n",
       "    }\n",
       "\n",
       "    .dataframe tbody tr th {\n",
       "        vertical-align: top;\n",
       "    }\n",
       "\n",
       "    .dataframe thead th {\n",
       "        text-align: right;\n",
       "    }\n",
       "</style>\n",
       "<table border=\"1\" class=\"dataframe\">\n",
       "  <thead>\n",
       "    <tr style=\"text-align: right;\">\n",
       "      <th></th>\n",
       "      <th>loss</th>\n",
       "      <th>precision</th>\n",
       "      <th>recall</th>\n",
       "      <th>val_loss</th>\n",
       "      <th>val_precision</th>\n",
       "      <th>val_recall</th>\n",
       "      <th>lr</th>\n",
       "    </tr>\n",
       "  </thead>\n",
       "  <tbody>\n",
       "    <tr>\n",
       "      <th>0</th>\n",
       "      <td>0.551395</td>\n",
       "      <td>0.858726</td>\n",
       "      <td>0.707128</td>\n",
       "      <td>0.265320</td>\n",
       "      <td>0.907811</td>\n",
       "      <td>0.889126</td>\n",
       "      <td>0.0009</td>\n",
       "    </tr>\n",
       "    <tr>\n",
       "      <th>1</th>\n",
       "      <td>0.224878</td>\n",
       "      <td>0.917792</td>\n",
       "      <td>0.910662</td>\n",
       "      <td>0.185921</td>\n",
       "      <td>0.932875</td>\n",
       "      <td>0.922913</td>\n",
       "      <td>0.0008</td>\n",
       "    </tr>\n",
       "    <tr>\n",
       "      <th>2</th>\n",
       "      <td>0.156839</td>\n",
       "      <td>0.941865</td>\n",
       "      <td>0.937658</td>\n",
       "      <td>0.181542</td>\n",
       "      <td>0.935029</td>\n",
       "      <td>0.927767</td>\n",
       "      <td>0.0007</td>\n",
       "    </tr>\n",
       "    <tr>\n",
       "      <th>3</th>\n",
       "      <td>0.130619</td>\n",
       "      <td>0.955430</td>\n",
       "      <td>0.953389</td>\n",
       "      <td>0.193233</td>\n",
       "      <td>0.933203</td>\n",
       "      <td>0.927767</td>\n",
       "      <td>0.0006</td>\n",
       "    </tr>\n",
       "    <tr>\n",
       "      <th>4</th>\n",
       "      <td>0.116072</td>\n",
       "      <td>0.958139</td>\n",
       "      <td>0.955720</td>\n",
       "      <td>0.158410</td>\n",
       "      <td>0.947368</td>\n",
       "      <td>0.943689</td>\n",
       "      <td>0.0005</td>\n",
       "    </tr>\n",
       "  </tbody>\n",
       "</table>\n",
       "</div>"
      ],
      "text/plain": [
       "       loss  precision    recall  val_loss  val_precision  val_recall      lr\n",
       "0  0.551395   0.858726  0.707128  0.265320       0.907811    0.889126  0.0009\n",
       "1  0.224878   0.917792  0.910662  0.185921       0.932875    0.922913  0.0008\n",
       "2  0.156839   0.941865  0.937658  0.181542       0.935029    0.927767  0.0007\n",
       "3  0.130619   0.955430  0.953389  0.193233       0.933203    0.927767  0.0006\n",
       "4  0.116072   0.958139  0.955720  0.158410       0.947368    0.943689  0.0005"
      ]
     },
     "execution_count": 34,
     "metadata": {},
     "output_type": "execute_result"
    }
   ],
   "source": [
    "import pandas as pd\n",
    "df=pd.DataFrame(hist2.history)\n",
    "df.head()"
   ]
  },
  {
   "cell_type": "code",
   "execution_count": 28,
   "metadata": {},
   "outputs": [
    {
     "data": {
      "image/png": "[encoded data removed]",
      "text/plain": [
       "<Figure size 432x288 with 1 Axes>"
      ]
     },
     "metadata": {
      "needs_background": "light"
     },
     "output_type": "display_data"
    }
   ],
   "source": [
    "# exibir grafico com precision e recall das épocas\n",
    "plt.plot(hist2.history[\"precision\"])\n",
    "plt.title(\"precision\")\n",
    "plt.xlabel(\"epoch\")\n",
    "plt.show()"
   ]
  },
  {
   "cell_type": "code",
   "execution_count": 29,
   "metadata": {},
   "outputs": [
    {
     "data": {
      "image/png": "[encoded data removed]",
      "text/plain": [
       "<Figure size 432x288 with 1 Axes>"
      ]
     },
     "metadata": {
      "needs_background": "light"
     },
     "output_type": "display_data"
    }
   ],
   "source": [
    "# exibir grafico com precision e recall das épocas\n",
    "plt.plot(hist2.history[\"recall\"],'r')\n",
    "plt.title(\"recall\")\n",
    "plt.xlabel(\"epoch\")\n",
    "plt.show()"
   ]
  },
  {
   "cell_type": "code",
   "execution_count": 30,
   "metadata": {
    "scrolled": true
   },
   "outputs": [],
   "source": [
    "# avalie precision e recall final no treinamento/teste\n",
    "treino = novo_modelo.evaluate(x_trainU, y_trainU, verbose=0)\n",
    "teste = novo_modelo.evaluate(x_test, y_test, verbose=0)"
   ]
  },
  {
   "cell_type": "code",
   "execution_count": 31,
   "metadata": {},
   "outputs": [
    {
     "name": "stdout",
     "output_type": "stream",
     "text": [
      "Precisao do treino:  0.9998058080673218\n",
      "Revocacao do treino:  0.9998058080673218\n",
      "Precisao do teste:  0.9460249543190002\n",
      "Revocacao do teste:  0.9427184462547302\n"
     ]
    }
   ],
   "source": [
    "print(\"Precisao do treino: \", treino[1])\n",
    "print(\"Revocacao do treino: \", treino[2])\n",
    "print(\"Precisao do teste: \", teste[1])\n",
    "print(\"Revocacao do teste: \", teste[2])"
   ]
  },
  {
   "cell_type": "markdown",
   "metadata": {},
   "source": [
    "### Bônus\n",
    "\n",
    "#### 1: Análise do espaço de características aprendido (0,5 pt)"
   ]
  },
  {
   "cell_type": "code",
   "execution_count": 32,
   "metadata": {},
   "outputs": [],
   "source": [
    "from sklearn.decomposition import PCA"
   ]
  },
  {
   "cell_type": "code",
   "execution_count": null,
   "metadata": {
    "scrolled": true
   },
   "outputs": [],
   "source": [
    "# código exemplo para scatterplot (sendo pca_train o array com dados projetados, e rot_train rotulos discretos)\n",
    "scatter = ax.scatter(pca_train[:,0], pca_train[:,1], c=rot_train, cmap=\"jet\")\n",
    "legend1 = ax.legend(*scatter.legend_elements(), loc=\"upper right\", title=\"Classes\")\n",
    "ax.add_artist(legend1)\n",
    "plt.title('PCA')"
   ]
  },
  {
   "cell_type": "markdown",
   "metadata": {},
   "source": [
    "#### 2: SVM no código aprendido (0,5 pt)"
   ]
  },
  {
   "cell_type": "code",
   "execution_count": null,
   "metadata": {
    "scrolled": true
   },
   "outputs": [],
   "source": [
    "from sklearn import svm"
   ]
  },
  {
   "cell_type": "code",
   "execution_count": null,
   "metadata": {},
   "outputs": [],
   "source": []
  }
 ],
 "metadata": {
  "accelerator": "GPU",
  "colab": {
   "collapsed_sections": [],
   "name": "RNAP-04-Exercicios_solucoes.ipynb",
   "provenance": []
  },
  "kernelspec": {
   "display_name": "Python 3",
   "language": "python",
   "name": "python3"
  },
  "language_info": {
   "codemirror_mode": {
    "name": "ipython",
    "version": 3
   },
   "file_extension": ".py",
   "mimetype": "text/x-python",
   "name": "python",
   "nbconvert_exporter": "python",
   "pygments_lexer": "ipython3",
   "version": "3.8.5"
  },
  "toc": {
   "base_numbering": 1,
   "nav_menu": {},
   "number_sections": true,
   "sideBar": true,
   "skip_h1_title": false,
   "title_cell": "Table of Contents",
   "title_sidebar": "Contents",
   "toc_cell": false,
   "toc_position": {},
   "toc_section_display": true,
   "toc_window_display": false
  },
  "varInspector": {
   "cols": {
    "lenName": 16,
    "lenType": 16,
    "lenVar": 40
   },
   "kernels_config": {
    "python": {
     "delete_cmd_postfix": "",
     "delete_cmd_prefix": "del ",
     "library": "var_list.py",
     "varRefreshCmd": "print(var_dic_list())"
    },
    "r": {
     "delete_cmd_postfix": ") ",
     "delete_cmd_prefix": "rm(",
     "library": "var_list.r",
     "varRefreshCmd": "cat(var_dic_list()) "
    }
   },
   "types_to_exclude": [
    "module",
    "function",
    "builtin_function_or_method",
    "instance",
    "_Feature"
   ],
   "window_display": false
  }
 },
 "nbformat": 4,
 "nbformat_minor": 1
}
