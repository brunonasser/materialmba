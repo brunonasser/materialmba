{
 "cells": [
  {
   "cell_type": "markdown",
   "metadata": {
    "id": "K8CDQUj8yqpq"
   },
   "source": [
    "## MBA em Ciência de Dados\n",
    "# Redes Neurais e Arquiteturas Profundas\n",
    "\n",
    "### <span style=\"color:darkred\">Módulo V - Redes neurais auto-associativas e geradoras</span>\n",
    "\n",
    "\n",
    "### <span style=\"color:darkred\">Avaliação (com soluções)</span>\n",
    "\n",
    "Moacir Antonelli Ponti\n",
    "\n",
    "CeMEAI - ICMC/USP São Carlos\n",
    "\n",
    "---\n",
    "\n",
    "As respostas devem ser dadas no Moodle, use esse notebook apenas para gerar o código necessário para obter as respostas\n",
    "\n",
    "---"
   ]
  },
  {
   "cell_type": "markdown",
   "metadata": {
    "id": "xMJ4IFd7yqpt"
   },
   "source": [
    "### Questão 1)\n",
    "\n",
    "Qual a diferença entre um Autoencoder convencional (AE) e um Variational Autoencoder (VAE)?\n",
    "\n",
    "(a) VAE aprende uma representação latente com base na comparação entre exemplos reais e exemplos gerados artificialmente, enquanto que o AE aprende apenas a partir de dados reais<br>\n",
    "<font color='red'>(b) O espaço latente do VAE é composto por parâmetros de distribuições a partir dos quais são amostrados o exemplos a serem decodificados pelo elemento decoder, enquanto que o espaço latente do AE é aprendido sem assumir distribuições para suas dimensões.<br></font>\n",
    "(c) O espaço latente do AE é composto por parâmetros de distribuições a partir dos quais são amostrados o exemplos a serem decodificados pelo elemento decoder, enquanto que o espaço latente do VAE é aprendido sem assumir distribuições para suas dimensões, permitindo que esse seja usado também como modelo gerador.<br>\n",
    "(d) VAE aprende apenas a partir de dados reais, enquanto o AE aprende com base na comparação entre exemplos reais na entrada e exemplos gerados artificialmente em sua saída<br>\n",
    "\n",
    "**Justificativa:** (a) e (d) são incorretas pois VAE e AE não aprendem a partir de exemplos gerados artificialmente, sendo a GAN o método que realiza essa abordagem, (c) é incorreta pois o AE não possui distribuições em seu espaço latente e sim o VAE"
   ]
  },
  {
   "cell_type": "markdown",
   "metadata": {},
   "source": [
    "---\n",
    "### Questão 2)\n",
    "\n",
    "\n",
    "Considere os métodos Generative Adversarial Networks, Denoising Autoencoder e Variational Autoencoder. Podemos dizer que esses métodos se enquadram em qual tipo de paradigma aprendizado?\n",
    "\n",
    " (a) Supervisionado<br>\n",
    " (b) Semi-supervisionado<br>\n",
    " <font color='red'>(c) Não supervisionado</font><br>\n",
    " (d) Fracamente supervisionado<br>\n",
    " \n",
    " **Justificativa**: formalmente, esses métodos aprendem sem necessidade de supervisão no sentido de anotações extras para além dos próprios dados."
   ]
  },
  {
   "cell_type": "markdown",
   "metadata": {
    "id": "nJQ0-S3myqqL"
   },
   "source": [
    "---\n",
    "### Questão 3)\n",
    "\n",
    "O objetivo principal no aprendizado de uma rede do tipo Generative Adversarial Network é\n",
    "\n",
    " <font color='red'>(a) Aprender as operações que permitem, a partir de um exemplo aleatório amostrado de uma determinada distribuição, gerar um exemplo que se assemelhe a uma amostra obtida da distribuição dos dados de treinamento</font><br>\n",
    " (b) Classificar exemplos fornecidos para a rede neural em exemplos advindos do conjunto de treinamento da base de dados de interesse, e exemplos que não pertençam a esse conjunto.<br>\n",
    " (c) Realizar uma regressão da distribuição de entrada para um espaço latente compacto e de menor dimensionalidade que a entrada, a partir do qual podemos reconstruir um exemplo de forma fiel com relação à sua dimensionalidade original<br>\n",
    " (d) Obter um modelo que aprenda a distribuição dos dados de entrada e que projete esses dados num espaço que seja robusto a possíveis ruídos em dados futuros, permitindo assim evitar ataques adversariais.<br>\n",
    " \n",
    "  **Justificativa**: A alternativa (b) está errada pois, apesar de existir um elemento discriminador, essa classificação não é o objetivo principal, mas sim é usada como forma de guiar a rede a aprender a distribuição dos dados de treinamento a partir de operações que gerem dados semelhantes aos reais a partir de exemplos aleatórios. A alternativa (c) descreve um autoencoder e não uma GAN. A alternativa (d) inicia descrevendo um Denoising Autoencoder e finaliza afirmando que isso permite ataques adversariais o que não é verdade nem mesmo para Denoising Autoencoders."
   ]
  },
  {
   "cell_type": "markdown",
   "metadata": {
    "id": "C1sh5GgYyqqY"
   },
   "source": [
    "---\n",
    "\n",
    "### Questão 4)\n",
    "\n",
    "Carregue a base de dados `wine.csv`, conforme abaixo, com uma divisão hold-out utilizando os 80% exemplos iniciais para treinamento e os restantes para teste. Utilizaremos apenas os exemplos de treinamento obtidos nessa separação.\n",
    "\n",
    "Projete um Autoencoder para produzir um espaço de características com 5 dimensões, com as seguintes camadas:\n",
    "* Entrada (com as dimensões da base de dados)\n",
    "* Dropout de 0.25\n",
    "* Camada densa de 5 neurônios (camada de código) e ativação relu\n",
    "* Camada densa de saída (com as dimensões da base de dados) e ativação sigmoide\n",
    "\n",
    "OBS: código é o nome que se dá à camada latente do Autoencoder, geralmente aquela contendo a maior restrição de dimensionalidade, que fornece um espaço de características compacto para os dados de entrada. Também chamamos de código as características obtidas a partir dessa camada.\n",
    "\n",
    "Inicialize as sementes `seed(1)` e `set_seed(2)` antes de instanciar o modelo, compilar e treinar.\n",
    "\n",
    "Utilize a função de custo mean absolute error (mse), otimizador Adam com taxa 0.0001, batchsize 10 e treine por 300 épocas.\n",
    "\n",
    "Após o treinamento, obtenha as características a partir da camada \"código\" do Autoencoder (o modelo treinado nos dados de treinamento) e grafe um scatterplot das duas primeiras características do código de treinamento, analisando visualmente a distribuição desses dados com relação das classes. Podemos identificar qual distribuição dos dados em termos da separação e sobreposição de classes?\n",
    "\n",
    "<font color='red'>(a) classe mais distintamente separada: 1, classes sobrepostas: 0 e 2<br></font>\n",
    "(b) classe mais distintamente separada: 0, classes sobrepostas: 1 e 2 <br>\n",
    "(c) classes mais distintamente separadas: 0, 1 e 2, classes sobrepostas: nenhuma<br>\n",
    "(d) classe mais distintamente separada: 2, classes sobrepostas: 0 e 1 <br>\n",
    "\n",
    " **Justificativa**: Ver código abaixo."
   ]
  },
  {
   "cell_type": "code",
   "execution_count": 1,
   "metadata": {
    "id": "Rif40G6wST-s"
   },
   "outputs": [
    {
     "name": "stderr",
     "output_type": "stream",
     "text": [
      "2021-10-27 11:40:48.317959: I tensorflow/stream_executor/platform/default/dso_loader.cc:53] Successfully opened dynamic library libcudart.so.11.0\n"
     ]
    }
   ],
   "source": [
    "import numpy as np\n",
    "import matplotlib.pyplot as plt\n",
    "import tensorflow as tf\n",
    "import pandas as pd\n",
    "from tensorflow import keras\n",
    "from tensorflow.keras import layers\n",
    "from tensorflow.keras import models\n",
    "from numpy.random import seed\n",
    "from tensorflow.random import set_seed\n",
    "from sklearn.model_selection import train_test_split\n",
    "from sklearn.preprocessing import MinMaxScaler"
   ]
  },
  {
   "cell_type": "code",
   "execution_count": 2,
   "metadata": {},
   "outputs": [
    {
     "name": "stdout",
     "output_type": "stream",
     "text": [
      "   Alcohol  Malic acid   Ash  Alcalinity of ash  Magnesium  Total phenols  \\\n",
      "0    14.23        1.71  2.43               15.6        127           2.80   \n",
      "1    13.20        1.78  2.14               11.2        100           2.65   \n",
      "2    13.16        2.36  2.67               18.6        101           2.80   \n",
      "3    14.37        1.95  2.50               16.8        113           3.85   \n",
      "4    13.24        2.59  2.87               21.0        118           2.80   \n",
      "\n",
      "   Flavanoids  Nonflavanoid phenols  Proanthocyanins  Color intensity   Hue  \\\n",
      "0        3.06                  0.28             2.29             5.64  1.04   \n",
      "1        2.76                  0.26             1.28             4.38  1.05   \n",
      "2        3.24                  0.30             2.81             5.68  1.03   \n",
      "3        3.49                  0.24             2.18             7.80  0.86   \n",
      "4        2.69                  0.39             1.82             4.32  1.04   \n",
      "\n",
      "   OD280/OD315 of diluted wines  Proline Class  \n",
      "0                          3.92     1065   one  \n",
      "1                          3.40     1050   one  \n",
      "2                          3.17     1185   one  \n",
      "3                          3.45     1480   one  \n",
      "4                          2.93      735   one  \n",
      "(178, 13)\n"
     ]
    }
   ],
   "source": [
    "df = pd.read_csv(\"wine.csv\")\n",
    "df.dropna(inplace=True)\n",
    "print(df.head())\n",
    "classif = np.array(df['Class'].astype(\"category\").cat.codes)\n",
    "features = np.array(df.iloc[:, :-1])\n",
    "print(features.shape)"
   ]
  },
  {
   "cell_type": "code",
   "execution_count": 3,
   "metadata": {},
   "outputs": [
    {
     "name": "stdout",
     "output_type": "stream",
     "text": [
      "Exemplos de treinamento: 142\n",
      "Exemplos de teste: 36\n"
     ]
    }
   ],
   "source": [
    "X_train, X_test, y_train, y_test = train_test_split(features, classif, test_size=0.20, random_state=0)\n",
    "print(\"Exemplos de treinamento:\", len(X_train))\n",
    "print(\"Exemplos de teste:\", len(X_test))\n",
    "\n",
    "scaler = MinMaxScaler()\n",
    "X_train_n = scaler.fit_transform(X_train)\n",
    "X_test_n = scaler.transform(X_test)"
   ]
  },
  {
   "cell_type": "code",
   "execution_count": 85,
   "metadata": {},
   "outputs": [],
   "source": [
    "### Projetar modelo de autoencoder"
   ]
  },
  {
   "cell_type": "code",
   "execution_count": 5,
   "metadata": {},
   "outputs": [],
   "source": [
    "def autoencoder(input_dim, code_dim, dropout_rate=0.0):\n",
    "    input_x = keras.layers.Input(shape=(input_dim,))\n",
    "    x = keras.layers.Dropout(dropout_rate)(input_x)\n",
    "    z = keras.layers.Dense(code_dim, activation='relu', name='code')(x)\n",
    "    output_x = keras.layers.Dense(input_dim, activation='sigmoid')(z)\n",
    "    autoencoder = keras.models.Model(input_x, output_x)\n",
    "    return autoencoder"
   ]
  },
  {
   "cell_type": "code",
   "execution_count": 6,
   "metadata": {},
   "outputs": [],
   "source": [
    "### definir sementes, instanciar AE, compilar e treinar"
   ]
  },
  {
   "cell_type": "code",
   "execution_count": 30,
   "metadata": {},
   "outputs": [],
   "source": [
    "epochs = 300\n",
    "batch_size = 10\n",
    "\n",
    "seed(1)\n",
    "set_seed(2)\n",
    "\n",
    "code_dims = 5\n",
    "\n",
    "# instanciar AE\n",
    "# compilar AE\n",
    "# treinar AE\n",
    "autoencoder1 = autoencoder(X_train_n.shape[1], code_dims, dropout_rate=0.25)\n",
    "autoencoder1.compile(loss='mse', optimizer=keras.optimizers.Adam(learning_rate=0.0001))\n",
    "hist1 = autoencoder1.fit(X_train_n, X_train_n, batch_size=batch_size, epochs=epochs, verbose=0)"
   ]
  },
  {
   "cell_type": "code",
   "execution_count": 31,
   "metadata": {},
   "outputs": [
    {
     "name": "stdout",
     "output_type": "stream",
     "text": [
      "5/5 [==============================] - 0s 1ms/step - loss: 0.0366\n"
     ]
    }
   ],
   "source": [
    "# computa erro de treinamento\n",
    "scores1 = autoencoder1.evaluate(X_train_n, X_train_n)"
   ]
  },
  {
   "cell_type": "code",
   "execution_count": 32,
   "metadata": {},
   "outputs": [],
   "source": [
    "### Obter características a partir da camada de código do autoencoder"
   ]
  },
  {
   "cell_type": "code",
   "execution_count": 33,
   "metadata": {},
   "outputs": [],
   "source": [
    "code_model1 = keras.models.Model(inputs=autoencoder1.input, outputs=autoencoder1.get_layer('code').output)\n",
    "code_train1 = np.asarray(code_model1.predict(X_train_n))"
   ]
  },
  {
   "cell_type": "code",
   "execution_count": 34,
   "metadata": {},
   "outputs": [
    {
     "data": {
      "text/plain": [
       "<matplotlib.legend.Legend at 0x7f6970203d60>"
      ]
     },
     "execution_count": 34,
     "metadata": {},
     "output_type": "execute_result"
    },
    {
     "data": {
      "image/png": "[encoded data removed]",
      "text/plain": [
       "<Figure size 432x288 with 1 Axes>"
      ]
     },
     "metadata": {
      "needs_background": "light"
     },
     "output_type": "display_data"
    }
   ],
   "source": [
    "### Exibir as duas primeiras caracerísticas para análise visual\n",
    "size_sample = len(X_train)\n",
    "fig, ax = plt.subplots()\n",
    "scatter = ax.scatter(code_train1[:size_sample,0], code_train1[:size_sample,1], c=y_train[:size_sample], alpha=0.75, cmap=\"jet\")\n",
    "legend1 = ax.legend(*scatter.legend_elements(), loc=\"lower right\", title=\"Classes\")\n",
    "ax.add_artist(legend1)"
   ]
  },
  {
   "cell_type": "markdown",
   "metadata": {
    "id": "ifQGbqS05Rts"
   },
   "source": [
    "---\n",
    "\n",
    "### Questão 5)\n",
    "\n",
    "Carregue a base de dados `wine.csv`, conforme abaixo, com uma divisão hold-out utilizando os 80% exemplos iniciais para treinamento e os restantes para teste. \n",
    "\n",
    "Projete um Autoencoder profundo para produzir uma projeção em 3 dimensões, com as seguintes camadas:\n",
    "* Entrada (com as dimensões originais da base de dados)\n",
    "* Camada densas com 8 neurônios, ativação relu\n",
    "* Camada densa com 3 neurônios (camada de código), ativação relu\n",
    "* Dropout de 1/3.0 (um terço)\n",
    "* Camada densas com 8 neurônios, ativação relu\n",
    "* Camada densa de saída (com as dimensões originais da base de dados), ativação sigmóide\n",
    "\n",
    "Inicialize as sementes `seed(1)` e `set_seed(2)` antes de instanciar o modelo, compilar e treinar (com o conjunto de treinamento).\n",
    "\n",
    "Utilize a função de custo mean squared error (MSE), otimizador Adam com taxa 0.0001, batchsize 10 e treine por 300 épocas.\n",
    "\n",
    "Após o treinamento:\n",
    "1. Calcule o MSE (do autoencoder) no conjunto de teste\n",
    "2. Obtenha as características a partir do código de 3 dimensões para o conjunto de treinamento e de teste. Treine um classificador SVM (utilizando `SVC(C=0.5, random_state=1, kernel=\"rbf\")`) com o código de treinamento (3 dimensões). Calcule a acurácia obtida pelo SVM no conjunto de teste (utilizando as características obtidas a partir do autoencoder).\n",
    "\n",
    "Os valores observados de MSE no teste do autoencoder, e acurácia de classificação SVM no teste estão em qual intervalo?\n",
    "\n",
    "(a) MSE =[0.01, 0.08]; Acurácia = [0.73, 0.82] <br>\n",
    "<font color='red'>(b) MSE =[0.01, 0.08]; Acurácia = [0.87, 0.98] <br></font>\n",
    "(c) MSE =[0.10, 0.16]; Acurácia = [0.73, 0.82] <br>\n",
    "(d) MSE =[0.10, 0.16]; Acurácia = [0.87, 0.98] <br>\n",
    "\n",
    " **Justificativa**: Ver código abaixo."
   ]
  },
  {
   "cell_type": "code",
   "execution_count": 77,
   "metadata": {},
   "outputs": [
    {
     "name": "stdout",
     "output_type": "stream",
     "text": [
      "Exemplos de treinamento: 142\n",
      "Exemplos de teste: 36\n"
     ]
    }
   ],
   "source": [
    "X_train, X_test, y_train, y_test = train_test_split(features, classif, test_size=0.20, random_state=0)\n",
    "print(\"Exemplos de treinamento:\", len(X_train))\n",
    "print(\"Exemplos de teste:\", len(X_test))\n",
    "\n",
    "scaler = MinMaxScaler()\n",
    "X_train_n = scaler.fit_transform(X_train)\n",
    "X_test_n = scaler.transform(X_test)"
   ]
  },
  {
   "cell_type": "code",
   "execution_count": 78,
   "metadata": {},
   "outputs": [],
   "source": [
    "def deep_autoencoder(neurons, input_dim, code_dim, n_layers=1, dropout_rate=0.0):\n",
    "    \n",
    "    input_data = keras.layers.Input(shape=(input_dim,))\n",
    "    x = keras.layers.Dense(neurons, activation='relu')(input_data)\n",
    "    z = keras.layers.Dense(code_dim, activation='relu', name='code')(x)\n",
    "    z = keras.layers.Dropout(dropout_rate)(z)\n",
    "    x = keras.layers.Dense(neurons, activation='relu')(z)\n",
    "    output = keras.layers.Dense(input_dim, activation='sigmoid')(x)\n",
    "    autoencoder = keras.models.Model(input_data, output)\n",
    "    \n",
    "    return autoencoder"
   ]
  },
  {
   "cell_type": "code",
   "execution_count": 79,
   "metadata": {},
   "outputs": [],
   "source": [
    "epochs = 300\n",
    "batch_size = 10\n",
    "code_dims = 3"
   ]
  },
  {
   "cell_type": "code",
   "execution_count": 80,
   "metadata": {},
   "outputs": [
    {
     "name": "stdout",
     "output_type": "stream",
     "text": [
      "Model: \"model_23\"\n",
      "_________________________________________________________________\n",
      "Layer (type)                 Output Shape              Param #   \n",
      "=================================================================\n",
      "input_12 (InputLayer)        [(None, 13)]              0         \n",
      "_________________________________________________________________\n",
      "dense_23 (Dense)             (None, 8)                 112       \n",
      "_________________________________________________________________\n",
      "code (Dense)                 (None, 3)                 27        \n",
      "_________________________________________________________________\n",
      "dropout_11 (Dropout)         (None, 3)                 0         \n",
      "_________________________________________________________________\n",
      "dense_24 (Dense)             (None, 8)                 32        \n",
      "_________________________________________________________________\n",
      "dense_25 (Dense)             (None, 13)                117       \n",
      "=================================================================\n",
      "Total params: 288\n",
      "Trainable params: 288\n",
      "Non-trainable params: 0\n",
      "_________________________________________________________________\n"
     ]
    }
   ],
   "source": [
    "seed(1)\n",
    "set_seed(2)\n",
    "autoencoder2 = deep_autoencoder(8, X_train_n.shape[1], code_dims, 3, dropout_rate=1/3.0)\n",
    "autoencoder2.summary()\n",
    "autoencoder2.compile(loss='mse', optimizer=keras.optimizers.Adam(learning_rate=0.0001))\n",
    "hist2 = autoencoder2.fit(X_train_n, X_train_n, batch_size=batch_size,\n",
    "                    epochs=epochs, verbose=0)"
   ]
  },
  {
   "cell_type": "code",
   "execution_count": 81,
   "metadata": {},
   "outputs": [
    {
     "data": {
      "text/plain": [
       "[<matplotlib.lines.Line2D at 0x7f69305bd970>]"
      ]
     },
     "execution_count": 81,
     "metadata": {},
     "output_type": "execute_result"
    },
    {
     "data": {
      "image/png": "[encoded data removed]",
      "text/plain": [
       "<Figure size 432x288 with 1 Axes>"
      ]
     },
     "metadata": {
      "needs_background": "light"
     },
     "output_type": "display_data"
    }
   ],
   "source": [
    "plt.plot(hist2.history['loss'])"
   ]
  },
  {
   "cell_type": "code",
   "execution_count": 82,
   "metadata": {},
   "outputs": [
    {
     "name": "stdout",
     "output_type": "stream",
     "text": [
      "MSE treinamento: 0.0331\n",
      "MSE teste: 0.0343\n"
     ]
    }
   ],
   "source": [
    "scores2 = autoencoder2.evaluate(X_train_n, X_train_n, verbose=0)\n",
    "print(\"MSE treinamento: %.4f\" % (scores2))\n",
    "\n",
    "scores3 = autoencoder2.evaluate(X_test_n, X_test_n, verbose=0)\n",
    "print(\"MSE teste: %.4f\" % (scores3))"
   ]
  },
  {
   "cell_type": "code",
   "execution_count": 83,
   "metadata": {},
   "outputs": [],
   "source": [
    "code_modelae = keras.models.Model(inputs=autoencoder2.input, outputs=autoencoder2.get_layer('code').output)\n",
    "code_train = np.asarray(code_modelae.predict(X_train_n))"
   ]
  },
  {
   "cell_type": "code",
   "execution_count": 84,
   "metadata": {},
   "outputs": [
    {
     "name": "stdout",
     "output_type": "stream",
     "text": [
      "Calculando score...\n",
      "\n",
      "score: 0.94 \n"
     ]
    },
    {
     "data": {
      "image/png": "[encoded data removed]",
      "text/plain": [
       "<Figure size 432x288 with 2 Axes>"
      ]
     },
     "metadata": {
      "needs_background": "light"
     },
     "output_type": "display_data"
    }
   ],
   "source": [
    "from sklearn import svm\n",
    "from sklearn.metrics import plot_confusion_matrix\n",
    "\n",
    "clf2 = svm.SVC(C=0.5, random_state=1, kernel=\"rbf\")\n",
    "clf2.fit(code_train, y_train)\n",
    "code_test = np.asarray(code_modelae.predict(X_test_n))\n",
    "\n",
    "print('Calculando score...')\n",
    "score = clf2.score(code_test, y_test)\n",
    "print('\\nscore: %.2f ' % (score))\n",
    "\n",
    "disp = plot_confusion_matrix(clf2, code_test, y_test)"
   ]
  },
  {
   "cell_type": "code",
   "execution_count": null,
   "metadata": {},
   "outputs": [],
   "source": []
  }
 ],
 "metadata": {
  "accelerator": "GPU",
  "colab": {
   "collapsed_sections": [],
   "name": "RNAP-04-Avaliacao_solucoes.ipynb",
   "provenance": []
  },
  "kernelspec": {
   "display_name": "Python 3 (ipykernel)",
   "language": "python",
   "name": "python3"
  },
  "language_info": {
   "codemirror_mode": {
    "name": "ipython",
    "version": 3
   },
   "file_extension": ".py",
   "mimetype": "text/x-python",
   "name": "python",
   "nbconvert_exporter": "python",
   "pygments_lexer": "ipython3",
   "version": "3.9.5"
  }
 },
 "nbformat": 4,
 "nbformat_minor": 1
}
