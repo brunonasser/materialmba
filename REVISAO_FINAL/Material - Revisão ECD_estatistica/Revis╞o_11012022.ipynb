{
 "cells": [
  {
   "cell_type": "markdown",
   "metadata": {},
   "source": [
    "# Revisão ECD e AD\n",
    "\n",
    "\n",
    "**Profa. Cibele Russo**\n",
    "\n",
    "**MBA em Ciências de Dados**\n",
    "\n",
    "Data: 11/01/2022\n"
   ]
  },
  {
   "cell_type": "markdown",
   "metadata": {},
   "source": [
    "\n",
    "<img src=\"Sub1.png\" width=900 />\n",
    "\n",
    "<img src=\"Sub2.png\" width=900 />\n",
    "\n",
    "<img src=\"Sub3.png\" width=900 />\n"
   ]
  },
  {
   "cell_type": "markdown",
   "metadata": {},
   "source": [
    "Para esta questão, sugerem-se alguns comandos e passos em Python a seguir. "
   ]
  },
  {
   "cell_type": "code",
   "execution_count": 1,
   "metadata": {},
   "outputs": [],
   "source": [
    "# Instale os pacotes abaixo nas versões indicadas\n",
    "\n",
    "#!pip install statsmodels==0.11.1\n",
    "#!pip install scipy==1.4.1\n",
    "#!pip install pmdarima==1.7.1"
   ]
  },
  {
   "cell_type": "code",
   "execution_count": 2,
   "metadata": {},
   "outputs": [],
   "source": [
    "# Carregue as bibliotecas \n",
    "\n",
    "import pandas as pd\n",
    "import numpy as np\n",
    "\n",
    "from sklearn.metrics import mean_squared_error\n",
    "\n",
    "from scipy import stats\n",
    "\n",
    "import matplotlib.pyplot as plt\n",
    "%matplotlib inline\n",
    "\n",
    "from statsmodels.formula.api import ols\n",
    "\n",
    "import statsmodels as sm\n",
    "import matplotlib.pyplot as plt\n",
    "from statsmodels.tsa.arima_process import arma_generate_sample\n",
    "from statsmodels.tsa.arima_model import ARMA\n",
    "from statsmodels.tsa.statespace.sarimax import SARIMAX\n",
    "from statsmodels.graphics.tsaplots import plot_acf,plot_pacf\n",
    "from statsmodels.tools.eval_measures import rmse\n",
    "\n",
    "from pmdarima import auto_arima\n",
    "\n",
    "import seaborn as sns\n"
   ]
  },
  {
   "cell_type": "code",
   "execution_count": 3,
   "metadata": {},
   "outputs": [
    {
     "data": {
      "text/html": [
       "<div>\n",
       "<style scoped>\n",
       "    .dataframe tbody tr th:only-of-type {\n",
       "        vertical-align: middle;\n",
       "    }\n",
       "\n",
       "    .dataframe tbody tr th {\n",
       "        vertical-align: top;\n",
       "    }\n",
       "\n",
       "    .dataframe thead th {\n",
       "        text-align: right;\n",
       "    }\n",
       "</style>\n",
       "<table border=\"1\" class=\"dataframe\">\n",
       "  <thead>\n",
       "    <tr style=\"text-align: right;\">\n",
       "      <th></th>\n",
       "      <th>Último</th>\n",
       "      <th>Abertura</th>\n",
       "      <th>Máxima</th>\n",
       "      <th>Mínima</th>\n",
       "      <th>Vol</th>\n",
       "      <th>Variação</th>\n",
       "    </tr>\n",
       "    <tr>\n",
       "      <th>Data</th>\n",
       "      <th></th>\n",
       "      <th></th>\n",
       "      <th></th>\n",
       "      <th></th>\n",
       "      <th></th>\n",
       "      <th></th>\n",
       "    </tr>\n",
       "  </thead>\n",
       "  <tbody>\n",
       "    <tr>\n",
       "      <th>2020-11-10</th>\n",
       "      <td>105066.96</td>\n",
       "      <td>103516.37</td>\n",
       "      <td>105758.29</td>\n",
       "      <td>103452.64</td>\n",
       "      <td>16.67M</td>\n",
       "      <td>1.50%</td>\n",
       "    </tr>\n",
       "    <tr>\n",
       "      <th>2020-11-11</th>\n",
       "      <td>104808.83</td>\n",
       "      <td>105066.96</td>\n",
       "      <td>105462.33</td>\n",
       "      <td>104143.47</td>\n",
       "      <td>10.84M</td>\n",
       "      <td>-0.25%</td>\n",
       "    </tr>\n",
       "    <tr>\n",
       "      <th>2020-11-12</th>\n",
       "      <td>102507.01</td>\n",
       "      <td>104810.06</td>\n",
       "      <td>105018.66</td>\n",
       "      <td>102033.75</td>\n",
       "      <td>10.86M</td>\n",
       "      <td>-2.20%</td>\n",
       "    </tr>\n",
       "    <tr>\n",
       "      <th>2020-11-13</th>\n",
       "      <td>104723.00</td>\n",
       "      <td>102508.77</td>\n",
       "      <td>104725.79</td>\n",
       "      <td>102508.77</td>\n",
       "      <td>9.77M</td>\n",
       "      <td>2.16%</td>\n",
       "    </tr>\n",
       "    <tr>\n",
       "      <th>2020-11-16</th>\n",
       "      <td>106429.92</td>\n",
       "      <td>104728.51</td>\n",
       "      <td>106518.16</td>\n",
       "      <td>104728.51</td>\n",
       "      <td>11.72M</td>\n",
       "      <td>1.63%</td>\n",
       "    </tr>\n",
       "  </tbody>\n",
       "</table>\n",
       "</div>"
      ],
      "text/plain": [
       "               Último   Abertura     Máxima     Mínima     Vol Variação\n",
       "Data                                                                   \n",
       "2020-11-10  105066.96  103516.37  105758.29  103452.64  16.67M    1.50%\n",
       "2020-11-11  104808.83  105066.96  105462.33  104143.47  10.84M   -0.25%\n",
       "2020-11-12  102507.01  104810.06  105018.66  102033.75  10.86M   -2.20%\n",
       "2020-11-13  104723.00  102508.77  104725.79  102508.77   9.77M    2.16%\n",
       "2020-11-16  106429.92  104728.51  106518.16  104728.51  11.72M    1.63%"
      ]
     },
     "execution_count": 3,
     "metadata": {},
     "output_type": "execute_result"
    }
   ],
   "source": [
    "# Baixe os dados indicados no link indicado no enunciado do moodle e salve como 'dados.csv'\n",
    "\n",
    "dados = pd.read_csv('IBOVESPA.csv', index_col=0, parse_dates=True, dayfirst=True)\n",
    "\n",
    "dados.head()"
   ]
  },
  {
   "cell_type": "code",
   "execution_count": 4,
   "metadata": {},
   "outputs": [
    {
     "data": {
      "text/plain": [
       "Timestamp('2020-11-10 00:00:00')"
      ]
     },
     "execution_count": 4,
     "metadata": {},
     "output_type": "execute_result"
    }
   ],
   "source": [
    "dados.index.min()"
   ]
  },
  {
   "cell_type": "code",
   "execution_count": 5,
   "metadata": {},
   "outputs": [
    {
     "data": {
      "text/plain": [
       "Timestamp('2021-01-15 00:00:00')"
      ]
     },
     "execution_count": 5,
     "metadata": {},
     "output_type": "execute_result"
    }
   ],
   "source": [
    "dados.index.max()"
   ]
  },
  {
   "cell_type": "markdown",
   "metadata": {},
   "source": [
    "Os dados já estão no intervalo desejado, caso não estivessem, usar a célula abaixo e atribuir para dados"
   ]
  },
  {
   "cell_type": "code",
   "execution_count": 6,
   "metadata": {},
   "outputs": [
    {
     "data": {
      "text/plain": [
       "114160.80955555555"
      ]
     },
     "execution_count": 6,
     "metadata": {},
     "output_type": "execute_result"
    }
   ],
   "source": [
    "dados[(dados.index>='2020-11-10') & (dados.index<='2021-01-15')]['Último'].mean()"
   ]
  },
  {
   "cell_type": "code",
   "execution_count": 7,
   "metadata": {},
   "outputs": [
    {
     "data": {
      "text/plain": [
       "114160.80955555555"
      ]
     },
     "execution_count": 7,
     "metadata": {},
     "output_type": "execute_result"
    }
   ],
   "source": [
    "dados['Último'].mean()"
   ]
  },
  {
   "cell_type": "code",
   "execution_count": 8,
   "metadata": {},
   "outputs": [
    {
     "data": {
      "text/plain": [
       "102507.01"
      ]
     },
     "execution_count": 8,
     "metadata": {},
     "output_type": "execute_result"
    }
   ],
   "source": [
    "dados['Último'].min()"
   ]
  },
  {
   "cell_type": "code",
   "execution_count": 9,
   "metadata": {},
   "outputs": [
    {
     "data": {
      "text/plain": [
       "125076.63"
      ]
     },
     "execution_count": 9,
     "metadata": {},
     "output_type": "execute_result"
    }
   ],
   "source": [
    "dados['Último'].max()"
   ]
  },
  {
   "cell_type": "code",
   "execution_count": 10,
   "metadata": {},
   "outputs": [
    {
     "data": {
      "text/plain": [
       "113787.99066666666"
      ]
     },
     "execution_count": 10,
     "metadata": {},
     "output_type": "execute_result"
    }
   ],
   "source": [
    "dados['Abertura'].mean()"
   ]
  },
  {
   "cell_type": "code",
   "execution_count": 11,
   "metadata": {},
   "outputs": [],
   "source": [
    "data_min = dados.index.min()\n",
    "\n",
    "\n",
    "dados['X'] = (dados.index - data_min).days\n",
    "dados['Y'] = dados['Último']"
   ]
  },
  {
   "cell_type": "code",
   "execution_count": 12,
   "metadata": {},
   "outputs": [
    {
     "data": {
      "text/plain": [
       "45"
      ]
     },
     "execution_count": 12,
     "metadata": {},
     "output_type": "execute_result"
    }
   ],
   "source": [
    "len(dados)"
   ]
  },
  {
   "cell_type": "code",
   "execution_count": 13,
   "metadata": {},
   "outputs": [
    {
     "data": {
      "text/plain": [
       "Ttest_relResult(statistic=-1.7474250134302505, pvalue=0.08754024165600181)"
      ]
     },
     "execution_count": 13,
     "metadata": {},
     "output_type": "execute_result"
    }
   ],
   "source": [
    "data1 = dados['Abertura']\n",
    "data2 = dados['Último']\n",
    "\n",
    "# Teste para comparação de médias em amostras dependentes\n",
    "stats.ttest_rel(data1, data2, alternative='two-sided')\n",
    "\n"
   ]
  },
  {
   "cell_type": "code",
   "execution_count": 14,
   "metadata": {},
   "outputs": [],
   "source": [
    "# Caso precisássemos fazer o teste para amostras independentes\n",
    "# Teste t de Student (bicaudal) para média de duas populações Normais \n",
    "# Comando sugerido: stats.ttest_ind\n",
    "#stats.ttest_ind(data1, data2, alternative='two-sided')"
   ]
  },
  {
   "cell_type": "markdown",
   "metadata": {},
   "source": [
    "\n",
    "<img src=\"Sub2.png\" width=900 />"
   ]
  },
  {
   "cell_type": "code",
   "execution_count": 15,
   "metadata": {},
   "outputs": [
    {
     "data": {
      "text/plain": [
       "[<matplotlib.lines.Line2D at 0x7f4a13a635e0>]"
      ]
     },
     "execution_count": 15,
     "metadata": {},
     "output_type": "execute_result"
    },
    {
     "data": {
      "image/png": "[encoded data removed]",
      "text/plain": [
       "<Figure size 432x288 with 1 Axes>"
      ]
     },
     "metadata": {
      "needs_background": "light"
     },
     "output_type": "display_data"
    }
   ],
   "source": [
    "x = np.array(dados['X'])\n",
    "y = np.array(dados['Y'])\n",
    "\n",
    "plt.plot(x,y)"
   ]
  },
  {
   "cell_type": "code",
   "execution_count": 16,
   "metadata": {},
   "outputs": [
    {
     "data": {
      "text/html": [
       "<div>\n",
       "<style scoped>\n",
       "    .dataframe tbody tr th:only-of-type {\n",
       "        vertical-align: middle;\n",
       "    }\n",
       "\n",
       "    .dataframe tbody tr th {\n",
       "        vertical-align: top;\n",
       "    }\n",
       "\n",
       "    .dataframe thead th {\n",
       "        text-align: right;\n",
       "    }\n",
       "</style>\n",
       "<table border=\"1\" class=\"dataframe\">\n",
       "  <thead>\n",
       "    <tr style=\"text-align: right;\">\n",
       "      <th></th>\n",
       "      <th>Último</th>\n",
       "      <th>Abertura</th>\n",
       "      <th>Máxima</th>\n",
       "      <th>Mínima</th>\n",
       "      <th>Vol</th>\n",
       "      <th>Variação</th>\n",
       "      <th>X</th>\n",
       "      <th>Y</th>\n",
       "    </tr>\n",
       "    <tr>\n",
       "      <th>Data</th>\n",
       "      <th></th>\n",
       "      <th></th>\n",
       "      <th></th>\n",
       "      <th></th>\n",
       "      <th></th>\n",
       "      <th></th>\n",
       "      <th></th>\n",
       "      <th></th>\n",
       "    </tr>\n",
       "  </thead>\n",
       "  <tbody>\n",
       "    <tr>\n",
       "      <th>2020-11-10</th>\n",
       "      <td>105066.96</td>\n",
       "      <td>103516.37</td>\n",
       "      <td>105758.29</td>\n",
       "      <td>103452.64</td>\n",
       "      <td>16.67M</td>\n",
       "      <td>1.50%</td>\n",
       "      <td>0</td>\n",
       "      <td>105066.96</td>\n",
       "    </tr>\n",
       "    <tr>\n",
       "      <th>2020-11-11</th>\n",
       "      <td>104808.83</td>\n",
       "      <td>105066.96</td>\n",
       "      <td>105462.33</td>\n",
       "      <td>104143.47</td>\n",
       "      <td>10.84M</td>\n",
       "      <td>-0.25%</td>\n",
       "      <td>1</td>\n",
       "      <td>104808.83</td>\n",
       "    </tr>\n",
       "    <tr>\n",
       "      <th>2020-11-12</th>\n",
       "      <td>102507.01</td>\n",
       "      <td>104810.06</td>\n",
       "      <td>105018.66</td>\n",
       "      <td>102033.75</td>\n",
       "      <td>10.86M</td>\n",
       "      <td>-2.20%</td>\n",
       "      <td>2</td>\n",
       "      <td>102507.01</td>\n",
       "    </tr>\n",
       "    <tr>\n",
       "      <th>2020-11-13</th>\n",
       "      <td>104723.00</td>\n",
       "      <td>102508.77</td>\n",
       "      <td>104725.79</td>\n",
       "      <td>102508.77</td>\n",
       "      <td>9.77M</td>\n",
       "      <td>2.16%</td>\n",
       "      <td>3</td>\n",
       "      <td>104723.00</td>\n",
       "    </tr>\n",
       "    <tr>\n",
       "      <th>2020-11-16</th>\n",
       "      <td>106429.92</td>\n",
       "      <td>104728.51</td>\n",
       "      <td>106518.16</td>\n",
       "      <td>104728.51</td>\n",
       "      <td>11.72M</td>\n",
       "      <td>1.63%</td>\n",
       "      <td>6</td>\n",
       "      <td>106429.92</td>\n",
       "    </tr>\n",
       "  </tbody>\n",
       "</table>\n",
       "</div>"
      ],
      "text/plain": [
       "               Último   Abertura     Máxima     Mínima     Vol Variação  X  \\\n",
       "Data                                                                         \n",
       "2020-11-10  105066.96  103516.37  105758.29  103452.64  16.67M    1.50%  0   \n",
       "2020-11-11  104808.83  105066.96  105462.33  104143.47  10.84M   -0.25%  1   \n",
       "2020-11-12  102507.01  104810.06  105018.66  102033.75  10.86M   -2.20%  2   \n",
       "2020-11-13  104723.00  102508.77  104725.79  102508.77   9.77M    2.16%  3   \n",
       "2020-11-16  106429.92  104728.51  106518.16  104728.51  11.72M    1.63%  6   \n",
       "\n",
       "                    Y  \n",
       "Data                   \n",
       "2020-11-10  105066.96  \n",
       "2020-11-11  104808.83  \n",
       "2020-11-12  102507.01  \n",
       "2020-11-13  104723.00  \n",
       "2020-11-16  106429.92  "
      ]
     },
     "execution_count": 16,
     "metadata": {},
     "output_type": "execute_result"
    }
   ],
   "source": [
    "dados.head()"
   ]
  },
  {
   "cell_type": "code",
   "execution_count": 17,
   "metadata": {
    "scrolled": false
   },
   "outputs": [
    {
     "name": "stdout",
     "output_type": "stream",
     "text": [
      "                            OLS Regression Results                            \n",
      "==============================================================================\n",
      "Dep. Variable:                      Y   R-squared:                       0.943\n",
      "Model:                            OLS   Adj. R-squared:                  0.941\n",
      "Method:                 Least Squares   F-statistic:                     705.5\n",
      "Date:                Tue, 11 Jan 2022   Prob (F-statistic):           2.63e-28\n",
      "Time:                        20:05:27   Log-Likelihood:                -391.07\n",
      "No. Observations:                  45   AIC:                             786.1\n",
      "Df Residuals:                      43   BIC:                             789.7\n",
      "Df Model:                           1                                         \n",
      "Covariance Type:            nonrobust                                         \n",
      "==============================================================================\n",
      "                 coef    std err          t      P>|t|      [0.025      0.975]\n",
      "------------------------------------------------------------------------------\n",
      "Intercept   1.049e+05    411.373    255.043      0.000    1.04e+05    1.06e+05\n",
      "X            290.0498     10.920     26.561      0.000     268.027     312.073\n",
      "==============================================================================\n",
      "Omnibus:                        0.918   Durbin-Watson:                   1.062\n",
      "Prob(Omnibus):                  0.632   Jarque-Bera (JB):                0.537\n",
      "Skew:                          -0.267   Prob(JB):                        0.765\n",
      "Kurtosis:                       3.045   Cond. No.                         70.7\n",
      "==============================================================================\n",
      "\n",
      "Notes:\n",
      "[1] Standard Errors assume that the covariance matrix of the errors is correctly specified.\n"
     ]
    }
   ],
   "source": [
    "#Ajusta o modelo de regressão linear simples usando o comando ols\n",
    "mod = ols('Y~X', data=dados)\n",
    "res = mod.fit()\n",
    "print(res.summary())"
   ]
  },
  {
   "cell_type": "code",
   "execution_count": 18,
   "metadata": {},
   "outputs": [],
   "source": [
    "# Calcule os valores preditos de E(Y)\n",
    "ypred=res.fittedvalues\n",
    "\n",
    "# Obtenha o resíduo = observado-ajustado\n",
    "residuo = res.resid\n",
    "\n",
    "dados['residuo'] = residuo"
   ]
  },
  {
   "cell_type": "code",
   "execution_count": 19,
   "metadata": {},
   "outputs": [
    {
     "data": {
      "text/plain": [
       "<AxesSubplot:xlabel='Data'>"
      ]
     },
     "execution_count": 19,
     "metadata": {},
     "output_type": "execute_result"
    },
    {
     "data": {
      "image/png": "[encoded data removed]",
      "text/plain": [
       "<Figure size 432x288 with 1 Axes>"
      ]
     },
     "metadata": {
      "needs_background": "light"
     },
     "output_type": "display_data"
    }
   ],
   "source": [
    "residuo.plot()"
   ]
  },
  {
   "cell_type": "code",
   "execution_count": 20,
   "metadata": {},
   "outputs": [],
   "source": [
    "# Utilize os códigos abaixo SOMENTE para o método de Holt-Winters\n",
    "\n",
    "idx = pd.date_range(start=dados.index.min(), end=dados.index.max(), freq='B')\n",
    "dados = dados.reindex(idx)\n",
    "dados.fillna(method='ffill', inplace=True)"
   ]
  },
  {
   "cell_type": "code",
   "execution_count": 21,
   "metadata": {},
   "outputs": [
    {
     "data": {
      "text/plain": [
       "<matplotlib.collections.LineCollection at 0x7f4a0b9ba2b0>"
      ]
     },
     "execution_count": 21,
     "metadata": {},
     "output_type": "execute_result"
    },
    {
     "data": {
      "image/png": "[encoded data removed]",
      "text/plain": [
       "<Figure size 432x288 with 1 Axes>"
      ]
     },
     "metadata": {
      "needs_background": "light"
     },
     "output_type": "display_data"
    }
   ],
   "source": [
    "plt.scatter(ypred, residuo)\n",
    "plt.xlabel('$\\hat{y}$')\n",
    "plt.ylabel('$y-\\hat{y}$')\n",
    "plt.hlines(0,xmin=min(ypred),xmax=max(ypred),color='gray')"
   ]
  },
  {
   "cell_type": "code",
   "execution_count": 22,
   "metadata": {},
   "outputs": [
    {
     "data": {
      "image/png": "[encoded data removed]",
      "text/plain": [
       "<Figure size 432x288 with 1 Axes>"
      ]
     },
     "metadata": {
      "needs_background": "light"
     },
     "output_type": "display_data"
    }
   ],
   "source": [
    "from scipy import stats\n",
    "\n",
    "# Verificando a suposição de distribuição Normal dos resíduos\n",
    "stats.probplot(residuo, plot=plt)\n",
    "plt.xlabel('quantis teóricos')\n",
    "plt.ylabel('resíduos ordenados')\n",
    "plt.show()"
   ]
  },
  {
   "cell_type": "code",
   "execution_count": 23,
   "metadata": {},
   "outputs": [],
   "source": [
    "#print(ypred)"
   ]
  },
  {
   "cell_type": "code",
   "execution_count": 24,
   "metadata": {},
   "outputs": [],
   "source": [
    "#ypred['2020-11-10':]"
   ]
  },
  {
   "cell_type": "code",
   "execution_count": 25,
   "metadata": {},
   "outputs": [],
   "source": [
    "#print(y)"
   ]
  },
  {
   "cell_type": "code",
   "execution_count": 26,
   "metadata": {},
   "outputs": [],
   "source": [
    "# Verifique os gráficos de autocorrelação e autocorrelação parcial dos resíduos. \n",
    "# Comandos sugeridos: plot_acf e plot_pacf"
   ]
  },
  {
   "cell_type": "code",
   "execution_count": 27,
   "metadata": {},
   "outputs": [
    {
     "data": {
      "image/png": "[encoded data removed]",
      "text/plain": [
       "<Figure size 432x288 with 1 Axes>"
      ]
     },
     "metadata": {
      "needs_background": "light"
     },
     "output_type": "display_data"
    },
    {
     "data": {
      "image/png": "[encoded data removed]",
      "text/plain": [
       "<Figure size 432x288 with 1 Axes>"
      ]
     },
     "metadata": {
      "needs_background": "light"
     },
     "output_type": "display_data"
    }
   ],
   "source": [
    "lags=20\n",
    "plot_acf(dados['residuo'],lags=lags);\n",
    "plot_pacf(dados['residuo'],lags=lags);"
   ]
  },
  {
   "cell_type": "code",
   "execution_count": 28,
   "metadata": {},
   "outputs": [],
   "source": [
    "# Concordo com as regras do grupo"
   ]
  },
  {
   "cell_type": "code",
   "execution_count": 29,
   "metadata": {},
   "outputs": [
    {
     "name": "stdout",
     "output_type": "stream",
     "text": [
      "Performing stepwise search to minimize aic\n",
      " ARIMA(0,0,0)(0,0,0)[0]             : AIC=849.834, Time=0.00 sec\n",
      " ARIMA(1,0,0)(0,0,0)[0]             : AIC=841.943, Time=0.01 sec\n",
      " ARIMA(0,0,1)(0,0,0)[0]             : AIC=843.946, Time=0.01 sec\n",
      " ARIMA(2,0,0)(0,0,0)[0]             : AIC=843.863, Time=0.02 sec\n",
      " ARIMA(1,0,1)(0,0,0)[0]             : AIC=843.915, Time=0.01 sec\n",
      " ARIMA(2,0,1)(0,0,0)[0]             : AIC=845.823, Time=0.06 sec\n",
      " ARIMA(1,0,0)(0,0,0)[0] intercept   : AIC=843.901, Time=0.02 sec\n",
      "\n",
      "Best model:  ARIMA(1,0,0)(0,0,0)[0]          \n",
      "Total fit time: 0.129 seconds\n"
     ]
    }
   ],
   "source": [
    "stepwise_fit = auto_arima(dados['residuo'], start_p=0, start_q=0,\n",
    "                          max_p=6, max_q=6, \n",
    "                          seasonal=False,\n",
    "                          d=None,trace=True,\n",
    "                          error_action='ignore',   \n",
    "                          suppress_warnings=True,  \n",
    "                          stepwise=True)  "
   ]
  },
  {
   "cell_type": "code",
   "execution_count": 30,
   "metadata": {},
   "outputs": [
    {
     "data": {
      "image/png": "[encoded data removed]",
      "text/plain": [
       "<Figure size 576x432 with 4 Axes>"
      ]
     },
     "metadata": {
      "needs_background": "light"
     },
     "output_type": "display_data"
    }
   ],
   "source": [
    "\n",
    "# Decomposição em tendência e sazonalidade\n",
    "import statsmodels.api as sm\n",
    "\n",
    "from statsmodels.tsa.seasonal import seasonal_decompose\n",
    "\n",
    "\n",
    "result = sm.tsa.seasonal_decompose(dados['Último'], model='additive')\n",
    "\n",
    "plt.rcParams['figure.figsize'] = [8,6]\n",
    "result.plot();\n"
   ]
  },
  {
   "cell_type": "code",
   "execution_count": 31,
   "metadata": {},
   "outputs": [
    {
     "data": {
      "text/plain": [
       "49"
      ]
     },
     "execution_count": 31,
     "metadata": {},
     "output_type": "execute_result"
    }
   ],
   "source": [
    "len(dados)"
   ]
  },
  {
   "cell_type": "code",
   "execution_count": 32,
   "metadata": {},
   "outputs": [],
   "source": [
    "# Divida a base em treino e teste, separando 80% da base para treino. \n"
   ]
  },
  {
   "cell_type": "code",
   "execution_count": 33,
   "metadata": {},
   "outputs": [],
   "source": [
    "dados_treino = dados.iloc[:round((len(dados) * 0.8))]\n",
    "dados_teste = dados.iloc[round((len(dados) * 0.8)):] "
   ]
  },
  {
   "cell_type": "code",
   "execution_count": 34,
   "metadata": {},
   "outputs": [
    {
     "data": {
      "text/plain": [
       "10"
      ]
     },
     "execution_count": 34,
     "metadata": {},
     "output_type": "execute_result"
    }
   ],
   "source": [
    "round((len(dados) * 0.2))"
   ]
  },
  {
   "cell_type": "code",
   "execution_count": 35,
   "metadata": {},
   "outputs": [
    {
     "name": "stderr",
     "output_type": "stream",
     "text": [
      "/home/cibele/.local/lib/python3.9/site-packages/statsmodels/tsa/holtwinters/model.py:427: FutureWarning: After 0.13 initialization must be handled at model creation\n",
      "  warnings.warn(\n"
     ]
    },
    {
     "data": {
      "text/html": [
       "<div>\n",
       "<style scoped>\n",
       "    .dataframe tbody tr th:only-of-type {\n",
       "        vertical-align: middle;\n",
       "    }\n",
       "\n",
       "    .dataframe tbody tr th {\n",
       "        vertical-align: top;\n",
       "    }\n",
       "\n",
       "    .dataframe thead th {\n",
       "        text-align: right;\n",
       "    }\n",
       "</style>\n",
       "<table border=\"1\" class=\"dataframe\">\n",
       "  <thead>\n",
       "    <tr style=\"text-align: right;\">\n",
       "      <th></th>\n",
       "      <th>Último</th>\n",
       "      <th>Abertura</th>\n",
       "      <th>Máxima</th>\n",
       "      <th>Mínima</th>\n",
       "      <th>Vol</th>\n",
       "      <th>Variação</th>\n",
       "      <th>X</th>\n",
       "      <th>Y</th>\n",
       "      <th>residuo</th>\n",
       "      <th>Holt-Winters-adit-5</th>\n",
       "    </tr>\n",
       "  </thead>\n",
       "  <tbody>\n",
       "    <tr>\n",
       "      <th>2020-11-10</th>\n",
       "      <td>105066.96</td>\n",
       "      <td>103516.37</td>\n",
       "      <td>105758.29</td>\n",
       "      <td>103452.64</td>\n",
       "      <td>16.67M</td>\n",
       "      <td>1.50%</td>\n",
       "      <td>0.0</td>\n",
       "      <td>105066.96</td>\n",
       "      <td>149.070790</td>\n",
       "      <td>105336.481201</td>\n",
       "    </tr>\n",
       "    <tr>\n",
       "      <th>2020-11-11</th>\n",
       "      <td>104808.83</td>\n",
       "      <td>105066.96</td>\n",
       "      <td>105462.33</td>\n",
       "      <td>104143.47</td>\n",
       "      <td>10.84M</td>\n",
       "      <td>-0.25%</td>\n",
       "      <td>1.0</td>\n",
       "      <td>104808.83</td>\n",
       "      <td>-399.109012</td>\n",
       "      <td>105420.509141</td>\n",
       "    </tr>\n",
       "    <tr>\n",
       "      <th>2020-11-12</th>\n",
       "      <td>102507.01</td>\n",
       "      <td>104810.06</td>\n",
       "      <td>105018.66</td>\n",
       "      <td>102033.75</td>\n",
       "      <td>10.86M</td>\n",
       "      <td>-2.20%</td>\n",
       "      <td>2.0</td>\n",
       "      <td>102507.01</td>\n",
       "      <td>-2990.978814</td>\n",
       "      <td>103480.833664</td>\n",
       "    </tr>\n",
       "    <tr>\n",
       "      <th>2020-11-13</th>\n",
       "      <td>104723.00</td>\n",
       "      <td>102508.77</td>\n",
       "      <td>104725.79</td>\n",
       "      <td>102508.77</td>\n",
       "      <td>9.77M</td>\n",
       "      <td>2.16%</td>\n",
       "      <td>3.0</td>\n",
       "      <td>104723.00</td>\n",
       "      <td>-1065.038615</td>\n",
       "      <td>105910.460964</td>\n",
       "    </tr>\n",
       "    <tr>\n",
       "      <th>2020-11-16</th>\n",
       "      <td>106429.92</td>\n",
       "      <td>104728.51</td>\n",
       "      <td>106518.16</td>\n",
       "      <td>104728.51</td>\n",
       "      <td>11.72M</td>\n",
       "      <td>1.63%</td>\n",
       "      <td>6.0</td>\n",
       "      <td>106429.92</td>\n",
       "      <td>-228.268020</td>\n",
       "      <td>107832.846922</td>\n",
       "    </tr>\n",
       "  </tbody>\n",
       "</table>\n",
       "</div>"
      ],
      "text/plain": [
       "               Último   Abertura     Máxima     Mínima     Vol Variação    X  \\\n",
       "2020-11-10  105066.96  103516.37  105758.29  103452.64  16.67M    1.50%  0.0   \n",
       "2020-11-11  104808.83  105066.96  105462.33  104143.47  10.84M   -0.25%  1.0   \n",
       "2020-11-12  102507.01  104810.06  105018.66  102033.75  10.86M   -2.20%  2.0   \n",
       "2020-11-13  104723.00  102508.77  104725.79  102508.77   9.77M    2.16%  3.0   \n",
       "2020-11-16  106429.92  104728.51  106518.16  104728.51  11.72M    1.63%  6.0   \n",
       "\n",
       "                    Y      residuo  Holt-Winters-adit-5  \n",
       "2020-11-10  105066.96   149.070790        105336.481201  \n",
       "2020-11-11  104808.83  -399.109012        105420.509141  \n",
       "2020-11-12  102507.01 -2990.978814        103480.833664  \n",
       "2020-11-13  104723.00 -1065.038615        105910.460964  \n",
       "2020-11-16  106429.92  -228.268020        107832.846922  "
      ]
     },
     "execution_count": 35,
     "metadata": {},
     "output_type": "execute_result"
    }
   ],
   "source": [
    "# Ajuste do modelo pelo Método de Holt-Winters com sazonalidade aditiva\n",
    "\n",
    "from statsmodels.tsa.api import ExponentialSmoothing\n",
    "\n",
    "modelo =  ExponentialSmoothing(dados_treino['Último'],trend='add',seasonal='add',seasonal_periods=5);\n",
    "\n",
    "ajustado_HW = modelo.fit();\n",
    "\n",
    "dados['Holt-Winters-adit-5'] = ajustado_HW.fittedvalues;\n",
    "\n",
    "dados.head()"
   ]
  },
  {
   "cell_type": "code",
   "execution_count": 36,
   "metadata": {},
   "outputs": [
    {
     "name": "stderr",
     "output_type": "stream",
     "text": [
      "/home/cibele/.local/lib/python3.9/site-packages/statsmodels/tsa/base/tsa_model.py:132: FutureWarning: The 'freq' argument in Timestamp is deprecated and will be removed in a future version.\n",
      "  date_key = Timestamp(key, freq=base_index.freq)\n"
     ]
    }
   ],
   "source": [
    "predito_HW = ajustado_HW.forecast(10).rename('Previsão Holt-Winters')\n"
   ]
  },
  {
   "cell_type": "code",
   "execution_count": 37,
   "metadata": {},
   "outputs": [
    {
     "data": {
      "image/png": "[encoded data removed]",
      "text/plain": [
       "<Figure size 576x432 with 1 Axes>"
      ]
     },
     "metadata": {
      "needs_background": "light"
     },
     "output_type": "display_data"
    }
   ],
   "source": [
    "dados_treino['Último'].plot(legend=True,label='Treino')\n",
    "dados_teste['Último'].plot(legend=True,label='Teste',figsize=(8,6))\n",
    "predito_HW.plot(legend=True,label='Previsão');"
   ]
  },
  {
   "cell_type": "markdown",
   "metadata": {},
   "source": [
    "\n",
    "<img src=\"Sub3.png\" width=900 />"
   ]
  },
  {
   "cell_type": "code",
   "execution_count": 38,
   "metadata": {},
   "outputs": [],
   "source": [
    "from sklearn.metrics import mean_squared_error,mean_absolute_error"
   ]
  },
  {
   "cell_type": "code",
   "execution_count": 39,
   "metadata": {},
   "outputs": [
    {
     "data": {
      "text/plain": [
       "1611.542321672228"
      ]
     },
     "execution_count": 39,
     "metadata": {},
     "output_type": "execute_result"
    }
   ],
   "source": [
    "mean_absolute_error(dados_teste['Último'],predito_HW)"
   ]
  },
  {
   "cell_type": "code",
   "execution_count": 40,
   "metadata": {},
   "outputs": [
    {
     "data": {
      "text/plain": [
       "1886.3408094203503"
      ]
     },
     "execution_count": 40,
     "metadata": {},
     "output_type": "execute_result"
    }
   ],
   "source": [
    "rmse(dados_teste['Último'],predito_HW)"
   ]
  },
  {
   "cell_type": "code",
   "execution_count": null,
   "metadata": {},
   "outputs": [],
   "source": []
  }
 ],
 "metadata": {
  "kernelspec": {
   "display_name": "Python 3 (ipykernel)",
   "language": "python",
   "name": "python3"
  },
  "language_info": {
   "codemirror_mode": {
    "name": "ipython",
    "version": 3
   },
   "file_extension": ".py",
   "mimetype": "text/x-python",
   "name": "python",
   "nbconvert_exporter": "python",
   "pygments_lexer": "ipython3",
   "version": "3.9.5"
  }
 },
 "nbformat": 4,
 "nbformat_minor": 2
}
