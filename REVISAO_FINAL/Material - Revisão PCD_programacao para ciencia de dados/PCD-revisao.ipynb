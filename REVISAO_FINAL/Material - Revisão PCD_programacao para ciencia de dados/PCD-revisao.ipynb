{
 "cells": [
  {
   "cell_type": "markdown",
   "id": "2df1e8b6",
   "metadata": {},
   "source": [
    "# <font color=blue> MBA em Ciência de Dados</font>\n",
    "# <font color=blue>Programação para Ciência de Dados</font>\n",
    "\n",
    "## <font color=blue>Revisão para Avaliação Final</font>\n",
    "**Material Produzido por Luis Gustavo Nonato**<br>\n",
    "**Cemeai - ICMC/USP São Carlos**\n",
    "---"
   ]
  },
  {
   "cell_type": "markdown",
   "id": "8a9abed6",
   "metadata": {},
   "source": [
    "Nesta aula de revisão iremos utilizar a base de dados `INEP_ATU_BRASIL_REGIOES_UFS_2020.csv`, que contém informações sobre o desempenho escolar de alunos nos estados da federação (e no Brasil como um todo) no ano de 2020."
   ]
  },
  {
   "cell_type": "code",
   "execution_count": null,
   "id": "a981769a",
   "metadata": {},
   "outputs": [],
   "source": [
    "import pandas as pd\n",
    "import numpy as np\n",
    "\n",
    "df = pd.read_csv('INEP_ATU_BRASIL_REGIOES_UFS_2020.csv')\n",
    "print(df.shape)\n",
    "df.head(20)"
   ]
  },
  {
   "cell_type": "markdown",
   "id": "3212146e",
   "metadata": {},
   "source": [
    "Vamos verificar quais são os valores contidos na coluna `Unidade Geografica`."
   ]
  },
  {
   "cell_type": "code",
   "execution_count": null,
   "id": "ead020c0",
   "metadata": {},
   "outputs": [],
   "source": [
    "df['Unidade Geografica'].unique()"
   ]
  },
  {
   "cell_type": "markdown",
   "id": "c86ae606",
   "metadata": {},
   "source": [
    "Quais são todas as informações disponíveis para cada um dos estados? Vamos pegar o estado de São Paulo como exemplo."
   ]
  },
  {
   "cell_type": "code",
   "execution_count": null,
   "id": "1e640d93",
   "metadata": {},
   "outputs": [],
   "source": [
    "df.loc[df['Unidade Geografica']=='São Paulo']"
   ]
  },
  {
   "cell_type": "markdown",
   "id": "4c9d91c4",
   "metadata": {},
   "source": [
    "Verificando se existem dados faltantes nas coluna do DataFrame."
   ]
  },
  {
   "cell_type": "code",
   "execution_count": null,
   "id": "7d24fab1",
   "metadata": {},
   "outputs": [],
   "source": [
    "df.isna().sum()"
   ]
  },
  {
   "cell_type": "markdown",
   "id": "55fddc1b",
   "metadata": {},
   "source": [
    "Calculando a porcentagem de dados faltantes por coluna e a porcentagem total de dados faltantes."
   ]
  },
  {
   "cell_type": "code",
   "execution_count": null,
   "id": "ba8698eb",
   "metadata": {},
   "outputs": [],
   "source": [
    "print(df.isna().sum()/df.shape[0]*100) # porcentagem de dados faltantes por coluna\n",
    "print('Porcentagem total de dados faltantes',df.isna().sum().sum()/df.size*100)"
   ]
  },
  {
   "cell_type": "markdown",
   "id": "645576c0",
   "metadata": {},
   "source": [
    "Poderiamos remover as linhas contendo dados faltantes utilizando o comando <font color='blue'> dropna </font>, porém isto eliminaria muitos registros. Ao invés disso,\n",
    "vamos preencher os dados faltantes das colunas `Ed. Inf. Total`, `En. Fund. Total` e `En. Medio Total` com o valor 0, pois estas serão as colunas que utilizaremos em nossas análises."
   ]
  },
  {
   "cell_type": "code",
   "execution_count": null,
   "id": "7391b625",
   "metadata": {},
   "outputs": [],
   "source": [
    "df[['Ed. Inf. Total', 'En. Fund. Total','En. Medio Total']] = df[['Ed. Inf. Total', 'En. Fund. Total','En. Medio Total']].fillna(0)\n",
    "df[['Ed. Inf. Total', 'En. Fund. Total','En. Medio Total']].isna().sum()"
   ]
  },
  {
   "cell_type": "markdown",
   "id": "29f65fbc",
   "metadata": {},
   "source": [
    "A coluna `Localizacao` fornece informações de onde a unidade escolar está localizada. Vejamos quais são os tipos de localização possíveis."
   ]
  },
  {
   "cell_type": "code",
   "execution_count": null,
   "id": "41c9b190",
   "metadata": {},
   "outputs": [],
   "source": [
    "df['Localizacao'].unique()"
   ]
  },
  {
   "cell_type": "markdown",
   "id": "5a0ca7f8",
   "metadata": {},
   "source": [
    "Vamos verificar qual é o desempenho escolar no ensino médio (coluna `En. Medio Total`), em área urbana, para cada estado e o distrito federal."
   ]
  },
  {
   "cell_type": "code",
   "execution_count": null,
   "id": "6b653623",
   "metadata": {},
   "outputs": [],
   "source": [
    "estados = ['Rondônia', 'Acre', 'Amazonas', 'Roraima', 'Pará', 'Amapá',\n",
    "       'Tocantins', 'Maranhão', 'Piauí', 'Ceará', 'Rio Grande do Norte',\n",
    "       'Paraíba', 'Pernambuco', 'Alagoas', 'Sergipe', 'Bahia',\n",
    "       'Minas Gerais', 'Espírito Santo', 'Rio de Janeiro', 'São Paulo',\n",
    "       'Paraná', 'Santa Catarina', 'Rio Grande do Sul',\n",
    "       'Mato Grosso do Sul', 'Mato Grosso', 'Goiás', 'Distrito Federal']\n",
    "\n",
    "df_urbana = df.loc[df['Localizacao']=='Urbana']\n",
    "df_urbana_Total = df_urbana.loc[df_urbana['Dep. Adm.']=='Total']\n",
    "df_estados = df_urbana_Total.loc[df_urbana_Total['Unidade Geografica'].isin(estados)]\n",
    "df_estados[['Unidade Geografica','En. Medio Total']]"
   ]
  },
  {
   "cell_type": "markdown",
   "id": "e6bc0367",
   "metadata": {},
   "source": [
    "Qual o estado com o melhor desempenho total no ensino médio?"
   ]
  },
  {
   "cell_type": "code",
   "execution_count": null,
   "id": "95af1ebf",
   "metadata": {},
   "outputs": [],
   "source": [
    "df_estados[['Unidade Geografica','En. Medio Total']].loc[df_estados['En. Medio Total'].idxmax()]"
   ]
  },
  {
   "cell_type": "markdown",
   "id": "588f6784",
   "metadata": {},
   "source": [
    "E o estado com o pior desempenho?"
   ]
  },
  {
   "cell_type": "code",
   "execution_count": null,
   "id": "9c08ec16",
   "metadata": {},
   "outputs": [],
   "source": [
    "df_estados[['Unidade Geografica','En. Medio Total']].loc[df_estados['En. Medio Total'].idxmin()]"
   ]
  },
  {
   "cell_type": "markdown",
   "id": "3a70e012",
   "metadata": {},
   "source": [
    "Vamos verificar agora qual estado apresenta o melhor desempenho no ensino médio considerando apenas as escolas estaduais."
   ]
  },
  {
   "cell_type": "code",
   "execution_count": null,
   "id": "6cbf19b6",
   "metadata": {},
   "outputs": [],
   "source": [
    "df_desemp_esc_estaduais = df.loc[df['Unidade Geografica'].isin(estados)]\n",
    "df_desemp_esc_estaduais = df_desemp_esc_estaduais.loc[df_desemp_esc_estaduais['Localizacao']=='Total']\n",
    "df_desemp_esc_estaduais = df_desemp_esc_estaduais.loc[df_desemp_esc_estaduais['Dep. Adm.']=='Estadual']\n",
    "df_desemp_esc_estaduais.head()"
   ]
  },
  {
   "cell_type": "code",
   "execution_count": null,
   "id": "7eb477fe",
   "metadata": {},
   "outputs": [],
   "source": [
    "df_desemp_esc_estaduais[['Unidade Geografica','En. Medio Total']].loc[df_desemp_esc_estaduais['En. Medio Total'].idxmax()]"
   ]
  },
  {
   "cell_type": "markdown",
   "id": "98041734",
   "metadata": {},
   "source": [
    "Vamos comparar qual o desempenho médio, no ensino médio, das escolas públicas de dois grupos de estados: \"São Paulo, Paraná e Santa Catarina\" e \"Rio de Janeiro, Minas Gerais e Espírito Santo\"."
   ]
  },
  {
   "cell_type": "code",
   "execution_count": null,
   "id": "ffeb89d5",
   "metadata": {},
   "outputs": [],
   "source": [
    "grupo_1 = ['São Paulo', 'Paraná', 'Santa Catarina']\n",
    "grupo_2 = ['Rio de Janeiro', 'Minas Gerais', 'Espírito Santo']\n",
    "\n",
    "df_grupo_1 = df.loc[df['Unidade Geografica'].isin(grupo_1)]\n",
    "df_grupo_1 = df_grupo_1.loc[df_grupo_1['Localizacao']=='Total']\n",
    "df_grupo_1 = df_grupo_1.loc[df_grupo_1['Dep. Adm.']=='Estadual']\n",
    "print(df_grupo_1[['Unidade Geografica','En. Medio Total']].head())\n",
    "\n",
    "df_grupo_2 = df.loc[df['Unidade Geografica'].isin(grupo_2)]\n",
    "df_grupo_2 = df_grupo_2.loc[df_grupo_2['Localizacao']=='Total']\n",
    "df_grupo_2 = df_grupo_2.loc[df_grupo_2['Dep. Adm.']=='Estadual']\n",
    "print(df_grupo_2[['Unidade Geografica','En. Medio Total']].head())"
   ]
  },
  {
   "cell_type": "code",
   "execution_count": null,
   "id": "b9b60b35",
   "metadata": {},
   "outputs": [],
   "source": [
    "print('Desempenho médio grupo 1',df_grupo_1['En. Medio Total'].mean())\n",
    "print('Desempenho médio grupo 2',df_grupo_2['En. Medio Total'].mean())"
   ]
  },
  {
   "cell_type": "markdown",
   "id": "375047ce",
   "metadata": {},
   "source": [
    "Vamos criar um dicionário onde a chave é o estado e o valor é uma lista com o desempenho total na educação infantil, ensino fundamental e médio."
   ]
  },
  {
   "cell_type": "code",
   "execution_count": null,
   "id": "3aae3c04",
   "metadata": {},
   "outputs": [],
   "source": [
    "gb = df.loc[df['Unidade Geografica'].isin(estados)].groupby('Unidade Geografica')\n",
    "\n",
    "for e, g in gb:\n",
    "    print('Estado',e)\n",
    "    print(g[['Ed. Inf. Total','En. Fund. Total','En. Medio Total']])"
   ]
  },
  {
   "cell_type": "code",
   "execution_count": null,
   "id": "1fa9b917",
   "metadata": {},
   "outputs": [],
   "source": [
    "d = {}\n",
    "for e, g in gb:\n",
    "    total_total = g.query('Localizacao == \"Total\" & `Dep. Adm.`==\"Total\"')\n",
    "    v = total_total[['Ed. Inf. Total','En. Fund. Total','En. Medio Total']].values[0]\n",
    "    d[e] = [v[i] for i in range(len(v))]\n",
    "    \n",
    "for c,v in d.items():\n",
    "    print(c,v)"
   ]
  }
 ],
 "metadata": {
  "kernelspec": {
   "display_name": "Python 3",
   "language": "python",
   "name": "python3"
  },
  "language_info": {
   "codemirror_mode": {
    "name": "ipython",
    "version": 3
   },
   "file_extension": ".py",
   "mimetype": "text/x-python",
   "name": "python",
   "nbconvert_exporter": "python",
   "pygments_lexer": "ipython3",
   "version": "3.8.8"
  }
 },
 "nbformat": 4,
 "nbformat_minor": 5
}
