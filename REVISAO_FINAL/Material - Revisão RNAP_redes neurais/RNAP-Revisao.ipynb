{
 "cells": [
  {
   "cell_type": "markdown",
   "metadata": {
    "colab_type": "text",
    "id": "zI6LDVYrkk3t"
   },
   "source": [
    "### Redes Neurais e Arquiteturas Profundas\n",
    "#### **MBA em Ciências de Dados**\n",
    "\n",
    "\n",
    "### *Revisão*\n",
    "\n",
    "Moacir A. Ponti - ICMC/USP\n",
    "\n",
    "---"
   ]
  },
  {
   "cell_type": "code",
   "execution_count": 3,
   "metadata": {
    "colab": {},
    "colab_type": "code",
    "id": "55mHEidxkOa8"
   },
   "outputs": [
    {
     "name": "stdout",
     "output_type": "stream",
     "text": [
      "(10299, 562)\n"
     ]
    },
    {
     "data": {
      "text/html": [
       "<div>\n",
       "<style scoped>\n",
       "    .dataframe tbody tr th:only-of-type {\n",
       "        vertical-align: middle;\n",
       "    }\n",
       "\n",
       "    .dataframe tbody tr th {\n",
       "        vertical-align: top;\n",
       "    }\n",
       "\n",
       "    .dataframe thead th {\n",
       "        text-align: right;\n",
       "    }\n",
       "</style>\n",
       "<table border=\"1\" class=\"dataframe\">\n",
       "  <thead>\n",
       "    <tr style=\"text-align: right;\">\n",
       "      <th></th>\n",
       "      <th>feature_1</th>\n",
       "      <th>feature_2</th>\n",
       "      <th>feature_3</th>\n",
       "      <th>feature_4</th>\n",
       "      <th>feature_5</th>\n",
       "      <th>feature_6</th>\n",
       "      <th>feature_7</th>\n",
       "      <th>feature_8</th>\n",
       "      <th>feature_9</th>\n",
       "      <th>feature_10</th>\n",
       "      <th>...</th>\n",
       "      <th>feature_553</th>\n",
       "      <th>feature_554</th>\n",
       "      <th>feature_555</th>\n",
       "      <th>feature_556</th>\n",
       "      <th>feature_557</th>\n",
       "      <th>feature_558</th>\n",
       "      <th>feature_559</th>\n",
       "      <th>feature_560</th>\n",
       "      <th>feature_561</th>\n",
       "      <th>activity</th>\n",
       "    </tr>\n",
       "  </thead>\n",
       "  <tbody>\n",
       "    <tr>\n",
       "      <th>0</th>\n",
       "      <td>0.289</td>\n",
       "      <td>-0.0203</td>\n",
       "      <td>-0.133</td>\n",
       "      <td>-0.995</td>\n",
       "      <td>-0.983</td>\n",
       "      <td>-0.914</td>\n",
       "      <td>-0.995</td>\n",
       "      <td>-0.983</td>\n",
       "      <td>-0.924</td>\n",
       "      <td>-0.935</td>\n",
       "      <td>...</td>\n",
       "      <td>-0.2990</td>\n",
       "      <td>-0.710</td>\n",
       "      <td>-0.1130</td>\n",
       "      <td>0.03040</td>\n",
       "      <td>-0.4650</td>\n",
       "      <td>-0.0184</td>\n",
       "      <td>-0.841</td>\n",
       "      <td>0.180</td>\n",
       "      <td>-0.0586</td>\n",
       "      <td>5</td>\n",
       "    </tr>\n",
       "    <tr>\n",
       "      <th>1</th>\n",
       "      <td>0.278</td>\n",
       "      <td>-0.0164</td>\n",
       "      <td>-0.124</td>\n",
       "      <td>-0.998</td>\n",
       "      <td>-0.975</td>\n",
       "      <td>-0.960</td>\n",
       "      <td>-0.999</td>\n",
       "      <td>-0.975</td>\n",
       "      <td>-0.958</td>\n",
       "      <td>-0.943</td>\n",
       "      <td>...</td>\n",
       "      <td>-0.5950</td>\n",
       "      <td>-0.861</td>\n",
       "      <td>0.0535</td>\n",
       "      <td>-0.00743</td>\n",
       "      <td>-0.7330</td>\n",
       "      <td>0.7040</td>\n",
       "      <td>-0.845</td>\n",
       "      <td>0.180</td>\n",
       "      <td>-0.0543</td>\n",
       "      <td>5</td>\n",
       "    </tr>\n",
       "    <tr>\n",
       "      <th>2</th>\n",
       "      <td>0.280</td>\n",
       "      <td>-0.0195</td>\n",
       "      <td>-0.113</td>\n",
       "      <td>-0.995</td>\n",
       "      <td>-0.967</td>\n",
       "      <td>-0.979</td>\n",
       "      <td>-0.997</td>\n",
       "      <td>-0.964</td>\n",
       "      <td>-0.977</td>\n",
       "      <td>-0.939</td>\n",
       "      <td>...</td>\n",
       "      <td>-0.3910</td>\n",
       "      <td>-0.760</td>\n",
       "      <td>-0.1190</td>\n",
       "      <td>0.17800</td>\n",
       "      <td>0.1010</td>\n",
       "      <td>0.8090</td>\n",
       "      <td>-0.849</td>\n",
       "      <td>0.181</td>\n",
       "      <td>-0.0491</td>\n",
       "      <td>5</td>\n",
       "    </tr>\n",
       "    <tr>\n",
       "      <th>3</th>\n",
       "      <td>0.279</td>\n",
       "      <td>-0.0262</td>\n",
       "      <td>-0.123</td>\n",
       "      <td>-0.996</td>\n",
       "      <td>-0.983</td>\n",
       "      <td>-0.991</td>\n",
       "      <td>-0.997</td>\n",
       "      <td>-0.983</td>\n",
       "      <td>-0.989</td>\n",
       "      <td>-0.939</td>\n",
       "      <td>...</td>\n",
       "      <td>-0.1170</td>\n",
       "      <td>-0.483</td>\n",
       "      <td>-0.0368</td>\n",
       "      <td>-0.01290</td>\n",
       "      <td>0.6400</td>\n",
       "      <td>-0.4850</td>\n",
       "      <td>-0.849</td>\n",
       "      <td>0.182</td>\n",
       "      <td>-0.0477</td>\n",
       "      <td>5</td>\n",
       "    </tr>\n",
       "    <tr>\n",
       "      <th>4</th>\n",
       "      <td>0.277</td>\n",
       "      <td>-0.0166</td>\n",
       "      <td>-0.115</td>\n",
       "      <td>-0.998</td>\n",
       "      <td>-0.981</td>\n",
       "      <td>-0.990</td>\n",
       "      <td>-0.998</td>\n",
       "      <td>-0.980</td>\n",
       "      <td>-0.990</td>\n",
       "      <td>-0.942</td>\n",
       "      <td>...</td>\n",
       "      <td>-0.3510</td>\n",
       "      <td>-0.699</td>\n",
       "      <td>0.1230</td>\n",
       "      <td>0.12300</td>\n",
       "      <td>0.6940</td>\n",
       "      <td>-0.6160</td>\n",
       "      <td>-0.848</td>\n",
       "      <td>0.185</td>\n",
       "      <td>-0.0439</td>\n",
       "      <td>5</td>\n",
       "    </tr>\n",
       "    <tr>\n",
       "      <th>5</th>\n",
       "      <td>0.277</td>\n",
       "      <td>-0.0101</td>\n",
       "      <td>-0.105</td>\n",
       "      <td>-0.997</td>\n",
       "      <td>-0.990</td>\n",
       "      <td>-0.995</td>\n",
       "      <td>-0.998</td>\n",
       "      <td>-0.990</td>\n",
       "      <td>-0.996</td>\n",
       "      <td>-0.942</td>\n",
       "      <td>...</td>\n",
       "      <td>-0.5450</td>\n",
       "      <td>-0.845</td>\n",
       "      <td>0.0826</td>\n",
       "      <td>-0.14300</td>\n",
       "      <td>0.2750</td>\n",
       "      <td>-0.3680</td>\n",
       "      <td>-0.850</td>\n",
       "      <td>0.185</td>\n",
       "      <td>-0.0421</td>\n",
       "      <td>5</td>\n",
       "    </tr>\n",
       "    <tr>\n",
       "      <th>6</th>\n",
       "      <td>0.279</td>\n",
       "      <td>-0.0196</td>\n",
       "      <td>-0.110</td>\n",
       "      <td>-0.997</td>\n",
       "      <td>-0.967</td>\n",
       "      <td>-0.983</td>\n",
       "      <td>-0.997</td>\n",
       "      <td>-0.966</td>\n",
       "      <td>-0.983</td>\n",
       "      <td>-0.941</td>\n",
       "      <td>...</td>\n",
       "      <td>-0.2170</td>\n",
       "      <td>-0.564</td>\n",
       "      <td>-0.2130</td>\n",
       "      <td>-0.23100</td>\n",
       "      <td>0.0146</td>\n",
       "      <td>-0.1900</td>\n",
       "      <td>-0.852</td>\n",
       "      <td>0.182</td>\n",
       "      <td>-0.0430</td>\n",
       "      <td>5</td>\n",
       "    </tr>\n",
       "    <tr>\n",
       "      <th>7</th>\n",
       "      <td>0.277</td>\n",
       "      <td>-0.0305</td>\n",
       "      <td>-0.125</td>\n",
       "      <td>-0.997</td>\n",
       "      <td>-0.967</td>\n",
       "      <td>-0.982</td>\n",
       "      <td>-0.996</td>\n",
       "      <td>-0.966</td>\n",
       "      <td>-0.983</td>\n",
       "      <td>-0.941</td>\n",
       "      <td>...</td>\n",
       "      <td>-0.0823</td>\n",
       "      <td>-0.422</td>\n",
       "      <td>-0.0209</td>\n",
       "      <td>0.59400</td>\n",
       "      <td>-0.5620</td>\n",
       "      <td>0.4670</td>\n",
       "      <td>-0.851</td>\n",
       "      <td>0.184</td>\n",
       "      <td>-0.0420</td>\n",
       "      <td>5</td>\n",
       "    </tr>\n",
       "  </tbody>\n",
       "</table>\n",
       "<p>8 rows × 562 columns</p>\n",
       "</div>"
      ],
      "text/plain": [
       "   feature_1  feature_2  feature_3  feature_4  feature_5  feature_6  \\\n",
       "0      0.289    -0.0203     -0.133     -0.995     -0.983     -0.914   \n",
       "1      0.278    -0.0164     -0.124     -0.998     -0.975     -0.960   \n",
       "2      0.280    -0.0195     -0.113     -0.995     -0.967     -0.979   \n",
       "3      0.279    -0.0262     -0.123     -0.996     -0.983     -0.991   \n",
       "4      0.277    -0.0166     -0.115     -0.998     -0.981     -0.990   \n",
       "5      0.277    -0.0101     -0.105     -0.997     -0.990     -0.995   \n",
       "6      0.279    -0.0196     -0.110     -0.997     -0.967     -0.983   \n",
       "7      0.277    -0.0305     -0.125     -0.997     -0.967     -0.982   \n",
       "\n",
       "   feature_7  feature_8  feature_9  feature_10  ...  feature_553  feature_554  \\\n",
       "0     -0.995     -0.983     -0.924      -0.935  ...      -0.2990       -0.710   \n",
       "1     -0.999     -0.975     -0.958      -0.943  ...      -0.5950       -0.861   \n",
       "2     -0.997     -0.964     -0.977      -0.939  ...      -0.3910       -0.760   \n",
       "3     -0.997     -0.983     -0.989      -0.939  ...      -0.1170       -0.483   \n",
       "4     -0.998     -0.980     -0.990      -0.942  ...      -0.3510       -0.699   \n",
       "5     -0.998     -0.990     -0.996      -0.942  ...      -0.5450       -0.845   \n",
       "6     -0.997     -0.966     -0.983      -0.941  ...      -0.2170       -0.564   \n",
       "7     -0.996     -0.966     -0.983      -0.941  ...      -0.0823       -0.422   \n",
       "\n",
       "   feature_555  feature_556  feature_557  feature_558  feature_559  \\\n",
       "0      -0.1130      0.03040      -0.4650      -0.0184       -0.841   \n",
       "1       0.0535     -0.00743      -0.7330       0.7040       -0.845   \n",
       "2      -0.1190      0.17800       0.1010       0.8090       -0.849   \n",
       "3      -0.0368     -0.01290       0.6400      -0.4850       -0.849   \n",
       "4       0.1230      0.12300       0.6940      -0.6160       -0.848   \n",
       "5       0.0826     -0.14300       0.2750      -0.3680       -0.850   \n",
       "6      -0.2130     -0.23100       0.0146      -0.1900       -0.852   \n",
       "7      -0.0209      0.59400      -0.5620       0.4670       -0.851   \n",
       "\n",
       "   feature_560  feature_561  activity  \n",
       "0        0.180      -0.0586         5  \n",
       "1        0.180      -0.0543         5  \n",
       "2        0.181      -0.0491         5  \n",
       "3        0.182      -0.0477         5  \n",
       "4        0.185      -0.0439         5  \n",
       "5        0.185      -0.0421         5  \n",
       "6        0.182      -0.0430         5  \n",
       "7        0.184      -0.0420         5  \n",
       "\n",
       "[8 rows x 562 columns]"
      ]
     },
     "execution_count": 3,
     "metadata": {},
     "output_type": "execute_result"
    }
   ],
   "source": [
    "import numpy as np\n",
    "import pandas as pd\n",
    "import matplotlib.pyplot as plt\n",
    "from tensorflow import keras\n",
    "import tensorflow as tf\n",
    "from sklearn.model_selection import train_test_split\n",
    "\n",
    "df = pd.read_csv(\"smartphone_activity_dataset.csv\")\n",
    "print(df.shape)\n",
    "df.head(8)"
   ]
  },
  {
   "cell_type": "markdown",
   "metadata": {
    "colab_type": "text",
    "id": "jOnOa3KhoyPM"
   },
   "source": [
    "## Problema: dados de sensores e atividades como alvo"
   ]
  },
  {
   "cell_type": "code",
   "execution_count": 4,
   "metadata": {
    "colab": {
     "base_uri": "https://localhost:8080/",
     "height": 283
    },
    "colab_type": "code",
    "id": "cOdIcO_Bmc0o",
    "outputId": "8fed4d96-cc39-48e5-e02c-657525a3deb7"
   },
   "outputs": [
    {
     "data": {
      "text/plain": [
       "<AxesSubplot:>"
      ]
     },
     "execution_count": 4,
     "metadata": {},
     "output_type": "execute_result"
    },
    {
     "data": {
      "image/png": "[encoded data removed]",
      "text/plain": [
       "<Figure size 432x288 with 1 Axes>"
      ]
     },
     "metadata": {
      "needs_background": "light"
     },
     "output_type": "display_data"
    }
   ],
   "source": [
    "df['activity'].value_counts().plot(kind = 'bar')"
   ]
  },
  {
   "cell_type": "code",
   "execution_count": 5,
   "metadata": {
    "colab": {
     "base_uri": "https://localhost:8080/",
     "height": 127
    },
    "colab_type": "code",
    "id": "2o4JiN19mqdY",
    "outputId": "34f51167-aa43-49d6-8dd4-75a943816713"
   },
   "outputs": [
    {
     "data": {
      "text/plain": [
       "6    1944\n",
       "5    1906\n",
       "4    1777\n",
       "1    1722\n",
       "2    1544\n",
       "3    1406\n",
       "Name: activity, dtype: int64"
      ]
     },
     "execution_count": 5,
     "metadata": {},
     "output_type": "execute_result"
    }
   ],
   "source": [
    "df['activity'].value_counts()"
   ]
  },
  {
   "cell_type": "markdown",
   "metadata": {
    "colab_type": "text",
    "id": "W7VOgujapRcS"
   },
   "source": [
    "### 1) Preparando dados e montando conjuntos de treinamento e teste\n",
    "\n"
   ]
  },
  {
   "cell_type": "markdown",
   "metadata": {
    "colab_type": "text",
    "id": "tqfg5g1Ro2sY"
   },
   "source": [
    "**converter o dataframe para numpy array e depois separar as features (entrada) dos alvos (saída)**"
   ]
  },
  {
   "cell_type": "code",
   "execution_count": 6,
   "metadata": {
    "colab": {},
    "colab_type": "code",
    "id": "Ls0LDOsXm7Yq"
   },
   "outputs": [],
   "source": [
    "nparray = df.to_numpy()"
   ]
  },
  {
   "cell_type": "code",
   "execution_count": 7,
   "metadata": {},
   "outputs": [
    {
     "data": {
      "text/plain": [
       "array([[ 0.289 , -0.0203, -0.133 , ...,  0.18  , -0.0586,  5.    ],\n",
       "       [ 0.278 , -0.0164, -0.124 , ...,  0.18  , -0.0543,  5.    ],\n",
       "       [ 0.28  , -0.0195, -0.113 , ...,  0.181 , -0.0491,  5.    ],\n",
       "       ...,\n",
       "       [ 0.35  ,  0.0301, -0.116 , ...,  0.274 ,  0.181 ,  2.    ],\n",
       "       [ 0.238 ,  0.0185, -0.0965, ...,  0.265 ,  0.188 ,  2.    ],\n",
       "       [ 0.154 , -0.0184, -0.137 , ...,  0.264 ,  0.188 ,  2.    ]])"
      ]
     },
     "execution_count": 7,
     "metadata": {},
     "output_type": "execute_result"
    }
   ],
   "source": [
    "nparray"
   ]
  },
  {
   "cell_type": "code",
   "execution_count": 8,
   "metadata": {
    "colab": {
     "base_uri": "https://localhost:8080/",
     "height": 54
    },
    "colab_type": "code",
    "id": "S2u5HD7eoYUl",
    "outputId": "165e1666-9f24-4a2d-c115-f8ee87cb1985"
   },
   "outputs": [
    {
     "name": "stdout",
     "output_type": "stream",
     "text": [
      "Features =  (10299, 561)\n",
      "Targets =  (10299,)\n"
     ]
    }
   ],
   "source": [
    "features = (nparray[:,:-1]).astype(float)\n",
    "targets = (nparray[:,-1]).astype(int)\n",
    "print(\"Features = \", features.shape)\n",
    "print(\"Targets = \", targets.shape)"
   ]
  },
  {
   "cell_type": "code",
   "execution_count": 9,
   "metadata": {},
   "outputs": [
    {
     "data": {
      "text/plain": [
       "array([1, 2, 3, 4, 5, 6])"
      ]
     },
     "execution_count": 9,
     "metadata": {},
     "output_type": "execute_result"
    }
   ],
   "source": [
    "# verificando as classes do problema\n",
    "np.unique(targets)"
   ]
  },
  {
   "cell_type": "code",
   "execution_count": 10,
   "metadata": {},
   "outputs": [
    {
     "name": "stdout",
     "output_type": "stream",
     "text": [
      "6\n"
     ]
    }
   ],
   "source": [
    "print(np.unique(targets).shape[0])"
   ]
  },
  {
   "cell_type": "markdown",
   "metadata": {},
   "source": [
    "**Split aleatório de 80% para treinamento**"
   ]
  },
  {
   "cell_type": "code",
   "execution_count": 11,
   "metadata": {
    "colab": {
     "base_uri": "https://localhost:8080/",
     "height": 54
    },
    "colab_type": "code",
    "id": "MvusEAx0oZbw",
    "outputId": "fc00558c-9735-4dab-925c-31cc9b5d43bd"
   },
   "outputs": [
    {
     "name": "stdout",
     "output_type": "stream",
     "text": [
      "Exemplos de treinamento: 8239\n",
      "Exemplos de teste: 2060\n"
     ]
    }
   ],
   "source": [
    "X_train, X_test, y_train, y_test = train_test_split(features, targets, test_size=0.2, random_state=0)\n",
    "print(\"Exemplos de treinamento:\", len(X_train))\n",
    "print(\"Exemplos de teste:\", len(X_test))"
   ]
  },
  {
   "cell_type": "markdown",
   "metadata": {
    "colab_type": "text",
    "id": "nj7baTNmq2Ic"
   },
   "source": [
    "## 2) Projetando/montando a rede neural"
   ]
  },
  {
   "cell_type": "code",
   "execution_count": 31,
   "metadata": {
    "colab": {
     "base_uri": "https://localhost:8080/",
     "height": 237
    },
    "colab_type": "code",
    "id": "NuMsZENop9-t",
    "outputId": "d9e9eff7-3bd1-4746-ad27-841ea3083a11"
   },
   "outputs": [],
   "source": [
    "def deep_net1(input_dim, output_dim=1, output_activation='relu', neurons=256, dropout_rate=0.0):\n",
    "    # entrada\n",
    "    input_data = keras.layers.Input(shape=(input_dim,))    \n",
    "    \n",
    "    # camadas intermediarias/ocultas\n",
    "    x = keras.layers.Dense(neurons, activation='linear')(input_data)\n",
    "    x = keras.layers.Dense(neurons, activation='relu')(x)\n",
    "    x = keras.layers.Dense(neurons, activation='relu')(x)\n",
    "    x = keras.layers.Dropout(dropout_rate)(x)\n",
    "    \n",
    "    # saida\n",
    "    output = keras.layers.Dense(output_dim, activation=output_activation)(x)\n",
    "    \n",
    "    # modelo\n",
    "    dnn = keras.models.Model(input_data, output)\n",
    "    return dnn"
   ]
  },
  {
   "cell_type": "code",
   "execution_count": 14,
   "metadata": {},
   "outputs": [
    {
     "name": "stdout",
     "output_type": "stream",
     "text": [
      "Model: \"model_1\"\n",
      "_________________________________________________________________\n",
      "Layer (type)                 Output Shape              Param #   \n",
      "=================================================================\n",
      "input_2 (InputLayer)         [(None, 3)]               0         \n",
      "_________________________________________________________________\n",
      "dense_4 (Dense)              (None, 256)               1024      \n",
      "_________________________________________________________________\n",
      "dense_5 (Dense)              (None, 256)               65792     \n",
      "_________________________________________________________________\n",
      "dense_6 (Dense)              (None, 256)               65792     \n",
      "_________________________________________________________________\n",
      "dropout_1 (Dropout)          (None, 256)               0         \n",
      "_________________________________________________________________\n",
      "dense_7 (Dense)              (None, 3)                 771       \n",
      "=================================================================\n",
      "Total params: 133,379\n",
      "Trainable params: 133,379\n",
      "Non-trainable params: 0\n",
      "_________________________________________________________________\n"
     ]
    }
   ],
   "source": [
    "# instanciando rede\n",
    "dnet = deep_net1(3,3)\n",
    "dnet.summary()"
   ]
  },
  {
   "cell_type": "code",
   "execution_count": 15,
   "metadata": {},
   "outputs": [
    {
     "name": "stdout",
     "output_type": "stream",
     "text": [
      "Model: \"model_2\"\n",
      "_________________________________________________________________\n",
      "Layer (type)                 Output Shape              Param #   \n",
      "=================================================================\n",
      "input_3 (InputLayer)         [(None, 3)]               0         \n",
      "_________________________________________________________________\n",
      "dense_8 (Dense)              (None, 256)               1024      \n",
      "_________________________________________________________________\n",
      "dense_9 (Dense)              (None, 256)               65792     \n",
      "_________________________________________________________________\n",
      "dense_10 (Dense)             (None, 256)               65792     \n",
      "_________________________________________________________________\n",
      "dropout_2 (Dropout)          (None, 256)               0         \n",
      "_________________________________________________________________\n",
      "dense_11 (Dense)             (None, 1)                 257       \n",
      "=================================================================\n",
      "Total params: 132,865\n",
      "Trainable params: 132,865\n",
      "Non-trainable params: 0\n",
      "_________________________________________________________________\n"
     ]
    }
   ],
   "source": [
    "# instanciando rede\n",
    "dnet = deep_net1(3,1,'sigmoid')\n",
    "dnet.summary()"
   ]
  },
  {
   "cell_type": "markdown",
   "metadata": {},
   "source": [
    "Vamos usar uma rede de **regressão** para predizer valores entre 1 e 6"
   ]
  },
  {
   "cell_type": "code",
   "execution_count": 16,
   "metadata": {},
   "outputs": [
    {
     "name": "stdout",
     "output_type": "stream",
     "text": [
      "Model: \"model_3\"\n",
      "_________________________________________________________________\n",
      "Layer (type)                 Output Shape              Param #   \n",
      "=================================================================\n",
      "input_4 (InputLayer)         [(None, 561)]             0         \n",
      "_________________________________________________________________\n",
      "dense_12 (Dense)             (None, 256)               143872    \n",
      "_________________________________________________________________\n",
      "dense_13 (Dense)             (None, 256)               65792     \n",
      "_________________________________________________________________\n",
      "dense_14 (Dense)             (None, 256)               65792     \n",
      "_________________________________________________________________\n",
      "dropout_3 (Dropout)          (None, 256)               0         \n",
      "_________________________________________________________________\n",
      "dense_15 (Dense)             (None, 1)                 257       \n",
      "=================================================================\n",
      "Total params: 275,713\n",
      "Trainable params: 275,713\n",
      "Non-trainable params: 0\n",
      "_________________________________________________________________\n"
     ]
    }
   ],
   "source": [
    "dn1 = deep_net1(X_train.shape[1], 1, 'relu')\n",
    "dn1.summary()"
   ]
  },
  {
   "cell_type": "markdown",
   "metadata": {
    "colab_type": "text",
    "id": "EGYnX8v2rO2v"
   },
   "source": [
    "## 3) Treinamento: configurar/compilar e ajustar parâmetros \n",
    "\n",
    "1. Compilação:\n",
    "    * Otimizador\n",
    "    * Taxa de aprendizado inicial\n",
    "    * Decaimento da taxa de aprendizado\n",
    "    * Função de custo/perda\n",
    "    * Métricas de avaliação"
   ]
  },
  {
   "cell_type": "code",
   "execution_count": 17,
   "metadata": {
    "colab": {},
    "colab_type": "code",
    "id": "9jiq0kejrBBY"
   },
   "outputs": [],
   "source": [
    "dn1.compile(\n",
    "    optimizer=keras.optimizers.Adam(), loss=\"mse\", metrics=['accuracy', 'mae']\n",
    ")"
   ]
  },
  {
   "cell_type": "markdown",
   "metadata": {
    "colab_type": "text",
    "id": "W3rSe3LTrkeA"
   },
   "source": [
    "2. Treinamento (ajuste dos parâmetros iniciais):\n",
    "    * Tamanho do minibatch\n",
    "    * Número de épocas\n",
    "    * Existência (opcional) de um conjunto de validação"
   ]
  },
  {
   "cell_type": "code",
   "execution_count": 18,
   "metadata": {},
   "outputs": [],
   "source": [
    "batch_size = 16\n",
    "epochs = 10"
   ]
  },
  {
   "cell_type": "code",
   "execution_count": 19,
   "metadata": {
    "colab": {
     "base_uri": "https://localhost:8080/",
     "height": 1000
    },
    "colab_type": "code",
    "id": "q1G4RN3wrgoJ",
    "outputId": "2f7fb449-4e79-4450-811a-c4294307e831"
   },
   "outputs": [
    {
     "name": "stderr",
     "output_type": "stream",
     "text": [
      "2022-01-13 21:27:10.893655: I tensorflow/compiler/mlir/mlir_graph_optimization_pass.cc:176] None of the MLIR Optimization Passes are enabled (registered 2)\n",
      "2022-01-13 21:27:10.911652: I tensorflow/core/platform/profile_utils/cpu_utils.cc:114] CPU Frequency: 2595045000 Hz\n"
     ]
    },
    {
     "name": "stdout",
     "output_type": "stream",
     "text": [
      "Epoch 1/10\n"
     ]
    },
    {
     "name": "stderr",
     "output_type": "stream",
     "text": [
      "2022-01-13 21:27:13.433177: I tensorflow/stream_executor/platform/default/dso_loader.cc:53] Successfully opened dynamic library libcublas.so.11\n"
     ]
    },
    {
     "name": "stdout",
     "output_type": "stream",
     "text": [
      " 11/515 [..............................] - ETA: 8s - loss: 17.1818 - accuracy: 0.0000e+00 - mae: 3.7955 "
     ]
    },
    {
     "name": "stderr",
     "output_type": "stream",
     "text": [
      "2022-01-13 21:27:14.445920: I tensorflow/stream_executor/platform/default/dso_loader.cc:53] Successfully opened dynamic library libcublasLt.so.11\n"
     ]
    },
    {
     "name": "stdout",
     "output_type": "stream",
     "text": [
      "515/515 [==============================] - 12s 16ms/step - loss: 3.3503 - accuracy: 0.1378 - mae: 1.0092\n",
      "Epoch 2/10\n",
      "515/515 [==============================] - 9s 18ms/step - loss: 0.1131 - accuracy: 0.1683 - mae: 0.2570 1s - loss: 0.1180 \n",
      "Epoch 3/10\n",
      "515/515 [==============================] - 11s 21ms/step - loss: 0.0792 - accuracy: 0.1683 - mae: 0.2098\n",
      "Epoch 4/10\n",
      "515/515 [==============================] - 8s 15ms/step - loss: 0.0778 - accuracy: 0.1683 - mae: 0.2036\n",
      "Epoch 5/10\n",
      "515/515 [==============================] - 9s 17ms/step - loss: 0.0588 - accuracy: 0.1683 - mae: 0.1723\n",
      "Epoch 6/10\n",
      "515/515 [==============================] - 7s 14ms/step - loss: 0.0564 - accuracy: 0.1683 - mae: 0.1692\n",
      "Epoch 7/10\n",
      "515/515 [==============================] - 6s 12ms/step - loss: 0.0501 - accuracy: 0.1683 - mae: 0.1564\n",
      "Epoch 8/10\n",
      "515/515 [==============================] - 9s 18ms/step - loss: 0.0470 - accuracy: 0.1683 - mae: 0.1484\n",
      "Epoch 9/10\n",
      "515/515 [==============================] - 8s 15ms/step - loss: 0.0409 - accuracy: 0.1683 - mae: 0.1344\n",
      "Epoch 10/10\n",
      "515/515 [==============================] - 7s 13ms/step - loss: 0.0449 - accuracy: 0.1683 - mae: 0.1447\n"
     ]
    }
   ],
   "source": [
    "history1 = dn1.fit(X_train, y_train,\n",
    "                   batch_size=batch_size,\n",
    "                   epochs=epochs,\n",
    "                   verbose=1,\n",
    "                   #validation_data=(X_val, y_val),\n",
    ")"
   ]
  },
  {
   "cell_type": "markdown",
   "metadata": {
    "colab_type": "text",
    "id": "GD-CviKWsI46"
   },
   "source": [
    "O que está dando errado?"
   ]
  },
  {
   "cell_type": "code",
   "execution_count": 20,
   "metadata": {
    "colab": {
     "base_uri": "https://localhost:8080/",
     "height": 295
    },
    "colab_type": "code",
    "id": "vhnGiYjmrmBf",
    "outputId": "2d34bf45-07e1-44ce-8e56-6dfb4f9fee32"
   },
   "outputs": [
    {
     "data": {
      "image/png": "[encoded data removed]",
      "text/plain": [
       "<Figure size 432x288 with 1 Axes>"
      ]
     },
     "metadata": {
      "needs_background": "light"
     },
     "output_type": "display_data"
    }
   ],
   "source": [
    "plt.plot(history1.history[\"loss\"])\n",
    "plt.title(\"model loss\")\n",
    "plt.ylabel(\"loss\")\n",
    "plt.xlabel(\"epoch\")\n",
    "plt.show()\n"
   ]
  },
  {
   "cell_type": "code",
   "execution_count": 21,
   "metadata": {
    "colab": {},
    "colab_type": "code",
    "id": "qybsE72PsRgl"
   },
   "outputs": [],
   "source": [
    "# Computando as métricas para o teste\n",
    "score = dn1.evaluate(X_test, y_test, verbose=0)"
   ]
  },
  {
   "cell_type": "code",
   "execution_count": 22,
   "metadata": {
    "colab": {
     "base_uri": "https://localhost:8080/",
     "height": 127
    },
    "colab_type": "code",
    "id": "yfj7KmvEsmd7",
    "outputId": "e4891550-0331-4523-925b-55d540974667"
   },
   "outputs": [
    {
     "name": "stdout",
     "output_type": "stream",
     "text": [
      "MSE (Custo):  0.03355376794934273\n",
      "Accuracy:  0.1626213639974594\n",
      "MAE:  0.10887958109378815\n"
     ]
    }
   ],
   "source": [
    "print(\"MSE (Custo): \", score[0])\n",
    "print(\"Accuracy: \", score[1])\n",
    "print(\"MAE: \", score[2])"
   ]
  },
  {
   "cell_type": "code",
   "execution_count": 23,
   "metadata": {},
   "outputs": [
    {
     "name": "stdout",
     "output_type": "stream",
     "text": [
      "real - predito\n",
      "4 - [4.0547013]\n",
      "3 - [2.91022]\n",
      "6 - [6.072311]\n",
      "2 - [2.0271597]\n",
      "1 - [1.0158725]\n"
     ]
    }
   ],
   "source": [
    "y_pred = dn1.predict(X_test[:5])\n",
    "\n",
    "print('real - predito')\n",
    "for i in range(5):\n",
    "    print(y_test[i], end=' - ')\n",
    "    print(y_pred[i])"
   ]
  },
  {
   "cell_type": "markdown",
   "metadata": {
    "colab_type": "text",
    "id": "YiYubRpitshR"
   },
   "source": [
    "## 3) Alterando para uma rede de classificação\n",
    "\n",
    "1. A última camada deve ter um neurônio para cada classe (saída do tipo one-hot-encoding)\n",
    "2. A ativação deve ser softmax\n",
    "3. Também precisamos alterar a função de custo"
   ]
  },
  {
   "cell_type": "code",
   "execution_count": 24,
   "metadata": {},
   "outputs": [
    {
     "data": {
      "text/plain": [
       "array([3, 4, 1])"
      ]
     },
     "execution_count": 24,
     "metadata": {},
     "output_type": "execute_result"
    }
   ],
   "source": [
    "# preparando o vetor y\n",
    "y_train[:3]"
   ]
  },
  {
   "cell_type": "code",
   "execution_count": 25,
   "metadata": {},
   "outputs": [
    {
     "data": {
      "text/plain": [
       "array([1, 2, 3, 4, 5, 6])"
      ]
     },
     "execution_count": 25,
     "metadata": {},
     "output_type": "execute_result"
    }
   ],
   "source": [
    "np.unique(y_train)"
   ]
  },
  {
   "cell_type": "code",
   "execution_count": 26,
   "metadata": {},
   "outputs": [
    {
     "name": "stdout",
     "output_type": "stream",
     "text": [
      "6\n"
     ]
    }
   ],
   "source": [
    "num_classes = np.unique(y_train).shape[0]\n",
    "print(num_classes)"
   ]
  },
  {
   "cell_type": "markdown",
   "metadata": {},
   "source": [
    "Precisamos criar vetores do tipo one-hot\n",
    "\n",
    "Para isso podemos utilizar `to_categorical` mas esse requer entrada com valores iniciando em 0 (zero)"
   ]
  },
  {
   "cell_type": "code",
   "execution_count": 28,
   "metadata": {},
   "outputs": [],
   "source": [
    "y_train = keras.utils.to_categorical(y_train-1, num_classes)\n",
    "y_test = keras.utils.to_categorical(y_test-1, num_classes)"
   ]
  },
  {
   "cell_type": "code",
   "execution_count": 29,
   "metadata": {},
   "outputs": [
    {
     "data": {
      "text/plain": [
       "array([[0., 0., 1., 0., 0., 0.],\n",
       "       [0., 0., 0., 1., 0., 0.],\n",
       "       [1., 0., 0., 0., 0., 0.]], dtype=float32)"
      ]
     },
     "execution_count": 29,
     "metadata": {},
     "output_type": "execute_result"
    }
   ],
   "source": [
    "# vetor y resultante\n",
    "y_train[:3]"
   ]
  },
  {
   "cell_type": "code",
   "execution_count": 32,
   "metadata": {},
   "outputs": [
    {
     "name": "stdout",
     "output_type": "stream",
     "text": [
      "Model: \"model_5\"\n",
      "_________________________________________________________________\n",
      "Layer (type)                 Output Shape              Param #   \n",
      "=================================================================\n",
      "input_6 (InputLayer)         [(None, 561)]             0         \n",
      "_________________________________________________________________\n",
      "dense_20 (Dense)             (None, 256)               143872    \n",
      "_________________________________________________________________\n",
      "dense_21 (Dense)             (None, 256)               65792     \n",
      "_________________________________________________________________\n",
      "dense_22 (Dense)             (None, 256)               65792     \n",
      "_________________________________________________________________\n",
      "dropout_5 (Dropout)          (None, 256)               0         \n",
      "_________________________________________________________________\n",
      "dense_23 (Dense)             (None, 6)                 1542      \n",
      "=================================================================\n",
      "Total params: 276,998\n",
      "Trainable params: 276,998\n",
      "Non-trainable params: 0\n",
      "_________________________________________________________________\n"
     ]
    }
   ],
   "source": [
    "dclass = deep_net1(X_train.shape[1], 6, 'softmax')\n",
    "dclass.summary()"
   ]
  },
  {
   "cell_type": "code",
   "execution_count": 33,
   "metadata": {},
   "outputs": [],
   "source": [
    "dclass.compile(\n",
    "    optimizer=keras.optimizers.Adam(), loss=\"categorical_crossentropy\", metrics=['accuracy', 'mse']\n",
    ")"
   ]
  },
  {
   "cell_type": "code",
   "execution_count": 34,
   "metadata": {},
   "outputs": [
    {
     "name": "stdout",
     "output_type": "stream",
     "text": [
      "Epoch 1/15\n",
      "515/515 [==============================] - 12s 18ms/step - loss: 0.3246 - accuracy: 0.8635 - mse: 0.0318\n",
      "Epoch 2/15\n",
      "515/515 [==============================] - 8s 16ms/step - loss: 0.1669 - accuracy: 0.9318 - mse: 0.0163\n",
      "Epoch 3/15\n",
      "515/515 [==============================] - 7s 13ms/step - loss: 0.1464 - accuracy: 0.9422 - mse: 0.0142\n",
      "Epoch 4/15\n",
      "515/515 [==============================] - 8s 16ms/step - loss: 0.1156 - accuracy: 0.9524 - mse: 0.0113\n",
      "Epoch 5/15\n",
      "515/515 [==============================] - 8s 15ms/step - loss: 0.1150 - accuracy: 0.9544 - mse: 0.0110\n",
      "Epoch 6/15\n",
      "515/515 [==============================] - 8s 16ms/step - loss: 0.0914 - accuracy: 0.9659 - mse: 0.0087 3s - loss: 0.0948 - accuracy: 0. - ETA: 1s - loss: 0.0902 \n",
      "Epoch 7/15\n",
      "515/515 [==============================] - 7s 14ms/step - loss: 0.1077 - accuracy: 0.9599 - mse: 0.0099\n",
      "Epoch 8/15\n",
      "515/515 [==============================] - 7s 14ms/step - loss: 0.0907 - accuracy: 0.9641 - mse: 0.0086\n",
      "Epoch 9/15\n",
      "515/515 [==============================] - 7s 13ms/step - loss: 0.0862 - accuracy: 0.9659 - mse: 0.0083\n",
      "Epoch 10/15\n",
      "515/515 [==============================] - 7s 13ms/step - loss: 0.0855 - accuracy: 0.9663 - mse: 0.0081 0s - loss: 0.0781 - accuracy: \n",
      "Epoch 11/15\n",
      "515/515 [==============================] - 8s 15ms/step - loss: 0.1018 - accuracy: 0.9637 - mse: 0.0089\n",
      "Epoch 12/15\n",
      "515/515 [==============================] - 8s 16ms/step - loss: 0.0812 - accuracy: 0.9693 - mse: 0.0077\n",
      "Epoch 13/15\n",
      "515/515 [==============================] - 8s 16ms/step - loss: 0.0737 - accuracy: 0.9720 - mse: 0.0071\n",
      "Epoch 14/15\n",
      "515/515 [==============================] - 8s 15ms/step - loss: 0.0799 - accuracy: 0.9690 - mse: 0.0078 1s - loss:\n",
      "Epoch 15/15\n",
      "515/515 [==============================] - 8s 15ms/step - loss: 0.0758 - accuracy: 0.9703 - mse: 0.0072\n"
     ]
    }
   ],
   "source": [
    "epochs = 15\n",
    "\n",
    "history2 = dclass.fit(X_train, y_train,\n",
    "                   batch_size=batch_size,\n",
    "                   epochs=epochs,\n",
    "                   verbose=1,\n",
    "                   #validation_data=(X_test, y_test),\n",
    ")"
   ]
  },
  {
   "cell_type": "code",
   "execution_count": 39,
   "metadata": {},
   "outputs": [
    {
     "name": "stdout",
     "output_type": "stream",
     "text": [
      "real - predito\n",
      "[0. 0. 0. 1. 0. 0.] - [0.   0.   0.   0.64 0.36 0.  ]\n",
      "[0. 0. 1. 0. 0. 0.] - [0. 0. 1. 0. 0. 0.]\n",
      "[0. 0. 0. 0. 0. 1.] - [0. 0. 0. 0. 0. 1.]\n",
      "[0. 1. 0. 0. 0. 0.] - [0. 1. 0. 0. 0. 0.]\n",
      "[1. 0. 0. 0. 0. 0.] - [1. 0. 0. 0. 0. 0.]\n"
     ]
    }
   ],
   "source": [
    "# obtem a predicao e arredonda para 2 casas\n",
    "y_pred = np.round(dclass.predict(X_test[:5]), 2)\n",
    "\n",
    "print('real - predito')\n",
    "for i in range(5):\n",
    "    print(y_test[i], end=' - ')\n",
    "    print(y_pred[i])"
   ]
  },
  {
   "cell_type": "markdown",
   "metadata": {},
   "source": [
    "## 4) Pequenas melhorias\n",
    "\n",
    "* Inserir dropout\n",
    "* Decaimento de learning rate"
   ]
  },
  {
   "cell_type": "code",
   "execution_count": 56,
   "metadata": {},
   "outputs": [],
   "source": [
    "dclass2 = deep_net1(X_train.shape[1], 6, 'softmax', dropout_rate=0.2)\n",
    "\n",
    "def scheduler(epoch, lr):\n",
    "    # epoch - época atual\n",
    "    # lr - learning rate atual\n",
    "    \n",
    "    # roda por 2 epocas com o LR inicial\n",
    "    if epoch < 3:\n",
    "        return lr\n",
    "    else:\n",
    "        # decai exponencialmente com fator -0.1\n",
    "        lr = lr * tf.math.exp(-0.1)\n",
    "        print(lr)\n",
    "        return lr\n",
    "\n",
    "callbacklr = tf.keras.callbacks.LearningRateScheduler(scheduler)\n",
    "\n",
    "dclass2.compile(\n",
    "    optimizer=keras.optimizers.Adam(0.0025), loss=\"categorical_crossentropy\", metrics=['accuracy']\n",
    ")"
   ]
  },
  {
   "cell_type": "code",
   "execution_count": 57,
   "metadata": {},
   "outputs": [
    {
     "name": "stdout",
     "output_type": "stream",
     "text": [
      "Epoch 1/15\n",
      "515/515 [==============================] - 2s 2ms/step - loss: 0.4195 - accuracy: 0.8258\n",
      "Epoch 2/15\n",
      "515/515 [==============================] - 1s 2ms/step - loss: 0.2640 - accuracy: 0.9058\n",
      "Epoch 3/15\n",
      "515/515 [==============================] - 1s 2ms/step - loss: 0.2095 - accuracy: 0.9246\n",
      "Epoch 4/15\n",
      "tf.Tensor(0.0022620934, shape=(), dtype=float32)\n",
      "515/515 [==============================] - 1s 2ms/step - loss: 0.1343 - accuracy: 0.9504\n",
      "Epoch 5/15\n",
      "tf.Tensor(0.0020468265, shape=(), dtype=float32)\n",
      "515/515 [==============================] - 1s 2ms/step - loss: 0.1147 - accuracy: 0.9556\n",
      "Epoch 6/15\n",
      "tf.Tensor(0.0018520452, shape=(), dtype=float32)\n",
      "515/515 [==============================] - 1s 2ms/step - loss: 0.0966 - accuracy: 0.9629\n",
      "Epoch 7/15\n",
      "tf.Tensor(0.0016757997, shape=(), dtype=float32)\n",
      "515/515 [==============================] - 1s 3ms/step - loss: 0.0948 - accuracy: 0.9641\n",
      "Epoch 8/15\n",
      "tf.Tensor(0.0015163262, shape=(), dtype=float32)\n",
      "515/515 [==============================] - 1s 2ms/step - loss: 0.0870 - accuracy: 0.9663\n",
      "Epoch 9/15\n",
      "tf.Tensor(0.0013720286, shape=(), dtype=float32)\n",
      "515/515 [==============================] - 1s 3ms/step - loss: 0.0735 - accuracy: 0.9711\n",
      "Epoch 10/15\n",
      "tf.Tensor(0.0012414628, shape=(), dtype=float32)\n",
      "515/515 [==============================] - 2s 4ms/step - loss: 0.0816 - accuracy: 0.9688\n",
      "Epoch 11/15\n",
      "tf.Tensor(0.0011233219, shape=(), dtype=float32)\n",
      "515/515 [==============================] - 2s 3ms/step - loss: 0.0822 - accuracy: 0.9687\n",
      "Epoch 12/15\n",
      "tf.Tensor(0.0010164237, shape=(), dtype=float32)\n",
      "515/515 [==============================] - 2s 3ms/step - loss: 0.0705 - accuracy: 0.9720\n",
      "Epoch 13/15\n",
      "tf.Tensor(0.00091969816, shape=(), dtype=float32)\n",
      "515/515 [==============================] - 2s 3ms/step - loss: 0.0722 - accuracy: 0.9728\n",
      "Epoch 14/15\n",
      "tf.Tensor(0.00083217723, shape=(), dtype=float32)\n",
      "515/515 [==============================] - 2s 3ms/step - loss: 0.0659 - accuracy: 0.9758\n",
      "Epoch 15/15\n",
      "tf.Tensor(0.00075298507, shape=(), dtype=float32)\n",
      "515/515 [==============================] - 2s 3ms/step - loss: 0.0529 - accuracy: 0.9783\n"
     ]
    }
   ],
   "source": [
    "epochs = 15\n",
    "\n",
    "history3 = dclass2.fit(X_train, y_train,\n",
    "                   batch_size=batch_size,\n",
    "                   epochs=epochs,\n",
    "                   verbose=1,\n",
    "                   callbacks=[callbacklr])\n"
   ]
  },
  {
   "cell_type": "code",
   "execution_count": 59,
   "metadata": {},
   "outputs": [
    {
     "name": "stdout",
     "output_type": "stream",
     "text": [
      "real - predito\n",
      "[0. 0. 0. 1. 0. 0.] - [0.  0.  0.  0.9 0.1 0. ]\n",
      "[0. 0. 1. 0. 0. 0.] - [0. 0. 1. 0. 0. 0.]\n",
      "[0. 0. 0. 0. 0. 1.] - [0. 0. 0. 0. 0. 1.]\n",
      "[0. 1. 0. 0. 0. 0.] - [0. 1. 0. 0. 0. 0.]\n",
      "[1. 0. 0. 0. 0. 0.] - [1. 0. 0. 0. 0. 0.]\n"
     ]
    }
   ],
   "source": [
    "# obtem a predicao e arredonda para 2 casas\n",
    "y_pred = np.round(dclass2.predict(X_test[:5]), 1)\n",
    "\n",
    "print('real - predito')\n",
    "for i in range(5):\n",
    "    print(y_test[i], end=' - ')\n",
    "    print(y_pred[i])"
   ]
  },
  {
   "cell_type": "code",
   "execution_count": null,
   "metadata": {},
   "outputs": [],
   "source": []
  }
 ],
 "metadata": {
  "colab": {
   "collapsed_sections": [],
   "name": "01_neuralnet_dadosestruturados.ipynb",
   "provenance": [],
   "toc_visible": true
  },
  "kernelspec": {
   "display_name": "Python 3 (ipykernel)",
   "language": "python",
   "name": "python3"
  },
  "language_info": {
   "codemirror_mode": {
    "name": "ipython",
    "version": 3
   },
   "file_extension": ".py",
   "mimetype": "text/x-python",
   "name": "python",
   "nbconvert_exporter": "python",
   "pygments_lexer": "ipython3",
   "version": "3.9.5"
  }
 },
 "nbformat": 4,
 "nbformat_minor": 1
}
