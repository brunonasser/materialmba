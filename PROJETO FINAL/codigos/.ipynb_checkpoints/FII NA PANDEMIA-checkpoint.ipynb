{
 "cells": [
  {
   "cell_type": "markdown",
   "metadata": {},
   "source": [
    "# Importando Bibliotecas"
   ]
  },
  {
   "cell_type": "code",
   "execution_count": 2,
   "metadata": {},
   "outputs": [],
   "source": [
    "import seaborn as sns\n",
    "import matplotlib.pyplot as plt\n",
    "%matplotlib inline\n",
    "import numpy as np\n",
    "import pandas as pd\n",
    "pd.set_option(\"display.max_columns\", None)\n",
    "pd.set_option('display.max_rows', None)\n",
    "\n"
   ]
  },
  {
   "cell_type": "code",
   "execution_count": 3,
   "metadata": {},
   "outputs": [
    {
     "data": {
      "text/html": [
       "        <script type=\"text/javascript\">\n",
       "        window.PlotlyConfig = {MathJaxConfig: 'local'};\n",
       "        if (window.MathJax) {MathJax.Hub.Config({SVG: {font: \"STIX-Web\"}});}\n",
       "        if (typeof require !== 'undefined') {\n",
       "        require.undef(\"plotly\");\n",
       "        requirejs.config({\n",
       "            paths: {\n",
       "                'plotly': ['https://cdn.plot.ly/plotly-latest.min']\n",
       "            }\n",
       "        });\n",
       "        require(['plotly'], function(Plotly) {\n",
       "            window._Plotly = Plotly;\n",
       "        });\n",
       "        }\n",
       "        </script>\n",
       "        "
      ]
     },
     "metadata": {},
     "output_type": "display_data"
    },
    {
     "data": {
      "text/html": [
       "        <script type=\"text/javascript\">\n",
       "        window.PlotlyConfig = {MathJaxConfig: 'local'};\n",
       "        if (window.MathJax) {MathJax.Hub.Config({SVG: {font: \"STIX-Web\"}});}\n",
       "        if (typeof require !== 'undefined') {\n",
       "        require.undef(\"plotly\");\n",
       "        requirejs.config({\n",
       "            paths: {\n",
       "                'plotly': ['https://cdn.plot.ly/plotly-latest.min']\n",
       "            }\n",
       "        });\n",
       "        require(['plotly'], function(Plotly) {\n",
       "            window._Plotly = Plotly;\n",
       "        });\n",
       "        }\n",
       "        </script>\n",
       "        "
      ]
     },
     "metadata": {},
     "output_type": "display_data"
    }
   ],
   "source": [
    "from plotly import __version__\n",
    "from plotly.offline import download_plotlyjs, init_notebook_mode, plot, iplot\n",
    "import cufflinks as cf\n",
    "# Para Notebooks\n",
    "init_notebook_mode(connected=True)\n",
    "# For offline use\n",
    "cf.go_offline()"
   ]
  },
  {
   "cell_type": "markdown",
   "metadata": {},
   "source": [
    "# Importando Arquivos"
   ]
  },
  {
   "cell_type": "code",
   "execution_count": 4,
   "metadata": {},
   "outputs": [],
   "source": [
    "#dataset de DEZ 2019\n",
    "df = pd.read_excel('FII DEZEMBRO 2019.xlsx',thousands='.')\n",
    "#dataset de AGO 2020\n",
    "df2 = pd.read_excel('FII Agosto 2020.xlsx',thousands='.')\n"
   ]
  },
  {
   "cell_type": "markdown",
   "metadata": {},
   "source": [
    "import requests\n",
    "\n",
    "#A url que você quer acesssar\n",
    "url = \"https://www.fundsexplorer.com.br/ranking\"\n",
    "\n",
    "\n"
   ]
  },
  {
   "cell_type": "markdown",
   "metadata": {},
   "source": [
    "# Tratando dados"
   ]
  },
  {
   "cell_type": "markdown",
   "metadata": {},
   "source": [
    "Vamos retirar os caracteres que atrapalham as análises e converter algumas colunas para float"
   ]
  },
  {
   "cell_type": "code",
   "execution_count": 5,
   "metadata": {},
   "outputs": [],
   "source": [
    "cols_rs = ['PREÇO ATUAL','DIVIDENDO','PATRI LIQ','VPA','P/VPA']"
   ]
  },
  {
   "cell_type": "code",
   "execution_count": 6,
   "metadata": {},
   "outputs": [],
   "source": [
    "cols_por = ['DIVIDEND YIELD','DY(3M) ACUMULADO','DY (6M) ACUMULADO','DY (12M) ACUMULADO','DY(3M) MÉDIA','DY(6M) MÉDIA','DY(12M) MÉDIA','DY ANO','VARIAÇÕES DE PREÇO','RENTA PERIODO','RENTAB ACUMU','DY PATRIMONIAL','VARIAÇÃO PATRI','RENTAB PATR PERIODO','RENT PATRI ACUMU','VAC FISICA','VAC FINANCEIRA','QUANTIDADE ATIVOS']"
   ]
  },
  {
   "cell_type": "code",
   "execution_count": 7,
   "metadata": {},
   "outputs": [],
   "source": [
    "#limpando colunas\n",
    "df[cols_rs] = df[cols_rs].replace({'R\\$':''}, regex=True)\n",
    "df[cols_rs] = df[cols_rs].replace({'\\.':''}, regex=True)\n",
    "df[cols_rs] = df[cols_rs].replace({'\\,':'.'}, regex=True)\n",
    "df[cols_por] = df[cols_por].replace({'\\%':''}, regex=True)\n",
    "df[cols_por] = df[cols_por].replace({'\\.':''}, regex=True)\n",
    "df[cols_por] = df[cols_por].replace({'\\,':'.'}, regex=True)\n",
    "\n",
    "#transformando em float\n",
    "df[cols_rs] = df[cols_rs].astype(float)\n",
    "df[cols_por] = df[cols_por].astype(float)"
   ]
  },
  {
   "cell_type": "code",
   "execution_count": 8,
   "metadata": {},
   "outputs": [],
   "source": [
    "#limpando colunas\n",
    "df2[cols_rs] = df2[cols_rs].replace({'R\\$':''}, regex=True)\n",
    "df2[cols_rs] = df2[cols_rs].replace({'\\.':''}, regex=True)\n",
    "df2[cols_rs] = df2[cols_rs].replace({'\\,':'.'}, regex=True)\n",
    "df2[cols_por] = df2[cols_por].replace({'\\%':''}, regex=True)\n",
    "df2[cols_por] = df2[cols_por].replace({'\\.':''}, regex=True)\n",
    "df2[cols_por] = df2[cols_por].replace({'\\,':'.'}, regex=True)\n",
    "\n",
    "#transformando em float\n",
    "df2[cols_rs] = df2[cols_rs].astype(float)\n",
    "df2[cols_por] = df2[cols_por].astype(float)"
   ]
  },
  {
   "cell_type": "markdown",
   "metadata": {},
   "source": [
    "# Juntando os Datasets"
   ]
  },
  {
   "cell_type": "code",
   "execution_count": 9,
   "metadata": {},
   "outputs": [],
   "source": [
    "dfjoin=pd.merge(df,df2[['CODIGO','PREÇO ATUAL']],how='left', on='CODIGO')"
   ]
  },
  {
   "cell_type": "markdown",
   "metadata": {},
   "source": [
    "Função que determina se um fundo aumentou o seu preço:"
   ]
  },
  {
   "cell_type": "code",
   "execution_count": 10,
   "metadata": {},
   "outputs": [],
   "source": [
    "def comparacao(x,y):\n",
    "    if x<y:\n",
    "        return 'sim'\n",
    "    else:\n",
    "        return 'nao'\n",
    "\n",
    "    "
   ]
  },
  {
   "cell_type": "code",
   "execution_count": 11,
   "metadata": {},
   "outputs": [],
   "source": [
    "dfjoin['GANHO DE PRECO']=dfjoin.apply(lambda x: comparacao(x['PREÇO ATUAL_x'],x['PREÇO ATUAL_y']),axis=1)"
   ]
  },
  {
   "cell_type": "code",
   "execution_count": 15,
   "metadata": {},
   "outputs": [
    {
     "data": {
      "text/plain": [
       "nao    134\n",
       "sim     17\n",
       "Name: GANHO DE PRECO, dtype: int64"
      ]
     },
     "execution_count": 15,
     "metadata": {},
     "output_type": "execute_result"
    }
   ],
   "source": [
    "dfjoin['GANHO DE PRECO'].value_counts()"
   ]
  },
  {
   "cell_type": "code",
   "execution_count": 26,
   "metadata": {},
   "outputs": [
    {
     "data": {
      "text/plain": [
       "1.26"
      ]
     },
     "execution_count": 26,
     "metadata": {},
     "output_type": "execute_result"
    }
   ],
   "source": [
    "round(1.2568,2)"
   ]
  },
  {
   "cell_type": "code",
   "execution_count": 31,
   "metadata": {},
   "outputs": [
    {
     "name": "stdout",
     "output_type": "stream",
     "text": [
      "PROPORÇÃO DE FIIs QUE OBTIVERAM AUMENTO DE PREÇO DURANTE A PANDEMIA É DE 11.26%\n"
     ]
    }
   ],
   "source": [
    "print('PROPORÇÃO DE FIIs QUE OBTIVERAM AUMENTO DE PREÇO DURANTE A PANDEMIA É DE {}%'.format(round((17/dfjoin.shape[0])*100,2)))"
   ]
  },
  {
   "cell_type": "markdown",
   "metadata": {},
   "source": [
    "# Análise exploratória"
   ]
  },
  {
   "cell_type": "markdown",
   "metadata": {},
   "source": [
    "Vamos quais varíaveis influenciaram o aumento de preço dos FIIs durante a pandemia e comparar resultados entre o dataset df que tem os dados dos FIIs antes da crise do Covid-19 (dezembro 2019) com o dataset df2 que contém os dados dos FIIs durante a crise do Covid-19 (agosto de 2020)"
   ]
  },
  {
   "cell_type": "code",
   "execution_count": 11,
   "metadata": {},
   "outputs": [
    {
     "data": {
      "text/html": [
       "<div>\n",
       "<style scoped>\n",
       "    .dataframe tbody tr th:only-of-type {\n",
       "        vertical-align: middle;\n",
       "    }\n",
       "\n",
       "    .dataframe tbody tr th {\n",
       "        vertical-align: top;\n",
       "    }\n",
       "\n",
       "    .dataframe thead th {\n",
       "        text-align: right;\n",
       "    }\n",
       "</style>\n",
       "<table border=\"1\" class=\"dataframe\">\n",
       "  <thead>\n",
       "    <tr style=\"text-align: right;\">\n",
       "      <th></th>\n",
       "      <th>CODIGO</th>\n",
       "      <th>SETOR</th>\n",
       "      <th>PREÇO ATUAL</th>\n",
       "      <th>LIQUIDEZ DIÁRIA</th>\n",
       "      <th>DIVIDENDO</th>\n",
       "      <th>DIVIDEND YIELD</th>\n",
       "      <th>DY(3M) ACUMULADO</th>\n",
       "      <th>DY (6M) ACUMULADO</th>\n",
       "      <th>DY (12M) ACUMULADO</th>\n",
       "      <th>DY(3M) MÉDIA</th>\n",
       "      <th>DY(6M) MÉDIA</th>\n",
       "      <th>DY(12M) MÉDIA</th>\n",
       "      <th>DY ANO</th>\n",
       "      <th>VARIAÇÕES DE PREÇO</th>\n",
       "      <th>RENTA PERIODO</th>\n",
       "      <th>RENTAB ACUMU</th>\n",
       "      <th>PATRI LIQ</th>\n",
       "      <th>VPA</th>\n",
       "      <th>P/VPA</th>\n",
       "      <th>DY PATRIMONIAL</th>\n",
       "      <th>VARIAÇÃO PATRI</th>\n",
       "      <th>RENTAB PATR PERIODO</th>\n",
       "      <th>RENT PATRI ACUMU</th>\n",
       "      <th>VAC FISICA</th>\n",
       "      <th>VAC FINANCEIRA</th>\n",
       "      <th>QUANTIDADE ATIVOS</th>\n",
       "    </tr>\n",
       "  </thead>\n",
       "  <tbody>\n",
       "    <tr>\n",
       "      <th>0</th>\n",
       "      <td>ABCP11</td>\n",
       "      <td>Shoppings</td>\n",
       "      <td>101.28</td>\n",
       "      <td>1906.0</td>\n",
       "      <td>0.49</td>\n",
       "      <td>0.48</td>\n",
       "      <td>1.52</td>\n",
       "      <td>2.89</td>\n",
       "      <td>5.83</td>\n",
       "      <td>0.51</td>\n",
       "      <td>0.48</td>\n",
       "      <td>0.49</td>\n",
       "      <td>5.31</td>\n",
       "      <td>7.07</td>\n",
       "      <td>7.59</td>\n",
       "      <td>23.42</td>\n",
       "      <td>9.107550e+08</td>\n",
       "      <td>74.63</td>\n",
       "      <td>1.36</td>\n",
       "      <td>0.66</td>\n",
       "      <td>0.13</td>\n",
       "      <td>0.79</td>\n",
       "      <td>436.66</td>\n",
       "      <td>0.9</td>\n",
       "      <td>NaN</td>\n",
       "      <td>1.0</td>\n",
       "    </tr>\n",
       "    <tr>\n",
       "      <th>1</th>\n",
       "      <td>ALMI11</td>\n",
       "      <td>Lajes Corporativas</td>\n",
       "      <td>1575.00</td>\n",
       "      <td>109.0</td>\n",
       "      <td>0.00</td>\n",
       "      <td>0.00</td>\n",
       "      <td>0.00</td>\n",
       "      <td>0.00</td>\n",
       "      <td>0.00</td>\n",
       "      <td>0.00</td>\n",
       "      <td>0.00</td>\n",
       "      <td>0.00</td>\n",
       "      <td>0.00</td>\n",
       "      <td>2.27</td>\n",
       "      <td>2.27</td>\n",
       "      <td>-28.29</td>\n",
       "      <td>1.905623e+08</td>\n",
       "      <td>1714.04</td>\n",
       "      <td>0.92</td>\n",
       "      <td>NaN</td>\n",
       "      <td>NaN</td>\n",
       "      <td>NaN</td>\n",
       "      <td>NaN</td>\n",
       "      <td>82.0</td>\n",
       "      <td>NaN</td>\n",
       "      <td>1.0</td>\n",
       "    </tr>\n",
       "    <tr>\n",
       "      <th>2</th>\n",
       "      <td>ALZR11</td>\n",
       "      <td>Logística</td>\n",
       "      <td>118.70</td>\n",
       "      <td>9601.0</td>\n",
       "      <td>0.55</td>\n",
       "      <td>0.48</td>\n",
       "      <td>1.37</td>\n",
       "      <td>2.84</td>\n",
       "      <td>6.90</td>\n",
       "      <td>0.46</td>\n",
       "      <td>0.47</td>\n",
       "      <td>0.57</td>\n",
       "      <td>5.54</td>\n",
       "      <td>5.83</td>\n",
       "      <td>6.34</td>\n",
       "      <td>22.69</td>\n",
       "      <td>2.707823e+08</td>\n",
       "      <td>94.65</td>\n",
       "      <td>1.25</td>\n",
       "      <td>0.58</td>\n",
       "      <td>0.03</td>\n",
       "      <td>0.61</td>\n",
       "      <td>2.62</td>\n",
       "      <td>0.0</td>\n",
       "      <td>NaN</td>\n",
       "      <td>6.0</td>\n",
       "    </tr>\n",
       "    <tr>\n",
       "      <th>3</th>\n",
       "      <td>ATSA11</td>\n",
       "      <td>Shoppings</td>\n",
       "      <td>126.50</td>\n",
       "      <td>2.0</td>\n",
       "      <td>0.25</td>\n",
       "      <td>0.20</td>\n",
       "      <td>0.70</td>\n",
       "      <td>1.83</td>\n",
       "      <td>2.78</td>\n",
       "      <td>0.23</td>\n",
       "      <td>0.30</td>\n",
       "      <td>0.23</td>\n",
       "      <td>2.47</td>\n",
       "      <td>-6.11</td>\n",
       "      <td>-5.92</td>\n",
       "      <td>25.84</td>\n",
       "      <td>1.855730e+08</td>\n",
       "      <td>108.19</td>\n",
       "      <td>1.17</td>\n",
       "      <td>0.23</td>\n",
       "      <td>0.04</td>\n",
       "      <td>0.27</td>\n",
       "      <td>2.64</td>\n",
       "      <td>18.9</td>\n",
       "      <td>NaN</td>\n",
       "      <td>1.0</td>\n",
       "    </tr>\n",
       "    <tr>\n",
       "      <th>4</th>\n",
       "      <td>BARI11</td>\n",
       "      <td>Títulos e Val. Mob.</td>\n",
       "      <td>109.00</td>\n",
       "      <td>2415.0</td>\n",
       "      <td>0.83</td>\n",
       "      <td>0.75</td>\n",
       "      <td>2.75</td>\n",
       "      <td>0.00</td>\n",
       "      <td>0.00</td>\n",
       "      <td>0.92</td>\n",
       "      <td>0.00</td>\n",
       "      <td>0.00</td>\n",
       "      <td>6.10</td>\n",
       "      <td>-0.72</td>\n",
       "      <td>0.03</td>\n",
       "      <td>17.10</td>\n",
       "      <td>7.294868e+07</td>\n",
       "      <td>99.36</td>\n",
       "      <td>1.10</td>\n",
       "      <td>1.12</td>\n",
       "      <td>-0.62</td>\n",
       "      <td>0.50</td>\n",
       "      <td>2.63</td>\n",
       "      <td>NaN</td>\n",
       "      <td>NaN</td>\n",
       "      <td>0.0</td>\n",
       "    </tr>\n",
       "  </tbody>\n",
       "</table>\n",
       "</div>"
      ],
      "text/plain": [
       "   CODIGO                SETOR  PREÇO ATUAL  LIQUIDEZ DIÁRIA  DIVIDENDO  \\\n",
       "0  ABCP11            Shoppings       101.28           1906.0       0.49   \n",
       "1  ALMI11   Lajes Corporativas      1575.00            109.0       0.00   \n",
       "2  ALZR11            Logística       118.70           9601.0       0.55   \n",
       "3  ATSA11            Shoppings       126.50              2.0       0.25   \n",
       "4  BARI11  Títulos e Val. Mob.       109.00           2415.0       0.83   \n",
       "\n",
       "   DIVIDEND YIELD  DY(3M) ACUMULADO  DY (6M) ACUMULADO  DY (12M) ACUMULADO  \\\n",
       "0            0.48              1.52               2.89                5.83   \n",
       "1            0.00              0.00               0.00                0.00   \n",
       "2            0.48              1.37               2.84                6.90   \n",
       "3            0.20              0.70               1.83                2.78   \n",
       "4            0.75              2.75               0.00                0.00   \n",
       "\n",
       "   DY(3M) MÉDIA  DY(6M) MÉDIA  DY(12M) MÉDIA  DY ANO  VARIAÇÕES DE PREÇO  \\\n",
       "0          0.51          0.48           0.49    5.31                7.07   \n",
       "1          0.00          0.00           0.00    0.00                2.27   \n",
       "2          0.46          0.47           0.57    5.54                5.83   \n",
       "3          0.23          0.30           0.23    2.47               -6.11   \n",
       "4          0.92          0.00           0.00    6.10               -0.72   \n",
       "\n",
       "   RENTA PERIODO  RENTAB ACUMU     PATRI LIQ      VPA  P/VPA  DY PATRIMONIAL  \\\n",
       "0           7.59         23.42  9.107550e+08    74.63   1.36            0.66   \n",
       "1           2.27        -28.29  1.905623e+08  1714.04   0.92             NaN   \n",
       "2           6.34         22.69  2.707823e+08    94.65   1.25            0.58   \n",
       "3          -5.92         25.84  1.855730e+08   108.19   1.17            0.23   \n",
       "4           0.03         17.10  7.294868e+07    99.36   1.10            1.12   \n",
       "\n",
       "   VARIAÇÃO PATRI  RENTAB PATR PERIODO  RENT PATRI ACUMU  VAC FISICA  \\\n",
       "0            0.13                 0.79            436.66         0.9   \n",
       "1             NaN                  NaN               NaN        82.0   \n",
       "2            0.03                 0.61              2.62         0.0   \n",
       "3            0.04                 0.27              2.64        18.9   \n",
       "4           -0.62                 0.50              2.63         NaN   \n",
       "\n",
       "   VAC FINANCEIRA  QUANTIDADE ATIVOS  \n",
       "0             NaN                1.0  \n",
       "1             NaN                1.0  \n",
       "2             NaN                6.0  \n",
       "3             NaN                1.0  \n",
       "4             NaN                0.0  "
      ]
     },
     "execution_count": 11,
     "metadata": {},
     "output_type": "execute_result"
    }
   ],
   "source": [
    "df.head()"
   ]
  },
  {
   "cell_type": "markdown",
   "metadata": {},
   "source": [
    "## Setor dos FIIs"
   ]
  },
  {
   "cell_type": "markdown",
   "metadata": {},
   "source": [
    "Quantidade de FIIs antes e durante a pandemia"
   ]
  },
  {
   "cell_type": "code",
   "execution_count": 12,
   "metadata": {
    "scrolled": false
   },
   "outputs": [
    {
     "data": {
      "image/png": "[encoded data removed]",
      "text/plain": [
       "<Figure size 864x288 with 2 Axes>"
      ]
     },
     "metadata": {
      "needs_background": "light"
     },
     "output_type": "display_data"
    }
   ],
   "source": [
    "plt.figure(figsize=(12,4))\n",
    "\n",
    "plt.subplot(1,2,1)\n",
    "sns.countplot(data=df,x=df['SETOR'])\n",
    "plt.xticks(rotation=90)\n",
    "plt.title('Qtd de FIIs por Setor - DEZ 2019')\n",
    "\n",
    "plt.subplot(1,2,2)\n",
    "sns.countplot(data=df2,x=df2['SETOR'])\n",
    "plt.xticks(rotation=90)\n",
    "plt.title('Qtd de FIIs por Setor - AGO 2020')\n",
    "\n",
    "plt.show()"
   ]
  },
  {
   "cell_type": "markdown",
   "metadata": {},
   "source": [
    "Em geral em todos os setores dos FIIs houve aumento na quantidade dos fundos"
   ]
  },
  {
   "cell_type": "code",
   "execution_count": 24,
   "metadata": {},
   "outputs": [
    {
     "data": {
      "text/plain": [
       "<AxesSubplot:xlabel='SETOR'>"
      ]
     },
     "execution_count": 24,
     "metadata": {},
     "output_type": "execute_result"
    },
    {
     "data": {
      "image/png": "[encoded data removed]",
      "text/plain": [
       "<Figure size 432x288 with 1 Axes>"
      ]
     },
     "metadata": {
      "needs_background": "light"
     },
     "output_type": "display_data"
    }
   ],
   "source": [
    "tab=pd.crosstab(index=dfjoin['SETOR'],columns=dfjoin['GANHO DE PRECO'])\n",
    "tab.plot.bar(stacked=True)\n"
   ]
  },
  {
   "cell_type": "code",
   "execution_count": 27,
   "metadata": {},
   "outputs": [
    {
     "data": {
      "text/html": [
       "<div>\n",
       "<style scoped>\n",
       "    .dataframe tbody tr th:only-of-type {\n",
       "        vertical-align: middle;\n",
       "    }\n",
       "\n",
       "    .dataframe tbody tr th {\n",
       "        vertical-align: top;\n",
       "    }\n",
       "\n",
       "    .dataframe thead th {\n",
       "        text-align: right;\n",
       "    }\n",
       "</style>\n",
       "<table border=\"1\" class=\"dataframe\">\n",
       "  <thead>\n",
       "    <tr style=\"text-align: right;\">\n",
       "      <th></th>\n",
       "      <th>SETOR</th>\n",
       "      <th>GANHO DE PRECO</th>\n",
       "      <th>PROPORCAO</th>\n",
       "    </tr>\n",
       "  </thead>\n",
       "  <tbody>\n",
       "    <tr>\n",
       "      <th>0</th>\n",
       "      <td>Hospital</td>\n",
       "      <td>sim</td>\n",
       "      <td>0.666667</td>\n",
       "    </tr>\n",
       "    <tr>\n",
       "      <th>1</th>\n",
       "      <td>Hospital</td>\n",
       "      <td>nao</td>\n",
       "      <td>0.333333</td>\n",
       "    </tr>\n",
       "    <tr>\n",
       "      <th>2</th>\n",
       "      <td>Hotel</td>\n",
       "      <td>nao</td>\n",
       "      <td>1.000000</td>\n",
       "    </tr>\n",
       "    <tr>\n",
       "      <th>3</th>\n",
       "      <td>Híbrido</td>\n",
       "      <td>nao</td>\n",
       "      <td>0.928571</td>\n",
       "    </tr>\n",
       "    <tr>\n",
       "      <th>4</th>\n",
       "      <td>Híbrido</td>\n",
       "      <td>sim</td>\n",
       "      <td>0.071429</td>\n",
       "    </tr>\n",
       "    <tr>\n",
       "      <th>5</th>\n",
       "      <td>Lajes Corporativas</td>\n",
       "      <td>nao</td>\n",
       "      <td>0.914286</td>\n",
       "    </tr>\n",
       "    <tr>\n",
       "      <th>6</th>\n",
       "      <td>Lajes Corporativas</td>\n",
       "      <td>sim</td>\n",
       "      <td>0.085714</td>\n",
       "    </tr>\n",
       "    <tr>\n",
       "      <th>7</th>\n",
       "      <td>Logística</td>\n",
       "      <td>nao</td>\n",
       "      <td>0.642857</td>\n",
       "    </tr>\n",
       "    <tr>\n",
       "      <th>8</th>\n",
       "      <td>Logística</td>\n",
       "      <td>sim</td>\n",
       "      <td>0.357143</td>\n",
       "    </tr>\n",
       "    <tr>\n",
       "      <th>9</th>\n",
       "      <td>Outros</td>\n",
       "      <td>nao</td>\n",
       "      <td>0.894737</td>\n",
       "    </tr>\n",
       "    <tr>\n",
       "      <th>10</th>\n",
       "      <td>Outros</td>\n",
       "      <td>sim</td>\n",
       "      <td>0.105263</td>\n",
       "    </tr>\n",
       "    <tr>\n",
       "      <th>11</th>\n",
       "      <td>Residencial</td>\n",
       "      <td>nao</td>\n",
       "      <td>1.000000</td>\n",
       "    </tr>\n",
       "    <tr>\n",
       "      <th>12</th>\n",
       "      <td>Shoppings</td>\n",
       "      <td>nao</td>\n",
       "      <td>1.000000</td>\n",
       "    </tr>\n",
       "    <tr>\n",
       "      <th>13</th>\n",
       "      <td>Títulos e Val. Mob.</td>\n",
       "      <td>nao</td>\n",
       "      <td>0.904762</td>\n",
       "    </tr>\n",
       "    <tr>\n",
       "      <th>14</th>\n",
       "      <td>Títulos e Val. Mob.</td>\n",
       "      <td>sim</td>\n",
       "      <td>0.095238</td>\n",
       "    </tr>\n",
       "  </tbody>\n",
       "</table>\n",
       "</div>"
      ],
      "text/plain": [
       "                  SETOR GANHO DE PRECO  PROPORCAO\n",
       "0              Hospital            sim   0.666667\n",
       "1              Hospital            nao   0.333333\n",
       "2                 Hotel            nao   1.000000\n",
       "3               Híbrido            nao   0.928571\n",
       "4               Híbrido            sim   0.071429\n",
       "5    Lajes Corporativas            nao   0.914286\n",
       "6    Lajes Corporativas            sim   0.085714\n",
       "7             Logística            nao   0.642857\n",
       "8             Logística            sim   0.357143\n",
       "9                Outros            nao   0.894737\n",
       "10               Outros            sim   0.105263\n",
       "11          Residencial            nao   1.000000\n",
       "12            Shoppings            nao   1.000000\n",
       "13  Títulos e Val. Mob.            nao   0.904762\n",
       "14  Títulos e Val. Mob.            sim   0.095238"
      ]
     },
     "execution_count": 27,
     "metadata": {},
     "output_type": "execute_result"
    }
   ],
   "source": [
    "results=dfjoin.groupby('SETOR')['GANHO DE PRECO'].value_counts(normalize=True).to_frame()\n",
    "results.columns=['PROPORCAO']\n",
    "results.reset_index(inplace=True)\n",
    "results"
   ]
  },
  {
   "cell_type": "code",
   "execution_count": 48,
   "metadata": {},
   "outputs": [
    {
     "data": {
      "image/png": "[encoded data removed]",
      "text/plain": [
       "<Figure size 432x288 with 1 Axes>"
      ]
     },
     "metadata": {
      "needs_background": "light"
     },
     "output_type": "display_data"
    }
   ],
   "source": [
    "sns.barplot(data=results,x='SETOR',y='PROPORCAO',hue='GANHO DE PRECO')\n",
    "\n",
    "plt.xticks(rotation=90)\n",
    "plt.show()"
   ]
  },
  {
   "cell_type": "markdown",
   "metadata": {},
   "source": [
    "Pelo gráfico acima temos que as t"
   ]
  },
  {
   "cell_type": "markdown",
   "metadata": {},
   "source": [
    "## Preço dos FIIs"
   ]
  },
  {
   "cell_type": "code",
   "execution_count": 13,
   "metadata": {},
   "outputs": [
    {
     "name": "stdout",
     "output_type": "stream",
     "text": [
      "a media de preco dos FIIs em DEZ de 2019 era: 281.13\n",
      "a media de preco dos FIIs em AGO de 2020 era: 213.36\n"
     ]
    }
   ],
   "source": [
    "print('a media de preco dos FIIs em DEZ de 2019 era: {}'.format(round(df['PREÇO ATUAL'].mean(),2)))\n",
    "print('a media de preco dos FIIs em AGO de 2020 era: {}'.format(round(df2['PREÇO ATUAL'].mean(),2)))\n"
   ]
  },
  {
   "cell_type": "code",
   "execution_count": 14,
   "metadata": {},
   "outputs": [
    {
     "data": {
      "image/png": "[encoded data removed]",
      "text/plain": [
       "<Figure size 864x288 with 2 Axes>"
      ]
     },
     "metadata": {
      "needs_background": "light"
     },
     "output_type": "display_data"
    }
   ],
   "source": [
    "plt.figure(figsize=(12,4))\n",
    "\n",
    "plt.subplot(1,2,1)\n",
    "sns.boxplot(data=df[df['PREÇO ATUAL']<500],y='PREÇO ATUAL')\n",
    "plt.xticks(rotation=90)\n",
    "plt.title('Qtd de FIIs por Setor - DEZ 2019')\n",
    "\n",
    "plt.subplot(1,2,2)\n",
    "sns.boxplot(data=df2[df2['PREÇO ATUAL']<500],y='PREÇO ATUAL')\n",
    "plt.xticks(rotation=90)\n",
    "plt.title('Qtd de FIIs por Setor - AGO 2020')\n",
    "\n",
    "plt.show()\n"
   ]
  },
  {
   "cell_type": "code",
   "execution_count": 43,
   "metadata": {},
   "outputs": [
    {
     "data": {
      "application/vnd.plotly.v1+json": {
       "config": {
        "linkText": "Export to plot.ly",
        "plotlyServerURL": "https://plot.ly",
        "showLink": true
       },
       "data": [
        {
         "histfunc": "count",
         "histnorm": "",
         "marker": {
          "color": "rgba(255, 153, 51, 1.0)",
          "line": {
           "color": "#4D5663",
           "width": 1.3
          }
         },
         "name": "PREÇO ATUAL_x",
         "opacity": 0.8,
         "orientation": "v",
         "type": "histogram",
         "x": [
          101.28,
          1575,
          118.7,
          126.5,
          109,
          2798.99,
          157.5,
          136.91,
          62.19,
          103.7,
          168.65,
          122.79,
          95,
          128.2,
          111.3,
          99.5,
          100.42,
          14.5,
          1.23,
          88.19,
          91.49,
          84.95,
          110.2,
          96,
          59.8,
          101.5,
          2533.01,
          1385.29,
          390,
          619.95,
          513.99,
          171.99,
          267,
          48,
          190.75,
          266.9,
          3554.88,
          125.6,
          115,
          71.9,
          556.01,
          198.15,
          6.21,
          5.12,
          1490,
          90.1,
          111,
          401,
          144.5,
          186.9,
          138.55,
          117.5,
          108.8,
          110.93,
          1700,
          437.99,
          139.67,
          109.87,
          285.9,
          119,
          102.98,
          180.46,
          198.7,
          167.8,
          131.98,
          243.01,
          112.2,
          191.15,
          137.97,
          95.7,
          124.53,
          90.66,
          114.63,
          130.05,
          103.9,
          114.3,
          115.4,
          6.51,
          174.75,
          124.14,
          106.9,
          2240,
          1272,
          125.44,
          110.36,
          11.49,
          244,
          12.8,
          null,
          179.23,
          94.5,
          96.4,
          109.5,
          109,
          25.9,
          126.46,
          57.99,
          108,
          3450,
          418,
          87,
          22,
          107.8,
          73.86,
          170,
          94,
          54.3,
          103.66,
          116.54,
          88,
          105.5,
          119,
          144,
          42.5,
          222,
          63.11,
          89.34,
          104.95,
          962,
          97.5,
          131.95,
          98.08,
          13.6,
          115.2,
          101,
          950,
          98.6,
          100.77,
          170.5,
          141.47,
          148.5,
          215,
          103.38,
          103.38,
          106.21,
          102.99,
          134,
          138.85,
          108,
          81.67,
          129.01,
          107.8,
          112.8,
          103,
          74,
          70.2,
          104.8,
          140.48,
          128,
          124,
          11.45
         ]
        },
        {
         "histfunc": "count",
         "histnorm": "",
         "marker": {
          "color": "rgba(55, 128, 191, 1.0)",
          "line": {
           "color": "#4D5663",
           "width": 1.3
          }
         },
         "name": "PREÇO ATUAL_y",
         "opacity": 0.8,
         "orientation": "v",
         "type": "histogram",
         "x": [
          89.9,
          1210.99,
          125.8,
          112.4,
          101,
          2218.99,
          136.01,
          144.5,
          55.02,
          86.94,
          145,
          108.35,
          92.51,
          125,
          83.85,
          89.74,
          86.22,
          17,
          0.93,
          74,
          81.7,
          62.65,
          null,
          83,
          46.45,
          89.58,
          98.6,
          1564.1,
          302.01,
          361,
          451.02,
          145.94,
          260,
          31.99,
          200,
          207.02,
          3080.16,
          110.27,
          103.01,
          62.25,
          468.51,
          190.99,
          4.69,
          3,
          1375,
          88.02,
          null,
          318,
          156.15,
          159.99,
          135.3,
          132.96,
          114.05,
          105.35,
          1348.96,
          430,
          125.98,
          114.79,
          206,
          101.44,
          100,
          180.5,
          207.98,
          139.5,
          129.25,
          196.91,
          89.5,
          121,
          150,
          73.5,
          116,
          75.7,
          98.61,
          110.45,
          88.46,
          107.62,
          110.78,
          4.2,
          158.67,
          132.72,
          87.61,
          1920,
          1250,
          124.02,
          94,
          10.5,
          277.38,
          13.55,
          null,
          146.5,
          85.48,
          95.15,
          106.87,
          null,
          16,
          86.19,
          41.55,
          99.95,
          3130,
          340,
          92.65,
          19,
          86.55,
          34,
          161.75,
          67.96,
          39.99,
          73.04,
          103.63,
          87.51,
          99.1,
          99,
          121.25,
          21.1,
          168.45,
          null,
          83.15,
          96.6,
          900.01,
          67.25,
          null,
          72.99,
          9.08,
          101.85,
          null,
          907.79,
          75.57,
          null,
          138,
          129,
          137,
          178,
          null,
          null,
          100.05,
          80.42,
          122.9,
          104.01,
          106,
          83,
          104.7,
          83.9,
          112.5,
          78,
          56.01,
          48.41,
          94.04,
          114.03,
          125.47,
          105.35,
          7.41
         ]
        }
       ],
       "layout": {
        "barmode": "overlay",
        "legend": {
         "bgcolor": "#F5F6F9",
         "font": {
          "color": "#4D5663"
         }
        },
        "paper_bgcolor": "#F5F6F9",
        "plot_bgcolor": "#F5F6F9",
        "template": {
         "data": {
          "bar": [
           {
            "error_x": {
             "color": "#2a3f5f"
            },
            "error_y": {
             "color": "#2a3f5f"
            },
            "marker": {
             "line": {
              "color": "#E5ECF6",
              "width": 0.5
             }
            },
            "type": "bar"
           }
          ],
          "barpolar": [
           {
            "marker": {
             "line": {
              "color": "#E5ECF6",
              "width": 0.5
             }
            },
            "type": "barpolar"
           }
          ],
          "carpet": [
           {
            "aaxis": {
             "endlinecolor": "#2a3f5f",
             "gridcolor": "white",
             "linecolor": "white",
             "minorgridcolor": "white",
             "startlinecolor": "#2a3f5f"
            },
            "baxis": {
             "endlinecolor": "#2a3f5f",
             "gridcolor": "white",
             "linecolor": "white",
             "minorgridcolor": "white",
             "startlinecolor": "#2a3f5f"
            },
            "type": "carpet"
           }
          ],
          "choropleth": [
           {
            "colorbar": {
             "outlinewidth": 0,
             "ticks": ""
            },
            "type": "choropleth"
           }
          ],
          "contour": [
           {
            "colorbar": {
             "outlinewidth": 0,
             "ticks": ""
            },
            "colorscale": [
             [
              0,
              "#0d0887"
             ],
             [
              0.1111111111111111,
              "#46039f"
             ],
             [
              0.2222222222222222,
              "#7201a8"
             ],
             [
              0.3333333333333333,
              "#9c179e"
             ],
             [
              0.4444444444444444,
              "#bd3786"
             ],
             [
              0.5555555555555556,
              "#d8576b"
             ],
             [
              0.6666666666666666,
              "#ed7953"
             ],
             [
              0.7777777777777778,
              "#fb9f3a"
             ],
             [
              0.8888888888888888,
              "#fdca26"
             ],
             [
              1,
              "#f0f921"
             ]
            ],
            "type": "contour"
           }
          ],
          "contourcarpet": [
           {
            "colorbar": {
             "outlinewidth": 0,
             "ticks": ""
            },
            "type": "contourcarpet"
           }
          ],
          "heatmap": [
           {
            "colorbar": {
             "outlinewidth": 0,
             "ticks": ""
            },
            "colorscale": [
             [
              0,
              "#0d0887"
             ],
             [
              0.1111111111111111,
              "#46039f"
             ],
             [
              0.2222222222222222,
              "#7201a8"
             ],
             [
              0.3333333333333333,
              "#9c179e"
             ],
             [
              0.4444444444444444,
              "#bd3786"
             ],
             [
              0.5555555555555556,
              "#d8576b"
             ],
             [
              0.6666666666666666,
              "#ed7953"
             ],
             [
              0.7777777777777778,
              "#fb9f3a"
             ],
             [
              0.8888888888888888,
              "#fdca26"
             ],
             [
              1,
              "#f0f921"
             ]
            ],
            "type": "heatmap"
           }
          ],
          "heatmapgl": [
           {
            "colorbar": {
             "outlinewidth": 0,
             "ticks": ""
            },
            "colorscale": [
             [
              0,
              "#0d0887"
             ],
             [
              0.1111111111111111,
              "#46039f"
             ],
             [
              0.2222222222222222,
              "#7201a8"
             ],
             [
              0.3333333333333333,
              "#9c179e"
             ],
             [
              0.4444444444444444,
              "#bd3786"
             ],
             [
              0.5555555555555556,
              "#d8576b"
             ],
             [
              0.6666666666666666,
              "#ed7953"
             ],
             [
              0.7777777777777778,
              "#fb9f3a"
             ],
             [
              0.8888888888888888,
              "#fdca26"
             ],
             [
              1,
              "#f0f921"
             ]
            ],
            "type": "heatmapgl"
           }
          ],
          "histogram": [
           {
            "marker": {
             "colorbar": {
              "outlinewidth": 0,
              "ticks": ""
             }
            },
            "type": "histogram"
           }
          ],
          "histogram2d": [
           {
            "colorbar": {
             "outlinewidth": 0,
             "ticks": ""
            },
            "colorscale": [
             [
              0,
              "#0d0887"
             ],
             [
              0.1111111111111111,
              "#46039f"
             ],
             [
              0.2222222222222222,
              "#7201a8"
             ],
             [
              0.3333333333333333,
              "#9c179e"
             ],
             [
              0.4444444444444444,
              "#bd3786"
             ],
             [
              0.5555555555555556,
              "#d8576b"
             ],
             [
              0.6666666666666666,
              "#ed7953"
             ],
             [
              0.7777777777777778,
              "#fb9f3a"
             ],
             [
              0.8888888888888888,
              "#fdca26"
             ],
             [
              1,
              "#f0f921"
             ]
            ],
            "type": "histogram2d"
           }
          ],
          "histogram2dcontour": [
           {
            "colorbar": {
             "outlinewidth": 0,
             "ticks": ""
            },
            "colorscale": [
             [
              0,
              "#0d0887"
             ],
             [
              0.1111111111111111,
              "#46039f"
             ],
             [
              0.2222222222222222,
              "#7201a8"
             ],
             [
              0.3333333333333333,
              "#9c179e"
             ],
             [
              0.4444444444444444,
              "#bd3786"
             ],
             [
              0.5555555555555556,
              "#d8576b"
             ],
             [
              0.6666666666666666,
              "#ed7953"
             ],
             [
              0.7777777777777778,
              "#fb9f3a"
             ],
             [
              0.8888888888888888,
              "#fdca26"
             ],
             [
              1,
              "#f0f921"
             ]
            ],
            "type": "histogram2dcontour"
           }
          ],
          "mesh3d": [
           {
            "colorbar": {
             "outlinewidth": 0,
             "ticks": ""
            },
            "type": "mesh3d"
           }
          ],
          "parcoords": [
           {
            "line": {
             "colorbar": {
              "outlinewidth": 0,
              "ticks": ""
             }
            },
            "type": "parcoords"
           }
          ],
          "pie": [
           {
            "automargin": true,
            "type": "pie"
           }
          ],
          "scatter": [
           {
            "marker": {
             "colorbar": {
              "outlinewidth": 0,
              "ticks": ""
             }
            },
            "type": "scatter"
           }
          ],
          "scatter3d": [
           {
            "line": {
             "colorbar": {
              "outlinewidth": 0,
              "ticks": ""
             }
            },
            "marker": {
             "colorbar": {
              "outlinewidth": 0,
              "ticks": ""
             }
            },
            "type": "scatter3d"
           }
          ],
          "scattercarpet": [
           {
            "marker": {
             "colorbar": {
              "outlinewidth": 0,
              "ticks": ""
             }
            },
            "type": "scattercarpet"
           }
          ],
          "scattergeo": [
           {
            "marker": {
             "colorbar": {
              "outlinewidth": 0,
              "ticks": ""
             }
            },
            "type": "scattergeo"
           }
          ],
          "scattergl": [
           {
            "marker": {
             "colorbar": {
              "outlinewidth": 0,
              "ticks": ""
             }
            },
            "type": "scattergl"
           }
          ],
          "scattermapbox": [
           {
            "marker": {
             "colorbar": {
              "outlinewidth": 0,
              "ticks": ""
             }
            },
            "type": "scattermapbox"
           }
          ],
          "scatterpolar": [
           {
            "marker": {
             "colorbar": {
              "outlinewidth": 0,
              "ticks": ""
             }
            },
            "type": "scatterpolar"
           }
          ],
          "scatterpolargl": [
           {
            "marker": {
             "colorbar": {
              "outlinewidth": 0,
              "ticks": ""
             }
            },
            "type": "scatterpolargl"
           }
          ],
          "scatterternary": [
           {
            "marker": {
             "colorbar": {
              "outlinewidth": 0,
              "ticks": ""
             }
            },
            "type": "scatterternary"
           }
          ],
          "surface": [
           {
            "colorbar": {
             "outlinewidth": 0,
             "ticks": ""
            },
            "colorscale": [
             [
              0,
              "#0d0887"
             ],
             [
              0.1111111111111111,
              "#46039f"
             ],
             [
              0.2222222222222222,
              "#7201a8"
             ],
             [
              0.3333333333333333,
              "#9c179e"
             ],
             [
              0.4444444444444444,
              "#bd3786"
             ],
             [
              0.5555555555555556,
              "#d8576b"
             ],
             [
              0.6666666666666666,
              "#ed7953"
             ],
             [
              0.7777777777777778,
              "#fb9f3a"
             ],
             [
              0.8888888888888888,
              "#fdca26"
             ],
             [
              1,
              "#f0f921"
             ]
            ],
            "type": "surface"
           }
          ],
          "table": [
           {
            "cells": {
             "fill": {
              "color": "#EBF0F8"
             },
             "line": {
              "color": "white"
             }
            },
            "header": {
             "fill": {
              "color": "#C8D4E3"
             },
             "line": {
              "color": "white"
             }
            },
            "type": "table"
           }
          ]
         },
         "layout": {
          "annotationdefaults": {
           "arrowcolor": "#2a3f5f",
           "arrowhead": 0,
           "arrowwidth": 1
          },
          "autotypenumbers": "strict",
          "coloraxis": {
           "colorbar": {
            "outlinewidth": 0,
            "ticks": ""
           }
          },
          "colorscale": {
           "diverging": [
            [
             0,
             "#8e0152"
            ],
            [
             0.1,
             "#c51b7d"
            ],
            [
             0.2,
             "#de77ae"
            ],
            [
             0.3,
             "#f1b6da"
            ],
            [
             0.4,
             "#fde0ef"
            ],
            [
             0.5,
             "#f7f7f7"
            ],
            [
             0.6,
             "#e6f5d0"
            ],
            [
             0.7,
             "#b8e186"
            ],
            [
             0.8,
             "#7fbc41"
            ],
            [
             0.9,
             "#4d9221"
            ],
            [
             1,
             "#276419"
            ]
           ],
           "sequential": [
            [
             0,
             "#0d0887"
            ],
            [
             0.1111111111111111,
             "#46039f"
            ],
            [
             0.2222222222222222,
             "#7201a8"
            ],
            [
             0.3333333333333333,
             "#9c179e"
            ],
            [
             0.4444444444444444,
             "#bd3786"
            ],
            [
             0.5555555555555556,
             "#d8576b"
            ],
            [
             0.6666666666666666,
             "#ed7953"
            ],
            [
             0.7777777777777778,
             "#fb9f3a"
            ],
            [
             0.8888888888888888,
             "#fdca26"
            ],
            [
             1,
             "#f0f921"
            ]
           ],
           "sequentialminus": [
            [
             0,
             "#0d0887"
            ],
            [
             0.1111111111111111,
             "#46039f"
            ],
            [
             0.2222222222222222,
             "#7201a8"
            ],
            [
             0.3333333333333333,
             "#9c179e"
            ],
            [
             0.4444444444444444,
             "#bd3786"
            ],
            [
             0.5555555555555556,
             "#d8576b"
            ],
            [
             0.6666666666666666,
             "#ed7953"
            ],
            [
             0.7777777777777778,
             "#fb9f3a"
            ],
            [
             0.8888888888888888,
             "#fdca26"
            ],
            [
             1,
             "#f0f921"
            ]
           ]
          },
          "colorway": [
           "#636efa",
           "#EF553B",
           "#00cc96",
           "#ab63fa",
           "#FFA15A",
           "#19d3f3",
           "#FF6692",
           "#B6E880",
           "#FF97FF",
           "#FECB52"
          ],
          "font": {
           "color": "#2a3f5f"
          },
          "geo": {
           "bgcolor": "white",
           "lakecolor": "white",
           "landcolor": "#E5ECF6",
           "showlakes": true,
           "showland": true,
           "subunitcolor": "white"
          },
          "hoverlabel": {
           "align": "left"
          },
          "hovermode": "closest",
          "mapbox": {
           "style": "light"
          },
          "paper_bgcolor": "white",
          "plot_bgcolor": "#E5ECF6",
          "polar": {
           "angularaxis": {
            "gridcolor": "white",
            "linecolor": "white",
            "ticks": ""
           },
           "bgcolor": "#E5ECF6",
           "radialaxis": {
            "gridcolor": "white",
            "linecolor": "white",
            "ticks": ""
           }
          },
          "scene": {
           "xaxis": {
            "backgroundcolor": "#E5ECF6",
            "gridcolor": "white",
            "gridwidth": 2,
            "linecolor": "white",
            "showbackground": true,
            "ticks": "",
            "zerolinecolor": "white"
           },
           "yaxis": {
            "backgroundcolor": "#E5ECF6",
            "gridcolor": "white",
            "gridwidth": 2,
            "linecolor": "white",
            "showbackground": true,
            "ticks": "",
            "zerolinecolor": "white"
           },
           "zaxis": {
            "backgroundcolor": "#E5ECF6",
            "gridcolor": "white",
            "gridwidth": 2,
            "linecolor": "white",
            "showbackground": true,
            "ticks": "",
            "zerolinecolor": "white"
           }
          },
          "shapedefaults": {
           "line": {
            "color": "#2a3f5f"
           }
          },
          "ternary": {
           "aaxis": {
            "gridcolor": "white",
            "linecolor": "white",
            "ticks": ""
           },
           "baxis": {
            "gridcolor": "white",
            "linecolor": "white",
            "ticks": ""
           },
           "bgcolor": "#E5ECF6",
           "caxis": {
            "gridcolor": "white",
            "linecolor": "white",
            "ticks": ""
           }
          },
          "title": {
           "x": 0.05
          },
          "xaxis": {
           "automargin": true,
           "gridcolor": "white",
           "linecolor": "white",
           "ticks": "",
           "title": {
            "standoff": 15
           },
           "zerolinecolor": "white",
           "zerolinewidth": 2
          },
          "yaxis": {
           "automargin": true,
           "gridcolor": "white",
           "linecolor": "white",
           "ticks": "",
           "title": {
            "standoff": 15
           },
           "zerolinecolor": "white",
           "zerolinewidth": 2
          }
         }
        },
        "title": {
         "font": {
          "color": "#4D5663"
         }
        },
        "xaxis": {
         "gridcolor": "#E1E5ED",
         "showgrid": true,
         "tickfont": {
          "color": "#4D5663"
         },
         "title": {
          "font": {
           "color": "#4D5663"
          },
          "text": ""
         },
         "zerolinecolor": "#E1E5ED"
        },
        "yaxis": {
         "gridcolor": "#E1E5ED",
         "showgrid": true,
         "tickfont": {
          "color": "#4D5663"
         },
         "title": {
          "font": {
           "color": "#4D5663"
          },
          "text": ""
         },
         "zerolinecolor": "#E1E5ED"
        }
       }
      },
      "text/html": [
       "<div>                            <div id=\"9c888adc-52c8-477a-9067-c46617397cbe\" class=\"plotly-graph-div\" style=\"height:525px; width:100%;\"></div>            <script type=\"text/javascript\">                require([\"plotly\"], function(Plotly) {                    window.PLOTLYENV=window.PLOTLYENV || {};\n",
       "                    window.PLOTLYENV.BASE_URL='https://plot.ly';                                    if (document.getElementById(\"9c888adc-52c8-477a-9067-c46617397cbe\")) {                    Plotly.newPlot(                        \"9c888adc-52c8-477a-9067-c46617397cbe\",                        [{\"histfunc\": \"count\", \"histnorm\": \"\", \"marker\": {\"color\": \"rgba(255, 153, 51, 1.0)\", \"line\": {\"color\": \"#4D5663\", \"width\": 1.3}}, \"name\": \"PRE\\u00c7O ATUAL_x\", \"opacity\": 0.8, \"orientation\": \"v\", \"type\": \"histogram\", \"x\": [101.28, 1575.0, 118.7, 126.5, 109.0, 2798.99, 157.5, 136.91, 62.19, 103.7, 168.65, 122.79, 95.0, 128.2, 111.3, 99.5, 100.42, 14.5, 1.23, 88.19, 91.49, 84.95, 110.2, 96.0, 59.8, 101.5, 2533.01, 1385.29, 390.0, 619.95, 513.99, 171.99, 267.0, 48.0, 190.75, 266.9, 3554.88, 125.6, 115.0, 71.9, 556.01, 198.15, 6.21, 5.12, 1490.0, 90.1, 111.0, 401.0, 144.5, 186.9, 138.55, 117.5, 108.8, 110.93, 1700.0, 437.99, 139.67, 109.87, 285.9, 119.0, 102.98, 180.46, 198.7, 167.8, 131.98, 243.01, 112.2, 191.15, 137.97, 95.7, 124.53, 90.66, 114.63, 130.05, 103.9, 114.3, 115.4, 6.51, 174.75, 124.14, 106.9, 2240.0, 1272.0, 125.44, 110.36, 11.49, 244.0, 12.8, null, 179.23, 94.5, 96.4, 109.5, 109.0, 25.9, 126.46, 57.99, 108.0, 3450.0, 418.0, 87.0, 22.0, 107.8, 73.86, 170.0, 94.0, 54.3, 103.66, 116.54, 88.0, 105.5, 119.0, 144.0, 42.5, 222.0, 63.11, 89.34, 104.95, 962.0, 97.5, 131.95, 98.08, 13.6, 115.2, 101.0, 950.0, 98.6, 100.77, 170.5, 141.47, 148.5, 215.0, 103.38, 103.38, 106.21, 102.99, 134.0, 138.85, 108.0, 81.67, 129.01, 107.8, 112.8, 103.0, 74.0, 70.2, 104.8, 140.48, 128.0, 124.0, 11.45]}, {\"histfunc\": \"count\", \"histnorm\": \"\", \"marker\": {\"color\": \"rgba(55, 128, 191, 1.0)\", \"line\": {\"color\": \"#4D5663\", \"width\": 1.3}}, \"name\": \"PRE\\u00c7O ATUAL_y\", \"opacity\": 0.8, \"orientation\": \"v\", \"type\": \"histogram\", \"x\": [89.9, 1210.99, 125.8, 112.4, 101.0, 2218.99, 136.01, 144.5, 55.02, 86.94, 145.0, 108.35, 92.51, 125.0, 83.85, 89.74, 86.22, 17.0, 0.93, 74.0, 81.7, 62.65, null, 83.0, 46.45, 89.58, 98.6, 1564.1, 302.01, 361.0, 451.02, 145.94, 260.0, 31.99, 200.0, 207.02, 3080.16, 110.27, 103.01, 62.25, 468.51, 190.99, 4.69, 3.0, 1375.0, 88.02, null, 318.0, 156.15, 159.99, 135.3, 132.96, 114.05, 105.35, 1348.96, 430.0, 125.98, 114.79, 206.0, 101.44, 100.0, 180.5, 207.98, 139.5, 129.25, 196.91, 89.5, 121.0, 150.0, 73.5, 116.0, 75.7, 98.61, 110.45, 88.46, 107.62, 110.78, 4.2, 158.67, 132.72, 87.61, 1920.0, 1250.0, 124.02, 94.0, 10.5, 277.38, 13.55, null, 146.5, 85.48, 95.15, 106.87, null, 16.0, 86.19, 41.55, 99.95, 3130.0, 340.0, 92.65, 19.0, 86.55, 34.0, 161.75, 67.96, 39.99, 73.04, 103.63, 87.51, 99.1, 99.0, 121.25, 21.1, 168.45, null, 83.15, 96.6, 900.01, 67.25, null, 72.99, 9.08, 101.85, null, 907.79, 75.57, null, 138.0, 129.0, 137.0, 178.0, null, null, 100.05, 80.42, 122.9, 104.01, 106.0, 83.0, 104.7, 83.9, 112.5, 78.0, 56.01, 48.41, 94.04, 114.03, 125.47, 105.35, 7.41]}],                        {\"barmode\": \"overlay\", \"legend\": {\"bgcolor\": \"#F5F6F9\", \"font\": {\"color\": \"#4D5663\"}}, \"paper_bgcolor\": \"#F5F6F9\", \"plot_bgcolor\": \"#F5F6F9\", \"template\": {\"data\": {\"bar\": [{\"error_x\": {\"color\": \"#2a3f5f\"}, \"error_y\": {\"color\": \"#2a3f5f\"}, \"marker\": {\"line\": {\"color\": \"#E5ECF6\", \"width\": 0.5}}, \"type\": \"bar\"}], \"barpolar\": [{\"marker\": {\"line\": {\"color\": \"#E5ECF6\", \"width\": 0.5}}, \"type\": \"barpolar\"}], \"carpet\": [{\"aaxis\": {\"endlinecolor\": \"#2a3f5f\", \"gridcolor\": \"white\", \"linecolor\": \"white\", \"minorgridcolor\": \"white\", \"startlinecolor\": \"#2a3f5f\"}, \"baxis\": {\"endlinecolor\": \"#2a3f5f\", \"gridcolor\": \"white\", \"linecolor\": \"white\", \"minorgridcolor\": \"white\", \"startlinecolor\": \"#2a3f5f\"}, \"type\": \"carpet\"}], \"choropleth\": [{\"colorbar\": {\"outlinewidth\": 0, \"ticks\": \"\"}, \"type\": \"choropleth\"}], \"contour\": [{\"colorbar\": {\"outlinewidth\": 0, \"ticks\": \"\"}, \"colorscale\": [[0.0, \"#0d0887\"], [0.1111111111111111, \"#46039f\"], [0.2222222222222222, \"#7201a8\"], [0.3333333333333333, \"#9c179e\"], [0.4444444444444444, \"#bd3786\"], [0.5555555555555556, \"#d8576b\"], [0.6666666666666666, \"#ed7953\"], [0.7777777777777778, \"#fb9f3a\"], [0.8888888888888888, \"#fdca26\"], [1.0, \"#f0f921\"]], \"type\": \"contour\"}], \"contourcarpet\": [{\"colorbar\": {\"outlinewidth\": 0, \"ticks\": \"\"}, \"type\": \"contourcarpet\"}], \"heatmap\": [{\"colorbar\": {\"outlinewidth\": 0, \"ticks\": \"\"}, \"colorscale\": [[0.0, \"#0d0887\"], [0.1111111111111111, \"#46039f\"], [0.2222222222222222, \"#7201a8\"], [0.3333333333333333, \"#9c179e\"], [0.4444444444444444, \"#bd3786\"], [0.5555555555555556, \"#d8576b\"], [0.6666666666666666, \"#ed7953\"], [0.7777777777777778, \"#fb9f3a\"], [0.8888888888888888, \"#fdca26\"], [1.0, \"#f0f921\"]], \"type\": \"heatmap\"}], \"heatmapgl\": [{\"colorbar\": {\"outlinewidth\": 0, \"ticks\": \"\"}, \"colorscale\": [[0.0, \"#0d0887\"], [0.1111111111111111, \"#46039f\"], [0.2222222222222222, \"#7201a8\"], [0.3333333333333333, \"#9c179e\"], [0.4444444444444444, \"#bd3786\"], [0.5555555555555556, \"#d8576b\"], [0.6666666666666666, \"#ed7953\"], [0.7777777777777778, \"#fb9f3a\"], [0.8888888888888888, \"#fdca26\"], [1.0, \"#f0f921\"]], \"type\": \"heatmapgl\"}], \"histogram\": [{\"marker\": {\"colorbar\": {\"outlinewidth\": 0, \"ticks\": \"\"}}, \"type\": \"histogram\"}], \"histogram2d\": [{\"colorbar\": {\"outlinewidth\": 0, \"ticks\": \"\"}, \"colorscale\": [[0.0, \"#0d0887\"], [0.1111111111111111, \"#46039f\"], [0.2222222222222222, \"#7201a8\"], [0.3333333333333333, \"#9c179e\"], [0.4444444444444444, \"#bd3786\"], [0.5555555555555556, \"#d8576b\"], [0.6666666666666666, \"#ed7953\"], [0.7777777777777778, \"#fb9f3a\"], [0.8888888888888888, \"#fdca26\"], [1.0, \"#f0f921\"]], \"type\": \"histogram2d\"}], \"histogram2dcontour\": [{\"colorbar\": {\"outlinewidth\": 0, \"ticks\": \"\"}, \"colorscale\": [[0.0, \"#0d0887\"], [0.1111111111111111, \"#46039f\"], [0.2222222222222222, \"#7201a8\"], [0.3333333333333333, \"#9c179e\"], [0.4444444444444444, \"#bd3786\"], [0.5555555555555556, \"#d8576b\"], [0.6666666666666666, \"#ed7953\"], [0.7777777777777778, \"#fb9f3a\"], [0.8888888888888888, \"#fdca26\"], [1.0, \"#f0f921\"]], \"type\": \"histogram2dcontour\"}], \"mesh3d\": [{\"colorbar\": {\"outlinewidth\": 0, \"ticks\": \"\"}, \"type\": \"mesh3d\"}], \"parcoords\": [{\"line\": {\"colorbar\": {\"outlinewidth\": 0, \"ticks\": \"\"}}, \"type\": \"parcoords\"}], \"pie\": [{\"automargin\": true, \"type\": \"pie\"}], \"scatter\": [{\"marker\": {\"colorbar\": {\"outlinewidth\": 0, \"ticks\": \"\"}}, \"type\": \"scatter\"}], \"scatter3d\": [{\"line\": {\"colorbar\": {\"outlinewidth\": 0, \"ticks\": \"\"}}, \"marker\": {\"colorbar\": {\"outlinewidth\": 0, \"ticks\": \"\"}}, \"type\": \"scatter3d\"}], \"scattercarpet\": [{\"marker\": {\"colorbar\": {\"outlinewidth\": 0, \"ticks\": \"\"}}, \"type\": \"scattercarpet\"}], \"scattergeo\": [{\"marker\": {\"colorbar\": {\"outlinewidth\": 0, \"ticks\": \"\"}}, \"type\": \"scattergeo\"}], \"scattergl\": [{\"marker\": {\"colorbar\": {\"outlinewidth\": 0, \"ticks\": \"\"}}, \"type\": \"scattergl\"}], \"scattermapbox\": [{\"marker\": {\"colorbar\": {\"outlinewidth\": 0, \"ticks\": \"\"}}, \"type\": \"scattermapbox\"}], \"scatterpolar\": [{\"marker\": {\"colorbar\": {\"outlinewidth\": 0, \"ticks\": \"\"}}, \"type\": \"scatterpolar\"}], \"scatterpolargl\": [{\"marker\": {\"colorbar\": {\"outlinewidth\": 0, \"ticks\": \"\"}}, \"type\": \"scatterpolargl\"}], \"scatterternary\": [{\"marker\": {\"colorbar\": {\"outlinewidth\": 0, \"ticks\": \"\"}}, \"type\": \"scatterternary\"}], \"surface\": [{\"colorbar\": {\"outlinewidth\": 0, \"ticks\": \"\"}, \"colorscale\": [[0.0, \"#0d0887\"], [0.1111111111111111, \"#46039f\"], [0.2222222222222222, \"#7201a8\"], [0.3333333333333333, \"#9c179e\"], [0.4444444444444444, \"#bd3786\"], [0.5555555555555556, \"#d8576b\"], [0.6666666666666666, \"#ed7953\"], [0.7777777777777778, \"#fb9f3a\"], [0.8888888888888888, \"#fdca26\"], [1.0, \"#f0f921\"]], \"type\": \"surface\"}], \"table\": [{\"cells\": {\"fill\": {\"color\": \"#EBF0F8\"}, \"line\": {\"color\": \"white\"}}, \"header\": {\"fill\": {\"color\": \"#C8D4E3\"}, \"line\": {\"color\": \"white\"}}, \"type\": \"table\"}]}, \"layout\": {\"annotationdefaults\": {\"arrowcolor\": \"#2a3f5f\", \"arrowhead\": 0, \"arrowwidth\": 1}, \"autotypenumbers\": \"strict\", \"coloraxis\": {\"colorbar\": {\"outlinewidth\": 0, \"ticks\": \"\"}}, \"colorscale\": {\"diverging\": [[0, \"#8e0152\"], [0.1, \"#c51b7d\"], [0.2, \"#de77ae\"], [0.3, \"#f1b6da\"], [0.4, \"#fde0ef\"], [0.5, \"#f7f7f7\"], [0.6, \"#e6f5d0\"], [0.7, \"#b8e186\"], [0.8, \"#7fbc41\"], [0.9, \"#4d9221\"], [1, \"#276419\"]], \"sequential\": [[0.0, \"#0d0887\"], [0.1111111111111111, \"#46039f\"], [0.2222222222222222, \"#7201a8\"], [0.3333333333333333, \"#9c179e\"], [0.4444444444444444, \"#bd3786\"], [0.5555555555555556, \"#d8576b\"], [0.6666666666666666, \"#ed7953\"], [0.7777777777777778, \"#fb9f3a\"], [0.8888888888888888, \"#fdca26\"], [1.0, \"#f0f921\"]], \"sequentialminus\": [[0.0, \"#0d0887\"], [0.1111111111111111, \"#46039f\"], [0.2222222222222222, \"#7201a8\"], [0.3333333333333333, \"#9c179e\"], [0.4444444444444444, \"#bd3786\"], [0.5555555555555556, \"#d8576b\"], [0.6666666666666666, \"#ed7953\"], [0.7777777777777778, \"#fb9f3a\"], [0.8888888888888888, \"#fdca26\"], [1.0, \"#f0f921\"]]}, \"colorway\": [\"#636efa\", \"#EF553B\", \"#00cc96\", \"#ab63fa\", \"#FFA15A\", \"#19d3f3\", \"#FF6692\", \"#B6E880\", \"#FF97FF\", \"#FECB52\"], \"font\": {\"color\": \"#2a3f5f\"}, \"geo\": {\"bgcolor\": \"white\", \"lakecolor\": \"white\", \"landcolor\": \"#E5ECF6\", \"showlakes\": true, \"showland\": true, \"subunitcolor\": \"white\"}, \"hoverlabel\": {\"align\": \"left\"}, \"hovermode\": \"closest\", \"mapbox\": {\"style\": \"light\"}, \"paper_bgcolor\": \"white\", \"plot_bgcolor\": \"#E5ECF6\", \"polar\": {\"angularaxis\": {\"gridcolor\": \"white\", \"linecolor\": \"white\", \"ticks\": \"\"}, \"bgcolor\": \"#E5ECF6\", \"radialaxis\": {\"gridcolor\": \"white\", \"linecolor\": \"white\", \"ticks\": \"\"}}, \"scene\": {\"xaxis\": {\"backgroundcolor\": \"#E5ECF6\", \"gridcolor\": \"white\", \"gridwidth\": 2, \"linecolor\": \"white\", \"showbackground\": true, \"ticks\": \"\", \"zerolinecolor\": \"white\"}, \"yaxis\": {\"backgroundcolor\": \"#E5ECF6\", \"gridcolor\": \"white\", \"gridwidth\": 2, \"linecolor\": \"white\", \"showbackground\": true, \"ticks\": \"\", \"zerolinecolor\": \"white\"}, \"zaxis\": {\"backgroundcolor\": \"#E5ECF6\", \"gridcolor\": \"white\", \"gridwidth\": 2, \"linecolor\": \"white\", \"showbackground\": true, \"ticks\": \"\", \"zerolinecolor\": \"white\"}}, \"shapedefaults\": {\"line\": {\"color\": \"#2a3f5f\"}}, \"ternary\": {\"aaxis\": {\"gridcolor\": \"white\", \"linecolor\": \"white\", \"ticks\": \"\"}, \"baxis\": {\"gridcolor\": \"white\", \"linecolor\": \"white\", \"ticks\": \"\"}, \"bgcolor\": \"#E5ECF6\", \"caxis\": {\"gridcolor\": \"white\", \"linecolor\": \"white\", \"ticks\": \"\"}}, \"title\": {\"x\": 0.05}, \"xaxis\": {\"automargin\": true, \"gridcolor\": \"white\", \"linecolor\": \"white\", \"ticks\": \"\", \"title\": {\"standoff\": 15}, \"zerolinecolor\": \"white\", \"zerolinewidth\": 2}, \"yaxis\": {\"automargin\": true, \"gridcolor\": \"white\", \"linecolor\": \"white\", \"ticks\": \"\", \"title\": {\"standoff\": 15}, \"zerolinecolor\": \"white\", \"zerolinewidth\": 2}}}, \"title\": {\"font\": {\"color\": \"#4D5663\"}}, \"xaxis\": {\"gridcolor\": \"#E1E5ED\", \"showgrid\": true, \"tickfont\": {\"color\": \"#4D5663\"}, \"title\": {\"font\": {\"color\": \"#4D5663\"}, \"text\": \"\"}, \"zerolinecolor\": \"#E1E5ED\"}, \"yaxis\": {\"gridcolor\": \"#E1E5ED\", \"showgrid\": true, \"tickfont\": {\"color\": \"#4D5663\"}, \"title\": {\"font\": {\"color\": \"#4D5663\"}, \"text\": \"\"}, \"zerolinecolor\": \"#E1E5ED\"}},                        {\"showLink\": true, \"linkText\": \"Export to plot.ly\", \"plotlyServerURL\": \"https://plot.ly\", \"responsive\": true}                    ).then(function(){\n",
       "                            \n",
       "var gd = document.getElementById('9c888adc-52c8-477a-9067-c46617397cbe');\n",
       "var x = new MutationObserver(function (mutations, observer) {{\n",
       "        var display = window.getComputedStyle(gd).display;\n",
       "        if (!display || display === 'none') {{\n",
       "            console.log([gd, 'removed!']);\n",
       "            Plotly.purge(gd);\n",
       "            observer.disconnect();\n",
       "        }}\n",
       "}});\n",
       "\n",
       "// Listen for the removal of the full notebook cells\n",
       "var notebookContainer = gd.closest('#notebook-container');\n",
       "if (notebookContainer) {{\n",
       "    x.observe(notebookContainer, {childList: true});\n",
       "}}\n",
       "\n",
       "// Listen for the clearing of the current output cell\n",
       "var outputEl = gd.closest('.output');\n",
       "if (outputEl) {{\n",
       "    x.observe(outputEl, {childList: true});\n",
       "}}\n",
       "\n",
       "                        })                };                });            </script>        </div>"
      ]
     },
     "metadata": {},
     "output_type": "display_data"
    }
   ],
   "source": [
    "dfjoin[['PREÇO ATUAL_x','PREÇO ATUAL_y']].iplot(kind='histogram')"
   ]
  },
  {
   "cell_type": "markdown",
   "metadata": {
    "scrolled": true
   },
   "source": [
    "Pelas médias e distribuições dos valores não houve muita alteração de preço comparando os dois períodos"
   ]
  },
  {
   "cell_type": "markdown",
   "metadata": {},
   "source": [
    "## Liquidez diária"
   ]
  },
  {
   "cell_type": "code",
   "execution_count": 44,
   "metadata": {},
   "outputs": [],
   "source": [
    "a1=df.groupby('SETOR')['LIQUIDEZ DIÁRIA'].median().to_frame()\n",
    "a2=df2.groupby('SETOR')['LIQUIDEZ DIÁRIA'].median().to_frame()\n",
    "a3=pd.merge(a1,a2,how='left',on='SETOR')\n",
    "a3.reset_index(inplace=True)\n",
    "a3.columns=['SETOR','LIQUIDEZ DIÁRIA ANTES','LIQUIDEZ DIÁRIA DEPOIS']"
   ]
  },
  {
   "cell_type": "code",
   "execution_count": 45,
   "metadata": {},
   "outputs": [
    {
     "data": {
      "text/html": [
       "<div>\n",
       "<style scoped>\n",
       "    .dataframe tbody tr th:only-of-type {\n",
       "        vertical-align: middle;\n",
       "    }\n",
       "\n",
       "    .dataframe tbody tr th {\n",
       "        vertical-align: top;\n",
       "    }\n",
       "\n",
       "    .dataframe thead th {\n",
       "        text-align: right;\n",
       "    }\n",
       "</style>\n",
       "<table border=\"1\" class=\"dataframe\">\n",
       "  <thead>\n",
       "    <tr style=\"text-align: right;\">\n",
       "      <th></th>\n",
       "      <th>SETOR</th>\n",
       "      <th>LIQUIDEZ DIÁRIA ANTES</th>\n",
       "      <th>LIQUIDEZ DIÁRIA DEPOIS</th>\n",
       "    </tr>\n",
       "  </thead>\n",
       "  <tbody>\n",
       "    <tr>\n",
       "      <th>0</th>\n",
       "      <td>Hospital</td>\n",
       "      <td>532.0</td>\n",
       "      <td>415.0</td>\n",
       "    </tr>\n",
       "    <tr>\n",
       "      <th>1</th>\n",
       "      <td>Hotel</td>\n",
       "      <td>1665.0</td>\n",
       "      <td>34.0</td>\n",
       "    </tr>\n",
       "    <tr>\n",
       "      <th>2</th>\n",
       "      <td>Híbrido</td>\n",
       "      <td>14703.0</td>\n",
       "      <td>4480.0</td>\n",
       "    </tr>\n",
       "    <tr>\n",
       "      <th>3</th>\n",
       "      <td>Lajes Corporativas</td>\n",
       "      <td>1743.0</td>\n",
       "      <td>1019.0</td>\n",
       "    </tr>\n",
       "    <tr>\n",
       "      <th>4</th>\n",
       "      <td>Logística</td>\n",
       "      <td>9562.5</td>\n",
       "      <td>9504.5</td>\n",
       "    </tr>\n",
       "    <tr>\n",
       "      <th>5</th>\n",
       "      <td>Outros</td>\n",
       "      <td>681.5</td>\n",
       "      <td>3396.0</td>\n",
       "    </tr>\n",
       "    <tr>\n",
       "      <th>6</th>\n",
       "      <td>Residencial</td>\n",
       "      <td>799.0</td>\n",
       "      <td>551.0</td>\n",
       "    </tr>\n",
       "    <tr>\n",
       "      <th>7</th>\n",
       "      <td>Shoppings</td>\n",
       "      <td>1814.0</td>\n",
       "      <td>332.0</td>\n",
       "    </tr>\n",
       "    <tr>\n",
       "      <th>8</th>\n",
       "      <td>Títulos e Val. Mob.</td>\n",
       "      <td>4170.0</td>\n",
       "      <td>4298.5</td>\n",
       "    </tr>\n",
       "  </tbody>\n",
       "</table>\n",
       "</div>"
      ],
      "text/plain": [
       "                 SETOR  LIQUIDEZ DIÁRIA ANTES  LIQUIDEZ DIÁRIA DEPOIS\n",
       "0             Hospital                  532.0                   415.0\n",
       "1                Hotel                 1665.0                    34.0\n",
       "2              Híbrido                14703.0                  4480.0\n",
       "3   Lajes Corporativas                 1743.0                  1019.0\n",
       "4            Logística                 9562.5                  9504.5\n",
       "5               Outros                  681.5                  3396.0\n",
       "6          Residencial                  799.0                   551.0\n",
       "7            Shoppings                 1814.0                   332.0\n",
       "8  Títulos e Val. Mob.                 4170.0                  4298.5"
      ]
     },
     "execution_count": 45,
     "metadata": {},
     "output_type": "execute_result"
    }
   ],
   "source": [
    "a3"
   ]
  },
  {
   "cell_type": "markdown",
   "metadata": {},
   "source": [
    "Pela tabela acima pode-se observar que apenas os setor de hospital, lajes coorporativas, "
   ]
  },
  {
   "cell_type": "code",
   "execution_count": 48,
   "metadata": {},
   "outputs": [
    {
     "data": {
      "application/vnd.plotly.v1+json": {
       "config": {
        "plotlyServerURL": "https://plot.ly"
       },
       "data": [
        {
         "alignmentgroup": "True",
         "hovertemplate": "variable=LIQUIDEZ DIÁRIA ANTES<br>SETOR=%{x}<br>value=%{y}<extra></extra>",
         "legendgroup": "LIQUIDEZ DIÁRIA ANTES",
         "marker": {
          "color": "#636efa"
         },
         "name": "LIQUIDEZ DIÁRIA ANTES",
         "offsetgroup": "LIQUIDEZ DIÁRIA ANTES",
         "orientation": "v",
         "showlegend": true,
         "textposition": "auto",
         "type": "bar",
         "x": [
          "Hospital",
          "Hotel",
          "Híbrido",
          "Lajes Corporativas",
          "Logística",
          "Outros",
          "Residencial",
          "Shoppings",
          "Títulos e Val. Mob."
         ],
         "xaxis": "x",
         "y": [
          532,
          1665,
          14703,
          1743,
          9562.5,
          681.5,
          799,
          1814,
          4170
         ],
         "yaxis": "y"
        },
        {
         "alignmentgroup": "True",
         "hovertemplate": "variable=LIQUIDEZ DIÁRIA DEPOIS<br>SETOR=%{x}<br>value=%{y}<extra></extra>",
         "legendgroup": "LIQUIDEZ DIÁRIA DEPOIS",
         "marker": {
          "color": "#EF553B"
         },
         "name": "LIQUIDEZ DIÁRIA DEPOIS",
         "offsetgroup": "LIQUIDEZ DIÁRIA DEPOIS",
         "orientation": "v",
         "showlegend": true,
         "textposition": "auto",
         "type": "bar",
         "x": [
          "Hospital",
          "Hotel",
          "Híbrido",
          "Lajes Corporativas",
          "Logística",
          "Outros",
          "Residencial",
          "Shoppings",
          "Títulos e Val. Mob."
         ],
         "xaxis": "x",
         "y": [
          415,
          34,
          4480,
          1019,
          9504.5,
          3396,
          551,
          332,
          4298.5
         ],
         "yaxis": "y"
        }
       ],
       "layout": {
        "barmode": "relative",
        "legend": {
         "title": {
          "text": "variable"
         },
         "tracegroupgap": 0
        },
        "margin": {
         "t": 60
        },
        "template": {
         "data": {
          "bar": [
           {
            "error_x": {
             "color": "#2a3f5f"
            },
            "error_y": {
             "color": "#2a3f5f"
            },
            "marker": {
             "line": {
              "color": "#E5ECF6",
              "width": 0.5
             }
            },
            "type": "bar"
           }
          ],
          "barpolar": [
           {
            "marker": {
             "line": {
              "color": "#E5ECF6",
              "width": 0.5
             }
            },
            "type": "barpolar"
           }
          ],
          "carpet": [
           {
            "aaxis": {
             "endlinecolor": "#2a3f5f",
             "gridcolor": "white",
             "linecolor": "white",
             "minorgridcolor": "white",
             "startlinecolor": "#2a3f5f"
            },
            "baxis": {
             "endlinecolor": "#2a3f5f",
             "gridcolor": "white",
             "linecolor": "white",
             "minorgridcolor": "white",
             "startlinecolor": "#2a3f5f"
            },
            "type": "carpet"
           }
          ],
          "choropleth": [
           {
            "colorbar": {
             "outlinewidth": 0,
             "ticks": ""
            },
            "type": "choropleth"
           }
          ],
          "contour": [
           {
            "colorbar": {
             "outlinewidth": 0,
             "ticks": ""
            },
            "colorscale": [
             [
              0,
              "#0d0887"
             ],
             [
              0.1111111111111111,
              "#46039f"
             ],
             [
              0.2222222222222222,
              "#7201a8"
             ],
             [
              0.3333333333333333,
              "#9c179e"
             ],
             [
              0.4444444444444444,
              "#bd3786"
             ],
             [
              0.5555555555555556,
              "#d8576b"
             ],
             [
              0.6666666666666666,
              "#ed7953"
             ],
             [
              0.7777777777777778,
              "#fb9f3a"
             ],
             [
              0.8888888888888888,
              "#fdca26"
             ],
             [
              1,
              "#f0f921"
             ]
            ],
            "type": "contour"
           }
          ],
          "contourcarpet": [
           {
            "colorbar": {
             "outlinewidth": 0,
             "ticks": ""
            },
            "type": "contourcarpet"
           }
          ],
          "heatmap": [
           {
            "colorbar": {
             "outlinewidth": 0,
             "ticks": ""
            },
            "colorscale": [
             [
              0,
              "#0d0887"
             ],
             [
              0.1111111111111111,
              "#46039f"
             ],
             [
              0.2222222222222222,
              "#7201a8"
             ],
             [
              0.3333333333333333,
              "#9c179e"
             ],
             [
              0.4444444444444444,
              "#bd3786"
             ],
             [
              0.5555555555555556,
              "#d8576b"
             ],
             [
              0.6666666666666666,
              "#ed7953"
             ],
             [
              0.7777777777777778,
              "#fb9f3a"
             ],
             [
              0.8888888888888888,
              "#fdca26"
             ],
             [
              1,
              "#f0f921"
             ]
            ],
            "type": "heatmap"
           }
          ],
          "heatmapgl": [
           {
            "colorbar": {
             "outlinewidth": 0,
             "ticks": ""
            },
            "colorscale": [
             [
              0,
              "#0d0887"
             ],
             [
              0.1111111111111111,
              "#46039f"
             ],
             [
              0.2222222222222222,
              "#7201a8"
             ],
             [
              0.3333333333333333,
              "#9c179e"
             ],
             [
              0.4444444444444444,
              "#bd3786"
             ],
             [
              0.5555555555555556,
              "#d8576b"
             ],
             [
              0.6666666666666666,
              "#ed7953"
             ],
             [
              0.7777777777777778,
              "#fb9f3a"
             ],
             [
              0.8888888888888888,
              "#fdca26"
             ],
             [
              1,
              "#f0f921"
             ]
            ],
            "type": "heatmapgl"
           }
          ],
          "histogram": [
           {
            "marker": {
             "colorbar": {
              "outlinewidth": 0,
              "ticks": ""
             }
            },
            "type": "histogram"
           }
          ],
          "histogram2d": [
           {
            "colorbar": {
             "outlinewidth": 0,
             "ticks": ""
            },
            "colorscale": [
             [
              0,
              "#0d0887"
             ],
             [
              0.1111111111111111,
              "#46039f"
             ],
             [
              0.2222222222222222,
              "#7201a8"
             ],
             [
              0.3333333333333333,
              "#9c179e"
             ],
             [
              0.4444444444444444,
              "#bd3786"
             ],
             [
              0.5555555555555556,
              "#d8576b"
             ],
             [
              0.6666666666666666,
              "#ed7953"
             ],
             [
              0.7777777777777778,
              "#fb9f3a"
             ],
             [
              0.8888888888888888,
              "#fdca26"
             ],
             [
              1,
              "#f0f921"
             ]
            ],
            "type": "histogram2d"
           }
          ],
          "histogram2dcontour": [
           {
            "colorbar": {
             "outlinewidth": 0,
             "ticks": ""
            },
            "colorscale": [
             [
              0,
              "#0d0887"
             ],
             [
              0.1111111111111111,
              "#46039f"
             ],
             [
              0.2222222222222222,
              "#7201a8"
             ],
             [
              0.3333333333333333,
              "#9c179e"
             ],
             [
              0.4444444444444444,
              "#bd3786"
             ],
             [
              0.5555555555555556,
              "#d8576b"
             ],
             [
              0.6666666666666666,
              "#ed7953"
             ],
             [
              0.7777777777777778,
              "#fb9f3a"
             ],
             [
              0.8888888888888888,
              "#fdca26"
             ],
             [
              1,
              "#f0f921"
             ]
            ],
            "type": "histogram2dcontour"
           }
          ],
          "mesh3d": [
           {
            "colorbar": {
             "outlinewidth": 0,
             "ticks": ""
            },
            "type": "mesh3d"
           }
          ],
          "parcoords": [
           {
            "line": {
             "colorbar": {
              "outlinewidth": 0,
              "ticks": ""
             }
            },
            "type": "parcoords"
           }
          ],
          "pie": [
           {
            "automargin": true,
            "type": "pie"
           }
          ],
          "scatter": [
           {
            "marker": {
             "colorbar": {
              "outlinewidth": 0,
              "ticks": ""
             }
            },
            "type": "scatter"
           }
          ],
          "scatter3d": [
           {
            "line": {
             "colorbar": {
              "outlinewidth": 0,
              "ticks": ""
             }
            },
            "marker": {
             "colorbar": {
              "outlinewidth": 0,
              "ticks": ""
             }
            },
            "type": "scatter3d"
           }
          ],
          "scattercarpet": [
           {
            "marker": {
             "colorbar": {
              "outlinewidth": 0,
              "ticks": ""
             }
            },
            "type": "scattercarpet"
           }
          ],
          "scattergeo": [
           {
            "marker": {
             "colorbar": {
              "outlinewidth": 0,
              "ticks": ""
             }
            },
            "type": "scattergeo"
           }
          ],
          "scattergl": [
           {
            "marker": {
             "colorbar": {
              "outlinewidth": 0,
              "ticks": ""
             }
            },
            "type": "scattergl"
           }
          ],
          "scattermapbox": [
           {
            "marker": {
             "colorbar": {
              "outlinewidth": 0,
              "ticks": ""
             }
            },
            "type": "scattermapbox"
           }
          ],
          "scatterpolar": [
           {
            "marker": {
             "colorbar": {
              "outlinewidth": 0,
              "ticks": ""
             }
            },
            "type": "scatterpolar"
           }
          ],
          "scatterpolargl": [
           {
            "marker": {
             "colorbar": {
              "outlinewidth": 0,
              "ticks": ""
             }
            },
            "type": "scatterpolargl"
           }
          ],
          "scatterternary": [
           {
            "marker": {
             "colorbar": {
              "outlinewidth": 0,
              "ticks": ""
             }
            },
            "type": "scatterternary"
           }
          ],
          "surface": [
           {
            "colorbar": {
             "outlinewidth": 0,
             "ticks": ""
            },
            "colorscale": [
             [
              0,
              "#0d0887"
             ],
             [
              0.1111111111111111,
              "#46039f"
             ],
             [
              0.2222222222222222,
              "#7201a8"
             ],
             [
              0.3333333333333333,
              "#9c179e"
             ],
             [
              0.4444444444444444,
              "#bd3786"
             ],
             [
              0.5555555555555556,
              "#d8576b"
             ],
             [
              0.6666666666666666,
              "#ed7953"
             ],
             [
              0.7777777777777778,
              "#fb9f3a"
             ],
             [
              0.8888888888888888,
              "#fdca26"
             ],
             [
              1,
              "#f0f921"
             ]
            ],
            "type": "surface"
           }
          ],
          "table": [
           {
            "cells": {
             "fill": {
              "color": "#EBF0F8"
             },
             "line": {
              "color": "white"
             }
            },
            "header": {
             "fill": {
              "color": "#C8D4E3"
             },
             "line": {
              "color": "white"
             }
            },
            "type": "table"
           }
          ]
         },
         "layout": {
          "annotationdefaults": {
           "arrowcolor": "#2a3f5f",
           "arrowhead": 0,
           "arrowwidth": 1
          },
          "autotypenumbers": "strict",
          "coloraxis": {
           "colorbar": {
            "outlinewidth": 0,
            "ticks": ""
           }
          },
          "colorscale": {
           "diverging": [
            [
             0,
             "#8e0152"
            ],
            [
             0.1,
             "#c51b7d"
            ],
            [
             0.2,
             "#de77ae"
            ],
            [
             0.3,
             "#f1b6da"
            ],
            [
             0.4,
             "#fde0ef"
            ],
            [
             0.5,
             "#f7f7f7"
            ],
            [
             0.6,
             "#e6f5d0"
            ],
            [
             0.7,
             "#b8e186"
            ],
            [
             0.8,
             "#7fbc41"
            ],
            [
             0.9,
             "#4d9221"
            ],
            [
             1,
             "#276419"
            ]
           ],
           "sequential": [
            [
             0,
             "#0d0887"
            ],
            [
             0.1111111111111111,
             "#46039f"
            ],
            [
             0.2222222222222222,
             "#7201a8"
            ],
            [
             0.3333333333333333,
             "#9c179e"
            ],
            [
             0.4444444444444444,
             "#bd3786"
            ],
            [
             0.5555555555555556,
             "#d8576b"
            ],
            [
             0.6666666666666666,
             "#ed7953"
            ],
            [
             0.7777777777777778,
             "#fb9f3a"
            ],
            [
             0.8888888888888888,
             "#fdca26"
            ],
            [
             1,
             "#f0f921"
            ]
           ],
           "sequentialminus": [
            [
             0,
             "#0d0887"
            ],
            [
             0.1111111111111111,
             "#46039f"
            ],
            [
             0.2222222222222222,
             "#7201a8"
            ],
            [
             0.3333333333333333,
             "#9c179e"
            ],
            [
             0.4444444444444444,
             "#bd3786"
            ],
            [
             0.5555555555555556,
             "#d8576b"
            ],
            [
             0.6666666666666666,
             "#ed7953"
            ],
            [
             0.7777777777777778,
             "#fb9f3a"
            ],
            [
             0.8888888888888888,
             "#fdca26"
            ],
            [
             1,
             "#f0f921"
            ]
           ]
          },
          "colorway": [
           "#636efa",
           "#EF553B",
           "#00cc96",
           "#ab63fa",
           "#FFA15A",
           "#19d3f3",
           "#FF6692",
           "#B6E880",
           "#FF97FF",
           "#FECB52"
          ],
          "font": {
           "color": "#2a3f5f"
          },
          "geo": {
           "bgcolor": "white",
           "lakecolor": "white",
           "landcolor": "#E5ECF6",
           "showlakes": true,
           "showland": true,
           "subunitcolor": "white"
          },
          "hoverlabel": {
           "align": "left"
          },
          "hovermode": "closest",
          "mapbox": {
           "style": "light"
          },
          "paper_bgcolor": "white",
          "plot_bgcolor": "#E5ECF6",
          "polar": {
           "angularaxis": {
            "gridcolor": "white",
            "linecolor": "white",
            "ticks": ""
           },
           "bgcolor": "#E5ECF6",
           "radialaxis": {
            "gridcolor": "white",
            "linecolor": "white",
            "ticks": ""
           }
          },
          "scene": {
           "xaxis": {
            "backgroundcolor": "#E5ECF6",
            "gridcolor": "white",
            "gridwidth": 2,
            "linecolor": "white",
            "showbackground": true,
            "ticks": "",
            "zerolinecolor": "white"
           },
           "yaxis": {
            "backgroundcolor": "#E5ECF6",
            "gridcolor": "white",
            "gridwidth": 2,
            "linecolor": "white",
            "showbackground": true,
            "ticks": "",
            "zerolinecolor": "white"
           },
           "zaxis": {
            "backgroundcolor": "#E5ECF6",
            "gridcolor": "white",
            "gridwidth": 2,
            "linecolor": "white",
            "showbackground": true,
            "ticks": "",
            "zerolinecolor": "white"
           }
          },
          "shapedefaults": {
           "line": {
            "color": "#2a3f5f"
           }
          },
          "ternary": {
           "aaxis": {
            "gridcolor": "white",
            "linecolor": "white",
            "ticks": ""
           },
           "baxis": {
            "gridcolor": "white",
            "linecolor": "white",
            "ticks": ""
           },
           "bgcolor": "#E5ECF6",
           "caxis": {
            "gridcolor": "white",
            "linecolor": "white",
            "ticks": ""
           }
          },
          "title": {
           "x": 0.05
          },
          "xaxis": {
           "automargin": true,
           "gridcolor": "white",
           "linecolor": "white",
           "ticks": "",
           "title": {
            "standoff": 15
           },
           "zerolinecolor": "white",
           "zerolinewidth": 2
          },
          "yaxis": {
           "automargin": true,
           "gridcolor": "white",
           "linecolor": "white",
           "ticks": "",
           "title": {
            "standoff": 15
           },
           "zerolinecolor": "white",
           "zerolinewidth": 2
          }
         }
        },
        "xaxis": {
         "anchor": "y",
         "domain": [
          0,
          1
         ],
         "title": {
          "text": "SETOR"
         }
        },
        "yaxis": {
         "anchor": "x",
         "domain": [
          0,
          1
         ],
         "title": {
          "text": "value"
         }
        }
       }
      },
      "text/html": [
       "<div>                            <div id=\"e971dada-e3b4-46d9-9254-4e2e576aca5d\" class=\"plotly-graph-div\" style=\"height:525px; width:100%;\"></div>            <script type=\"text/javascript\">                require([\"plotly\"], function(Plotly) {                    window.PLOTLYENV=window.PLOTLYENV || {};                                    if (document.getElementById(\"e971dada-e3b4-46d9-9254-4e2e576aca5d\")) {                    Plotly.newPlot(                        \"e971dada-e3b4-46d9-9254-4e2e576aca5d\",                        [{\"alignmentgroup\": \"True\", \"hovertemplate\": \"variable=LIQUIDEZ DI\\u00c1RIA ANTES<br>SETOR=%{x}<br>value=%{y}<extra></extra>\", \"legendgroup\": \"LIQUIDEZ DI\\u00c1RIA ANTES\", \"marker\": {\"color\": \"#636efa\"}, \"name\": \"LIQUIDEZ DI\\u00c1RIA ANTES\", \"offsetgroup\": \"LIQUIDEZ DI\\u00c1RIA ANTES\", \"orientation\": \"v\", \"showlegend\": true, \"textposition\": \"auto\", \"type\": \"bar\", \"x\": [\"Hospital\", \"Hotel\", \"H\\u00edbrido\", \"Lajes Corporativas\", \"Log\\u00edstica\", \"Outros\", \"Residencial\", \"Shoppings\", \"T\\u00edtulos e Val. Mob.\"], \"xaxis\": \"x\", \"y\": [532.0, 1665.0, 14703.0, 1743.0, 9562.5, 681.5, 799.0, 1814.0, 4170.0], \"yaxis\": \"y\"}, {\"alignmentgroup\": \"True\", \"hovertemplate\": \"variable=LIQUIDEZ DI\\u00c1RIA DEPOIS<br>SETOR=%{x}<br>value=%{y}<extra></extra>\", \"legendgroup\": \"LIQUIDEZ DI\\u00c1RIA DEPOIS\", \"marker\": {\"color\": \"#EF553B\"}, \"name\": \"LIQUIDEZ DI\\u00c1RIA DEPOIS\", \"offsetgroup\": \"LIQUIDEZ DI\\u00c1RIA DEPOIS\", \"orientation\": \"v\", \"showlegend\": true, \"textposition\": \"auto\", \"type\": \"bar\", \"x\": [\"Hospital\", \"Hotel\", \"H\\u00edbrido\", \"Lajes Corporativas\", \"Log\\u00edstica\", \"Outros\", \"Residencial\", \"Shoppings\", \"T\\u00edtulos e Val. Mob.\"], \"xaxis\": \"x\", \"y\": [415.0, 34.0, 4480.0, 1019.0, 9504.5, 3396.0, 551.0, 332.0, 4298.5], \"yaxis\": \"y\"}],                        {\"barmode\": \"relative\", \"legend\": {\"title\": {\"text\": \"variable\"}, \"tracegroupgap\": 0}, \"margin\": {\"t\": 60}, \"template\": {\"data\": {\"bar\": [{\"error_x\": {\"color\": \"#2a3f5f\"}, \"error_y\": {\"color\": \"#2a3f5f\"}, \"marker\": {\"line\": {\"color\": \"#E5ECF6\", \"width\": 0.5}}, \"type\": \"bar\"}], \"barpolar\": [{\"marker\": {\"line\": {\"color\": \"#E5ECF6\", \"width\": 0.5}}, \"type\": \"barpolar\"}], \"carpet\": [{\"aaxis\": {\"endlinecolor\": \"#2a3f5f\", \"gridcolor\": \"white\", \"linecolor\": \"white\", \"minorgridcolor\": \"white\", \"startlinecolor\": \"#2a3f5f\"}, \"baxis\": {\"endlinecolor\": \"#2a3f5f\", \"gridcolor\": \"white\", \"linecolor\": \"white\", \"minorgridcolor\": \"white\", \"startlinecolor\": \"#2a3f5f\"}, \"type\": \"carpet\"}], \"choropleth\": [{\"colorbar\": {\"outlinewidth\": 0, \"ticks\": \"\"}, \"type\": \"choropleth\"}], \"contour\": [{\"colorbar\": {\"outlinewidth\": 0, \"ticks\": \"\"}, \"colorscale\": [[0.0, \"#0d0887\"], [0.1111111111111111, \"#46039f\"], [0.2222222222222222, \"#7201a8\"], [0.3333333333333333, \"#9c179e\"], [0.4444444444444444, \"#bd3786\"], [0.5555555555555556, \"#d8576b\"], [0.6666666666666666, \"#ed7953\"], [0.7777777777777778, \"#fb9f3a\"], [0.8888888888888888, \"#fdca26\"], [1.0, \"#f0f921\"]], \"type\": \"contour\"}], \"contourcarpet\": [{\"colorbar\": {\"outlinewidth\": 0, \"ticks\": \"\"}, \"type\": \"contourcarpet\"}], \"heatmap\": [{\"colorbar\": {\"outlinewidth\": 0, \"ticks\": \"\"}, \"colorscale\": [[0.0, \"#0d0887\"], [0.1111111111111111, \"#46039f\"], [0.2222222222222222, \"#7201a8\"], [0.3333333333333333, \"#9c179e\"], [0.4444444444444444, \"#bd3786\"], [0.5555555555555556, \"#d8576b\"], [0.6666666666666666, \"#ed7953\"], [0.7777777777777778, \"#fb9f3a\"], [0.8888888888888888, \"#fdca26\"], [1.0, \"#f0f921\"]], \"type\": \"heatmap\"}], \"heatmapgl\": [{\"colorbar\": {\"outlinewidth\": 0, \"ticks\": \"\"}, \"colorscale\": [[0.0, \"#0d0887\"], [0.1111111111111111, \"#46039f\"], [0.2222222222222222, \"#7201a8\"], [0.3333333333333333, \"#9c179e\"], [0.4444444444444444, \"#bd3786\"], [0.5555555555555556, \"#d8576b\"], [0.6666666666666666, \"#ed7953\"], [0.7777777777777778, \"#fb9f3a\"], [0.8888888888888888, \"#fdca26\"], [1.0, \"#f0f921\"]], \"type\": \"heatmapgl\"}], \"histogram\": [{\"marker\": {\"colorbar\": {\"outlinewidth\": 0, \"ticks\": \"\"}}, \"type\": \"histogram\"}], \"histogram2d\": [{\"colorbar\": {\"outlinewidth\": 0, \"ticks\": \"\"}, \"colorscale\": [[0.0, \"#0d0887\"], [0.1111111111111111, \"#46039f\"], [0.2222222222222222, \"#7201a8\"], [0.3333333333333333, \"#9c179e\"], [0.4444444444444444, \"#bd3786\"], [0.5555555555555556, \"#d8576b\"], [0.6666666666666666, \"#ed7953\"], [0.7777777777777778, \"#fb9f3a\"], [0.8888888888888888, \"#fdca26\"], [1.0, \"#f0f921\"]], \"type\": \"histogram2d\"}], \"histogram2dcontour\": [{\"colorbar\": {\"outlinewidth\": 0, \"ticks\": \"\"}, \"colorscale\": [[0.0, \"#0d0887\"], [0.1111111111111111, \"#46039f\"], [0.2222222222222222, \"#7201a8\"], [0.3333333333333333, \"#9c179e\"], [0.4444444444444444, \"#bd3786\"], [0.5555555555555556, \"#d8576b\"], [0.6666666666666666, \"#ed7953\"], [0.7777777777777778, \"#fb9f3a\"], [0.8888888888888888, \"#fdca26\"], [1.0, \"#f0f921\"]], \"type\": \"histogram2dcontour\"}], \"mesh3d\": [{\"colorbar\": {\"outlinewidth\": 0, \"ticks\": \"\"}, \"type\": \"mesh3d\"}], \"parcoords\": [{\"line\": {\"colorbar\": {\"outlinewidth\": 0, \"ticks\": \"\"}}, \"type\": \"parcoords\"}], \"pie\": [{\"automargin\": true, \"type\": \"pie\"}], \"scatter\": [{\"marker\": {\"colorbar\": {\"outlinewidth\": 0, \"ticks\": \"\"}}, \"type\": \"scatter\"}], \"scatter3d\": [{\"line\": {\"colorbar\": {\"outlinewidth\": 0, \"ticks\": \"\"}}, \"marker\": {\"colorbar\": {\"outlinewidth\": 0, \"ticks\": \"\"}}, \"type\": \"scatter3d\"}], \"scattercarpet\": [{\"marker\": {\"colorbar\": {\"outlinewidth\": 0, \"ticks\": \"\"}}, \"type\": \"scattercarpet\"}], \"scattergeo\": [{\"marker\": {\"colorbar\": {\"outlinewidth\": 0, \"ticks\": \"\"}}, \"type\": \"scattergeo\"}], \"scattergl\": [{\"marker\": {\"colorbar\": {\"outlinewidth\": 0, \"ticks\": \"\"}}, \"type\": \"scattergl\"}], \"scattermapbox\": [{\"marker\": {\"colorbar\": {\"outlinewidth\": 0, \"ticks\": \"\"}}, \"type\": \"scattermapbox\"}], \"scatterpolar\": [{\"marker\": {\"colorbar\": {\"outlinewidth\": 0, \"ticks\": \"\"}}, \"type\": \"scatterpolar\"}], \"scatterpolargl\": [{\"marker\": {\"colorbar\": {\"outlinewidth\": 0, \"ticks\": \"\"}}, \"type\": \"scatterpolargl\"}], \"scatterternary\": [{\"marker\": {\"colorbar\": {\"outlinewidth\": 0, \"ticks\": \"\"}}, \"type\": \"scatterternary\"}], \"surface\": [{\"colorbar\": {\"outlinewidth\": 0, \"ticks\": \"\"}, \"colorscale\": [[0.0, \"#0d0887\"], [0.1111111111111111, \"#46039f\"], [0.2222222222222222, \"#7201a8\"], [0.3333333333333333, \"#9c179e\"], [0.4444444444444444, \"#bd3786\"], [0.5555555555555556, \"#d8576b\"], [0.6666666666666666, \"#ed7953\"], [0.7777777777777778, \"#fb9f3a\"], [0.8888888888888888, \"#fdca26\"], [1.0, \"#f0f921\"]], \"type\": \"surface\"}], \"table\": [{\"cells\": {\"fill\": {\"color\": \"#EBF0F8\"}, \"line\": {\"color\": \"white\"}}, \"header\": {\"fill\": {\"color\": \"#C8D4E3\"}, \"line\": {\"color\": \"white\"}}, \"type\": \"table\"}]}, \"layout\": {\"annotationdefaults\": {\"arrowcolor\": \"#2a3f5f\", \"arrowhead\": 0, \"arrowwidth\": 1}, \"autotypenumbers\": \"strict\", \"coloraxis\": {\"colorbar\": {\"outlinewidth\": 0, \"ticks\": \"\"}}, \"colorscale\": {\"diverging\": [[0, \"#8e0152\"], [0.1, \"#c51b7d\"], [0.2, \"#de77ae\"], [0.3, \"#f1b6da\"], [0.4, \"#fde0ef\"], [0.5, \"#f7f7f7\"], [0.6, \"#e6f5d0\"], [0.7, \"#b8e186\"], [0.8, \"#7fbc41\"], [0.9, \"#4d9221\"], [1, \"#276419\"]], \"sequential\": [[0.0, \"#0d0887\"], [0.1111111111111111, \"#46039f\"], [0.2222222222222222, \"#7201a8\"], [0.3333333333333333, \"#9c179e\"], [0.4444444444444444, \"#bd3786\"], [0.5555555555555556, \"#d8576b\"], [0.6666666666666666, \"#ed7953\"], [0.7777777777777778, \"#fb9f3a\"], [0.8888888888888888, \"#fdca26\"], [1.0, \"#f0f921\"]], \"sequentialminus\": [[0.0, \"#0d0887\"], [0.1111111111111111, \"#46039f\"], [0.2222222222222222, \"#7201a8\"], [0.3333333333333333, \"#9c179e\"], [0.4444444444444444, \"#bd3786\"], [0.5555555555555556, \"#d8576b\"], [0.6666666666666666, \"#ed7953\"], [0.7777777777777778, \"#fb9f3a\"], [0.8888888888888888, \"#fdca26\"], [1.0, \"#f0f921\"]]}, \"colorway\": [\"#636efa\", \"#EF553B\", \"#00cc96\", \"#ab63fa\", \"#FFA15A\", \"#19d3f3\", \"#FF6692\", \"#B6E880\", \"#FF97FF\", \"#FECB52\"], \"font\": {\"color\": \"#2a3f5f\"}, \"geo\": {\"bgcolor\": \"white\", \"lakecolor\": \"white\", \"landcolor\": \"#E5ECF6\", \"showlakes\": true, \"showland\": true, \"subunitcolor\": \"white\"}, \"hoverlabel\": {\"align\": \"left\"}, \"hovermode\": \"closest\", \"mapbox\": {\"style\": \"light\"}, \"paper_bgcolor\": \"white\", \"plot_bgcolor\": \"#E5ECF6\", \"polar\": {\"angularaxis\": {\"gridcolor\": \"white\", \"linecolor\": \"white\", \"ticks\": \"\"}, \"bgcolor\": \"#E5ECF6\", \"radialaxis\": {\"gridcolor\": \"white\", \"linecolor\": \"white\", \"ticks\": \"\"}}, \"scene\": {\"xaxis\": {\"backgroundcolor\": \"#E5ECF6\", \"gridcolor\": \"white\", \"gridwidth\": 2, \"linecolor\": \"white\", \"showbackground\": true, \"ticks\": \"\", \"zerolinecolor\": \"white\"}, \"yaxis\": {\"backgroundcolor\": \"#E5ECF6\", \"gridcolor\": \"white\", \"gridwidth\": 2, \"linecolor\": \"white\", \"showbackground\": true, \"ticks\": \"\", \"zerolinecolor\": \"white\"}, \"zaxis\": {\"backgroundcolor\": \"#E5ECF6\", \"gridcolor\": \"white\", \"gridwidth\": 2, \"linecolor\": \"white\", \"showbackground\": true, \"ticks\": \"\", \"zerolinecolor\": \"white\"}}, \"shapedefaults\": {\"line\": {\"color\": \"#2a3f5f\"}}, \"ternary\": {\"aaxis\": {\"gridcolor\": \"white\", \"linecolor\": \"white\", \"ticks\": \"\"}, \"baxis\": {\"gridcolor\": \"white\", \"linecolor\": \"white\", \"ticks\": \"\"}, \"bgcolor\": \"#E5ECF6\", \"caxis\": {\"gridcolor\": \"white\", \"linecolor\": \"white\", \"ticks\": \"\"}}, \"title\": {\"x\": 0.05}, \"xaxis\": {\"automargin\": true, \"gridcolor\": \"white\", \"linecolor\": \"white\", \"ticks\": \"\", \"title\": {\"standoff\": 15}, \"zerolinecolor\": \"white\", \"zerolinewidth\": 2}, \"yaxis\": {\"automargin\": true, \"gridcolor\": \"white\", \"linecolor\": \"white\", \"ticks\": \"\", \"title\": {\"standoff\": 15}, \"zerolinecolor\": \"white\", \"zerolinewidth\": 2}}}, \"xaxis\": {\"anchor\": \"y\", \"domain\": [0.0, 1.0], \"title\": {\"text\": \"SETOR\"}}, \"yaxis\": {\"anchor\": \"x\", \"domain\": [0.0, 1.0], \"title\": {\"text\": \"value\"}}},                        {\"responsive\": true}                    ).then(function(){\n",
       "                            \n",
       "var gd = document.getElementById('e971dada-e3b4-46d9-9254-4e2e576aca5d');\n",
       "var x = new MutationObserver(function (mutations, observer) {{\n",
       "        var display = window.getComputedStyle(gd).display;\n",
       "        if (!display || display === 'none') {{\n",
       "            console.log([gd, 'removed!']);\n",
       "            Plotly.purge(gd);\n",
       "            observer.disconnect();\n",
       "        }}\n",
       "}});\n",
       "\n",
       "// Listen for the removal of the full notebook cells\n",
       "var notebookContainer = gd.closest('#notebook-container');\n",
       "if (notebookContainer) {{\n",
       "    x.observe(notebookContainer, {childList: true});\n",
       "}}\n",
       "\n",
       "// Listen for the clearing of the current output cell\n",
       "var outputEl = gd.closest('.output');\n",
       "if (outputEl) {{\n",
       "    x.observe(outputEl, {childList: true});\n",
       "}}\n",
       "\n",
       "                        })                };                });            </script>        </div>"
      ]
     },
     "metadata": {},
     "output_type": "display_data"
    }
   ],
   "source": [
    "import plotly.express as px\n",
    "px.bar(a3,y=['LIQUIDEZ DIÁRIA ANTES','LIQUIDEZ DIÁRIA DEPOIS'],x='SETOR')"
   ]
  },
  {
   "cell_type": "code",
   "execution_count": 65,
   "metadata": {},
   "outputs": [
    {
     "data": {
      "text/plain": [
       "<AxesSubplot:xlabel='LIQUIDEZ DIÁRIA', ylabel='Count'>"
      ]
     },
     "execution_count": 65,
     "metadata": {},
     "output_type": "execute_result"
    },
    {
     "data": {
      "image/png": "[encoded data removed]",
      "text/plain": [
       "<Figure size 720x360 with 1 Axes>"
      ]
     },
     "metadata": {
      "needs_background": "light"
     },
     "output_type": "display_data"
    }
   ],
   "source": [
    "plt.figure(figsize=(10,5))\n",
    "sns.histplot(data=dfjoin[dfjoin['LIQUIDEZ DIÁRIA']<100000], x='LIQUIDEZ DIÁRIA',hue='GANHO DE PRECO', bins=50)"
   ]
  },
  {
   "cell_type": "code",
   "execution_count": 49,
   "metadata": {},
   "outputs": [
    {
     "data": {
      "application/vnd.plotly.v1+json": {
       "config": {
        "plotlyServerURL": "https://plot.ly"
       },
       "data": [
        {
         "alignmentgroup": "True",
         "hovertemplate": "SETOR=%{x}<br>LIQUIDEZ DIÁRIA=%{y}<extra></extra>",
         "legendgroup": "Shoppings",
         "marker": {
          "color": "#636efa"
         },
         "name": "Shoppings",
         "notched": false,
         "offsetgroup": "Shoppings",
         "orientation": "v",
         "showlegend": true,
         "type": "box",
         "x": [
          "Shoppings",
          "Shoppings",
          "Shoppings",
          "Shoppings",
          "Shoppings",
          "Shoppings",
          "Shoppings",
          "Shoppings",
          "Shoppings",
          "Shoppings",
          "Shoppings",
          "Shoppings",
          "Shoppings",
          "Shoppings",
          "Shoppings",
          "Shoppings",
          "Shoppings",
          "Shoppings"
         ],
         "x0": " ",
         "xaxis": "x",
         "y": [
          1906,
          2,
          8982,
          1814,
          19,
          3024,
          17213,
          41,
          70739,
          1885,
          37128,
          80,
          650,
          860,
          330,
          33475,
          1115,
          412
         ],
         "y0": " ",
         "yaxis": "y"
        },
        {
         "alignmentgroup": "True",
         "hovertemplate": "SETOR=%{x}<br>LIQUIDEZ DIÁRIA=%{y}<extra></extra>",
         "legendgroup": "Lajes Corporativas",
         "marker": {
          "color": "#EF553B"
         },
         "name": "Lajes Corporativas",
         "notched": false,
         "offsetgroup": "Lajes Corporativas",
         "orientation": "v",
         "showlegend": true,
         "type": "box",
         "x": [
          "Lajes Corporativas",
          "Lajes Corporativas",
          "Lajes Corporativas",
          "Lajes Corporativas",
          "Lajes Corporativas",
          "Lajes Corporativas",
          "Lajes Corporativas",
          "Lajes Corporativas",
          "Lajes Corporativas",
          "Lajes Corporativas",
          "Lajes Corporativas",
          "Lajes Corporativas",
          "Lajes Corporativas",
          "Lajes Corporativas",
          "Lajes Corporativas",
          "Lajes Corporativas",
          "Lajes Corporativas",
          "Lajes Corporativas",
          "Lajes Corporativas",
          "Lajes Corporativas",
          "Lajes Corporativas",
          "Lajes Corporativas",
          "Lajes Corporativas",
          "Lajes Corporativas",
          "Lajes Corporativas",
          "Lajes Corporativas",
          "Lajes Corporativas",
          "Lajes Corporativas",
          "Lajes Corporativas",
          "Lajes Corporativas",
          "Lajes Corporativas",
          "Lajes Corporativas",
          "Lajes Corporativas",
          "Lajes Corporativas",
          "Lajes Corporativas"
         ],
         "x0": " ",
         "xaxis": "x",
         "y": [
          109,
          323,
          18529,
          6085,
          459,
          1426,
          2919,
          1177,
          182,
          94,
          10,
          154,
          3855,
          88,
          133,
          17,
          1390,
          26374,
          1743,
          30110,
          6168,
          38556,
          45,
          100,
          14076,
          239,
          4413,
          22571,
          6012,
          20777,
          3846,
          191,
          4657,
          31728,
          19332
         ],
         "y0": " ",
         "yaxis": "y"
        },
        {
         "alignmentgroup": "True",
         "hovertemplate": "SETOR=%{x}<br>LIQUIDEZ DIÁRIA=%{y}<extra></extra>",
         "legendgroup": "Logística",
         "marker": {
          "color": "#00cc96"
         },
         "name": "Logística",
         "notched": false,
         "offsetgroup": "Logística",
         "orientation": "v",
         "showlegend": true,
         "type": "box",
         "x": [
          "Logística",
          "Logística",
          "Logística",
          "Logística",
          "Logística",
          "Logística",
          "Logística",
          "Logística",
          "Logística",
          "Logística",
          "Logística",
          "Logística",
          "Logística",
          "Logística"
         ],
         "x0": " ",
         "xaxis": "x",
         "y": [
          9601,
          1,
          71,
          653,
          61438,
          519,
          32397,
          52718,
          56262,
          9524,
          9524,
          30342,
          2307,
          93908
         ],
         "y0": " ",
         "yaxis": "y"
        },
        {
         "alignmentgroup": "True",
         "hovertemplate": "SETOR=%{x}<br>LIQUIDEZ DIÁRIA=%{y}<extra></extra>",
         "legendgroup": "Títulos e Val. Mob.",
         "marker": {
          "color": "#ab63fa"
         },
         "name": "Títulos e Val. Mob.",
         "notched": false,
         "offsetgroup": "Títulos e Val. Mob.",
         "orientation": "v",
         "showlegend": true,
         "type": "box",
         "x": [
          "Títulos e Val. Mob.",
          "Títulos e Val. Mob.",
          "Títulos e Val. Mob.",
          "Títulos e Val. Mob.",
          "Títulos e Val. Mob.",
          "Títulos e Val. Mob.",
          "Títulos e Val. Mob.",
          "Títulos e Val. Mob.",
          "Títulos e Val. Mob.",
          "Títulos e Val. Mob.",
          "Títulos e Val. Mob.",
          "Títulos e Val. Mob.",
          "Títulos e Val. Mob.",
          "Títulos e Val. Mob.",
          "Títulos e Val. Mob.",
          "Títulos e Val. Mob.",
          "Títulos e Val. Mob.",
          "Títulos e Val. Mob.",
          "Títulos e Val. Mob.",
          "Títulos e Val. Mob.",
          "Títulos e Val. Mob.",
          "Títulos e Val. Mob.",
          "Títulos e Val. Mob.",
          "Títulos e Val. Mob.",
          "Títulos e Val. Mob.",
          "Títulos e Val. Mob.",
          "Títulos e Val. Mob.",
          "Títulos e Val. Mob.",
          "Títulos e Val. Mob.",
          "Títulos e Val. Mob.",
          "Títulos e Val. Mob.",
          "Títulos e Val. Mob.",
          "Títulos e Val. Mob.",
          "Títulos e Val. Mob.",
          "Títulos e Val. Mob.",
          "Títulos e Val. Mob.",
          "Títulos e Val. Mob.",
          "Títulos e Val. Mob.",
          "Títulos e Val. Mob.",
          "Títulos e Val. Mob.",
          "Títulos e Val. Mob.",
          "Títulos e Val. Mob."
         ],
         "x0": " ",
         "xaxis": "x",
         "y": [
          2415,
          51091,
          2722,
          5814,
          5352,
          6501,
          1,
          14461,
          2304,
          3536,
          1285,
          1624,
          12659,
          3,
          45259,
          69594,
          5165,
          1692,
          10960,
          7841,
          70058,
          4067,
          24300,
          59596,
          4273,
          2102,
          9182,
          2149,
          475,
          786,
          1071,
          46067,
          23113,
          370,
          18,
          16,
          1833,
          680,
          19648,
          67500,
          710,
          11759
         ],
         "y0": " ",
         "yaxis": "y"
        },
        {
         "alignmentgroup": "True",
         "hovertemplate": "SETOR=%{x}<br>LIQUIDEZ DIÁRIA=%{y}<extra></extra>",
         "legendgroup": "Outros",
         "marker": {
          "color": "#FFA15A"
         },
         "name": "Outros",
         "notched": false,
         "offsetgroup": "Outros",
         "orientation": "v",
         "showlegend": true,
         "type": "box",
         "x": [
          "Outros",
          "Outros",
          "Outros",
          "Outros",
          "Outros",
          "Outros",
          "Outros",
          "Outros",
          "Outros",
          "Outros",
          "Outros",
          "Outros",
          "Outros",
          "Outros",
          "Outros",
          "Outros",
          "Outros",
          "Outros"
         ],
         "x0": " ",
         "xaxis": "x",
         "y": [
          823,
          450,
          20,
          545,
          886,
          2022,
          18,
          131,
          66,
          173,
          654,
          1465,
          709,
          3959,
          519,
          7402,
          7265,
          16018
         ],
         "y0": " ",
         "yaxis": "y"
        },
        {
         "alignmentgroup": "True",
         "hovertemplate": "SETOR=%{x}<br>LIQUIDEZ DIÁRIA=%{y}<extra></extra>",
         "legendgroup": "Híbrido",
         "marker": {
          "color": "#19d3f3"
         },
         "name": "Híbrido",
         "notched": false,
         "offsetgroup": "Híbrido",
         "orientation": "v",
         "showlegend": true,
         "type": "box",
         "x": [
          "Híbrido",
          "Híbrido",
          "Híbrido",
          "Híbrido",
          "Híbrido",
          "Híbrido",
          "Híbrido",
          "Híbrido",
          "Híbrido",
          "Híbrido",
          "Híbrido",
          "Híbrido"
         ],
         "x0": " ",
         "xaxis": "x",
         "y": [
          72167,
          50,
          1118,
          75618,
          17714,
          59006,
          45246,
          8625,
          48,
          2017,
          11692,
          2
         ],
         "y0": " ",
         "yaxis": "y"
        },
        {
         "alignmentgroup": "True",
         "hovertemplate": "SETOR=%{x}<br>LIQUIDEZ DIÁRIA=%{y}<extra></extra>",
         "legendgroup": "Residencial",
         "marker": {
          "color": "#FF6692"
         },
         "name": "Residencial",
         "notched": false,
         "offsetgroup": "Residencial",
         "orientation": "v",
         "showlegend": true,
         "type": "box",
         "x": [
          "Residencial",
          "Residencial",
          "Residencial"
         ],
         "x0": " ",
         "xaxis": "x",
         "y": [
          116,
          17395,
          799
         ],
         "y0": " ",
         "yaxis": "y"
        },
        {
         "alignmentgroup": "True",
         "hovertemplate": "SETOR=%{x}<br>LIQUIDEZ DIÁRIA=%{y}<extra></extra>",
         "legendgroup": "Hospital",
         "marker": {
          "color": "#B6E880"
         },
         "name": "Hospital",
         "notched": false,
         "offsetgroup": "Hospital",
         "orientation": "v",
         "showlegend": true,
         "type": "box",
         "x": [
          "Hospital",
          "Hospital",
          "Hospital"
         ],
         "x0": " ",
         "xaxis": "x",
         "y": [
          104,
          532,
          827
         ],
         "y0": " ",
         "yaxis": "y"
        },
        {
         "alignmentgroup": "True",
         "hovertemplate": "SETOR=%{x}<br>LIQUIDEZ DIÁRIA=%{y}<extra></extra>",
         "legendgroup": "Hotel",
         "marker": {
          "color": "#FF97FF"
         },
         "name": "Hotel",
         "notched": false,
         "offsetgroup": "Hotel",
         "orientation": "v",
         "showlegend": true,
         "type": "box",
         "x": [
          "Hotel",
          "Hotel"
         ],
         "x0": " ",
         "xaxis": "x",
         "y": [
          3116,
          214
         ],
         "y0": " ",
         "yaxis": "y"
        }
       ],
       "layout": {
        "boxmode": "overlay",
        "legend": {
         "title": {
          "text": "SETOR"
         },
         "tracegroupgap": 0
        },
        "margin": {
         "t": 60
        },
        "template": {
         "data": {
          "bar": [
           {
            "error_x": {
             "color": "#2a3f5f"
            },
            "error_y": {
             "color": "#2a3f5f"
            },
            "marker": {
             "line": {
              "color": "#E5ECF6",
              "width": 0.5
             }
            },
            "type": "bar"
           }
          ],
          "barpolar": [
           {
            "marker": {
             "line": {
              "color": "#E5ECF6",
              "width": 0.5
             }
            },
            "type": "barpolar"
           }
          ],
          "carpet": [
           {
            "aaxis": {
             "endlinecolor": "#2a3f5f",
             "gridcolor": "white",
             "linecolor": "white",
             "minorgridcolor": "white",
             "startlinecolor": "#2a3f5f"
            },
            "baxis": {
             "endlinecolor": "#2a3f5f",
             "gridcolor": "white",
             "linecolor": "white",
             "minorgridcolor": "white",
             "startlinecolor": "#2a3f5f"
            },
            "type": "carpet"
           }
          ],
          "choropleth": [
           {
            "colorbar": {
             "outlinewidth": 0,
             "ticks": ""
            },
            "type": "choropleth"
           }
          ],
          "contour": [
           {
            "colorbar": {
             "outlinewidth": 0,
             "ticks": ""
            },
            "colorscale": [
             [
              0,
              "#0d0887"
             ],
             [
              0.1111111111111111,
              "#46039f"
             ],
             [
              0.2222222222222222,
              "#7201a8"
             ],
             [
              0.3333333333333333,
              "#9c179e"
             ],
             [
              0.4444444444444444,
              "#bd3786"
             ],
             [
              0.5555555555555556,
              "#d8576b"
             ],
             [
              0.6666666666666666,
              "#ed7953"
             ],
             [
              0.7777777777777778,
              "#fb9f3a"
             ],
             [
              0.8888888888888888,
              "#fdca26"
             ],
             [
              1,
              "#f0f921"
             ]
            ],
            "type": "contour"
           }
          ],
          "contourcarpet": [
           {
            "colorbar": {
             "outlinewidth": 0,
             "ticks": ""
            },
            "type": "contourcarpet"
           }
          ],
          "heatmap": [
           {
            "colorbar": {
             "outlinewidth": 0,
             "ticks": ""
            },
            "colorscale": [
             [
              0,
              "#0d0887"
             ],
             [
              0.1111111111111111,
              "#46039f"
             ],
             [
              0.2222222222222222,
              "#7201a8"
             ],
             [
              0.3333333333333333,
              "#9c179e"
             ],
             [
              0.4444444444444444,
              "#bd3786"
             ],
             [
              0.5555555555555556,
              "#d8576b"
             ],
             [
              0.6666666666666666,
              "#ed7953"
             ],
             [
              0.7777777777777778,
              "#fb9f3a"
             ],
             [
              0.8888888888888888,
              "#fdca26"
             ],
             [
              1,
              "#f0f921"
             ]
            ],
            "type": "heatmap"
           }
          ],
          "heatmapgl": [
           {
            "colorbar": {
             "outlinewidth": 0,
             "ticks": ""
            },
            "colorscale": [
             [
              0,
              "#0d0887"
             ],
             [
              0.1111111111111111,
              "#46039f"
             ],
             [
              0.2222222222222222,
              "#7201a8"
             ],
             [
              0.3333333333333333,
              "#9c179e"
             ],
             [
              0.4444444444444444,
              "#bd3786"
             ],
             [
              0.5555555555555556,
              "#d8576b"
             ],
             [
              0.6666666666666666,
              "#ed7953"
             ],
             [
              0.7777777777777778,
              "#fb9f3a"
             ],
             [
              0.8888888888888888,
              "#fdca26"
             ],
             [
              1,
              "#f0f921"
             ]
            ],
            "type": "heatmapgl"
           }
          ],
          "histogram": [
           {
            "marker": {
             "colorbar": {
              "outlinewidth": 0,
              "ticks": ""
             }
            },
            "type": "histogram"
           }
          ],
          "histogram2d": [
           {
            "colorbar": {
             "outlinewidth": 0,
             "ticks": ""
            },
            "colorscale": [
             [
              0,
              "#0d0887"
             ],
             [
              0.1111111111111111,
              "#46039f"
             ],
             [
              0.2222222222222222,
              "#7201a8"
             ],
             [
              0.3333333333333333,
              "#9c179e"
             ],
             [
              0.4444444444444444,
              "#bd3786"
             ],
             [
              0.5555555555555556,
              "#d8576b"
             ],
             [
              0.6666666666666666,
              "#ed7953"
             ],
             [
              0.7777777777777778,
              "#fb9f3a"
             ],
             [
              0.8888888888888888,
              "#fdca26"
             ],
             [
              1,
              "#f0f921"
             ]
            ],
            "type": "histogram2d"
           }
          ],
          "histogram2dcontour": [
           {
            "colorbar": {
             "outlinewidth": 0,
             "ticks": ""
            },
            "colorscale": [
             [
              0,
              "#0d0887"
             ],
             [
              0.1111111111111111,
              "#46039f"
             ],
             [
              0.2222222222222222,
              "#7201a8"
             ],
             [
              0.3333333333333333,
              "#9c179e"
             ],
             [
              0.4444444444444444,
              "#bd3786"
             ],
             [
              0.5555555555555556,
              "#d8576b"
             ],
             [
              0.6666666666666666,
              "#ed7953"
             ],
             [
              0.7777777777777778,
              "#fb9f3a"
             ],
             [
              0.8888888888888888,
              "#fdca26"
             ],
             [
              1,
              "#f0f921"
             ]
            ],
            "type": "histogram2dcontour"
           }
          ],
          "mesh3d": [
           {
            "colorbar": {
             "outlinewidth": 0,
             "ticks": ""
            },
            "type": "mesh3d"
           }
          ],
          "parcoords": [
           {
            "line": {
             "colorbar": {
              "outlinewidth": 0,
              "ticks": ""
             }
            },
            "type": "parcoords"
           }
          ],
          "pie": [
           {
            "automargin": true,
            "type": "pie"
           }
          ],
          "scatter": [
           {
            "marker": {
             "colorbar": {
              "outlinewidth": 0,
              "ticks": ""
             }
            },
            "type": "scatter"
           }
          ],
          "scatter3d": [
           {
            "line": {
             "colorbar": {
              "outlinewidth": 0,
              "ticks": ""
             }
            },
            "marker": {
             "colorbar": {
              "outlinewidth": 0,
              "ticks": ""
             }
            },
            "type": "scatter3d"
           }
          ],
          "scattercarpet": [
           {
            "marker": {
             "colorbar": {
              "outlinewidth": 0,
              "ticks": ""
             }
            },
            "type": "scattercarpet"
           }
          ],
          "scattergeo": [
           {
            "marker": {
             "colorbar": {
              "outlinewidth": 0,
              "ticks": ""
             }
            },
            "type": "scattergeo"
           }
          ],
          "scattergl": [
           {
            "marker": {
             "colorbar": {
              "outlinewidth": 0,
              "ticks": ""
             }
            },
            "type": "scattergl"
           }
          ],
          "scattermapbox": [
           {
            "marker": {
             "colorbar": {
              "outlinewidth": 0,
              "ticks": ""
             }
            },
            "type": "scattermapbox"
           }
          ],
          "scatterpolar": [
           {
            "marker": {
             "colorbar": {
              "outlinewidth": 0,
              "ticks": ""
             }
            },
            "type": "scatterpolar"
           }
          ],
          "scatterpolargl": [
           {
            "marker": {
             "colorbar": {
              "outlinewidth": 0,
              "ticks": ""
             }
            },
            "type": "scatterpolargl"
           }
          ],
          "scatterternary": [
           {
            "marker": {
             "colorbar": {
              "outlinewidth": 0,
              "ticks": ""
             }
            },
            "type": "scatterternary"
           }
          ],
          "surface": [
           {
            "colorbar": {
             "outlinewidth": 0,
             "ticks": ""
            },
            "colorscale": [
             [
              0,
              "#0d0887"
             ],
             [
              0.1111111111111111,
              "#46039f"
             ],
             [
              0.2222222222222222,
              "#7201a8"
             ],
             [
              0.3333333333333333,
              "#9c179e"
             ],
             [
              0.4444444444444444,
              "#bd3786"
             ],
             [
              0.5555555555555556,
              "#d8576b"
             ],
             [
              0.6666666666666666,
              "#ed7953"
             ],
             [
              0.7777777777777778,
              "#fb9f3a"
             ],
             [
              0.8888888888888888,
              "#fdca26"
             ],
             [
              1,
              "#f0f921"
             ]
            ],
            "type": "surface"
           }
          ],
          "table": [
           {
            "cells": {
             "fill": {
              "color": "#EBF0F8"
             },
             "line": {
              "color": "white"
             }
            },
            "header": {
             "fill": {
              "color": "#C8D4E3"
             },
             "line": {
              "color": "white"
             }
            },
            "type": "table"
           }
          ]
         },
         "layout": {
          "annotationdefaults": {
           "arrowcolor": "#2a3f5f",
           "arrowhead": 0,
           "arrowwidth": 1
          },
          "autotypenumbers": "strict",
          "coloraxis": {
           "colorbar": {
            "outlinewidth": 0,
            "ticks": ""
           }
          },
          "colorscale": {
           "diverging": [
            [
             0,
             "#8e0152"
            ],
            [
             0.1,
             "#c51b7d"
            ],
            [
             0.2,
             "#de77ae"
            ],
            [
             0.3,
             "#f1b6da"
            ],
            [
             0.4,
             "#fde0ef"
            ],
            [
             0.5,
             "#f7f7f7"
            ],
            [
             0.6,
             "#e6f5d0"
            ],
            [
             0.7,
             "#b8e186"
            ],
            [
             0.8,
             "#7fbc41"
            ],
            [
             0.9,
             "#4d9221"
            ],
            [
             1,
             "#276419"
            ]
           ],
           "sequential": [
            [
             0,
             "#0d0887"
            ],
            [
             0.1111111111111111,
             "#46039f"
            ],
            [
             0.2222222222222222,
             "#7201a8"
            ],
            [
             0.3333333333333333,
             "#9c179e"
            ],
            [
             0.4444444444444444,
             "#bd3786"
            ],
            [
             0.5555555555555556,
             "#d8576b"
            ],
            [
             0.6666666666666666,
             "#ed7953"
            ],
            [
             0.7777777777777778,
             "#fb9f3a"
            ],
            [
             0.8888888888888888,
             "#fdca26"
            ],
            [
             1,
             "#f0f921"
            ]
           ],
           "sequentialminus": [
            [
             0,
             "#0d0887"
            ],
            [
             0.1111111111111111,
             "#46039f"
            ],
            [
             0.2222222222222222,
             "#7201a8"
            ],
            [
             0.3333333333333333,
             "#9c179e"
            ],
            [
             0.4444444444444444,
             "#bd3786"
            ],
            [
             0.5555555555555556,
             "#d8576b"
            ],
            [
             0.6666666666666666,
             "#ed7953"
            ],
            [
             0.7777777777777778,
             "#fb9f3a"
            ],
            [
             0.8888888888888888,
             "#fdca26"
            ],
            [
             1,
             "#f0f921"
            ]
           ]
          },
          "colorway": [
           "#636efa",
           "#EF553B",
           "#00cc96",
           "#ab63fa",
           "#FFA15A",
           "#19d3f3",
           "#FF6692",
           "#B6E880",
           "#FF97FF",
           "#FECB52"
          ],
          "font": {
           "color": "#2a3f5f"
          },
          "geo": {
           "bgcolor": "white",
           "lakecolor": "white",
           "landcolor": "#E5ECF6",
           "showlakes": true,
           "showland": true,
           "subunitcolor": "white"
          },
          "hoverlabel": {
           "align": "left"
          },
          "hovermode": "closest",
          "mapbox": {
           "style": "light"
          },
          "paper_bgcolor": "white",
          "plot_bgcolor": "#E5ECF6",
          "polar": {
           "angularaxis": {
            "gridcolor": "white",
            "linecolor": "white",
            "ticks": ""
           },
           "bgcolor": "#E5ECF6",
           "radialaxis": {
            "gridcolor": "white",
            "linecolor": "white",
            "ticks": ""
           }
          },
          "scene": {
           "xaxis": {
            "backgroundcolor": "#E5ECF6",
            "gridcolor": "white",
            "gridwidth": 2,
            "linecolor": "white",
            "showbackground": true,
            "ticks": "",
            "zerolinecolor": "white"
           },
           "yaxis": {
            "backgroundcolor": "#E5ECF6",
            "gridcolor": "white",
            "gridwidth": 2,
            "linecolor": "white",
            "showbackground": true,
            "ticks": "",
            "zerolinecolor": "white"
           },
           "zaxis": {
            "backgroundcolor": "#E5ECF6",
            "gridcolor": "white",
            "gridwidth": 2,
            "linecolor": "white",
            "showbackground": true,
            "ticks": "",
            "zerolinecolor": "white"
           }
          },
          "shapedefaults": {
           "line": {
            "color": "#2a3f5f"
           }
          },
          "ternary": {
           "aaxis": {
            "gridcolor": "white",
            "linecolor": "white",
            "ticks": ""
           },
           "baxis": {
            "gridcolor": "white",
            "linecolor": "white",
            "ticks": ""
           },
           "bgcolor": "#E5ECF6",
           "caxis": {
            "gridcolor": "white",
            "linecolor": "white",
            "ticks": ""
           }
          },
          "title": {
           "x": 0.05
          },
          "xaxis": {
           "automargin": true,
           "gridcolor": "white",
           "linecolor": "white",
           "ticks": "",
           "title": {
            "standoff": 15
           },
           "zerolinecolor": "white",
           "zerolinewidth": 2
          },
          "yaxis": {
           "automargin": true,
           "gridcolor": "white",
           "linecolor": "white",
           "ticks": "",
           "title": {
            "standoff": 15
           },
           "zerolinecolor": "white",
           "zerolinewidth": 2
          }
         }
        },
        "xaxis": {
         "anchor": "y",
         "categoryarray": [
          "Shoppings",
          "Lajes Corporativas",
          "Logística",
          "Títulos e Val. Mob.",
          "Outros",
          "Híbrido",
          "Residencial",
          "Hospital",
          "Hotel"
         ],
         "categoryorder": "array",
         "domain": [
          0,
          1
         ],
         "title": {
          "text": "SETOR"
         }
        },
        "yaxis": {
         "anchor": "x",
         "domain": [
          0,
          1
         ],
         "title": {
          "text": "LIQUIDEZ DIÁRIA"
         }
        }
       }
      },
      "text/html": [
       "<div>                            <div id=\"eac1ffb0-f9af-4000-af98-185f31e047ef\" class=\"plotly-graph-div\" style=\"height:525px; width:100%;\"></div>            <script type=\"text/javascript\">                require([\"plotly\"], function(Plotly) {                    window.PLOTLYENV=window.PLOTLYENV || {};                                    if (document.getElementById(\"eac1ffb0-f9af-4000-af98-185f31e047ef\")) {                    Plotly.newPlot(                        \"eac1ffb0-f9af-4000-af98-185f31e047ef\",                        [{\"alignmentgroup\": \"True\", \"hovertemplate\": \"SETOR=%{x}<br>LIQUIDEZ DI\\u00c1RIA=%{y}<extra></extra>\", \"legendgroup\": \"Shoppings\", \"marker\": {\"color\": \"#636efa\"}, \"name\": \"Shoppings\", \"notched\": false, \"offsetgroup\": \"Shoppings\", \"orientation\": \"v\", \"showlegend\": true, \"type\": \"box\", \"x\": [\"Shoppings\", \"Shoppings\", \"Shoppings\", \"Shoppings\", \"Shoppings\", \"Shoppings\", \"Shoppings\", \"Shoppings\", \"Shoppings\", \"Shoppings\", \"Shoppings\", \"Shoppings\", \"Shoppings\", \"Shoppings\", \"Shoppings\", \"Shoppings\", \"Shoppings\", \"Shoppings\"], \"x0\": \" \", \"xaxis\": \"x\", \"y\": [1906.0, 2.0, 8982.0, 1814.0, 19.0, 3024.0, 17213.0, 41.0, 70739.0, 1885.0, 37128.0, 80.0, 650.0, 860.0, 330.0, 33475.0, 1115.0, 412.0], \"y0\": \" \", \"yaxis\": \"y\"}, {\"alignmentgroup\": \"True\", \"hovertemplate\": \"SETOR=%{x}<br>LIQUIDEZ DI\\u00c1RIA=%{y}<extra></extra>\", \"legendgroup\": \"Lajes Corporativas\", \"marker\": {\"color\": \"#EF553B\"}, \"name\": \"Lajes Corporativas\", \"notched\": false, \"offsetgroup\": \"Lajes Corporativas\", \"orientation\": \"v\", \"showlegend\": true, \"type\": \"box\", \"x\": [\"Lajes Corporativas\", \"Lajes Corporativas\", \"Lajes Corporativas\", \"Lajes Corporativas\", \"Lajes Corporativas\", \"Lajes Corporativas\", \"Lajes Corporativas\", \"Lajes Corporativas\", \"Lajes Corporativas\", \"Lajes Corporativas\", \"Lajes Corporativas\", \"Lajes Corporativas\", \"Lajes Corporativas\", \"Lajes Corporativas\", \"Lajes Corporativas\", \"Lajes Corporativas\", \"Lajes Corporativas\", \"Lajes Corporativas\", \"Lajes Corporativas\", \"Lajes Corporativas\", \"Lajes Corporativas\", \"Lajes Corporativas\", \"Lajes Corporativas\", \"Lajes Corporativas\", \"Lajes Corporativas\", \"Lajes Corporativas\", \"Lajes Corporativas\", \"Lajes Corporativas\", \"Lajes Corporativas\", \"Lajes Corporativas\", \"Lajes Corporativas\", \"Lajes Corporativas\", \"Lajes Corporativas\", \"Lajes Corporativas\", \"Lajes Corporativas\"], \"x0\": \" \", \"xaxis\": \"x\", \"y\": [109.0, 323.0, 18529.0, 6085.0, 459.0, 1426.0, 2919.0, 1177.0, 182.0, 94.0, 10.0, 154.0, 3855.0, 88.0, 133.0, 17.0, 1390.0, 26374.0, 1743.0, 30110.0, 6168.0, 38556.0, 45.0, 100.0, 14076.0, 239.0, 4413.0, 22571.0, 6012.0, 20777.0, 3846.0, 191.0, 4657.0, 31728.0, 19332.0], \"y0\": \" \", \"yaxis\": \"y\"}, {\"alignmentgroup\": \"True\", \"hovertemplate\": \"SETOR=%{x}<br>LIQUIDEZ DI\\u00c1RIA=%{y}<extra></extra>\", \"legendgroup\": \"Log\\u00edstica\", \"marker\": {\"color\": \"#00cc96\"}, \"name\": \"Log\\u00edstica\", \"notched\": false, \"offsetgroup\": \"Log\\u00edstica\", \"orientation\": \"v\", \"showlegend\": true, \"type\": \"box\", \"x\": [\"Log\\u00edstica\", \"Log\\u00edstica\", \"Log\\u00edstica\", \"Log\\u00edstica\", \"Log\\u00edstica\", \"Log\\u00edstica\", \"Log\\u00edstica\", \"Log\\u00edstica\", \"Log\\u00edstica\", \"Log\\u00edstica\", \"Log\\u00edstica\", \"Log\\u00edstica\", \"Log\\u00edstica\", \"Log\\u00edstica\"], \"x0\": \" \", \"xaxis\": \"x\", \"y\": [9601.0, 1.0, 71.0, 653.0, 61438.0, 519.0, 32397.0, 52718.0, 56262.0, 9524.0, 9524.0, 30342.0, 2307.0, 93908.0], \"y0\": \" \", \"yaxis\": \"y\"}, {\"alignmentgroup\": \"True\", \"hovertemplate\": \"SETOR=%{x}<br>LIQUIDEZ DI\\u00c1RIA=%{y}<extra></extra>\", \"legendgroup\": \"T\\u00edtulos e Val. Mob.\", \"marker\": {\"color\": \"#ab63fa\"}, \"name\": \"T\\u00edtulos e Val. Mob.\", \"notched\": false, \"offsetgroup\": \"T\\u00edtulos e Val. Mob.\", \"orientation\": \"v\", \"showlegend\": true, \"type\": \"box\", \"x\": [\"T\\u00edtulos e Val. Mob.\", \"T\\u00edtulos e Val. Mob.\", \"T\\u00edtulos e Val. Mob.\", \"T\\u00edtulos e Val. Mob.\", \"T\\u00edtulos e Val. Mob.\", \"T\\u00edtulos e Val. Mob.\", \"T\\u00edtulos e Val. Mob.\", \"T\\u00edtulos e Val. Mob.\", \"T\\u00edtulos e Val. Mob.\", \"T\\u00edtulos e Val. Mob.\", \"T\\u00edtulos e Val. Mob.\", \"T\\u00edtulos e Val. Mob.\", \"T\\u00edtulos e Val. Mob.\", \"T\\u00edtulos e Val. Mob.\", \"T\\u00edtulos e Val. Mob.\", \"T\\u00edtulos e Val. Mob.\", \"T\\u00edtulos e Val. Mob.\", \"T\\u00edtulos e Val. Mob.\", \"T\\u00edtulos e Val. Mob.\", \"T\\u00edtulos e Val. Mob.\", \"T\\u00edtulos e Val. Mob.\", \"T\\u00edtulos e Val. Mob.\", \"T\\u00edtulos e Val. Mob.\", \"T\\u00edtulos e Val. Mob.\", \"T\\u00edtulos e Val. Mob.\", \"T\\u00edtulos e Val. Mob.\", \"T\\u00edtulos e Val. Mob.\", \"T\\u00edtulos e Val. Mob.\", \"T\\u00edtulos e Val. Mob.\", \"T\\u00edtulos e Val. Mob.\", \"T\\u00edtulos e Val. Mob.\", \"T\\u00edtulos e Val. Mob.\", \"T\\u00edtulos e Val. Mob.\", \"T\\u00edtulos e Val. Mob.\", \"T\\u00edtulos e Val. Mob.\", \"T\\u00edtulos e Val. Mob.\", \"T\\u00edtulos e Val. Mob.\", \"T\\u00edtulos e Val. Mob.\", \"T\\u00edtulos e Val. Mob.\", \"T\\u00edtulos e Val. Mob.\", \"T\\u00edtulos e Val. Mob.\", \"T\\u00edtulos e Val. Mob.\"], \"x0\": \" \", \"xaxis\": \"x\", \"y\": [2415.0, 51091.0, 2722.0, 5814.0, 5352.0, 6501.0, 1.0, 14461.0, 2304.0, 3536.0, 1285.0, 1624.0, 12659.0, 3.0, 45259.0, 69594.0, 5165.0, 1692.0, 10960.0, 7841.0, 70058.0, 4067.0, 24300.0, 59596.0, 4273.0, 2102.0, 9182.0, 2149.0, 475.0, 786.0, 1071.0, 46067.0, 23113.0, 370.0, 18.0, 16.0, 1833.0, 680.0, 19648.0, 67500.0, 710.0, 11759.0], \"y0\": \" \", \"yaxis\": \"y\"}, {\"alignmentgroup\": \"True\", \"hovertemplate\": \"SETOR=%{x}<br>LIQUIDEZ DI\\u00c1RIA=%{y}<extra></extra>\", \"legendgroup\": \"Outros\", \"marker\": {\"color\": \"#FFA15A\"}, \"name\": \"Outros\", \"notched\": false, \"offsetgroup\": \"Outros\", \"orientation\": \"v\", \"showlegend\": true, \"type\": \"box\", \"x\": [\"Outros\", \"Outros\", \"Outros\", \"Outros\", \"Outros\", \"Outros\", \"Outros\", \"Outros\", \"Outros\", \"Outros\", \"Outros\", \"Outros\", \"Outros\", \"Outros\", \"Outros\", \"Outros\", \"Outros\", \"Outros\"], \"x0\": \" \", \"xaxis\": \"x\", \"y\": [823.0, 450.0, 20.0, 545.0, 886.0, 2022.0, 18.0, 131.0, 66.0, 173.0, 654.0, 1465.0, 709.0, 3959.0, 519.0, 7402.0, 7265.0, 16018.0], \"y0\": \" \", \"yaxis\": \"y\"}, {\"alignmentgroup\": \"True\", \"hovertemplate\": \"SETOR=%{x}<br>LIQUIDEZ DI\\u00c1RIA=%{y}<extra></extra>\", \"legendgroup\": \"H\\u00edbrido\", \"marker\": {\"color\": \"#19d3f3\"}, \"name\": \"H\\u00edbrido\", \"notched\": false, \"offsetgroup\": \"H\\u00edbrido\", \"orientation\": \"v\", \"showlegend\": true, \"type\": \"box\", \"x\": [\"H\\u00edbrido\", \"H\\u00edbrido\", \"H\\u00edbrido\", \"H\\u00edbrido\", \"H\\u00edbrido\", \"H\\u00edbrido\", \"H\\u00edbrido\", \"H\\u00edbrido\", \"H\\u00edbrido\", \"H\\u00edbrido\", \"H\\u00edbrido\", \"H\\u00edbrido\"], \"x0\": \" \", \"xaxis\": \"x\", \"y\": [72167.0, 50.0, 1118.0, 75618.0, 17714.0, 59006.0, 45246.0, 8625.0, 48.0, 2017.0, 11692.0, 2.0], \"y0\": \" \", \"yaxis\": \"y\"}, {\"alignmentgroup\": \"True\", \"hovertemplate\": \"SETOR=%{x}<br>LIQUIDEZ DI\\u00c1RIA=%{y}<extra></extra>\", \"legendgroup\": \"Residencial\", \"marker\": {\"color\": \"#FF6692\"}, \"name\": \"Residencial\", \"notched\": false, \"offsetgroup\": \"Residencial\", \"orientation\": \"v\", \"showlegend\": true, \"type\": \"box\", \"x\": [\"Residencial\", \"Residencial\", \"Residencial\"], \"x0\": \" \", \"xaxis\": \"x\", \"y\": [116.0, 17395.0, 799.0], \"y0\": \" \", \"yaxis\": \"y\"}, {\"alignmentgroup\": \"True\", \"hovertemplate\": \"SETOR=%{x}<br>LIQUIDEZ DI\\u00c1RIA=%{y}<extra></extra>\", \"legendgroup\": \"Hospital\", \"marker\": {\"color\": \"#B6E880\"}, \"name\": \"Hospital\", \"notched\": false, \"offsetgroup\": \"Hospital\", \"orientation\": \"v\", \"showlegend\": true, \"type\": \"box\", \"x\": [\"Hospital\", \"Hospital\", \"Hospital\"], \"x0\": \" \", \"xaxis\": \"x\", \"y\": [104.0, 532.0, 827.0], \"y0\": \" \", \"yaxis\": \"y\"}, {\"alignmentgroup\": \"True\", \"hovertemplate\": \"SETOR=%{x}<br>LIQUIDEZ DI\\u00c1RIA=%{y}<extra></extra>\", \"legendgroup\": \"Hotel\", \"marker\": {\"color\": \"#FF97FF\"}, \"name\": \"Hotel\", \"notched\": false, \"offsetgroup\": \"Hotel\", \"orientation\": \"v\", \"showlegend\": true, \"type\": \"box\", \"x\": [\"Hotel\", \"Hotel\"], \"x0\": \" \", \"xaxis\": \"x\", \"y\": [3116.0, 214.0], \"y0\": \" \", \"yaxis\": \"y\"}],                        {\"boxmode\": \"overlay\", \"legend\": {\"title\": {\"text\": \"SETOR\"}, \"tracegroupgap\": 0}, \"margin\": {\"t\": 60}, \"template\": {\"data\": {\"bar\": [{\"error_x\": {\"color\": \"#2a3f5f\"}, \"error_y\": {\"color\": \"#2a3f5f\"}, \"marker\": {\"line\": {\"color\": \"#E5ECF6\", \"width\": 0.5}}, \"type\": \"bar\"}], \"barpolar\": [{\"marker\": {\"line\": {\"color\": \"#E5ECF6\", \"width\": 0.5}}, \"type\": \"barpolar\"}], \"carpet\": [{\"aaxis\": {\"endlinecolor\": \"#2a3f5f\", \"gridcolor\": \"white\", \"linecolor\": \"white\", \"minorgridcolor\": \"white\", \"startlinecolor\": \"#2a3f5f\"}, \"baxis\": {\"endlinecolor\": \"#2a3f5f\", \"gridcolor\": \"white\", \"linecolor\": \"white\", \"minorgridcolor\": \"white\", \"startlinecolor\": \"#2a3f5f\"}, \"type\": \"carpet\"}], \"choropleth\": [{\"colorbar\": {\"outlinewidth\": 0, \"ticks\": \"\"}, \"type\": \"choropleth\"}], \"contour\": [{\"colorbar\": {\"outlinewidth\": 0, \"ticks\": \"\"}, \"colorscale\": [[0.0, \"#0d0887\"], [0.1111111111111111, \"#46039f\"], [0.2222222222222222, \"#7201a8\"], [0.3333333333333333, \"#9c179e\"], [0.4444444444444444, \"#bd3786\"], [0.5555555555555556, \"#d8576b\"], [0.6666666666666666, \"#ed7953\"], [0.7777777777777778, \"#fb9f3a\"], [0.8888888888888888, \"#fdca26\"], [1.0, \"#f0f921\"]], \"type\": \"contour\"}], \"contourcarpet\": [{\"colorbar\": {\"outlinewidth\": 0, \"ticks\": \"\"}, \"type\": \"contourcarpet\"}], \"heatmap\": [{\"colorbar\": {\"outlinewidth\": 0, \"ticks\": \"\"}, \"colorscale\": [[0.0, \"#0d0887\"], [0.1111111111111111, \"#46039f\"], [0.2222222222222222, \"#7201a8\"], [0.3333333333333333, \"#9c179e\"], [0.4444444444444444, \"#bd3786\"], [0.5555555555555556, \"#d8576b\"], [0.6666666666666666, \"#ed7953\"], [0.7777777777777778, \"#fb9f3a\"], [0.8888888888888888, \"#fdca26\"], [1.0, \"#f0f921\"]], \"type\": \"heatmap\"}], \"heatmapgl\": [{\"colorbar\": {\"outlinewidth\": 0, \"ticks\": \"\"}, \"colorscale\": [[0.0, \"#0d0887\"], [0.1111111111111111, \"#46039f\"], [0.2222222222222222, \"#7201a8\"], [0.3333333333333333, \"#9c179e\"], [0.4444444444444444, \"#bd3786\"], [0.5555555555555556, \"#d8576b\"], [0.6666666666666666, \"#ed7953\"], [0.7777777777777778, \"#fb9f3a\"], [0.8888888888888888, \"#fdca26\"], [1.0, \"#f0f921\"]], \"type\": \"heatmapgl\"}], \"histogram\": [{\"marker\": {\"colorbar\": {\"outlinewidth\": 0, \"ticks\": \"\"}}, \"type\": \"histogram\"}], \"histogram2d\": [{\"colorbar\": {\"outlinewidth\": 0, \"ticks\": \"\"}, \"colorscale\": [[0.0, \"#0d0887\"], [0.1111111111111111, \"#46039f\"], [0.2222222222222222, \"#7201a8\"], [0.3333333333333333, \"#9c179e\"], [0.4444444444444444, \"#bd3786\"], [0.5555555555555556, \"#d8576b\"], [0.6666666666666666, \"#ed7953\"], [0.7777777777777778, \"#fb9f3a\"], [0.8888888888888888, \"#fdca26\"], [1.0, \"#f0f921\"]], \"type\": \"histogram2d\"}], \"histogram2dcontour\": [{\"colorbar\": {\"outlinewidth\": 0, \"ticks\": \"\"}, \"colorscale\": [[0.0, \"#0d0887\"], [0.1111111111111111, \"#46039f\"], [0.2222222222222222, \"#7201a8\"], [0.3333333333333333, \"#9c179e\"], [0.4444444444444444, \"#bd3786\"], [0.5555555555555556, \"#d8576b\"], [0.6666666666666666, \"#ed7953\"], [0.7777777777777778, \"#fb9f3a\"], [0.8888888888888888, \"#fdca26\"], [1.0, \"#f0f921\"]], \"type\": \"histogram2dcontour\"}], \"mesh3d\": [{\"colorbar\": {\"outlinewidth\": 0, \"ticks\": \"\"}, \"type\": \"mesh3d\"}], \"parcoords\": [{\"line\": {\"colorbar\": {\"outlinewidth\": 0, \"ticks\": \"\"}}, \"type\": \"parcoords\"}], \"pie\": [{\"automargin\": true, \"type\": \"pie\"}], \"scatter\": [{\"marker\": {\"colorbar\": {\"outlinewidth\": 0, \"ticks\": \"\"}}, \"type\": \"scatter\"}], \"scatter3d\": [{\"line\": {\"colorbar\": {\"outlinewidth\": 0, \"ticks\": \"\"}}, \"marker\": {\"colorbar\": {\"outlinewidth\": 0, \"ticks\": \"\"}}, \"type\": \"scatter3d\"}], \"scattercarpet\": [{\"marker\": {\"colorbar\": {\"outlinewidth\": 0, \"ticks\": \"\"}}, \"type\": \"scattercarpet\"}], \"scattergeo\": [{\"marker\": {\"colorbar\": {\"outlinewidth\": 0, \"ticks\": \"\"}}, \"type\": \"scattergeo\"}], \"scattergl\": [{\"marker\": {\"colorbar\": {\"outlinewidth\": 0, \"ticks\": \"\"}}, \"type\": \"scattergl\"}], \"scattermapbox\": [{\"marker\": {\"colorbar\": {\"outlinewidth\": 0, \"ticks\": \"\"}}, \"type\": \"scattermapbox\"}], \"scatterpolar\": [{\"marker\": {\"colorbar\": {\"outlinewidth\": 0, \"ticks\": \"\"}}, \"type\": \"scatterpolar\"}], \"scatterpolargl\": [{\"marker\": {\"colorbar\": {\"outlinewidth\": 0, \"ticks\": \"\"}}, \"type\": \"scatterpolargl\"}], \"scatterternary\": [{\"marker\": {\"colorbar\": {\"outlinewidth\": 0, \"ticks\": \"\"}}, \"type\": \"scatterternary\"}], \"surface\": [{\"colorbar\": {\"outlinewidth\": 0, \"ticks\": \"\"}, \"colorscale\": [[0.0, \"#0d0887\"], [0.1111111111111111, \"#46039f\"], [0.2222222222222222, \"#7201a8\"], [0.3333333333333333, \"#9c179e\"], [0.4444444444444444, \"#bd3786\"], [0.5555555555555556, \"#d8576b\"], [0.6666666666666666, \"#ed7953\"], [0.7777777777777778, \"#fb9f3a\"], [0.8888888888888888, \"#fdca26\"], [1.0, \"#f0f921\"]], \"type\": \"surface\"}], \"table\": [{\"cells\": {\"fill\": {\"color\": \"#EBF0F8\"}, \"line\": {\"color\": \"white\"}}, \"header\": {\"fill\": {\"color\": \"#C8D4E3\"}, \"line\": {\"color\": \"white\"}}, \"type\": \"table\"}]}, \"layout\": {\"annotationdefaults\": {\"arrowcolor\": \"#2a3f5f\", \"arrowhead\": 0, \"arrowwidth\": 1}, \"autotypenumbers\": \"strict\", \"coloraxis\": {\"colorbar\": {\"outlinewidth\": 0, \"ticks\": \"\"}}, \"colorscale\": {\"diverging\": [[0, \"#8e0152\"], [0.1, \"#c51b7d\"], [0.2, \"#de77ae\"], [0.3, \"#f1b6da\"], [0.4, \"#fde0ef\"], [0.5, \"#f7f7f7\"], [0.6, \"#e6f5d0\"], [0.7, \"#b8e186\"], [0.8, \"#7fbc41\"], [0.9, \"#4d9221\"], [1, \"#276419\"]], \"sequential\": [[0.0, \"#0d0887\"], [0.1111111111111111, \"#46039f\"], [0.2222222222222222, \"#7201a8\"], [0.3333333333333333, \"#9c179e\"], [0.4444444444444444, \"#bd3786\"], [0.5555555555555556, \"#d8576b\"], [0.6666666666666666, \"#ed7953\"], [0.7777777777777778, \"#fb9f3a\"], [0.8888888888888888, \"#fdca26\"], [1.0, \"#f0f921\"]], \"sequentialminus\": [[0.0, \"#0d0887\"], [0.1111111111111111, \"#46039f\"], [0.2222222222222222, \"#7201a8\"], [0.3333333333333333, \"#9c179e\"], [0.4444444444444444, \"#bd3786\"], [0.5555555555555556, \"#d8576b\"], [0.6666666666666666, \"#ed7953\"], [0.7777777777777778, \"#fb9f3a\"], [0.8888888888888888, \"#fdca26\"], [1.0, \"#f0f921\"]]}, \"colorway\": [\"#636efa\", \"#EF553B\", \"#00cc96\", \"#ab63fa\", \"#FFA15A\", \"#19d3f3\", \"#FF6692\", \"#B6E880\", \"#FF97FF\", \"#FECB52\"], \"font\": {\"color\": \"#2a3f5f\"}, \"geo\": {\"bgcolor\": \"white\", \"lakecolor\": \"white\", \"landcolor\": \"#E5ECF6\", \"showlakes\": true, \"showland\": true, \"subunitcolor\": \"white\"}, \"hoverlabel\": {\"align\": \"left\"}, \"hovermode\": \"closest\", \"mapbox\": {\"style\": \"light\"}, \"paper_bgcolor\": \"white\", \"plot_bgcolor\": \"#E5ECF6\", \"polar\": {\"angularaxis\": {\"gridcolor\": \"white\", \"linecolor\": \"white\", \"ticks\": \"\"}, \"bgcolor\": \"#E5ECF6\", \"radialaxis\": {\"gridcolor\": \"white\", \"linecolor\": \"white\", \"ticks\": \"\"}}, \"scene\": {\"xaxis\": {\"backgroundcolor\": \"#E5ECF6\", \"gridcolor\": \"white\", \"gridwidth\": 2, \"linecolor\": \"white\", \"showbackground\": true, \"ticks\": \"\", \"zerolinecolor\": \"white\"}, \"yaxis\": {\"backgroundcolor\": \"#E5ECF6\", \"gridcolor\": \"white\", \"gridwidth\": 2, \"linecolor\": \"white\", \"showbackground\": true, \"ticks\": \"\", \"zerolinecolor\": \"white\"}, \"zaxis\": {\"backgroundcolor\": \"#E5ECF6\", \"gridcolor\": \"white\", \"gridwidth\": 2, \"linecolor\": \"white\", \"showbackground\": true, \"ticks\": \"\", \"zerolinecolor\": \"white\"}}, \"shapedefaults\": {\"line\": {\"color\": \"#2a3f5f\"}}, \"ternary\": {\"aaxis\": {\"gridcolor\": \"white\", \"linecolor\": \"white\", \"ticks\": \"\"}, \"baxis\": {\"gridcolor\": \"white\", \"linecolor\": \"white\", \"ticks\": \"\"}, \"bgcolor\": \"#E5ECF6\", \"caxis\": {\"gridcolor\": \"white\", \"linecolor\": \"white\", \"ticks\": \"\"}}, \"title\": {\"x\": 0.05}, \"xaxis\": {\"automargin\": true, \"gridcolor\": \"white\", \"linecolor\": \"white\", \"ticks\": \"\", \"title\": {\"standoff\": 15}, \"zerolinecolor\": \"white\", \"zerolinewidth\": 2}, \"yaxis\": {\"automargin\": true, \"gridcolor\": \"white\", \"linecolor\": \"white\", \"ticks\": \"\", \"title\": {\"standoff\": 15}, \"zerolinecolor\": \"white\", \"zerolinewidth\": 2}}}, \"xaxis\": {\"anchor\": \"y\", \"categoryarray\": [\"Shoppings\", \"Lajes Corporativas\", \"Log\\u00edstica\", \"T\\u00edtulos e Val. Mob.\", \"Outros\", \"H\\u00edbrido\", \"Residencial\", \"Hospital\", \"Hotel\"], \"categoryorder\": \"array\", \"domain\": [0.0, 1.0], \"title\": {\"text\": \"SETOR\"}}, \"yaxis\": {\"anchor\": \"x\", \"domain\": [0.0, 1.0], \"title\": {\"text\": \"LIQUIDEZ DI\\u00c1RIA\"}}},                        {\"responsive\": true}                    ).then(function(){\n",
       "                            \n",
       "var gd = document.getElementById('eac1ffb0-f9af-4000-af98-185f31e047ef');\n",
       "var x = new MutationObserver(function (mutations, observer) {{\n",
       "        var display = window.getComputedStyle(gd).display;\n",
       "        if (!display || display === 'none') {{\n",
       "            console.log([gd, 'removed!']);\n",
       "            Plotly.purge(gd);\n",
       "            observer.disconnect();\n",
       "        }}\n",
       "}});\n",
       "\n",
       "// Listen for the removal of the full notebook cells\n",
       "var notebookContainer = gd.closest('#notebook-container');\n",
       "if (notebookContainer) {{\n",
       "    x.observe(notebookContainer, {childList: true});\n",
       "}}\n",
       "\n",
       "// Listen for the clearing of the current output cell\n",
       "var outputEl = gd.closest('.output');\n",
       "if (outputEl) {{\n",
       "    x.observe(outputEl, {childList: true});\n",
       "}}\n",
       "\n",
       "                        })                };                });            </script>        </div>"
      ]
     },
     "metadata": {},
     "output_type": "display_data"
    }
   ],
   "source": [
    "import plotly.express as px\n",
    "fig = px.box(dfjoin[dfjoin['LIQUIDEZ DIÁRIA']<100000],x='SETOR',y='LIQUIDEZ DIÁRIA',color='SETOR')\n",
    "fig.show()"
   ]
  },
  {
   "cell_type": "markdown",
   "metadata": {},
   "source": [
    "## Dividend Yield (12M) ACUMULADO"
   ]
  },
  {
   "cell_type": "code",
   "execution_count": 64,
   "metadata": {},
   "outputs": [
    {
     "data": {
      "text/plain": [
       "<AxesSubplot:xlabel='DY (12M) ACUMULADO', ylabel='Count'>"
      ]
     },
     "execution_count": 64,
     "metadata": {},
     "output_type": "execute_result"
    },
    {
     "data": {
      "image/png": "[encoded data removed]",
      "text/plain": [
       "<Figure size 720x360 with 1 Axes>"
      ]
     },
     "metadata": {
      "needs_background": "light"
     },
     "output_type": "display_data"
    }
   ],
   "source": [
    "plt.figure(figsize=(10,5))\n",
    "sns.histplot(data=dfjoin, x='DY (12M) ACUMULADO',hue='GANHO DE PRECO', bins=50)"
   ]
  },
  {
   "cell_type": "code",
   "execution_count": 72,
   "metadata": {},
   "outputs": [
    {
     "data": {
      "text/html": [
       "<div>\n",
       "<style scoped>\n",
       "    .dataframe tbody tr th:only-of-type {\n",
       "        vertical-align: middle;\n",
       "    }\n",
       "\n",
       "    .dataframe tbody tr th {\n",
       "        vertical-align: top;\n",
       "    }\n",
       "\n",
       "    .dataframe thead th {\n",
       "        text-align: right;\n",
       "    }\n",
       "</style>\n",
       "<table border=\"1\" class=\"dataframe\">\n",
       "  <thead>\n",
       "    <tr style=\"text-align: right;\">\n",
       "      <th></th>\n",
       "      <th>count</th>\n",
       "      <th>mean</th>\n",
       "      <th>std</th>\n",
       "      <th>min</th>\n",
       "      <th>25%</th>\n",
       "      <th>50%</th>\n",
       "      <th>75%</th>\n",
       "      <th>max</th>\n",
       "    </tr>\n",
       "    <tr>\n",
       "      <th>GANHO DE PRECO</th>\n",
       "      <th></th>\n",
       "      <th></th>\n",
       "      <th></th>\n",
       "      <th></th>\n",
       "      <th></th>\n",
       "      <th></th>\n",
       "      <th></th>\n",
       "      <th></th>\n",
       "    </tr>\n",
       "  </thead>\n",
       "  <tbody>\n",
       "    <tr>\n",
       "      <th>nao</th>\n",
       "      <td>134.0</td>\n",
       "      <td>5.932313</td>\n",
       "      <td>4.006245</td>\n",
       "      <td>0.0</td>\n",
       "      <td>3.3575</td>\n",
       "      <td>6.62</td>\n",
       "      <td>8.2225</td>\n",
       "      <td>18.63</td>\n",
       "    </tr>\n",
       "    <tr>\n",
       "      <th>sim</th>\n",
       "      <td>17.0</td>\n",
       "      <td>5.155882</td>\n",
       "      <td>3.341413</td>\n",
       "      <td>0.0</td>\n",
       "      <td>2.7800</td>\n",
       "      <td>5.85</td>\n",
       "      <td>7.9900</td>\n",
       "      <td>10.11</td>\n",
       "    </tr>\n",
       "  </tbody>\n",
       "</table>\n",
       "</div>"
      ],
      "text/plain": [
       "                count      mean       std  min     25%   50%     75%    max\n",
       "GANHO DE PRECO                                                             \n",
       "nao             134.0  5.932313  4.006245  0.0  3.3575  6.62  8.2225  18.63\n",
       "sim              17.0  5.155882  3.341413  0.0  2.7800  5.85  7.9900  10.11"
      ]
     },
     "execution_count": 72,
     "metadata": {},
     "output_type": "execute_result"
    }
   ],
   "source": [
    "dfjoin.groupby('GANHO DE PRECO')['DY (12M) ACUMULADO'].describe()"
   ]
  },
  {
   "cell_type": "markdown",
   "metadata": {},
   "source": [
    "O dividend yield acumulado dos ultimos 12 meses não influencia o ganho de preço"
   ]
  },
  {
   "cell_type": "markdown",
   "metadata": {},
   "source": [
    "## Dividend Yield (12M) MÉDIA"
   ]
  },
  {
   "cell_type": "code",
   "execution_count": 74,
   "metadata": {},
   "outputs": [
    {
     "data": {
      "text/plain": [
       "<AxesSubplot:xlabel='DY(12M) MÉDIA', ylabel='Count'>"
      ]
     },
     "execution_count": 74,
     "metadata": {},
     "output_type": "execute_result"
    },
    {
     "data": {
      "image/png": "[encoded data removed]",
      "text/plain": [
       "<Figure size 720x360 with 1 Axes>"
      ]
     },
     "metadata": {
      "needs_background": "light"
     },
     "output_type": "display_data"
    }
   ],
   "source": [
    "plt.figure(figsize=(10,5))\n",
    "sns.histplot(data=dfjoin, x='DY(12M) MÉDIA',hue='GANHO DE PRECO', bins=50)"
   ]
  },
  {
   "cell_type": "code",
   "execution_count": 75,
   "metadata": {},
   "outputs": [
    {
     "data": {
      "text/html": [
       "<div>\n",
       "<style scoped>\n",
       "    .dataframe tbody tr th:only-of-type {\n",
       "        vertical-align: middle;\n",
       "    }\n",
       "\n",
       "    .dataframe tbody tr th {\n",
       "        vertical-align: top;\n",
       "    }\n",
       "\n",
       "    .dataframe thead th {\n",
       "        text-align: right;\n",
       "    }\n",
       "</style>\n",
       "<table border=\"1\" class=\"dataframe\">\n",
       "  <thead>\n",
       "    <tr style=\"text-align: right;\">\n",
       "      <th></th>\n",
       "      <th>count</th>\n",
       "      <th>mean</th>\n",
       "      <th>std</th>\n",
       "      <th>min</th>\n",
       "      <th>25%</th>\n",
       "      <th>50%</th>\n",
       "      <th>75%</th>\n",
       "      <th>max</th>\n",
       "    </tr>\n",
       "    <tr>\n",
       "      <th>GANHO DE PRECO</th>\n",
       "      <th></th>\n",
       "      <th></th>\n",
       "      <th></th>\n",
       "      <th></th>\n",
       "      <th></th>\n",
       "      <th></th>\n",
       "      <th></th>\n",
       "      <th></th>\n",
       "    </tr>\n",
       "  </thead>\n",
       "  <tbody>\n",
       "    <tr>\n",
       "      <th>nao</th>\n",
       "      <td>134.0</td>\n",
       "      <td>0.494478</td>\n",
       "      <td>0.333696</td>\n",
       "      <td>0.0</td>\n",
       "      <td>0.28</td>\n",
       "      <td>0.55</td>\n",
       "      <td>0.6875</td>\n",
       "      <td>1.55</td>\n",
       "    </tr>\n",
       "    <tr>\n",
       "      <th>sim</th>\n",
       "      <td>17.0</td>\n",
       "      <td>0.429412</td>\n",
       "      <td>0.278847</td>\n",
       "      <td>0.0</td>\n",
       "      <td>0.23</td>\n",
       "      <td>0.49</td>\n",
       "      <td>0.6700</td>\n",
       "      <td>0.84</td>\n",
       "    </tr>\n",
       "  </tbody>\n",
       "</table>\n",
       "</div>"
      ],
      "text/plain": [
       "                count      mean       std  min   25%   50%     75%   max\n",
       "GANHO DE PRECO                                                          \n",
       "nao             134.0  0.494478  0.333696  0.0  0.28  0.55  0.6875  1.55\n",
       "sim              17.0  0.429412  0.278847  0.0  0.23  0.49  0.6700  0.84"
      ]
     },
     "execution_count": 75,
     "metadata": {},
     "output_type": "execute_result"
    }
   ],
   "source": [
    "dfjoin.groupby('GANHO DE PRECO')['DY(12M) MÉDIA'].describe()"
   ]
  },
  {
   "cell_type": "markdown",
   "metadata": {},
   "source": [
    "O dividend yield médio dos ultimos 12 meses não influencia o ganho de preço"
   ]
  },
  {
   "cell_type": "markdown",
   "metadata": {},
   "source": [
    "## PATRIMONIO LÍQUIDO"
   ]
  },
  {
   "cell_type": "code",
   "execution_count": 77,
   "metadata": {},
   "outputs": [
    {
     "data": {
      "text/plain": [
       "<AxesSubplot:xlabel='PATRI LIQ', ylabel='Count'>"
      ]
     },
     "execution_count": 77,
     "metadata": {},
     "output_type": "execute_result"
    },
    {
     "data": {
      "image/png": "[encoded data removed]",
      "text/plain": [
       "<Figure size 720x360 with 1 Axes>"
      ]
     },
     "metadata": {
      "needs_background": "light"
     },
     "output_type": "display_data"
    }
   ],
   "source": [
    "plt.figure(figsize=(10,5))\n",
    "sns.histplot(data=dfjoin, x='PATRI LIQ',hue='GANHO DE PRECO', bins=50)"
   ]
  },
  {
   "cell_type": "code",
   "execution_count": 78,
   "metadata": {},
   "outputs": [
    {
     "data": {
      "text/html": [
       "<div>\n",
       "<style scoped>\n",
       "    .dataframe tbody tr th:only-of-type {\n",
       "        vertical-align: middle;\n",
       "    }\n",
       "\n",
       "    .dataframe tbody tr th {\n",
       "        vertical-align: top;\n",
       "    }\n",
       "\n",
       "    .dataframe thead th {\n",
       "        text-align: right;\n",
       "    }\n",
       "</style>\n",
       "<table border=\"1\" class=\"dataframe\">\n",
       "  <thead>\n",
       "    <tr style=\"text-align: right;\">\n",
       "      <th></th>\n",
       "      <th>count</th>\n",
       "      <th>mean</th>\n",
       "      <th>std</th>\n",
       "      <th>min</th>\n",
       "      <th>25%</th>\n",
       "      <th>50%</th>\n",
       "      <th>75%</th>\n",
       "      <th>max</th>\n",
       "    </tr>\n",
       "    <tr>\n",
       "      <th>GANHO DE PRECO</th>\n",
       "      <th></th>\n",
       "      <th></th>\n",
       "      <th></th>\n",
       "      <th></th>\n",
       "      <th></th>\n",
       "      <th></th>\n",
       "      <th></th>\n",
       "      <th></th>\n",
       "    </tr>\n",
       "  </thead>\n",
       "  <tbody>\n",
       "    <tr>\n",
       "      <th>nao</th>\n",
       "      <td>134.0</td>\n",
       "      <td>4.090423e+08</td>\n",
       "      <td>6.537341e+08</td>\n",
       "      <td>110007.73</td>\n",
       "      <td>1.048938e+08</td>\n",
       "      <td>1.979383e+08</td>\n",
       "      <td>3.969100e+08</td>\n",
       "      <td>4.088341e+09</td>\n",
       "    </tr>\n",
       "    <tr>\n",
       "      <th>sim</th>\n",
       "      <td>17.0</td>\n",
       "      <td>4.114524e+08</td>\n",
       "      <td>4.299551e+08</td>\n",
       "      <td>71839432.88</td>\n",
       "      <td>1.253756e+08</td>\n",
       "      <td>2.475511e+08</td>\n",
       "      <td>4.063187e+08</td>\n",
       "      <td>1.518960e+09</td>\n",
       "    </tr>\n",
       "  </tbody>\n",
       "</table>\n",
       "</div>"
      ],
      "text/plain": [
       "                count          mean           std          min           25%  \\\n",
       "GANHO DE PRECO                                                                 \n",
       "nao             134.0  4.090423e+08  6.537341e+08    110007.73  1.048938e+08   \n",
       "sim              17.0  4.114524e+08  4.299551e+08  71839432.88  1.253756e+08   \n",
       "\n",
       "                         50%           75%           max  \n",
       "GANHO DE PRECO                                            \n",
       "nao             1.979383e+08  3.969100e+08  4.088341e+09  \n",
       "sim             2.475511e+08  4.063187e+08  1.518960e+09  "
      ]
     },
     "execution_count": 78,
     "metadata": {},
     "output_type": "execute_result"
    }
   ],
   "source": [
    "dfjoin.groupby('GANHO DE PRECO')['PATRI LIQ'].describe()"
   ]
  },
  {
   "cell_type": "markdown",
   "metadata": {},
   "source": [
    "## PREÇO/VALOR PATRIMONIAL"
   ]
  },
  {
   "cell_type": "code",
   "execution_count": 81,
   "metadata": {},
   "outputs": [
    {
     "data": {
      "text/plain": [
       "<AxesSubplot:xlabel='P/VPA', ylabel='Count'>"
      ]
     },
     "execution_count": 81,
     "metadata": {},
     "output_type": "execute_result"
    },
    {
     "data": {
      "image/png": "[encoded data removed]",
      "text/plain": [
       "<Figure size 720x360 with 1 Axes>"
      ]
     },
     "metadata": {
      "needs_background": "light"
     },
     "output_type": "display_data"
    }
   ],
   "source": [
    "plt.figure(figsize=(10,5))\n",
    "sns.histplot(data=dfjoin[dfjoin['P/VPA']<2], x='P/VPA',hue='GANHO DE PRECO', bins=30)"
   ]
  },
  {
   "cell_type": "code",
   "execution_count": 82,
   "metadata": {},
   "outputs": [
    {
     "data": {
      "text/html": [
       "<div>\n",
       "<style scoped>\n",
       "    .dataframe tbody tr th:only-of-type {\n",
       "        vertical-align: middle;\n",
       "    }\n",
       "\n",
       "    .dataframe tbody tr th {\n",
       "        vertical-align: top;\n",
       "    }\n",
       "\n",
       "    .dataframe thead th {\n",
       "        text-align: right;\n",
       "    }\n",
       "</style>\n",
       "<table border=\"1\" class=\"dataframe\">\n",
       "  <thead>\n",
       "    <tr style=\"text-align: right;\">\n",
       "      <th></th>\n",
       "      <th>count</th>\n",
       "      <th>mean</th>\n",
       "      <th>std</th>\n",
       "      <th>min</th>\n",
       "      <th>25%</th>\n",
       "      <th>50%</th>\n",
       "      <th>75%</th>\n",
       "      <th>max</th>\n",
       "    </tr>\n",
       "    <tr>\n",
       "      <th>GANHO DE PRECO</th>\n",
       "      <th></th>\n",
       "      <th></th>\n",
       "      <th></th>\n",
       "      <th></th>\n",
       "      <th></th>\n",
       "      <th></th>\n",
       "      <th></th>\n",
       "      <th></th>\n",
       "    </tr>\n",
       "  </thead>\n",
       "  <tbody>\n",
       "    <tr>\n",
       "      <th>nao</th>\n",
       "      <td>133.0</td>\n",
       "      <td>1.177068</td>\n",
       "      <td>0.858082</td>\n",
       "      <td>0.10</td>\n",
       "      <td>1.01</td>\n",
       "      <td>1.10</td>\n",
       "      <td>1.26</td>\n",
       "      <td>10.62</td>\n",
       "    </tr>\n",
       "    <tr>\n",
       "      <th>sim</th>\n",
       "      <td>17.0</td>\n",
       "      <td>1.177647</td>\n",
       "      <td>0.269178</td>\n",
       "      <td>0.59</td>\n",
       "      <td>1.06</td>\n",
       "      <td>1.21</td>\n",
       "      <td>1.33</td>\n",
       "      <td>1.78</td>\n",
       "    </tr>\n",
       "  </tbody>\n",
       "</table>\n",
       "</div>"
      ],
      "text/plain": [
       "                count      mean       std   min   25%   50%   75%    max\n",
       "GANHO DE PRECO                                                          \n",
       "nao             133.0  1.177068  0.858082  0.10  1.01  1.10  1.26  10.62\n",
       "sim              17.0  1.177647  0.269178  0.59  1.06  1.21  1.33   1.78"
      ]
     },
     "execution_count": 82,
     "metadata": {},
     "output_type": "execute_result"
    }
   ],
   "source": [
    "dfjoin.groupby('GANHO DE PRECO')['P/VPA'].describe()"
   ]
  },
  {
   "cell_type": "markdown",
   "metadata": {},
   "source": [
    "O patrimonio líquido não influencia muit no ganho de preço"
   ]
  },
  {
   "cell_type": "markdown",
   "metadata": {},
   "source": [
    "## VACANCIA FÍSICA"
   ]
  },
  {
   "cell_type": "code",
   "execution_count": 89,
   "metadata": {},
   "outputs": [
    {
     "data": {
      "text/plain": [
       "<AxesSubplot:xlabel='VAC FISICA', ylabel='Count'>"
      ]
     },
     "execution_count": 89,
     "metadata": {},
     "output_type": "execute_result"
    },
    {
     "data": {
      "image/png": "[encoded data removed]",
      "text/plain": [
       "<Figure size 720x360 with 1 Axes>"
      ]
     },
     "metadata": {
      "needs_background": "light"
     },
     "output_type": "display_data"
    }
   ],
   "source": [
    "plt.figure(figsize=(10,5))\n",
    "sns.histplot(data=dfjoin, x='VAC FISICA',hue='GANHO DE PRECO', bins=30)"
   ]
  },
  {
   "cell_type": "code",
   "execution_count": 90,
   "metadata": {},
   "outputs": [
    {
     "data": {
      "text/html": [
       "<div>\n",
       "<style scoped>\n",
       "    .dataframe tbody tr th:only-of-type {\n",
       "        vertical-align: middle;\n",
       "    }\n",
       "\n",
       "    .dataframe tbody tr th {\n",
       "        vertical-align: top;\n",
       "    }\n",
       "\n",
       "    .dataframe thead th {\n",
       "        text-align: right;\n",
       "    }\n",
       "</style>\n",
       "<table border=\"1\" class=\"dataframe\">\n",
       "  <thead>\n",
       "    <tr style=\"text-align: right;\">\n",
       "      <th></th>\n",
       "      <th>count</th>\n",
       "      <th>mean</th>\n",
       "      <th>std</th>\n",
       "      <th>min</th>\n",
       "      <th>25%</th>\n",
       "      <th>50%</th>\n",
       "      <th>75%</th>\n",
       "      <th>max</th>\n",
       "    </tr>\n",
       "    <tr>\n",
       "      <th>GANHO DE PRECO</th>\n",
       "      <th></th>\n",
       "      <th></th>\n",
       "      <th></th>\n",
       "      <th></th>\n",
       "      <th></th>\n",
       "      <th></th>\n",
       "      <th></th>\n",
       "      <th></th>\n",
       "    </tr>\n",
       "  </thead>\n",
       "  <tbody>\n",
       "    <tr>\n",
       "      <th>nao</th>\n",
       "      <td>74.0</td>\n",
       "      <td>12.872973</td>\n",
       "      <td>20.254773</td>\n",
       "      <td>0.0</td>\n",
       "      <td>0.0</td>\n",
       "      <td>4.975</td>\n",
       "      <td>16.025</td>\n",
       "      <td>100.00</td>\n",
       "    </tr>\n",
       "    <tr>\n",
       "      <th>sim</th>\n",
       "      <td>8.0</td>\n",
       "      <td>5.062500</td>\n",
       "      <td>6.532081</td>\n",
       "      <td>0.0</td>\n",
       "      <td>0.0</td>\n",
       "      <td>3.115</td>\n",
       "      <td>7.200</td>\n",
       "      <td>19.07</td>\n",
       "    </tr>\n",
       "  </tbody>\n",
       "</table>\n",
       "</div>"
      ],
      "text/plain": [
       "                count       mean        std  min  25%    50%     75%     max\n",
       "GANHO DE PRECO                                                              \n",
       "nao              74.0  12.872973  20.254773  0.0  0.0  4.975  16.025  100.00\n",
       "sim               8.0   5.062500   6.532081  0.0  0.0  3.115   7.200   19.07"
      ]
     },
     "execution_count": 90,
     "metadata": {},
     "output_type": "execute_result"
    }
   ],
   "source": [
    "dfjoin.groupby('GANHO DE PRECO')['VAC FISICA'].describe()"
   ]
  },
  {
   "cell_type": "code",
   "execution_count": 107,
   "metadata": {},
   "outputs": [
    {
     "data": {
      "text/plain": [
       "(0.0, 40.0)"
      ]
     },
     "execution_count": 107,
     "metadata": {},
     "output_type": "execute_result"
    },
    {
     "data": {
      "image/png": "[encoded data removed]",
      "text/plain": [
       "<Figure size 864x360 with 2 Axes>"
      ]
     },
     "metadata": {
      "needs_background": "light"
     },
     "output_type": "display_data"
    }
   ],
   "source": [
    "plt.figure(figsize=(12,5))\n",
    "plt.subplot(1,2,1)\n",
    "sns.boxplot(data=dfjoin[dfjoin['GANHO DE PRECO']=='sim'],y='VAC FISICA')\n",
    "plt.title('Vacancia Física para FIIs com aumento de preço')\n",
    "plt.ylim([0, 40])\n",
    "plt.subplot(1,2,2)\n",
    "sns.boxplot(data=dfjoin[dfjoin['GANHO DE PRECO']=='nao'],y='VAC FISICA',color='green')\n",
    "plt.title('Vacancia Física para FIIs sem aumento de preço')\n",
    "plt.ylim([0, 40])"
   ]
  },
  {
   "cell_type": "markdown",
   "metadata": {},
   "source": [
    "A vacancia apresentou uma boa influencia para o ganho de preços"
   ]
  },
  {
   "cell_type": "markdown",
   "metadata": {},
   "source": [
    "## VACANCIA FINANCEIRA"
   ]
  },
  {
   "cell_type": "code",
   "execution_count": 88,
   "metadata": {},
   "outputs": [
    {
     "data": {
      "text/plain": [
       "<AxesSubplot:xlabel='VAC FINANCEIRA', ylabel='Count'>"
      ]
     },
     "execution_count": 88,
     "metadata": {},
     "output_type": "execute_result"
    },
    {
     "data": {
      "image/png": "[encoded data removed]",
      "text/plain": [
       "<Figure size 720x360 with 1 Axes>"
      ]
     },
     "metadata": {
      "needs_background": "light"
     },
     "output_type": "display_data"
    }
   ],
   "source": [
    "plt.figure(figsize=(10,5))\n",
    "sns.histplot(data=dfjoin, x='VAC FINANCEIRA',hue='GANHO DE PRECO', bins=50)"
   ]
  },
  {
   "cell_type": "code",
   "execution_count": 87,
   "metadata": {},
   "outputs": [
    {
     "data": {
      "text/html": [
       "<div>\n",
       "<style scoped>\n",
       "    .dataframe tbody tr th:only-of-type {\n",
       "        vertical-align: middle;\n",
       "    }\n",
       "\n",
       "    .dataframe tbody tr th {\n",
       "        vertical-align: top;\n",
       "    }\n",
       "\n",
       "    .dataframe thead th {\n",
       "        text-align: right;\n",
       "    }\n",
       "</style>\n",
       "<table border=\"1\" class=\"dataframe\">\n",
       "  <thead>\n",
       "    <tr style=\"text-align: right;\">\n",
       "      <th></th>\n",
       "      <th>count</th>\n",
       "      <th>mean</th>\n",
       "      <th>std</th>\n",
       "      <th>min</th>\n",
       "      <th>25%</th>\n",
       "      <th>50%</th>\n",
       "      <th>75%</th>\n",
       "      <th>max</th>\n",
       "    </tr>\n",
       "    <tr>\n",
       "      <th>GANHO DE PRECO</th>\n",
       "      <th></th>\n",
       "      <th></th>\n",
       "      <th></th>\n",
       "      <th></th>\n",
       "      <th></th>\n",
       "      <th></th>\n",
       "      <th></th>\n",
       "      <th></th>\n",
       "    </tr>\n",
       "  </thead>\n",
       "  <tbody>\n",
       "    <tr>\n",
       "      <th>nao</th>\n",
       "      <td>9.0</td>\n",
       "      <td>21.243333</td>\n",
       "      <td>31.013742</td>\n",
       "      <td>0.00</td>\n",
       "      <td>6.91</td>\n",
       "      <td>10.9</td>\n",
       "      <td>25.70</td>\n",
       "      <td>100.0</td>\n",
       "    </tr>\n",
       "    <tr>\n",
       "      <th>sim</th>\n",
       "      <td>3.0</td>\n",
       "      <td>4.860000</td>\n",
       "      <td>3.410396</td>\n",
       "      <td>1.48</td>\n",
       "      <td>3.14</td>\n",
       "      <td>4.8</td>\n",
       "      <td>6.55</td>\n",
       "      <td>8.3</td>\n",
       "    </tr>\n",
       "  </tbody>\n",
       "</table>\n",
       "</div>"
      ],
      "text/plain": [
       "                count       mean        std   min   25%   50%    75%    max\n",
       "GANHO DE PRECO                                                             \n",
       "nao               9.0  21.243333  31.013742  0.00  6.91  10.9  25.70  100.0\n",
       "sim               3.0   4.860000   3.410396  1.48  3.14   4.8   6.55    8.3"
      ]
     },
     "execution_count": 87,
     "metadata": {},
     "output_type": "execute_result"
    }
   ],
   "source": [
    "dfjoin.groupby('GANHO DE PRECO')['VAC FINANCEIRA'].describe()"
   ]
  },
  {
   "cell_type": "markdown",
   "metadata": {},
   "source": [
    "O patrimonio líquido não influencia muit no ganho de preço"
   ]
  },
  {
   "cell_type": "markdown",
   "metadata": {},
   "source": [
    "## QUANTIDADE DE ATIVOS"
   ]
  },
  {
   "cell_type": "code",
   "execution_count": 83,
   "metadata": {},
   "outputs": [
    {
     "data": {
      "text/plain": [
       "<AxesSubplot:xlabel='QUANTIDADE ATIVOS', ylabel='Count'>"
      ]
     },
     "execution_count": 83,
     "metadata": {},
     "output_type": "execute_result"
    },
    {
     "data": {
      "image/png": "[encoded data removed]",
      "text/plain": [
       "<Figure size 720x360 with 1 Axes>"
      ]
     },
     "metadata": {
      "needs_background": "light"
     },
     "output_type": "display_data"
    }
   ],
   "source": [
    "plt.figure(figsize=(10,5))\n",
    "sns.histplot(data=dfjoin, x='QUANTIDADE ATIVOS',hue='GANHO DE PRECO', bins=30)"
   ]
  },
  {
   "cell_type": "code",
   "execution_count": 84,
   "metadata": {},
   "outputs": [
    {
     "data": {
      "text/html": [
       "<div>\n",
       "<style scoped>\n",
       "    .dataframe tbody tr th:only-of-type {\n",
       "        vertical-align: middle;\n",
       "    }\n",
       "\n",
       "    .dataframe tbody tr th {\n",
       "        vertical-align: top;\n",
       "    }\n",
       "\n",
       "    .dataframe thead th {\n",
       "        text-align: right;\n",
       "    }\n",
       "</style>\n",
       "<table border=\"1\" class=\"dataframe\">\n",
       "  <thead>\n",
       "    <tr style=\"text-align: right;\">\n",
       "      <th></th>\n",
       "      <th>count</th>\n",
       "      <th>mean</th>\n",
       "      <th>std</th>\n",
       "      <th>min</th>\n",
       "      <th>25%</th>\n",
       "      <th>50%</th>\n",
       "      <th>75%</th>\n",
       "      <th>max</th>\n",
       "    </tr>\n",
       "    <tr>\n",
       "      <th>GANHO DE PRECO</th>\n",
       "      <th></th>\n",
       "      <th></th>\n",
       "      <th></th>\n",
       "      <th></th>\n",
       "      <th></th>\n",
       "      <th></th>\n",
       "      <th></th>\n",
       "      <th></th>\n",
       "    </tr>\n",
       "  </thead>\n",
       "  <tbody>\n",
       "    <tr>\n",
       "      <th>nao</th>\n",
       "      <td>134.0</td>\n",
       "      <td>3.343284</td>\n",
       "      <td>7.961472</td>\n",
       "      <td>0.0</td>\n",
       "      <td>0.0</td>\n",
       "      <td>1.0</td>\n",
       "      <td>3.0</td>\n",
       "      <td>64.0</td>\n",
       "    </tr>\n",
       "    <tr>\n",
       "      <th>sim</th>\n",
       "      <td>17.0</td>\n",
       "      <td>3.352941</td>\n",
       "      <td>5.567104</td>\n",
       "      <td>0.0</td>\n",
       "      <td>0.0</td>\n",
       "      <td>1.0</td>\n",
       "      <td>3.0</td>\n",
       "      <td>20.0</td>\n",
       "    </tr>\n",
       "  </tbody>\n",
       "</table>\n",
       "</div>"
      ],
      "text/plain": [
       "                count      mean       std  min  25%  50%  75%   max\n",
       "GANHO DE PRECO                                                     \n",
       "nao             134.0  3.343284  7.961472  0.0  0.0  1.0  3.0  64.0\n",
       "sim              17.0  3.352941  5.567104  0.0  0.0  1.0  3.0  20.0"
      ]
     },
     "execution_count": 84,
     "metadata": {},
     "output_type": "execute_result"
    }
   ],
   "source": [
    "dfjoin.groupby('GANHO DE PRECO')['QUANTIDADE ATIVOS'].describe()"
   ]
  },
  {
   "cell_type": "markdown",
   "metadata": {},
   "source": [
    "O patrimonio líquido não influencia muit no ganho de preço"
   ]
  },
  {
   "cell_type": "code",
   "execution_count": 73,
   "metadata": {},
   "outputs": [
    {
     "name": "stdout",
     "output_type": "stream",
     "text": [
      "<class 'pandas.core.frame.DataFrame'>\n",
      "RangeIndex: 151 entries, 0 to 150\n",
      "Data columns (total 26 columns):\n",
      " #   Column               Non-Null Count  Dtype  \n",
      "---  ------               --------------  -----  \n",
      " 0   CODIGO               151 non-null    object \n",
      " 1   SETOR                151 non-null    object \n",
      " 2   PREÇO ATUAL          150 non-null    float64\n",
      " 3   LIQUIDEZ DIÁRIA      150 non-null    float64\n",
      " 4   DIVIDENDO            151 non-null    float64\n",
      " 5   DIVIDEND YIELD       151 non-null    float64\n",
      " 6   DY(3M) ACUMULADO     151 non-null    float64\n",
      " 7   DY (6M) ACUMULADO    151 non-null    float64\n",
      " 8   DY (12M) ACUMULADO   151 non-null    float64\n",
      " 9   DY(3M) MÉDIA         151 non-null    float64\n",
      " 10  DY(6M) MÉDIA         151 non-null    float64\n",
      " 11  DY(12M) MÉDIA        151 non-null    float64\n",
      " 12  DY ANO               148 non-null    float64\n",
      " 13  VARIAÇÕES DE PREÇO   151 non-null    float64\n",
      " 14  RENTA PERIODO        151 non-null    float64\n",
      " 15  RENTAB ACUMU         151 non-null    float64\n",
      " 16  PATRI LIQ            151 non-null    float64\n",
      " 17  VPA                  151 non-null    float64\n",
      " 18  P/VPA                150 non-null    float64\n",
      " 19  DY PATRIMONIAL       135 non-null    float64\n",
      " 20  VARIAÇÃO PATRI       135 non-null    float64\n",
      " 21  RENTAB PATR PERIODO  135 non-null    float64\n",
      " 22  RENT PATRI ACUMU     135 non-null    float64\n",
      " 23  VAC FISICA           82 non-null     float64\n",
      " 24  VAC FINANCEIRA       12 non-null     float64\n",
      " 25  QUANTIDADE ATIVOS    151 non-null    float64\n",
      "dtypes: float64(24), object(2)\n",
      "memory usage: 30.8+ KB\n"
     ]
    }
   ],
   "source": [
    "df.info()"
   ]
  },
  {
   "cell_type": "code",
   "execution_count": 127,
   "metadata": {},
   "outputs": [
    {
     "data": {
      "application/vnd.plotly.v1+json": {
       "config": {
        "plotlyServerURL": "https://plot.ly"
       },
       "data": [
        {
         "alignmentgroup": "True",
         "hovertemplate": "SETOR=%{x}<br>VAC FISICA=%{y}<extra></extra>",
         "legendgroup": "",
         "marker": {
          "color": "#636efa"
         },
         "name": "",
         "notched": false,
         "offsetgroup": "",
         "orientation": "v",
         "showlegend": false,
         "type": "box",
         "x": [
          "Shoppings",
          "Lajes Corporativas",
          "Logística",
          "Shoppings",
          "Títulos e Val. Mob.",
          "Lajes Corporativas",
          "Lajes Corporativas",
          "Outros",
          "Lajes Corporativas",
          "Títulos e Val. Mob.",
          "Títulos e Val. Mob.",
          "Títulos e Val. Mob.",
          "Lajes Corporativas",
          "Outros",
          "Títulos e Val. Mob.",
          "Híbrido",
          "Títulos e Val. Mob.",
          "Títulos e Val. Mob.",
          "Híbrido",
          "Lajes Corporativas",
          "Lajes Corporativas",
          "Lajes Corporativas",
          "Títulos e Val. Mob.",
          "Títulos e Val. Mob.",
          "Lajes Corporativas",
          "Títulos e Val. Mob.",
          "Outros",
          "Híbrido",
          "Logística",
          "Residencial",
          "Lajes Corporativas",
          "Lajes Corporativas",
          "Lajes Corporativas",
          "Lajes Corporativas",
          "Logística",
          "Outros",
          "Lajes Corporativas",
          "Outros",
          "Títulos e Val. Mob.",
          "Shoppings",
          "Híbrido",
          "Logística",
          "Shoppings",
          "Híbrido",
          "Shoppings",
          "Lajes Corporativas",
          "Títulos e Val. Mob.",
          "Lajes Corporativas",
          "Lajes Corporativas",
          "Shoppings",
          "Logística",
          "Logística",
          "Lajes Corporativas",
          "Títulos e Val. Mob.",
          "Títulos e Val. Mob.",
          "Hospital",
          "Outros",
          "Títulos e Val. Mob.",
          "Shoppings",
          "Títulos e Val. Mob.",
          "Títulos e Val. Mob.",
          "Logística",
          "Lajes Corporativas",
          "Lajes Corporativas",
          "Híbrido",
          "Shoppings",
          "Shoppings",
          "Hotel",
          "Outros",
          "Títulos e Val. Mob.",
          "Títulos e Val. Mob.",
          "Shoppings",
          "Híbrido",
          "Títulos e Val. Mob.",
          "Títulos e Val. Mob.",
          "Títulos e Val. Mob.",
          "Títulos e Val. Mob.",
          "Residencial",
          "Híbrido",
          "Logística",
          "Shoppings",
          "Outros",
          "Outros",
          "Híbrido",
          "Títulos e Val. Mob.",
          "Híbrido",
          "Hospital",
          "Hospital",
          "Outros",
          "Lajes Corporativas",
          "Títulos e Val. Mob.",
          "Títulos e Val. Mob.",
          "Títulos e Val. Mob.",
          "Outros",
          "Híbrido",
          "Lajes Corporativas",
          "Títulos e Val. Mob.",
          "Títulos e Val. Mob.",
          "Shoppings",
          "Lajes Corporativas",
          "Títulos e Val. Mob.",
          "Outros",
          "Lajes Corporativas",
          "Residencial",
          "Outros",
          "Títulos e Val. Mob.",
          "Shoppings",
          "Híbrido",
          "Títulos e Val. Mob.",
          "Outros",
          "Títulos e Val. Mob.",
          "Títulos e Val. Mob.",
          "Outros",
          "Outros",
          "Lajes Corporativas",
          "Lajes Corporativas",
          "Títulos e Val. Mob.",
          "Híbrido",
          "Títulos e Val. Mob.",
          "Lajes Corporativas",
          "Outros",
          "Títulos e Val. Mob.",
          "Shoppings",
          "Logística",
          "Lajes Corporativas",
          "Shoppings",
          "Lajes Corporativas",
          "Lajes Corporativas",
          "Títulos e Val. Mob.",
          "Outros",
          "Lajes Corporativas",
          "Lajes Corporativas",
          "Logística",
          "Logística",
          "Títulos e Val. Mob.",
          "Títulos e Val. Mob.",
          "Logística",
          "Shoppings",
          "Lajes Corporativas",
          "Títulos e Val. Mob.",
          "Títulos e Val. Mob.",
          "Shoppings",
          "Logística",
          "Shoppings",
          "Híbrido",
          "Lajes Corporativas",
          "Hotel",
          "Outros",
          "Logística",
          "Shoppings",
          "Lajes Corporativas"
         ],
         "x0": " ",
         "xaxis": "x",
         "y": [
          0.9,
          82,
          0,
          18.9,
          null,
          38.59,
          0,
          null,
          70.4,
          null,
          null,
          null,
          1.7,
          null,
          null,
          16.1,
          null,
          null,
          null,
          6.87,
          0,
          62.2,
          null,
          null,
          8.6,
          null,
          null,
          null,
          null,
          null,
          23.44,
          6.3,
          6.96,
          29.2,
          19.07,
          0,
          0,
          0,
          null,
          10.3,
          4.95,
          32.05,
          56,
          5.49,
          3.1,
          45.83,
          null,
          19.88,
          8.4,
          2.1,
          0,
          4.5,
          null,
          null,
          null,
          0,
          null,
          null,
          4.88,
          null,
          null,
          6.8,
          1.73,
          16.24,
          0,
          3.8,
          null,
          26,
          null,
          null,
          null,
          2.1,
          0,
          null,
          null,
          null,
          null,
          null,
          5.05,
          0,
          1,
          0,
          0,
          null,
          null,
          null,
          0,
          null,
          null,
          10.3,
          null,
          null,
          null,
          0,
          null,
          0,
          null,
          null,
          3.1,
          8.81,
          null,
          null,
          null,
          null,
          0,
          null,
          11.2,
          0,
          null,
          null,
          null,
          null,
          null,
          null,
          5.3,
          46.74,
          null,
          0,
          null,
          15.8,
          null,
          null,
          9.65,
          4.7,
          23,
          1.6,
          0,
          14,
          null,
          null,
          0,
          11.7,
          24.6,
          24.6,
          null,
          null,
          0,
          6.2,
          0,
          null,
          null,
          5.67,
          0,
          5,
          null,
          0,
          null,
          3.3,
          4,
          2.4,
          100
         ],
         "y0": " ",
         "yaxis": "y"
        }
       ],
       "layout": {
        "boxmode": "group",
        "legend": {
         "tracegroupgap": 0
        },
        "margin": {
         "t": 60
        },
        "template": {
         "data": {
          "bar": [
           {
            "error_x": {
             "color": "#2a3f5f"
            },
            "error_y": {
             "color": "#2a3f5f"
            },
            "marker": {
             "line": {
              "color": "#E5ECF6",
              "width": 0.5
             }
            },
            "type": "bar"
           }
          ],
          "barpolar": [
           {
            "marker": {
             "line": {
              "color": "#E5ECF6",
              "width": 0.5
             }
            },
            "type": "barpolar"
           }
          ],
          "carpet": [
           {
            "aaxis": {
             "endlinecolor": "#2a3f5f",
             "gridcolor": "white",
             "linecolor": "white",
             "minorgridcolor": "white",
             "startlinecolor": "#2a3f5f"
            },
            "baxis": {
             "endlinecolor": "#2a3f5f",
             "gridcolor": "white",
             "linecolor": "white",
             "minorgridcolor": "white",
             "startlinecolor": "#2a3f5f"
            },
            "type": "carpet"
           }
          ],
          "choropleth": [
           {
            "colorbar": {
             "outlinewidth": 0,
             "ticks": ""
            },
            "type": "choropleth"
           }
          ],
          "contour": [
           {
            "colorbar": {
             "outlinewidth": 0,
             "ticks": ""
            },
            "colorscale": [
             [
              0,
              "#0d0887"
             ],
             [
              0.1111111111111111,
              "#46039f"
             ],
             [
              0.2222222222222222,
              "#7201a8"
             ],
             [
              0.3333333333333333,
              "#9c179e"
             ],
             [
              0.4444444444444444,
              "#bd3786"
             ],
             [
              0.5555555555555556,
              "#d8576b"
             ],
             [
              0.6666666666666666,
              "#ed7953"
             ],
             [
              0.7777777777777778,
              "#fb9f3a"
             ],
             [
              0.8888888888888888,
              "#fdca26"
             ],
             [
              1,
              "#f0f921"
             ]
            ],
            "type": "contour"
           }
          ],
          "contourcarpet": [
           {
            "colorbar": {
             "outlinewidth": 0,
             "ticks": ""
            },
            "type": "contourcarpet"
           }
          ],
          "heatmap": [
           {
            "colorbar": {
             "outlinewidth": 0,
             "ticks": ""
            },
            "colorscale": [
             [
              0,
              "#0d0887"
             ],
             [
              0.1111111111111111,
              "#46039f"
             ],
             [
              0.2222222222222222,
              "#7201a8"
             ],
             [
              0.3333333333333333,
              "#9c179e"
             ],
             [
              0.4444444444444444,
              "#bd3786"
             ],
             [
              0.5555555555555556,
              "#d8576b"
             ],
             [
              0.6666666666666666,
              "#ed7953"
             ],
             [
              0.7777777777777778,
              "#fb9f3a"
             ],
             [
              0.8888888888888888,
              "#fdca26"
             ],
             [
              1,
              "#f0f921"
             ]
            ],
            "type": "heatmap"
           }
          ],
          "heatmapgl": [
           {
            "colorbar": {
             "outlinewidth": 0,
             "ticks": ""
            },
            "colorscale": [
             [
              0,
              "#0d0887"
             ],
             [
              0.1111111111111111,
              "#46039f"
             ],
             [
              0.2222222222222222,
              "#7201a8"
             ],
             [
              0.3333333333333333,
              "#9c179e"
             ],
             [
              0.4444444444444444,
              "#bd3786"
             ],
             [
              0.5555555555555556,
              "#d8576b"
             ],
             [
              0.6666666666666666,
              "#ed7953"
             ],
             [
              0.7777777777777778,
              "#fb9f3a"
             ],
             [
              0.8888888888888888,
              "#fdca26"
             ],
             [
              1,
              "#f0f921"
             ]
            ],
            "type": "heatmapgl"
           }
          ],
          "histogram": [
           {
            "marker": {
             "colorbar": {
              "outlinewidth": 0,
              "ticks": ""
             }
            },
            "type": "histogram"
           }
          ],
          "histogram2d": [
           {
            "colorbar": {
             "outlinewidth": 0,
             "ticks": ""
            },
            "colorscale": [
             [
              0,
              "#0d0887"
             ],
             [
              0.1111111111111111,
              "#46039f"
             ],
             [
              0.2222222222222222,
              "#7201a8"
             ],
             [
              0.3333333333333333,
              "#9c179e"
             ],
             [
              0.4444444444444444,
              "#bd3786"
             ],
             [
              0.5555555555555556,
              "#d8576b"
             ],
             [
              0.6666666666666666,
              "#ed7953"
             ],
             [
              0.7777777777777778,
              "#fb9f3a"
             ],
             [
              0.8888888888888888,
              "#fdca26"
             ],
             [
              1,
              "#f0f921"
             ]
            ],
            "type": "histogram2d"
           }
          ],
          "histogram2dcontour": [
           {
            "colorbar": {
             "outlinewidth": 0,
             "ticks": ""
            },
            "colorscale": [
             [
              0,
              "#0d0887"
             ],
             [
              0.1111111111111111,
              "#46039f"
             ],
             [
              0.2222222222222222,
              "#7201a8"
             ],
             [
              0.3333333333333333,
              "#9c179e"
             ],
             [
              0.4444444444444444,
              "#bd3786"
             ],
             [
              0.5555555555555556,
              "#d8576b"
             ],
             [
              0.6666666666666666,
              "#ed7953"
             ],
             [
              0.7777777777777778,
              "#fb9f3a"
             ],
             [
              0.8888888888888888,
              "#fdca26"
             ],
             [
              1,
              "#f0f921"
             ]
            ],
            "type": "histogram2dcontour"
           }
          ],
          "mesh3d": [
           {
            "colorbar": {
             "outlinewidth": 0,
             "ticks": ""
            },
            "type": "mesh3d"
           }
          ],
          "parcoords": [
           {
            "line": {
             "colorbar": {
              "outlinewidth": 0,
              "ticks": ""
             }
            },
            "type": "parcoords"
           }
          ],
          "pie": [
           {
            "automargin": true,
            "type": "pie"
           }
          ],
          "scatter": [
           {
            "marker": {
             "colorbar": {
              "outlinewidth": 0,
              "ticks": ""
             }
            },
            "type": "scatter"
           }
          ],
          "scatter3d": [
           {
            "line": {
             "colorbar": {
              "outlinewidth": 0,
              "ticks": ""
             }
            },
            "marker": {
             "colorbar": {
              "outlinewidth": 0,
              "ticks": ""
             }
            },
            "type": "scatter3d"
           }
          ],
          "scattercarpet": [
           {
            "marker": {
             "colorbar": {
              "outlinewidth": 0,
              "ticks": ""
             }
            },
            "type": "scattercarpet"
           }
          ],
          "scattergeo": [
           {
            "marker": {
             "colorbar": {
              "outlinewidth": 0,
              "ticks": ""
             }
            },
            "type": "scattergeo"
           }
          ],
          "scattergl": [
           {
            "marker": {
             "colorbar": {
              "outlinewidth": 0,
              "ticks": ""
             }
            },
            "type": "scattergl"
           }
          ],
          "scattermapbox": [
           {
            "marker": {
             "colorbar": {
              "outlinewidth": 0,
              "ticks": ""
             }
            },
            "type": "scattermapbox"
           }
          ],
          "scatterpolar": [
           {
            "marker": {
             "colorbar": {
              "outlinewidth": 0,
              "ticks": ""
             }
            },
            "type": "scatterpolar"
           }
          ],
          "scatterpolargl": [
           {
            "marker": {
             "colorbar": {
              "outlinewidth": 0,
              "ticks": ""
             }
            },
            "type": "scatterpolargl"
           }
          ],
          "scatterternary": [
           {
            "marker": {
             "colorbar": {
              "outlinewidth": 0,
              "ticks": ""
             }
            },
            "type": "scatterternary"
           }
          ],
          "surface": [
           {
            "colorbar": {
             "outlinewidth": 0,
             "ticks": ""
            },
            "colorscale": [
             [
              0,
              "#0d0887"
             ],
             [
              0.1111111111111111,
              "#46039f"
             ],
             [
              0.2222222222222222,
              "#7201a8"
             ],
             [
              0.3333333333333333,
              "#9c179e"
             ],
             [
              0.4444444444444444,
              "#bd3786"
             ],
             [
              0.5555555555555556,
              "#d8576b"
             ],
             [
              0.6666666666666666,
              "#ed7953"
             ],
             [
              0.7777777777777778,
              "#fb9f3a"
             ],
             [
              0.8888888888888888,
              "#fdca26"
             ],
             [
              1,
              "#f0f921"
             ]
            ],
            "type": "surface"
           }
          ],
          "table": [
           {
            "cells": {
             "fill": {
              "color": "#EBF0F8"
             },
             "line": {
              "color": "white"
             }
            },
            "header": {
             "fill": {
              "color": "#C8D4E3"
             },
             "line": {
              "color": "white"
             }
            },
            "type": "table"
           }
          ]
         },
         "layout": {
          "annotationdefaults": {
           "arrowcolor": "#2a3f5f",
           "arrowhead": 0,
           "arrowwidth": 1
          },
          "autotypenumbers": "strict",
          "coloraxis": {
           "colorbar": {
            "outlinewidth": 0,
            "ticks": ""
           }
          },
          "colorscale": {
           "diverging": [
            [
             0,
             "#8e0152"
            ],
            [
             0.1,
             "#c51b7d"
            ],
            [
             0.2,
             "#de77ae"
            ],
            [
             0.3,
             "#f1b6da"
            ],
            [
             0.4,
             "#fde0ef"
            ],
            [
             0.5,
             "#f7f7f7"
            ],
            [
             0.6,
             "#e6f5d0"
            ],
            [
             0.7,
             "#b8e186"
            ],
            [
             0.8,
             "#7fbc41"
            ],
            [
             0.9,
             "#4d9221"
            ],
            [
             1,
             "#276419"
            ]
           ],
           "sequential": [
            [
             0,
             "#0d0887"
            ],
            [
             0.1111111111111111,
             "#46039f"
            ],
            [
             0.2222222222222222,
             "#7201a8"
            ],
            [
             0.3333333333333333,
             "#9c179e"
            ],
            [
             0.4444444444444444,
             "#bd3786"
            ],
            [
             0.5555555555555556,
             "#d8576b"
            ],
            [
             0.6666666666666666,
             "#ed7953"
            ],
            [
             0.7777777777777778,
             "#fb9f3a"
            ],
            [
             0.8888888888888888,
             "#fdca26"
            ],
            [
             1,
             "#f0f921"
            ]
           ],
           "sequentialminus": [
            [
             0,
             "#0d0887"
            ],
            [
             0.1111111111111111,
             "#46039f"
            ],
            [
             0.2222222222222222,
             "#7201a8"
            ],
            [
             0.3333333333333333,
             "#9c179e"
            ],
            [
             0.4444444444444444,
             "#bd3786"
            ],
            [
             0.5555555555555556,
             "#d8576b"
            ],
            [
             0.6666666666666666,
             "#ed7953"
            ],
            [
             0.7777777777777778,
             "#fb9f3a"
            ],
            [
             0.8888888888888888,
             "#fdca26"
            ],
            [
             1,
             "#f0f921"
            ]
           ]
          },
          "colorway": [
           "#636efa",
           "#EF553B",
           "#00cc96",
           "#ab63fa",
           "#FFA15A",
           "#19d3f3",
           "#FF6692",
           "#B6E880",
           "#FF97FF",
           "#FECB52"
          ],
          "font": {
           "color": "#2a3f5f"
          },
          "geo": {
           "bgcolor": "white",
           "lakecolor": "white",
           "landcolor": "#E5ECF6",
           "showlakes": true,
           "showland": true,
           "subunitcolor": "white"
          },
          "hoverlabel": {
           "align": "left"
          },
          "hovermode": "closest",
          "mapbox": {
           "style": "light"
          },
          "paper_bgcolor": "white",
          "plot_bgcolor": "#E5ECF6",
          "polar": {
           "angularaxis": {
            "gridcolor": "white",
            "linecolor": "white",
            "ticks": ""
           },
           "bgcolor": "#E5ECF6",
           "radialaxis": {
            "gridcolor": "white",
            "linecolor": "white",
            "ticks": ""
           }
          },
          "scene": {
           "xaxis": {
            "backgroundcolor": "#E5ECF6",
            "gridcolor": "white",
            "gridwidth": 2,
            "linecolor": "white",
            "showbackground": true,
            "ticks": "",
            "zerolinecolor": "white"
           },
           "yaxis": {
            "backgroundcolor": "#E5ECF6",
            "gridcolor": "white",
            "gridwidth": 2,
            "linecolor": "white",
            "showbackground": true,
            "ticks": "",
            "zerolinecolor": "white"
           },
           "zaxis": {
            "backgroundcolor": "#E5ECF6",
            "gridcolor": "white",
            "gridwidth": 2,
            "linecolor": "white",
            "showbackground": true,
            "ticks": "",
            "zerolinecolor": "white"
           }
          },
          "shapedefaults": {
           "line": {
            "color": "#2a3f5f"
           }
          },
          "ternary": {
           "aaxis": {
            "gridcolor": "white",
            "linecolor": "white",
            "ticks": ""
           },
           "baxis": {
            "gridcolor": "white",
            "linecolor": "white",
            "ticks": ""
           },
           "bgcolor": "#E5ECF6",
           "caxis": {
            "gridcolor": "white",
            "linecolor": "white",
            "ticks": ""
           }
          },
          "title": {
           "x": 0.05
          },
          "xaxis": {
           "automargin": true,
           "gridcolor": "white",
           "linecolor": "white",
           "ticks": "",
           "title": {
            "standoff": 15
           },
           "zerolinecolor": "white",
           "zerolinewidth": 2
          },
          "yaxis": {
           "automargin": true,
           "gridcolor": "white",
           "linecolor": "white",
           "ticks": "",
           "title": {
            "standoff": 15
           },
           "zerolinecolor": "white",
           "zerolinewidth": 2
          }
         }
        },
        "xaxis": {
         "anchor": "y",
         "domain": [
          0,
          1
         ],
         "title": {
          "text": "SETOR"
         }
        },
        "yaxis": {
         "anchor": "x",
         "domain": [
          0,
          1
         ],
         "title": {
          "text": "VAC FISICA"
         }
        }
       }
      },
      "text/html": [
       "<div>                            <div id=\"0b21ba4b-0e7e-4f7d-8ec4-7d6078bce0b9\" class=\"plotly-graph-div\" style=\"height:525px; width:100%;\"></div>            <script type=\"text/javascript\">                require([\"plotly\"], function(Plotly) {                    window.PLOTLYENV=window.PLOTLYENV || {};                                    if (document.getElementById(\"0b21ba4b-0e7e-4f7d-8ec4-7d6078bce0b9\")) {                    Plotly.newPlot(                        \"0b21ba4b-0e7e-4f7d-8ec4-7d6078bce0b9\",                        [{\"alignmentgroup\": \"True\", \"hovertemplate\": \"SETOR=%{x}<br>VAC FISICA=%{y}<extra></extra>\", \"legendgroup\": \"\", \"marker\": {\"color\": \"#636efa\"}, \"name\": \"\", \"notched\": false, \"offsetgroup\": \"\", \"orientation\": \"v\", \"showlegend\": false, \"type\": \"box\", \"x\": [\"Shoppings\", \"Lajes Corporativas\", \"Log\\u00edstica\", \"Shoppings\", \"T\\u00edtulos e Val. Mob.\", \"Lajes Corporativas\", \"Lajes Corporativas\", \"Outros\", \"Lajes Corporativas\", \"T\\u00edtulos e Val. Mob.\", \"T\\u00edtulos e Val. Mob.\", \"T\\u00edtulos e Val. Mob.\", \"Lajes Corporativas\", \"Outros\", \"T\\u00edtulos e Val. Mob.\", \"H\\u00edbrido\", \"T\\u00edtulos e Val. Mob.\", \"T\\u00edtulos e Val. Mob.\", \"H\\u00edbrido\", \"Lajes Corporativas\", \"Lajes Corporativas\", \"Lajes Corporativas\", \"T\\u00edtulos e Val. Mob.\", \"T\\u00edtulos e Val. Mob.\", \"Lajes Corporativas\", \"T\\u00edtulos e Val. Mob.\", \"Outros\", \"H\\u00edbrido\", \"Log\\u00edstica\", \"Residencial\", \"Lajes Corporativas\", \"Lajes Corporativas\", \"Lajes Corporativas\", \"Lajes Corporativas\", \"Log\\u00edstica\", \"Outros\", \"Lajes Corporativas\", \"Outros\", \"T\\u00edtulos e Val. Mob.\", \"Shoppings\", \"H\\u00edbrido\", \"Log\\u00edstica\", \"Shoppings\", \"H\\u00edbrido\", \"Shoppings\", \"Lajes Corporativas\", \"T\\u00edtulos e Val. Mob.\", \"Lajes Corporativas\", \"Lajes Corporativas\", \"Shoppings\", \"Log\\u00edstica\", \"Log\\u00edstica\", \"Lajes Corporativas\", \"T\\u00edtulos e Val. Mob.\", \"T\\u00edtulos e Val. Mob.\", \"Hospital\", \"Outros\", \"T\\u00edtulos e Val. Mob.\", \"Shoppings\", \"T\\u00edtulos e Val. Mob.\", \"T\\u00edtulos e Val. Mob.\", \"Log\\u00edstica\", \"Lajes Corporativas\", \"Lajes Corporativas\", \"H\\u00edbrido\", \"Shoppings\", \"Shoppings\", \"Hotel\", \"Outros\", \"T\\u00edtulos e Val. Mob.\", \"T\\u00edtulos e Val. Mob.\", \"Shoppings\", \"H\\u00edbrido\", \"T\\u00edtulos e Val. Mob.\", \"T\\u00edtulos e Val. Mob.\", \"T\\u00edtulos e Val. Mob.\", \"T\\u00edtulos e Val. Mob.\", \"Residencial\", \"H\\u00edbrido\", \"Log\\u00edstica\", \"Shoppings\", \"Outros\", \"Outros\", \"H\\u00edbrido\", \"T\\u00edtulos e Val. Mob.\", \"H\\u00edbrido\", \"Hospital\", \"Hospital\", \"Outros\", \"Lajes Corporativas\", \"T\\u00edtulos e Val. Mob.\", \"T\\u00edtulos e Val. Mob.\", \"T\\u00edtulos e Val. Mob.\", \"Outros\", \"H\\u00edbrido\", \"Lajes Corporativas\", \"T\\u00edtulos e Val. Mob.\", \"T\\u00edtulos e Val. Mob.\", \"Shoppings\", \"Lajes Corporativas\", \"T\\u00edtulos e Val. Mob.\", \"Outros\", \"Lajes Corporativas\", \"Residencial\", \"Outros\", \"T\\u00edtulos e Val. Mob.\", \"Shoppings\", \"H\\u00edbrido\", \"T\\u00edtulos e Val. Mob.\", \"Outros\", \"T\\u00edtulos e Val. Mob.\", \"T\\u00edtulos e Val. Mob.\", \"Outros\", \"Outros\", \"Lajes Corporativas\", \"Lajes Corporativas\", \"T\\u00edtulos e Val. Mob.\", \"H\\u00edbrido\", \"T\\u00edtulos e Val. Mob.\", \"Lajes Corporativas\", \"Outros\", \"T\\u00edtulos e Val. Mob.\", \"Shoppings\", \"Log\\u00edstica\", \"Lajes Corporativas\", \"Shoppings\", \"Lajes Corporativas\", \"Lajes Corporativas\", \"T\\u00edtulos e Val. Mob.\", \"Outros\", \"Lajes Corporativas\", \"Lajes Corporativas\", \"Log\\u00edstica\", \"Log\\u00edstica\", \"T\\u00edtulos e Val. Mob.\", \"T\\u00edtulos e Val. Mob.\", \"Log\\u00edstica\", \"Shoppings\", \"Lajes Corporativas\", \"T\\u00edtulos e Val. Mob.\", \"T\\u00edtulos e Val. Mob.\", \"Shoppings\", \"Log\\u00edstica\", \"Shoppings\", \"H\\u00edbrido\", \"Lajes Corporativas\", \"Hotel\", \"Outros\", \"Log\\u00edstica\", \"Shoppings\", \"Lajes Corporativas\"], \"x0\": \" \", \"xaxis\": \"x\", \"y\": [0.9, 82.0, 0.0, 18.9, null, 38.59, 0.0, null, 70.4, null, null, null, 1.7, null, null, 16.1, null, null, null, 6.87, 0.0, 62.2, null, null, 8.6, null, null, null, null, null, 23.44, 6.3, 6.96, 29.2, 19.07, 0.0, 0.0, 0.0, null, 10.3, 4.95, 32.05, 56.0, 5.49, 3.1, 45.83, null, 19.88, 8.4, 2.1, 0.0, 4.5, null, null, null, 0.0, null, null, 4.88, null, null, 6.8, 1.73, 16.24, 0.0, 3.8, null, 26.0, null, null, null, 2.1, 0.0, null, null, null, null, null, 5.05, 0.0, 1.0, 0.0, 0.0, null, null, null, 0.0, null, null, 10.3, null, null, null, 0.0, null, 0.0, null, null, 3.1, 8.81, null, null, null, null, 0.0, null, 11.2, 0.0, null, null, null, null, null, null, 5.3, 46.74, null, 0.0, null, 15.8, null, null, 9.65, 4.7, 23.0, 1.6, 0.0, 14.0, null, null, 0.0, 11.7, 24.6, 24.6, null, null, 0.0, 6.2, 0.0, null, null, 5.67, 0.0, 5.0, null, 0.0, null, 3.3, 4.0, 2.4, 100.0], \"y0\": \" \", \"yaxis\": \"y\"}],                        {\"boxmode\": \"group\", \"legend\": {\"tracegroupgap\": 0}, \"margin\": {\"t\": 60}, \"template\": {\"data\": {\"bar\": [{\"error_x\": {\"color\": \"#2a3f5f\"}, \"error_y\": {\"color\": \"#2a3f5f\"}, \"marker\": {\"line\": {\"color\": \"#E5ECF6\", \"width\": 0.5}}, \"type\": \"bar\"}], \"barpolar\": [{\"marker\": {\"line\": {\"color\": \"#E5ECF6\", \"width\": 0.5}}, \"type\": \"barpolar\"}], \"carpet\": [{\"aaxis\": {\"endlinecolor\": \"#2a3f5f\", \"gridcolor\": \"white\", \"linecolor\": \"white\", \"minorgridcolor\": \"white\", \"startlinecolor\": \"#2a3f5f\"}, \"baxis\": {\"endlinecolor\": \"#2a3f5f\", \"gridcolor\": \"white\", \"linecolor\": \"white\", \"minorgridcolor\": \"white\", \"startlinecolor\": \"#2a3f5f\"}, \"type\": \"carpet\"}], \"choropleth\": [{\"colorbar\": {\"outlinewidth\": 0, \"ticks\": \"\"}, \"type\": \"choropleth\"}], \"contour\": [{\"colorbar\": {\"outlinewidth\": 0, \"ticks\": \"\"}, \"colorscale\": [[0.0, \"#0d0887\"], [0.1111111111111111, \"#46039f\"], [0.2222222222222222, \"#7201a8\"], [0.3333333333333333, \"#9c179e\"], [0.4444444444444444, \"#bd3786\"], [0.5555555555555556, \"#d8576b\"], [0.6666666666666666, \"#ed7953\"], [0.7777777777777778, \"#fb9f3a\"], [0.8888888888888888, \"#fdca26\"], [1.0, \"#f0f921\"]], \"type\": \"contour\"}], \"contourcarpet\": [{\"colorbar\": {\"outlinewidth\": 0, \"ticks\": \"\"}, \"type\": \"contourcarpet\"}], \"heatmap\": [{\"colorbar\": {\"outlinewidth\": 0, \"ticks\": \"\"}, \"colorscale\": [[0.0, \"#0d0887\"], [0.1111111111111111, \"#46039f\"], [0.2222222222222222, \"#7201a8\"], [0.3333333333333333, \"#9c179e\"], [0.4444444444444444, \"#bd3786\"], [0.5555555555555556, \"#d8576b\"], [0.6666666666666666, \"#ed7953\"], [0.7777777777777778, \"#fb9f3a\"], [0.8888888888888888, \"#fdca26\"], [1.0, \"#f0f921\"]], \"type\": \"heatmap\"}], \"heatmapgl\": [{\"colorbar\": {\"outlinewidth\": 0, \"ticks\": \"\"}, \"colorscale\": [[0.0, \"#0d0887\"], [0.1111111111111111, \"#46039f\"], [0.2222222222222222, \"#7201a8\"], [0.3333333333333333, \"#9c179e\"], [0.4444444444444444, \"#bd3786\"], [0.5555555555555556, \"#d8576b\"], [0.6666666666666666, \"#ed7953\"], [0.7777777777777778, \"#fb9f3a\"], [0.8888888888888888, \"#fdca26\"], [1.0, \"#f0f921\"]], \"type\": \"heatmapgl\"}], \"histogram\": [{\"marker\": {\"colorbar\": {\"outlinewidth\": 0, \"ticks\": \"\"}}, \"type\": \"histogram\"}], \"histogram2d\": [{\"colorbar\": {\"outlinewidth\": 0, \"ticks\": \"\"}, \"colorscale\": [[0.0, \"#0d0887\"], [0.1111111111111111, \"#46039f\"], [0.2222222222222222, \"#7201a8\"], [0.3333333333333333, \"#9c179e\"], [0.4444444444444444, \"#bd3786\"], [0.5555555555555556, \"#d8576b\"], [0.6666666666666666, \"#ed7953\"], [0.7777777777777778, \"#fb9f3a\"], [0.8888888888888888, \"#fdca26\"], [1.0, \"#f0f921\"]], \"type\": \"histogram2d\"}], \"histogram2dcontour\": [{\"colorbar\": {\"outlinewidth\": 0, \"ticks\": \"\"}, \"colorscale\": [[0.0, \"#0d0887\"], [0.1111111111111111, \"#46039f\"], [0.2222222222222222, \"#7201a8\"], [0.3333333333333333, \"#9c179e\"], [0.4444444444444444, \"#bd3786\"], [0.5555555555555556, \"#d8576b\"], [0.6666666666666666, \"#ed7953\"], [0.7777777777777778, \"#fb9f3a\"], [0.8888888888888888, \"#fdca26\"], [1.0, \"#f0f921\"]], \"type\": \"histogram2dcontour\"}], \"mesh3d\": [{\"colorbar\": {\"outlinewidth\": 0, \"ticks\": \"\"}, \"type\": \"mesh3d\"}], \"parcoords\": [{\"line\": {\"colorbar\": {\"outlinewidth\": 0, \"ticks\": \"\"}}, \"type\": \"parcoords\"}], \"pie\": [{\"automargin\": true, \"type\": \"pie\"}], \"scatter\": [{\"marker\": {\"colorbar\": {\"outlinewidth\": 0, \"ticks\": \"\"}}, \"type\": \"scatter\"}], \"scatter3d\": [{\"line\": {\"colorbar\": {\"outlinewidth\": 0, \"ticks\": \"\"}}, \"marker\": {\"colorbar\": {\"outlinewidth\": 0, \"ticks\": \"\"}}, \"type\": \"scatter3d\"}], \"scattercarpet\": [{\"marker\": {\"colorbar\": {\"outlinewidth\": 0, \"ticks\": \"\"}}, \"type\": \"scattercarpet\"}], \"scattergeo\": [{\"marker\": {\"colorbar\": {\"outlinewidth\": 0, \"ticks\": \"\"}}, \"type\": \"scattergeo\"}], \"scattergl\": [{\"marker\": {\"colorbar\": {\"outlinewidth\": 0, \"ticks\": \"\"}}, \"type\": \"scattergl\"}], \"scattermapbox\": [{\"marker\": {\"colorbar\": {\"outlinewidth\": 0, \"ticks\": \"\"}}, \"type\": \"scattermapbox\"}], \"scatterpolar\": [{\"marker\": {\"colorbar\": {\"outlinewidth\": 0, \"ticks\": \"\"}}, \"type\": \"scatterpolar\"}], \"scatterpolargl\": [{\"marker\": {\"colorbar\": {\"outlinewidth\": 0, \"ticks\": \"\"}}, \"type\": \"scatterpolargl\"}], \"scatterternary\": [{\"marker\": {\"colorbar\": {\"outlinewidth\": 0, \"ticks\": \"\"}}, \"type\": \"scatterternary\"}], \"surface\": [{\"colorbar\": {\"outlinewidth\": 0, \"ticks\": \"\"}, \"colorscale\": [[0.0, \"#0d0887\"], [0.1111111111111111, \"#46039f\"], [0.2222222222222222, \"#7201a8\"], [0.3333333333333333, \"#9c179e\"], [0.4444444444444444, \"#bd3786\"], [0.5555555555555556, \"#d8576b\"], [0.6666666666666666, \"#ed7953\"], [0.7777777777777778, \"#fb9f3a\"], [0.8888888888888888, \"#fdca26\"], [1.0, \"#f0f921\"]], \"type\": \"surface\"}], \"table\": [{\"cells\": {\"fill\": {\"color\": \"#EBF0F8\"}, \"line\": {\"color\": \"white\"}}, \"header\": {\"fill\": {\"color\": \"#C8D4E3\"}, \"line\": {\"color\": \"white\"}}, \"type\": \"table\"}]}, \"layout\": {\"annotationdefaults\": {\"arrowcolor\": \"#2a3f5f\", \"arrowhead\": 0, \"arrowwidth\": 1}, \"autotypenumbers\": \"strict\", \"coloraxis\": {\"colorbar\": {\"outlinewidth\": 0, \"ticks\": \"\"}}, \"colorscale\": {\"diverging\": [[0, \"#8e0152\"], [0.1, \"#c51b7d\"], [0.2, \"#de77ae\"], [0.3, \"#f1b6da\"], [0.4, \"#fde0ef\"], [0.5, \"#f7f7f7\"], [0.6, \"#e6f5d0\"], [0.7, \"#b8e186\"], [0.8, \"#7fbc41\"], [0.9, \"#4d9221\"], [1, \"#276419\"]], \"sequential\": [[0.0, \"#0d0887\"], [0.1111111111111111, \"#46039f\"], [0.2222222222222222, \"#7201a8\"], [0.3333333333333333, \"#9c179e\"], [0.4444444444444444, \"#bd3786\"], [0.5555555555555556, \"#d8576b\"], [0.6666666666666666, \"#ed7953\"], [0.7777777777777778, \"#fb9f3a\"], [0.8888888888888888, \"#fdca26\"], [1.0, \"#f0f921\"]], \"sequentialminus\": [[0.0, \"#0d0887\"], [0.1111111111111111, \"#46039f\"], [0.2222222222222222, \"#7201a8\"], [0.3333333333333333, \"#9c179e\"], [0.4444444444444444, \"#bd3786\"], [0.5555555555555556, \"#d8576b\"], [0.6666666666666666, \"#ed7953\"], [0.7777777777777778, \"#fb9f3a\"], [0.8888888888888888, \"#fdca26\"], [1.0, \"#f0f921\"]]}, \"colorway\": [\"#636efa\", \"#EF553B\", \"#00cc96\", \"#ab63fa\", \"#FFA15A\", \"#19d3f3\", \"#FF6692\", \"#B6E880\", \"#FF97FF\", \"#FECB52\"], \"font\": {\"color\": \"#2a3f5f\"}, \"geo\": {\"bgcolor\": \"white\", \"lakecolor\": \"white\", \"landcolor\": \"#E5ECF6\", \"showlakes\": true, \"showland\": true, \"subunitcolor\": \"white\"}, \"hoverlabel\": {\"align\": \"left\"}, \"hovermode\": \"closest\", \"mapbox\": {\"style\": \"light\"}, \"paper_bgcolor\": \"white\", \"plot_bgcolor\": \"#E5ECF6\", \"polar\": {\"angularaxis\": {\"gridcolor\": \"white\", \"linecolor\": \"white\", \"ticks\": \"\"}, \"bgcolor\": \"#E5ECF6\", \"radialaxis\": {\"gridcolor\": \"white\", \"linecolor\": \"white\", \"ticks\": \"\"}}, \"scene\": {\"xaxis\": {\"backgroundcolor\": \"#E5ECF6\", \"gridcolor\": \"white\", \"gridwidth\": 2, \"linecolor\": \"white\", \"showbackground\": true, \"ticks\": \"\", \"zerolinecolor\": \"white\"}, \"yaxis\": {\"backgroundcolor\": \"#E5ECF6\", \"gridcolor\": \"white\", \"gridwidth\": 2, \"linecolor\": \"white\", \"showbackground\": true, \"ticks\": \"\", \"zerolinecolor\": \"white\"}, \"zaxis\": {\"backgroundcolor\": \"#E5ECF6\", \"gridcolor\": \"white\", \"gridwidth\": 2, \"linecolor\": \"white\", \"showbackground\": true, \"ticks\": \"\", \"zerolinecolor\": \"white\"}}, \"shapedefaults\": {\"line\": {\"color\": \"#2a3f5f\"}}, \"ternary\": {\"aaxis\": {\"gridcolor\": \"white\", \"linecolor\": \"white\", \"ticks\": \"\"}, \"baxis\": {\"gridcolor\": \"white\", \"linecolor\": \"white\", \"ticks\": \"\"}, \"bgcolor\": \"#E5ECF6\", \"caxis\": {\"gridcolor\": \"white\", \"linecolor\": \"white\", \"ticks\": \"\"}}, \"title\": {\"x\": 0.05}, \"xaxis\": {\"automargin\": true, \"gridcolor\": \"white\", \"linecolor\": \"white\", \"ticks\": \"\", \"title\": {\"standoff\": 15}, \"zerolinecolor\": \"white\", \"zerolinewidth\": 2}, \"yaxis\": {\"automargin\": true, \"gridcolor\": \"white\", \"linecolor\": \"white\", \"ticks\": \"\", \"title\": {\"standoff\": 15}, \"zerolinecolor\": \"white\", \"zerolinewidth\": 2}}}, \"xaxis\": {\"anchor\": \"y\", \"domain\": [0.0, 1.0], \"title\": {\"text\": \"SETOR\"}}, \"yaxis\": {\"anchor\": \"x\", \"domain\": [0.0, 1.0], \"title\": {\"text\": \"VAC FISICA\"}}},                        {\"responsive\": true}                    ).then(function(){\n",
       "                            \n",
       "var gd = document.getElementById('0b21ba4b-0e7e-4f7d-8ec4-7d6078bce0b9');\n",
       "var x = new MutationObserver(function (mutations, observer) {{\n",
       "        var display = window.getComputedStyle(gd).display;\n",
       "        if (!display || display === 'none') {{\n",
       "            console.log([gd, 'removed!']);\n",
       "            Plotly.purge(gd);\n",
       "            observer.disconnect();\n",
       "        }}\n",
       "}});\n",
       "\n",
       "// Listen for the removal of the full notebook cells\n",
       "var notebookContainer = gd.closest('#notebook-container');\n",
       "if (notebookContainer) {{\n",
       "    x.observe(notebookContainer, {childList: true});\n",
       "}}\n",
       "\n",
       "// Listen for the clearing of the current output cell\n",
       "var outputEl = gd.closest('.output');\n",
       "if (outputEl) {{\n",
       "    x.observe(outputEl, {childList: true});\n",
       "}}\n",
       "\n",
       "                        })                };                });            </script>        </div>"
      ]
     },
     "metadata": {},
     "output_type": "display_data"
    }
   ],
   "source": [
    "import plotly.express as px\n",
    "fig = px.box(df, x='SETOR', y=\"VAC FISICA\")\n",
    "fig.show()"
   ]
  },
  {
   "cell_type": "code",
   "execution_count": 85,
   "metadata": {},
   "outputs": [
    {
     "data": {
      "image/png": "[encoded data removed]",
      "text/plain": [
       "<Figure size 576x432 with 1 Axes>"
      ]
     },
     "metadata": {
      "needs_background": "light"
     },
     "output_type": "display_data"
    }
   ],
   "source": [
    "plt.figure(figsize=(8,6))\n",
    "sns.boxplot(data=df[(df['P/VPA']<2) & (df['P/VPA']>0)],x='SETOR',y='P/VPA')\n",
    "plt.xticks(rotation = 45)\n",
    "plt.show()"
   ]
  },
  {
   "cell_type": "code",
   "execution_count": 100,
   "metadata": {},
   "outputs": [],
   "source": [
    "plotar=df.groupby('SETOR')['VAC FISICA'].mean().sort_values(ascending=False).to_frame().reset_index()\n",
    "plotar.columns=['setor','med_vacancia']"
   ]
  },
  {
   "cell_type": "code",
   "execution_count": 101,
   "metadata": {},
   "outputs": [
    {
     "data": {
      "application/vnd.plotly.v1+json": {
       "config": {
        "linkText": "Export to plot.ly",
        "plotlyServerURL": "https://plot.ly",
        "showLink": true
       },
       "data": [
        {
         "marker": {
          "color": "rgba(255, 153, 51, 0.6)",
          "line": {
           "color": "rgba(255, 153, 51, 1.0)",
           "width": 1
          }
         },
         "name": "med_vacancia",
         "orientation": "v",
         "text": "",
         "type": "bar",
         "x": [
          "Hotel",
          "Lajes Corporativas",
          "Logística",
          "Shoppings",
          "Híbrido",
          "Outros",
          "Hospital",
          "Residencial",
          "Títulos e Val. Mob."
         ],
         "y": [
          26,
          20.12090909090909,
          9.255384615384616,
          8.216666666666663,
          3.94875,
          0.4714285714285714,
          0,
          "",
          ""
         ]
        }
       ],
       "layout": {
        "legend": {
         "bgcolor": "#F5F6F9",
         "font": {
          "color": "#4D5663"
         }
        },
        "paper_bgcolor": "#F5F6F9",
        "plot_bgcolor": "#F5F6F9",
        "template": {
         "data": {
          "bar": [
           {
            "error_x": {
             "color": "#2a3f5f"
            },
            "error_y": {
             "color": "#2a3f5f"
            },
            "marker": {
             "line": {
              "color": "#E5ECF6",
              "width": 0.5
             }
            },
            "type": "bar"
           }
          ],
          "barpolar": [
           {
            "marker": {
             "line": {
              "color": "#E5ECF6",
              "width": 0.5
             }
            },
            "type": "barpolar"
           }
          ],
          "carpet": [
           {
            "aaxis": {
             "endlinecolor": "#2a3f5f",
             "gridcolor": "white",
             "linecolor": "white",
             "minorgridcolor": "white",
             "startlinecolor": "#2a3f5f"
            },
            "baxis": {
             "endlinecolor": "#2a3f5f",
             "gridcolor": "white",
             "linecolor": "white",
             "minorgridcolor": "white",
             "startlinecolor": "#2a3f5f"
            },
            "type": "carpet"
           }
          ],
          "choropleth": [
           {
            "colorbar": {
             "outlinewidth": 0,
             "ticks": ""
            },
            "type": "choropleth"
           }
          ],
          "contour": [
           {
            "colorbar": {
             "outlinewidth": 0,
             "ticks": ""
            },
            "colorscale": [
             [
              0,
              "#0d0887"
             ],
             [
              0.1111111111111111,
              "#46039f"
             ],
             [
              0.2222222222222222,
              "#7201a8"
             ],
             [
              0.3333333333333333,
              "#9c179e"
             ],
             [
              0.4444444444444444,
              "#bd3786"
             ],
             [
              0.5555555555555556,
              "#d8576b"
             ],
             [
              0.6666666666666666,
              "#ed7953"
             ],
             [
              0.7777777777777778,
              "#fb9f3a"
             ],
             [
              0.8888888888888888,
              "#fdca26"
             ],
             [
              1,
              "#f0f921"
             ]
            ],
            "type": "contour"
           }
          ],
          "contourcarpet": [
           {
            "colorbar": {
             "outlinewidth": 0,
             "ticks": ""
            },
            "type": "contourcarpet"
           }
          ],
          "heatmap": [
           {
            "colorbar": {
             "outlinewidth": 0,
             "ticks": ""
            },
            "colorscale": [
             [
              0,
              "#0d0887"
             ],
             [
              0.1111111111111111,
              "#46039f"
             ],
             [
              0.2222222222222222,
              "#7201a8"
             ],
             [
              0.3333333333333333,
              "#9c179e"
             ],
             [
              0.4444444444444444,
              "#bd3786"
             ],
             [
              0.5555555555555556,
              "#d8576b"
             ],
             [
              0.6666666666666666,
              "#ed7953"
             ],
             [
              0.7777777777777778,
              "#fb9f3a"
             ],
             [
              0.8888888888888888,
              "#fdca26"
             ],
             [
              1,
              "#f0f921"
             ]
            ],
            "type": "heatmap"
           }
          ],
          "heatmapgl": [
           {
            "colorbar": {
             "outlinewidth": 0,
             "ticks": ""
            },
            "colorscale": [
             [
              0,
              "#0d0887"
             ],
             [
              0.1111111111111111,
              "#46039f"
             ],
             [
              0.2222222222222222,
              "#7201a8"
             ],
             [
              0.3333333333333333,
              "#9c179e"
             ],
             [
              0.4444444444444444,
              "#bd3786"
             ],
             [
              0.5555555555555556,
              "#d8576b"
             ],
             [
              0.6666666666666666,
              "#ed7953"
             ],
             [
              0.7777777777777778,
              "#fb9f3a"
             ],
             [
              0.8888888888888888,
              "#fdca26"
             ],
             [
              1,
              "#f0f921"
             ]
            ],
            "type": "heatmapgl"
           }
          ],
          "histogram": [
           {
            "marker": {
             "colorbar": {
              "outlinewidth": 0,
              "ticks": ""
             }
            },
            "type": "histogram"
           }
          ],
          "histogram2d": [
           {
            "colorbar": {
             "outlinewidth": 0,
             "ticks": ""
            },
            "colorscale": [
             [
              0,
              "#0d0887"
             ],
             [
              0.1111111111111111,
              "#46039f"
             ],
             [
              0.2222222222222222,
              "#7201a8"
             ],
             [
              0.3333333333333333,
              "#9c179e"
             ],
             [
              0.4444444444444444,
              "#bd3786"
             ],
             [
              0.5555555555555556,
              "#d8576b"
             ],
             [
              0.6666666666666666,
              "#ed7953"
             ],
             [
              0.7777777777777778,
              "#fb9f3a"
             ],
             [
              0.8888888888888888,
              "#fdca26"
             ],
             [
              1,
              "#f0f921"
             ]
            ],
            "type": "histogram2d"
           }
          ],
          "histogram2dcontour": [
           {
            "colorbar": {
             "outlinewidth": 0,
             "ticks": ""
            },
            "colorscale": [
             [
              0,
              "#0d0887"
             ],
             [
              0.1111111111111111,
              "#46039f"
             ],
             [
              0.2222222222222222,
              "#7201a8"
             ],
             [
              0.3333333333333333,
              "#9c179e"
             ],
             [
              0.4444444444444444,
              "#bd3786"
             ],
             [
              0.5555555555555556,
              "#d8576b"
             ],
             [
              0.6666666666666666,
              "#ed7953"
             ],
             [
              0.7777777777777778,
              "#fb9f3a"
             ],
             [
              0.8888888888888888,
              "#fdca26"
             ],
             [
              1,
              "#f0f921"
             ]
            ],
            "type": "histogram2dcontour"
           }
          ],
          "mesh3d": [
           {
            "colorbar": {
             "outlinewidth": 0,
             "ticks": ""
            },
            "type": "mesh3d"
           }
          ],
          "parcoords": [
           {
            "line": {
             "colorbar": {
              "outlinewidth": 0,
              "ticks": ""
             }
            },
            "type": "parcoords"
           }
          ],
          "pie": [
           {
            "automargin": true,
            "type": "pie"
           }
          ],
          "scatter": [
           {
            "marker": {
             "colorbar": {
              "outlinewidth": 0,
              "ticks": ""
             }
            },
            "type": "scatter"
           }
          ],
          "scatter3d": [
           {
            "line": {
             "colorbar": {
              "outlinewidth": 0,
              "ticks": ""
             }
            },
            "marker": {
             "colorbar": {
              "outlinewidth": 0,
              "ticks": ""
             }
            },
            "type": "scatter3d"
           }
          ],
          "scattercarpet": [
           {
            "marker": {
             "colorbar": {
              "outlinewidth": 0,
              "ticks": ""
             }
            },
            "type": "scattercarpet"
           }
          ],
          "scattergeo": [
           {
            "marker": {
             "colorbar": {
              "outlinewidth": 0,
              "ticks": ""
             }
            },
            "type": "scattergeo"
           }
          ],
          "scattergl": [
           {
            "marker": {
             "colorbar": {
              "outlinewidth": 0,
              "ticks": ""
             }
            },
            "type": "scattergl"
           }
          ],
          "scattermapbox": [
           {
            "marker": {
             "colorbar": {
              "outlinewidth": 0,
              "ticks": ""
             }
            },
            "type": "scattermapbox"
           }
          ],
          "scatterpolar": [
           {
            "marker": {
             "colorbar": {
              "outlinewidth": 0,
              "ticks": ""
             }
            },
            "type": "scatterpolar"
           }
          ],
          "scatterpolargl": [
           {
            "marker": {
             "colorbar": {
              "outlinewidth": 0,
              "ticks": ""
             }
            },
            "type": "scatterpolargl"
           }
          ],
          "scatterternary": [
           {
            "marker": {
             "colorbar": {
              "outlinewidth": 0,
              "ticks": ""
             }
            },
            "type": "scatterternary"
           }
          ],
          "surface": [
           {
            "colorbar": {
             "outlinewidth": 0,
             "ticks": ""
            },
            "colorscale": [
             [
              0,
              "#0d0887"
             ],
             [
              0.1111111111111111,
              "#46039f"
             ],
             [
              0.2222222222222222,
              "#7201a8"
             ],
             [
              0.3333333333333333,
              "#9c179e"
             ],
             [
              0.4444444444444444,
              "#bd3786"
             ],
             [
              0.5555555555555556,
              "#d8576b"
             ],
             [
              0.6666666666666666,
              "#ed7953"
             ],
             [
              0.7777777777777778,
              "#fb9f3a"
             ],
             [
              0.8888888888888888,
              "#fdca26"
             ],
             [
              1,
              "#f0f921"
             ]
            ],
            "type": "surface"
           }
          ],
          "table": [
           {
            "cells": {
             "fill": {
              "color": "#EBF0F8"
             },
             "line": {
              "color": "white"
             }
            },
            "header": {
             "fill": {
              "color": "#C8D4E3"
             },
             "line": {
              "color": "white"
             }
            },
            "type": "table"
           }
          ]
         },
         "layout": {
          "annotationdefaults": {
           "arrowcolor": "#2a3f5f",
           "arrowhead": 0,
           "arrowwidth": 1
          },
          "autotypenumbers": "strict",
          "coloraxis": {
           "colorbar": {
            "outlinewidth": 0,
            "ticks": ""
           }
          },
          "colorscale": {
           "diverging": [
            [
             0,
             "#8e0152"
            ],
            [
             0.1,
             "#c51b7d"
            ],
            [
             0.2,
             "#de77ae"
            ],
            [
             0.3,
             "#f1b6da"
            ],
            [
             0.4,
             "#fde0ef"
            ],
            [
             0.5,
             "#f7f7f7"
            ],
            [
             0.6,
             "#e6f5d0"
            ],
            [
             0.7,
             "#b8e186"
            ],
            [
             0.8,
             "#7fbc41"
            ],
            [
             0.9,
             "#4d9221"
            ],
            [
             1,
             "#276419"
            ]
           ],
           "sequential": [
            [
             0,
             "#0d0887"
            ],
            [
             0.1111111111111111,
             "#46039f"
            ],
            [
             0.2222222222222222,
             "#7201a8"
            ],
            [
             0.3333333333333333,
             "#9c179e"
            ],
            [
             0.4444444444444444,
             "#bd3786"
            ],
            [
             0.5555555555555556,
             "#d8576b"
            ],
            [
             0.6666666666666666,
             "#ed7953"
            ],
            [
             0.7777777777777778,
             "#fb9f3a"
            ],
            [
             0.8888888888888888,
             "#fdca26"
            ],
            [
             1,
             "#f0f921"
            ]
           ],
           "sequentialminus": [
            [
             0,
             "#0d0887"
            ],
            [
             0.1111111111111111,
             "#46039f"
            ],
            [
             0.2222222222222222,
             "#7201a8"
            ],
            [
             0.3333333333333333,
             "#9c179e"
            ],
            [
             0.4444444444444444,
             "#bd3786"
            ],
            [
             0.5555555555555556,
             "#d8576b"
            ],
            [
             0.6666666666666666,
             "#ed7953"
            ],
            [
             0.7777777777777778,
             "#fb9f3a"
            ],
            [
             0.8888888888888888,
             "#fdca26"
            ],
            [
             1,
             "#f0f921"
            ]
           ]
          },
          "colorway": [
           "#636efa",
           "#EF553B",
           "#00cc96",
           "#ab63fa",
           "#FFA15A",
           "#19d3f3",
           "#FF6692",
           "#B6E880",
           "#FF97FF",
           "#FECB52"
          ],
          "font": {
           "color": "#2a3f5f"
          },
          "geo": {
           "bgcolor": "white",
           "lakecolor": "white",
           "landcolor": "#E5ECF6",
           "showlakes": true,
           "showland": true,
           "subunitcolor": "white"
          },
          "hoverlabel": {
           "align": "left"
          },
          "hovermode": "closest",
          "mapbox": {
           "style": "light"
          },
          "paper_bgcolor": "white",
          "plot_bgcolor": "#E5ECF6",
          "polar": {
           "angularaxis": {
            "gridcolor": "white",
            "linecolor": "white",
            "ticks": ""
           },
           "bgcolor": "#E5ECF6",
           "radialaxis": {
            "gridcolor": "white",
            "linecolor": "white",
            "ticks": ""
           }
          },
          "scene": {
           "xaxis": {
            "backgroundcolor": "#E5ECF6",
            "gridcolor": "white",
            "gridwidth": 2,
            "linecolor": "white",
            "showbackground": true,
            "ticks": "",
            "zerolinecolor": "white"
           },
           "yaxis": {
            "backgroundcolor": "#E5ECF6",
            "gridcolor": "white",
            "gridwidth": 2,
            "linecolor": "white",
            "showbackground": true,
            "ticks": "",
            "zerolinecolor": "white"
           },
           "zaxis": {
            "backgroundcolor": "#E5ECF6",
            "gridcolor": "white",
            "gridwidth": 2,
            "linecolor": "white",
            "showbackground": true,
            "ticks": "",
            "zerolinecolor": "white"
           }
          },
          "shapedefaults": {
           "line": {
            "color": "#2a3f5f"
           }
          },
          "ternary": {
           "aaxis": {
            "gridcolor": "white",
            "linecolor": "white",
            "ticks": ""
           },
           "baxis": {
            "gridcolor": "white",
            "linecolor": "white",
            "ticks": ""
           },
           "bgcolor": "#E5ECF6",
           "caxis": {
            "gridcolor": "white",
            "linecolor": "white",
            "ticks": ""
           }
          },
          "title": {
           "x": 0.05
          },
          "xaxis": {
           "automargin": true,
           "gridcolor": "white",
           "linecolor": "white",
           "ticks": "",
           "title": {
            "standoff": 15
           },
           "zerolinecolor": "white",
           "zerolinewidth": 2
          },
          "yaxis": {
           "automargin": true,
           "gridcolor": "white",
           "linecolor": "white",
           "ticks": "",
           "title": {
            "standoff": 15
           },
           "zerolinecolor": "white",
           "zerolinewidth": 2
          }
         }
        },
        "title": {
         "font": {
          "color": "#4D5663"
         }
        },
        "xaxis": {
         "gridcolor": "#E1E5ED",
         "showgrid": true,
         "tickfont": {
          "color": "#4D5663"
         },
         "title": {
          "font": {
           "color": "#4D5663"
          },
          "text": "setor"
         },
         "zerolinecolor": "#E1E5ED"
        },
        "yaxis": {
         "gridcolor": "#E1E5ED",
         "showgrid": true,
         "tickfont": {
          "color": "#4D5663"
         },
         "title": {
          "font": {
           "color": "#4D5663"
          },
          "text": "med_vac"
         },
         "zerolinecolor": "#E1E5ED"
        }
       }
      },
      "text/html": [
       "<div>                            <div id=\"c78237d7-f2d4-4d35-869c-0a40a3e5205d\" class=\"plotly-graph-div\" style=\"height:525px; width:100%;\"></div>            <script type=\"text/javascript\">                require([\"plotly\"], function(Plotly) {                    window.PLOTLYENV=window.PLOTLYENV || {};\n",
       "                    window.PLOTLYENV.BASE_URL='https://plot.ly';                                    if (document.getElementById(\"c78237d7-f2d4-4d35-869c-0a40a3e5205d\")) {                    Plotly.newPlot(                        \"c78237d7-f2d4-4d35-869c-0a40a3e5205d\",                        [{\"marker\": {\"color\": \"rgba(255, 153, 51, 0.6)\", \"line\": {\"color\": \"rgba(255, 153, 51, 1.0)\", \"width\": 1}}, \"name\": \"med_vacancia\", \"orientation\": \"v\", \"text\": \"\", \"type\": \"bar\", \"x\": [\"Hotel\", \"Lajes Corporativas\", \"Log\\u00edstica\", \"Shoppings\", \"H\\u00edbrido\", \"Outros\", \"Hospital\", \"Residencial\", \"T\\u00edtulos e Val. Mob.\"], \"y\": [26.0, 20.12090909090909, 9.255384615384616, 8.216666666666663, 3.94875, 0.4714285714285714, 0.0, \"\", \"\"]}],                        {\"legend\": {\"bgcolor\": \"#F5F6F9\", \"font\": {\"color\": \"#4D5663\"}}, \"paper_bgcolor\": \"#F5F6F9\", \"plot_bgcolor\": \"#F5F6F9\", \"template\": {\"data\": {\"bar\": [{\"error_x\": {\"color\": \"#2a3f5f\"}, \"error_y\": {\"color\": \"#2a3f5f\"}, \"marker\": {\"line\": {\"color\": \"#E5ECF6\", \"width\": 0.5}}, \"type\": \"bar\"}], \"barpolar\": [{\"marker\": {\"line\": {\"color\": \"#E5ECF6\", \"width\": 0.5}}, \"type\": \"barpolar\"}], \"carpet\": [{\"aaxis\": {\"endlinecolor\": \"#2a3f5f\", \"gridcolor\": \"white\", \"linecolor\": \"white\", \"minorgridcolor\": \"white\", \"startlinecolor\": \"#2a3f5f\"}, \"baxis\": {\"endlinecolor\": \"#2a3f5f\", \"gridcolor\": \"white\", \"linecolor\": \"white\", \"minorgridcolor\": \"white\", \"startlinecolor\": \"#2a3f5f\"}, \"type\": \"carpet\"}], \"choropleth\": [{\"colorbar\": {\"outlinewidth\": 0, \"ticks\": \"\"}, \"type\": \"choropleth\"}], \"contour\": [{\"colorbar\": {\"outlinewidth\": 0, \"ticks\": \"\"}, \"colorscale\": [[0.0, \"#0d0887\"], [0.1111111111111111, \"#46039f\"], [0.2222222222222222, \"#7201a8\"], [0.3333333333333333, \"#9c179e\"], [0.4444444444444444, \"#bd3786\"], [0.5555555555555556, \"#d8576b\"], [0.6666666666666666, \"#ed7953\"], [0.7777777777777778, \"#fb9f3a\"], [0.8888888888888888, \"#fdca26\"], [1.0, \"#f0f921\"]], \"type\": \"contour\"}], \"contourcarpet\": [{\"colorbar\": {\"outlinewidth\": 0, \"ticks\": \"\"}, \"type\": \"contourcarpet\"}], \"heatmap\": [{\"colorbar\": {\"outlinewidth\": 0, \"ticks\": \"\"}, \"colorscale\": [[0.0, \"#0d0887\"], [0.1111111111111111, \"#46039f\"], [0.2222222222222222, \"#7201a8\"], [0.3333333333333333, \"#9c179e\"], [0.4444444444444444, \"#bd3786\"], [0.5555555555555556, \"#d8576b\"], [0.6666666666666666, \"#ed7953\"], [0.7777777777777778, \"#fb9f3a\"], [0.8888888888888888, \"#fdca26\"], [1.0, \"#f0f921\"]], \"type\": \"heatmap\"}], \"heatmapgl\": [{\"colorbar\": {\"outlinewidth\": 0, \"ticks\": \"\"}, \"colorscale\": [[0.0, \"#0d0887\"], [0.1111111111111111, \"#46039f\"], [0.2222222222222222, \"#7201a8\"], [0.3333333333333333, \"#9c179e\"], [0.4444444444444444, \"#bd3786\"], [0.5555555555555556, \"#d8576b\"], [0.6666666666666666, \"#ed7953\"], [0.7777777777777778, \"#fb9f3a\"], [0.8888888888888888, \"#fdca26\"], [1.0, \"#f0f921\"]], \"type\": \"heatmapgl\"}], \"histogram\": [{\"marker\": {\"colorbar\": {\"outlinewidth\": 0, \"ticks\": \"\"}}, \"type\": \"histogram\"}], \"histogram2d\": [{\"colorbar\": {\"outlinewidth\": 0, \"ticks\": \"\"}, \"colorscale\": [[0.0, \"#0d0887\"], [0.1111111111111111, \"#46039f\"], [0.2222222222222222, \"#7201a8\"], [0.3333333333333333, \"#9c179e\"], [0.4444444444444444, \"#bd3786\"], [0.5555555555555556, \"#d8576b\"], [0.6666666666666666, \"#ed7953\"], [0.7777777777777778, \"#fb9f3a\"], [0.8888888888888888, \"#fdca26\"], [1.0, \"#f0f921\"]], \"type\": \"histogram2d\"}], \"histogram2dcontour\": [{\"colorbar\": {\"outlinewidth\": 0, \"ticks\": \"\"}, \"colorscale\": [[0.0, \"#0d0887\"], [0.1111111111111111, \"#46039f\"], [0.2222222222222222, \"#7201a8\"], [0.3333333333333333, \"#9c179e\"], [0.4444444444444444, \"#bd3786\"], [0.5555555555555556, \"#d8576b\"], [0.6666666666666666, \"#ed7953\"], [0.7777777777777778, \"#fb9f3a\"], [0.8888888888888888, \"#fdca26\"], [1.0, \"#f0f921\"]], \"type\": \"histogram2dcontour\"}], \"mesh3d\": [{\"colorbar\": {\"outlinewidth\": 0, \"ticks\": \"\"}, \"type\": \"mesh3d\"}], \"parcoords\": [{\"line\": {\"colorbar\": {\"outlinewidth\": 0, \"ticks\": \"\"}}, \"type\": \"parcoords\"}], \"pie\": [{\"automargin\": true, \"type\": \"pie\"}], \"scatter\": [{\"marker\": {\"colorbar\": {\"outlinewidth\": 0, \"ticks\": \"\"}}, \"type\": \"scatter\"}], \"scatter3d\": [{\"line\": {\"colorbar\": {\"outlinewidth\": 0, \"ticks\": \"\"}}, \"marker\": {\"colorbar\": {\"outlinewidth\": 0, \"ticks\": \"\"}}, \"type\": \"scatter3d\"}], \"scattercarpet\": [{\"marker\": {\"colorbar\": {\"outlinewidth\": 0, \"ticks\": \"\"}}, \"type\": \"scattercarpet\"}], \"scattergeo\": [{\"marker\": {\"colorbar\": {\"outlinewidth\": 0, \"ticks\": \"\"}}, \"type\": \"scattergeo\"}], \"scattergl\": [{\"marker\": {\"colorbar\": {\"outlinewidth\": 0, \"ticks\": \"\"}}, \"type\": \"scattergl\"}], \"scattermapbox\": [{\"marker\": {\"colorbar\": {\"outlinewidth\": 0, \"ticks\": \"\"}}, \"type\": \"scattermapbox\"}], \"scatterpolar\": [{\"marker\": {\"colorbar\": {\"outlinewidth\": 0, \"ticks\": \"\"}}, \"type\": \"scatterpolar\"}], \"scatterpolargl\": [{\"marker\": {\"colorbar\": {\"outlinewidth\": 0, \"ticks\": \"\"}}, \"type\": \"scatterpolargl\"}], \"scatterternary\": [{\"marker\": {\"colorbar\": {\"outlinewidth\": 0, \"ticks\": \"\"}}, \"type\": \"scatterternary\"}], \"surface\": [{\"colorbar\": {\"outlinewidth\": 0, \"ticks\": \"\"}, \"colorscale\": [[0.0, \"#0d0887\"], [0.1111111111111111, \"#46039f\"], [0.2222222222222222, \"#7201a8\"], [0.3333333333333333, \"#9c179e\"], [0.4444444444444444, \"#bd3786\"], [0.5555555555555556, \"#d8576b\"], [0.6666666666666666, \"#ed7953\"], [0.7777777777777778, \"#fb9f3a\"], [0.8888888888888888, \"#fdca26\"], [1.0, \"#f0f921\"]], \"type\": \"surface\"}], \"table\": [{\"cells\": {\"fill\": {\"color\": \"#EBF0F8\"}, \"line\": {\"color\": \"white\"}}, \"header\": {\"fill\": {\"color\": \"#C8D4E3\"}, \"line\": {\"color\": \"white\"}}, \"type\": \"table\"}]}, \"layout\": {\"annotationdefaults\": {\"arrowcolor\": \"#2a3f5f\", \"arrowhead\": 0, \"arrowwidth\": 1}, \"autotypenumbers\": \"strict\", \"coloraxis\": {\"colorbar\": {\"outlinewidth\": 0, \"ticks\": \"\"}}, \"colorscale\": {\"diverging\": [[0, \"#8e0152\"], [0.1, \"#c51b7d\"], [0.2, \"#de77ae\"], [0.3, \"#f1b6da\"], [0.4, \"#fde0ef\"], [0.5, \"#f7f7f7\"], [0.6, \"#e6f5d0\"], [0.7, \"#b8e186\"], [0.8, \"#7fbc41\"], [0.9, \"#4d9221\"], [1, \"#276419\"]], \"sequential\": [[0.0, \"#0d0887\"], [0.1111111111111111, \"#46039f\"], [0.2222222222222222, \"#7201a8\"], [0.3333333333333333, \"#9c179e\"], [0.4444444444444444, \"#bd3786\"], [0.5555555555555556, \"#d8576b\"], [0.6666666666666666, \"#ed7953\"], [0.7777777777777778, \"#fb9f3a\"], [0.8888888888888888, \"#fdca26\"], [1.0, \"#f0f921\"]], \"sequentialminus\": [[0.0, \"#0d0887\"], [0.1111111111111111, \"#46039f\"], [0.2222222222222222, \"#7201a8\"], [0.3333333333333333, \"#9c179e\"], [0.4444444444444444, \"#bd3786\"], [0.5555555555555556, \"#d8576b\"], [0.6666666666666666, \"#ed7953\"], [0.7777777777777778, \"#fb9f3a\"], [0.8888888888888888, \"#fdca26\"], [1.0, \"#f0f921\"]]}, \"colorway\": [\"#636efa\", \"#EF553B\", \"#00cc96\", \"#ab63fa\", \"#FFA15A\", \"#19d3f3\", \"#FF6692\", \"#B6E880\", \"#FF97FF\", \"#FECB52\"], \"font\": {\"color\": \"#2a3f5f\"}, \"geo\": {\"bgcolor\": \"white\", \"lakecolor\": \"white\", \"landcolor\": \"#E5ECF6\", \"showlakes\": true, \"showland\": true, \"subunitcolor\": \"white\"}, \"hoverlabel\": {\"align\": \"left\"}, \"hovermode\": \"closest\", \"mapbox\": {\"style\": \"light\"}, \"paper_bgcolor\": \"white\", \"plot_bgcolor\": \"#E5ECF6\", \"polar\": {\"angularaxis\": {\"gridcolor\": \"white\", \"linecolor\": \"white\", \"ticks\": \"\"}, \"bgcolor\": \"#E5ECF6\", \"radialaxis\": {\"gridcolor\": \"white\", \"linecolor\": \"white\", \"ticks\": \"\"}}, \"scene\": {\"xaxis\": {\"backgroundcolor\": \"#E5ECF6\", \"gridcolor\": \"white\", \"gridwidth\": 2, \"linecolor\": \"white\", \"showbackground\": true, \"ticks\": \"\", \"zerolinecolor\": \"white\"}, \"yaxis\": {\"backgroundcolor\": \"#E5ECF6\", \"gridcolor\": \"white\", \"gridwidth\": 2, \"linecolor\": \"white\", \"showbackground\": true, \"ticks\": \"\", \"zerolinecolor\": \"white\"}, \"zaxis\": {\"backgroundcolor\": \"#E5ECF6\", \"gridcolor\": \"white\", \"gridwidth\": 2, \"linecolor\": \"white\", \"showbackground\": true, \"ticks\": \"\", \"zerolinecolor\": \"white\"}}, \"shapedefaults\": {\"line\": {\"color\": \"#2a3f5f\"}}, \"ternary\": {\"aaxis\": {\"gridcolor\": \"white\", \"linecolor\": \"white\", \"ticks\": \"\"}, \"baxis\": {\"gridcolor\": \"white\", \"linecolor\": \"white\", \"ticks\": \"\"}, \"bgcolor\": \"#E5ECF6\", \"caxis\": {\"gridcolor\": \"white\", \"linecolor\": \"white\", \"ticks\": \"\"}}, \"title\": {\"x\": 0.05}, \"xaxis\": {\"automargin\": true, \"gridcolor\": \"white\", \"linecolor\": \"white\", \"ticks\": \"\", \"title\": {\"standoff\": 15}, \"zerolinecolor\": \"white\", \"zerolinewidth\": 2}, \"yaxis\": {\"automargin\": true, \"gridcolor\": \"white\", \"linecolor\": \"white\", \"ticks\": \"\", \"title\": {\"standoff\": 15}, \"zerolinecolor\": \"white\", \"zerolinewidth\": 2}}}, \"title\": {\"font\": {\"color\": \"#4D5663\"}}, \"xaxis\": {\"gridcolor\": \"#E1E5ED\", \"showgrid\": true, \"tickfont\": {\"color\": \"#4D5663\"}, \"title\": {\"font\": {\"color\": \"#4D5663\"}, \"text\": \"setor\"}, \"zerolinecolor\": \"#E1E5ED\"}, \"yaxis\": {\"gridcolor\": \"#E1E5ED\", \"showgrid\": true, \"tickfont\": {\"color\": \"#4D5663\"}, \"title\": {\"font\": {\"color\": \"#4D5663\"}, \"text\": \"med_vac\"}, \"zerolinecolor\": \"#E1E5ED\"}},                        {\"showLink\": true, \"linkText\": \"Export to plot.ly\", \"plotlyServerURL\": \"https://plot.ly\", \"responsive\": true}                    ).then(function(){\n",
       "                            \n",
       "var gd = document.getElementById('c78237d7-f2d4-4d35-869c-0a40a3e5205d');\n",
       "var x = new MutationObserver(function (mutations, observer) {{\n",
       "        var display = window.getComputedStyle(gd).display;\n",
       "        if (!display || display === 'none') {{\n",
       "            console.log([gd, 'removed!']);\n",
       "            Plotly.purge(gd);\n",
       "            observer.disconnect();\n",
       "        }}\n",
       "}});\n",
       "\n",
       "// Listen for the removal of the full notebook cells\n",
       "var notebookContainer = gd.closest('#notebook-container');\n",
       "if (notebookContainer) {{\n",
       "    x.observe(notebookContainer, {childList: true});\n",
       "}}\n",
       "\n",
       "// Listen for the clearing of the current output cell\n",
       "var outputEl = gd.closest('.output');\n",
       "if (outputEl) {{\n",
       "    x.observe(outputEl, {childList: true});\n",
       "}}\n",
       "\n",
       "                        })                };                });            </script>        </div>"
      ]
     },
     "metadata": {},
     "output_type": "display_data"
    }
   ],
   "source": [
    "plotar.iplot(x='setor',y='med_vacancia',kind='bar',yTitle='med_vac',xTitle='setor')"
   ]
  },
  {
   "cell_type": "code",
   "execution_count": 123,
   "metadata": {},
   "outputs": [
    {
     "data": {
      "application/vnd.plotly.v1+json": {
       "config": {
        "plotlyServerURL": "https://plot.ly"
       },
       "data": [
        {
         "alignmentgroup": "True",
         "hovertemplate": "SETOR=%{x}<br>P/VPA=%{y}<extra></extra>",
         "legendgroup": "",
         "marker": {
          "color": "#636efa"
         },
         "name": "",
         "notched": false,
         "offsetgroup": "",
         "orientation": "v",
         "showlegend": false,
         "type": "box",
         "x": [
          "Shoppings",
          "Híbrido",
          "Títulos e Val. Mob.",
          "Lajes Corporativas",
          "Lajes Corporativas",
          "Logística",
          "Híbrido",
          "Títulos e Val. Mob.",
          "Shoppings",
          "Títulos e Val. Mob.",
          "Lajes Corporativas",
          "Títulos e Val. Mob.",
          "Lajes Corporativas",
          "Outros",
          "Títulos e Val. Mob.",
          "Títulos e Val. Mob.",
          "Títulos e Val. Mob.",
          "Títulos e Val. Mob.",
          "Outros",
          "Outros",
          "Títulos e Val. Mob.",
          "Lajes Corporativas",
          "Outros",
          "Títulos e Val. Mob.",
          "Shoppings",
          "Logística",
          "Híbrido",
          "Híbrido",
          "Outros",
          "Títulos e Val. Mob.",
          "Logística",
          "Títulos e Val. Mob.",
          "Híbrido",
          "Lajes Corporativas",
          "Lajes Corporativas",
          "Lajes Corporativas",
          "Lajes Corporativas",
          "Híbrido",
          "Títulos e Val. Mob.",
          "Títulos e Val. Mob.",
          "Lajes Corporativas",
          "Títulos e Val. Mob.",
          "Outros",
          "Lajes Corporativas",
          "Híbrido",
          "Logística",
          "Títulos e Val. Mob.",
          "Residencial",
          "Lajes Corporativas",
          "Lajes Corporativas",
          "Lajes Corporativas",
          "Híbrido",
          "Logística",
          "Híbrido",
          "Outros",
          "Lajes Corporativas",
          "Híbrido",
          "Outros",
          "Títulos e Val. Mob.",
          "Shoppings",
          "Híbrido",
          "Logística",
          "Shoppings",
          "Híbrido",
          "Shoppings",
          "Lajes Corporativas",
          "Lajes Corporativas",
          "Shoppings",
          "Híbrido",
          "Títulos e Val. Mob.",
          "Logística",
          "Shoppings",
          "Lajes Corporativas",
          "Lajes Corporativas",
          "Títulos e Val. Mob.",
          "Híbrido",
          "Hospital",
          "Outros",
          "Títulos e Val. Mob.",
          "Shoppings",
          "Títulos e Val. Mob.",
          "Títulos e Val. Mob.",
          "Títulos e Val. Mob.",
          "Logística",
          "Lajes Corporativas",
          "Lajes Corporativas",
          "Híbrido",
          "Logística",
          "Híbrido",
          "Shoppings",
          "Híbrido",
          "Títulos e Val. Mob.",
          "Títulos e Val. Mob.",
          "Logística",
          "Shoppings",
          "Hotel",
          "Outros",
          "Títulos e Val. Mob.",
          "Títulos e Val. Mob.",
          "Títulos e Val. Mob.",
          "Títulos e Val. Mob.",
          "Residencial",
          "Títulos e Val. Mob.",
          "Shoppings",
          "Híbrido",
          "Títulos e Val. Mob.",
          "Residencial",
          "Títulos e Val. Mob.",
          "Títulos e Val. Mob.",
          "Títulos e Val. Mob.",
          "Títulos e Val. Mob.",
          "Residencial",
          "Híbrido",
          "Títulos e Val. Mob.",
          "Shoppings",
          "Residencial",
          "Logística",
          "Residencial",
          "Logística",
          "Shoppings",
          "Outros",
          "Outros",
          "Títulos e Val. Mob.",
          "Híbrido",
          "Híbrido",
          "Títulos e Val. Mob.",
          "Títulos e Val. Mob.",
          "Hotel",
          "Títulos e Val. Mob.",
          "Híbrido",
          "Títulos e Val. Mob.",
          "Híbrido",
          "Lajes Corporativas",
          "Hospital",
          "Hospital",
          "Lajes Corporativas",
          "Títulos e Val. Mob.",
          "Títulos e Val. Mob.",
          "Títulos e Val. Mob.",
          "Outros",
          "Títulos e Val. Mob.",
          "Lajes Corporativas",
          "Híbrido",
          "Híbrido",
          "Logística",
          "Títulos e Val. Mob.",
          "Títulos e Val. Mob.",
          "Logística",
          "Shoppings",
          "Lajes Corporativas",
          "Lajes Corporativas",
          "Outros",
          "Títulos e Val. Mob.",
          "Títulos e Val. Mob.",
          "Lajes Corporativas",
          "Residencial",
          "Outros",
          "Títulos e Val. Mob.",
          "Shoppings",
          "Títulos e Val. Mob.",
          "Logística",
          "Híbrido",
          "Títulos e Val. Mob.",
          "Logística",
          "Outros",
          "Títulos e Val. Mob.",
          "Híbrido",
          "Títulos e Val. Mob.",
          "Outros",
          "Outros",
          "Lajes Corporativas",
          "Títulos e Val. Mob.",
          "Títulos e Val. Mob.",
          "Híbrido",
          "Híbrido",
          "Títulos e Val. Mob.",
          "Títulos e Val. Mob.",
          "Lajes Corporativas",
          "Títulos e Val. Mob.",
          "Títulos e Val. Mob.",
          "Títulos e Val. Mob.",
          "Híbrido",
          "Títulos e Val. Mob.",
          "Híbrido",
          "Shoppings",
          "Logística",
          "Outros",
          "Shoppings",
          "Lajes Corporativas",
          "Lajes Corporativas",
          "Outros",
          "Lajes Corporativas",
          "Outros",
          "Lajes Corporativas",
          "Outros",
          "Outros",
          "Títulos e Val. Mob.",
          "Títulos e Val. Mob.",
          "Outros",
          "Títulos e Val. Mob.",
          "Títulos e Val. Mob.",
          "Logística",
          "Lajes Corporativas",
          "Shoppings",
          "Lajes Corporativas",
          "Títulos e Val. Mob.",
          "Títulos e Val. Mob.",
          "Shoppings",
          "Outros",
          "Logística",
          "Híbrido",
          "Shoppings",
          "Híbrido",
          "Outros",
          "Lajes Corporativas",
          "Hotel",
          "Outros",
          "Logística",
          "Shoppings",
          "Outros",
          "Outros",
          "Lajes Corporativas"
         ],
         "x0": " ",
         "xaxis": "x",
         "y": [
          0.79,
          1.1,
          2.09,
          0.87,
          0.55,
          1.23,
          1.2,
          1.09,
          1.1,
          1.04,
          1.01,
          0.94,
          1.14,
          1.05,
          1.03,
          0.89,
          1.12,
          0.86,
          0.99,
          1.04,
          0.9,
          0.86,
          1.2,
          0.94,
          0.64,
          1,
          0.78,
          1.01,
          1.05,
          0.97,
          1.12,
          1.27,
          0.46,
          0.8,
          0.79,
          0.92,
          0.46,
          0.99,
          1.05,
          0.79,
          0.52,
          1.05,
          1.09,
          1.02,
          0.98,
          0.52,
          1.06,
          0.17,
          0.84,
          1.16,
          0.33,
          0.96,
          0.74,
          1.04,
          0.72,
          0.34,
          1.03,
          1.09,
          0.98,
          0.62,
          1.13,
          1.04,
          0.43,
          0.95,
          0.79,
          0.54,
          0.59,
          0.7,
          1.1,
          1.01,
          0.97,
          0.3,
          1.06,
          1.04,
          1.21,
          0.88,
          1.39,
          1.17,
          1.03,
          0.91,
          1.03,
          0.9,
          1.03,
          1.17,
          0.89,
          0.77,
          1.02,
          0.96,
          0.87,
          0.82,
          0.96,
          1.04,
          1.01,
          1.03,
          0.94,
          0.8,
          1,
          0.8,
          0.96,
          1.09,
          1.33,
          1,
          0.97,
          0.78,
          0.79,
          0.88,
          1.58,
          1.15,
          0.94,
          1.05,
          1.05,
          1.14,
          0.95,
          1.1,
          0.91,
          1.75,
          0.95,
          0.87,
          0.99,
          0.96,
          0.04,
          0.75,
          1.03,
          1.03,
          1,
          1.05,
          0.97,
          0.97,
          0.89,
          1.04,
          1.03,
          0.94,
          0.6,
          1.17,
          1.21,
          0.87,
          0.9,
          0.94,
          0.99,
          0.72,
          0.88,
          0.8,
          0.96,
          0.96,
          1,
          0.82,
          1.02,
          1.19,
          0.78,
          0.62,
          0.99,
          0.9,
          1.06,
          0.97,
          0.58,
          0.94,
          0.98,
          0.94,
          0.44,
          0.82,
          0.94,
          0.88,
          0.98,
          1.01,
          1.03,
          1.03,
          0.81,
          1,
          0.95,
          0.53,
          0.72,
          0.89,
          1.12,
          0.8,
          1.02,
          0.89,
          0.73,
          0.62,
          0.92,
          1,
          0.98,
          1.05,
          0.87,
          1,
          0.72,
          0.92,
          0.86,
          1,
          1.01,
          0.84,
          1.05,
          1.21,
          1.02,
          0.7,
          1.03,
          1.23,
          1.03,
          1,
          1.1,
          0.96,
          0.89,
          1.05,
          1,
          0.92,
          1.02,
          0.87,
          1.11,
          0.74,
          1.05,
          1.09,
          1,
          0.63,
          0.58,
          1.03,
          0.55,
          0.99,
          0.98,
          1.04,
          0.95,
          0.73,
          0.99,
          0.49
         ],
         "y0": " ",
         "yaxis": "y"
        }
       ],
       "layout": {
        "boxmode": "group",
        "legend": {
         "tracegroupgap": 0
        },
        "margin": {
         "t": 60
        },
        "template": {
         "data": {
          "bar": [
           {
            "error_x": {
             "color": "#2a3f5f"
            },
            "error_y": {
             "color": "#2a3f5f"
            },
            "marker": {
             "line": {
              "color": "#E5ECF6",
              "width": 0.5
             }
            },
            "type": "bar"
           }
          ],
          "barpolar": [
           {
            "marker": {
             "line": {
              "color": "#E5ECF6",
              "width": 0.5
             }
            },
            "type": "barpolar"
           }
          ],
          "carpet": [
           {
            "aaxis": {
             "endlinecolor": "#2a3f5f",
             "gridcolor": "white",
             "linecolor": "white",
             "minorgridcolor": "white",
             "startlinecolor": "#2a3f5f"
            },
            "baxis": {
             "endlinecolor": "#2a3f5f",
             "gridcolor": "white",
             "linecolor": "white",
             "minorgridcolor": "white",
             "startlinecolor": "#2a3f5f"
            },
            "type": "carpet"
           }
          ],
          "choropleth": [
           {
            "colorbar": {
             "outlinewidth": 0,
             "ticks": ""
            },
            "type": "choropleth"
           }
          ],
          "contour": [
           {
            "colorbar": {
             "outlinewidth": 0,
             "ticks": ""
            },
            "colorscale": [
             [
              0,
              "#0d0887"
             ],
             [
              0.1111111111111111,
              "#46039f"
             ],
             [
              0.2222222222222222,
              "#7201a8"
             ],
             [
              0.3333333333333333,
              "#9c179e"
             ],
             [
              0.4444444444444444,
              "#bd3786"
             ],
             [
              0.5555555555555556,
              "#d8576b"
             ],
             [
              0.6666666666666666,
              "#ed7953"
             ],
             [
              0.7777777777777778,
              "#fb9f3a"
             ],
             [
              0.8888888888888888,
              "#fdca26"
             ],
             [
              1,
              "#f0f921"
             ]
            ],
            "type": "contour"
           }
          ],
          "contourcarpet": [
           {
            "colorbar": {
             "outlinewidth": 0,
             "ticks": ""
            },
            "type": "contourcarpet"
           }
          ],
          "heatmap": [
           {
            "colorbar": {
             "outlinewidth": 0,
             "ticks": ""
            },
            "colorscale": [
             [
              0,
              "#0d0887"
             ],
             [
              0.1111111111111111,
              "#46039f"
             ],
             [
              0.2222222222222222,
              "#7201a8"
             ],
             [
              0.3333333333333333,
              "#9c179e"
             ],
             [
              0.4444444444444444,
              "#bd3786"
             ],
             [
              0.5555555555555556,
              "#d8576b"
             ],
             [
              0.6666666666666666,
              "#ed7953"
             ],
             [
              0.7777777777777778,
              "#fb9f3a"
             ],
             [
              0.8888888888888888,
              "#fdca26"
             ],
             [
              1,
              "#f0f921"
             ]
            ],
            "type": "heatmap"
           }
          ],
          "heatmapgl": [
           {
            "colorbar": {
             "outlinewidth": 0,
             "ticks": ""
            },
            "colorscale": [
             [
              0,
              "#0d0887"
             ],
             [
              0.1111111111111111,
              "#46039f"
             ],
             [
              0.2222222222222222,
              "#7201a8"
             ],
             [
              0.3333333333333333,
              "#9c179e"
             ],
             [
              0.4444444444444444,
              "#bd3786"
             ],
             [
              0.5555555555555556,
              "#d8576b"
             ],
             [
              0.6666666666666666,
              "#ed7953"
             ],
             [
              0.7777777777777778,
              "#fb9f3a"
             ],
             [
              0.8888888888888888,
              "#fdca26"
             ],
             [
              1,
              "#f0f921"
             ]
            ],
            "type": "heatmapgl"
           }
          ],
          "histogram": [
           {
            "marker": {
             "colorbar": {
              "outlinewidth": 0,
              "ticks": ""
             }
            },
            "type": "histogram"
           }
          ],
          "histogram2d": [
           {
            "colorbar": {
             "outlinewidth": 0,
             "ticks": ""
            },
            "colorscale": [
             [
              0,
              "#0d0887"
             ],
             [
              0.1111111111111111,
              "#46039f"
             ],
             [
              0.2222222222222222,
              "#7201a8"
             ],
             [
              0.3333333333333333,
              "#9c179e"
             ],
             [
              0.4444444444444444,
              "#bd3786"
             ],
             [
              0.5555555555555556,
              "#d8576b"
             ],
             [
              0.6666666666666666,
              "#ed7953"
             ],
             [
              0.7777777777777778,
              "#fb9f3a"
             ],
             [
              0.8888888888888888,
              "#fdca26"
             ],
             [
              1,
              "#f0f921"
             ]
            ],
            "type": "histogram2d"
           }
          ],
          "histogram2dcontour": [
           {
            "colorbar": {
             "outlinewidth": 0,
             "ticks": ""
            },
            "colorscale": [
             [
              0,
              "#0d0887"
             ],
             [
              0.1111111111111111,
              "#46039f"
             ],
             [
              0.2222222222222222,
              "#7201a8"
             ],
             [
              0.3333333333333333,
              "#9c179e"
             ],
             [
              0.4444444444444444,
              "#bd3786"
             ],
             [
              0.5555555555555556,
              "#d8576b"
             ],
             [
              0.6666666666666666,
              "#ed7953"
             ],
             [
              0.7777777777777778,
              "#fb9f3a"
             ],
             [
              0.8888888888888888,
              "#fdca26"
             ],
             [
              1,
              "#f0f921"
             ]
            ],
            "type": "histogram2dcontour"
           }
          ],
          "mesh3d": [
           {
            "colorbar": {
             "outlinewidth": 0,
             "ticks": ""
            },
            "type": "mesh3d"
           }
          ],
          "parcoords": [
           {
            "line": {
             "colorbar": {
              "outlinewidth": 0,
              "ticks": ""
             }
            },
            "type": "parcoords"
           }
          ],
          "pie": [
           {
            "automargin": true,
            "type": "pie"
           }
          ],
          "scatter": [
           {
            "marker": {
             "colorbar": {
              "outlinewidth": 0,
              "ticks": ""
             }
            },
            "type": "scatter"
           }
          ],
          "scatter3d": [
           {
            "line": {
             "colorbar": {
              "outlinewidth": 0,
              "ticks": ""
             }
            },
            "marker": {
             "colorbar": {
              "outlinewidth": 0,
              "ticks": ""
             }
            },
            "type": "scatter3d"
           }
          ],
          "scattercarpet": [
           {
            "marker": {
             "colorbar": {
              "outlinewidth": 0,
              "ticks": ""
             }
            },
            "type": "scattercarpet"
           }
          ],
          "scattergeo": [
           {
            "marker": {
             "colorbar": {
              "outlinewidth": 0,
              "ticks": ""
             }
            },
            "type": "scattergeo"
           }
          ],
          "scattergl": [
           {
            "marker": {
             "colorbar": {
              "outlinewidth": 0,
              "ticks": ""
             }
            },
            "type": "scattergl"
           }
          ],
          "scattermapbox": [
           {
            "marker": {
             "colorbar": {
              "outlinewidth": 0,
              "ticks": ""
             }
            },
            "type": "scattermapbox"
           }
          ],
          "scatterpolar": [
           {
            "marker": {
             "colorbar": {
              "outlinewidth": 0,
              "ticks": ""
             }
            },
            "type": "scatterpolar"
           }
          ],
          "scatterpolargl": [
           {
            "marker": {
             "colorbar": {
              "outlinewidth": 0,
              "ticks": ""
             }
            },
            "type": "scatterpolargl"
           }
          ],
          "scatterternary": [
           {
            "marker": {
             "colorbar": {
              "outlinewidth": 0,
              "ticks": ""
             }
            },
            "type": "scatterternary"
           }
          ],
          "surface": [
           {
            "colorbar": {
             "outlinewidth": 0,
             "ticks": ""
            },
            "colorscale": [
             [
              0,
              "#0d0887"
             ],
             [
              0.1111111111111111,
              "#46039f"
             ],
             [
              0.2222222222222222,
              "#7201a8"
             ],
             [
              0.3333333333333333,
              "#9c179e"
             ],
             [
              0.4444444444444444,
              "#bd3786"
             ],
             [
              0.5555555555555556,
              "#d8576b"
             ],
             [
              0.6666666666666666,
              "#ed7953"
             ],
             [
              0.7777777777777778,
              "#fb9f3a"
             ],
             [
              0.8888888888888888,
              "#fdca26"
             ],
             [
              1,
              "#f0f921"
             ]
            ],
            "type": "surface"
           }
          ],
          "table": [
           {
            "cells": {
             "fill": {
              "color": "#EBF0F8"
             },
             "line": {
              "color": "white"
             }
            },
            "header": {
             "fill": {
              "color": "#C8D4E3"
             },
             "line": {
              "color": "white"
             }
            },
            "type": "table"
           }
          ]
         },
         "layout": {
          "annotationdefaults": {
           "arrowcolor": "#2a3f5f",
           "arrowhead": 0,
           "arrowwidth": 1
          },
          "autotypenumbers": "strict",
          "coloraxis": {
           "colorbar": {
            "outlinewidth": 0,
            "ticks": ""
           }
          },
          "colorscale": {
           "diverging": [
            [
             0,
             "#8e0152"
            ],
            [
             0.1,
             "#c51b7d"
            ],
            [
             0.2,
             "#de77ae"
            ],
            [
             0.3,
             "#f1b6da"
            ],
            [
             0.4,
             "#fde0ef"
            ],
            [
             0.5,
             "#f7f7f7"
            ],
            [
             0.6,
             "#e6f5d0"
            ],
            [
             0.7,
             "#b8e186"
            ],
            [
             0.8,
             "#7fbc41"
            ],
            [
             0.9,
             "#4d9221"
            ],
            [
             1,
             "#276419"
            ]
           ],
           "sequential": [
            [
             0,
             "#0d0887"
            ],
            [
             0.1111111111111111,
             "#46039f"
            ],
            [
             0.2222222222222222,
             "#7201a8"
            ],
            [
             0.3333333333333333,
             "#9c179e"
            ],
            [
             0.4444444444444444,
             "#bd3786"
            ],
            [
             0.5555555555555556,
             "#d8576b"
            ],
            [
             0.6666666666666666,
             "#ed7953"
            ],
            [
             0.7777777777777778,
             "#fb9f3a"
            ],
            [
             0.8888888888888888,
             "#fdca26"
            ],
            [
             1,
             "#f0f921"
            ]
           ],
           "sequentialminus": [
            [
             0,
             "#0d0887"
            ],
            [
             0.1111111111111111,
             "#46039f"
            ],
            [
             0.2222222222222222,
             "#7201a8"
            ],
            [
             0.3333333333333333,
             "#9c179e"
            ],
            [
             0.4444444444444444,
             "#bd3786"
            ],
            [
             0.5555555555555556,
             "#d8576b"
            ],
            [
             0.6666666666666666,
             "#ed7953"
            ],
            [
             0.7777777777777778,
             "#fb9f3a"
            ],
            [
             0.8888888888888888,
             "#fdca26"
            ],
            [
             1,
             "#f0f921"
            ]
           ]
          },
          "colorway": [
           "#636efa",
           "#EF553B",
           "#00cc96",
           "#ab63fa",
           "#FFA15A",
           "#19d3f3",
           "#FF6692",
           "#B6E880",
           "#FF97FF",
           "#FECB52"
          ],
          "font": {
           "color": "#2a3f5f"
          },
          "geo": {
           "bgcolor": "white",
           "lakecolor": "white",
           "landcolor": "#E5ECF6",
           "showlakes": true,
           "showland": true,
           "subunitcolor": "white"
          },
          "hoverlabel": {
           "align": "left"
          },
          "hovermode": "closest",
          "mapbox": {
           "style": "light"
          },
          "paper_bgcolor": "white",
          "plot_bgcolor": "#E5ECF6",
          "polar": {
           "angularaxis": {
            "gridcolor": "white",
            "linecolor": "white",
            "ticks": ""
           },
           "bgcolor": "#E5ECF6",
           "radialaxis": {
            "gridcolor": "white",
            "linecolor": "white",
            "ticks": ""
           }
          },
          "scene": {
           "xaxis": {
            "backgroundcolor": "#E5ECF6",
            "gridcolor": "white",
            "gridwidth": 2,
            "linecolor": "white",
            "showbackground": true,
            "ticks": "",
            "zerolinecolor": "white"
           },
           "yaxis": {
            "backgroundcolor": "#E5ECF6",
            "gridcolor": "white",
            "gridwidth": 2,
            "linecolor": "white",
            "showbackground": true,
            "ticks": "",
            "zerolinecolor": "white"
           },
           "zaxis": {
            "backgroundcolor": "#E5ECF6",
            "gridcolor": "white",
            "gridwidth": 2,
            "linecolor": "white",
            "showbackground": true,
            "ticks": "",
            "zerolinecolor": "white"
           }
          },
          "shapedefaults": {
           "line": {
            "color": "#2a3f5f"
           }
          },
          "ternary": {
           "aaxis": {
            "gridcolor": "white",
            "linecolor": "white",
            "ticks": ""
           },
           "baxis": {
            "gridcolor": "white",
            "linecolor": "white",
            "ticks": ""
           },
           "bgcolor": "#E5ECF6",
           "caxis": {
            "gridcolor": "white",
            "linecolor": "white",
            "ticks": ""
           }
          },
          "title": {
           "x": 0.05
          },
          "xaxis": {
           "automargin": true,
           "gridcolor": "white",
           "linecolor": "white",
           "ticks": "",
           "title": {
            "standoff": 15
           },
           "zerolinecolor": "white",
           "zerolinewidth": 2
          },
          "yaxis": {
           "automargin": true,
           "gridcolor": "white",
           "linecolor": "white",
           "ticks": "",
           "title": {
            "standoff": 15
           },
           "zerolinecolor": "white",
           "zerolinewidth": 2
          }
         }
        },
        "xaxis": {
         "anchor": "y",
         "domain": [
          0,
          1
         ],
         "title": {
          "text": "SETOR"
         }
        },
        "yaxis": {
         "anchor": "x",
         "domain": [
          0,
          1
         ],
         "title": {
          "text": "P/VPA"
         }
        }
       }
      },
      "text/html": [
       "<div>                            <div id=\"09e8e52d-012f-42c4-a9fd-e8637b274c68\" class=\"plotly-graph-div\" style=\"height:525px; width:100%;\"></div>            <script type=\"text/javascript\">                require([\"plotly\"], function(Plotly) {                    window.PLOTLYENV=window.PLOTLYENV || {};                                    if (document.getElementById(\"09e8e52d-012f-42c4-a9fd-e8637b274c68\")) {                    Plotly.newPlot(                        \"09e8e52d-012f-42c4-a9fd-e8637b274c68\",                        [{\"alignmentgroup\": \"True\", \"hovertemplate\": \"SETOR=%{x}<br>P/VPA=%{y}<extra></extra>\", \"legendgroup\": \"\", \"marker\": {\"color\": \"#636efa\"}, \"name\": \"\", \"notched\": false, \"offsetgroup\": \"\", \"orientation\": \"v\", \"showlegend\": false, \"type\": \"box\", \"x\": [\"Shoppings\", \"H\\u00edbrido\", \"T\\u00edtulos e Val. Mob.\", \"Lajes Corporativas\", \"Lajes Corporativas\", \"Log\\u00edstica\", \"H\\u00edbrido\", \"T\\u00edtulos e Val. Mob.\", \"Shoppings\", \"T\\u00edtulos e Val. Mob.\", \"Lajes Corporativas\", \"T\\u00edtulos e Val. Mob.\", \"Lajes Corporativas\", \"Outros\", \"T\\u00edtulos e Val. Mob.\", \"T\\u00edtulos e Val. Mob.\", \"T\\u00edtulos e Val. Mob.\", \"T\\u00edtulos e Val. Mob.\", \"Outros\", \"Outros\", \"T\\u00edtulos e Val. Mob.\", \"Lajes Corporativas\", \"Outros\", \"T\\u00edtulos e Val. Mob.\", \"Shoppings\", \"Log\\u00edstica\", \"H\\u00edbrido\", \"H\\u00edbrido\", \"Outros\", \"T\\u00edtulos e Val. Mob.\", \"Log\\u00edstica\", \"T\\u00edtulos e Val. Mob.\", \"H\\u00edbrido\", \"Lajes Corporativas\", \"Lajes Corporativas\", \"Lajes Corporativas\", \"Lajes Corporativas\", \"H\\u00edbrido\", \"T\\u00edtulos e Val. Mob.\", \"T\\u00edtulos e Val. Mob.\", \"Lajes Corporativas\", \"T\\u00edtulos e Val. Mob.\", \"Outros\", \"Lajes Corporativas\", \"H\\u00edbrido\", \"Log\\u00edstica\", \"T\\u00edtulos e Val. Mob.\", \"Residencial\", \"Lajes Corporativas\", \"Lajes Corporativas\", \"Lajes Corporativas\", \"H\\u00edbrido\", \"Log\\u00edstica\", \"H\\u00edbrido\", \"Outros\", \"Lajes Corporativas\", \"H\\u00edbrido\", \"Outros\", \"T\\u00edtulos e Val. Mob.\", \"Shoppings\", \"H\\u00edbrido\", \"Log\\u00edstica\", \"Shoppings\", \"H\\u00edbrido\", \"Shoppings\", \"Lajes Corporativas\", \"Lajes Corporativas\", \"Shoppings\", \"H\\u00edbrido\", \"T\\u00edtulos e Val. Mob.\", \"Log\\u00edstica\", \"Shoppings\", \"Lajes Corporativas\", \"Lajes Corporativas\", \"T\\u00edtulos e Val. Mob.\", \"H\\u00edbrido\", \"Hospital\", \"Outros\", \"T\\u00edtulos e Val. Mob.\", \"Shoppings\", \"T\\u00edtulos e Val. Mob.\", \"T\\u00edtulos e Val. Mob.\", \"T\\u00edtulos e Val. Mob.\", \"Log\\u00edstica\", \"Lajes Corporativas\", \"Lajes Corporativas\", \"H\\u00edbrido\", \"Log\\u00edstica\", \"H\\u00edbrido\", \"Shoppings\", \"H\\u00edbrido\", \"T\\u00edtulos e Val. Mob.\", \"T\\u00edtulos e Val. Mob.\", \"Log\\u00edstica\", \"Shoppings\", \"Hotel\", \"Outros\", \"T\\u00edtulos e Val. Mob.\", \"T\\u00edtulos e Val. Mob.\", \"T\\u00edtulos e Val. Mob.\", \"T\\u00edtulos e Val. Mob.\", \"Residencial\", \"T\\u00edtulos e Val. Mob.\", \"Shoppings\", \"H\\u00edbrido\", \"T\\u00edtulos e Val. Mob.\", \"Residencial\", \"T\\u00edtulos e Val. Mob.\", \"T\\u00edtulos e Val. Mob.\", \"T\\u00edtulos e Val. Mob.\", \"T\\u00edtulos e Val. Mob.\", \"Residencial\", \"H\\u00edbrido\", \"T\\u00edtulos e Val. Mob.\", \"Shoppings\", \"Residencial\", \"Log\\u00edstica\", \"Residencial\", \"Log\\u00edstica\", \"Shoppings\", \"Outros\", \"Outros\", \"T\\u00edtulos e Val. Mob.\", \"H\\u00edbrido\", \"H\\u00edbrido\", \"T\\u00edtulos e Val. Mob.\", \"T\\u00edtulos e Val. Mob.\", \"Hotel\", \"T\\u00edtulos e Val. Mob.\", \"H\\u00edbrido\", \"T\\u00edtulos e Val. Mob.\", \"H\\u00edbrido\", \"Lajes Corporativas\", \"Hospital\", \"Hospital\", \"Lajes Corporativas\", \"T\\u00edtulos e Val. Mob.\", \"T\\u00edtulos e Val. Mob.\", \"T\\u00edtulos e Val. Mob.\", \"Outros\", \"T\\u00edtulos e Val. Mob.\", \"Lajes Corporativas\", \"H\\u00edbrido\", \"H\\u00edbrido\", \"Log\\u00edstica\", \"T\\u00edtulos e Val. Mob.\", \"T\\u00edtulos e Val. Mob.\", \"Log\\u00edstica\", \"Shoppings\", \"Lajes Corporativas\", \"Lajes Corporativas\", \"Outros\", \"T\\u00edtulos e Val. Mob.\", \"T\\u00edtulos e Val. Mob.\", \"Lajes Corporativas\", \"Residencial\", \"Outros\", \"T\\u00edtulos e Val. Mob.\", \"Shoppings\", \"T\\u00edtulos e Val. Mob.\", \"Log\\u00edstica\", \"H\\u00edbrido\", \"T\\u00edtulos e Val. Mob.\", \"Log\\u00edstica\", \"Outros\", \"T\\u00edtulos e Val. Mob.\", \"H\\u00edbrido\", \"T\\u00edtulos e Val. Mob.\", \"Outros\", \"Outros\", \"Lajes Corporativas\", \"T\\u00edtulos e Val. Mob.\", \"T\\u00edtulos e Val. Mob.\", \"H\\u00edbrido\", \"H\\u00edbrido\", \"T\\u00edtulos e Val. Mob.\", \"T\\u00edtulos e Val. Mob.\", \"Lajes Corporativas\", \"T\\u00edtulos e Val. Mob.\", \"T\\u00edtulos e Val. Mob.\", \"T\\u00edtulos e Val. Mob.\", \"H\\u00edbrido\", \"T\\u00edtulos e Val. Mob.\", \"H\\u00edbrido\", \"Shoppings\", \"Log\\u00edstica\", \"Outros\", \"Shoppings\", \"Lajes Corporativas\", \"Lajes Corporativas\", \"Outros\", \"Lajes Corporativas\", \"Outros\", \"Lajes Corporativas\", \"Outros\", \"Outros\", \"T\\u00edtulos e Val. Mob.\", \"T\\u00edtulos e Val. Mob.\", \"Outros\", \"T\\u00edtulos e Val. Mob.\", \"T\\u00edtulos e Val. Mob.\", \"Log\\u00edstica\", \"Lajes Corporativas\", \"Shoppings\", \"Lajes Corporativas\", \"T\\u00edtulos e Val. Mob.\", \"T\\u00edtulos e Val. Mob.\", \"Shoppings\", \"Outros\", \"Log\\u00edstica\", \"H\\u00edbrido\", \"Shoppings\", \"H\\u00edbrido\", \"Outros\", \"Lajes Corporativas\", \"Hotel\", \"Outros\", \"Log\\u00edstica\", \"Shoppings\", \"Outros\", \"Outros\", \"Lajes Corporativas\"], \"x0\": \" \", \"xaxis\": \"x\", \"y\": [0.79, 1.1, 2.09, 0.87, 0.55, 1.23, 1.2, 1.09, 1.1, 1.04, 1.01, 0.94, 1.14, 1.05, 1.03, 0.89, 1.12, 0.86, 0.99, 1.04, 0.9, 0.86, 1.2, 0.94, 0.64, 1.0, 0.78, 1.01, 1.05, 0.97, 1.12, 1.27, 0.46, 0.8, 0.79, 0.92, 0.46, 0.99, 1.05, 0.79, 0.52, 1.05, 1.09, 1.02, 0.98, 0.52, 1.06, 0.17, 0.84, 1.16, 0.33, 0.96, 0.74, 1.04, 0.72, 0.34, 1.03, 1.09, 0.98, 0.62, 1.13, 1.04, 0.43, 0.95, 0.79, 0.54, 0.59, 0.7, 1.1, 1.01, 0.97, 0.3, 1.06, 1.04, 1.21, 0.88, 1.39, 1.17, 1.03, 0.91, 1.03, 0.9, 1.03, 1.17, 0.89, 0.77, 1.02, 0.96, 0.87, 0.82, 0.96, 1.04, 1.01, 1.03, 0.94, 0.8, 1.0, 0.8, 0.96, 1.09, 1.33, 1.0, 0.97, 0.78, 0.79, 0.88, 1.58, 1.15, 0.94, 1.05, 1.05, 1.14, 0.95, 1.1, 0.91, 1.75, 0.95, 0.87, 0.99, 0.96, 0.04, 0.75, 1.03, 1.03, 1.0, 1.05, 0.97, 0.97, 0.89, 1.04, 1.03, 0.94, 0.6, 1.17, 1.21, 0.87, 0.9, 0.94, 0.99, 0.72, 0.88, 0.8, 0.96, 0.96, 1.0, 0.82, 1.02, 1.19, 0.78, 0.62, 0.99, 0.9, 1.06, 0.97, 0.58, 0.94, 0.98, 0.94, 0.44, 0.82, 0.94, 0.88, 0.98, 1.01, 1.03, 1.03, 0.81, 1.0, 0.95, 0.53, 0.72, 0.89, 1.12, 0.8, 1.02, 0.89, 0.73, 0.62, 0.92, 1.0, 0.98, 1.05, 0.87, 1.0, 0.72, 0.92, 0.86, 1.0, 1.01, 0.84, 1.05, 1.21, 1.02, 0.7, 1.03, 1.23, 1.03, 1.0, 1.1, 0.96, 0.89, 1.05, 1.0, 0.92, 1.02, 0.87, 1.11, 0.74, 1.05, 1.09, 1.0, 0.63, 0.58, 1.03, 0.55, 0.99, 0.98, 1.04, 0.95, 0.73, 0.99, 0.49], \"y0\": \" \", \"yaxis\": \"y\"}],                        {\"boxmode\": \"group\", \"legend\": {\"tracegroupgap\": 0}, \"margin\": {\"t\": 60}, \"template\": {\"data\": {\"bar\": [{\"error_x\": {\"color\": \"#2a3f5f\"}, \"error_y\": {\"color\": \"#2a3f5f\"}, \"marker\": {\"line\": {\"color\": \"#E5ECF6\", \"width\": 0.5}}, \"type\": \"bar\"}], \"barpolar\": [{\"marker\": {\"line\": {\"color\": \"#E5ECF6\", \"width\": 0.5}}, \"type\": \"barpolar\"}], \"carpet\": [{\"aaxis\": {\"endlinecolor\": \"#2a3f5f\", \"gridcolor\": \"white\", \"linecolor\": \"white\", \"minorgridcolor\": \"white\", \"startlinecolor\": \"#2a3f5f\"}, \"baxis\": {\"endlinecolor\": \"#2a3f5f\", \"gridcolor\": \"white\", \"linecolor\": \"white\", \"minorgridcolor\": \"white\", \"startlinecolor\": \"#2a3f5f\"}, \"type\": \"carpet\"}], \"choropleth\": [{\"colorbar\": {\"outlinewidth\": 0, \"ticks\": \"\"}, \"type\": \"choropleth\"}], \"contour\": [{\"colorbar\": {\"outlinewidth\": 0, \"ticks\": \"\"}, \"colorscale\": [[0.0, \"#0d0887\"], [0.1111111111111111, \"#46039f\"], [0.2222222222222222, \"#7201a8\"], [0.3333333333333333, \"#9c179e\"], [0.4444444444444444, \"#bd3786\"], [0.5555555555555556, \"#d8576b\"], [0.6666666666666666, \"#ed7953\"], [0.7777777777777778, \"#fb9f3a\"], [0.8888888888888888, \"#fdca26\"], [1.0, \"#f0f921\"]], \"type\": \"contour\"}], \"contourcarpet\": [{\"colorbar\": {\"outlinewidth\": 0, \"ticks\": \"\"}, \"type\": \"contourcarpet\"}], \"heatmap\": [{\"colorbar\": {\"outlinewidth\": 0, \"ticks\": \"\"}, \"colorscale\": [[0.0, \"#0d0887\"], [0.1111111111111111, \"#46039f\"], [0.2222222222222222, \"#7201a8\"], [0.3333333333333333, \"#9c179e\"], [0.4444444444444444, \"#bd3786\"], [0.5555555555555556, \"#d8576b\"], [0.6666666666666666, \"#ed7953\"], [0.7777777777777778, \"#fb9f3a\"], [0.8888888888888888, \"#fdca26\"], [1.0, \"#f0f921\"]], \"type\": \"heatmap\"}], \"heatmapgl\": [{\"colorbar\": {\"outlinewidth\": 0, \"ticks\": \"\"}, \"colorscale\": [[0.0, \"#0d0887\"], [0.1111111111111111, \"#46039f\"], [0.2222222222222222, \"#7201a8\"], [0.3333333333333333, \"#9c179e\"], [0.4444444444444444, \"#bd3786\"], [0.5555555555555556, \"#d8576b\"], [0.6666666666666666, \"#ed7953\"], [0.7777777777777778, \"#fb9f3a\"], [0.8888888888888888, \"#fdca26\"], [1.0, \"#f0f921\"]], \"type\": \"heatmapgl\"}], \"histogram\": [{\"marker\": {\"colorbar\": {\"outlinewidth\": 0, \"ticks\": \"\"}}, \"type\": \"histogram\"}], \"histogram2d\": [{\"colorbar\": {\"outlinewidth\": 0, \"ticks\": \"\"}, \"colorscale\": [[0.0, \"#0d0887\"], [0.1111111111111111, \"#46039f\"], [0.2222222222222222, \"#7201a8\"], [0.3333333333333333, \"#9c179e\"], [0.4444444444444444, \"#bd3786\"], [0.5555555555555556, \"#d8576b\"], [0.6666666666666666, \"#ed7953\"], [0.7777777777777778, \"#fb9f3a\"], [0.8888888888888888, \"#fdca26\"], [1.0, \"#f0f921\"]], \"type\": \"histogram2d\"}], \"histogram2dcontour\": [{\"colorbar\": {\"outlinewidth\": 0, \"ticks\": \"\"}, \"colorscale\": [[0.0, \"#0d0887\"], [0.1111111111111111, \"#46039f\"], [0.2222222222222222, \"#7201a8\"], [0.3333333333333333, \"#9c179e\"], [0.4444444444444444, \"#bd3786\"], [0.5555555555555556, \"#d8576b\"], [0.6666666666666666, \"#ed7953\"], [0.7777777777777778, \"#fb9f3a\"], [0.8888888888888888, \"#fdca26\"], [1.0, \"#f0f921\"]], \"type\": \"histogram2dcontour\"}], \"mesh3d\": [{\"colorbar\": {\"outlinewidth\": 0, \"ticks\": \"\"}, \"type\": \"mesh3d\"}], \"parcoords\": [{\"line\": {\"colorbar\": {\"outlinewidth\": 0, \"ticks\": \"\"}}, \"type\": \"parcoords\"}], \"pie\": [{\"automargin\": true, \"type\": \"pie\"}], \"scatter\": [{\"marker\": {\"colorbar\": {\"outlinewidth\": 0, \"ticks\": \"\"}}, \"type\": \"scatter\"}], \"scatter3d\": [{\"line\": {\"colorbar\": {\"outlinewidth\": 0, \"ticks\": \"\"}}, \"marker\": {\"colorbar\": {\"outlinewidth\": 0, \"ticks\": \"\"}}, \"type\": \"scatter3d\"}], \"scattercarpet\": [{\"marker\": {\"colorbar\": {\"outlinewidth\": 0, \"ticks\": \"\"}}, \"type\": \"scattercarpet\"}], \"scattergeo\": [{\"marker\": {\"colorbar\": {\"outlinewidth\": 0, \"ticks\": \"\"}}, \"type\": \"scattergeo\"}], \"scattergl\": [{\"marker\": {\"colorbar\": {\"outlinewidth\": 0, \"ticks\": \"\"}}, \"type\": \"scattergl\"}], \"scattermapbox\": [{\"marker\": {\"colorbar\": {\"outlinewidth\": 0, \"ticks\": \"\"}}, \"type\": \"scattermapbox\"}], \"scatterpolar\": [{\"marker\": {\"colorbar\": {\"outlinewidth\": 0, \"ticks\": \"\"}}, \"type\": \"scatterpolar\"}], \"scatterpolargl\": [{\"marker\": {\"colorbar\": {\"outlinewidth\": 0, \"ticks\": \"\"}}, \"type\": \"scatterpolargl\"}], \"scatterternary\": [{\"marker\": {\"colorbar\": {\"outlinewidth\": 0, \"ticks\": \"\"}}, \"type\": \"scatterternary\"}], \"surface\": [{\"colorbar\": {\"outlinewidth\": 0, \"ticks\": \"\"}, \"colorscale\": [[0.0, \"#0d0887\"], [0.1111111111111111, \"#46039f\"], [0.2222222222222222, \"#7201a8\"], [0.3333333333333333, \"#9c179e\"], [0.4444444444444444, \"#bd3786\"], [0.5555555555555556, \"#d8576b\"], [0.6666666666666666, \"#ed7953\"], [0.7777777777777778, \"#fb9f3a\"], [0.8888888888888888, \"#fdca26\"], [1.0, \"#f0f921\"]], \"type\": \"surface\"}], \"table\": [{\"cells\": {\"fill\": {\"color\": \"#EBF0F8\"}, \"line\": {\"color\": \"white\"}}, \"header\": {\"fill\": {\"color\": \"#C8D4E3\"}, \"line\": {\"color\": \"white\"}}, \"type\": \"table\"}]}, \"layout\": {\"annotationdefaults\": {\"arrowcolor\": \"#2a3f5f\", \"arrowhead\": 0, \"arrowwidth\": 1}, \"autotypenumbers\": \"strict\", \"coloraxis\": {\"colorbar\": {\"outlinewidth\": 0, \"ticks\": \"\"}}, \"colorscale\": {\"diverging\": [[0, \"#8e0152\"], [0.1, \"#c51b7d\"], [0.2, \"#de77ae\"], [0.3, \"#f1b6da\"], [0.4, \"#fde0ef\"], [0.5, \"#f7f7f7\"], [0.6, \"#e6f5d0\"], [0.7, \"#b8e186\"], [0.8, \"#7fbc41\"], [0.9, \"#4d9221\"], [1, \"#276419\"]], \"sequential\": [[0.0, \"#0d0887\"], [0.1111111111111111, \"#46039f\"], [0.2222222222222222, \"#7201a8\"], [0.3333333333333333, \"#9c179e\"], [0.4444444444444444, \"#bd3786\"], [0.5555555555555556, \"#d8576b\"], [0.6666666666666666, \"#ed7953\"], [0.7777777777777778, \"#fb9f3a\"], [0.8888888888888888, \"#fdca26\"], [1.0, \"#f0f921\"]], \"sequentialminus\": [[0.0, \"#0d0887\"], [0.1111111111111111, \"#46039f\"], [0.2222222222222222, \"#7201a8\"], [0.3333333333333333, \"#9c179e\"], [0.4444444444444444, \"#bd3786\"], [0.5555555555555556, \"#d8576b\"], [0.6666666666666666, \"#ed7953\"], [0.7777777777777778, \"#fb9f3a\"], [0.8888888888888888, \"#fdca26\"], [1.0, \"#f0f921\"]]}, \"colorway\": [\"#636efa\", \"#EF553B\", \"#00cc96\", \"#ab63fa\", \"#FFA15A\", \"#19d3f3\", \"#FF6692\", \"#B6E880\", \"#FF97FF\", \"#FECB52\"], \"font\": {\"color\": \"#2a3f5f\"}, \"geo\": {\"bgcolor\": \"white\", \"lakecolor\": \"white\", \"landcolor\": \"#E5ECF6\", \"showlakes\": true, \"showland\": true, \"subunitcolor\": \"white\"}, \"hoverlabel\": {\"align\": \"left\"}, \"hovermode\": \"closest\", \"mapbox\": {\"style\": \"light\"}, \"paper_bgcolor\": \"white\", \"plot_bgcolor\": \"#E5ECF6\", \"polar\": {\"angularaxis\": {\"gridcolor\": \"white\", \"linecolor\": \"white\", \"ticks\": \"\"}, \"bgcolor\": \"#E5ECF6\", \"radialaxis\": {\"gridcolor\": \"white\", \"linecolor\": \"white\", \"ticks\": \"\"}}, \"scene\": {\"xaxis\": {\"backgroundcolor\": \"#E5ECF6\", \"gridcolor\": \"white\", \"gridwidth\": 2, \"linecolor\": \"white\", \"showbackground\": true, \"ticks\": \"\", \"zerolinecolor\": \"white\"}, \"yaxis\": {\"backgroundcolor\": \"#E5ECF6\", \"gridcolor\": \"white\", \"gridwidth\": 2, \"linecolor\": \"white\", \"showbackground\": true, \"ticks\": \"\", \"zerolinecolor\": \"white\"}, \"zaxis\": {\"backgroundcolor\": \"#E5ECF6\", \"gridcolor\": \"white\", \"gridwidth\": 2, \"linecolor\": \"white\", \"showbackground\": true, \"ticks\": \"\", \"zerolinecolor\": \"white\"}}, \"shapedefaults\": {\"line\": {\"color\": \"#2a3f5f\"}}, \"ternary\": {\"aaxis\": {\"gridcolor\": \"white\", \"linecolor\": \"white\", \"ticks\": \"\"}, \"baxis\": {\"gridcolor\": \"white\", \"linecolor\": \"white\", \"ticks\": \"\"}, \"bgcolor\": \"#E5ECF6\", \"caxis\": {\"gridcolor\": \"white\", \"linecolor\": \"white\", \"ticks\": \"\"}}, \"title\": {\"x\": 0.05}, \"xaxis\": {\"automargin\": true, \"gridcolor\": \"white\", \"linecolor\": \"white\", \"ticks\": \"\", \"title\": {\"standoff\": 15}, \"zerolinecolor\": \"white\", \"zerolinewidth\": 2}, \"yaxis\": {\"automargin\": true, \"gridcolor\": \"white\", \"linecolor\": \"white\", \"ticks\": \"\", \"title\": {\"standoff\": 15}, \"zerolinecolor\": \"white\", \"zerolinewidth\": 2}}}, \"xaxis\": {\"anchor\": \"y\", \"domain\": [0.0, 1.0], \"title\": {\"text\": \"SETOR\"}}, \"yaxis\": {\"anchor\": \"x\", \"domain\": [0.0, 1.0], \"title\": {\"text\": \"P/VPA\"}}},                        {\"responsive\": true}                    ).then(function(){\n",
       "                            \n",
       "var gd = document.getElementById('09e8e52d-012f-42c4-a9fd-e8637b274c68');\n",
       "var x = new MutationObserver(function (mutations, observer) {{\n",
       "        var display = window.getComputedStyle(gd).display;\n",
       "        if (!display || display === 'none') {{\n",
       "            console.log([gd, 'removed!']);\n",
       "            Plotly.purge(gd);\n",
       "            observer.disconnect();\n",
       "        }}\n",
       "}});\n",
       "\n",
       "// Listen for the removal of the full notebook cells\n",
       "var notebookContainer = gd.closest('#notebook-container');\n",
       "if (notebookContainer) {{\n",
       "    x.observe(notebookContainer, {childList: true});\n",
       "}}\n",
       "\n",
       "// Listen for the clearing of the current output cell\n",
       "var outputEl = gd.closest('.output');\n",
       "if (outputEl) {{\n",
       "    x.observe(outputEl, {childList: true});\n",
       "}}\n",
       "\n",
       "                        })                };                });            </script>        </div>"
      ]
     },
     "metadata": {},
     "output_type": "display_data"
    }
   ],
   "source": [
    "import plotly.express as px\n",
    "fig = px.box(df[(df['P/VPA']<4) & (df['P/VPA']>0)], x=\"SETOR\", y=\"P/VPA\")\n",
    "fig.show()"
   ]
  },
  {
   "cell_type": "code",
   "execution_count": 127,
   "metadata": {},
   "outputs": [
    {
     "data": {
      "text/html": [
       "<div>\n",
       "<style scoped>\n",
       "    .dataframe tbody tr th:only-of-type {\n",
       "        vertical-align: middle;\n",
       "    }\n",
       "\n",
       "    .dataframe tbody tr th {\n",
       "        vertical-align: top;\n",
       "    }\n",
       "\n",
       "    .dataframe thead th {\n",
       "        text-align: right;\n",
       "    }\n",
       "</style>\n",
       "<table border=\"1\" class=\"dataframe\">\n",
       "  <thead>\n",
       "    <tr style=\"text-align: right;\">\n",
       "      <th></th>\n",
       "      <th>CODIGO</th>\n",
       "      <th>SETOR</th>\n",
       "      <th>PREÇO ATUAL</th>\n",
       "      <th>LIQUIDEZ DIÁRIA</th>\n",
       "      <th>DIVIDENDO</th>\n",
       "      <th>DIVIDEND YIELD</th>\n",
       "      <th>DY(3M) ACUMULADO</th>\n",
       "      <th>DY (6M) ACUMULADO</th>\n",
       "      <th>DY (12M) ACUMULADO</th>\n",
       "      <th>DY(3M) MÉDIA</th>\n",
       "      <th>DY(6M) MÉDIA</th>\n",
       "      <th>DY(12M) MÉDIA</th>\n",
       "      <th>DY ANO</th>\n",
       "      <th>VARIAÇÕES DE PREÇO</th>\n",
       "      <th>RENTA PERIODO</th>\n",
       "      <th>RENTAB ACUMU</th>\n",
       "      <th>PATRI LIQ</th>\n",
       "      <th>VPA</th>\n",
       "      <th>P/VPA</th>\n",
       "      <th>DY PATRIMONIAL</th>\n",
       "      <th>VARIAÇÃO PATRI</th>\n",
       "      <th>RENTAB PATR PERIODO</th>\n",
       "      <th>RENT PATRI ACUMU</th>\n",
       "      <th>VAC FISICA</th>\n",
       "      <th>VAC FINANCEIRA</th>\n",
       "      <th>QUANTIDADE ATIVOS</th>\n",
       "    </tr>\n",
       "  </thead>\n",
       "  <tbody>\n",
       "    <tr>\n",
       "      <th>177</th>\n",
       "      <td>RCRB11</td>\n",
       "      <td>Lajes Corporativas</td>\n",
       "      <td>141.20</td>\n",
       "      <td>10434.0</td>\n",
       "      <td>0.80</td>\n",
       "      <td>0.51</td>\n",
       "      <td>1.54</td>\n",
       "      <td>3.02</td>\n",
       "      <td>6.32</td>\n",
       "      <td>0.51</td>\n",
       "      <td>0.50</td>\n",
       "      <td>0.53</td>\n",
       "      <td>2.50</td>\n",
       "      <td>1.23</td>\n",
       "      <td>1.75</td>\n",
       "      <td>-3.19</td>\n",
       "      <td>7.262693e+08</td>\n",
       "      <td>196.78</td>\n",
       "      <td>0.72</td>\n",
       "      <td>NaN</td>\n",
       "      <td>NaN</td>\n",
       "      <td>NaN</td>\n",
       "      <td>NaN</td>\n",
       "      <td>7.4</td>\n",
       "      <td>NaN</td>\n",
       "      <td>10.0</td>\n",
       "    </tr>\n",
       "    <tr>\n",
       "      <th>108</th>\n",
       "      <td>JSRE11</td>\n",
       "      <td>Híbrido</td>\n",
       "      <td>89.33</td>\n",
       "      <td>24066.0</td>\n",
       "      <td>0.53</td>\n",
       "      <td>0.56</td>\n",
       "      <td>1.66</td>\n",
       "      <td>3.30</td>\n",
       "      <td>6.33</td>\n",
       "      <td>0.55</td>\n",
       "      <td>0.55</td>\n",
       "      <td>0.53</td>\n",
       "      <td>2.19</td>\n",
       "      <td>0.68</td>\n",
       "      <td>1.24</td>\n",
       "      <td>-2.71</td>\n",
       "      <td>2.357857e+09</td>\n",
       "      <td>113.54</td>\n",
       "      <td>0.79</td>\n",
       "      <td>0.47</td>\n",
       "      <td>-0.21</td>\n",
       "      <td>0.25</td>\n",
       "      <td>0.96</td>\n",
       "      <td>12.9</td>\n",
       "      <td>9.1</td>\n",
       "      <td>5.0</td>\n",
       "    </tr>\n",
       "    <tr>\n",
       "      <th>73</th>\n",
       "      <td>GGRC11</td>\n",
       "      <td>Logística</td>\n",
       "      <td>120.27</td>\n",
       "      <td>20399.0</td>\n",
       "      <td>0.64</td>\n",
       "      <td>0.52</td>\n",
       "      <td>1.49</td>\n",
       "      <td>3.23</td>\n",
       "      <td>6.21</td>\n",
       "      <td>0.50</td>\n",
       "      <td>0.54</td>\n",
       "      <td>0.52</td>\n",
       "      <td>2.18</td>\n",
       "      <td>-2.47</td>\n",
       "      <td>-1.96</td>\n",
       "      <td>-11.61</td>\n",
       "      <td>9.659822e+08</td>\n",
       "      <td>124.51</td>\n",
       "      <td>0.97</td>\n",
       "      <td>NaN</td>\n",
       "      <td>NaN</td>\n",
       "      <td>NaN</td>\n",
       "      <td>NaN</td>\n",
       "      <td>0.0</td>\n",
       "      <td>0.0</td>\n",
       "      <td>15.0</td>\n",
       "    </tr>\n",
       "    <tr>\n",
       "      <th>122</th>\n",
       "      <td>LVBI11</td>\n",
       "      <td>Logística</td>\n",
       "      <td>109.04</td>\n",
       "      <td>15049.0</td>\n",
       "      <td>0.56</td>\n",
       "      <td>0.50</td>\n",
       "      <td>1.36</td>\n",
       "      <td>2.50</td>\n",
       "      <td>5.37</td>\n",
       "      <td>0.45</td>\n",
       "      <td>0.42</td>\n",
       "      <td>0.45</td>\n",
       "      <td>1.36</td>\n",
       "      <td>-1.89</td>\n",
       "      <td>-1.40</td>\n",
       "      <td>-3.93</td>\n",
       "      <td>1.298857e+09</td>\n",
       "      <td>110.30</td>\n",
       "      <td>0.99</td>\n",
       "      <td>NaN</td>\n",
       "      <td>NaN</td>\n",
       "      <td>NaN</td>\n",
       "      <td>NaN</td>\n",
       "      <td>3.3</td>\n",
       "      <td>NaN</td>\n",
       "      <td>8.0</td>\n",
       "    </tr>\n",
       "    <tr>\n",
       "      <th>26</th>\n",
       "      <td>BRCO11</td>\n",
       "      <td>Logística</td>\n",
       "      <td>108.91</td>\n",
       "      <td>17376.0</td>\n",
       "      <td>0.54</td>\n",
       "      <td>0.49</td>\n",
       "      <td>1.45</td>\n",
       "      <td>2.87</td>\n",
       "      <td>5.54</td>\n",
       "      <td>0.48</td>\n",
       "      <td>0.48</td>\n",
       "      <td>0.46</td>\n",
       "      <td>1.94</td>\n",
       "      <td>-0.64</td>\n",
       "      <td>-0.15</td>\n",
       "      <td>-0.83</td>\n",
       "      <td>1.602723e+09</td>\n",
       "      <td>108.45</td>\n",
       "      <td>1.00</td>\n",
       "      <td>NaN</td>\n",
       "      <td>NaN</td>\n",
       "      <td>NaN</td>\n",
       "      <td>NaN</td>\n",
       "      <td>5.9</td>\n",
       "      <td>NaN</td>\n",
       "      <td>10.0</td>\n",
       "    </tr>\n",
       "    <tr>\n",
       "      <th>211</th>\n",
       "      <td>VINO11</td>\n",
       "      <td>Lajes Corporativas</td>\n",
       "      <td>60.19</td>\n",
       "      <td>36531.0</td>\n",
       "      <td>0.45</td>\n",
       "      <td>0.74</td>\n",
       "      <td>2.19</td>\n",
       "      <td>4.14</td>\n",
       "      <td>7.92</td>\n",
       "      <td>0.73</td>\n",
       "      <td>0.69</td>\n",
       "      <td>0.66</td>\n",
       "      <td>2.90</td>\n",
       "      <td>-1.42</td>\n",
       "      <td>-0.70</td>\n",
       "      <td>-1.72</td>\n",
       "      <td>7.646664e+08</td>\n",
       "      <td>60.33</td>\n",
       "      <td>1.00</td>\n",
       "      <td>0.75</td>\n",
       "      <td>-0.32</td>\n",
       "      <td>0.43</td>\n",
       "      <td>1.58</td>\n",
       "      <td>3.7</td>\n",
       "      <td>NaN</td>\n",
       "      <td>9.0</td>\n",
       "    </tr>\n",
       "    <tr>\n",
       "      <th>89</th>\n",
       "      <td>HGRU11</td>\n",
       "      <td>Híbrido</td>\n",
       "      <td>119.89</td>\n",
       "      <td>56663.0</td>\n",
       "      <td>0.68</td>\n",
       "      <td>0.56</td>\n",
       "      <td>1.64</td>\n",
       "      <td>3.25</td>\n",
       "      <td>6.49</td>\n",
       "      <td>0.55</td>\n",
       "      <td>0.54</td>\n",
       "      <td>0.54</td>\n",
       "      <td>2.16</td>\n",
       "      <td>-1.24</td>\n",
       "      <td>-0.69</td>\n",
       "      <td>-2.84</td>\n",
       "      <td>2.170970e+09</td>\n",
       "      <td>117.95</td>\n",
       "      <td>1.02</td>\n",
       "      <td>NaN</td>\n",
       "      <td>NaN</td>\n",
       "      <td>NaN</td>\n",
       "      <td>NaN</td>\n",
       "      <td>0.0</td>\n",
       "      <td>0.0</td>\n",
       "      <td>16.0</td>\n",
       "    </tr>\n",
       "    <tr>\n",
       "      <th>171</th>\n",
       "      <td>RBRP11</td>\n",
       "      <td>Outros</td>\n",
       "      <td>90.00</td>\n",
       "      <td>57022.0</td>\n",
       "      <td>0.30</td>\n",
       "      <td>0.33</td>\n",
       "      <td>1.45</td>\n",
       "      <td>3.15</td>\n",
       "      <td>6.62</td>\n",
       "      <td>0.48</td>\n",
       "      <td>0.53</td>\n",
       "      <td>0.55</td>\n",
       "      <td>1.98</td>\n",
       "      <td>-0.98</td>\n",
       "      <td>-0.65</td>\n",
       "      <td>-5.48</td>\n",
       "      <td>1.062752e+09</td>\n",
       "      <td>87.26</td>\n",
       "      <td>1.03</td>\n",
       "      <td>NaN</td>\n",
       "      <td>NaN</td>\n",
       "      <td>NaN</td>\n",
       "      <td>NaN</td>\n",
       "      <td>10.0</td>\n",
       "      <td>14.0</td>\n",
       "      <td>15.0</td>\n",
       "    </tr>\n",
       "    <tr>\n",
       "      <th>203</th>\n",
       "      <td>TRXF11</td>\n",
       "      <td>Outros</td>\n",
       "      <td>108.55</td>\n",
       "      <td>33946.0</td>\n",
       "      <td>0.70</td>\n",
       "      <td>0.65</td>\n",
       "      <td>1.93</td>\n",
       "      <td>3.96</td>\n",
       "      <td>7.43</td>\n",
       "      <td>0.64</td>\n",
       "      <td>0.66</td>\n",
       "      <td>0.62</td>\n",
       "      <td>2.58</td>\n",
       "      <td>0.00</td>\n",
       "      <td>0.65</td>\n",
       "      <td>3.48</td>\n",
       "      <td>5.946410e+08</td>\n",
       "      <td>105.40</td>\n",
       "      <td>1.03</td>\n",
       "      <td>NaN</td>\n",
       "      <td>NaN</td>\n",
       "      <td>NaN</td>\n",
       "      <td>NaN</td>\n",
       "      <td>0.0</td>\n",
       "      <td>NaN</td>\n",
       "      <td>44.0</td>\n",
       "    </tr>\n",
       "    <tr>\n",
       "      <th>227</th>\n",
       "      <td>XPLG11</td>\n",
       "      <td>Logística</td>\n",
       "      <td>115.00</td>\n",
       "      <td>35330.0</td>\n",
       "      <td>0.60</td>\n",
       "      <td>0.52</td>\n",
       "      <td>1.51</td>\n",
       "      <td>2.92</td>\n",
       "      <td>5.63</td>\n",
       "      <td>0.50</td>\n",
       "      <td>0.49</td>\n",
       "      <td>0.47</td>\n",
       "      <td>1.98</td>\n",
       "      <td>-0.15</td>\n",
       "      <td>0.36</td>\n",
       "      <td>-2.46</td>\n",
       "      <td>3.001646e+09</td>\n",
       "      <td>110.76</td>\n",
       "      <td>1.04</td>\n",
       "      <td>NaN</td>\n",
       "      <td>NaN</td>\n",
       "      <td>NaN</td>\n",
       "      <td>NaN</td>\n",
       "      <td>8.2</td>\n",
       "      <td>3.6</td>\n",
       "      <td>13.0</td>\n",
       "    </tr>\n",
       "    <tr>\n",
       "      <th>210</th>\n",
       "      <td>VILG11</td>\n",
       "      <td>Logística</td>\n",
       "      <td>120.54</td>\n",
       "      <td>49541.0</td>\n",
       "      <td>0.50</td>\n",
       "      <td>0.42</td>\n",
       "      <td>1.29</td>\n",
       "      <td>2.74</td>\n",
       "      <td>5.35</td>\n",
       "      <td>0.43</td>\n",
       "      <td>0.46</td>\n",
       "      <td>0.45</td>\n",
       "      <td>1.79</td>\n",
       "      <td>-0.08</td>\n",
       "      <td>0.35</td>\n",
       "      <td>-0.81</td>\n",
       "      <td>1.715441e+09</td>\n",
       "      <td>114.38</td>\n",
       "      <td>1.05</td>\n",
       "      <td>0.39</td>\n",
       "      <td>-0.41</td>\n",
       "      <td>-0.01</td>\n",
       "      <td>2.22</td>\n",
       "      <td>0.4</td>\n",
       "      <td>NaN</td>\n",
       "      <td>14.0</td>\n",
       "    </tr>\n",
       "  </tbody>\n",
       "</table>\n",
       "</div>"
      ],
      "text/plain": [
       "     CODIGO               SETOR  PREÇO ATUAL  LIQUIDEZ DIÁRIA  DIVIDENDO  \\\n",
       "177  RCRB11  Lajes Corporativas       141.20          10434.0       0.80   \n",
       "108  JSRE11             Híbrido        89.33          24066.0       0.53   \n",
       "73   GGRC11           Logística       120.27          20399.0       0.64   \n",
       "122  LVBI11           Logística       109.04          15049.0       0.56   \n",
       "26   BRCO11           Logística       108.91          17376.0       0.54   \n",
       "211  VINO11  Lajes Corporativas        60.19          36531.0       0.45   \n",
       "89   HGRU11             Híbrido       119.89          56663.0       0.68   \n",
       "171  RBRP11              Outros        90.00          57022.0       0.30   \n",
       "203  TRXF11              Outros       108.55          33946.0       0.70   \n",
       "227  XPLG11           Logística       115.00          35330.0       0.60   \n",
       "210  VILG11           Logística       120.54          49541.0       0.50   \n",
       "\n",
       "     DIVIDEND YIELD  DY(3M) ACUMULADO  DY (6M) ACUMULADO  DY (12M) ACUMULADO  \\\n",
       "177            0.51              1.54               3.02                6.32   \n",
       "108            0.56              1.66               3.30                6.33   \n",
       "73             0.52              1.49               3.23                6.21   \n",
       "122            0.50              1.36               2.50                5.37   \n",
       "26             0.49              1.45               2.87                5.54   \n",
       "211            0.74              2.19               4.14                7.92   \n",
       "89             0.56              1.64               3.25                6.49   \n",
       "171            0.33              1.45               3.15                6.62   \n",
       "203            0.65              1.93               3.96                7.43   \n",
       "227            0.52              1.51               2.92                5.63   \n",
       "210            0.42              1.29               2.74                5.35   \n",
       "\n",
       "     DY(3M) MÉDIA  DY(6M) MÉDIA  DY(12M) MÉDIA  DY ANO  VARIAÇÕES DE PREÇO  \\\n",
       "177          0.51          0.50           0.53    2.50                1.23   \n",
       "108          0.55          0.55           0.53    2.19                0.68   \n",
       "73           0.50          0.54           0.52    2.18               -2.47   \n",
       "122          0.45          0.42           0.45    1.36               -1.89   \n",
       "26           0.48          0.48           0.46    1.94               -0.64   \n",
       "211          0.73          0.69           0.66    2.90               -1.42   \n",
       "89           0.55          0.54           0.54    2.16               -1.24   \n",
       "171          0.48          0.53           0.55    1.98               -0.98   \n",
       "203          0.64          0.66           0.62    2.58                0.00   \n",
       "227          0.50          0.49           0.47    1.98               -0.15   \n",
       "210          0.43          0.46           0.45    1.79               -0.08   \n",
       "\n",
       "     RENTA PERIODO  RENTAB ACUMU     PATRI LIQ     VPA  P/VPA  DY PATRIMONIAL  \\\n",
       "177           1.75         -3.19  7.262693e+08  196.78   0.72             NaN   \n",
       "108           1.24         -2.71  2.357857e+09  113.54   0.79            0.47   \n",
       "73           -1.96        -11.61  9.659822e+08  124.51   0.97             NaN   \n",
       "122          -1.40         -3.93  1.298857e+09  110.30   0.99             NaN   \n",
       "26           -0.15         -0.83  1.602723e+09  108.45   1.00             NaN   \n",
       "211          -0.70         -1.72  7.646664e+08   60.33   1.00            0.75   \n",
       "89           -0.69         -2.84  2.170970e+09  117.95   1.02             NaN   \n",
       "171          -0.65         -5.48  1.062752e+09   87.26   1.03             NaN   \n",
       "203           0.65          3.48  5.946410e+08  105.40   1.03             NaN   \n",
       "227           0.36         -2.46  3.001646e+09  110.76   1.04             NaN   \n",
       "210           0.35         -0.81  1.715441e+09  114.38   1.05            0.39   \n",
       "\n",
       "     VARIAÇÃO PATRI  RENTAB PATR PERIODO  RENT PATRI ACUMU  VAC FISICA  \\\n",
       "177             NaN                  NaN               NaN         7.4   \n",
       "108           -0.21                 0.25              0.96        12.9   \n",
       "73              NaN                  NaN               NaN         0.0   \n",
       "122             NaN                  NaN               NaN         3.3   \n",
       "26              NaN                  NaN               NaN         5.9   \n",
       "211           -0.32                 0.43              1.58         3.7   \n",
       "89              NaN                  NaN               NaN         0.0   \n",
       "171             NaN                  NaN               NaN        10.0   \n",
       "203             NaN                  NaN               NaN         0.0   \n",
       "227             NaN                  NaN               NaN         8.2   \n",
       "210           -0.41                -0.01              2.22         0.4   \n",
       "\n",
       "     VAC FINANCEIRA  QUANTIDADE ATIVOS  \n",
       "177             NaN               10.0  \n",
       "108             9.1                5.0  \n",
       "73              0.0               15.0  \n",
       "122             NaN                8.0  \n",
       "26              NaN               10.0  \n",
       "211             NaN                9.0  \n",
       "89              0.0               16.0  \n",
       "171            14.0               15.0  \n",
       "203             NaN               44.0  \n",
       "227             3.6               13.0  \n",
       "210             NaN               14.0  "
      ]
     },
     "execution_count": 127,
     "metadata": {},
     "output_type": "execute_result"
    }
   ],
   "source": [
    "potenciais=df[  (df['DY (12M) ACUMULADO']>5) & (df['LIQUIDEZ DIÁRIA']>10000)   &  (df['P/VPA']<1.1)  & (df['VAC FISICA']<20) & (df['QUANTIDADE ATIVOS']>2) ]\n",
    "potenciais.sort_values('P/VPA')"
   ]
  },
  {
   "cell_type": "code",
   "execution_count": 32,
   "metadata": {},
   "outputs": [
    {
     "data": {
      "text/html": [
       "<div>\n",
       "<style scoped>\n",
       "    .dataframe tbody tr th:only-of-type {\n",
       "        vertical-align: middle;\n",
       "    }\n",
       "\n",
       "    .dataframe tbody tr th {\n",
       "        vertical-align: top;\n",
       "    }\n",
       "\n",
       "    .dataframe thead th {\n",
       "        text-align: right;\n",
       "    }\n",
       "</style>\n",
       "<table border=\"1\" class=\"dataframe\">\n",
       "  <thead>\n",
       "    <tr style=\"text-align: right;\">\n",
       "      <th></th>\n",
       "      <th>P/VPA</th>\n",
       "    </tr>\n",
       "    <tr>\n",
       "      <th>SETOR</th>\n",
       "      <th></th>\n",
       "    </tr>\n",
       "  </thead>\n",
       "  <tbody>\n",
       "    <tr>\n",
       "      <th>Outros</th>\n",
       "      <td>1.759444</td>\n",
       "    </tr>\n",
       "    <tr>\n",
       "      <th>Hospital</th>\n",
       "      <td>1.596667</td>\n",
       "    </tr>\n",
       "    <tr>\n",
       "      <th>Hotel</th>\n",
       "      <td>1.200000</td>\n",
       "    </tr>\n",
       "    <tr>\n",
       "      <th>Shoppings</th>\n",
       "      <td>1.107368</td>\n",
       "    </tr>\n",
       "    <tr>\n",
       "      <th>Logística</th>\n",
       "      <td>1.097143</td>\n",
       "    </tr>\n",
       "    <tr>\n",
       "      <th>Híbrido</th>\n",
       "      <td>1.091429</td>\n",
       "    </tr>\n",
       "    <tr>\n",
       "      <th>Lajes Corporativas</th>\n",
       "      <td>1.090571</td>\n",
       "    </tr>\n",
       "    <tr>\n",
       "      <th>Títulos e Val. Mob.</th>\n",
       "      <td>1.070476</td>\n",
       "    </tr>\n",
       "    <tr>\n",
       "      <th>Residencial</th>\n",
       "      <td>0.966667</td>\n",
       "    </tr>\n",
       "  </tbody>\n",
       "</table>\n",
       "</div>"
      ],
      "text/plain": [
       "                        P/VPA\n",
       "SETOR                        \n",
       "Outros               1.759444\n",
       "Hospital             1.596667\n",
       "Hotel                1.200000\n",
       "Shoppings            1.107368\n",
       "Logística            1.097143\n",
       "Híbrido              1.091429\n",
       "Lajes Corporativas   1.090571\n",
       "Títulos e Val. Mob.  1.070476\n",
       "Residencial          0.966667"
      ]
     },
     "execution_count": 32,
     "metadata": {},
     "output_type": "execute_result"
    }
   ],
   "source": [
    "df.groupby('SETOR' )['P/VPA'].mean().sort_values(ascending=False).to_frame()"
   ]
  },
  {
   "cell_type": "code",
   "execution_count": null,
   "metadata": {},
   "outputs": [],
   "source": []
  }
 ],
 "metadata": {
  "kernelspec": {
   "display_name": "Python 3",
   "language": "python",
   "name": "python3"
  },
  "language_info": {
   "codemirror_mode": {
    "name": "ipython",
    "version": 3
   },
   "file_extension": ".py",
   "mimetype": "text/x-python",
   "name": "python",
   "nbconvert_exporter": "python",
   "pygments_lexer": "ipython3",
   "version": "3.8.5"
  },
  "toc": {
   "base_numbering": 1,
   "nav_menu": {},
   "number_sections": true,
   "sideBar": true,
   "skip_h1_title": false,
   "title_cell": "Table of Contents",
   "title_sidebar": "Contents",
   "toc_cell": false,
   "toc_position": {
    "height": "calc(100% - 180px)",
    "left": "10px",
    "top": "150px",
    "width": "251.75px"
   },
   "toc_section_display": true,
   "toc_window_display": true
  },
  "varInspector": {
   "cols": {
    "lenName": 16,
    "lenType": 16,
    "lenVar": 40
   },
   "kernels_config": {
    "python": {
     "delete_cmd_postfix": "",
     "delete_cmd_prefix": "del ",
     "library": "var_list.py",
     "varRefreshCmd": "print(var_dic_list())"
    },
    "r": {
     "delete_cmd_postfix": ") ",
     "delete_cmd_prefix": "rm(",
     "library": "var_list.r",
     "varRefreshCmd": "cat(var_dic_list()) "
    }
   },
   "types_to_exclude": [
    "module",
    "function",
    "builtin_function_or_method",
    "instance",
    "_Feature"
   ],
   "window_display": false
  }
 },
 "nbformat": 4,
 "nbformat_minor": 2
}
