{
 "cells": [
  {
   "cell_type": "markdown",
   "metadata": {},
   "source": [
    "# MBA em Ciência de Dados\n",
    "## Técnicas Avançadas de Captura e Tratamento de Dados\n",
    "\n",
    "\n",
    "### <span style=\"color:darkred\">Módulo III - Aquisição e Transformação de Dados</span>\n",
    "\n",
    "\n",
    "## <span style=\"color:darkred\">Avaliação</span>\n",
    "\n",
    "Moacir Antonelli Ponti\n",
    "\n",
    "CeMEAI - ICMC/USP São Carlos\n",
    "\n",
    "---\n",
    "#### <font color='red'> As respostas devem ser fornecidas no Moodle. O notebook é apenas para a implementação dos códigos que fornecerão as respostas</font>\n",
    "\n",
    "---"
   ]
  },
  {
   "cell_type": "markdown",
   "metadata": {},
   "source": [
    "Antes de iniciar, acesse o portal : https://dados.educacao.sp.gov.br/dataset/fluxo-escolar-por-escola\n",
    "\n",
    "Procure pelo arquivo CSV relativo a \"Fluxo Escolar 2019 - por escola\", arquivo `FLUXO_ESCOLAR_ESCOLA.csv`<br>\n",
    "OBS: esse arquivo estará também no ZIP contendo os dados para esse módulo, caso haja problemas de acesso.\n",
    "\n",
    "O fluxo escolar é medido pela taxa média de aprovação em cada etapa da escolarização, sendo elas as séries iniciais e séries finais do Ensino Fundamental e Ensino Médio, coletadas pelo Censo Escolar.\n",
    "\n",
    "Para saber mais sobre o funcionamento do Fluxo Escolar, visite a página https://dados.educacao.sp.gov.br/story/fluxo\n",
    "\n",
    "Carregue os dados. As colunas possuem significado de acordo com o \"dicionário de dados\" disponível ao visualizar o arquivo no referido site. As colunas são rotuladas da seguinte forma:\n",
    "- Ano: para o qual foi realizado o cálculo do fluxo\n",
    "- CD_DIRETORIA: Código da diretoria de ensino\n",
    "- NM_DIRETORIA: Nome da diretoria de ensino\n",
    "- NM_MUNICIPIO: Nome do Município\n",
    "- CD_REDE_ENSINO: Código da Rede de Ensino (1:Estadual)\n",
    "- CD_ESCOLA: Código da Escola\n",
    "- NM_COMPLETO_ESCOLA: Nome Completo da Escola\n",
    "- CD_TP_IDENTIFICADOR: Código do Tipo de Escola\n",
    "- APR_1: Porcentagem de Alunos Aprovados no Ensino Fundamental - Anos Iniciais no ensino fundamental de 9 anos\n",
    "- REP_1: Porcentagem de Alunos Reprovados no Ensino Fundamental - Anos Iniciais no ensino fundamental de 9 anos\n",
    "- ABA_1: Porcentagem de Alunos com Abandono no Ensino Fundamental - Anos Iniciais no ensino fundamental de 9 anos\n",
    "- REP_2: Porcentagem de Alunos Reprovados no Ensino Fundamental - Anos Finais no ensino fundamental de 9 anos\n",
    "- ABA_2: Porcentagem de Alunos com Abando no Ensino Fundamental - Anos Finais no ensino fundamental de 9 anos\n",
    "- APR_3: Porcentagem de Alunos Aprovados no Ensino Médio\n",
    "- REP_3: Porcentagem de Alunos Reprovados no Ensino Médio\n",
    "- ABA_3: Porcentagem de Alunos com Abandono no Ensino Médio"
   ]
  },
  {
   "cell_type": "code",
   "execution_count": 44,
   "metadata": {},
   "outputs": [
    {
     "name": "stdout",
     "output_type": "stream",
     "text": [
      "atributos:  16\n",
      "linhas:  5220\n"
     ]
    }
   ],
   "source": [
    "# carregando as bibliotecas necessárias\n",
    "import numpy as np\n",
    "import matplotlib.pyplot as plt\n",
    "import pandas as pd\n",
    "# carregando dados\n",
    "dc = pd.read_csv(\"FLUXO_ESCOLAR_ESCOLA.csv\", sep=',')\n",
    "ncols = dc.shape[1]\n",
    "ncols = dc.shape[1]\n",
    "print(\"atributos: \", ncols)\n",
    "print(\"linhas: \", dc.shape[0])"
   ]
  },
  {
   "cell_type": "markdown",
   "metadata": {},
   "source": [
    "### Questão 1)\n",
    " \n",
    "Considere os seguintes problemas e a natureza dos seus respectivos dados:\n",
    "\n",
    "I - Uma sequência de dados de um sensor de temperatura, com valores em Celsius coletados e armazenados a cada 2 horas. Utilizando o histórico de 1 ano de observações anteriores até o dia atual, se intenciona predizer a temperatura nas próximas 24 horas.<br>\n",
    "II - Uma base de dados contendo informações sobre livros (gênero, número de páginas, autor, ano de lançamento, país de origem, entre outros) e as avaliações desses livros (nota de 1 a 5) obtidos junto a leitores do fã clube de Harry Potter de Minas Gerais, com a qual se intenciona predizer qual seria a nota de um livro sendo considerado para publicação por uma editora, permitindo predizer o potencial desse novo livro para o público brasileiro.<br>\n",
    "III - Numa base de dados de um e-commerce contendo informações sobre clientes e seus padrões de compras, foi feita uma segmentação manual de milhares de clientes em 5 categorias. Deseja-se treinar modelos para aprender a classificar novos clientes em uma dessas categorias.<br>\n",
    "\n",
    "Podemos utilizar métodos que assumam dados do tipo i.i.d. (independente e identicamente distribuídos) e garantir que esses métodos irão obter conclusões válidas em quais dos casos?\n",
    "\n",
    "(a) III<br>\n",
    "(b) I e III<br>\n",
    "(c) I<br>\n",
    "(d) II<br>"
   ]
  },
  {
   "cell_type": "markdown",
   "metadata": {},
   "source": [
    "somente III"
   ]
  },
  {
   "cell_type": "markdown",
   "metadata": {},
   "source": [
    "### Questão 2)\n",
    " \n",
    "Compute a média das variáveis ABA_1, ABA_2 e ABA_3 e adicione essa média como um novo atributo ABA_MED à base de dados. Substitua por nulo (`nan`) os valores onde 'ABA_MED' seja igual a 0. Realize a **discretização** da variável 'ABA_MED' utilizando:\n",
    "1. o método dos quantis, utilizando 7 intervalos alvo\n",
    "2. o método dos intervalos, utilizando 6 intervalos alvo: (0, 1] (1, 5] (5, 10] (10, 25] (25, 50] (50, max(ABA_MED)],\n",
    "em que max(ABA_MED) é o maior valor desse atributo\n",
    "\n",
    "Use o método qcut() para o item 1 e cut() para o item 2\n",
    "\n",
    "Adicione essa novas variáveis na base, com os nomes 'ABA_Q' (quantis) e 'ABA_I' (intervalos)\n",
    "\n",
    "Qual é a quantidade de dados (frequências dos valores discretizados) na base após a discretização, relativos ao primeiro intervalo (com os menores valores) e ao último intervalo (com os maiores valores) para, respectivamente, ABA_Q e ABA_I?\n",
    "\n",
    "(a) ABA_Q: primeiro -0.004, último 423. ABA_I: primeiro 1, último 431<br>\n",
    "(b) ABA_Q: primeiro 423, último 431. ABA_I: primeiro 1612, último 4<br>\n",
    "(c) ABA_Q: primeiro 431, último 3099. ABA_I: primeiro 1612, último 0<br>\n",
    "(d) ABA_Q: primeiro 431, último 423. ABA_I: primeiro 1612, último 1<br>"
   ]
  },
  {
   "cell_type": "code",
   "execution_count": 45,
   "metadata": {},
   "outputs": [],
   "source": [
    "dc['ABA_MED']=dc.apply(lambda x: (x.ABA_1+x.ABA_2+x.ABA_3)/3,axis=1)\n",
    "#dc.loc[dc['ABA_MED']==0,'ABA_MED']=np.nan"
   ]
  },
  {
   "cell_type": "code",
   "execution_count": 48,
   "metadata": {},
   "outputs": [],
   "source": [
    "dc['ABA_MED'].replace(0, np.nan, inplace=True)\n"
   ]
  },
  {
   "cell_type": "code",
   "execution_count": 56,
   "metadata": {},
   "outputs": [],
   "source": [
    "dc['ABA_Q']=pd.qcut(dc['ABA_MED'],7)\n"
   ]
  },
  {
   "cell_type": "code",
   "execution_count": 57,
   "metadata": {},
   "outputs": [
    {
     "data": {
      "text/plain": [
       "(0.617, 1.09]                      431\n",
       "(-0.0043300000000000005, 0.143]    431\n",
       "(1.766, 2.91]                      425\n",
       "(0.314, 0.617]                     424\n",
       "(2.91, 53.717]                     423\n",
       "(0.143, 0.314]                     417\n",
       "(1.09, 1.766]                      415\n",
       "Name: ABA_Q, dtype: int64"
      ]
     },
     "execution_count": 57,
     "metadata": {},
     "output_type": "execute_result"
    }
   ],
   "source": [
    "dc.ABA_Q.value_counts()"
   ]
  },
  {
   "cell_type": "code",
   "execution_count": 66,
   "metadata": {},
   "outputs": [],
   "source": [
    "intervalos=[-10,1,5,10,25,50,max(dc[dc['ABA_MED'].isnull()==False].ABA_MED)]\n",
    "dc['ABA_I'] =  pd.cut(dc['ABA_MED'], bins=intervalos)"
   ]
  },
  {
   "cell_type": "code",
   "execution_count": 68,
   "metadata": {},
   "outputs": [
    {
     "data": {
      "text/plain": [
       "(-10.0, 1.0]      1623\n",
       "(1.0, 5.0]        1226\n",
       "(5.0, 10.0]        113\n",
       "(10.0, 25.0]         3\n",
       "(50.0, 53.717]       1\n",
       "(25.0, 50.0]         0\n",
       "Name: ABA_I, dtype: int64"
      ]
     },
     "execution_count": 68,
     "metadata": {},
     "output_type": "execute_result"
    }
   ],
   "source": [
    "dc['ABA_I'].value_counts()"
   ]
  },
  {
   "cell_type": "markdown",
   "metadata": {},
   "source": [
    "resposta D"
   ]
  },
  {
   "cell_type": "markdown",
   "metadata": {},
   "source": [
    "### Questão 3)\n",
    "\n",
    "\n",
    "Normalize 2 variáveis da base: ABA_MED e APR_3\n",
    "* APR_3 utilizando normalização min-max com mínimo 0 e máximo 1\n",
    "* ABA_MED utilizando normalização robusta\n",
    "\n",
    "Para isso, codifique funções que recebam uma coluna por parâmetro e retornem um atributo já normalizado\n",
    "\n",
    "Depois, aplique as funções e crie novas variáveis com os atributos normalizados: APR_3_01 e ABA_MED_nr.\n",
    "\n",
    "Após a normalização, quais os valores de média, desvio padrão, mínimo e máximo dessas novas variáveis, arredondando para 1 casa decimal?\n",
    "\n",
    "(a) APR_3_01: 0.0, 1.0, 0.0, 1.0; ABA_MED_nr: 0.3, 1.1, -0.5, 30.8<br>\n",
    "(b) APR_3_01: 0.7, 0.4, 0.0, 1.0; ABA_MED_nr: 0.3, 0.7, -1.0, 53.8<br>\n",
    "(c) APR_3_01: 0.0, 1.0, 0.0, 1.0; ABA_MED_nr: 0.3, 0.7, -1.0, 53.8<br>\n",
    "(d) APR_3_01: 0.7, 0.4, 0.0, 1.0; ABA_MED_nr: 0.3, 1.1, -0.5, 30.8<br>"
   ]
  },
  {
   "cell_type": "code",
   "execution_count": 75,
   "metadata": {},
   "outputs": [],
   "source": [
    "mini=dc['APR_3'].min()\n",
    "maxi=dc['APR_3'].max()\n",
    "dc['APR_3_01']=(dc['APR_3']-mini)/(maxi-mini)"
   ]
  },
  {
   "cell_type": "code",
   "execution_count": 89,
   "metadata": {},
   "outputs": [],
   "source": [
    "Q1 = dc['ABA_MED'].quantile(0.25)\n",
    "Q3 = dc['ABA_MED'].quantile(0.75)\n",
    "median=dc['ABA_MED'].median()\n",
    "dc['ABA_MED_nr']=(dc['ABA_MED']-median)/(Q3-Q1)\n"
   ]
  },
  {
   "cell_type": "code",
   "execution_count": 90,
   "metadata": {},
   "outputs": [
    {
     "data": {
      "text/plain": [
       "count    5220.000000\n",
       "mean        0.663547\n",
       "std         0.414002\n",
       "min         0.000000\n",
       "25%         0.000000\n",
       "50%         0.894200\n",
       "75%         0.962100\n",
       "max         1.000000\n",
       "Name: APR_3_01, dtype: float64"
      ]
     },
     "execution_count": 90,
     "metadata": {},
     "output_type": "execute_result"
    }
   ],
   "source": [
    "dc['APR_3_01'].describe()"
   ]
  },
  {
   "cell_type": "code",
   "execution_count": 91,
   "metadata": {},
   "outputs": [
    {
     "data": {
      "text/plain": [
       "count    2966.000000\n",
       "mean        0.345090\n",
       "std         1.068802\n",
       "min        -0.479845\n",
       "25%        -0.324429\n",
       "50%         0.000000\n",
       "75%         0.675571\n",
       "max        30.828558\n",
       "Name: ABA_MED_nr, dtype: float64"
      ]
     },
     "execution_count": 91,
     "metadata": {},
     "output_type": "execute_result"
    }
   ],
   "source": [
    "dc['ABA_MED_nr'].describe()"
   ]
  },
  {
   "cell_type": "markdown",
   "metadata": {},
   "source": [
    "resposta d"
   ]
  },
  {
   "cell_type": "markdown",
   "metadata": {},
   "source": [
    "### Questão 4)\n",
    " \n",
    " Transforme os atributos 'ABA_2' e 'ABA_MED' por meio da função da raiz quadrada. Para isso:\n",
    "1. Faça uma cópia da base de dados, e nessa cópia remova todas as linhas cujos atributos possuem valor 0 ou Nulos (`NaN`) em 'ABA_2' ou 'ABA_MED'\n",
    "2. Considerando os atributos 'ABA_2' e 'ABA_MED' transforme-os esses utilizando a operação da raiz quadrada no seguinte formato. Seja $x$ o atributo original, obtemos a sua versão transformada:\n",
    "$$x' = \\sqrt{x+1}$$\n",
    "e os adicione à base de dados com novos nomes, ex. 'sqrtABA_2' e  'sqrtABA_MED',\n",
    "3. Calcule a correlação entre os atributos após a transformação do passo 2 (utilize o método `.corr()`)\n",
    "\n",
    "Qual o valor obtido da correlação entre essas novas variáveis ('sqrtABA_2' e 'sqrtABA_MED') ao arredondar para 2 casas decimais?\n",
    "\n",
    "(a) 0.85<br>\n",
    "(b) 0.81<br>\n",
    "(c) 0.77<br>\n",
    "(d) 1.0<br>"
   ]
  },
  {
   "cell_type": "code",
   "execution_count": 117,
   "metadata": {},
   "outputs": [],
   "source": [
    "dc2=dc[(dc['ABA_2']!=0.0) & (dc['ABA_MED'].isnull()==False)].copy()"
   ]
  },
  {
   "cell_type": "code",
   "execution_count": 124,
   "metadata": {},
   "outputs": [],
   "source": [
    "dc2['sqrtABA_2']=np.sqrt(dc2['ABA_2']+1)\n",
    "dc2['sqrtABA_MED']=np.sqrt(dc2['ABA_MED']+1)"
   ]
  },
  {
   "cell_type": "code",
   "execution_count": 125,
   "metadata": {},
   "outputs": [
    {
     "data": {
      "text/html": [
       "<div>\n",
       "<style scoped>\n",
       "    .dataframe tbody tr th:only-of-type {\n",
       "        vertical-align: middle;\n",
       "    }\n",
       "\n",
       "    .dataframe tbody tr th {\n",
       "        vertical-align: top;\n",
       "    }\n",
       "\n",
       "    .dataframe thead th {\n",
       "        text-align: right;\n",
       "    }\n",
       "</style>\n",
       "<table border=\"1\" class=\"dataframe\">\n",
       "  <thead>\n",
       "    <tr style=\"text-align: right;\">\n",
       "      <th></th>\n",
       "      <th>sqrtABA_2</th>\n",
       "      <th>sqrtABA_MED</th>\n",
       "    </tr>\n",
       "  </thead>\n",
       "  <tbody>\n",
       "    <tr>\n",
       "      <th>sqrtABA_2</th>\n",
       "      <td>1.000000</td>\n",
       "      <td>0.805598</td>\n",
       "    </tr>\n",
       "    <tr>\n",
       "      <th>sqrtABA_MED</th>\n",
       "      <td>0.805598</td>\n",
       "      <td>1.000000</td>\n",
       "    </tr>\n",
       "  </tbody>\n",
       "</table>\n",
       "</div>"
      ],
      "text/plain": [
       "             sqrtABA_2  sqrtABA_MED\n",
       "sqrtABA_2     1.000000     0.805598\n",
       "sqrtABA_MED   0.805598     1.000000"
      ]
     },
     "execution_count": 125,
     "metadata": {},
     "output_type": "execute_result"
    }
   ],
   "source": [
    "dc2[['sqrtABA_2','sqrtABA_MED']].corr()"
   ]
  },
  {
   "cell_type": "markdown",
   "metadata": {},
   "source": [
    "### Questão 5)\n",
    " \n",
    "Utilize a base de dados antes da modificação feita na Questão 4. Codifique a variável categórica 'ABA_Q' para o tipo categórica ordinal e 'NM_MUNICIPIO:' para categórica nominal:\n",
    "* Para ABA_Q use números inteiros sequenciais, iniciados por 0, para codificar a variável na ordem dos valores dos intervalos e gere um novo atributo ABA_Q_cod. \n",
    "* Para NM_MUNICIPIO use números inteiros sequenciais, iniciados por 0 para codificar a variável em ordem alfabética, e gere um novo atributo NM_MUN_cod. \n",
    "\n",
    "Observação: aqui a intenção é que o atributo codificação tenha relação com a ordem alfabética do município. Se a intenção fosse a de posteriormente aplicar métodos que realizam comparação por distância independente da ordem alfabética, a codificação ideal seria one-hot-encoding/dummy variables.\n",
    "\n",
    "Use a função `value_counts()` para mostrar a frequência dos códigos de ABA_Q_cod e NM_MUN_cod. Responda abaixo quais **valores discretos** (após codificação realizada) possuem a maior frequência (maior contagem):\n",
    "\n",
    "(a) NM_MUN_cod: código 1124;  ABA_Q_cod: códigos 0 e 2<br>\n",
    "(b) NM_MUN_cod: código 563;  ABA_Q_cod: código 0 e 1<br>\n",
    "(c) NM_MUN_cod: código 1124;  ABA_Q_cod: códigos 0 e 1<br>\n",
    "(d) NM_MUN_cod: código 563;  ABA_Q_cod: códigos 0 e 3<br>"
   ]
  },
  {
   "cell_type": "markdown",
   "metadata": {},
   "source": [
    "resposta D"
   ]
  },
  {
   "cell_type": "code",
   "execution_count": 146,
   "metadata": {},
   "outputs": [
    {
     "data": {
      "text/plain": [
       "ABA_Q                            ABA_Q_cod\n",
       "(0.617, 1.09]                    3            431\n",
       "(-0.0043300000000000005, 0.143]  0            431\n",
       "(1.766, 2.91]                    5            425\n",
       "(0.314, 0.617]                   2            424\n",
       "(2.91, 53.717]                   6            423\n",
       "(0.143, 0.314]                   1            417\n",
       "(1.09, 1.766]                    4            415\n",
       "dtype: int64"
      ]
     },
     "execution_count": 146,
     "metadata": {},
     "output_type": "execute_result"
    }
   ],
   "source": [
    "dc[['ABA_Q','ABA_Q_cod']].value_counts()"
   ]
  },
  {
   "cell_type": "code",
   "execution_count": 145,
   "metadata": {},
   "outputs": [
    {
     "data": {
      "text/plain": [
       "NM_MUNICIPIO  NM_MUN_cod\n",
       "SAO PAULO     563           1116\n",
       "GUARULHOS     214            170\n",
       "CAMPINAS      108            165\n",
       "SANTO ANDRE   535             89\n",
       "SOROCABA      582             82\n",
       "                            ... \n",
       "RUBIACEA      500              1\n",
       "ROSEIRA       499              1\n",
       "RIOLANDIA     496              1\n",
       "RINCAO        491              1\n",
       "ZACARIAS      643              1\n",
       "Length: 644, dtype: int64"
      ]
     },
     "execution_count": 145,
     "metadata": {},
     "output_type": "execute_result"
    }
   ],
   "source": [
    "dc[['NM_MUNICIPIO','NM_MUN_cod']].value_counts()"
   ]
  },
  {
   "cell_type": "code",
   "execution_count": 138,
   "metadata": {
    "scrolled": false
   },
   "outputs": [],
   "source": [
    "dc['ABA_Q_cod'] = dc['ABA_Q'].astype(\"category\").cat.codes\n",
    "dc['NM_MUN_cod'] = dc['NM_MUNICIPIO'].astype(\"category\").cat.codes"
   ]
  },
  {
   "cell_type": "code",
   "execution_count": null,
   "metadata": {},
   "outputs": [],
   "source": []
  }
 ],
 "metadata": {
  "kernelspec": {
   "display_name": "Python 3",
   "language": "python",
   "name": "python3"
  },
  "language_info": {
   "codemirror_mode": {
    "name": "ipython",
    "version": 3
   },
   "file_extension": ".py",
   "mimetype": "text/x-python",
   "name": "python",
   "nbconvert_exporter": "python",
   "pygments_lexer": "ipython3",
   "version": "3.8.5"
  }
 },
 "nbformat": 4,
 "nbformat_minor": 4
}
