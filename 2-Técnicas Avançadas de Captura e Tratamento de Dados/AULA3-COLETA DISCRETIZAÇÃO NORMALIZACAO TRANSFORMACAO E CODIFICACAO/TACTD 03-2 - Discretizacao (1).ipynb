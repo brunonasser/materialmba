{
 "cells": [
  {
   "cell_type": "markdown",
   "metadata": {},
   "source": [
    "# MBA em Ciência de Dados\n",
    "## Técnicas Avançadas de Captura e Tratamento de Dados\n",
    "\n",
    "\n",
    "### <span style=\"color:darkred\">Módulo III - Aquisição e Transformação de Dados</span>\n",
    "\n",
    "\n",
    "## <span style=\"color:darkred\">Discretização</span>\n",
    "\n",
    "Material Produzido por Moacir Antonelli Ponti<br>\n",
    "*colaboração de Eugenio Ferreira Cabral*\n",
    "\n",
    "CeMEAI - ICMC/USP São Carlos\n",
    "\n",
    "---"
   ]
  },
  {
   "cell_type": "markdown",
   "metadata": {},
   "source": [
    "__Conteúdo:__\n",
    "1. Intervalo ou histograma: *binning*\n",
    "2. Agrupamento\n",
    "\n",
    "\n",
    "\n",
    "__Referência complementar__\n",
    "\n",
    "DIEZ, David M.; BARR, Christopher D.; CETINKAYA-RUNDEL, Mine. **OpenIntro statistics**. 3.ed. OpenIntro, 2015. Capítulo 1.\n",
    "\n",
    "***"
   ]
  },
  {
   "cell_type": "markdown",
   "metadata": {},
   "source": [
    "## Discretização\n",
    "\n",
    "Valores contínuos podem representar um desafio na análise de dados\n",
    "\n",
    "* alguns métodos não permitem o uso de valores contínuos, seja como atributo de entrada ou saída.\n",
    "\n",
    "* assumir valor contínuo pode ser inviável a depender da quantidade de dados disponíveis e sua cobertura no espaço contínuo\n",
    "\n",
    "\n",
    "**Discretizar** é criar um novo atributo discreto (com valores finitos e bem definidos) a partir de um atributo contínuo.\n",
    "\n",
    "* podemos também re-aplicar discretização em dados já discretos, reduzindo a quantidade de valores possíveis\n",
    "\n",
    "---\n",
    "   \n",
    "Vamos usar uma base com dados do PIB e população (dados reais) e outros indicadores (simulados a partir de dados reais) formulada para exemplificar esse conceito, contendo os seguintes atributos:\n",
    "\n",
    "- gid - identificador geográfico do município\n",
    "- UF - unidade federativa\n",
    "- nome - nome do município\n",
    "- Censo - ano do censo relativo aos dados\n",
    "- PIB - total do PIB\n",
    "- pop - populacao em 2009\n",
    "- classe - classe do município (de 1 a 5)\n",
    "- desemprego - índice de desemprego na cidade no ano do Censo\n",
    "- pop_sanea - porcentagem da população servida por saneamento básico \n",
    "- expec_vida - expectativa de vida ao nascer no ano de 2017\n",
    "- pobreza - porcentagem de pessoas em extrema pobreza\n",
    "- IDH - índice em 2010\n",
    "- urbaniz - escala de urbanização do município: rural, baixo, médio, alto, muito alto\n",
    "- dens_pop_urbana - índice de densidade populacional urbana: baixa, média, alta, muito alta\n",
    "    \n",
    "    \n",
    "OBS: desemprego, IDH, pobreza e pop_sanea por município foram simulados com base nos dados reais dos estados\n",
    "\n",
    "    "
   ]
  },
  {
   "cell_type": "code",
   "execution_count": 2,
   "metadata": {},
   "outputs": [
    {
     "data": {
      "text/html": [
       "<div>\n",
       "<style scoped>\n",
       "    .dataframe tbody tr th:only-of-type {\n",
       "        vertical-align: middle;\n",
       "    }\n",
       "\n",
       "    .dataframe tbody tr th {\n",
       "        vertical-align: top;\n",
       "    }\n",
       "\n",
       "    .dataframe thead th {\n",
       "        text-align: right;\n",
       "    }\n",
       "</style>\n",
       "<table border=\"1\" class=\"dataframe\">\n",
       "  <thead>\n",
       "    <tr style=\"text-align: right;\">\n",
       "      <th></th>\n",
       "      <th>gid</th>\n",
       "      <th>UF</th>\n",
       "      <th>nome</th>\n",
       "      <th>Censo</th>\n",
       "      <th>PIB</th>\n",
       "      <th>pop</th>\n",
       "      <th>classe</th>\n",
       "      <th>desemprego</th>\n",
       "      <th>pop_sanea</th>\n",
       "      <th>expec_vida</th>\n",
       "      <th>pobreza</th>\n",
       "      <th>IDH</th>\n",
       "      <th>urbaniz</th>\n",
       "      <th>dens_pop_urbana</th>\n",
       "    </tr>\n",
       "  </thead>\n",
       "  <tbody>\n",
       "    <tr>\n",
       "      <th>0</th>\n",
       "      <td>752</td>\n",
       "      <td>ACRE</td>\n",
       "      <td>Acrelândia</td>\n",
       "      <td>2010.0</td>\n",
       "      <td>151120.015625</td>\n",
       "      <td>12241</td>\n",
       "      <td>2</td>\n",
       "      <td>5.2</td>\n",
       "      <td>33.532382</td>\n",
       "      <td>73.6</td>\n",
       "      <td>19.2</td>\n",
       "      <td>660</td>\n",
       "      <td>rural</td>\n",
       "      <td>muito baixa</td>\n",
       "    </tr>\n",
       "    <tr>\n",
       "      <th>1</th>\n",
       "      <td>747</td>\n",
       "      <td>ACRE</td>\n",
       "      <td>Assis Brasil</td>\n",
       "      <td>2010.0</td>\n",
       "      <td>48347.300781</td>\n",
       "      <td>5662</td>\n",
       "      <td>1</td>\n",
       "      <td>5.0</td>\n",
       "      <td>32.252163</td>\n",
       "      <td>74.2</td>\n",
       "      <td>18.9</td>\n",
       "      <td>664</td>\n",
       "      <td>rural</td>\n",
       "      <td>muito baixa</td>\n",
       "    </tr>\n",
       "    <tr>\n",
       "      <th>2</th>\n",
       "      <td>748</td>\n",
       "      <td>ACRE</td>\n",
       "      <td>Brasiléia</td>\n",
       "      <td>2010.0</td>\n",
       "      <td>194979.828125</td>\n",
       "      <td>20238</td>\n",
       "      <td>1</td>\n",
       "      <td>3.0</td>\n",
       "      <td>31.663354</td>\n",
       "      <td>75.3</td>\n",
       "      <td>19.5</td>\n",
       "      <td>667</td>\n",
       "      <td>baixo</td>\n",
       "      <td>média</td>\n",
       "    </tr>\n",
       "    <tr>\n",
       "      <th>3</th>\n",
       "      <td>754</td>\n",
       "      <td>ACRE</td>\n",
       "      <td>Bujari</td>\n",
       "      <td>2010.0</td>\n",
       "      <td>88708.031250</td>\n",
       "      <td>6772</td>\n",
       "      <td>2</td>\n",
       "      <td>4.8</td>\n",
       "      <td>33.501357</td>\n",
       "      <td>73.4</td>\n",
       "      <td>19.1</td>\n",
       "      <td>659</td>\n",
       "      <td>rural</td>\n",
       "      <td>muito baixa</td>\n",
       "    </tr>\n",
       "    <tr>\n",
       "      <th>4</th>\n",
       "      <td>751</td>\n",
       "      <td>ACRE</td>\n",
       "      <td>Capixaba</td>\n",
       "      <td>2010.0</td>\n",
       "      <td>89052.679688</td>\n",
       "      <td>9287</td>\n",
       "      <td>1</td>\n",
       "      <td>4.4</td>\n",
       "      <td>33.431383</td>\n",
       "      <td>75.4</td>\n",
       "      <td>18.1</td>\n",
       "      <td>661</td>\n",
       "      <td>rural</td>\n",
       "      <td>muito baixa</td>\n",
       "    </tr>\n",
       "    <tr>\n",
       "      <th>...</th>\n",
       "      <td>...</td>\n",
       "      <td>...</td>\n",
       "      <td>...</td>\n",
       "      <td>...</td>\n",
       "      <td>...</td>\n",
       "      <td>...</td>\n",
       "      <td>...</td>\n",
       "      <td>...</td>\n",
       "      <td>...</td>\n",
       "      <td>...</td>\n",
       "      <td>...</td>\n",
       "      <td>...</td>\n",
       "      <td>...</td>\n",
       "      <td>...</td>\n",
       "    </tr>\n",
       "    <tr>\n",
       "      <th>5560</th>\n",
       "      <td>1011</td>\n",
       "      <td>TOCANTINS</td>\n",
       "      <td>Tocantinópolis</td>\n",
       "      <td>2010.0</td>\n",
       "      <td>124657.000000</td>\n",
       "      <td>21826</td>\n",
       "      <td>1</td>\n",
       "      <td>6.5</td>\n",
       "      <td>28.405306</td>\n",
       "      <td>75.0</td>\n",
       "      <td>12.6</td>\n",
       "      <td>705</td>\n",
       "      <td>rural</td>\n",
       "      <td>muito baixa</td>\n",
       "    </tr>\n",
       "    <tr>\n",
       "      <th>5561</th>\n",
       "      <td>5545</td>\n",
       "      <td>TOCANTINS</td>\n",
       "      <td>Tupirama</td>\n",
       "      <td>2010.0</td>\n",
       "      <td>34883.894531</td>\n",
       "      <td>1474</td>\n",
       "      <td>3</td>\n",
       "      <td>4.6</td>\n",
       "      <td>29.447854</td>\n",
       "      <td>74.8</td>\n",
       "      <td>12.9</td>\n",
       "      <td>694</td>\n",
       "      <td>rural</td>\n",
       "      <td>muito baixa</td>\n",
       "    </tr>\n",
       "    <tr>\n",
       "      <th>5562</th>\n",
       "      <td>5546</td>\n",
       "      <td>TOCANTINS</td>\n",
       "      <td>Tupiratins</td>\n",
       "      <td>2010.0</td>\n",
       "      <td>30757.437500</td>\n",
       "      <td>2143</td>\n",
       "      <td>2</td>\n",
       "      <td>7.0</td>\n",
       "      <td>27.172728</td>\n",
       "      <td>74.2</td>\n",
       "      <td>12.6</td>\n",
       "      <td>696</td>\n",
       "      <td>rural</td>\n",
       "      <td>muito baixa</td>\n",
       "    </tr>\n",
       "    <tr>\n",
       "      <th>5563</th>\n",
       "      <td>5141</td>\n",
       "      <td>TOCANTINS</td>\n",
       "      <td>Wanderlândia</td>\n",
       "      <td>2010.0</td>\n",
       "      <td>66966.773438</td>\n",
       "      <td>9493</td>\n",
       "      <td>1</td>\n",
       "      <td>5.4</td>\n",
       "      <td>27.762133</td>\n",
       "      <td>74.4</td>\n",
       "      <td>12.7</td>\n",
       "      <td>692</td>\n",
       "      <td>rural</td>\n",
       "      <td>muito baixa</td>\n",
       "    </tr>\n",
       "    <tr>\n",
       "      <th>5564</th>\n",
       "      <td>1107</td>\n",
       "      <td>TOCANTINS</td>\n",
       "      <td>Xambioá</td>\n",
       "      <td>2010.0</td>\n",
       "      <td>117627.132812</td>\n",
       "      <td>11099</td>\n",
       "      <td>2</td>\n",
       "      <td>4.9</td>\n",
       "      <td>26.265226</td>\n",
       "      <td>74.3</td>\n",
       "      <td>11.6</td>\n",
       "      <td>695</td>\n",
       "      <td>rural</td>\n",
       "      <td>muito baixa</td>\n",
       "    </tr>\n",
       "  </tbody>\n",
       "</table>\n",
       "<p>5565 rows × 14 columns</p>\n",
       "</div>"
      ],
      "text/plain": [
       "       gid         UF            nome   Censo            PIB    pop  classe  \\\n",
       "0      752       ACRE      Acrelândia  2010.0  151120.015625  12241       2   \n",
       "1      747       ACRE    Assis Brasil  2010.0   48347.300781   5662       1   \n",
       "2      748       ACRE       Brasiléia  2010.0  194979.828125  20238       1   \n",
       "3      754       ACRE          Bujari  2010.0   88708.031250   6772       2   \n",
       "4      751       ACRE        Capixaba  2010.0   89052.679688   9287       1   \n",
       "...    ...        ...             ...     ...            ...    ...     ...   \n",
       "5560  1011  TOCANTINS  Tocantinópolis  2010.0  124657.000000  21826       1   \n",
       "5561  5545  TOCANTINS        Tupirama  2010.0   34883.894531   1474       3   \n",
       "5562  5546  TOCANTINS      Tupiratins  2010.0   30757.437500   2143       2   \n",
       "5563  5141  TOCANTINS    Wanderlândia  2010.0   66966.773438   9493       1   \n",
       "5564  1107  TOCANTINS         Xambioá  2010.0  117627.132812  11099       2   \n",
       "\n",
       "      desemprego  pop_sanea  expec_vida  pobreza  IDH urbaniz dens_pop_urbana  \n",
       "0            5.2  33.532382        73.6     19.2  660   rural     muito baixa  \n",
       "1            5.0  32.252163        74.2     18.9  664   rural     muito baixa  \n",
       "2            3.0  31.663354        75.3     19.5  667   baixo           média  \n",
       "3            4.8  33.501357        73.4     19.1  659   rural     muito baixa  \n",
       "4            4.4  33.431383        75.4     18.1  661   rural     muito baixa  \n",
       "...          ...        ...         ...      ...  ...     ...             ...  \n",
       "5560         6.5  28.405306        75.0     12.6  705   rural     muito baixa  \n",
       "5561         4.6  29.447854        74.8     12.9  694   rural     muito baixa  \n",
       "5562         7.0  27.172728        74.2     12.6  696   rural     muito baixa  \n",
       "5563         5.4  27.762133        74.4     12.7  692   rural     muito baixa  \n",
       "5564         4.9  26.265226        74.3     11.6  695   rural     muito baixa  \n",
       "\n",
       "[5565 rows x 14 columns]"
      ]
     },
     "execution_count": 2,
     "metadata": {},
     "output_type": "execute_result"
    }
   ],
   "source": [
    "# carregando as bibliotecas necessárias\n",
    "import numpy as np\n",
    "import matplotlib.pyplot as plt\n",
    "import pandas as pd\n",
    "\n",
    "# carregando dados\n",
    "data = pd.read_csv(\"municipios_mba.csv\")\n",
    "data"
   ]
  },
  {
   "cell_type": "markdown",
   "metadata": {},
   "source": [
    "## Intervalo ou Histograma\n",
    "\n",
    "Método que usa intervalos (bins) e distribui os elementos para cada intervalo correspondente\n",
    "\n",
    "Vamos analisar o atributo expec_vida e discretizá-lo utilizando intervalos\n"
   ]
  },
  {
   "cell_type": "code",
   "execution_count": 3,
   "metadata": {
    "scrolled": true
   },
   "outputs": [
    {
     "name": "stdout",
     "output_type": "stream",
     "text": [
      "[73.6 74.2 75.3 73.4 75.4 72.6 72.5 74.6 73.3 74.8 74.9 74.1 73.7 75.2\n",
      " 73.1 72.  72.8 71.8 70.6 70.7 73.5 72.7 71.7 70.5 71.4 71.3 71.1 72.4\n",
      " 71.9 73.  70.9 73.2 71.6 72.1 71.  72.2 70.8 71.5 72.9 71.2 73.8 75.\n",
      " 74.3 74.4 74.  72.3 75.1 73.9 74.7 74.5 75.6 75.5 79.3 78.  77.8 77.2\n",
      " 78.6 79.  78.4 77.1 79.4 78.3 77.5 77.9 78.5 77.3 77.  79.8 79.1 77.6\n",
      " 79.6 79.5 77.7 79.7 77.4 78.8 79.2 78.7 80.  78.1 78.2 78.9 75.7 75.8\n",
      " 68.7 68.9 68.8 70.2 69.1 69.  70.3 69.8 70.4 69.5 68.6 69.7 69.6 70.1\n",
      " 69.9 69.4 69.2 70.  69.3 68.5 75.9 76.  76.4 76.6 76.2 76.9 76.1 76.8\n",
      " 76.5 76.7 76.3 80.5 80.1 79.9 80.4 80.9 80.8 80.6 80.3 80.2 80.7]\n"
     ]
    },
    {
     "data": {
      "image/png": "[encoded data removed]",
      "text/plain": [
       "<Figure size 432x288 with 1 Axes>"
      ]
     },
     "metadata": {
      "needs_background": "light"
     },
     "output_type": "display_data"
    }
   ],
   "source": [
    "atts = 'expec_vida'\n",
    "data.boxplot(atts)\n",
    "print(data[atts].unique())"
   ]
  },
  {
   "cell_type": "markdown",
   "metadata": {},
   "source": [
    "Olhando para o histograma, que nos dá a frequência de faixas de valores, é possível observar como os dados estão distribuídos e optar por re-definir os dados com base em novos intervalos."
   ]
  },
  {
   "cell_type": "code",
   "execution_count": 3,
   "metadata": {
    "scrolled": true
   },
   "outputs": [
    {
     "data": {
      "text/plain": [
       "<AxesSubplot:>"
      ]
     },
     "execution_count": 3,
     "metadata": {},
     "output_type": "execute_result"
    },
    {
     "data": {
      "image/png": "[encoded data removed]",
      "text/plain": [
       "<Figure size 432x288 with 1 Axes>"
      ]
     },
     "metadata": {
      "needs_background": "light"
     },
     "output_type": "display_data"
    }
   ],
   "source": [
    "data[atts].hist()"
   ]
  },
  {
   "cell_type": "markdown",
   "metadata": {},
   "source": [
    "#### Utilizando intervalos fixos e frequência variável"
   ]
  },
  {
   "cell_type": "code",
   "execution_count": 4,
   "metadata": {},
   "outputs": [
    {
     "name": "stdout",
     "output_type": "stream",
     "text": [
      "[68 71 74 77 80]\n"
     ]
    }
   ],
   "source": [
    "# copiar original\n",
    "data_orig = data.copy()\n",
    "\n",
    "# definir intervalos\n",
    "interv_idade = np.arange(68,82,3)\n",
    "\n",
    "# [a, b, c, d] -> de \"a\" até < \"b\", de \"b\" até < \"c\"...\n",
    "print(interv_idade)"
   ]
  },
  {
   "cell_type": "code",
   "execution_count": 5,
   "metadata": {},
   "outputs": [
    {
     "name": "stdout",
     "output_type": "stream",
     "text": [
      "category\n"
     ]
    }
   ],
   "source": [
    "# realizar discretizacao e armazenar\n",
    "expec_vida_disc =  pd.cut(data['expec_vida'], bins=interv_idade)\n",
    "# inserir nova coluna\n",
    "data.insert(10, 'expec_vida_disc', expec_vida_disc)\n",
    "\n",
    "# exibir o tipo da coluna\n",
    "print(data['expec_vida_disc'].dtype.name)"
   ]
  },
  {
   "cell_type": "code",
   "execution_count": 7,
   "metadata": {},
   "outputs": [],
   "source": [
    "# tentando exibir histograma da nova variavel\n",
    "#data['expec_vida_disc'].hist()"
   ]
  },
  {
   "cell_type": "code",
   "execution_count": 6,
   "metadata": {},
   "outputs": [
    {
     "data": {
      "text/plain": [
       "(74, 77]    1999\n",
       "(77, 80]    1770\n",
       "(71, 74]    1348\n",
       "(68, 71]     360\n",
       "Name: expec_vida_disc, dtype: int64"
      ]
     },
     "execution_count": 6,
     "metadata": {},
     "output_type": "execute_result"
    }
   ],
   "source": [
    "# para variáveis categoricas podemos usar value_counts\n",
    "data['expec_vida_disc'].value_counts()"
   ]
  },
  {
   "cell_type": "code",
   "execution_count": 7,
   "metadata": {},
   "outputs": [
    {
     "data": {
      "text/plain": [
       "<AxesSubplot:>"
      ]
     },
     "execution_count": 7,
     "metadata": {},
     "output_type": "execute_result"
    },
    {
     "data": {
      "image/png": "[encoded data removed]",
      "text/plain": [
       "<Figure size 432x288 with 1 Axes>"
      ]
     },
     "metadata": {
      "needs_background": "light"
     },
     "output_type": "display_data"
    }
   ],
   "source": [
    "data['expec_vida_disc'].value_counts().plot(kind='bar')"
   ]
  },
  {
   "cell_type": "markdown",
   "metadata": {},
   "source": [
    "Ao invés dos rótulos automáticos, podemos nomear os intervalos:"
   ]
  },
  {
   "cell_type": "code",
   "execution_count": 8,
   "metadata": {
    "scrolled": true
   },
   "outputs": [
    {
     "name": "stdout",
     "output_type": "stream",
     "text": [
      "[68 71 74 77 80]\n",
      "['muito baixo', 'baixo', 'médio', 'alto']\n"
     ]
    }
   ],
   "source": [
    "interv_idade = np.arange(68,82,3)\n",
    "labels = ['muito baixo', 'baixo', 'médio', 'alto']\n",
    "print(interv_idade)\n",
    "print(labels)"
   ]
  },
  {
   "cell_type": "code",
   "execution_count": 10,
   "metadata": {},
   "outputs": [
    {
     "name": "stdout",
     "output_type": "stream",
     "text": [
      "category\n"
     ]
    },
    {
     "data": {
      "text/plain": [
       "médio          1999\n",
       "alto           1770\n",
       "baixo          1348\n",
       "muito baixo     360\n",
       "Name: expec_vida_disc, dtype: int64"
      ]
     },
     "execution_count": 10,
     "metadata": {},
     "output_type": "execute_result"
    }
   ],
   "source": [
    "data = data_orig.copy()\n",
    "\n",
    "# realizar discretizacao e armazenar\n",
    "expec_vida_disc =  pd.cut(data['expec_vida'], bins=interv_idade, labels=labels)\n",
    "# inserir nova coluna\n",
    "data.insert(10, 'expec_vida_disc', expec_vida_disc)\n",
    "\n",
    "# exibir o tipo da coluna\n",
    "print(data['expec_vida_disc'].dtype.name)\n",
    "data['expec_vida_disc'].value_counts()"
   ]
  },
  {
   "cell_type": "code",
   "execution_count": 26,
   "metadata": {},
   "outputs": [
    {
     "data": {
      "text/plain": [
       "<AxesSubplot:>"
      ]
     },
     "execution_count": 26,
     "metadata": {},
     "output_type": "execute_result"
    },
    {
     "data": {
      "image/png": "[encoded data removed]",
      "text/plain": [
       "<Figure size 432x288 with 1 Axes>"
      ]
     },
     "metadata": {
      "needs_background": "light"
     },
     "output_type": "display_data"
    }
   ],
   "source": [
    "data['expec_vida_disc'].value_counts().plot(kind='bar')"
   ]
  },
  {
   "cell_type": "code",
   "execution_count": 19,
   "metadata": {
    "scrolled": true
   },
   "outputs": [
    {
     "data": {
      "text/plain": [
       "UF                   expec_vida_disc\n",
       "ACRE                 médio               12\n",
       "                     baixo               10\n",
       "ALAGOAS              baixo               87\n",
       "                     muito baixo         15\n",
       "AMAPÁ                baixo                9\n",
       "                     médio                7\n",
       "AMAZONAS             baixo               56\n",
       "                     muito baixo          6\n",
       "BAHIA                baixo              246\n",
       "                     médio              171\n",
       "CEARÁ                médio               97\n",
       "                     baixo               87\n",
       "DISTRITO FEDERAL     alto                 1\n",
       "ESPIRITO SANTO       alto                76\n",
       "                     médio                2\n",
       "GOIÁS                médio              150\n",
       "                     baixo               96\n",
       "MARANHÃO             muito baixo        191\n",
       "                     baixo               26\n",
       "MATO GROSSO          médio               93\n",
       "                     baixo               48\n",
       "MATO GROSSO DO SUL   médio               70\n",
       "                     alto                 8\n",
       "MINAS GERAIS         alto               539\n",
       "                     médio              314\n",
       "PARANÁ               alto               238\n",
       "                     médio              161\n",
       "PARAÍBA              baixo              145\n",
       "                     médio               78\n",
       "PARÁ                 baixo              135\n",
       "                     muito baixo          8\n",
       "PERNAMBUCO           médio               96\n",
       "                     baixo               89\n",
       "PIAUÍ                muito baixo        112\n",
       "                     baixo              112\n",
       "RIO DE JANEIRO       médio               63\n",
       "                     alto                29\n",
       "RIO GRANDE DO NORTE  médio              145\n",
       "                     alto                22\n",
       "RIO GRANDE DO SUL    médio              450\n",
       "                     alto                46\n",
       "RONDÔNIA             muito baixo         26\n",
       "                     baixo               26\n",
       "RORAIMA              baixo               13\n",
       "                     muito baixo          2\n",
       "SANTA CATARINA       alto               205\n",
       "SERGIPE              baixo               66\n",
       "                     médio                9\n",
       "SÃO PAULO            alto               606\n",
       "                     médio               39\n",
       "TOCANTINS            baixo               97\n",
       "                     médio               42\n",
       "Name: expec_vida_disc, dtype: int64"
      ]
     },
     "execution_count": 19,
     "metadata": {},
     "output_type": "execute_result"
    }
   ],
   "source": [
    "data.groupby('UF').expec_vida_disc.value_counts()"
   ]
  },
  {
   "cell_type": "markdown",
   "metadata": {},
   "source": [
    "#### Utilizando quantis fixos e frequência balanceada\n",
    "\n",
    "Pandas ainda permite discretização baseada em **quantis**\n",
    "\n",
    "<font color=\"red\">Aqui usamos os mesmos rótulos, mas a interpretação será diferente, pois os dados serão definidos por *quantis* e não por intervalos fixos</font>\n"
   ]
  },
  {
   "cell_type": "code",
   "execution_count": 22,
   "metadata": {},
   "outputs": [
    {
     "name": "stdout",
     "output_type": "stream",
     "text": [
      "baixo          1409\n",
      "muito baixo    1408\n",
      "médio          1378\n",
      "alto           1370\n",
      "Name: expec_vida_4quant, dtype: int64\n"
     ]
    }
   ],
   "source": [
    "labels = ['muito baixo', 'baixo', 'médio', 'alto']\n",
    "\n",
    "# realizar discretizacao e armazenar\n",
    "expec_vida_qdisc =  pd.qcut(data['expec_vida'], 4, labels=labels)\n",
    "# inserir nova coluna\n",
    "data.insert(11, 'expec_vida_4quant', expec_vida_qdisc)\n",
    "\n",
    "# exibir o tipo da coluna\n",
    "print(data['expec_vida_4quant'].value_counts())\n"
   ]
  },
  {
   "cell_type": "code",
   "execution_count": 23,
   "metadata": {},
   "outputs": [
    {
     "name": "stdout",
     "output_type": "stream",
     "text": [
      "(73.5, 75.7]      1409\n",
      "(68.499, 73.5]    1408\n",
      "(75.7, 77.6]      1378\n",
      "(77.6, 80.9]      1370\n",
      "Name: expec_vida, dtype: int64\n"
     ]
    }
   ],
   "source": [
    "# realizar discretizacao e armazenar\n",
    "expec_vida_qdisc_nolabel =  pd.qcut(data['expec_vida'], 4)\n",
    "print(expec_vida_qdisc_nolabel.value_counts())\n"
   ]
  },
  {
   "cell_type": "code",
   "execution_count": 24,
   "metadata": {},
   "outputs": [
    {
     "data": {
      "text/plain": [
       "<AxesSubplot:>"
      ]
     },
     "execution_count": 24,
     "metadata": {},
     "output_type": "execute_result"
    },
    {
     "data": {
      "image/png": "[encoded data removed]",
      "text/plain": [
       "<Figure size 576x288 with 2 Axes>"
      ]
     },
     "metadata": {
      "needs_background": "light"
     },
     "output_type": "display_data"
    }
   ],
   "source": [
    "plt.figure(figsize=(8,4))\n",
    "plt.subplot(121)\n",
    "data['expec_vida_disc'].value_counts().plot(kind='bar')\n",
    "plt.subplot(122)\n",
    "data['expec_vida_4quant'].value_counts().plot(kind='bar')"
   ]
  },
  {
   "cell_type": "markdown",
   "metadata": {},
   "source": [
    "## Agrupamento\n",
    "\n",
    "Método que agrupa valores considerando uma ou mais variáveis e considera valores discretos como o rótulo dos grupos.\n",
    "\n",
    "É fundamental nesse caso:\n",
    "1. Conhecer o método de agrupamento sendo utilizado e como funciona\n",
    "2. Entender a distância utilizada para comparar os exemplos, já que algoritmos para análise de agrupamentos são fortemente dependentes da distância utilizada.\n",
    "\n",
    "Para exemplificar, vamos analisar o atributo expec_vida e discretizá-lo usando o método de agrupamento por Mistura de Gaussianas (Gaussian Mixture), e a distância Euclidiana.\n",
    "\n",
    "Importante: os rótulos atribuídos aos grupos não necessariamente indicam a ordem numérica da variável original."
   ]
  },
  {
   "cell_type": "code",
   "execution_count": 25,
   "metadata": {},
   "outputs": [
    {
     "name": "stdout",
     "output_type": "stream",
     "text": [
      "[[0.    0.989 0.    0.011]\n",
      " [0.    0.109 0.    0.89 ]\n",
      " [0.    0.36  0.    0.64 ]\n",
      " [0.    0.203 0.    0.797]\n",
      " [0.    0.128 0.    0.872]\n",
      " [0.    0.849 0.    0.151]\n",
      " [0.    0.994 0.    0.006]\n",
      " [0.    0.924 0.    0.076]\n",
      " [0.    0.941 0.    0.059]\n",
      " [0.    0.941 0.    0.059]]\n",
      "[1 3 3 3 3 1 1 1 1 1]\n"
     ]
    },
    {
     "data": {
      "image/png": "[encoded data removed]",
      "text/plain": [
       "<Figure size 432x288 with 1 Axes>"
      ]
     },
     "metadata": {
      "needs_background": "light"
     },
     "output_type": "display_data"
    }
   ],
   "source": [
    "from sklearn.mixture import GaussianMixture\n",
    "\n",
    "X = np.array(data['expec_vida']).reshape(-1,1)\n",
    "\n",
    "gmm = GaussianMixture(n_components=4, random_state=10).fit(X)\n",
    "\n",
    "probs = np.round(gmm.predict_proba(X), 3)\n",
    "\n",
    "clusters = gmm.predict(X)\n",
    "\n",
    "print(probs[30:40,:])\n",
    "print(clusters[30:40])\n",
    "\n",
    "h = plt.hist(clusters)"
   ]
  },
  {
   "cell_type": "code",
   "execution_count": 32,
   "metadata": {},
   "outputs": [
    {
     "name": "stdout",
     "output_type": "stream",
     "text": [
      "                 min   max\n",
      "expec_vida_clu            \n",
      "0               75.7  77.6\n",
      "1               68.5  72.4\n",
      "2               77.7  80.9\n",
      "3               72.5  75.6\n"
     ]
    }
   ],
   "source": [
    "# atribuindo a nova variável ao dataframe\n",
    "data['expec_vida_clu'] = clusters\n",
    "\n",
    "# verificando como ficou o agrupamento em termos de mínimos e máximos\n",
    "print(data.groupby('expec_vida_clu').expec_vida.agg(['min','max']))\n"
   ]
  },
  {
   "cell_type": "markdown",
   "metadata": {},
   "source": [
    "## E os valores nulos / faltantes?\n",
    "\n",
    "Temos que tratar caso a caso, pois o principal problema na discretização é estar *indefinido* qual sua ordenação/posição.\n"
   ]
  },
  {
   "cell_type": "markdown",
   "metadata": {},
   "source": [
    "## Resumo dos discretizadores + Bônus *sklearn*"
   ]
  },
  {
   "cell_type": "markdown",
   "metadata": {},
   "source": [
    "<table align=\"center\">\n",
    "\t<thead>\n",
    "\t\t<tr>\n",
    "\t\t\t<th>Função</th>\n",
    "\t\t\t<th>Observação</th>\n",
    "\t\t</tr>\n",
    "    </thead>\n",
    "    <tbody>\n",
    "\t\t<tr>\n",
    "            <td><a href=\"https://pandas.pydata.org/pandas-docs/stable/reference/api/pandas.cut.html\">cut (pandas)</a></td>\n",
    "            <td>Cria intervalos de tamanhos iguais mas com frequencias de amostras desiguais em cada intervalo.</td>\n",
    "        </tr>\n",
    "\t\t<tr>\n",
    "            <td><a href=\"https://pandas.pydata.org/pandas-docs/stable/reference/api/pandas.qcut.html\">qcut (pandas)</a></td>\n",
    "            <td>Cria intervalos de tamanhos diferentes mas com frequencia de amostras iguais em cada intervalo.</td>\n",
    "\t\t</tr>\n",
    "        <tr>\n",
    "            <td><a href=\"https://scikit-learn.org/stable/modules/generated/sklearn.preprocessing.KBinsDiscretizer.html\">KBinsDiscretizer (sklearn)</a></td>\n",
    "            <td>Cria intervalos utilizando a estratégia especificada por parâmetro e permite fazer a transformação inversa.</td>\n",
    "\t\t</tr>\n",
    "\t</tbody>\n",
    "</table>"
   ]
  },
  {
   "cell_type": "code",
   "execution_count": 32,
   "metadata": {},
   "outputs": [],
   "source": [
    "amostra = pd.DataFrame(np.random.normal(loc=50, scale=20, size=50), columns=['value'])"
   ]
  },
  {
   "cell_type": "code",
   "execution_count": 33,
   "metadata": {},
   "outputs": [],
   "source": [
    "from sklearn.preprocessing import KBinsDiscretizer"
   ]
  },
  {
   "cell_type": "code",
   "execution_count": 34,
   "metadata": {},
   "outputs": [
    {
     "name": "stdout",
     "output_type": "stream",
     "text": [
      "1.0    24\n",
      "2.0    11\n",
      "0.0     9\n",
      "3.0     6\n",
      "Name: value_bins, dtype: int64\n",
      "[array([  9.90764184,  34.09069935,  58.27375686,  82.45681438,\n",
      "       106.63987189])]\n"
     ]
    }
   ],
   "source": [
    "kbd = KBinsDiscretizer(n_bins=4, encode='ordinal', strategy='uniform')\n",
    "amostra['value_bins'] = kbd.fit_transform(amostra[['value']])\n",
    "print(amostra['value_bins'].value_counts())\n",
    "print(kbd.bin_edges_)"
   ]
  },
  {
   "cell_type": "code",
   "execution_count": 35,
   "metadata": {},
   "outputs": [
    {
     "data": {
      "text/plain": [
       "0.0    13\n",
       "3.0    13\n",
       "2.0    12\n",
       "1.0    12\n",
       "Name: value_bins, dtype: int64"
      ]
     },
     "execution_count": 35,
     "metadata": {},
     "output_type": "execute_result"
    }
   ],
   "source": [
    "kbd = KBinsDiscretizer(n_bins=4, encode='ordinal', strategy='quantile')\n",
    "amostra['value_bins'] = kbd.fit_transform(amostra[['value']])\n",
    "amostra['value_bins'].value_counts()"
   ]
  },
  {
   "cell_type": "code",
   "execution_count": 36,
   "metadata": {},
   "outputs": [
    {
     "data": {
      "text/plain": [
       "2.0    17\n",
       "1.0    16\n",
       "3.0     9\n",
       "0.0     8\n",
       "Name: value_bins, dtype: int64"
      ]
     },
     "execution_count": 36,
     "metadata": {},
     "output_type": "execute_result"
    }
   ],
   "source": [
    "kbd = KBinsDiscretizer(n_bins=4, encode='ordinal', strategy='kmeans')\n",
    "amostra['value_bins'] = kbd.fit_transform(amostra[['value']])\n",
    "amostra['value_bins'].value_counts()"
   ]
  },
  {
   "cell_type": "markdown",
   "metadata": {},
   "source": [
    "OBS: cuidado novamente com uso de algoritmo de agrupamento, em particular utilizando uma única variável"
   ]
  },
  {
   "cell_type": "markdown",
   "metadata": {},
   "source": [
    "A vantagem do `KBinsDiscretizer` é que o modelo salva a transformação permitindo inverter"
   ]
  },
  {
   "cell_type": "code",
   "execution_count": 37,
   "metadata": {},
   "outputs": [
    {
     "data": {
      "text/plain": [
       "array([[60.9135503 ],\n",
       "       [60.9135503 ],\n",
       "       [60.9135503 ],\n",
       "       [60.9135503 ],\n",
       "       [89.57871046],\n",
       "       [38.91887494],\n",
       "       [38.91887494],\n",
       "       [60.9135503 ],\n",
       "       [60.9135503 ],\n",
       "       [38.91887494],\n",
       "       [60.9135503 ],\n",
       "       [60.9135503 ],\n",
       "       [89.57871046],\n",
       "       [60.9135503 ],\n",
       "       [89.57871046],\n",
       "       [60.9135503 ],\n",
       "       [60.9135503 ],\n",
       "       [38.91887494],\n",
       "       [19.21792008],\n",
       "       [19.21792008],\n",
       "       [19.21792008],\n",
       "       [38.91887494],\n",
       "       [89.57871046],\n",
       "       [19.21792008],\n",
       "       [60.9135503 ],\n",
       "       [38.91887494],\n",
       "       [60.9135503 ],\n",
       "       [60.9135503 ],\n",
       "       [19.21792008],\n",
       "       [38.91887494],\n",
       "       [19.21792008],\n",
       "       [38.91887494],\n",
       "       [89.57871046],\n",
       "       [38.91887494],\n",
       "       [38.91887494],\n",
       "       [38.91887494],\n",
       "       [38.91887494],\n",
       "       [38.91887494],\n",
       "       [38.91887494],\n",
       "       [38.91887494],\n",
       "       [60.9135503 ],\n",
       "       [89.57871046],\n",
       "       [38.91887494],\n",
       "       [60.9135503 ],\n",
       "       [89.57871046],\n",
       "       [89.57871046],\n",
       "       [89.57871046],\n",
       "       [19.21792008],\n",
       "       [19.21792008],\n",
       "       [60.9135503 ]])"
      ]
     },
     "execution_count": 37,
     "metadata": {},
     "output_type": "execute_result"
    }
   ],
   "source": [
    "kbd.inverse_transform(amostra[['value_bins']])"
   ]
  },
  {
   "cell_type": "code",
   "execution_count": null,
   "metadata": {},
   "outputs": [],
   "source": []
  }
 ],
 "metadata": {
  "kernelspec": {
   "display_name": "Python 3",
   "language": "python",
   "name": "python3"
  },
  "language_info": {
   "codemirror_mode": {
    "name": "ipython",
    "version": 3
   },
   "file_extension": ".py",
   "mimetype": "text/x-python",
   "name": "python",
   "nbconvert_exporter": "python",
   "pygments_lexer": "ipython3",
   "version": "3.8.5"
  }
 },
 "nbformat": 4,
 "nbformat_minor": 4
}
