{
 "cells": [
  {
   "cell_type": "markdown",
   "metadata": {},
   "source": [
    "# <font color=\"blue\"> MBA em Ciência de Dados</font>\n",
    "# <font color=\"blue\">Técnicas Avançadas para Captura e Tratamento de Dados</font>\n",
    "\n",
    "## <font color=\"blue\"> Web Scraping </font>\n",
    "\n",
    "## <font color=\"blue\">Avaliação </font> \n",
    "\n",
    "**Material Produzido por Luis Gustavo Nonato**<br>\n",
    "**Cemeai - ICMC/USP São Carlos**\n",
    "\n",
    "---"
   ]
  },
  {
   "cell_type": "code",
   "execution_count": 2,
   "metadata": {},
   "outputs": [],
   "source": [
    "import requests as rq\n",
    "from bs4 import BeautifulSoup"
   ]
  },
  {
   "cell_type": "markdown",
   "metadata": {},
   "source": [
    "Considere a página de cultura e extensão do ICMC: \n",
    "\n",
    "[https://www.icmc.usp.br/cultura-e-extensao](https://www.icmc.usp.br/cultura-e-extensao)"
   ]
  },
  {
   "cell_type": "markdown",
   "metadata": {},
   "source": [
    "### Exercício 1)\n",
    "Faça uma requisição à página de Cultura e Extensão a fim de verificar o tipo de conteúdo. O conteúdo é do tipo:\n",
    "\n",
    "a) Tipo de Conteúdo: text/json<br>\n",
    "b) Tipo de Conteúdo: text/plain<br>\n",
    "c) Tipo de Conteúdo: text/html<br>\n",
    "d) Tipo de Conteúdo: text/plain"
   ]
  },
  {
   "cell_type": "code",
   "execution_count": 3,
   "metadata": {},
   "outputs": [
    {
     "name": "stdout",
     "output_type": "stream",
     "text": [
      "200\n",
      "text/html; charset=utf-8\n"
     ]
    }
   ],
   "source": [
    "r = rq.get('https://www.icmc.usp.br/cultura-e-extensao') # fazendo a requisição\n",
    "\n",
    "\n",
    "print(r.status_code)  # verificando se a requisição foi bem sucedida\n",
    "\n",
    "print(r.headers['Content-Type'])  # verificando o tipo de dado \n",
    "                                  # retornado pelo request"
   ]
  },
  {
   "cell_type": "markdown",
   "metadata": {},
   "source": [
    "### Exercício 2)\n",
    "Faça uma requisição à página de Cultura e Extensão de modo a obter uma lista de todas as atividades descritas na página (são nove atividades) e o link para a página de cada uma das atividades. Armazene o resultado em um dicionário onde a chave é o título da atividade e o valor o link para a página correspondente.\n",
    "\n",
    "Quantos caracteres possui o link mais longo armazenado no dicionário?\n",
    "\n",
    "a) 40<br>\n",
    "b) 42<br>\n",
    "c) 45<br>\n",
    "d) 49\n",
    "\n",
    "**Dica**: As atividades estão marcadas no HTML por: \n",
    "```html\n",
    "div class=\"col-xs-12 col-sm-4 col-lg-3 quadro\"\n",
    "```"
   ]
  },
  {
   "cell_type": "code",
   "execution_count": null,
   "metadata": {},
   "outputs": [],
   "source": []
  },
  {
   "cell_type": "markdown",
   "metadata": {},
   "source": [
    "### Exercício 3)\n",
    "Na página principal das ativadades de Cultura e Extensão, cada atividade é ilustrada por uma imagem. Recupere o nome dos arquivos onde as imagens estão armazenadas. Quantas das imagens estão no formato .jpg?\n",
    "\n",
    "a) 6<br>\n",
    "b) 8<br>\n",
    "c) 9<br>\n",
    "d) 1\n",
    "\n",
    "**Dica**: As imagens também estão marcadas no HTML por: \n",
    "```html\n",
    "div class=\"col-xs-12 col-sm-4 col-lg-3 quadro\"\n",
    "```"
   ]
  },
  {
   "cell_type": "code",
   "execution_count": null,
   "metadata": {},
   "outputs": [],
   "source": []
  },
  {
   "cell_type": "markdown",
   "metadata": {},
   "source": [
    "### Exercício 4) \n",
    "Dentre as páginas das atividades de cultura e extensão, qual a que possui o maior número de links para outras páginas? Você deve **desconsiderar** links da forma '#' e '/'.\n",
    "\n",
    "a) Página do Museu da computação<br>\n",
    "b) Página dos Grupos de extensão<br>\n",
    "c) Página de Eventos<br>\n",
    "d) Página de Projetos e programas\n",
    "\n",
    "**Dica**: Faça uma requisição para cada uma das páginas cujos links foram armazenados no exercício; 2) concatene a URL \"https://www.icmc.usp.br/\" com esses links; e 3) encontre todos os marcadores 'a' nestas páginas. Para cada marcador 'a', obtenha o conteúdo dos 'href', verificando se tal conteúdo é diferente de '/' e '#'."
   ]
  },
  {
   "cell_type": "code",
   "execution_count": null,
   "metadata": {},
   "outputs": [],
   "source": [
    "            "
   ]
  },
  {
   "cell_type": "markdown",
   "metadata": {},
   "source": [
    "### Exercício 5)\n",
    "Dentre as atividades de cultura e extensão, existem as _Exposições_, as quais estão descritas na página [https://www.icmc.usp.br/cultura-e-extensao/exposicoes](https://www.icmc.usp.br/cultura-e-extensao/exposicoes). Construa uma lista com os links de todas as exposições listadas na página. Quantos caracteres possui o **menor** link da lista?\n",
    "\n",
    "a) 63<br>\n",
    "b) 82<br>\n",
    "c) 97<br>\n",
    "d) 100\n",
    "\n",
    "**Dica**: Busque por todos os 'href' dentro do marcador \n",
    "```html\n",
    "<div  class=\"cck-line-body\">\n",
    "```"
   ]
  },
  {
   "cell_type": "code",
   "execution_count": null,
   "metadata": {},
   "outputs": [],
   "source": []
  }
 ],
 "metadata": {
  "kernelspec": {
   "display_name": "Python 3",
   "language": "python",
   "name": "python3"
  },
  "language_info": {
   "codemirror_mode": {
    "name": "ipython",
    "version": 3
   },
   "file_extension": ".py",
   "mimetype": "text/x-python",
   "name": "python",
   "nbconvert_exporter": "python",
   "pygments_lexer": "ipython3",
   "version": "3.8.5"
  }
 },
 "nbformat": 4,
 "nbformat_minor": 2
}
