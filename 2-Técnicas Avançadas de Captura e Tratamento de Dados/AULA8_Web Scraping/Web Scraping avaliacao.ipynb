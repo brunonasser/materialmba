{
 "cells": [
  {
   "cell_type": "markdown",
   "metadata": {},
   "source": [
    "# <font color=\"blue\"> MBA em Ciência de Dados</font>\n",
    "# <font color=\"blue\">Técnicas Avançadas para Captura e Tratamento de Dados</font>\n",
    "\n",
    "## <font color=\"blue\"> Web Scraping </font>\n",
    "\n",
    "## <font color=\"blue\">Avaliação </font> \n",
    "\n",
    "**Material Produzido por Luis Gustavo Nonato**<br>\n",
    "**Cemeai - ICMC/USP São Carlos**\n",
    "\n",
    "---"
   ]
  },
  {
   "cell_type": "code",
   "execution_count": 2,
   "metadata": {},
   "outputs": [],
   "source": [
    "import requests as rq\n",
    "from bs4 import BeautifulSoup"
   ]
  },
  {
   "cell_type": "markdown",
   "metadata": {},
   "source": [
    "Considere a página de cultura e extensão do ICMC: \n",
    "\n",
    "[https://www.icmc.usp.br/cultura-e-extensao](https://www.icmc.usp.br/cultura-e-extensao)"
   ]
  },
  {
   "cell_type": "markdown",
   "metadata": {},
   "source": [
    "### Exercício 1)\n",
    "Faça uma requisição à página de Cultura e Extensão a fim de verificar o tipo de conteúdo. O conteúdo é do tipo:\n",
    "\n",
    "a) Tipo de Conteúdo: text/json<br>\n",
    "b) Tipo de Conteúdo: text/plain<br>\n",
    "c) Tipo de Conteúdo: text/html<br>\n",
    "d) Tipo de Conteúdo: text/plain"
   ]
  },
  {
   "cell_type": "code",
   "execution_count": 3,
   "metadata": {},
   "outputs": [
    {
     "name": "stdout",
     "output_type": "stream",
     "text": [
      "200\n",
      "text/html; charset=utf-8\n"
     ]
    }
   ],
   "source": [
    "r = rq.get('https://www.icmc.usp.br/cultura-e-extensao') # fazendo a requisição\n",
    "\n",
    "\n",
    "print(r.status_code)  # verificando se a requisição foi bem sucedida\n",
    "\n",
    "print(r.headers['Content-Type'])  # verificando o tipo de dado \n",
    "                                  # retornado pelo request"
   ]
  },
  {
   "cell_type": "markdown",
   "metadata": {},
   "source": [
    "### Exercício 2)\n",
    "Faça uma requisição à página de Cultura e Extensão de modo a obter uma lista de todas as atividades descritas na página (são nove atividades) e o link para a página de cada uma das atividades. Armazene o resultado em um dicionário onde a chave é o título da atividade e o valor o link para a página correspondente.\n",
    "\n",
    "Quantos caracteres possui o link mais longo armazenado no dicionário?\n",
    "\n",
    "a) 40<br>\n",
    "b) 42<br>\n",
    "c) 45<br>\n",
    "d) 49\n",
    "\n",
    "**Dica**: As atividades estão marcadas no HTML por: \n",
    "```html\n",
    "div class=\"col-xs-12 col-sm-4 col-lg-3 quadro\"\n",
    "```"
   ]
  },
  {
   "cell_type": "code",
   "execution_count": 15,
   "metadata": {},
   "outputs": [],
   "source": [
    "soup = BeautifulSoup(r.text, 'html.parser') # converte a string retornada para um formato HTML"
   ]
  },
  {
   "cell_type": "code",
   "execution_count": 21,
   "metadata": {
    "scrolled": false
   },
   "outputs": [
    {
     "name": "stdout",
     "output_type": "stream",
     "text": [
      "Cursos de extensão\n",
      "38\n",
      "----------\n",
      "Eventos\n",
      "8\n",
      "----------\n",
      "Exposições\n",
      "30\n",
      "----------\n",
      "Grupos de extensão\n",
      "38\n",
      "----------\n",
      "Museu da computação\n",
      "25\n",
      "----------\n",
      "Museu da fauna e flora\n",
      "42\n",
      "----------\n",
      "Projetos e programas\n",
      "40\n",
      "----------\n",
      "Transferência de conhecimento\n",
      "49\n",
      "----------\n",
      "Coral\n",
      "25\n",
      "----------\n"
     ]
    }
   ],
   "source": [
    "dic={}\n",
    "for evento in soup('div', {'class': 'col-xs-12 col-sm-4 col-lg-3 quadro'}):\n",
    "    titulo = evento.find('h4').text\n",
    "    link= evento.find('a').get('href')\n",
    "    print(titulo)\n",
    "    print(len(link))\n",
    "    print(5*'--')"
   ]
  },
  {
   "cell_type": "markdown",
   "metadata": {},
   "source": [
    "### Exercício 3)\n",
    "Na página principal das ativadades de Cultura e Extensão, cada atividade é ilustrada por uma imagem. Recupere o nome dos arquivos onde as imagens estão armazenadas. Quantas das imagens estão no formato .jpg?\n",
    "\n",
    "a) 6<br>\n",
    "b) 8<br>\n",
    "c) 9<br>\n",
    "d) 1\n",
    "\n",
    "**Dica**: As imagens também estão marcadas no HTML por: \n",
    "```html\n",
    "div class=\"col-xs-12 col-sm-4 col-lg-3 quadro\"\n",
    "```"
   ]
  },
  {
   "cell_type": "code",
   "execution_count": 22,
   "metadata": {},
   "outputs": [
    {
     "name": "stdout",
     "output_type": "stream",
     "text": [
      "Cursos de extensão\n",
      "/images/cultura-e-extensao/1-cursos-de-extensao.jpg\n",
      "----------\n",
      "Eventos\n",
      "/images/cultura-e-extensao/2-eventos.jpg\n",
      "----------\n",
      "Exposições\n",
      "/images/cultura-e-extensao/3-exposicoes.jpg\n",
      "----------\n",
      "Grupos de extensão\n",
      "/images/cultura-e-extensao/4-grupos-de-extensao.jpg\n",
      "----------\n",
      "Museu da computação\n",
      "/images/cultura-e-extensao/5-museu.jpg\n",
      "----------\n",
      "Museu da fauna e flora\n",
      "/images/cultura-e-extensao/6-museu-fauna-e-flora.jpg\n",
      "----------\n",
      "Projetos e programas\n",
      "/images/cultura-e-extensao/7-projetos-e-programas.jpg\n",
      "----------\n",
      "Transferência de conhecimento\n",
      "/images/cultura-e-extensao/8-transferencia-de-conhecimento.jpg\n",
      "----------\n",
      "Coral\n",
      "https://web.icmc.usp.br/SCAPINST/portal/coral2019.png\n",
      "----------\n"
     ]
    }
   ],
   "source": [
    "for evento in soup('div', {'class': 'col-xs-12 col-sm-4 col-lg-3 quadro'}):\n",
    "    titulo = evento.find('h4').text\n",
    "    ima= evento.find('img').get('src')\n",
    "    print(titulo)\n",
    "    print(ima)\n",
    "    print(5*'--')"
   ]
  },
  {
   "cell_type": "markdown",
   "metadata": {},
   "source": [
    "### Exercício 4) \n",
    "Dentre as páginas das atividades de cultura e extensão, qual a que possui o maior número de links para outras páginas? Você deve **desconsiderar** links da forma '#' e '/'.\n",
    "\n",
    "a) Página do Museu da computação<br>\n",
    "b) Página dos Grupos de extensão<br>\n",
    "c) Página de Eventos<br>\n",
    "d) Página de Projetos e programas\n",
    "\n",
    "**Dica**: Faça uma requisição para cada uma das páginas cujos links foram armazenados no exercício; 2) concatene a URL \"https://www.icmc.usp.br/\" com esses links; e 3) encontre todos os marcadores 'a' nestas páginas. Para cada marcador 'a', obtenha o conteúdo dos 'href', verificando se tal conteúdo é diferente de '/' e '#'."
   ]
  },
  {
   "cell_type": "code",
   "execution_count": null,
   "metadata": {},
   "outputs": [],
   "source": [
    "            "
   ]
  },
  {
   "cell_type": "markdown",
   "metadata": {},
   "source": [
    "### Exercício 5)\n",
    "Dentre as atividades de cultura e extensão, existem as _Exposições_, as quais estão descritas na página [https://www.icmc.usp.br/cultura-e-extensao/exposicoes](https://www.icmc.usp.br/cultura-e-extensao/exposicoes). Construa uma lista com os links de todas as exposições listadas na página. Quantos caracteres possui o **menor** link da lista?\n",
    "\n",
    "a) 63<br>\n",
    "b) 82<br>\n",
    "c) 97<br>\n",
    "d) 100\n",
    "\n",
    "**Dica**: Busque por todos os 'href' dentro do marcador \n",
    "```html\n",
    "<div  class=\"cck-line-body\">\n",
    "```"
   ]
  },
  {
   "cell_type": "code",
   "execution_count": 89,
   "metadata": {},
   "outputs": [],
   "source": [
    "r = rq.get('https://www.icmc.usp.br/cultura-e-extensao/exposicoes') # fazendo a requisição\n",
    "soup = BeautifulSoup(r.text, 'html.parser') # converte a string retornada para um formato HTML"
   ]
  },
  {
   "cell_type": "code",
   "execution_count": 90,
   "metadata": {},
   "outputs": [],
   "source": [
    "lista=[]\n",
    "for text in soup.find_all('div', class_='cck-line-body'):\n",
    "    for links in text.find_all('a'):\n",
    "        lista.append(links.get('href'))\n",
    "   "
   ]
  },
  {
   "cell_type": "code",
   "execution_count": 92,
   "metadata": {},
   "outputs": [],
   "source": [
    "results=[]\n",
    "for  i in lista:\n",
    "    results.append(len(i))\n"
   ]
  },
  {
   "cell_type": "code",
   "execution_count": 97,
   "metadata": {},
   "outputs": [],
   "source": [
    "results.sort()"
   ]
  },
  {
   "cell_type": "code",
   "execution_count": 98,
   "metadata": {},
   "outputs": [
    {
     "data": {
      "text/plain": [
       "[63,\n",
       " 76,\n",
       " 77,\n",
       " 79,\n",
       " 80,\n",
       " 81,\n",
       " 82,\n",
       " 84,\n",
       " 89,\n",
       " 92,\n",
       " 93,\n",
       " 93,\n",
       " 96,\n",
       " 97,\n",
       " 102,\n",
       " 103,\n",
       " 107,\n",
       " 111,\n",
       " 113,\n",
       " 113,\n",
       " 113,\n",
       " 113,\n",
       " 113,\n",
       " 113,\n",
       " 113,\n",
       " 113,\n",
       " 113,\n",
       " 113,\n",
       " 114,\n",
       " 116,\n",
       " 119,\n",
       " 126,\n",
       " 128,\n",
       " 128]"
      ]
     },
     "execution_count": 98,
     "metadata": {},
     "output_type": "execute_result"
    }
   ],
   "source": [
    "results"
   ]
  }
 ],
 "metadata": {
  "kernelspec": {
   "display_name": "Python 3",
   "language": "python",
   "name": "python3"
  },
  "language_info": {
   "codemirror_mode": {
    "name": "ipython",
    "version": 3
   },
   "file_extension": ".py",
   "mimetype": "text/x-python",
   "name": "python",
   "nbconvert_exporter": "python",
   "pygments_lexer": "ipython3",
   "version": "3.8.5"
  }
 },
 "nbformat": 4,
 "nbformat_minor": 2
}
