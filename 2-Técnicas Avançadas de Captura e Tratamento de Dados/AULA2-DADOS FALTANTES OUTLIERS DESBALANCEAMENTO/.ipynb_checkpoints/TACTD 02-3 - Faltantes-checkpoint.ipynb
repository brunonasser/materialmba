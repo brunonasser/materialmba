{
 "cells": [
  {
   "cell_type": "markdown",
   "metadata": {},
   "source": [
    "# MBA em Ciência de Dados\n",
    "# Técnicas Avançadas de Captura e Tratamento de Dados\n",
    "\n",
    "\n",
    "### <span style=\"color:darkred\">Módulo II - Tratamento e Limpeza de Dados\n",
    "</span>\n",
    "\n",
    "\n",
    "### <span style=\"color:darkred\">Informações faltantes</span>\n",
    "\n",
    "Material Produzido por Moacir Antonelli Ponti\n",
    "\n",
    "CeMEAI - ICMC/USP São Carlos\n",
    "\n",
    "---"
   ]
  },
  {
   "cell_type": "markdown",
   "metadata": {},
   "source": [
    "## Informações faltantes\n",
    "\n",
    "Problemas com dados do tipo: faltantes (e errôneas as quais também ocasionam perdas) podem levar a impactos nos modelos estatísticos e de aprendizado.\n",
    "\n",
    "A primeira etapa é **detectar corretamente** as informações faltantes, em quais atributos ocorrem, separando em:\n",
    "* Dados faltantes: no Python `NaN`, sendo indefinidos ou não encontrados\n",
    "* Dados errôneos: valores que devem ser removidos para não prejudicar a análise. Comumente não são *outliers* mas dados corrompidos no armazenamento, transmissão ou inputação.\n",
    "\n",
    "A seguir, temos como opções\n",
    "1. Remover as linhas/instâncias contendo valores faltantes\n",
    "2. Preencher valores faltantes utilizando algum método"
   ]
  },
  {
   "cell_type": "code",
   "execution_count": 2,
   "metadata": {},
   "outputs": [
    {
     "data": {
      "text/html": [
       "<div>\n",
       "<style scoped>\n",
       "    .dataframe tbody tr th:only-of-type {\n",
       "        vertical-align: middle;\n",
       "    }\n",
       "\n",
       "    .dataframe tbody tr th {\n",
       "        vertical-align: top;\n",
       "    }\n",
       "\n",
       "    .dataframe thead th {\n",
       "        text-align: right;\n",
       "    }\n",
       "</style>\n",
       "<table border=\"1\" class=\"dataframe\">\n",
       "  <thead>\n",
       "    <tr style=\"text-align: right;\">\n",
       "      <th></th>\n",
       "      <th>city</th>\n",
       "      <th>area</th>\n",
       "      <th>rooms</th>\n",
       "      <th>bathroom</th>\n",
       "      <th>parking spaces</th>\n",
       "      <th>floor</th>\n",
       "      <th>hoa</th>\n",
       "      <th>rent</th>\n",
       "      <th>tax</th>\n",
       "      <th>insurance</th>\n",
       "      <th>total</th>\n",
       "      <th>page hits</th>\n",
       "      <th>days available</th>\n",
       "      <th>interactions</th>\n",
       "      <th>weeks available</th>\n",
       "      <th>type</th>\n",
       "    </tr>\n",
       "  </thead>\n",
       "  <tbody>\n",
       "    <tr>\n",
       "      <th>0</th>\n",
       "      <td>São Paulo</td>\n",
       "      <td>70.0</td>\n",
       "      <td>2.0</td>\n",
       "      <td>1</td>\n",
       "      <td>1.0</td>\n",
       "      <td>7</td>\n",
       "      <td>2065</td>\n",
       "      <td>3300</td>\n",
       "      <td>211</td>\n",
       "      <td>42</td>\n",
       "      <td>5618.0</td>\n",
       "      <td>324</td>\n",
       "      <td>23</td>\n",
       "      <td>108</td>\n",
       "      <td>3</td>\n",
       "      <td>flat</td>\n",
       "    </tr>\n",
       "    <tr>\n",
       "      <th>1</th>\n",
       "      <td>São Paulo</td>\n",
       "      <td>320.0</td>\n",
       "      <td>4.0</td>\n",
       "      <td>4</td>\n",
       "      <td>2.0</td>\n",
       "      <td>20</td>\n",
       "      <td>1200</td>\n",
       "      <td>4960</td>\n",
       "      <td>1750</td>\n",
       "      <td>63</td>\n",
       "      <td>7973.0</td>\n",
       "      <td>720</td>\n",
       "      <td>78</td>\n",
       "      <td>240</td>\n",
       "      <td>11</td>\n",
       "      <td>flat</td>\n",
       "    </tr>\n",
       "    <tr>\n",
       "      <th>2</th>\n",
       "      <td>Porto Alegre</td>\n",
       "      <td>80.0</td>\n",
       "      <td>1.0</td>\n",
       "      <td>1</td>\n",
       "      <td>1.0</td>\n",
       "      <td>6</td>\n",
       "      <td>1000</td>\n",
       "      <td>2800</td>\n",
       "      <td>nr</td>\n",
       "      <td>41</td>\n",
       "      <td>3841.0</td>\n",
       "      <td>64</td>\n",
       "      <td>269</td>\n",
       "      <td>128</td>\n",
       "      <td>38</td>\n",
       "      <td>flat</td>\n",
       "    </tr>\n",
       "    <tr>\n",
       "      <th>3</th>\n",
       "      <td>Porto Alegre</td>\n",
       "      <td>51.0</td>\n",
       "      <td>1.0</td>\n",
       "      <td>1</td>\n",
       "      <td>NaN</td>\n",
       "      <td>2</td>\n",
       "      <td>270</td>\n",
       "      <td>1112</td>\n",
       "      <td>22</td>\n",
       "      <td>17</td>\n",
       "      <td>1421.0</td>\n",
       "      <td>46</td>\n",
       "      <td>73</td>\n",
       "      <td>92</td>\n",
       "      <td>10</td>\n",
       "      <td>flat</td>\n",
       "    </tr>\n",
       "    <tr>\n",
       "      <th>4</th>\n",
       "      <td>São Paulo</td>\n",
       "      <td>25.0</td>\n",
       "      <td>1.0</td>\n",
       "      <td>1</td>\n",
       "      <td>NaN</td>\n",
       "      <td>1</td>\n",
       "      <td>0</td>\n",
       "      <td>800</td>\n",
       "      <td>25</td>\n",
       "      <td>11</td>\n",
       "      <td>836.0</td>\n",
       "      <td>1548</td>\n",
       "      <td>78</td>\n",
       "      <td>516</td>\n",
       "      <td>11</td>\n",
       "      <td>flat</td>\n",
       "    </tr>\n",
       "  </tbody>\n",
       "</table>\n",
       "</div>"
      ],
      "text/plain": [
       "           city   area  rooms  bathroom  parking spaces floor   hoa  rent  \\\n",
       "0     São Paulo   70.0    2.0         1             1.0     7  2065  3300   \n",
       "1     São Paulo  320.0    4.0         4             2.0    20  1200  4960   \n",
       "2  Porto Alegre   80.0    1.0         1             1.0     6  1000  2800   \n",
       "3  Porto Alegre   51.0    1.0         1             NaN     2   270  1112   \n",
       "4     São Paulo   25.0    1.0         1             NaN     1     0   800   \n",
       "\n",
       "    tax  insurance   total  page hits  days available  interactions  \\\n",
       "0   211         42  5618.0        324              23           108   \n",
       "1  1750         63  7973.0        720              78           240   \n",
       "2    nr         41  3841.0         64             269           128   \n",
       "3    22         17  1421.0         46              73            92   \n",
       "4    25         11   836.0       1548              78           516   \n",
       "\n",
       "   weeks available  type  \n",
       "0                3  flat  \n",
       "1               11  flat  \n",
       "2               38  flat  \n",
       "3               10  flat  \n",
       "4               11  flat  "
      ]
     },
     "execution_count": 2,
     "metadata": {},
     "output_type": "execute_result"
    }
   ],
   "source": [
    "import numpy as np\n",
    "import matplotlib.pyplot as plt\n",
    "import pandas as pd\n",
    "from sklearn.svm import SVC\n",
    "from sklearn.linear_model import LinearRegression\n",
    "from sklearn.ensemble import RandomForestClassifier\n",
    "from sklearn import metrics\n",
    "\n",
    "# https://www.kaggle.com/rubenssjr/brasilian-houses-to-rent\n",
    "data = pd.read_csv(\"houses_to_rent_mba2.csv\")\n",
    "data.head()"
   ]
  },
  {
   "cell_type": "markdown",
   "metadata": {},
   "source": [
    "Vamos utilizar essa base de dados como meio de estudo, com duas tarefas:\n",
    "1. classificador para predizer a **cidade** com base nos atributos: imposto, valor total e valor do seguro\n",
    "2. regressor para predizer o **total** do aluguel com base nos atributos: área, número de quartos, andar, tipo, número de vagas na garagem e número de banheiros.\n",
    "\n",
    "**Montando o experimento**\n",
    "\n",
    "Vamos separar essa base de dados em conjuntos de treinamento (X) e teste (Z)"
   ]
  },
  {
   "cell_type": "code",
   "execution_count": 3,
   "metadata": {},
   "outputs": [
    {
     "name": "stdout",
     "output_type": "stream",
     "text": [
      "11765\n"
     ]
    }
   ],
   "source": [
    "# obtem amostra dos dados para treinamento\n",
    "frac_trein = 0.3\n",
    "dtrain = data.sample(frac=frac_trein, random_state=1)\n",
    "dtest = data.drop(dtrain.index)\n",
    "\n",
    "print(len(dtrain) + len(dtest))"
   ]
  },
  {
   "cell_type": "markdown",
   "metadata": {},
   "source": [
    "Vamos tentar obter um **classificador** sem realizar nenhum tratamento na base de dados"
   ]
  },
  {
   "cell_type": "code",
   "execution_count": 4,
   "metadata": {},
   "outputs": [
    {
     "ename": "ValueError",
     "evalue": "could not convert string to float: '-'",
     "output_type": "error",
     "traceback": [
      "\u001b[1;31m---------------------------------------------------------------------------\u001b[0m",
      "\u001b[1;31mValueError\u001b[0m                                Traceback (most recent call last)",
      "\u001b[1;32m<ipython-input-4-360ff27e663a>\u001b[0m in \u001b[0;36m<module>\u001b[1;34m\u001b[0m\n\u001b[0;32m      9\u001b[0m \u001b[1;31m# classificador\u001b[0m\u001b[1;33m\u001b[0m\u001b[1;33m\u001b[0m\u001b[1;33m\u001b[0m\u001b[0m\n\u001b[0;32m     10\u001b[0m \u001b[0mclfb\u001b[0m \u001b[1;33m=\u001b[0m \u001b[0mRandomForestClassifier\u001b[0m\u001b[1;33m(\u001b[0m\u001b[0mn_estimators\u001b[0m\u001b[1;33m=\u001b[0m\u001b[1;36m50\u001b[0m\u001b[1;33m,\u001b[0m \u001b[0mrandom_state\u001b[0m\u001b[1;33m=\u001b[0m\u001b[1;36m1\u001b[0m\u001b[1;33m)\u001b[0m\u001b[1;33m\u001b[0m\u001b[1;33m\u001b[0m\u001b[0m\n\u001b[1;32m---> 11\u001b[1;33m \u001b[0mclfb\u001b[0m\u001b[1;33m.\u001b[0m\u001b[0mfit\u001b[0m\u001b[1;33m(\u001b[0m\u001b[0mXcla\u001b[0m\u001b[1;33m,\u001b[0m\u001b[0mYcla\u001b[0m\u001b[1;33m)\u001b[0m\u001b[1;33m\u001b[0m\u001b[1;33m\u001b[0m\u001b[0m\n\u001b[0m\u001b[0;32m     12\u001b[0m \u001b[0mZYcla_\u001b[0m \u001b[1;33m=\u001b[0m \u001b[0mclfb\u001b[0m\u001b[1;33m.\u001b[0m\u001b[0mpredict\u001b[0m\u001b[1;33m(\u001b[0m\u001b[0mZXcla\u001b[0m\u001b[1;33m)\u001b[0m\u001b[1;33m\u001b[0m\u001b[1;33m\u001b[0m\u001b[0m\n",
      "\u001b[1;32m~\\anaconda3\\lib\\site-packages\\sklearn\\ensemble\\_forest.py\u001b[0m in \u001b[0;36mfit\u001b[1;34m(self, X, y, sample_weight)\u001b[0m\n\u001b[0;32m    301\u001b[0m                 \u001b[1;34m\"sparse multilabel-indicator for y is not supported.\"\u001b[0m\u001b[1;33m\u001b[0m\u001b[1;33m\u001b[0m\u001b[0m\n\u001b[0;32m    302\u001b[0m             )\n\u001b[1;32m--> 303\u001b[1;33m         X, y = self._validate_data(X, y, multi_output=True,\n\u001b[0m\u001b[0;32m    304\u001b[0m                                    accept_sparse=\"csc\", dtype=DTYPE)\n\u001b[0;32m    305\u001b[0m         \u001b[1;32mif\u001b[0m \u001b[0msample_weight\u001b[0m \u001b[1;32mis\u001b[0m \u001b[1;32mnot\u001b[0m \u001b[1;32mNone\u001b[0m\u001b[1;33m:\u001b[0m\u001b[1;33m\u001b[0m\u001b[1;33m\u001b[0m\u001b[0m\n",
      "\u001b[1;32m~\\anaconda3\\lib\\site-packages\\sklearn\\base.py\u001b[0m in \u001b[0;36m_validate_data\u001b[1;34m(self, X, y, reset, validate_separately, **check_params)\u001b[0m\n\u001b[0;32m    430\u001b[0m                 \u001b[0my\u001b[0m \u001b[1;33m=\u001b[0m \u001b[0mcheck_array\u001b[0m\u001b[1;33m(\u001b[0m\u001b[0my\u001b[0m\u001b[1;33m,\u001b[0m \u001b[1;33m**\u001b[0m\u001b[0mcheck_y_params\u001b[0m\u001b[1;33m)\u001b[0m\u001b[1;33m\u001b[0m\u001b[1;33m\u001b[0m\u001b[0m\n\u001b[0;32m    431\u001b[0m             \u001b[1;32melse\u001b[0m\u001b[1;33m:\u001b[0m\u001b[1;33m\u001b[0m\u001b[1;33m\u001b[0m\u001b[0m\n\u001b[1;32m--> 432\u001b[1;33m                 \u001b[0mX\u001b[0m\u001b[1;33m,\u001b[0m \u001b[0my\u001b[0m \u001b[1;33m=\u001b[0m \u001b[0mcheck_X_y\u001b[0m\u001b[1;33m(\u001b[0m\u001b[0mX\u001b[0m\u001b[1;33m,\u001b[0m \u001b[0my\u001b[0m\u001b[1;33m,\u001b[0m \u001b[1;33m**\u001b[0m\u001b[0mcheck_params\u001b[0m\u001b[1;33m)\u001b[0m\u001b[1;33m\u001b[0m\u001b[1;33m\u001b[0m\u001b[0m\n\u001b[0m\u001b[0;32m    433\u001b[0m             \u001b[0mout\u001b[0m \u001b[1;33m=\u001b[0m \u001b[0mX\u001b[0m\u001b[1;33m,\u001b[0m \u001b[0my\u001b[0m\u001b[1;33m\u001b[0m\u001b[1;33m\u001b[0m\u001b[0m\n\u001b[0;32m    434\u001b[0m \u001b[1;33m\u001b[0m\u001b[0m\n",
      "\u001b[1;32m~\\anaconda3\\lib\\site-packages\\sklearn\\utils\\validation.py\u001b[0m in \u001b[0;36minner_f\u001b[1;34m(*args, **kwargs)\u001b[0m\n\u001b[0;32m     70\u001b[0m                           FutureWarning)\n\u001b[0;32m     71\u001b[0m         \u001b[0mkwargs\u001b[0m\u001b[1;33m.\u001b[0m\u001b[0mupdate\u001b[0m\u001b[1;33m(\u001b[0m\u001b[1;33m{\u001b[0m\u001b[0mk\u001b[0m\u001b[1;33m:\u001b[0m \u001b[0marg\u001b[0m \u001b[1;32mfor\u001b[0m \u001b[0mk\u001b[0m\u001b[1;33m,\u001b[0m \u001b[0marg\u001b[0m \u001b[1;32min\u001b[0m \u001b[0mzip\u001b[0m\u001b[1;33m(\u001b[0m\u001b[0msig\u001b[0m\u001b[1;33m.\u001b[0m\u001b[0mparameters\u001b[0m\u001b[1;33m,\u001b[0m \u001b[0margs\u001b[0m\u001b[1;33m)\u001b[0m\u001b[1;33m}\u001b[0m\u001b[1;33m)\u001b[0m\u001b[1;33m\u001b[0m\u001b[1;33m\u001b[0m\u001b[0m\n\u001b[1;32m---> 72\u001b[1;33m         \u001b[1;32mreturn\u001b[0m \u001b[0mf\u001b[0m\u001b[1;33m(\u001b[0m\u001b[1;33m**\u001b[0m\u001b[0mkwargs\u001b[0m\u001b[1;33m)\u001b[0m\u001b[1;33m\u001b[0m\u001b[1;33m\u001b[0m\u001b[0m\n\u001b[0m\u001b[0;32m     73\u001b[0m     \u001b[1;32mreturn\u001b[0m \u001b[0minner_f\u001b[0m\u001b[1;33m\u001b[0m\u001b[1;33m\u001b[0m\u001b[0m\n\u001b[0;32m     74\u001b[0m \u001b[1;33m\u001b[0m\u001b[0m\n",
      "\u001b[1;32m~\\anaconda3\\lib\\site-packages\\sklearn\\utils\\validation.py\u001b[0m in \u001b[0;36mcheck_X_y\u001b[1;34m(X, y, accept_sparse, accept_large_sparse, dtype, order, copy, force_all_finite, ensure_2d, allow_nd, multi_output, ensure_min_samples, ensure_min_features, y_numeric, estimator)\u001b[0m\n\u001b[0;32m    793\u001b[0m         \u001b[1;32mraise\u001b[0m \u001b[0mValueError\u001b[0m\u001b[1;33m(\u001b[0m\u001b[1;34m\"y cannot be None\"\u001b[0m\u001b[1;33m)\u001b[0m\u001b[1;33m\u001b[0m\u001b[1;33m\u001b[0m\u001b[0m\n\u001b[0;32m    794\u001b[0m \u001b[1;33m\u001b[0m\u001b[0m\n\u001b[1;32m--> 795\u001b[1;33m     X = check_array(X, accept_sparse=accept_sparse,\n\u001b[0m\u001b[0;32m    796\u001b[0m                     \u001b[0maccept_large_sparse\u001b[0m\u001b[1;33m=\u001b[0m\u001b[0maccept_large_sparse\u001b[0m\u001b[1;33m,\u001b[0m\u001b[1;33m\u001b[0m\u001b[1;33m\u001b[0m\u001b[0m\n\u001b[0;32m    797\u001b[0m                     \u001b[0mdtype\u001b[0m\u001b[1;33m=\u001b[0m\u001b[0mdtype\u001b[0m\u001b[1;33m,\u001b[0m \u001b[0morder\u001b[0m\u001b[1;33m=\u001b[0m\u001b[0morder\u001b[0m\u001b[1;33m,\u001b[0m \u001b[0mcopy\u001b[0m\u001b[1;33m=\u001b[0m\u001b[0mcopy\u001b[0m\u001b[1;33m,\u001b[0m\u001b[1;33m\u001b[0m\u001b[1;33m\u001b[0m\u001b[0m\n",
      "\u001b[1;32m~\\anaconda3\\lib\\site-packages\\sklearn\\utils\\validation.py\u001b[0m in \u001b[0;36minner_f\u001b[1;34m(*args, **kwargs)\u001b[0m\n\u001b[0;32m     70\u001b[0m                           FutureWarning)\n\u001b[0;32m     71\u001b[0m         \u001b[0mkwargs\u001b[0m\u001b[1;33m.\u001b[0m\u001b[0mupdate\u001b[0m\u001b[1;33m(\u001b[0m\u001b[1;33m{\u001b[0m\u001b[0mk\u001b[0m\u001b[1;33m:\u001b[0m \u001b[0marg\u001b[0m \u001b[1;32mfor\u001b[0m \u001b[0mk\u001b[0m\u001b[1;33m,\u001b[0m \u001b[0marg\u001b[0m \u001b[1;32min\u001b[0m \u001b[0mzip\u001b[0m\u001b[1;33m(\u001b[0m\u001b[0msig\u001b[0m\u001b[1;33m.\u001b[0m\u001b[0mparameters\u001b[0m\u001b[1;33m,\u001b[0m \u001b[0margs\u001b[0m\u001b[1;33m)\u001b[0m\u001b[1;33m}\u001b[0m\u001b[1;33m)\u001b[0m\u001b[1;33m\u001b[0m\u001b[1;33m\u001b[0m\u001b[0m\n\u001b[1;32m---> 72\u001b[1;33m         \u001b[1;32mreturn\u001b[0m \u001b[0mf\u001b[0m\u001b[1;33m(\u001b[0m\u001b[1;33m**\u001b[0m\u001b[0mkwargs\u001b[0m\u001b[1;33m)\u001b[0m\u001b[1;33m\u001b[0m\u001b[1;33m\u001b[0m\u001b[0m\n\u001b[0m\u001b[0;32m     73\u001b[0m     \u001b[1;32mreturn\u001b[0m \u001b[0minner_f\u001b[0m\u001b[1;33m\u001b[0m\u001b[1;33m\u001b[0m\u001b[0m\n\u001b[0;32m     74\u001b[0m \u001b[1;33m\u001b[0m\u001b[0m\n",
      "\u001b[1;32m~\\anaconda3\\lib\\site-packages\\sklearn\\utils\\validation.py\u001b[0m in \u001b[0;36mcheck_array\u001b[1;34m(array, accept_sparse, accept_large_sparse, dtype, order, copy, force_all_finite, ensure_2d, allow_nd, ensure_min_samples, ensure_min_features, estimator)\u001b[0m\n\u001b[0;32m    596\u001b[0m                     \u001b[0marray\u001b[0m \u001b[1;33m=\u001b[0m \u001b[0marray\u001b[0m\u001b[1;33m.\u001b[0m\u001b[0mastype\u001b[0m\u001b[1;33m(\u001b[0m\u001b[0mdtype\u001b[0m\u001b[1;33m,\u001b[0m \u001b[0mcasting\u001b[0m\u001b[1;33m=\u001b[0m\u001b[1;34m\"unsafe\"\u001b[0m\u001b[1;33m,\u001b[0m \u001b[0mcopy\u001b[0m\u001b[1;33m=\u001b[0m\u001b[1;32mFalse\u001b[0m\u001b[1;33m)\u001b[0m\u001b[1;33m\u001b[0m\u001b[1;33m\u001b[0m\u001b[0m\n\u001b[0;32m    597\u001b[0m                 \u001b[1;32melse\u001b[0m\u001b[1;33m:\u001b[0m\u001b[1;33m\u001b[0m\u001b[1;33m\u001b[0m\u001b[0m\n\u001b[1;32m--> 598\u001b[1;33m                     \u001b[0marray\u001b[0m \u001b[1;33m=\u001b[0m \u001b[0mnp\u001b[0m\u001b[1;33m.\u001b[0m\u001b[0masarray\u001b[0m\u001b[1;33m(\u001b[0m\u001b[0marray\u001b[0m\u001b[1;33m,\u001b[0m \u001b[0morder\u001b[0m\u001b[1;33m=\u001b[0m\u001b[0morder\u001b[0m\u001b[1;33m,\u001b[0m \u001b[0mdtype\u001b[0m\u001b[1;33m=\u001b[0m\u001b[0mdtype\u001b[0m\u001b[1;33m)\u001b[0m\u001b[1;33m\u001b[0m\u001b[1;33m\u001b[0m\u001b[0m\n\u001b[0m\u001b[0;32m    599\u001b[0m             \u001b[1;32mexcept\u001b[0m \u001b[0mComplexWarning\u001b[0m\u001b[1;33m:\u001b[0m\u001b[1;33m\u001b[0m\u001b[1;33m\u001b[0m\u001b[0m\n\u001b[0;32m    600\u001b[0m                 raise ValueError(\"Complex data not supported\\n\"\n",
      "\u001b[1;32m~\\anaconda3\\lib\\site-packages\\numpy\\core\\_asarray.py\u001b[0m in \u001b[0;36masarray\u001b[1;34m(a, dtype, order)\u001b[0m\n\u001b[0;32m     81\u001b[0m \u001b[1;33m\u001b[0m\u001b[0m\n\u001b[0;32m     82\u001b[0m     \"\"\"\n\u001b[1;32m---> 83\u001b[1;33m     \u001b[1;32mreturn\u001b[0m \u001b[0marray\u001b[0m\u001b[1;33m(\u001b[0m\u001b[0ma\u001b[0m\u001b[1;33m,\u001b[0m \u001b[0mdtype\u001b[0m\u001b[1;33m,\u001b[0m \u001b[0mcopy\u001b[0m\u001b[1;33m=\u001b[0m\u001b[1;32mFalse\u001b[0m\u001b[1;33m,\u001b[0m \u001b[0morder\u001b[0m\u001b[1;33m=\u001b[0m\u001b[0morder\u001b[0m\u001b[1;33m)\u001b[0m\u001b[1;33m\u001b[0m\u001b[1;33m\u001b[0m\u001b[0m\n\u001b[0m\u001b[0;32m     84\u001b[0m \u001b[1;33m\u001b[0m\u001b[0m\n\u001b[0;32m     85\u001b[0m \u001b[1;33m\u001b[0m\u001b[0m\n",
      "\u001b[1;32m~\\anaconda3\\lib\\site-packages\\pandas\\core\\generic.py\u001b[0m in \u001b[0;36m__array__\u001b[1;34m(self, dtype)\u001b[0m\n\u001b[0;32m   1779\u001b[0m \u001b[1;33m\u001b[0m\u001b[0m\n\u001b[0;32m   1780\u001b[0m     \u001b[1;32mdef\u001b[0m \u001b[0m__array__\u001b[0m\u001b[1;33m(\u001b[0m\u001b[0mself\u001b[0m\u001b[1;33m,\u001b[0m \u001b[0mdtype\u001b[0m\u001b[1;33m=\u001b[0m\u001b[1;32mNone\u001b[0m\u001b[1;33m)\u001b[0m \u001b[1;33m->\u001b[0m \u001b[0mnp\u001b[0m\u001b[1;33m.\u001b[0m\u001b[0mndarray\u001b[0m\u001b[1;33m:\u001b[0m\u001b[1;33m\u001b[0m\u001b[1;33m\u001b[0m\u001b[0m\n\u001b[1;32m-> 1781\u001b[1;33m         \u001b[1;32mreturn\u001b[0m \u001b[0mnp\u001b[0m\u001b[1;33m.\u001b[0m\u001b[0masarray\u001b[0m\u001b[1;33m(\u001b[0m\u001b[0mself\u001b[0m\u001b[1;33m.\u001b[0m\u001b[0m_values\u001b[0m\u001b[1;33m,\u001b[0m \u001b[0mdtype\u001b[0m\u001b[1;33m=\u001b[0m\u001b[0mdtype\u001b[0m\u001b[1;33m)\u001b[0m\u001b[1;33m\u001b[0m\u001b[1;33m\u001b[0m\u001b[0m\n\u001b[0m\u001b[0;32m   1782\u001b[0m \u001b[1;33m\u001b[0m\u001b[0m\n\u001b[0;32m   1783\u001b[0m     \u001b[1;32mdef\u001b[0m \u001b[0m__array_wrap__\u001b[0m\u001b[1;33m(\u001b[0m\u001b[0mself\u001b[0m\u001b[1;33m,\u001b[0m \u001b[0mresult\u001b[0m\u001b[1;33m,\u001b[0m \u001b[0mcontext\u001b[0m\u001b[1;33m=\u001b[0m\u001b[1;32mNone\u001b[0m\u001b[1;33m)\u001b[0m\u001b[1;33m:\u001b[0m\u001b[1;33m\u001b[0m\u001b[1;33m\u001b[0m\u001b[0m\n",
      "\u001b[1;32m~\\anaconda3\\lib\\site-packages\\numpy\\core\\_asarray.py\u001b[0m in \u001b[0;36masarray\u001b[1;34m(a, dtype, order)\u001b[0m\n\u001b[0;32m     81\u001b[0m \u001b[1;33m\u001b[0m\u001b[0m\n\u001b[0;32m     82\u001b[0m     \"\"\"\n\u001b[1;32m---> 83\u001b[1;33m     \u001b[1;32mreturn\u001b[0m \u001b[0marray\u001b[0m\u001b[1;33m(\u001b[0m\u001b[0ma\u001b[0m\u001b[1;33m,\u001b[0m \u001b[0mdtype\u001b[0m\u001b[1;33m,\u001b[0m \u001b[0mcopy\u001b[0m\u001b[1;33m=\u001b[0m\u001b[1;32mFalse\u001b[0m\u001b[1;33m,\u001b[0m \u001b[0morder\u001b[0m\u001b[1;33m=\u001b[0m\u001b[0morder\u001b[0m\u001b[1;33m)\u001b[0m\u001b[1;33m\u001b[0m\u001b[1;33m\u001b[0m\u001b[0m\n\u001b[0m\u001b[0;32m     84\u001b[0m \u001b[1;33m\u001b[0m\u001b[0m\n\u001b[0;32m     85\u001b[0m \u001b[1;33m\u001b[0m\u001b[0m\n",
      "\u001b[1;31mValueError\u001b[0m: could not convert string to float: '-'"
     ]
    }
   ],
   "source": [
    "# preparando os atributos\n",
    "Xcla = dtrain[['tax','total','insurance']]\n",
    "Ycla = dtrain['city']\n",
    "\n",
    "# dados de teste\n",
    "ZXcla = dtest[['tax','total','insurance']]\n",
    "ZYcla = dtest['city']\n",
    "\n",
    "# classificador\n",
    "clfb = RandomForestClassifier(n_estimators=50, random_state=1)\n",
    "clfb.fit(Xcla,Ycla)\n",
    "ZYcla_ = clfb.predict(ZXcla)"
   ]
  },
  {
   "cell_type": "markdown",
   "metadata": {},
   "source": [
    "**Encontramos o primeiro erro! Vamos olhar para os atributos antes de treinar...**\n",
    "Note que o erro é de conversão de string para float. Vamos imprimir os tipos dos atributos e seus valores únicos:"
   ]
  },
  {
   "cell_type": "code",
   "execution_count": 5,
   "metadata": {},
   "outputs": [
    {
     "data": {
      "text/plain": [
       "city                object\n",
       "area               float64\n",
       "rooms              float64\n",
       "bathroom             int64\n",
       "parking spaces     float64\n",
       "floor               object\n",
       "hoa                  int64\n",
       "rent                 int64\n",
       "tax                 object\n",
       "insurance            int64\n",
       "total              float64\n",
       "page hits            int64\n",
       "days available       int64\n",
       "interactions         int64\n",
       "weeks available      int64\n",
       "type                object\n",
       "dtype: object"
      ]
     },
     "execution_count": 5,
     "metadata": {},
     "output_type": "execute_result"
    }
   ],
   "source": [
    "data.dtypes"
   ]
  },
  {
   "cell_type": "code",
   "execution_count": 5,
   "metadata": {},
   "outputs": [
    {
     "name": "stdout",
     "output_type": "stream",
     "text": [
      "city : object\n",
      "\t 6 distintos: ['Rio de Janeiro' 'São Paulo' 'Belo Horizonte' 'Porto Alegre' 'Campinas'\n",
      " 'Brotas']\n",
      "area : float64, intervalo: 12.0 , 24606.0\n",
      "rooms : float64, intervalo: 1.0 , 10.0\n",
      "bathroom : int64, intervalo: 1 , 20\n",
      "parking spaces : float64, intervalo: 1.0 , 8.0\n",
      "floor : object\n",
      "\t 30 distintos: ['7' '5' '3' '11' '-' '2' '15' '6' '1' '20' '4' '17' '21' '8' '13' '9'\n",
      " '18' '12' '10' '19' '14' '23' '22' '26' '25' '16' '27' '110' '24' '28']\n",
      "hoa : int64, intervalo: 0 , 81150\n",
      "rent : int64, intervalo: 450 , 30000\n",
      "tax : object\n",
      "\t 724 distintos: ['369' '103' '804' '0' '219' '303' '309' '59' '334' '77' '280' '182' '317'\n",
      " '1297' '1250' '250' '17' '21' '63' '100' '688' '200' '212' '432' '34'\n",
      " '30' '233' '129' '14' '120' '209' '473' '142' '293' '883' '464' '23'\n",
      " '117' '260' '970' '84' '113' '602' '42' '1100' '80' '50' '6' '593' '2900'\n",
      " '25' '104' '167' '67' '213' '1046' '1750' '622' '565' '325' '60' '9'\n",
      " '709' '165' '27' '1334' '3151' '13' '242' '69' '1031' '110' '79' '425'\n",
      " '734' '15' '170' '312' '943' '234' '166' '292' '223' '192' '631' '959'\n",
      " '917' '18' '365' '220' '150' '28' '155' '952' '91' '395' '350' '253'\n",
      " '431' '71' '40' '352' '584' '135' '1125' '58' '130' '24' '1033' '500'\n",
      " '835' '197' '420' '11' '750' '5' '772' '171' '38' '259' '2312' '570'\n",
      " '138' '475' '2176' '43' '267' '125' '152' '513' '1834' '243' '600' '354'\n",
      " '198' '552' '108' '379' '12' '1720' '1000' '85' '283' '359' '421' '930'\n",
      " '295' '148' '75' '70' '134' '2360' '1189' '520' '56' '217' '270' '54'\n",
      " '1193' '35' '111' '951' '899' '390' '132' '891' '509' '690' '556' '620'\n",
      " '429' '225' '99' '169' '852' '245' '133' '-' '74' '76' '101' '410' '1057'\n",
      " '194' '2667' '266' '115' '48' '381' '124' '221' '44' '105' '65' '1975'\n",
      " '92' '1084' '203' '367' '382' '519' '654' '140' '112' '1667' '109' '107'\n",
      " '1500' '767' '550' '55' '667' '53' '47' '284' '177' '144' '817' '512'\n",
      " '90' '46' '127' '275' '2' '269' '57' '1015' '277' '39' '5000' '375' '276'\n",
      " '7859' '834' '291' '300' '560' '418' '20' '180' '1680' '279' '227' '634'\n",
      " '226' '2016' '530' '892' '249' '650' '62' '725' '360' '467' '920' '803'\n",
      " '3334' '511' '3' '341' '495' '15000' '1792' '858' '682' '1839' '361' '1'\n",
      " '825' '355' '808' '93' '2435' '1480' '136' '396' '4417' '230' '26' '428'\n",
      " '141' '195' '2495' '586' '208' '417' '172' '72' '414' '86' '643' '305'\n",
      " '710' '459' '648' '717' '2180' '400' '1735' '715' '1417' '184' '1156'\n",
      " '735' '452' '349' '237' '64' '255' '264' '1400' '183' '502' '489' '68'\n",
      " '4' '607' '1003' '45' '156' '202' '147' '37' '394' '646' '21880' '247'\n",
      " '507' '304' '1484' '358' '160' '529' '490' '268' '244' '525' '241' '575'\n",
      " '149' '454' '73' '383' '1042' '1095' '2200' '224' '568' '4000' '323'\n",
      " '28120' '313' '41' '567' '248' '542' '775' '154' '145' '298' '430' '594'\n",
      " '809' '399' '123' '114' '931' '1800' '1223' '175' '669' '792' '36' '384'\n",
      " '82' '296' '846' '392' '78' '1025' '442' '423' '604' '81' '2250' '621'\n",
      " '299' '492' '1167' '796' '1700' '1713' '450' '271' '468' 'nsa' '527'\n",
      " '386' '207' '472' '1350' '534' '692' '---' '31' '2240' '2600' '1063'\n",
      " '505' '98' '1896' '474' '116' '1900' '1917' '95' '343' '179' '159' '190'\n",
      " '434' '637' '413' '890' '1520' '900' '589' '196' '378' '22' '176' '546'\n",
      " '8' '89' '289' '486' '2167' '9900' '88' '1370' '582' '158' '554' '66'\n",
      " '409' '16' '1360' '2134' '537' '517' '290' '711' '1329' '1032' '2334'\n",
      " '188' '820' '97' '460' '51' '32' '240' '162' '955' '1650' '2087' '480'\n",
      " '645' '121' '118' '238' '2000' '236' '1437' '1112' '128' '347' '94' '444'\n",
      " '651' '199' '131' '215' '310' '239' '218' '700' '411' '7' '2506' '315'\n",
      " '522' '340' '311' '3084' '205' '380' '214' '2320' '370' '285' '235' '914'\n",
      " '559' '845' '33' '1150' '2241' '504' '613' '1060' '2050' '440' '10'\n",
      " '1017' '222' '691' '684' '1067' '83' '178' '756' '206' '850' '1081' '609'\n",
      " '61' '742' '1275' '466' '252' '251' '3700' '324' '3129' '483' '1200'\n",
      " '496' '1072' '1308' '2475' '29' '532' '265' '470' '1231' '122' '351'\n",
      " '1180' '337' '795' '675' '848' '332' '5200' '828' '625' '201' '87' '1118'\n",
      " '1220' '950' '187' '232' '314' '2936' '308' '164' '338' '800' '278' '273'\n",
      " '119' '788' '321' '52' '790' '491' '896' '3917' '2441' '402' '153' '2186'\n",
      " '2500' '435' '2482' '2300' '210' '146' '506' '1255' '2084' '1041' '1630'\n",
      " '903' '186' '185' '1580' '573' '49' '364' '1126' '561' '595' '424' '591'\n",
      " '3000' '216' '1644' '348' '2863' '1006' '403' '1339' '2731' '376' '1119'\n",
      " '471' '2120' '2484' '5700' '163' '1265' '189' '1316' '229' '768' '590'\n",
      " '997' '96' '371' '419' '962' '996' '849' '408' '1584' '940' '173' '510'\n",
      " '1209' '1454' '294' '3007' '680' '779' '751' '597' '1947' '2661' '1666'\n",
      " '385' '137' '737' '1096' '204' '106' '730' '126' '1336' '426' '518' '246'\n",
      " '1816' '1875' '19' '1021' '328' '1201' '990' '357' '5834' '448' '336'\n",
      " '2536' '865' '1435' '1040' '704' '331' '484' '1210' '301' '1466' '535'\n",
      " '1514' '458' '1292' '1702' '523' '862' '555' '1130' '856' '538' '1192'\n",
      " '642' '287' '1261' '3461' '720' '1059' '1830' '713' '443' '333' '356'\n",
      " '139' '1085' '759' '587' '228' '344' '698' '1165' '1431' '1160' '576'\n",
      " '3200' '1345' '1144' '757' '342']\n",
      "insurance : int64, intervalo: 5 , 451\n",
      "total : float64, intervalo: 499.0 , 95608.0\n",
      "page hits : int64, intervalo: 0 , 6156\n",
      "days available : int64, intervalo: 0 , 358\n",
      "interactions : int64, intervalo: 0 , 2052\n",
      "weeks available : int64, intervalo: 0 , 51\n",
      "type : object\n",
      "\t 2 distintos: ['flat' 'house']\n"
     ]
    }
   ],
   "source": [
    "for var in dtrain:\n",
    "    # imprime variavel e seu tipo\n",
    "    print(var,\":\", dtrain[var].dtype.name, end=\"\")\n",
    "    # se nao numérico\n",
    "    if not np.issubdtype(dtrain[var].dtype, np.number):\n",
    "        print(\"\\n\\t\",dtrain[var].nunique(), \"distintos: \", end=\"\")\n",
    "        print(dtrain[var].unique())\n",
    "    else:\n",
    "        print(\", intervalo: \",end=\"\")\n",
    "        print(dtrain[var].min(), \",\", dtrain[var].max())"
   ]
  },
  {
   "cell_type": "markdown",
   "metadata": {},
   "source": [
    "Note que:\n",
    "* `city` e `type` são do tipo object contendo strings (palavras), \n",
    "* `floor` e `tax` aparecem como object mas contendo números!\n",
    "\n",
    "Precisamos procurar por problemas e remover os valores não numéricos como `-`. \n",
    "\n",
    "Uma forma fácil é simplesmente forçar a **conversão para numérico** e atribuir `NaN` aos elementos não convertidos.\n",
    "\n",
    "1. `floor` possui um único valor não numérico `-`:"
   ]
  },
  {
   "cell_type": "code",
   "execution_count": 6,
   "metadata": {},
   "outputs": [
    {
     "name": "stdout",
     "output_type": "stream",
     "text": [
      "['7' '5' '3' '11' '-' '2' '15' '6' '1' '20' '4' '17' '21' '8' '13' '9'\n",
      " '18' '12' '10' '19' '14' '23' '22' '26' '25' '16' '27' '110' '24' '28']\n"
     ]
    },
    {
     "data": {
      "image/png": "[encoded data removed]",
      "text/plain": [
       "<Figure size 432x432 with 1 Axes>"
      ]
     },
     "metadata": {
      "needs_background": "light"
     },
     "output_type": "display_data"
    }
   ],
   "source": [
    "plt.figure(figsize=(6,6))\n",
    "h = plt.hist(dtrain.loc[:,'floor'])\n",
    "h = plt.xticks(rotation=90)\n",
    "print(dtrain.loc[:,'floor'].unique())"
   ]
  },
  {
   "cell_type": "markdown",
   "metadata": {},
   "source": [
    "Esse valor parece estar relacionado ao `0` (térreo)"
   ]
  },
  {
   "cell_type": "code",
   "execution_count": 8,
   "metadata": {},
   "outputs": [],
   "source": [
    "dtrain_orig = dtrain.copy()\n",
    "\n",
    "# substituir `-` por `0`\n",
    "dtrain.loc[dtrain['floor']=='-','floor'] = '0'\n",
    "\n",
    "# coerce obriga a conversão, jogando para NaN o que não foi convertido\n",
    "dtrain.loc[:,'floor'] = pd.to_numeric(dtrain.loc[:,'floor'], \n",
    "                                      downcast='integer', errors='coerce')\n",
    "\n",
    "# tax será convertido diretamente\n",
    "dtrain.loc[:,'tax'] = pd.to_numeric(dtrain.loc[:,'tax'], \n",
    "                                    downcast='float', errors='coerce')"
   ]
  },
  {
   "cell_type": "code",
   "execution_count": 9,
   "metadata": {},
   "outputs": [],
   "source": [
    "# vamos fazer o mesmo com o teste\n",
    "dtest.loc[dtest['floor']=='-','floor'] = '0'\n",
    "dtest.loc[:,'floor'] = pd.to_numeric(dtest.loc[:,'floor'], downcast='integer', errors='coerce')\n",
    "dtest.loc[:,'tax'] = pd.to_numeric(dtest.loc[:,'tax'], downcast='float', errors='coerce')"
   ]
  },
  {
   "cell_type": "code",
   "execution_count": 10,
   "metadata": {},
   "outputs": [],
   "source": [
    "dtrain = dtrain.dropna()\n",
    "dtest = dtest.dropna()"
   ]
  },
  {
   "cell_type": "code",
   "execution_count": 11,
   "metadata": {},
   "outputs": [
    {
     "name": "stdout",
     "output_type": "stream",
     "text": [
      "Antes remoção faltantes: 3530, Depois: 2626\n"
     ]
    }
   ],
   "source": [
    "print(\"Antes remoção faltantes: %d, Depois: %d\" % (dtrain_orig.shape[0], dtrain.shape[0]))"
   ]
  },
  {
   "cell_type": "code",
   "execution_count": 12,
   "metadata": {},
   "outputs": [
    {
     "name": "stdout",
     "output_type": "stream",
     "text": [
      "city : object\n",
      "\t 6 distintos: ['Rio de Janeiro' 'São Paulo' 'Belo Horizonte' 'Porto Alegre' 'Campinas'\n",
      " 'Brotas']\n",
      "area : float64, intervalo: 20.0 , 24606.0\n",
      "rooms : float64, intervalo: 1.0 , 10.0\n",
      "bathroom : int64, intervalo: 1 , 20\n",
      "parking spaces : float64, intervalo: 1.0 , 8.0\n",
      "floor : int8, intervalo: 0 , 110\n",
      "hoa : int64, intervalo: 0 , 14000\n",
      "rent : int64, intervalo: 500 , 30000\n",
      "tax : float32, intervalo: 0.0 , 28120.0\n",
      "insurance : int64, intervalo: 5 , 451\n",
      "total : float64, intervalo: 559.0 , 32183.0\n",
      "page hits : int64, intervalo: 0 , 6156\n",
      "days available : int64, intervalo: 0 , 358\n",
      "interactions : int64, intervalo: 0 , 2052\n",
      "weeks available : int64, intervalo: 0 , 51\n",
      "type : object\n",
      "\t 2 distintos: ['flat' 'house']\n",
      "Antes: 3530, Depois: 2626\n"
     ]
    }
   ],
   "source": [
    "for var in dtrain:\n",
    "    # imprime variavel e seu tipo\n",
    "    print(var,\":\", dtrain[var].dtype.name, end=\"\")\n",
    "    # se nao numérico\n",
    "    if not np.issubdtype(dtrain[var].dtype, np.number):\n",
    "        print(\"\\n\\t\",dtrain[var].nunique(), \"distintos: \", end=\"\")\n",
    "        print(dtrain[var].unique())\n",
    "    else:\n",
    "        print(\", intervalo: \",end=\"\")\n",
    "        print(dtrain[var].min(), \",\", dtrain[var].max())\n",
    "        \n",
    "print(\"Antes: %d, Depois: %d\" % (dtrain_orig.shape[0], dtrain.shape[0]))"
   ]
  },
  {
   "cell_type": "markdown",
   "metadata": {},
   "source": [
    "###  Tratando duplicatas"
   ]
  },
  {
   "cell_type": "code",
   "execution_count": 14,
   "metadata": {},
   "outputs": [],
   "source": [
    "x=2\n",
    "y=5"
   ]
  },
  {
   "cell_type": "code",
   "execution_count": null,
   "metadata": {},
   "outputs": [],
   "source": []
  },
  {
   "cell_type": "code",
   "execution_count": 13,
   "metadata": {},
   "outputs": [
    {
     "name": "stdout",
     "output_type": "stream",
     "text": [
      "Antes: 2626, Depois: 2454\n"
     ]
    }
   ],
   "source": [
    "dtrain_nd = dtrain.drop_duplicates(keep='first')\n",
    "print(\"Antes: %d, Depois: %d\" % (dtrain.shape[0], dtrain_nd.shape[0]))"
   ]
  },
  {
   "cell_type": "code",
   "execution_count": 14,
   "metadata": {},
   "outputs": [
    {
     "name": "stdout",
     "output_type": "stream",
     "text": [
      "Original: 2626, Tratado: 2454\n"
     ]
    }
   ],
   "source": [
    "# preparando os atributos\n",
    "attrsclass = ['tax','total','insurance','rooms', 'bathroom', 'area']\n",
    "Xcla = dtrain[attrsclass]\n",
    "Ycla = dtrain['city']\n",
    "\n",
    "# dados de teste\n",
    "ZXcla = dtest[attrsclass]\n",
    "ZYcla = dtest['city']\n",
    "\n",
    "# classificador\n",
    "clfb = RandomForestClassifier(n_estimators=50, random_state=1)\n",
    "clfb.fit(Xcla,Ycla)\n",
    "ZYcla_ = clfb.predict(ZXcla)\n",
    "\n",
    "# dados sem duplicatas\n",
    "Xcla_nd = dtrain_nd[attrsclass]\n",
    "Ycla_nd = dtrain_nd['city']\n",
    "\n",
    "# classificador dados não duplicados\n",
    "clfnd = RandomForestClassifier(n_estimators=50, random_state=1)\n",
    "clfnd.fit(Xcla_nd,Ycla_nd)\n",
    "ZYcland_ = clfnd.predict(ZXcla)\n",
    "\n",
    "print(\"Original: %d, Tratado: %d\" % (Xcla.shape[0], Xcla_nd.shape[0]))"
   ]
  },
  {
   "cell_type": "markdown",
   "metadata": {},
   "source": [
    "É importante verificar como é a **distribuição das classes** nessa base de dados para utilizar a medida adequada de avaliação"
   ]
  },
  {
   "cell_type": "code",
   "execution_count": 15,
   "metadata": {},
   "outputs": [
    {
     "data": {
      "text/plain": [
       "São Paulo         1652\n",
       "Belo Horizonte     318\n",
       "Rio de Janeiro     245\n",
       "Porto Alegre       216\n",
       "Campinas           192\n",
       "Brotas               3\n",
       "Name: city, dtype: int64"
      ]
     },
     "execution_count": 15,
     "metadata": {},
     "output_type": "execute_result"
    }
   ],
   "source": [
    "dtrain['city'].value_counts()"
   ]
  },
  {
   "cell_type": "markdown",
   "metadata": {},
   "source": [
    "Como nesse caso as classes não são igualmente distribuídas, vamos computar, além da acurácia simples, também a *acurácia balanceada*"
   ]
  },
  {
   "cell_type": "code",
   "execution_count": 16,
   "metadata": {},
   "outputs": [
    {
     "name": "stdout",
     "output_type": "stream",
     "text": [
      "Acurácia base: 70.14\n",
      "- sem duplicatas e com dados faltantes removidos: 69.66\n",
      "\n",
      "Acurácia balanceada base: 40.65\n",
      "- sem duplicatas e com dados faltantes removidos: 40.63\n"
     ]
    }
   ],
   "source": [
    "acc_base = metrics.accuracy_score(ZYcla, ZYcla_)\n",
    "acc_nd = metrics.accuracy_score(ZYcla, ZYcland_)\n",
    "print(\"Acurácia base: %0.2f\" % (acc_base*100))\n",
    "print(\"- sem duplicatas e com dados faltantes removidos: %0.2f\" % (acc_nd*100))\n",
    "\n",
    "ab_base = metrics.balanced_accuracy_score(ZYcla, ZYcla_)\n",
    "ab_nd = metrics.balanced_accuracy_score(ZYcla, ZYcland_)\n",
    "print(\"\\nAcurácia balanceada base: %0.2f\" % (ab_base*100))\n",
    "print(\"- sem duplicatas e com dados faltantes removidos: %0.2f\" % (ab_nd*100))"
   ]
  },
  {
   "cell_type": "code",
   "execution_count": 17,
   "metadata": {},
   "outputs": [],
   "source": [
    "# Treinando regressor\n",
    "## preparando atributos de entrada\n",
    "attrsreg = ['area','rooms','bathroom', 'floor'];\n",
    "Xreg = dtrain[attrsreg]\n",
    "## variável resposta/saída\n",
    "Yreg = dtrain['total']\n",
    "\n",
    "## preparando teste\n",
    "ZXreg = dtest[attrsreg]\n",
    "ZYreg = dtest['total']\n",
    "\n",
    "## dados sem duplicatas\n",
    "Xreg_nd = dtrain_nd[attrsreg]\n",
    "Yreg_nd = dtrain_nd['total']"
   ]
  },
  {
   "cell_type": "code",
   "execution_count": 18,
   "metadata": {},
   "outputs": [
    {
     "name": "stdout",
     "output_type": "stream",
     "text": [
      "Erro médio absoluto: 2638.399\n",
      "Erro médio absoluto após limpeza: 2635.644\n"
     ]
    }
   ],
   "source": [
    "regb = LinearRegression()\n",
    "regb.fit(Xreg, Yreg)\n",
    "ZYreg_ = regb.predict(ZXreg)\n",
    "\n",
    "reg_nd = LinearRegression()\n",
    "reg_nd.fit(Xreg_nd, Yreg_nd)\n",
    "ZYreg_nd_ = reg_nd.predict(ZXreg)\n",
    "\n",
    "mae_base = metrics.mean_absolute_error(ZYreg, ZYreg_)\n",
    "mae_nd = metrics.mean_absolute_error(ZYreg, ZYreg_nd_)\n",
    "print(\"Erro médio absoluto: %0.3f\" % (mae_base))\n",
    "print(\"Erro médio absoluto após limpeza: %0.3f\" % (mae_nd))"
   ]
  },
  {
   "cell_type": "markdown",
   "metadata": {},
   "source": [
    "Percorrendo atributos de interesse para remover outliers"
   ]
  },
  {
   "cell_type": "code",
   "execution_count": 19,
   "metadata": {},
   "outputs": [
    {
     "name": "stdout",
     "output_type": "stream",
     "text": [
      "Antes: 2454, Depois: 2167\n"
     ]
    }
   ],
   "source": [
    "def remove_outliers_IQR(df, attributes, factor=2):\n",
    "    \n",
    "    dfn = df.copy()\n",
    "    \n",
    "    for var in attributes:\n",
    "        # verifica se variável é numerica\n",
    "        if np.issubdtype(df[var].dtype, np.number):\n",
    "            Q1 = dfn[var].quantile(0.25)\n",
    "            Q2 = dfn[var].quantile(0.50)\n",
    "            Q3 = dfn[var].quantile(0.75)\n",
    "            IQR = Q3 - Q1\n",
    "            \n",
    "            # apenas inliers segundo IQR\n",
    "            dfn = dfn.loc[(df[var] >= Q1-(IQR*factor)) & (df[var] <= Q3+(IQR*factor)),:]\n",
    "\n",
    "    return dfn\n",
    "\n",
    "attributes = ['tax','total','insurance', 'area', 'rooms', 'bathroom']\n",
    "dtrain_out = remove_outliers_IQR(dtrain_nd, attributes)\n",
    "dtest_out = remove_outliers_IQR(dtest, attributes)\n",
    "\n",
    "print(\"Antes: %d, Depois: %d\" % (dtrain_nd.shape[0], dtrain_out.shape[0]))"
   ]
  },
  {
   "cell_type": "code",
   "execution_count": 20,
   "metadata": {},
   "outputs": [
    {
     "data": {
      "text/plain": [
       "<AxesSubplot:>"
      ]
     },
     "execution_count": 20,
     "metadata": {},
     "output_type": "execute_result"
    },
    {
     "data": {
      "image/png": "[encoded data removed]",
      "text/plain": [
       "<Figure size 864x360 with 1 Axes>"
      ]
     },
     "metadata": {
      "needs_background": "light"
     },
     "output_type": "display_data"
    }
   ],
   "source": [
    "plt.figure(figsize=(12,5))\n",
    "dtrain.boxplot(attributes)"
   ]
  },
  {
   "cell_type": "code",
   "execution_count": 21,
   "metadata": {},
   "outputs": [
    {
     "data": {
      "text/plain": [
       "<AxesSubplot:>"
      ]
     },
     "execution_count": 21,
     "metadata": {},
     "output_type": "execute_result"
    },
    {
     "data": {
      "image/png": "[encoded data removed]",
      "text/plain": [
       "<Figure size 864x360 with 1 Axes>"
      ]
     },
     "metadata": {
      "needs_background": "light"
     },
     "output_type": "display_data"
    }
   ],
   "source": [
    "plt.figure(figsize=(12,5))\n",
    "dtrain_out.boxplot(attributes)"
   ]
  },
  {
   "cell_type": "code",
   "execution_count": 22,
   "metadata": {},
   "outputs": [],
   "source": [
    "# Treinando classificador com dados após remoção de outliers\n",
    "Xclao = dtrain_out[attrsclass]\n",
    "Yclao = dtrain_out['city']\n",
    "ZXclao = dtest_out[attrsclass]\n",
    "ZYclao = dtest_out['city']\n",
    "\n",
    "clfo = RandomForestClassifier(n_estimators=50, random_state=1)\n",
    "clfo.fit(Xclao,Yclao)\n",
    "ZYcla_o_ = clfo.predict(ZXcla)"
   ]
  },
  {
   "cell_type": "code",
   "execution_count": 23,
   "metadata": {},
   "outputs": [
    {
     "name": "stdout",
     "output_type": "stream",
     "text": [
      "\n",
      "Acurácia balanceada base: 40.65\n",
      "- sem duplicatas e com dados faltantes removidos: 40.63\n",
      "- tratando outliers: 40.41\n"
     ]
    }
   ],
   "source": [
    "ab_o = metrics.balanced_accuracy_score(ZYcla, ZYcla_o_)\n",
    "print(\"\\nAcurácia balanceada base: %0.2f\" % (ab_base*100))\n",
    "print(\"- sem duplicatas e com dados faltantes removidos: %0.2f\" % (ab_nd*100))\n",
    "print(\"- tratando outliers: %0.2f\" % (ab_o*100))"
   ]
  },
  {
   "cell_type": "code",
   "execution_count": 25,
   "metadata": {},
   "outputs": [
    {
     "name": "stdout",
     "output_type": "stream",
     "text": [
      "Erro médio absoluto: 2638.40\n",
      "Erro médio absoluto limpeza: 2635.64\n",
      "Erro médio absoluto tratando outliers: 2378.14\n"
     ]
    }
   ],
   "source": [
    "# avaliando regressor\n",
    "Xreg_o = dtrain_out[attrsreg]\n",
    "Yreg_o = dtrain_out['total']\n",
    "\n",
    "reg_o = LinearRegression()\n",
    "reg_o.fit(Xreg_o, Yreg_o)\n",
    "ZYreg_o_ = reg_o.predict(ZXreg)\n",
    "\n",
    "mae_o = metrics.mean_absolute_error(ZYreg, ZYreg_o_)\n",
    "print(\"Erro médio absoluto: %0.2f\" % (mae_base))\n",
    "print(\"Erro médio absoluto limpeza: %0.2f\" % (mae_nd))\n",
    "print(\"Erro médio absoluto tratando outliers: %0.2f\" % (mae_o))"
   ]
  },
  {
   "cell_type": "markdown",
   "metadata": {},
   "source": [
    "#  Preenchendo dados faltantes\n",
    "\n",
    "No experimento anterior lidamos com dados faltantes **removendo linhas**, \n",
    "\n",
    "Agora vamos carregar novamente os dados e para **preencher os dados**, mantendo o tratamento de remoção de duplicatas, dos atributos string e de remoção de outliers\n",
    "\n",
    "Há várias formas de se preencher dados faltantes\n",
    "1. **com zeros**: \n",
    "    para manter a instância e permitir o uso dos outros atributos\n",
    "<br>    \n",
    "\n",
    "2. **pela média**: similar ao anterior, mas aqui preenchemos com a média do atributo para os valores observados\n",
    "<br>    \n",
    "\n",
    "3. **por vizinhos mais próximos**: refinamento do método da média, no qual, para cada valor faltante, primeiro encontramos as $k$ instâncias mais próximas àquela contendo o valor faltante e obtemos a média do atributo a partir dos $k$ vizinhos mais próximos\n",
    "<br>    \n",
    "\n",
    "4. **por regressão**: para cada atributo faltante, aprendemos um regressor capaz de predizer o atributo faltante com base em um ou mais atributos auxiliares"
   ]
  },
  {
   "cell_type": "code",
   "execution_count": 26,
   "metadata": {},
   "outputs": [
    {
     "name": "stdout",
     "output_type": "stream",
     "text": [
      "Dados originais: 3530, após remocao duplicatas: 3285\n",
      "Após remocao outliers: 2892\n"
     ]
    }
   ],
   "source": [
    "data = pd.read_csv(\"./dados/houses_to_rent_mba2.csv\")\n",
    "\n",
    "# obtem amostra dos dados para treinamento\n",
    "dtrain = data.sample(frac=frac_trein, random_state=1)\n",
    "dtest = data.drop(dtrain.index)\n",
    "\n",
    "dtrain_orig = dtrain.copy()\n",
    "\n",
    "# substituir - por 0\n",
    "dtrain.loc[dtrain['floor']=='-','floor'] = '0'\n",
    "# coerce obriga a conversão, jogando para Nan que não foi convertido\n",
    "dtrain.loc[:,'floor'] = pd.to_numeric(dtrain.loc[:,'floor'], downcast='integer', errors='coerce')\n",
    "dtrain.loc[:,'tax'] = pd.to_numeric(dtrain.loc[:,'tax'], downcast='float', errors='coerce')\n",
    "\n",
    "dtest.loc[dtest['floor']=='-','floor'] = '0'\n",
    "dtest.loc[:,'floor'] = pd.to_numeric(dtest.loc[:,'floor'], downcast='integer', errors='coerce')\n",
    "dtest.loc[:,'tax'] = pd.to_numeric(dtest.loc[:,'tax'], downcast='float', errors='coerce')\n",
    "\n",
    "# remove duplicatas\n",
    "dtrain_nd = dtrain.drop_duplicates(keep='first')\n",
    "print(\"Dados originais: %d, após remocao duplicatas: %d\" % (dtrain.shape[0], dtrain_nd.shape[0]))\n",
    "\n",
    "# remove outliers\n",
    "attributes = ['tax','total','insurance', 'bathroom']\n",
    "dtrain_out = remove_outliers_IQR(dtrain_nd, attributes)\n",
    "dtest_out = remove_outliers_IQR(dtest, attributes)\n",
    "\n",
    "print(\"Após remocao outliers: %d\" % (dtrain_out.shape[0]))"
   ]
  },
  {
   "cell_type": "code",
   "execution_count": 27,
   "metadata": {},
   "outputs": [],
   "source": [
    "def check_missing_att(df):\n",
    "    # verificando atributos faltantes\n",
    "    for var in df:\n",
    "        # somamos o número de variáveis nulas (NaN)\n",
    "        nullatt = np.sum(df[var].isnull())\n",
    "        if nullatt > 0:\n",
    "            print(var,\"- faltantes: \", end='')\n",
    "            print(nullatt)"
   ]
  },
  {
   "cell_type": "code",
   "execution_count": 28,
   "metadata": {
    "scrolled": false
   },
   "outputs": [
    {
     "name": "stdout",
     "output_type": "stream",
     "text": [
      "area - faltantes: 18\n",
      "rooms - faltantes: 22\n",
      "parking spaces - faltantes: 761\n"
     ]
    }
   ],
   "source": [
    "check_missing_att(dtrain_out)"
   ]
  },
  {
   "cell_type": "markdown",
   "metadata": {},
   "source": [
    "### Preenchimento pela média"
   ]
  },
  {
   "cell_type": "code",
   "execution_count": 29,
   "metadata": {},
   "outputs": [],
   "source": [
    "def fill_missing_average(df):\n",
    "        \n",
    "    dfn = df.copy()\n",
    "    for i in dfn:\n",
    "        nullatt = np.sum(dfn[i].isnull())\n",
    "        if nullatt == 0: continue\n",
    "        print(i, nullatt, 'faltantes')\n",
    "        \n",
    "        # obtem a media para os dados completos no atributo\n",
    "        # dfn[i].notnull() -> elementos completos no atributo i\n",
    "        # dfn.loc[dfn[i].notnull(),i] -> filtra os valores completos do atributo i\n",
    "        avg_compl = dfn.loc[dfn[i].notnull(),i].mean().astype(dfn[i].dtype)\n",
    "        print('\\tmédia =', avg_compl)\n",
    "        dfn.loc[dfn[i].isnull(),i] = avg_compl\n",
    "        \n",
    "    return dfn"
   ]
  },
  {
   "cell_type": "code",
   "execution_count": 30,
   "metadata": {},
   "outputs": [
    {
     "name": "stdout",
     "output_type": "stream",
     "text": [
      "area 18 faltantes\n",
      "\tmédia = 112.30967292971468\n",
      "rooms 22 faltantes\n",
      "\tmédia = 2.3142857142857145\n",
      "parking spaces 761 faltantes\n",
      "\tmédia = 1.8259033317691225\n"
     ]
    },
    {
     "data": {
      "text/html": [
       "<div>\n",
       "<style scoped>\n",
       "    .dataframe tbody tr th:only-of-type {\n",
       "        vertical-align: middle;\n",
       "    }\n",
       "\n",
       "    .dataframe tbody tr th {\n",
       "        vertical-align: top;\n",
       "    }\n",
       "\n",
       "    .dataframe thead th {\n",
       "        text-align: right;\n",
       "    }\n",
       "</style>\n",
       "<table border=\"1\" class=\"dataframe\">\n",
       "  <thead>\n",
       "    <tr style=\"text-align: right;\">\n",
       "      <th></th>\n",
       "      <th>city</th>\n",
       "      <th>area</th>\n",
       "      <th>rooms</th>\n",
       "      <th>bathroom</th>\n",
       "      <th>parking spaces</th>\n",
       "      <th>floor</th>\n",
       "      <th>hoa</th>\n",
       "      <th>rent</th>\n",
       "      <th>tax</th>\n",
       "      <th>insurance</th>\n",
       "      <th>total</th>\n",
       "      <th>page hits</th>\n",
       "      <th>days available</th>\n",
       "      <th>interactions</th>\n",
       "      <th>weeks available</th>\n",
       "      <th>type</th>\n",
       "    </tr>\n",
       "  </thead>\n",
       "  <tbody>\n",
       "    <tr>\n",
       "      <th>9572</th>\n",
       "      <td>São Paulo</td>\n",
       "      <td>80.0</td>\n",
       "      <td>3.0</td>\n",
       "      <td>1</td>\n",
       "      <td>1.825903</td>\n",
       "      <td>0</td>\n",
       "      <td>0</td>\n",
       "      <td>2837</td>\n",
       "      <td>342.0</td>\n",
       "      <td>36</td>\n",
       "      <td>3215.0</td>\n",
       "      <td>540</td>\n",
       "      <td>91</td>\n",
       "      <td>180</td>\n",
       "      <td>13</td>\n",
       "      <td>house</td>\n",
       "    </tr>\n",
       "    <tr>\n",
       "      <th>925</th>\n",
       "      <td>São Paulo</td>\n",
       "      <td>90.0</td>\n",
       "      <td>3.0</td>\n",
       "      <td>2</td>\n",
       "      <td>2.000000</td>\n",
       "      <td>5</td>\n",
       "      <td>1478</td>\n",
       "      <td>2500</td>\n",
       "      <td>355.0</td>\n",
       "      <td>32</td>\n",
       "      <td>4365.0</td>\n",
       "      <td>612</td>\n",
       "      <td>49</td>\n",
       "      <td>204</td>\n",
       "      <td>7</td>\n",
       "      <td>flat</td>\n",
       "    </tr>\n",
       "    <tr>\n",
       "      <th>4476</th>\n",
       "      <td>Belo Horizonte</td>\n",
       "      <td>80.0</td>\n",
       "      <td>1.0</td>\n",
       "      <td>2</td>\n",
       "      <td>1.825903</td>\n",
       "      <td>2</td>\n",
       "      <td>150</td>\n",
       "      <td>1100</td>\n",
       "      <td>68.0</td>\n",
       "      <td>15</td>\n",
       "      <td>1333.0</td>\n",
       "      <td>54</td>\n",
       "      <td>70</td>\n",
       "      <td>54</td>\n",
       "      <td>10</td>\n",
       "      <td>flat</td>\n",
       "    </tr>\n",
       "    <tr>\n",
       "      <th>3592</th>\n",
       "      <td>São Paulo</td>\n",
       "      <td>180.0</td>\n",
       "      <td>3.0</td>\n",
       "      <td>4</td>\n",
       "      <td>3.000000</td>\n",
       "      <td>3</td>\n",
       "      <td>1600</td>\n",
       "      <td>3500</td>\n",
       "      <td>65.0</td>\n",
       "      <td>45</td>\n",
       "      <td>5210.0</td>\n",
       "      <td>396</td>\n",
       "      <td>36</td>\n",
       "      <td>132</td>\n",
       "      <td>5</td>\n",
       "      <td>flat</td>\n",
       "    </tr>\n",
       "    <tr>\n",
       "      <th>10548</th>\n",
       "      <td>Belo Horizonte</td>\n",
       "      <td>26.0</td>\n",
       "      <td>1.0</td>\n",
       "      <td>1</td>\n",
       "      <td>1.000000</td>\n",
       "      <td>1</td>\n",
       "      <td>60</td>\n",
       "      <td>750</td>\n",
       "      <td>67.0</td>\n",
       "      <td>10</td>\n",
       "      <td>887.0</td>\n",
       "      <td>108</td>\n",
       "      <td>45</td>\n",
       "      <td>108</td>\n",
       "      <td>6</td>\n",
       "      <td>flat</td>\n",
       "    </tr>\n",
       "  </tbody>\n",
       "</table>\n",
       "</div>"
      ],
      "text/plain": [
       "                 city   area  rooms  bathroom  parking spaces  floor   hoa  \\\n",
       "9572        São Paulo   80.0    3.0         1        1.825903      0     0   \n",
       "925         São Paulo   90.0    3.0         2        2.000000      5  1478   \n",
       "4476   Belo Horizonte   80.0    1.0         2        1.825903      2   150   \n",
       "3592        São Paulo  180.0    3.0         4        3.000000      3  1600   \n",
       "10548  Belo Horizonte   26.0    1.0         1        1.000000      1    60   \n",
       "\n",
       "       rent    tax  insurance   total  page hits  days available  \\\n",
       "9572   2837  342.0         36  3215.0        540              91   \n",
       "925    2500  355.0         32  4365.0        612              49   \n",
       "4476   1100   68.0         15  1333.0         54              70   \n",
       "3592   3500   65.0         45  5210.0        396              36   \n",
       "10548   750   67.0         10   887.0        108              45   \n",
       "\n",
       "       interactions  weeks available   type  \n",
       "9572            180               13  house  \n",
       "925             204                7   flat  \n",
       "4476             54               10   flat  \n",
       "3592            132                5   flat  \n",
       "10548           108                6   flat  "
      ]
     },
     "execution_count": 30,
     "metadata": {},
     "output_type": "execute_result"
    }
   ],
   "source": [
    "dtrain_mism = fill_missing_average(dtrain_out)\n",
    "\n",
    "check_missing_att(dtrain_mism)\n",
    "dtrain_mism.tail()"
   ]
  },
  {
   "cell_type": "code",
   "execution_count": 47,
   "metadata": {},
   "outputs": [],
   "source": [
    "def fill_missing_regression(df, attributes, attributes_reg):\n",
    "    \"\"\" Funcao para preencher dados faltantes por regressao\n",
    "        parametros:\n",
    "            df - dataframe\n",
    "            attributes - lista de atributos a preencher (alvo/saida)\n",
    "            attributes_reg - lista dos respectivos atributos a serem usados na regressao\n",
    "                             como variaveis de entrada\n",
    "    \"\"\"\n",
    "    \n",
    "    dfn = df.copy()\n",
    "    print(len(attributes), ' attributos: ')\n",
    "    for i in range(len(attributes)):\n",
    "        print('-', i, ': preencher ', attributes[i], ' usando ', attributes_reg[i], end=' -- ')\n",
    "        nullatt = np.sum(dfn[attributes[i]].isnull())\n",
    "        print(nullatt, ' faltantes')\n",
    "        if nullatt == 0: continue\n",
    "        \n",
    "        # atributo de entrada para dados completos\n",
    "        Xa = np.array(dfn.loc[dfn[attributes[i]].notnull() & dfn[attributes_reg[i]].notnull(), \n",
    "                              attributes_reg[i]])\n",
    "        # atributo de saida para dados completos\n",
    "        Ya = np.array(dfn.loc[dfn[attributes[i]].notnull() & dfn[attributes_reg[i]].notnull(), \n",
    "                              attributes[i]])\n",
    "        \n",
    "        reg = LinearRegression()\n",
    "        reg.fit(Xa.reshape(-1, 1), Ya.reshape(-1, 1))\n",
    "        \n",
    "        # seleciona as variáveis de entrada \n",
    "        # relativa aos valores faltantes para fazer a regressao\n",
    "        Zr = dfn.loc[ dfn[attributes[i]].isnull(), attributes_reg[i]]\n",
    "        \n",
    "        # prediz as variaveis faltantes\n",
    "        Za = reg.predict( (np.array(Zr)).reshape(-1, 1) )\n",
    "\n",
    "        # monta array para substituir a variavel agora preenchida\n",
    "        att_fill = np.array(dfn.loc[:, attributes[i]])\n",
    "        att_fill[np.where(np.isnan(att_fill))] = np.array(Za.flatten()).astype(int)\n",
    "        dfn.loc[:,attributes[i]] = att_fill.astype(np.int32)\n",
    "        #print(dfn.loc[df[attributes[i]].isnull(), attributes[i]])\n",
    "        \n",
    "    return dfn"
   ]
  },
  {
   "cell_type": "code",
   "execution_count": 48,
   "metadata": {},
   "outputs": [
    {
     "name": "stdout",
     "output_type": "stream",
     "text": [
      "4  attributos: \n",
      "- 0 : preencher  rooms  usando  area -- 22  faltantes\n",
      "- 1 : preencher  parking spaces  usando  rent -- 761  faltantes\n",
      "- 2 : preencher  area  usando  tax -- 18  faltantes\n",
      "- 3 : preencher  tax  usando  hoa -- 0  faltantes\n"
     ]
    }
   ],
   "source": [
    "attributes     = ['rooms', 'parking spaces', 'area', 'tax']\n",
    "attributes_reg = ['area', 'rent', 'tax', 'hoa']\n",
    "\n",
    "dtrain_misr = fill_missing_regression(dtrain_out, attributes, attributes_reg)\n",
    "\n",
    "check_missing_att(dtrain_misr)"
   ]
  },
  {
   "cell_type": "code",
   "execution_count": 49,
   "metadata": {},
   "outputs": [
    {
     "data": {
      "text/html": [
       "<div>\n",
       "<style scoped>\n",
       "    .dataframe tbody tr th:only-of-type {\n",
       "        vertical-align: middle;\n",
       "    }\n",
       "\n",
       "    .dataframe tbody tr th {\n",
       "        vertical-align: top;\n",
       "    }\n",
       "\n",
       "    .dataframe thead th {\n",
       "        text-align: right;\n",
       "    }\n",
       "</style>\n",
       "<table border=\"1\" class=\"dataframe\">\n",
       "  <thead>\n",
       "    <tr style=\"text-align: right;\">\n",
       "      <th></th>\n",
       "      <th>city</th>\n",
       "      <th>area</th>\n",
       "      <th>rooms</th>\n",
       "      <th>bathroom</th>\n",
       "      <th>parking spaces</th>\n",
       "      <th>floor</th>\n",
       "      <th>hoa</th>\n",
       "      <th>rent</th>\n",
       "      <th>tax</th>\n",
       "      <th>insurance</th>\n",
       "      <th>total</th>\n",
       "      <th>page hits</th>\n",
       "      <th>days available</th>\n",
       "      <th>interactions</th>\n",
       "      <th>weeks available</th>\n",
       "      <th>type</th>\n",
       "    </tr>\n",
       "  </thead>\n",
       "  <tbody>\n",
       "    <tr>\n",
       "      <th>9572</th>\n",
       "      <td>São Paulo</td>\n",
       "      <td>80</td>\n",
       "      <td>3</td>\n",
       "      <td>1</td>\n",
       "      <td>1</td>\n",
       "      <td>0</td>\n",
       "      <td>0</td>\n",
       "      <td>2837</td>\n",
       "      <td>342.0</td>\n",
       "      <td>36</td>\n",
       "      <td>3215.0</td>\n",
       "      <td>540</td>\n",
       "      <td>91</td>\n",
       "      <td>180</td>\n",
       "      <td>13</td>\n",
       "      <td>house</td>\n",
       "    </tr>\n",
       "    <tr>\n",
       "      <th>925</th>\n",
       "      <td>São Paulo</td>\n",
       "      <td>90</td>\n",
       "      <td>3</td>\n",
       "      <td>2</td>\n",
       "      <td>2</td>\n",
       "      <td>5</td>\n",
       "      <td>1478</td>\n",
       "      <td>2500</td>\n",
       "      <td>355.0</td>\n",
       "      <td>32</td>\n",
       "      <td>4365.0</td>\n",
       "      <td>612</td>\n",
       "      <td>49</td>\n",
       "      <td>204</td>\n",
       "      <td>7</td>\n",
       "      <td>flat</td>\n",
       "    </tr>\n",
       "    <tr>\n",
       "      <th>4476</th>\n",
       "      <td>Belo Horizonte</td>\n",
       "      <td>80</td>\n",
       "      <td>1</td>\n",
       "      <td>2</td>\n",
       "      <td>1</td>\n",
       "      <td>2</td>\n",
       "      <td>150</td>\n",
       "      <td>1100</td>\n",
       "      <td>68.0</td>\n",
       "      <td>15</td>\n",
       "      <td>1333.0</td>\n",
       "      <td>54</td>\n",
       "      <td>70</td>\n",
       "      <td>54</td>\n",
       "      <td>10</td>\n",
       "      <td>flat</td>\n",
       "    </tr>\n",
       "    <tr>\n",
       "      <th>3592</th>\n",
       "      <td>São Paulo</td>\n",
       "      <td>180</td>\n",
       "      <td>3</td>\n",
       "      <td>4</td>\n",
       "      <td>3</td>\n",
       "      <td>3</td>\n",
       "      <td>1600</td>\n",
       "      <td>3500</td>\n",
       "      <td>65.0</td>\n",
       "      <td>45</td>\n",
       "      <td>5210.0</td>\n",
       "      <td>396</td>\n",
       "      <td>36</td>\n",
       "      <td>132</td>\n",
       "      <td>5</td>\n",
       "      <td>flat</td>\n",
       "    </tr>\n",
       "    <tr>\n",
       "      <th>10548</th>\n",
       "      <td>Belo Horizonte</td>\n",
       "      <td>26</td>\n",
       "      <td>1</td>\n",
       "      <td>1</td>\n",
       "      <td>1</td>\n",
       "      <td>1</td>\n",
       "      <td>60</td>\n",
       "      <td>750</td>\n",
       "      <td>67.0</td>\n",
       "      <td>10</td>\n",
       "      <td>887.0</td>\n",
       "      <td>108</td>\n",
       "      <td>45</td>\n",
       "      <td>108</td>\n",
       "      <td>6</td>\n",
       "      <td>flat</td>\n",
       "    </tr>\n",
       "  </tbody>\n",
       "</table>\n",
       "</div>"
      ],
      "text/plain": [
       "                 city  area  rooms  bathroom  parking spaces  floor   hoa  \\\n",
       "9572        São Paulo    80      3         1               1      0     0   \n",
       "925         São Paulo    90      3         2               2      5  1478   \n",
       "4476   Belo Horizonte    80      1         2               1      2   150   \n",
       "3592        São Paulo   180      3         4               3      3  1600   \n",
       "10548  Belo Horizonte    26      1         1               1      1    60   \n",
       "\n",
       "       rent    tax  insurance   total  page hits  days available  \\\n",
       "9572   2837  342.0         36  3215.0        540              91   \n",
       "925    2500  355.0         32  4365.0        612              49   \n",
       "4476   1100   68.0         15  1333.0         54              70   \n",
       "3592   3500   65.0         45  5210.0        396              36   \n",
       "10548   750   67.0         10   887.0        108              45   \n",
       "\n",
       "       interactions  weeks available   type  \n",
       "9572            180               13  house  \n",
       "925             204                7   flat  \n",
       "4476             54               10   flat  \n",
       "3592            132                5   flat  \n",
       "10548           108                6   flat  "
      ]
     },
     "execution_count": 49,
     "metadata": {},
     "output_type": "execute_result"
    }
   ],
   "source": [
    "dtrain_misr.tail()"
   ]
  },
  {
   "cell_type": "code",
   "execution_count": 50,
   "metadata": {},
   "outputs": [],
   "source": [
    "# Treinando classificador preenchimento media\n",
    "Xclamism = dtrain_mism[attrsclass]\n",
    "Yclamism = dtrain_mism['city']\n",
    "\n",
    "clfmm =  RandomForestClassifier(n_estimators=50, random_state=1)\n",
    "clfmm.fit(Xclamism,Yclamism)\n",
    "ZYcla_mm_ = clfmm.predict(ZXcla)\n",
    "\n",
    "# Treinando classificador prenchimento pelo regressor\n",
    "Xclamisr = dtrain_misr[attrsclass]\n",
    "Yclamisr = dtrain_misr['city']\n",
    "\n",
    "clfmr =  RandomForestClassifier(n_estimators=50, random_state=1)\n",
    "clfmr.fit(Xclamisr,Yclamisr)\n",
    "ZYcla_mr_ = clfmr.predict(ZXcla)"
   ]
  },
  {
   "cell_type": "code",
   "execution_count": 51,
   "metadata": {},
   "outputs": [
    {
     "name": "stdout",
     "output_type": "stream",
     "text": [
      "\n",
      "Acurácia balanceada base: 40.65\n",
      "- sem duplicatas e com dados faltantes removidos: 40.63\n",
      "- tratando outliers: 40.41\n",
      "- preenchendo faltantes média: 40.15\n",
      "- preenchendo faltantes regressão: 43.94\n"
     ]
    }
   ],
   "source": [
    "ab_mm = metrics.balanced_accuracy_score(ZYcla, ZYcla_mm_)\n",
    "ab_mr = metrics.balanced_accuracy_score(ZYcla, ZYcla_mr_)\n",
    "print(\"\\nAcurácia balanceada base: %0.2f\" % (ab_base*100))\n",
    "print(\"- sem duplicatas e com dados faltantes removidos: %0.2f\" % (ab_nd*100))\n",
    "print(\"- tratando outliers: %0.2f\" % (ab_o*100))\n",
    "print(\"- preenchendo faltantes média: %0.2f\" % (ab_mm*100))\n",
    "print(\"- preenchendo faltantes regressão: %0.2f\" % (ab_mr*100))"
   ]
  },
  {
   "cell_type": "code",
   "execution_count": 52,
   "metadata": {},
   "outputs": [],
   "source": [
    "# Treinando regressor\n",
    "Xreg_mism = dtrain_mism[attrsreg]\n",
    "Xreg_misr = dtrain_misr[attrsreg]\n",
    "Yreg_mis = dtrain_misr['total']\n",
    "\n",
    "regmm = LinearRegression()\n",
    "regmm.fit(Xreg_mism, Yreg_mis)\n",
    "ZYreg_mism_ = regmm.predict(ZXreg)\n",
    "\n",
    "regmr = LinearRegression()\n",
    "regmr.fit(Xreg_misr, Yreg_mis)\n",
    "ZYreg_misr_ = regmr.predict(ZXreg)"
   ]
  },
  {
   "cell_type": "code",
   "execution_count": 53,
   "metadata": {},
   "outputs": [
    {
     "name": "stdout",
     "output_type": "stream",
     "text": [
      "Erro médio absoluto: 2638.399\n",
      "- limpeza: 2635.644\n",
      "- tratando outliers: 2378.140\n",
      "- preenchendo faltantes média: 2506.438\n",
      "- preenchendo faltantes regressão: 2504.711\n"
     ]
    }
   ],
   "source": [
    "mae_mism = metrics.mean_absolute_error(ZYreg, ZYreg_mism_)\n",
    "mae_misr = metrics.mean_absolute_error(ZYreg, ZYreg_misr_)\n",
    "print(\"Erro médio absoluto: %0.3f\" % (mae_base))\n",
    "print(\"- limpeza: %0.3f\" % (mae_nd))\n",
    "print(\"- tratando outliers: %0.3f\" % (mae_o))\n",
    "print(\"- preenchendo faltantes média: %0.3f\" % (mae_mism))\n",
    "print(\"- preenchendo faltantes regressão: %0.3f\" % (mae_misr))"
   ]
  }
 ],
 "metadata": {
  "kernelspec": {
   "display_name": "Python 3",
   "language": "python",
   "name": "python3"
  },
  "language_info": {
   "codemirror_mode": {
    "name": "ipython",
    "version": 3
   },
   "file_extension": ".py",
   "mimetype": "text/x-python",
   "name": "python",
   "nbconvert_exporter": "python",
   "pygments_lexer": "ipython3",
   "version": "3.8.5"
  }
 },
 "nbformat": 4,
 "nbformat_minor": 4
}
