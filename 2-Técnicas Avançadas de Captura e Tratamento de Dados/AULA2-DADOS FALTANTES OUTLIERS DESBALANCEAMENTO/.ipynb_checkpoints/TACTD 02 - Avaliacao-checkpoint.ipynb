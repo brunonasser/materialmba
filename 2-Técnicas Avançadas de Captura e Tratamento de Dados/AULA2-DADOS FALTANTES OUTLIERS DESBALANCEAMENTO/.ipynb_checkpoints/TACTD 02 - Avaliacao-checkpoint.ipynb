{
 "cells": [
  {
   "cell_type": "markdown",
   "metadata": {},
   "source": [
    "# MBA em Ciência de Dados\n",
    "# Técnicas Avançadas de Captura e Tratamento de Dados\n",
    "\n",
    "### <span style=\"color:darkred\">Módulo II - Tratamento e limpeza de Dados</span>\n",
    "\n",
    "\n",
    "### <span style=\"color:darkred\">Avaliação</span>\n",
    "\n",
    "Moacir Antonelli Ponti\n",
    "\n",
    "CeMEAI - ICMC/USP São Carlos\n",
    "\n",
    "---"
   ]
  },
  {
   "cell_type": "code",
   "execution_count": 1,
   "metadata": {},
   "outputs": [],
   "source": [
    "# carregando as bibliotecas necessárias\n",
    "import numpy as np\n",
    "import matplotlib.pyplot as plt\n",
    "import pandas as pd\n",
    "\n",
    "from sklearn.svm import SVC\n",
    "from sklearn.linear_model import Ridge\n",
    "from sklearn import metrics\n",
    "\n",
    "# carregando dados\n",
    "data = pd.read_csv(\"./dados/pib_mba_avaliacao2021.csv\")"
   ]
  },
  {
   "cell_type": "markdown",
   "metadata": {},
   "source": [
    "Vamos utilizar uma base de dados baseada em informações de população e PIB para cada município brasileiro, essa base foi adaptada da original do IBGE para o propósito dessa avaliação (e portanto parte das variáveis **estão modificadas e não são reais**). A base possui as seguintes colunas:\n",
    "* gid - identificador geográfico do município\n",
    "* UF - unidade federativa\n",
    "* nome - nome do município\n",
    "* Censo - ano do censo relativo aos dados\n",
    "* PIB - total do PIB\n",
    "* Pop_est_2009 - populacao estimada\t\n",
    "* PIB_percapita - PIB per capita segundo os dados\n",
    "* Descrição - Descrição do dados\n",
    "* classe - classe do município\n",
    "* desemprego - índice de desemprego na cidade no ano do Censo\n"
   ]
  },
  {
   "cell_type": "markdown",
   "metadata": {},
   "source": [
    "### Questão 1)\n",
    "\n",
    "Verifique a distribuição dos valores e tipos dos atributos e realize um tratamento de dados considerando:\n",
    "\n",
    "1. Correção dos dados que for possível inferir o valor verdadeiro, ajustando e padronizando-os. Anote em quais variáveis isso ocorreu. Valores outliers não devem ser removidos/alterados, apenas dados claramente errôneos ou não padronizados.\n",
    "2. Conversão dos atributos que deveriam ser numéricos para numérico - inspecione os valores para garantir que a conversão não vá gerar dados faltantes de forma desnecessária, substituindo por numeros os que forem possíveis como por exemplo o atributo \"floor\" como visto na aula em que substituímos dados por 0. Anote as variáveis em que isso ocorreu.\n",
    "    \n",
    "Quais variáveis possuiam valores que precisaram ser padronizados ou corrigidos, e quantos valores em cada uma delas foi possível corrigir?\n",
    " \n",
    "(a) UF (5) e Censo (2)<br>\n",
    "(b) UF (9), Desemprego (10), Censo (3)<br>\n",
    "(c) Censo (2) <br>\n",
    "(d) UF (9) e Censo (2)<br>\n",
    "---"
   ]
  },
  {
   "cell_type": "markdown",
   "metadata": {},
   "source": [
    "### Questão 2)\n",
    "\n",
    "Após o tratamento feito na Questão 2:\n",
    "1. Remova colunas que possuam valores redundantes constantes\n",
    "2. Exiba, e posteriormente remova muninícipios duplicados (considere nome e UF para esse fim), mantendo a primeira ocorrência. \n",
    "\n",
    "Qual o tamanho final da base de dados após esse tratamento?\n",
    "\n",
    "(a) 5572 x 10<br>\n",
    "(b) 5572 x 9<br>\n",
    "(c) 5565 x 8<br>\n",
    "(d) 5565 x 9<br>\n",
    "\n",
    "---"
   ]
  },
  {
   "cell_type": "markdown",
   "metadata": {},
   "source": [
    "---\n",
    "### Questão 3)\n",
    "\n",
    "Vamos analisar possíveis outliers. Utilize o método da análise da dispersão pelo *desvio padrão* e inspecione as colunas 'gid', 'PIB', 'Pop_est_2009', 'desemprego', procurando por outliers globais com critério de 3 desvios padrões, i.e. $3\\sigma$. Nessa questão não remova outliers da base de dados, apenas identifique-os.\n",
    "\n",
    "Quantos outliers foram encontrados, respectivamente, para 'gid', 'PIB', 'Pop_est_2009' e 'desemprego'?\n",
    "\n",
    "(a) 0, 27, 1, 2<br>\n",
    "(c) 0, 9, 44, 0<br>\n",
    "(d) 1, 5, 9, 44<br>\n",
    "(d) 0, 5, 27, 2<br>\n"
   ]
  },
  {
   "cell_type": "markdown",
   "metadata": {},
   "source": [
    "---\n",
    "\n",
    "### Questão 4)\n",
    "\n",
    "Utilize a base de dados após o tratamento inicial, e sem remoção de outliers. Imprima o total de valores faltantes em cada variável e, posteriormente, utilize o preenchimento por média condicionada, preenchendo 'desemprego' com as médias agrupadas por 'UF'.\n",
    "\n",
    "Para isso codifique uma função que deverá:\n",
    "1. calcular a média de uma variável alvo A (a ser preenchida) relativa a (ou agrupada por) cada valor distinto da variável que se deseja usar para agrupar;\n",
    "2. atribuir a média calculada de forma agrupada a todas as linhas cuja variável alvo é faltante e que possua o valor da variável categórica correspondente;\n",
    "3. o valor atribuido deve seguir o mesmo tipo da variável alvo, ou seja, int, float, etc. Quando int, realize o arredondamento utlizando `np.round(,0)`, quando float64 utilize `np.round(,1)`\n",
    "\n",
    "Quantos dados faltantes existiam em \"desemprego\", e qual a média e o desvio padrão dessa variável após o preenchimento?\n",
    "\n",
    "(a) 62 faltantes, média 6.6664, desvio padrão 5.8126<br>\n",
    "(b) 59 faltantes, média 6.6663, desvio padrão 5.8126<br>\n",
    "(c) 62 faltantes, média 5.8126, desvio padrão 5.8126<br>\n",
    "(d) 62 faltantes, média 6.6663, desvio padrão 4.5120<br>\n"
   ]
  },
  {
   "cell_type": "markdown",
   "metadata": {},
   "source": [
    "---\n",
    "\n",
    "### Questão 5)\n",
    "\n",
    "Desejamos projetar um algoritmo de aprendizado em que o atributo alvo é 'classe', inicialmente utilizando apenas dados da UF Paraná, mas posteriormente deveremos utilizar o modelo aprendido em toda a base de dados. \n",
    "\n",
    "Use os dados tratados após o preenchimento de dados faltantes de desemprego, porém sem remoção de outliers. Considere o atributo 'classe' e analise a distribuicao dos seus valores em dois cenários:\n",
    "1. base completa\n",
    "2. considerando apenas a UF 'Paraná'. \n",
    "\n",
    "Após a análise podemos afirmar que:\n",
    "\n",
    "(a) Os cenários 1 e 2 são desbalanceados, com classes minoritárias diferentes e majoritárias iguais.<br>\n",
    "(b) Os cenários 1 e 2 são desbalanceados, com distribuição de classes similar.<br>\n",
    "(c) Apenas o cenário 2 é desbalanceado. <br>\n",
    "(d) Os cenários 1 e 2 são desbalanceados, com classes majoritárias diferentes.<br>"
   ]
  }
 ],
 "metadata": {
  "kernelspec": {
   "display_name": "Python 3",
   "language": "python",
   "name": "python3"
  },
  "language_info": {
   "codemirror_mode": {
    "name": "ipython",
    "version": 3
   },
   "file_extension": ".py",
   "mimetype": "text/x-python",
   "name": "python",
   "nbconvert_exporter": "python",
   "pygments_lexer": "ipython3",
   "version": "3.8.5"
  }
 },
 "nbformat": 4,
 "nbformat_minor": 4
}
