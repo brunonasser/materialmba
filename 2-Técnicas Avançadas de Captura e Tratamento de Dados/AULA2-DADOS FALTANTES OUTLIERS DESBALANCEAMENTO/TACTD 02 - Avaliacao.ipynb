{
 "cells": [
  {
   "cell_type": "markdown",
   "metadata": {
    "id": "m2mNUlDIeHUf"
   },
   "source": [
    "# MBA em Ciência de Dados\n",
    "# Técnicas Avançadas de Captura e Tratamento de Dados\n",
    "\n",
    "### <span style=\"color:darkred\">Módulo II - Tratamento e limpeza de Dados</span>\n",
    "\n",
    "\n",
    "### <span style=\"color:darkred\">Avaliação</span>\n",
    "\n",
    "Moacir Antonelli Ponti\n",
    "\n",
    "CeMEAI - ICMC/USP São Carlos\n",
    "\n",
    "---"
   ]
  },
  {
   "cell_type": "code",
   "execution_count": 182,
   "metadata": {
    "id": "-kUORXz3eHUs"
   },
   "outputs": [],
   "source": [
    "# carregando as bibliotecas necessárias\n",
    "import numpy as np\n",
    "import matplotlib.pyplot as plt\n",
    "import pandas as pd\n",
    "\n",
    "from sklearn.svm import SVC\n",
    "from sklearn.linear_model import Ridge\n",
    "from sklearn import metrics\n",
    "\n",
    "# carregando dados\n",
    "data = pd.read_csv(\"pib_mba_avaliacao2021.csv\")"
   ]
  },
  {
   "cell_type": "markdown",
   "metadata": {
    "id": "3gWKwX7keHUu"
   },
   "source": [
    "Vamos utilizar uma base de dados baseada em informações de população e PIB para cada município brasileiro, essa base foi adaptada da original do IBGE para o propósito dessa avaliação (e portanto parte das variáveis **estão modificadas e não são reais**). A base possui as seguintes colunas:\n",
    "* gid - identificador geográfico do município\n",
    "* UF - unidade federativa\n",
    "* nome - nome do município\n",
    "* Censo - ano do censo relativo aos dados\n",
    "* PIB - total do PIB\n",
    "* Pop_est_2009 - populacao estimada\t\n",
    "* PIB_percapita - PIB per capita segundo os dados\n",
    "* Descrição - Descrição do dados\n",
    "* classe - classe do município\n",
    "* desemprego - índice de desemprego na cidade no ano do Censo\n"
   ]
  },
  {
   "cell_type": "markdown",
   "metadata": {
    "id": "nYrjtTSFeHUv"
   },
   "source": [
    "### Questão 1)\n",
    "\n",
    "Verifique a distribuição dos valores e tipos dos atributos e realize um tratamento de dados considerando:\n",
    "\n",
    "1. Correção dos dados que for possível inferir o valor verdadeiro, ajustando e padronizando-os. Anote em quais variáveis isso ocorreu. Valores outliers não devem ser removidos/alterados, apenas dados claramente errôneos ou não padronizados.\n",
    "2. Conversão dos atributos que deveriam ser numéricos para numérico - inspecione os valores para garantir que a conversão não vá gerar dados faltantes de forma desnecessária, substituindo por numeros os que forem possíveis como por exemplo o atributo \"floor\" como visto na aula em que substituímos dados por 0. Anote as variáveis em que isso ocorreu.\n",
    "    \n",
    "Quais variáveis possuiam valores que precisaram ser padronizados ou corrigidos, e quantos valores em cada uma delas foi possível corrigir?\n",
    " \n",
    "(a) UF (5) e Censo (2)<br>\n",
    "(b) UF (9), Desemprego (10), Censo (3)<br>\n",
    "(c) Censo (2) <br>\n",
    "(d) UF (9) e Censo (2)<br>\n",
    "---"
   ]
  },
  {
   "cell_type": "markdown",
   "metadata": {},
   "source": [
    "resp: d"
   ]
  },
  {
   "cell_type": "code",
   "execution_count": 153,
   "metadata": {},
   "outputs": [
    {
     "data": {
      "text/plain": [
       "<AxesSubplot:>"
      ]
     },
     "execution_count": 153,
     "metadata": {},
     "output_type": "execute_result"
    },
    {
     "data": {
      "image/png": "[encoded data removed]",
      "text/plain": [
       "<Figure size 432x288 with 1 Axes>"
      ]
     },
     "metadata": {
      "needs_background": "light"
     },
     "output_type": "display_data"
    }
   ],
   "source": [
    "data[data['desemprego'].isnull()==False]['desemprego'].to_frame().boxplot()"
   ]
  },
  {
   "cell_type": "code",
   "execution_count": 154,
   "metadata": {},
   "outputs": [
    {
     "data": {
      "text/html": [
       "<div>\n",
       "<style scoped>\n",
       "    .dataframe tbody tr th:only-of-type {\n",
       "        vertical-align: middle;\n",
       "    }\n",
       "\n",
       "    .dataframe tbody tr th {\n",
       "        vertical-align: top;\n",
       "    }\n",
       "\n",
       "    .dataframe thead th {\n",
       "        text-align: right;\n",
       "    }\n",
       "</style>\n",
       "<table border=\"1\" class=\"dataframe\">\n",
       "  <thead>\n",
       "    <tr style=\"text-align: right;\">\n",
       "      <th></th>\n",
       "      <th>gid</th>\n",
       "      <th>UF</th>\n",
       "      <th>nome</th>\n",
       "      <th>Censo</th>\n",
       "      <th>PIB</th>\n",
       "      <th>Pop_est_2009</th>\n",
       "      <th>PIB_percapita</th>\n",
       "      <th>Descrição</th>\n",
       "      <th>classe</th>\n",
       "      <th>desemprego</th>\n",
       "    </tr>\n",
       "  </thead>\n",
       "  <tbody>\n",
       "    <tr>\n",
       "      <th>24</th>\n",
       "      <td>3352</td>\n",
       "      <td>MINAS GERAIS</td>\n",
       "      <td>Diamantina</td>\n",
       "      <td>2010</td>\n",
       "      <td>2.876320e+05</td>\n",
       "      <td>46372</td>\n",
       "      <td>6202.709961</td>\n",
       "      <td>Produto Interno Bruto per capita</td>\n",
       "      <td>1</td>\n",
       "      <td>NaN</td>\n",
       "    </tr>\n",
       "    <tr>\n",
       "      <th>67</th>\n",
       "      <td>2351</td>\n",
       "      <td>PARAÍBA</td>\n",
       "      <td>Cabedelo</td>\n",
       "      <td>2010</td>\n",
       "      <td>2.332828e+06</td>\n",
       "      <td>51865</td>\n",
       "      <td>44978.851562</td>\n",
       "      <td>Produto Interno Bruto per capita</td>\n",
       "      <td>3</td>\n",
       "      <td>NaN</td>\n",
       "    </tr>\n",
       "    <tr>\n",
       "      <th>110</th>\n",
       "      <td>4511</td>\n",
       "      <td>BAHIA</td>\n",
       "      <td>Itaparica</td>\n",
       "      <td>2010</td>\n",
       "      <td>1.025866e+05</td>\n",
       "      <td>20796</td>\n",
       "      <td>4933.000000</td>\n",
       "      <td>Produto Interno Bruto per capita</td>\n",
       "      <td>1</td>\n",
       "      <td>NaN</td>\n",
       "    </tr>\n",
       "    <tr>\n",
       "      <th>140</th>\n",
       "      <td>4217</td>\n",
       "      <td>SÃO PAULO</td>\n",
       "      <td>Bastos</td>\n",
       "      <td>2010</td>\n",
       "      <td>3.223173e+05</td>\n",
       "      <td>21380</td>\n",
       "      <td>15075.650391</td>\n",
       "      <td>Produto Interno Bruto per capita</td>\n",
       "      <td>2</td>\n",
       "      <td>NaN</td>\n",
       "    </tr>\n",
       "    <tr>\n",
       "      <th>153</th>\n",
       "      <td>1671</td>\n",
       "      <td>RIO GRANDE DO NORTE</td>\n",
       "      <td>Pedra Preta</td>\n",
       "      <td>2010</td>\n",
       "      <td>1.263997e+04</td>\n",
       "      <td>2718</td>\n",
       "      <td>4650.470215</td>\n",
       "      <td>Produto Interno Bruto per capita</td>\n",
       "      <td>1</td>\n",
       "      <td>NaN</td>\n",
       "    </tr>\n",
       "    <tr>\n",
       "      <th>...</th>\n",
       "      <td>...</td>\n",
       "      <td>...</td>\n",
       "      <td>...</td>\n",
       "      <td>...</td>\n",
       "      <td>...</td>\n",
       "      <td>...</td>\n",
       "      <td>...</td>\n",
       "      <td>...</td>\n",
       "      <td>...</td>\n",
       "      <td>...</td>\n",
       "    </tr>\n",
       "    <tr>\n",
       "      <th>5314</th>\n",
       "      <td>456</td>\n",
       "      <td>RIO GRANDE DO SUL</td>\n",
       "      <td>Guaíba</td>\n",
       "      <td>2010</td>\n",
       "      <td>1.945150e+06</td>\n",
       "      <td>96603</td>\n",
       "      <td>20135.500000</td>\n",
       "      <td>Produto Interno Bruto per capita</td>\n",
       "      <td>2</td>\n",
       "      <td>NaN</td>\n",
       "    </tr>\n",
       "    <tr>\n",
       "      <th>5318</th>\n",
       "      <td>1083</td>\n",
       "      <td>GOIÁS</td>\n",
       "      <td>Alexânia</td>\n",
       "      <td>2010</td>\n",
       "      <td>3.043618e+05</td>\n",
       "      <td>20706</td>\n",
       "      <td>14699.209961</td>\n",
       "      <td>Produto Interno Bruto per capita</td>\n",
       "      <td>2</td>\n",
       "      <td>NaN</td>\n",
       "    </tr>\n",
       "    <tr>\n",
       "      <th>5428</th>\n",
       "      <td>4547</td>\n",
       "      <td>SÃO PAULO</td>\n",
       "      <td>Itapetininga</td>\n",
       "      <td>2010</td>\n",
       "      <td>2.164772e+06</td>\n",
       "      <td>148808</td>\n",
       "      <td>14547.419922</td>\n",
       "      <td>Produto Interno Bruto per capita</td>\n",
       "      <td>2</td>\n",
       "      <td>NaN</td>\n",
       "    </tr>\n",
       "    <tr>\n",
       "      <th>5447</th>\n",
       "      <td>2778</td>\n",
       "      <td>MINAS GERAIS</td>\n",
       "      <td>Alvinópolis</td>\n",
       "      <td>2010</td>\n",
       "      <td>1.309854e+05</td>\n",
       "      <td>15678</td>\n",
       "      <td>8354.730469</td>\n",
       "      <td>Produto Interno Bruto per capita</td>\n",
       "      <td>1</td>\n",
       "      <td>NaN</td>\n",
       "    </tr>\n",
       "    <tr>\n",
       "      <th>5471</th>\n",
       "      <td>549</td>\n",
       "      <td>RIO GRANDE DO SUL</td>\n",
       "      <td>NaN</td>\n",
       "      <td>2010</td>\n",
       "      <td>NaN</td>\n",
       "      <td>5732</td>\n",
       "      <td>18192.169922</td>\n",
       "      <td>Produto Interno Bruto per capita</td>\n",
       "      <td>2</td>\n",
       "      <td>5.6</td>\n",
       "    </tr>\n",
       "  </tbody>\n",
       "</table>\n",
       "<p>73 rows × 10 columns</p>\n",
       "</div>"
      ],
      "text/plain": [
       "       gid                   UF          nome Censo           PIB  \\\n",
       "24    3352         MINAS GERAIS    Diamantina  2010  2.876320e+05   \n",
       "67    2351              PARAÍBA      Cabedelo  2010  2.332828e+06   \n",
       "110   4511                BAHIA     Itaparica  2010  1.025866e+05   \n",
       "140   4217            SÃO PAULO        Bastos  2010  3.223173e+05   \n",
       "153   1671  RIO GRANDE DO NORTE   Pedra Preta  2010  1.263997e+04   \n",
       "...    ...                  ...           ...   ...           ...   \n",
       "5314   456    RIO GRANDE DO SUL        Guaíba  2010  1.945150e+06   \n",
       "5318  1083                GOIÁS      Alexânia  2010  3.043618e+05   \n",
       "5428  4547            SÃO PAULO  Itapetininga  2010  2.164772e+06   \n",
       "5447  2778         MINAS GERAIS   Alvinópolis  2010  1.309854e+05   \n",
       "5471   549    RIO GRANDE DO SUL           NaN  2010           NaN   \n",
       "\n",
       "      Pop_est_2009  PIB_percapita                         Descrição  classe  \\\n",
       "24           46372    6202.709961  Produto Interno Bruto per capita       1   \n",
       "67           51865   44978.851562  Produto Interno Bruto per capita       3   \n",
       "110          20796    4933.000000  Produto Interno Bruto per capita       1   \n",
       "140          21380   15075.650391  Produto Interno Bruto per capita       2   \n",
       "153           2718    4650.470215  Produto Interno Bruto per capita       1   \n",
       "...            ...            ...                               ...     ...   \n",
       "5314         96603   20135.500000  Produto Interno Bruto per capita       2   \n",
       "5318         20706   14699.209961  Produto Interno Bruto per capita       2   \n",
       "5428        148808   14547.419922  Produto Interno Bruto per capita       2   \n",
       "5447         15678    8354.730469  Produto Interno Bruto per capita       1   \n",
       "5471          5732   18192.169922  Produto Interno Bruto per capita       2   \n",
       "\n",
       "      desemprego  \n",
       "24           NaN  \n",
       "67           NaN  \n",
       "110          NaN  \n",
       "140          NaN  \n",
       "153          NaN  \n",
       "...          ...  \n",
       "5314         NaN  \n",
       "5318         NaN  \n",
       "5428         NaN  \n",
       "5447         NaN  \n",
       "5471         5.6  \n",
       "\n",
       "[73 rows x 10 columns]"
      ]
     },
     "execution_count": 154,
     "metadata": {},
     "output_type": "execute_result"
    }
   ],
   "source": [
    "data[data.isnull().any(axis=1)]"
   ]
  },
  {
   "cell_type": "code",
   "execution_count": 183,
   "metadata": {},
   "outputs": [],
   "source": [
    "data.loc[data['Censo']=='“2010','Censo']='2010'\n",
    "data.loc[data['Censo']=='20100','Censo']='2010'"
   ]
  },
  {
   "cell_type": "code",
   "execution_count": 184,
   "metadata": {},
   "outputs": [
    {
     "data": {
      "text/plain": [
       "2010    5561\n",
       "2007       5\n",
       "Name: Censo, dtype: int64"
      ]
     },
     "execution_count": 184,
     "metadata": {},
     "output_type": "execute_result"
    }
   ],
   "source": [
    "data['Censo'].value_counts()"
   ]
  },
  {
   "cell_type": "code",
   "execution_count": 185,
   "metadata": {},
   "outputs": [],
   "source": [
    "data.loc[data['UF']=='MINAS G.','UF']='MINAS GERAIS'\n",
    "data.loc[data['UF']=='PARANA ','UF']='PARANÁ'\n",
    "data.loc[data['UF']=='SP','UF']='SÃO PAULO'\n",
    "data.loc[data['UF']=='PIAU','UF']='PIAUÍ'\n",
    "data.loc[data['UF']=='R.G. DO SUL','UF']='RIO GRANDE DO SUL'\n"
   ]
  },
  {
   "cell_type": "code",
   "execution_count": 186,
   "metadata": {},
   "outputs": [
    {
     "data": {
      "text/plain": [
       "MINAS GERAIS           853\n",
       "SÃO PAULO              648\n",
       "RIO GRANDE DO SUL      496\n",
       "BAHIA                  417\n",
       "PARANÁ                 396\n",
       "SANTA CATARINA         293\n",
       "GOIÁS                  247\n",
       "PIAUÍ                  224\n",
       "PARAÍBA                223\n",
       "MARANHÃO               217\n",
       "PERNAMBUCO             186\n",
       "CEARÁ                  184\n",
       "RIO GRANDE DO NORTE    167\n",
       "PARÁ                   145\n",
       "MATO GROSSO            141\n",
       "TOCANTINS              139\n",
       "ALAGOAS                102\n",
       "RIO DE JANEIRO          92\n",
       "MATO GROSSO DO SUL      78\n",
       "ESPIRITO SANTO          78\n",
       "SERGIPE                 75\n",
       "AMAZONAS                62\n",
       "RONDÔNIA                52\n",
       "ACRE                    22\n",
       "AMAPÁ                   16\n",
       "RORAIMA                 15\n",
       "PARANA                   3\n",
       "DISTRITO FEDERAL         1\n",
       "Name: UF, dtype: int64"
      ]
     },
     "execution_count": 186,
     "metadata": {},
     "output_type": "execute_result"
    }
   ],
   "source": [
    "data['UF'].value_counts().sort_values(ascending=False)"
   ]
  },
  {
   "cell_type": "code",
   "execution_count": 187,
   "metadata": {},
   "outputs": [
    {
     "data": {
      "text/html": [
       "<div>\n",
       "<style scoped>\n",
       "    .dataframe tbody tr th:only-of-type {\n",
       "        vertical-align: middle;\n",
       "    }\n",
       "\n",
       "    .dataframe tbody tr th {\n",
       "        vertical-align: top;\n",
       "    }\n",
       "\n",
       "    .dataframe thead th {\n",
       "        text-align: right;\n",
       "    }\n",
       "</style>\n",
       "<table border=\"1\" class=\"dataframe\">\n",
       "  <thead>\n",
       "    <tr style=\"text-align: right;\">\n",
       "      <th></th>\n",
       "      <th>gid</th>\n",
       "      <th>UF</th>\n",
       "      <th>nome</th>\n",
       "      <th>Censo</th>\n",
       "      <th>PIB</th>\n",
       "      <th>Pop_est_2009</th>\n",
       "      <th>PIB_percapita</th>\n",
       "      <th>Descrição</th>\n",
       "      <th>classe</th>\n",
       "      <th>desemprego</th>\n",
       "    </tr>\n",
       "  </thead>\n",
       "  <tbody>\n",
       "    <tr>\n",
       "      <th>843</th>\n",
       "      <td>2192</td>\n",
       "      <td>BAHIA</td>\n",
       "      <td>Lamarão</td>\n",
       "      <td>NaN</td>\n",
       "      <td>30241.320312</td>\n",
       "      <td>12995</td>\n",
       "      <td>2327.149902</td>\n",
       "      <td>Produto Interno Bruto per capita</td>\n",
       "      <td>1</td>\n",
       "      <td>9.9</td>\n",
       "    </tr>\n",
       "    <tr>\n",
       "      <th>2347</th>\n",
       "      <td>3474</td>\n",
       "      <td>PERNAMBUCO</td>\n",
       "      <td>Pedra</td>\n",
       "      <td>NaN</td>\n",
       "      <td>121027.789062</td>\n",
       "      <td>20788</td>\n",
       "      <td>5822.000000</td>\n",
       "      <td>Produto Interno Bruto per capita</td>\n",
       "      <td>1</td>\n",
       "      <td>8.5</td>\n",
       "    </tr>\n",
       "    <tr>\n",
       "      <th>2683</th>\n",
       "      <td>5129</td>\n",
       "      <td>PERNAMBUCO</td>\n",
       "      <td>Buíque</td>\n",
       "      <td>NaN</td>\n",
       "      <td>251538.109375</td>\n",
       "      <td>53272</td>\n",
       "      <td>4721.770020</td>\n",
       "      <td>Produto Interno Bruto per capita</td>\n",
       "      <td>1</td>\n",
       "      <td>9.4</td>\n",
       "    </tr>\n",
       "    <tr>\n",
       "      <th>3361</th>\n",
       "      <td>1754</td>\n",
       "      <td>SÃO PAULO</td>\n",
       "      <td>São Pedro</td>\n",
       "      <td>NaN</td>\n",
       "      <td>348302.531250</td>\n",
       "      <td>31575</td>\n",
       "      <td>11030.959961</td>\n",
       "      <td>Produto Interno Bruto per capita</td>\n",
       "      <td>2</td>\n",
       "      <td>5.7</td>\n",
       "    </tr>\n",
       "    <tr>\n",
       "      <th>3384</th>\n",
       "      <td>5242</td>\n",
       "      <td>PERNAMBUCO</td>\n",
       "      <td>NaN</td>\n",
       "      <td>NaN</td>\n",
       "      <td>86340.601562</td>\n",
       "      <td>19026</td>\n",
       "      <td>4538.029785</td>\n",
       "      <td>Produto Interno Bruto per capita</td>\n",
       "      <td>1</td>\n",
       "      <td>9.1</td>\n",
       "    </tr>\n",
       "    <tr>\n",
       "      <th>3508</th>\n",
       "      <td>1767</td>\n",
       "      <td>SÃO PAULO</td>\n",
       "      <td>Salto de Pirapora</td>\n",
       "      <td>NaN</td>\n",
       "      <td>479193.375000</td>\n",
       "      <td>39616</td>\n",
       "      <td>12095.959961</td>\n",
       "      <td>Produto Interno Bruto per capita</td>\n",
       "      <td>2</td>\n",
       "      <td>7.0</td>\n",
       "    </tr>\n",
       "  </tbody>\n",
       "</table>\n",
       "</div>"
      ],
      "text/plain": [
       "       gid          UF               nome Censo            PIB  Pop_est_2009  \\\n",
       "843   2192       BAHIA            Lamarão   NaN   30241.320312         12995   \n",
       "2347  3474  PERNAMBUCO              Pedra   NaN  121027.789062         20788   \n",
       "2683  5129  PERNAMBUCO             Buíque   NaN  251538.109375         53272   \n",
       "3361  1754   SÃO PAULO          São Pedro   NaN  348302.531250         31575   \n",
       "3384  5242  PERNAMBUCO                NaN   NaN   86340.601562         19026   \n",
       "3508  1767   SÃO PAULO  Salto de Pirapora   NaN  479193.375000         39616   \n",
       "\n",
       "      PIB_percapita                         Descrição  classe  desemprego  \n",
       "843     2327.149902  Produto Interno Bruto per capita       1         9.9  \n",
       "2347    5822.000000  Produto Interno Bruto per capita       1         8.5  \n",
       "2683    4721.770020  Produto Interno Bruto per capita       1         9.4  \n",
       "3361   11030.959961  Produto Interno Bruto per capita       2         5.7  \n",
       "3384    4538.029785  Produto Interno Bruto per capita       1         9.1  \n",
       "3508   12095.959961  Produto Interno Bruto per capita       2         7.0  "
      ]
     },
     "execution_count": 187,
     "metadata": {},
     "output_type": "execute_result"
    }
   ],
   "source": [
    "data[data['Censo'].isnull()]"
   ]
  },
  {
   "cell_type": "markdown",
   "metadata": {
    "id": "A1PayI1DeHUx"
   },
   "source": [
    "### Questão 2)\n",
    "\n",
    "Após o tratamento feito na Questão 2:\n",
    "1. Remova colunas que possuam valores redundantes constantes\n",
    "2. Exiba, e posteriormente remova municípios duplicados (considere nome e UF para esse fim), mantendo a primeira ocorrência. \n",
    "\n",
    "Qual o tamanho final da base de dados após esse tratamento?\n",
    "\n",
    "(a) 5572 x 10<br>\n",
    "(b) 5572 x 9<br>\n",
    "(c) 5565 x 8<br>\n",
    "(d) 5565 x 9<br>\n",
    "\n",
    "---"
   ]
  },
  {
   "cell_type": "markdown",
   "metadata": {},
   "source": [
    "resp d"
   ]
  },
  {
   "cell_type": "code",
   "execution_count": 188,
   "metadata": {},
   "outputs": [],
   "source": [
    "data.drop('Descrição', axis=1, inplace=True)"
   ]
  },
  {
   "cell_type": "code",
   "execution_count": 189,
   "metadata": {},
   "outputs": [
    {
     "data": {
      "text/plain": [
       "Index([], dtype='object')"
      ]
     },
     "execution_count": 189,
     "metadata": {},
     "output_type": "execute_result"
    }
   ],
   "source": [
    "data.columns[data.nunique()<=1]"
   ]
  },
  {
   "cell_type": "code",
   "execution_count": 190,
   "metadata": {},
   "outputs": [],
   "source": [
    "data.drop_duplicates(['nome','UF'],keep='first',inplace=True)"
   ]
  },
  {
   "cell_type": "code",
   "execution_count": 191,
   "metadata": {},
   "outputs": [
    {
     "data": {
      "text/plain": [
       "(5565, 9)"
      ]
     },
     "execution_count": 191,
     "metadata": {},
     "output_type": "execute_result"
    }
   ],
   "source": [
    "data.shape"
   ]
  },
  {
   "cell_type": "markdown",
   "metadata": {
    "id": "IntkAH7weHUy"
   },
   "source": [
    "---\n",
    "### Questão 3)\n",
    "\n",
    "Vamos analisar possíveis outliers. Utilize o método da análise da dispersão pelo *desvio padrão* e inspecione as colunas 'gid', 'PIB', 'Pop_est_2009', 'desemprego', procurando por outliers globais com critério de 3 desvios padrões, i.e. $3\\sigma$. Nessa questão não remova outliers da base de dados, apenas identifique-os.\n",
    "\n",
    "Quantos outliers foram encontrados, respectivamente, para 'gid', 'PIB', 'Pop_est_2009' e 'desemprego'?\n",
    "\n",
    "(a) 0, 27, 1, 2<br>\n",
    "(c) 0, 9, 44, 0<br>\n",
    "(d) 1, 5, 9, 44<br>\n",
    "(d) 0, 5, 27, 2<br>\n"
   ]
  },
  {
   "cell_type": "code",
   "execution_count": 192,
   "metadata": {},
   "outputs": [
    {
     "data": {
      "text/plain": [
       "0       False\n",
       "1       False\n",
       "2       False\n",
       "3       False\n",
       "4       False\n",
       "        ...  \n",
       "5562     True\n",
       "5563    False\n",
       "5564    False\n",
       "5565    False\n",
       "5566    False\n",
       "Name: gid, Length: 5565, dtype: bool"
      ]
     },
     "execution_count": 192,
     "metadata": {},
     "output_type": "execute_result"
    }
   ],
   "source": [
    "data['gid']>3*std_gid"
   ]
  },
  {
   "cell_type": "code",
   "execution_count": 193,
   "metadata": {},
   "outputs": [
    {
     "data": {
      "text/plain": [
       "(2, 9)"
      ]
     },
     "execution_count": 193,
     "metadata": {},
     "output_type": "execute_result"
    }
   ],
   "source": [
    "std=data['desemprego'].std()\n",
    "mean=data['desemprego'].mean()\n",
    "data[(data['desemprego']>(mean+(3*std)))|(data['desemprego']<(mean-(3*std)))].shape"
   ]
  },
  {
   "cell_type": "code",
   "execution_count": 194,
   "metadata": {},
   "outputs": [
    {
     "data": {
      "text/plain": [
       "(27, 9)"
      ]
     },
     "execution_count": 194,
     "metadata": {},
     "output_type": "execute_result"
    }
   ],
   "source": [
    "std=data['Pop_est_2009'].std()\n",
    "mean=data['Pop_est_2009'].mean()\n",
    "data[(data['Pop_est_2009']>(mean+(3*std)))|(data['Pop_est_2009']<(mean-(3*std)))].shape"
   ]
  },
  {
   "cell_type": "code",
   "execution_count": 195,
   "metadata": {},
   "outputs": [
    {
     "data": {
      "text/plain": [
       "(5, 9)"
      ]
     },
     "execution_count": 195,
     "metadata": {},
     "output_type": "execute_result"
    }
   ],
   "source": [
    "std=data['PIB'].std()\n",
    "mean=data['PIB'].mean()\n",
    "data[(data['PIB']>(mean+(3*std)))|(data['PIB']<(mean-(3*std)))].shape"
   ]
  },
  {
   "cell_type": "code",
   "execution_count": 196,
   "metadata": {},
   "outputs": [
    {
     "data": {
      "text/html": [
       "<div>\n",
       "<style scoped>\n",
       "    .dataframe tbody tr th:only-of-type {\n",
       "        vertical-align: middle;\n",
       "    }\n",
       "\n",
       "    .dataframe tbody tr th {\n",
       "        vertical-align: top;\n",
       "    }\n",
       "\n",
       "    .dataframe thead th {\n",
       "        text-align: right;\n",
       "    }\n",
       "</style>\n",
       "<table border=\"1\" class=\"dataframe\">\n",
       "  <thead>\n",
       "    <tr style=\"text-align: right;\">\n",
       "      <th></th>\n",
       "      <th>gid</th>\n",
       "      <th>UF</th>\n",
       "      <th>nome</th>\n",
       "      <th>Censo</th>\n",
       "      <th>PIB</th>\n",
       "      <th>Pop_est_2009</th>\n",
       "      <th>PIB_percapita</th>\n",
       "      <th>classe</th>\n",
       "      <th>desemprego</th>\n",
       "    </tr>\n",
       "  </thead>\n",
       "  <tbody>\n",
       "  </tbody>\n",
       "</table>\n",
       "</div>"
      ],
      "text/plain": [
       "Empty DataFrame\n",
       "Columns: [gid, UF, nome, Censo, PIB, Pop_est_2009, PIB_percapita, classe, desemprego]\n",
       "Index: []"
      ]
     },
     "execution_count": 196,
     "metadata": {},
     "output_type": "execute_result"
    }
   ],
   "source": [
    "std_gid=data['gid'].std()\n",
    "mean_gid=data['gid'].mean()\n",
    "data[(data['gid']>(mean_gid+(3*std_gid)))|(data['gid']<(mean_gid-(3*std_gid)))]\n"
   ]
  },
  {
   "cell_type": "markdown",
   "metadata": {
    "id": "hQVEkKBIeHU0"
   },
   "source": [
    "---\n",
    "\n",
    "### Questão 4)\n",
    "\n",
    "Utilize a base de dados após o tratamento inicial, e sem remoção de outliers. Imprima o total de valores faltantes em cada variável e, posteriormente, utilize o preenchimento por média condicionada, preenchendo 'desemprego' com as médias agrupadas por 'UF'.\n",
    "\n",
    "Para isso codifique uma função que deverá:\n",
    "1. calcular a média de uma variável alvo A (a ser preenchida) relativa a (ou agrupada por) cada valor distinto da variável que se deseja usar para agrupar;\n",
    "2. atribuir a média calculada de forma agrupada a todas as linhas cuja variável alvo é faltante e que possua o valor da variável categórica correspondente;\n",
    "3. o valor atribuido deve seguir o mesmo tipo da variável alvo, ou seja, int, float, etc. Quando int, realize o arredondamento utlizando `np.round(,0)`, quando float64 utilize `np.round(,1)`\n",
    "\n",
    "Quantos dados faltantes existiam em \"desemprego\", e qual a média e o desvio padrão dessa variável após o preenchimento?\n",
    "\n",
    "(a) 62 faltantes, média 6.6664, desvio padrão 5.8126<br>\n",
    "(b) 59 faltantes, média 6.6663, desvio padrão 5.8126<br>\n",
    "(c) 62 faltantes, média 5.8126, desvio padrão 5.8126<br>\n",
    "(d) 62 faltantes, média 6.6663, desvio padrão 4.5120<br>\n"
   ]
  },
  {
   "cell_type": "code",
   "execution_count": 211,
   "metadata": {},
   "outputs": [
    {
     "data": {
      "text/plain": [
       "count    5565.000000\n",
       "mean        6.666330\n",
       "std         5.783436\n",
       "min         1.000000\n",
       "25%         5.200000\n",
       "50%         6.400000\n",
       "75%         7.900000\n",
       "max       407.000000\n",
       "Name: desemprego, dtype: float64"
      ]
     },
     "execution_count": 211,
     "metadata": {},
     "output_type": "execute_result"
    }
   ],
   "source": [
    "data['desemprego'].describe()"
   ]
  },
  {
   "cell_type": "code",
   "execution_count": 209,
   "metadata": {},
   "outputs": [],
   "source": [
    "data['desemprego']=data.groupby('UF')['desemprego'].transform(lambda x: x.fillna(x.mean()))"
   ]
  },
  {
   "cell_type": "code",
   "execution_count": 210,
   "metadata": {},
   "outputs": [
    {
     "data": {
      "text/plain": [
       "gid              0\n",
       "UF               0\n",
       "nome             2\n",
       "Censo            6\n",
       "PIB              1\n",
       "Pop_est_2009     0\n",
       "PIB_percapita    4\n",
       "classe           0\n",
       "desemprego       0\n",
       "dtype: int64"
      ]
     },
     "execution_count": 210,
     "metadata": {},
     "output_type": "execute_result"
    }
   ],
   "source": [
    "data.isnull().sum()"
   ]
  },
  {
   "cell_type": "markdown",
   "metadata": {
    "id": "uQu0Yo1MeHU1"
   },
   "source": [
    "---\n",
    "\n",
    "### Questão 5)\n",
    "\n",
    "Desejamos projetar um algoritmo de aprendizado em que o atributo alvo é 'classe', inicialmente utilizando apenas dados da UF Paraná, mas posteriormente deveremos utilizar o modelo aprendido em toda a base de dados. \n",
    "\n",
    "Use os dados tratados após o preenchimento de dados faltantes de desemprego, porém sem remoção de outliers. Considere o atributo 'classe' e analise a distribuição dos seus valores em dois cenários:\n",
    "1. base completa\n",
    "2. considerando apenas a UF 'Paraná'. \n",
    "\n",
    "Após a análise podemos afirmar que:\n",
    "\n",
    "(a) Os cenários 1 e 2 são desbalanceados, com classes minoritárias diferentes e majoritárias iguais.<br>\n",
    "(b) Os cenários 1 e 2 são desbalanceados, com distribuição de classes similar.<br>\n",
    "(c) Apenas o cenário 2 é desbalanceado. <br>\n",
    "(d) Os cenários 1 e 2 são desbalanceados, com classes majoritárias diferentes.<br>"
   ]
  },
  {
   "cell_type": "code",
   "execution_count": 227,
   "metadata": {},
   "outputs": [
    {
     "data": {
      "text/plain": [
       "<function matplotlib.pyplot.show(close=None, block=None)>"
      ]
     },
     "execution_count": 227,
     "metadata": {},
     "output_type": "execute_result"
    },
    {
     "data": {
      "image/png": "[encoded data removed]",
      "text/plain": [
       "<Figure size 864x432 with 2 Axes>"
      ]
     },
     "metadata": {
      "needs_background": "light"
     },
     "output_type": "display_data"
    }
   ],
   "source": [
    "import seaborn as sns\n",
    "plt.figure(figsize=(12,6))\n",
    "plt.subplot(1,2,1); sns.countplot(data=data,x='classe')\n",
    "plt.subplot(1,2,2); sns.countplot(data=data[data['UF']=='PARANÁ'],x='classe')\n",
    "plt.show\n"
   ]
  }
 ],
 "metadata": {
  "colab": {
   "name": "TACTD 02 - Avaliacao.ipynb",
   "provenance": []
  },
  "kernelspec": {
   "display_name": "Python 3",
   "language": "python",
   "name": "python3"
  },
  "language_info": {
   "codemirror_mode": {
    "name": "ipython",
    "version": 3
   },
   "file_extension": ".py",
   "mimetype": "text/x-python",
   "name": "python",
   "nbconvert_exporter": "python",
   "pygments_lexer": "ipython3",
   "version": "3.8.5"
  }
 },
 "nbformat": 4,
 "nbformat_minor": 1
}
