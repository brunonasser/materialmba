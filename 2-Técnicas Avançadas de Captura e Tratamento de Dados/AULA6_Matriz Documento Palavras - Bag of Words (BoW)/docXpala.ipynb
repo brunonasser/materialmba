{
 "cells": [
  {
   "cell_type": "markdown",
   "metadata": {},
   "source": [
    "# <font color=\"blue\"> MBA em Ciência de Dados</font>\n",
    "# <font color=\"blue\">Técnicas Avançadas para Captura e Tratamento de Dados</font>\n",
    "\n",
    "## <font color=\"blue\"> Matriz Documento $\\times$ Palavras - Bag of Words</font>\n",
    "**Material Produzido por Luis Gustavo Nonato**<br>\n",
    "**Cemeai - ICMC/USP São Carlos**\n",
    "---"
   ]
  },
  {
   "cell_type": "markdown",
   "metadata": {},
   "source": [
    "---\n",
    "## Conteúdo\n",
    "- Introdução\n",
    "- Pré-processamento\n",
    "    - Extração de palavras\n",
    "    - Limpesa de símbolos\n",
    "    - Stemming\n",
    "- Construção da Matriz Documentos $\\times$ Palavras\n",
    "    - TF-IDF\n",
    "    - Remoção das palavras mais e menos frequentes\n",
    "    \n",
    "**Bibliografia**\n",
    "- https://www.nltk.org/book/"
   ]
  },
  {
   "cell_type": "markdown",
   "metadata": {},
   "source": [
    "Os códigos abaixo fazem uso da coleção de documentos presente no diretório `DocCol1` contido no arquivo <font style=\"font-family: monaco\"> DocCol.zip</font>, o qual pode ser baixado do Moodle."
   ]
  },
  {
   "cell_type": "markdown",
   "metadata": {},
   "source": [
    "## Introdução\n",
    "Analisar, comparar e agrupar documentos textuais com base na similaridade de seus conteúdos são tarefas essenciais em muitas aplicações, como análise de sentimentos, levantamento de fatos históricos, dentre outras. \n",
    "\n",
    "Porém, documentos são conjuntos de textos no formato ASCII (ou pondem ser transformados para o formato ASCII), portanto, são dados não estruturados, o que dificulta as tarefas de análise e comparação. Desta forma, é necessário \"vetorizar\" textos a fim de viabilizar o emprego de processos matemáticos e computacionais como forma de tratamento e análise.\n",
    "\n",
    "Um mecanismo bastante importante para \"vetorizar\" documentos é a construção das chamadas matrizes <font color='blue'>Documentos $\\times$ Palavras</font>.\n",
    "\n",
    "O processo de vetorização envolve a extração de palavras relevantes contidas nos textos, descartando símbolos, pontuação, artigos, preposições, pronomes, etc."
   ]
  },
  {
   "cell_type": "markdown",
   "metadata": {},
   "source": [
    "## Pré-processamento\n",
    "A construção de uma matriz Documentos $\\times$ Palavras envolve diversas etapas de pré-processamento:\n",
    "\n",
    "1. Obter a \"string\" correspondente ao texto de cada documento\n",
    "2. Extrair as palavras de cada string\n",
    "3. Remover pontuação e símbolos\n",
    "4. Remover \"Stop Words\"\n",
    "5. Extrair bigramas, trigramas, ...\n",
    "5. Normalização Léxica"
   ]
  },
  {
   "cell_type": "markdown",
   "metadata": {},
   "source": [
    "### Obtendo String a partir de Coleção de Documentos\n",
    "\n",
    "O diretório `DocCol1` contém um conjunto de documentos relacionados a dois tópicos distintos, desenvolvimento espacial (arquivos com as iniciais _sp_) e esportores (arquivos com as iniciais _ba_). O código abaixo carrega todos os documentos e concatena em uma única string."
   ]
  },
  {
   "cell_type": "code",
   "execution_count": 1,
   "metadata": {},
   "outputs": [
    {
     "name": "stdout",
     "output_type": "stream",
     "text": [
      "['DocCol1\\\\ba1', 'DocCol1\\\\ba10', 'DocCol1\\\\ba11', 'DocCol1\\\\ba12', 'DocCol1\\\\ba13']\n"
     ]
    }
   ],
   "source": [
    "# Lendo o documento como uma string\n",
    "import glob  # glob é um pacote que permite varrer arquivos e diretorios\n",
    "\n",
    "files = glob.glob(\"DocCol1/*\")  # O diretório contém um conjunto de documentos já no formato ASCII\n",
    "print(files[:5])\n",
    "\n",
    "docs = ''\n",
    "for fname in files:\n",
    "    with open(fname,'r') as f:\n",
    "        docs = docs+' '+f.read()  # todos os documentos\n",
    "                                  # são concatenadas na string 'docs'"
   ]
  },
  {
   "cell_type": "markdown",
   "metadata": {},
   "source": [
    "### Extraindo Palavras\n",
    "\n",
    "Uma etapa importante do processo de construção de uma matriz <font color='blue'>Documentos $\\times$ Palavras</font> é a identificação das palavras, separando-as dos símbolos, números, etc. O pacote <font color='blue'>nltk</font> do Python possui diversos métodos para processar conjuntos de palavras, incluindo <font color='blue'>word_tokenize</font> que separa as palavras, símbolos, números e outros ''tokens''."
   ]
  },
  {
   "cell_type": "code",
   "execution_count": 3,
   "metadata": {},
   "outputs": [
    {
     "name": "stderr",
     "output_type": "stream",
     "text": [
      "[nltk_data] Downloading package punkt to\n",
      "[nltk_data]     C:\\Users\\nasse\\AppData\\Roaming\\nltk_data...\n",
      "[nltk_data]   Unzipping tokenizers\\punkt.zip.\n"
     ]
    },
    {
     "name": "stdout",
     "output_type": "stream",
     "text": [
      "['Subject', ':', 'Re', ':', 'Eck', 'vs', 'Rickey', '(', 'was', 'Re', ':', 'Rickey', \"'s\", 'whining', 'again', ')', 'From', ':', 'smith', '@']\n"
     ]
    }
   ],
   "source": [
    "# nltk.word_tokenize transforma a string em uma lista de palavras\n",
    "import nltk\n",
    "nltk.download('punkt')\n",
    "\n",
    "words = nltk.word_tokenize(docs) # extrai as palavras\n",
    "print(words[:20])    # 20 primeiras palavras extraidas"
   ]
  },
  {
   "cell_type": "markdown",
   "metadata": {},
   "source": [
    "### Removendo Símbolos e Caracteres Isolados\n",
    "\n",
    "O resultado do método <font color='blue'>word_tokenize</font> é uma lista onde cada elemento é um ''token''. Para limparmos a lista de modo a preservarmos somente as plavras (removendo símbolos, etc.) utilizando o pacote <font color='blue'>string</font> do Python."
   ]
  },
  {
   "cell_type": "code",
   "execution_count": 4,
   "metadata": {},
   "outputs": [
    {
     "name": "stdout",
     "output_type": "stream",
     "text": [
      "['subject', 're', 'eck', 'vs', 'rickey', 'was', 're', 'rickey', 'whining', 'again', 'from', 'smith', 'brian', 'smith', 'in', 'article', 'david', 'tate', 'writes', 'read']\n"
     ]
    }
   ],
   "source": [
    "import string\n",
    "# removend todos os simbolos da lista de palavras\n",
    "# o método \"isalpha\" retorna True quando a string é \n",
    "# formada apenas por letras do alphabeto\n",
    "# string.ascii_letters contém a lista de todas as letras do alphabeto\n",
    "\n",
    "# remove simbolos da\n",
    "# lista de palavras\n",
    "words = [w.lower() for w in words if w.isalpha() and w not in string.ascii_letters]  \n",
    "\n",
    "print(words[:20])"
   ]
  },
  {
   "cell_type": "markdown",
   "metadata": {},
   "source": [
    "### Removendo Stop Words\n",
    "Algumas palavras não contribuem para a semântica dos documentos e devem ser removidas, pois geram um ruído que atrapalha as análises. O método <font color='blue'> stopwords </font> do pacote <font color='blue'> nltk </font> fornece, para várias línguas diferentes, uma lista do que se considera palavras irrelevântes para fins de análise semântica."
   ]
  },
  {
   "cell_type": "code",
   "execution_count": 16,
   "metadata": {},
   "outputs": [
    {
     "name": "stderr",
     "output_type": "stream",
     "text": [
      "[nltk_data] Downloading package stopwords to\n",
      "[nltk_data]     C:\\Users\\nasse\\AppData\\Roaming\\nltk_data...\n"
     ]
    },
    {
     "name": "stdout",
     "output_type": "stream",
     "text": [
      "['i', 'me', 'my', 'myself', 'we']\n",
      "Palavras Relevantes\n",
      " ['subject', 'eck', 'vs', 'rickey', 'rickey', 'whining', 'smith', 'brian', 'smith', 'article', 'david', 'tate', 'writes', 'read', 'followups', 'thought', 'go', 'back', 'original', 'article']\n"
     ]
    },
    {
     "name": "stderr",
     "output_type": "stream",
     "text": [
      "[nltk_data]   Unzipping corpora\\stopwords.zip.\n"
     ]
    }
   ],
   "source": [
    "from nltk.corpus import stopwords\n",
    "nltk.download('stopwords')\n",
    "\n",
    "# lista das stop words\n",
    "stop_words = stopwords.words('english')\n",
    "print(stop_words[:5])\n",
    "\n",
    "words = [w for w in words if w not in stop_words] # removendo palavras irrelevantes da lista\n",
    "print('Palavras Relevantes\\n',words[:20])                                 # de palavras"
   ]
  },
  {
   "cell_type": "markdown",
   "metadata": {},
   "source": [
    "### Bigramas, Trigramas, ...\n",
    "Algumas expressões compostas por duas (bigramas) ou mais palavras (n-gramas) contém grande significado semântico, sendo interessante mantê-las juntas na lista de palavras relevantes. O pacote <font color='blue'> nltk </font> contém métodos específicos para extrair bigramas, trigramas, etc."
   ]
  },
  {
   "cell_type": "code",
   "execution_count": 5,
   "metadata": {},
   "outputs": [
    {
     "name": "stdout",
     "output_type": "stream",
     "text": [
      "['national space', 'degrees fahrenheit', 'space center', 'astronomical society', 'degrees celsius', 'dewey larson', 'mark singer', 'thu apr', 'celsius degrees', 'jon leech']\n"
     ]
    }
   ],
   "source": [
    "from nltk import word_tokenize\n",
    "from nltk.collocations import * # collocations é o subpacote para \n",
    "                                # manipular n-gramas\n",
    "\n",
    "# BigramAssocMeasures() possui medidas de importância para n-gramas\n",
    "bigram_measures = nltk.collocations.BigramAssocMeasures() \n",
    "\n",
    "# econtrando os top 20 bigramas\n",
    "finder = BigramCollocationFinder.from_words(words)\n",
    "for i in finder.nbest(bigram_measures.raw_freq,20):\n",
    "    words.append(i[0].lower()+' '+i[1].lower())\n",
    "    \n",
    "print(words[-10:])"
   ]
  },
  {
   "cell_type": "markdown",
   "metadata": {},
   "source": [
    "## Normalização Léxica\n",
    "\n",
    "Existem vários métodos de normalização lexica, sendo que _Stemming_ e _Lematização_ estão entre os mais relevantes. Nos exemplos abaixo utilizaremos o método de _Stemming_. Informações e conceitos sobre _Lematização_ podem ser encontrados [aqui](https://www.datacamp.com/community/tutorials/text-analytics-beginners-nltk)"
   ]
  },
  {
   "cell_type": "markdown",
   "metadata": {},
   "source": [
    "### Stemming\n",
    "O processo de stemming busca converter as palavras para sua forma base, por exemplo: \n",
    "\n",
    "ando, andando, andei, andarei $\\longrightarrow$ andar\n",
    "\n",
    "O pacote <font color='blue'>nltk</font> possui o método <font color='blue'>PorterStemmer</font> que executa o steeming das palavras."
   ]
  },
  {
   "cell_type": "code",
   "execution_count": 17,
   "metadata": {},
   "outputs": [
    {
     "name": "stdout",
     "output_type": "stream",
     "text": [
      "['subject', 'eck', 'vs', 'rickey', 'rickey', 'whine', 'smith', 'brian', 'smith', 'articl', 'david', 'tate', 'write', 'read', 'followup', 'thought', 'go', 'back', 'origin', 'articl', 'make', 'specif', 'comment', 'method', 'jao', 'john', 'oswalt', 'said', 'obtain', 'play', 'play', 'record', 'comput', 'readabl', 'form', 'everi', 'major', 'leagu', 'basebal', 'game', 'past', 'sever', 'year', 'devis', 'algorithm', 'call', 'wrote', 'comput', 'program', 'calcul', 'everi', 'major', 'leagu', 'player', 'contribut', 'use', 'work', 'like', 'look', 'everi', 'situat', 'everi', 'game', 'basebal', 'season', 'situat', 'determin', 'inning', 'score', 'baserunn', 'mani', 'out', 'situat', 'count', 'mani', 'time', 'team', 'eventu', 'game', 'situat', 'occur', 'divid', 'number', 'time', 'situat', 'came', 'come', 'valu', 'situat', 'first', 'done', 'georg', 'lindsey', 'late', 'report', 'articl', 'investig', 'strategi', 'basebal', 'author']\n"
     ]
    }
   ],
   "source": [
    "from nltk.stem import PorterStemmer\n",
    "\n",
    "words = [PorterStemmer().stem(w) for w in words]\n",
    "print(words[:100])"
   ]
  },
  {
   "cell_type": "markdown",
   "metadata": {},
   "source": [
    "## Construindo a Matriz Documentos $\\times$ Palavras\n",
    "A contrução de uma \"Bag of Words\" (matrix Documentos $\\times$ Palavras) é feita aplicando todos os passos acima em cada documento, juntando todas as informações em um DataFrame (ou array) onde as linhas representam os documentos e as colunas o conjunto de palavras. Cada entrada $(i,j)$ do DataFrame representa o número de vezes que a palavra $j$ aparece no documento $i$, ou seja:\n",
    "\n",
    "$$\n",
    "\\begin{array}{c}\\\\\n",
    "Doc_1\\\\\n",
    "Doc_2\\\\\n",
    "\\vdots\\\\\n",
    "Doc_n\n",
    "\\end{array}\n",
    "\\quad\\Longrightarrow\\quad\n",
    "\\begin{array}{lcccc}\n",
    "     & palavra_1 & palavra_2 & \\cdots & palavra_m\\\\\n",
    "Doc_1 & 0 & 2 &  & 0\\\\ \n",
    "Doc_2 & 3 & 0 &  & 1\\\\\n",
    "      &   &   & \\vdots & \\\\\n",
    "Doc_n & 0 & 0 &  & 0\\\\     \n",
    "\\end{array}\n",
    "$$"
   ]
  },
  {
   "cell_type": "code",
   "execution_count": 23,
   "metadata": {},
   "outputs": [
    {
     "data": {
      "text/plain": [
       "Counter({'bruno': 2, 'maria': 1})"
      ]
     },
     "execution_count": 23,
     "metadata": {},
     "output_type": "execute_result"
    }
   ],
   "source": [
    "x=['bruno','bruno','maria']\n",
    "Counter(x)"
   ]
  },
  {
   "cell_type": "markdown",
   "metadata": {},
   "source": [
    "### ESSE ABAIXO É UM RESUMO DE TUDO"
   ]
  },
  {
   "cell_type": "code",
   "execution_count": 35,
   "metadata": {},
   "outputs": [
    {
     "name": "stdout",
     "output_type": "stream",
     "text": [
      "DocCol1\\ba1 --> {'subject': 1, 'eck': 1, 'vs': 1, 'rickey': 2, 'whine': 1, 'smith': 3, 'brian': 2, 'articl': 4, 'david': 1, 'tate': 1, 'write': 1, 'read': 2, 'followup': 1, 'thought': 2, 'go': 2, 'back': 1, 'origin': 1, 'make': 2, 'specif': 1, 'comment': 2, 'method': 5, 'jao': 1, 'john': 7, 'oswalt': 1, 'said': 1, 'obtain': 2, 'play': 3, 'record': 2, 'comput': 2, 'readabl': 1, 'form': 1, 'everi': 4, 'major': 3, 'leagu': 3, 'basebal': 4, 'game': 19, 'past': 1, 'sever': 1, 'year': 3, 'devis': 1, 'algorithm': 1, 'call': 2, 'wrote': 1, 'program': 1, 'calcul': 1, 'player': 11, 'contribut': 3, 'use': 3, 'work': 3, 'like': 1, 'look': 7, 'situat': 14, 'season': 7, 'determin': 1, 'inning': 6, 'score': 11, 'baserunn': 1, 'mani': 11, 'out': 3, 'count': 1, 'time': 4, 'team': 15, 'eventu': 1, 'occur': 1, 'divid': 1, 'number': 6, 'came': 3, 'come': 3, 'valu': 11, 'first': 8, 'done': 2, 'georg': 2, 'lindsey': 3, 'late': 4, 'report': 3, 'investig': 1, 'strategi': 1, 'author': 1, 'journal': 1, 'oper': 1, 'research': 1, 'issu': 1, 'volum': 1, 'pp': 1, 'later': 1, 'pete': 1, 'palmer': 1, 'thing': 3, 'simul': 1, 'gener': 1, 'larger': 1, 'set': 1, 'data': 1, 'avoid': 1, 'kind': 1, 'anomali': 1, 'peopl': 1, 'worri': 1, 'thorn': 1, 'gari': 1, 'skoog': 1, 'modifi': 1, 'bit': 1, 'ad': 2, 'measur': 1, 'base': 3, 'directli': 1, 'margin': 1, 'run': 24, 'though': 1, 'win': 22, 'probabl': 11, 'result': 2, 'appli': 3, 'one': 5, 'bill': 1, 'jame': 1, 'abstract': 1, 'book': 1, 'help': 1, 'somebodi': 2, 'exampl': 3, 'might': 1, 'runner': 1, 'second': 3, 'regular': 1, 'last': 2, 'rocki': 1, 'marlin': 1, 'say': 5, 'ahead': 1, 'descript': 1, 'chang': 1, 'bat': 1, 'plu': 2, 'baserun': 1, 'amount': 1, 'get': 6, 'plate': 2, 'appear': 4, 'sum': 2, 'overal': 1, 'obvious': 1, 'whole': 1, 'alway': 2, 'credit': 2, 'batter': 3, 'pitcher': 5, 'valid': 1, 'involv': 1, 'ok': 1, 'big': 1, 'problem': 3, 'nobodi': 1, 'yet': 2, 'add': 5, 'total': 3, 'break': 1, 'joe': 1, 'fred': 5, 'etc': 3, 'way': 2, 'bob': 8, 'increas': 5, 'chanc': 9, 'pa': 3, 'mean': 8, 'fact': 2, 'anyth': 1, 'unit': 1, 'screwi': 1, 'agre': 1, 'disagre': 1, 'effort': 1, 'loss': 3, 'correct': 1, 'someth': 3, 'would': 9, 'rather': 1, 'thu': 3, 'obviou': 1, 'posit': 2, 'associ': 2, 'statist': 7, 'disregard': 1, 'stat': 1, 'studi': 1, 'must': 1, 'sort': 1, 'relationship': 1, 'consid': 1, 'hit': 3, 'solo': 3, 'hr': 5, 'bottom': 1, 'scale': 1, 'fourth': 1, 'tie': 3, 'anoth': 4, 'seventh': 1, 'final': 1, 'ninth': 3, 'respons': 2, 'certainli': 2, 'defens': 2, 'includ': 1, 'pitch': 4, 'offens': 1, 'lot': 2, 'even': 1, 'close': 2, 'furthermor': 2, 'valuabl': 1, 'take': 2, 'lead': 3, 'see': 1, 'accru': 1, 'good': 3, 'rate': 1, 'combin': 1, 'amass': 1, 'clearli': 1, 'insist': 1, 'exactli': 2, 'averag': 3, 'rememb': 1, 'perform': 5, 'away': 1, 'neg': 4, 'case': 1, 'sure': 1, 'given': 3, 'sometim': 2, 'less': 1, 'also': 2, 'bad': 2, 'give': 6, 'may': 2, 'larg': 2, 'percentag': 1, 'pull': 1, 'night': 1, 'greg': 2, 'think': 2, 'right': 2, 'intuit': 1, 'mark': 1, 'closer': 5, 'enorm': 1, 'import': 4, 'outweigh': 1, 'prevent': 1, 'com': 1, 'doubl': 1, 'allow': 2, 'enough': 1, 'propos': 1, 'test': 1, 'predict': 3, 'quit': 1, 'accur': 1, 'without': 1, 'regard': 1, 'realli': 5, 'earli': 1, 'better': 2, 'predictor': 1, 'smaller': 1, 'sampl': 1, 'size': 1, 'howev': 2, 'realiz': 1, 'els': 2, 'usual': 1, 'blow': 1, 'hard': 1, 'argu': 1, 'equal': 2, 'often': 2, 'lose': 1, 'hand': 1, 'starter': 1, 'still': 1, 'leav': 1, 'offenc': 1, 'either': 1, 'matter': 1, 'experi': 1, 'basketbal': 1, 'find': 4, 'point': 3, 'half': 3, 'almost': 1, 'safe': 1, 'entir': 1, 'sub': 1, 'bench': 1, 'sink': 1, 'free': 2, 'throw': 2, 'clock': 1, 'star': 1, 'forward': 1, 'sprain': 1, 'ankl': 1, 'zero': 1, 'sens': 1, 'assum': 2, 'posses': 2, 'made': 1, 'left': 1, 'fairli': 1, 'high': 1, 'ball': 1, 'forget': 1, 'miss': 1, 'shot': 1, 'turnov': 1, 'foul': 1, 'caus': 1, 'discuss': 1, 'feel': 1, 'critis': 1, 'certain': 2, 'extent': 1, 'agenda': 1, 'valad': 1, 'clutch': 3, 'cluth': 1, 'revolv': 1, 'around': 1, 'idea': 1, 'crucial': 1, 'elev': 1, 'other': 1, 'goe': 1, 'never': 1, 'seen': 1, 'convinc': 1, 'proof': 1, 'happen': 1, 'except': 2, 'noic': 2, 'rid': 1, 'believ': 1, 'could': 1, 'home': 2, 'instanc': 1, 'strikeout': 1, 'decreas': 1, 'bet': 1, 'evalu': 1, 'relief': 1, 'sam': 2, 'exact': 1, 'earn': 1, 'k': 1, 'bb': 1, 'mop': 1, 'man': 1, 'valubl': 1}\n"
     ]
    }
   ],
   "source": [
    "# constuindo um dicionario onde a chave é o rótulo do documento e o valor \n",
    "# as palavras que ocorrem no documento\n",
    "import glob\n",
    "import nltk\n",
    "from nltk.corpus import stopwords\n",
    "from nltk.stem import PorterStemmer\n",
    "from collections import Counter\n",
    "\n",
    "# lista das stop words\n",
    "stop_words = stopwords.words('english')\n",
    "\n",
    "files = glob.glob(\"DocCol1/*\")  # vamos utilizar os documento que estão no diretório DocCol3 \n",
    "\n",
    "ddocs = {}\n",
    "for fname in files:\n",
    "    key = fname.split('/')[-1]  # rotulo do documento pega o que vem antes da \"/\"\n",
    "    with open(fname,'r') as f:  # obtendo a lista de palavras processadas de cada documento\n",
    "        doc = f.read()\n",
    "        # obtendo palavras do documento\n",
    "        words = nltk.word_tokenize(doc) \n",
    "        # removendo simbolos\n",
    "        words = [w.lower() for w in words if w.isalpha()] \n",
    "        # removendo stop words\n",
    "        words = [w for w in words if w not in stop_words]\n",
    "        # stemming\n",
    "        words = [PorterStemmer().stem(w) for w in words]\n",
    "        # calculando a frequência de palavras\n",
    "        ddocs[key] = dict(Counter(words))\n",
    "      \n",
    "print(list(ddocs.keys())[0],'-->',ddocs[list(ddocs.keys())[0]])\n",
    "\n",
    "# No processo acima não incluimos bigramas ou trigramas. \n",
    "# Como exercício, modifique o processo para incorporar\n",
    "# bigramas ou trigramas"
   ]
  },
  {
   "cell_type": "markdown",
   "metadata": {},
   "source": [
    "A variável `ddocs` é um dicionário onde cada chave é o nome de um documento e o valor correspondente é um outro dicionário, cuja chave é uma palavra relevante do documento e o valor o número de ocorrências da palavra no documeto. Ou seja:\n",
    "```\n",
    "{\n",
    "    'Doc1' : {p1: np1, p2:np2,...}\n",
    "    'Doc2' : {p1: np1, p5:np2,...}\n",
    "      :\n",
    "      :\n",
    "}\n",
    "```"
   ]
  },
  {
   "cell_type": "code",
   "execution_count": 36,
   "metadata": {},
   "outputs": [
    {
     "name": "stdout",
     "output_type": "stream",
     "text": [
      "['rectitud', 'conspicu', 'abridg', 'platform', 'owen', 'uar', 'underli', 'andrea', 'input', 'inglesid']\n"
     ]
    }
   ],
   "source": [
    "# constrindo a lista de todas as palavras\n",
    "# precisamos desta lista para definir as colunas do DataFrame Documentos X Palavras\n",
    "corpus = []\n",
    "\n",
    "for v in ddocs.values():\n",
    "    corpus.extend(list(v.keys()))  # juntando as listas de \n",
    "                                   # palavras de cada documento\n",
    "    \n",
    "corpus = list(set(corpus)) # removendo palavras repetidas\n",
    "print(corpus[:10])"
   ]
  },
  {
   "cell_type": "code",
   "execution_count": 37,
   "metadata": {},
   "outputs": [
    {
     "data": {
      "text/html": [
       "<div>\n",
       "<style scoped>\n",
       "    .dataframe tbody tr th:only-of-type {\n",
       "        vertical-align: middle;\n",
       "    }\n",
       "\n",
       "    .dataframe tbody tr th {\n",
       "        vertical-align: top;\n",
       "    }\n",
       "\n",
       "    .dataframe thead th {\n",
       "        text-align: right;\n",
       "    }\n",
       "</style>\n",
       "<table border=\"1\" class=\"dataframe\">\n",
       "  <thead>\n",
       "    <tr style=\"text-align: right;\">\n",
       "      <th></th>\n",
       "      <th>rectitud</th>\n",
       "      <th>conspicu</th>\n",
       "      <th>abridg</th>\n",
       "      <th>platform</th>\n",
       "      <th>owen</th>\n",
       "      <th>uar</th>\n",
       "      <th>underli</th>\n",
       "      <th>andrea</th>\n",
       "      <th>input</th>\n",
       "      <th>inglesid</th>\n",
       "      <th>...</th>\n",
       "      <th>wfan</th>\n",
       "      <th>candelaria</th>\n",
       "      <th>kmak</th>\n",
       "      <th>feb</th>\n",
       "      <th>forev</th>\n",
       "      <th>profession</th>\n",
       "      <th>medium</th>\n",
       "      <th>paid</th>\n",
       "      <th>purchas</th>\n",
       "      <th>versa</th>\n",
       "    </tr>\n",
       "  </thead>\n",
       "  <tbody>\n",
       "    <tr>\n",
       "      <th>DocCol1\\ba1</th>\n",
       "      <td>0</td>\n",
       "      <td>0</td>\n",
       "      <td>0</td>\n",
       "      <td>0</td>\n",
       "      <td>0</td>\n",
       "      <td>0</td>\n",
       "      <td>0</td>\n",
       "      <td>0</td>\n",
       "      <td>0</td>\n",
       "      <td>0</td>\n",
       "      <td>...</td>\n",
       "      <td>0</td>\n",
       "      <td>0</td>\n",
       "      <td>0</td>\n",
       "      <td>0</td>\n",
       "      <td>0</td>\n",
       "      <td>0</td>\n",
       "      <td>0</td>\n",
       "      <td>0</td>\n",
       "      <td>0</td>\n",
       "      <td>0</td>\n",
       "    </tr>\n",
       "    <tr>\n",
       "      <th>DocCol1\\ba10</th>\n",
       "      <td>0</td>\n",
       "      <td>0</td>\n",
       "      <td>0</td>\n",
       "      <td>0</td>\n",
       "      <td>0</td>\n",
       "      <td>0</td>\n",
       "      <td>0</td>\n",
       "      <td>0</td>\n",
       "      <td>0</td>\n",
       "      <td>0</td>\n",
       "      <td>...</td>\n",
       "      <td>0</td>\n",
       "      <td>0</td>\n",
       "      <td>0</td>\n",
       "      <td>0</td>\n",
       "      <td>0</td>\n",
       "      <td>0</td>\n",
       "      <td>0</td>\n",
       "      <td>0</td>\n",
       "      <td>0</td>\n",
       "      <td>0</td>\n",
       "    </tr>\n",
       "    <tr>\n",
       "      <th>DocCol1\\ba11</th>\n",
       "      <td>0</td>\n",
       "      <td>0</td>\n",
       "      <td>0</td>\n",
       "      <td>0</td>\n",
       "      <td>0</td>\n",
       "      <td>0</td>\n",
       "      <td>0</td>\n",
       "      <td>0</td>\n",
       "      <td>0</td>\n",
       "      <td>0</td>\n",
       "      <td>...</td>\n",
       "      <td>0</td>\n",
       "      <td>1</td>\n",
       "      <td>0</td>\n",
       "      <td>0</td>\n",
       "      <td>0</td>\n",
       "      <td>0</td>\n",
       "      <td>0</td>\n",
       "      <td>0</td>\n",
       "      <td>0</td>\n",
       "      <td>0</td>\n",
       "    </tr>\n",
       "    <tr>\n",
       "      <th>DocCol1\\ba12</th>\n",
       "      <td>0</td>\n",
       "      <td>0</td>\n",
       "      <td>0</td>\n",
       "      <td>0</td>\n",
       "      <td>0</td>\n",
       "      <td>0</td>\n",
       "      <td>0</td>\n",
       "      <td>0</td>\n",
       "      <td>0</td>\n",
       "      <td>0</td>\n",
       "      <td>...</td>\n",
       "      <td>0</td>\n",
       "      <td>0</td>\n",
       "      <td>0</td>\n",
       "      <td>0</td>\n",
       "      <td>0</td>\n",
       "      <td>0</td>\n",
       "      <td>0</td>\n",
       "      <td>0</td>\n",
       "      <td>0</td>\n",
       "      <td>0</td>\n",
       "    </tr>\n",
       "    <tr>\n",
       "      <th>DocCol1\\ba13</th>\n",
       "      <td>0</td>\n",
       "      <td>0</td>\n",
       "      <td>0</td>\n",
       "      <td>0</td>\n",
       "      <td>0</td>\n",
       "      <td>0</td>\n",
       "      <td>0</td>\n",
       "      <td>0</td>\n",
       "      <td>0</td>\n",
       "      <td>0</td>\n",
       "      <td>...</td>\n",
       "      <td>0</td>\n",
       "      <td>0</td>\n",
       "      <td>0</td>\n",
       "      <td>0</td>\n",
       "      <td>0</td>\n",
       "      <td>0</td>\n",
       "      <td>0</td>\n",
       "      <td>0</td>\n",
       "      <td>0</td>\n",
       "      <td>0</td>\n",
       "    </tr>\n",
       "  </tbody>\n",
       "</table>\n",
       "<p>5 rows × 6686 columns</p>\n",
       "</div>"
      ],
      "text/plain": [
       "              rectitud  conspicu  abridg  platform  owen  uar  underli  \\\n",
       "DocCol1\\ba1          0         0       0         0     0    0        0   \n",
       "DocCol1\\ba10         0         0       0         0     0    0        0   \n",
       "DocCol1\\ba11         0         0       0         0     0    0        0   \n",
       "DocCol1\\ba12         0         0       0         0     0    0        0   \n",
       "DocCol1\\ba13         0         0       0         0     0    0        0   \n",
       "\n",
       "              andrea  input  inglesid  ...  wfan  candelaria  kmak  feb  \\\n",
       "DocCol1\\ba1        0      0         0  ...     0           0     0    0   \n",
       "DocCol1\\ba10       0      0         0  ...     0           0     0    0   \n",
       "DocCol1\\ba11       0      0         0  ...     0           1     0    0   \n",
       "DocCol1\\ba12       0      0         0  ...     0           0     0    0   \n",
       "DocCol1\\ba13       0      0         0  ...     0           0     0    0   \n",
       "\n",
       "              forev  profession  medium  paid  purchas  versa  \n",
       "DocCol1\\ba1       0           0       0     0        0      0  \n",
       "DocCol1\\ba10      0           0       0     0        0      0  \n",
       "DocCol1\\ba11      0           0       0     0        0      0  \n",
       "DocCol1\\ba12      0           0       0     0        0      0  \n",
       "DocCol1\\ba13      0           0       0     0        0      0  \n",
       "\n",
       "[5 rows x 6686 columns]"
      ]
     },
     "execution_count": 37,
     "metadata": {},
     "output_type": "execute_result"
    }
   ],
   "source": [
    "# construindo um DataFrame onde os rótulos das colunas são\n",
    "# as palavras e os das linhas os documentos\n",
    "import pandas as pd\n",
    "import numpy as np\n",
    "\n",
    "rows = list(ddocs.keys())\n",
    "\n",
    "BoW = pd.DataFrame(data=np.zeros((len(rows),len(corpus))),\n",
    "                   columns=corpus,index=rows,dtype=int)\n",
    "\n",
    "for k in ddocs.keys():\n",
    "    BoW.loc[k,list(ddocs[k].keys())] = list(ddocs[k].values())\n",
    "\n",
    "BoW.head()  \n",
    "\n",
    "#BoW.to_csv('bag_of_words.csv')"
   ]
  },
  {
   "cell_type": "markdown",
   "metadata": {},
   "source": [
    "### Removendo palavras mais e menos frequentes\n",
    "Palavras que aparecem em apenas um documento ou que aparece em quase todos os documentos não são úteis para discriminar os documentos, sendo necessário removê-las."
   ]
  },
  {
   "cell_type": "code",
   "execution_count": 38,
   "metadata": {},
   "outputs": [
    {
     "name": "stdout",
     "output_type": "stream",
     "text": [
      "Foram removidas 3006 palavras\n"
     ]
    }
   ],
   "source": [
    "frequency = BoW.sum(axis=0) # conta o número de vezes que cada palavra aparece no corpus\n",
    "smaller = 1.0               # palavras que aparecem \"smaller\" ou menos vezes serão removidas\n",
    "larger = 0.7*BoW.shape[0]   # palavras que aparecem \"larger\" ou mais vezes serão removidas\n",
    "\n",
    "s_mask = (frequency <= smaller) | (frequency >= larger)  # mascara boleana indicando as palavras\n",
    "words_to_remove = frequency[s_mask].index.values         # que serão removidas\n",
    "\n",
    "m = BoW.shape[1]\n",
    "BoW = BoW.drop(words_to_remove, axis=1)  # remove as colunas do DataFrame correspondentes \n",
    "                                         # as palavras que devem ser removidas\n",
    "print('Foram removidas',m-BoW.shape[1],'palavras')"
   ]
  },
  {
   "cell_type": "markdown",
   "metadata": {},
   "source": [
    "### Visualizando os documentos\n",
    "Uma das aplicações interessantes de PCA é utilizar uma Bag of Words para encontrar tópicos associados aos documentos. A ideia é que palavras dentro de um mesmo tópico tendem a estar correlacionadas na Bag of Words e tais correlações tendem a ser capturadas pelas direções principais."
   ]
  },
  {
   "cell_type": "code",
   "execution_count": 39,
   "metadata": {},
   "outputs": [
    {
     "name": "stdout",
     "output_type": "stream",
     "text": [
      "{'Do': 0}\n",
      "(54, 2)\n"
     ]
    }
   ],
   "source": [
    "from sklearn.decomposition import PCA\n",
    "from sklearn.preprocessing import StandardScaler\n",
    "\n",
    "docid = {}\n",
    "for i,c in enumerate(BoW.index.values):\n",
    "   if c[0:2] not in docid:              # as duas letras iniciais do indice indicam o\n",
    "      docid[c[0:2]] = i                 # tópico ao qual o documento está relacionado\n",
    "                                        # docid armazena como chave o tópico e valor \n",
    "print(docid)                            # a linha onde aparece pela primeira vez \n",
    "        \n",
    "doc_ids = [docid[c[0:2]] for c in BoW.index.values] # cria uma lista de labels indicando\n",
    "                                                    # a qual topico o documento pertence.  \n",
    "                                                    # Os labels serão utilizados para colorir\n",
    "                                                    # os documentos de acordo com seu tópico\n",
    "X = BoW.values\n",
    "X = StandardScaler().fit_transform(X)               # Aplica uma normalização Z-score\n",
    "                                                    # nos dados para melhorar o resultado do PCA\n",
    "\n",
    "pca_obj = PCA(n_components=2)\n",
    "Xpca = pca_obj.fit_transform(X)\n",
    "\n",
    "print(Xpca.shape)\n",
    "\n",
    "#BoW.to_csv('bag_of_words_4.csv')"
   ]
  },
  {
   "cell_type": "code",
   "execution_count": 40,
   "metadata": {},
   "outputs": [
    {
     "name": "stdout",
     "output_type": "stream",
     "text": [
      "[0]\n"
     ]
    },
    {
     "data": {
      "text/plain": [
       "<matplotlib.collections.PathCollection at 0x1d94caa7580>"
      ]
     },
     "execution_count": 40,
     "metadata": {},
     "output_type": "execute_result"
    },
    {
     "data": {
      "image/png": "[encoded data removed]",
      "text/plain": [
       "<Figure size 432x288 with 1 Axes>"
      ]
     },
     "metadata": {
      "needs_background": "light"
     },
     "output_type": "display_data"
    }
   ],
   "source": [
    "import matplotlib.pyplot as plt\n",
    "%matplotlib inline\n",
    "\n",
    "print(np.unique(doc_ids))\n",
    "plt.scatter(Xpca[:,0],Xpca[:,1],c=doc_ids)"
   ]
  },
  {
   "cell_type": "markdown",
   "metadata": {},
   "source": [
    "O resultado do PCA mostra que existem outliers, porem, facando a visualização no cluster inferior esquerdo (veja figura abaixo), vemos uma separação dos documentos de acordo com os tópicos, mostrando que a representação via matriz Documentos $\\times$ Palavras, está, até certo ponto, sendo capaz de representar os documentos de acordo com os tópicos."
   ]
  },
  {
   "cell_type": "code",
   "execution_count": 41,
   "metadata": {},
   "outputs": [
    {
     "data": {
      "text/plain": [
       "<matplotlib.collections.PathCollection at 0x1d94cb5ad60>"
      ]
     },
     "execution_count": 41,
     "metadata": {},
     "output_type": "execute_result"
    },
    {
     "data": {
      "image/png": "[encoded data removed]",
      "text/plain": [
       "<Figure size 432x288 with 1 Axes>"
      ]
     },
     "metadata": {
      "needs_background": "light"
     },
     "output_type": "display_data"
    }
   ],
   "source": [
    "fig, ax = plt.subplots()\n",
    "ax.set_xlim(-10, 15)\n",
    "ax.set_ylim(-8, 5)\n",
    "\n",
    "plt.scatter(Xpca[:,0],Xpca[:,1],c=doc_ids)"
   ]
  },
  {
   "cell_type": "markdown",
   "metadata": {},
   "source": [
    "## Term Frequency and Inverse Document Frequency (TF-IDF)\n",
    "TF-IDF é uma técnica para quantificar a importância das palavra nos documentos.\n",
    "\n",
    "**Nomenclatura**:\n",
    "- t — palavra\n",
    "- d — documento (conjunto de palavras)\n",
    "- N — número de documentos\n",
    "\n",
    "#### TF\n",
    "TF mede a frequência de uma palavra em um documento. TF depende muito do tamanho do documento e da generalidade da palavra.\n",
    "\n",
    "$$\n",
    "TF(t,d)= \\frac{\\# t \\mbox{ em } d}{\\#\\mbox{ palavras em } d} \n",
    "$$\n",
    "\n",
    "onde $t$ é uma palavra e $d$ um documento.\n",
    "\n",
    "#### IDF\n",
    "IDF mede o quão informativa cada palavra é no conjunto de documentos. Uma palavra que aparece frequentemente em muitos documentos não é útil para discriminar os documentos, portanto seu IDF deve ser próximo de zero.\n",
    "\n",
    "$$\n",
    "IDF(t) = \\frac{N}{\\# t \\mbox{ em todos os documentos}}\n",
    "$$\n",
    "\n",
    "onde $N$ é o número de documentos no corpus.\n",
    "\n",
    "Combinando as duas métricas temos o chamado TF-IDF:\n",
    "\n",
    "$$\n",
    "TFIDF(t,d) = TF(t,d)*\\log(IDF(t))\n",
    "$$"
   ]
  },
  {
   "cell_type": "code",
   "execution_count": 22,
   "metadata": {},
   "outputs": [
    {
     "name": "stdout",
     "output_type": "stream",
     "text": [
      "(5097,)\n",
      "(135, 5097)\n",
      "(135, 5097)\n"
     ]
    }
   ],
   "source": [
    "X = BoW.values\n",
    "\n",
    "# calculando o IDF das palavras\n",
    "X_idf = X.shape[0]/np.sum(X,axis=0)\n",
    "print(X_idf.shape)\n",
    "\n",
    "# calculando TF de palavras em cada documento\n",
    "X_tf = np.apply_along_axis(lambda x: x/np.sum(x>0),1,X)\n",
    "print(X_tf.shape)\n",
    "\n",
    "# calculando TF-IDF\n",
    "X_tfidf = np.apply_along_axis(lambda x: x*np.log(X_idf),1,X_tf)\n",
    "print(X_tfidf.shape)\n",
    "\n",
    "M = (X_tfidf<0)   # valores negativos são zerados\n",
    "X_tfidf[M] = 0.0"
   ]
  },
  {
   "cell_type": "markdown",
   "metadata": {},
   "source": [
    "Os valores na matriz de Documentos $\\times$ Palavras geralmente são substituidos pelos seus correspondentes TF-IDF, o que tende a gerar representações melhores para cada documento."
   ]
  },
  {
   "cell_type": "code",
   "execution_count": 23,
   "metadata": {},
   "outputs": [
    {
     "name": "stdout",
     "output_type": "stream",
     "text": [
      "(135, 2)\n"
     ]
    },
    {
     "data": {
      "text/plain": [
       "<matplotlib.collections.PathCollection at 0x1229445b0>"
      ]
     },
     "execution_count": 23,
     "metadata": {},
     "output_type": "execute_result"
    },
    {
     "data": {
      "image/png": "[encoded data removed]",
      "text/plain": [
       "<Figure size 432x288 with 1 Axes>"
      ]
     },
     "metadata": {
      "needs_background": "light"
     },
     "output_type": "display_data"
    }
   ],
   "source": [
    "from sklearn.decomposition import PCA\n",
    "from sklearn.preprocessing import StandardScaler\n",
    "\n",
    "X = StandardScaler().fit_transform(X_tfidf)\n",
    "\n",
    "pca_obj = PCA(n_components=2)\n",
    "Xpca = pca_obj.fit_transform(X)\n",
    "\n",
    "print(Xpca.shape)\n",
    "\n",
    "fig, ax = plt.subplots()\n",
    "plt.scatter(Xpca[:,0],Xpca[:,1],c=doc_ids)"
   ]
  },
  {
   "cell_type": "code",
   "execution_count": 25,
   "metadata": {},
   "outputs": [
    {
     "data": {
      "text/plain": [
       "<matplotlib.collections.PathCollection at 0x1231a6250>"
      ]
     },
     "execution_count": 25,
     "metadata": {},
     "output_type": "execute_result"
    },
    {
     "data": {
      "image/png": "[encoded data removed]",
      "text/plain": [
       "<Figure size 432x288 with 1 Axes>"
      ]
     },
     "metadata": {
      "needs_background": "light"
     },
     "output_type": "display_data"
    }
   ],
   "source": [
    "fig, ax = plt.subplots()\n",
    "ax.set_xlim(-5,5)\n",
    "ax.set_ylim(-10,10)\n",
    "\n",
    "plt.scatter(Xpca[:,0],Xpca[:,1],c=doc_ids)"
   ]
  },
  {
   "cell_type": "code",
   "execution_count": 55,
   "metadata": {},
   "outputs": [],
   "source": [
    "# gerando um data frame com a BoW usando TFIDF\n",
    "df_out = pd.DataFrame(data=X_tfidf,columns=BoW.columns.values,index=rows)\n",
    "\n",
    "df_out.to_csv('bag_of_words_4.csv',index=True)"
   ]
  }
 ],
 "metadata": {
  "kernelspec": {
   "display_name": "Python 3",
   "language": "python",
   "name": "python3"
  },
  "language_info": {
   "codemirror_mode": {
    "name": "ipython",
    "version": 3
   },
   "file_extension": ".py",
   "mimetype": "text/x-python",
   "name": "python",
   "nbconvert_exporter": "python",
   "pygments_lexer": "ipython3",
   "version": "3.8.5"
  }
 },
 "nbformat": 4,
 "nbformat_minor": 2
}
