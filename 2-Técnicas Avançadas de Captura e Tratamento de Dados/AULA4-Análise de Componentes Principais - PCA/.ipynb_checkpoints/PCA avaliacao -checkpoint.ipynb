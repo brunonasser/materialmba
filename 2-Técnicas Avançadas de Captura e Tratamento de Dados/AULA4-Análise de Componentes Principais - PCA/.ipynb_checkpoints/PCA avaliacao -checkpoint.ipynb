{
 "cells": [
  {
   "cell_type": "markdown",
   "metadata": {},
   "source": [
    "# <span style=\"color:blue\"> MBA em Ciência de Dados</span>\n",
    "# <span style=\"color:blue\">Técnicas Avançadas para Captura e Tratamento de Dados</span>\n",
    "\n",
    "## <span style=\"color:blue\">Análise de Componentes Principais -  Avaliação</span>\n",
    "**Material Produzido por Luis Gustavo Nonato**<br>\n",
    "**Cemeai - ICMC/USP São Carlos**\n",
    "---"
   ]
  },
  {
   "cell_type": "markdown",
   "metadata": {},
   "source": [
    "Os exercícios abaixo farão uso do conjunto de dados <font style=\"font-family: monaco\">blobs2.csv</font> disponível no _moodle_."
   ]
  },
  {
   "cell_type": "code",
   "execution_count": null,
   "metadata": {},
   "outputs": [],
   "source": [
    "import numpy as np\n",
    "import pandas as pd\n",
    "import matplotlib.pyplot as plt"
   ]
  },
  {
   "cell_type": "markdown",
   "metadata": {},
   "source": [
    "### Exercício 1)\n",
    "Calcule as direções principais dos dados contidos no arquivo <font style=\"font-family: monaco\">blobs2.csv</font>. Quais são os valores das duas maiores variâncias?\n",
    "\n",
    "a) 338.02 e 271.17<br>\n",
    "b) 1162.75 e 993.63<br>\n",
    "c) 271.17 e 160.90 <br>\n",
    "d) 1074.60 e 338.02"
   ]
  },
  {
   "cell_type": "code",
   "execution_count": 12,
   "metadata": {},
   "outputs": [],
   "source": [
    "import pandas as pd\n",
    "import numpy as np\n",
    "\n",
    "import matplotlib.pyplot as plt\n",
    "%matplotlib inline"
   ]
  },
  {
   "cell_type": "code",
   "execution_count": 84,
   "metadata": {},
   "outputs": [
    {
     "data": {
      "text/plain": [
       "array([1.16275797e+03, 9.93633235e+02, 9.58550832e+02, 8.62611653e+02,\n",
       "       7.61975871e+02, 2.31658739e+02, 1.30336748e+02, 1.27268677e+02,\n",
       "       1.26850842e+00, 1.22231302e+00, 1.20210845e+00, 1.10917185e+00,\n",
       "       1.08936336e+00, 1.06001534e+00, 1.00779968e+00, 9.78347600e-01,\n",
       "       9.66668811e-01, 9.27783735e-01, 8.84990473e-01, 8.69905358e-01,\n",
       "       8.42314426e-01, 7.89102415e-01, 7.67901964e-01, 7.17463589e-01,\n",
       "       6.88735223e-01])"
      ]
     },
     "execution_count": 84,
     "metadata": {},
     "output_type": "execute_result"
    }
   ],
   "source": [
    "pca_obj.explained_variance_"
   ]
  },
  {
   "cell_type": "code",
   "execution_count": 82,
   "metadata": {},
   "outputs": [
    {
     "name": "stdout",
     "output_type": "stream",
     "text": [
      "(600, 25)\n"
     ]
    },
    {
     "data": {
      "text/plain": [
       "[<matplotlib.lines.Line2D at 0x224ebcd3d60>]"
      ]
     },
     "execution_count": 82,
     "metadata": {},
     "output_type": "execute_result"
    },
    {
     "data": {
      "image/png": "[encoded data removed]",
      "text/plain": [
       "<Figure size 864x432 with 2 Axes>"
      ]
     },
     "metadata": {
      "needs_background": "light"
     },
     "output_type": "display_data"
    }
   ],
   "source": [
    "from sklearn.decomposition import PCA\n",
    "\n",
    "X = pd.read_csv('blobs2.csv').values\n",
    "print(X.shape)\n",
    "\n",
    "pca_obj=PCA(svd_solver='full')\n",
    "X_transformed = pca_obj.fit(X)\n",
    "\n",
    "plt.rcParams['figure.figsize'] = [12, 6]\n",
    "f, (ax1, ax2)  = plt.subplots(1,2)\n",
    "\n",
    "ax1.plot(pca_obj.explained_variance_, '*') #valores das variancias \n",
    "ax2.plot(pca_obj.explained_variance_ratio_[:20], '*') #porc das variancias acumuladas"
   ]
  },
  {
   "cell_type": "markdown",
   "metadata": {},
   "source": [
    "### Exercício 2)\n",
    "Qual o número mínimo de direções principais necessárias para representar $95\\%$ da variância contida nos dados?\n",
    "\n",
    "a) 5<br>\n",
    "b) 6<br>\n",
    "c) 7<br>\n",
    "d) 8"
   ]
  },
  {
   "cell_type": "code",
   "execution_count": 63,
   "metadata": {},
   "outputs": [
    {
     "name": "stdout",
     "output_type": "stream",
     "text": [
      "Numero de componentes com no mínimo 95% da informacao:  7\n",
      "\n",
      "Porcentagem da informacao:  0.97261085409652\n"
     ]
    }
   ],
   "source": [
    "percentage_info = 0.0\n",
    "num_components80 = 0\n",
    "for i in range(X_transformed.explained_variance_ratio_.shape[0]):\n",
    "    percentage_info += X_transformed.explained_variance_ratio_[i]\n",
    "    if percentage_info >= 0.95:\n",
    "        num_components80 = i+1\n",
    "        break\n",
    "        \n",
    "print('Numero de componentes com no mínimo 95% da informacao: ',\n",
    "     num_components80)\n",
    "print('\\nPorcentagem da informacao: ',percentage_info)"
   ]
  },
  {
   "cell_type": "markdown",
   "metadata": {},
   "source": [
    "### Exercício 3)\n",
    "Existem _outliers_ nos dados originais. Utilize z-score com um threshold de 2.8 para identificar os outliers e removê-los dos dados. Quantos outliers foram identificados?\n",
    "\n",
    "a) 3<br>\n",
    "b) 4<br>\n",
    "c) 5<br>\n",
    "d) 6"
   ]
  },
  {
   "cell_type": "code",
   "execution_count": 64,
   "metadata": {},
   "outputs": [
    {
     "data": {
      "text/plain": [
       "<matplotlib.collections.PathCollection at 0x224ea954dc0>"
      ]
     },
     "execution_count": 64,
     "metadata": {},
     "output_type": "execute_result"
    },
    {
     "data": {
      "image/png": "[encoded data removed]",
      "text/plain": [
       "<Figure size 864x432 with 1 Axes>"
      ]
     },
     "metadata": {
      "needs_background": "light"
     },
     "output_type": "display_data"
    }
   ],
   "source": [
    "X2D = np.dot(X,X_transformed.components_[0:2].T)\n",
    "\n",
    "plt.scatter(X2D[:,0],X2D[:,1])"
   ]
  },
  {
   "cell_type": "code",
   "execution_count": 65,
   "metadata": {},
   "outputs": [
    {
     "name": "stdout",
     "output_type": "stream",
     "text": [
      "indice das linhas dos elementos \"outliers\":\n",
      " [[116  13]\n",
      " [240  16]\n",
      " [286   5]\n",
      " [298  17]\n",
      " [398   6]]\n",
      "(600, 25)\n",
      "(595, 25)\n"
     ]
    }
   ],
   "source": [
    "# utilizando z-score para encontrar outliers\n",
    "# o pacote scipy possui um método para encontrar o z-score\n",
    "\n",
    "from scipy.stats import zscore\n",
    "\n",
    "# calculando z-scores\n",
    "Xzscore = zscore(X,axis=0)\n",
    "\n",
    "# encontrando outliers\n",
    "outliers = np.abs(Xzscore) > 2.8 # 2.8 é o threshold utilizado para \n",
    "                                 # identificar um valor como outlier\n",
    "    \n",
    "outliers_id = np.argwhere(outliers == True)\n",
    "print('indice das linhas dos elementos \"outliers\":\\n',outliers_id)\n",
    "\n",
    "# removendo outliers\n",
    "df = pd.DataFrame(data=X)\n",
    "print(df.shape)\n",
    "df = df.drop(outliers_id[:,0],axis=0)\n",
    "print(df.shape)\n",
    "\n",
    "X_no_outliers = df.values"
   ]
  },
  {
   "cell_type": "code",
   "execution_count": 70,
   "metadata": {},
   "outputs": [
    {
     "data": {
      "text/plain": [
       "(600, 25)"
      ]
     },
     "execution_count": 70,
     "metadata": {},
     "output_type": "execute_result"
    }
   ],
   "source": [
    "X.shape"
   ]
  },
  {
   "cell_type": "code",
   "execution_count": 67,
   "metadata": {},
   "outputs": [
    {
     "data": {
      "text/plain": [
       "(595, 25)"
      ]
     },
     "execution_count": 67,
     "metadata": {},
     "output_type": "execute_result"
    }
   ],
   "source": [
    "X_no_outliers.shape"
   ]
  },
  {
   "cell_type": "markdown",
   "metadata": {},
   "source": [
    "### Exercício 4)\n",
    "Qual a variância representada pelas duas primeiras componentes principais após a remoção dos outliers?\n",
    "\n",
    "a) aproximadamente 90% <br>\n",
    "b) aproximadamente  97% <br>\n",
    "c) aproximadamente 80% <br>\n",
    "d) aproximadamente 75% "
   ]
  },
  {
   "cell_type": "code",
   "execution_count": 72,
   "metadata": {},
   "outputs": [],
   "source": [
    "pca_obj2=PCA(svd_solver='full')\n",
    "X_no_outliers_transformed = pca_obj2.fit(X_no_outliers)"
   ]
  },
  {
   "cell_type": "code",
   "execution_count": 74,
   "metadata": {},
   "outputs": [
    {
     "name": "stdout",
     "output_type": "stream",
     "text": [
      "Porcentagem de informacao 2 primeiras componentes principais:  75.26760714065047 %\n"
     ]
    }
   ],
   "source": [
    "perc_exp = np.sum(X_no_outliers_transformed.explained_variance_ratio_[0:2])\n",
    "print('Porcentagem de informacao 2 primeiras componentes principais: ',\n",
    "      100*perc_exp,'%')"
   ]
  },
  {
   "cell_type": "markdown",
   "metadata": {},
   "source": [
    "### Exercício 5)\n",
    "Projete os dados sem outliers nas duas primeiras direções principais. Quantos clusters você consegue visualizar na projeção?\n",
    "\n",
    "a) 6<br>\n",
    "b) 5<br>\n",
    "c) 4<br>\n",
    "d) 3"
   ]
  },
  {
   "cell_type": "code",
   "execution_count": 75,
   "metadata": {},
   "outputs": [
    {
     "data": {
      "text/plain": [
       "<matplotlib.collections.PathCollection at 0x224eb9cf760>"
      ]
     },
     "execution_count": 75,
     "metadata": {},
     "output_type": "execute_result"
    },
    {
     "data": {
      "image/png": "[encoded data removed]",
      "text/plain": [
       "<Figure size 864x432 with 1 Axes>"
      ]
     },
     "metadata": {
      "needs_background": "light"
     },
     "output_type": "display_data"
    }
   ],
   "source": [
    "X2D_no_outliers = np.dot(X_no_outliers,X_no_outliers_transformed.components_[0:2].T)\n",
    "\n",
    "plt.scatter(X2D_no_outliers[:,0],X2D_no_outliers[:,1])"
   ]
  }
 ],
 "metadata": {
  "kernelspec": {
   "display_name": "Python 3",
   "language": "python",
   "name": "python3"
  },
  "language_info": {
   "codemirror_mode": {
    "name": "ipython",
    "version": 3
   },
   "file_extension": ".py",
   "mimetype": "text/x-python",
   "name": "python",
   "nbconvert_exporter": "python",
   "pygments_lexer": "ipython3",
   "version": "3.8.5"
  }
 },
 "nbformat": 4,
 "nbformat_minor": 2
}
