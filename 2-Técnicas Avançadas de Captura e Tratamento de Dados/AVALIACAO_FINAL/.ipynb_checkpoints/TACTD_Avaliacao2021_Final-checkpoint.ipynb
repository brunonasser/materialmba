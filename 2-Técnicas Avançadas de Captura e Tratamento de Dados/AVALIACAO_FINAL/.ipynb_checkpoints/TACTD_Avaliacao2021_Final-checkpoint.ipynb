{
 "cells": [
  {
   "cell_type": "markdown",
   "metadata": {},
   "source": [
    "# <span style=\"color:blue\"> MBA em Ciência de Dados</span>\n",
    "# <span style=\"color:blue\">Técnicas Avançadas de Captura e Tratamento de Dados</span>\n",
    "\n",
    "## <span style=\"color:blue\">Avaliação Final</span>\n",
    "**Luis Gustavo Nonato** e **Moacir Antonelli Ponti**<br>\n",
    "\n",
    "**Cemeai - ICMC/USP São Carlos**\n",
    "\n",
    "A avaliação vale 10 pontos. As questões de 1 a 4, caso respondidas da forma correta, já totalizam 10 pontos.\n"
   ]
  },
  {
   "cell_type": "markdown",
   "metadata": {},
   "source": [
    "<font color='red'>**ATENÇÃO:** Quando terminar de exame, você deve fazer um \"upload\" do notebook no _moodle_</font>."
   ]
  },
  {
   "cell_type": "markdown",
   "metadata": {},
   "source": [
    "### Questão 1 (2.5 pontos)\n",
    "Considere o arquivo <font style=\"font-family: monaco\"> modcovid.pdf </font> (disponível para download no moodle). Escreva um código para extrair o texto (ASCII) do arquivo PDF e escreva o texto extraído em um arquivo chamado ``modcovid.txt``."
   ]
  },
  {
   "cell_type": "code",
   "execution_count": 1,
   "metadata": {},
   "outputs": [],
   "source": [
    "# seu codigo\n",
    "from PIL import Image \n",
    "import pytesseract \n",
    "from pdf2image import convert_from_path \n",
    "\n",
    "# Carrega o PDF e armazenas todas as páginas separadamente\n",
    "# na variável\n",
    "imagem_paginas = convert_from_path('modcovid.pdf') "
   ]
  },
  {
   "cell_type": "code",
   "execution_count": 3,
   "metadata": {},
   "outputs": [
    {
     "name": "stdout",
     "output_type": "stream",
     "text": [
      "Gravando pagina:  pagina_0.png\n"
     ]
    }
   ],
   "source": [
    "for i,pagina in enumerate(imagem_paginas): \n",
    "    # PDF pagina 1 -> pagina_1.png  \n",
    "    # PDF pagina 2 -> pagina_2.png  \n",
    "    # .... \n",
    "    filename = \"pagina_\"+str(i)+\".png\"\n",
    "      \n",
    "    # Salavando a imagen da página em um arquivo\n",
    "    print('Gravando pagina: ',filename)\n",
    "    pagina.save(filename, 'PNG')"
   ]
  },
  {
   "cell_type": "code",
   "execution_count": 23,
   "metadata": {},
   "outputs": [
    {
     "name": "stdout",
     "output_type": "stream",
     "text": [
      "Ferramenta matemática ajuda a planejar isolamento intermitente em SP\n",
      "\n",
      "Modelo aponta momentos em que cada cidade poderia ter mais ou menos restrições\n",
      "\n",
      "Medidas de controle são fundamentais para resguardar o sistema de saúde diante da\n",
      "pandemia de Covid-19. O protocolo de distanciamento social têm sido adotado na maior parte\n",
      "dos países e também no Brasil. Pesquisadores unem esforços e utilizam a matemática para\n",
      "estudar algumas questões: Por quanto tempo o protocolo deve ser mantido para se evitar o\n",
      "colapso do sistema de saúde? Cientes de que a evolução da doença não se encontra no mesmo\n",
      "estágio em todas as cidades e que a capacidade hospitalar varia muito em cada região, deve-se\n",
      "implantar o mesmo protocolo de distanciamento de forma homogênea em todas cidades e no\n",
      "mesmo momento? Deve-se amenizar o protocolo também de forma homogênea em todo o\n",
      "estado?\n",
      "\n",
      "O grupo denominado ModCovid19, formado por uma parceria entre pesquisadores do\n",
      "Instituto de Ciências Matemáticas e de Computação, da USP São Carlos (ICMC), Instituto de\n",
      "Matemática, Estatística e Computação Científica, da Unicamp Campinas (IMECC), do Instituto\n",
      "de Matemática Pura e Aplicada do Rio de Janeiro (IMPA) e da Universidade Federal de Alagoas\n",
      "(UFAL), foi atrás das respostas e chegou a modelos matemáticos capazes de simular diversos\n",
      "fenômenos e comportamentos ligados à pandemia.\n",
      "\n",
      "Apoiados pelo Centro de Ciências Matemáticas Aplicadas à Indústria (CeMEAI) e com\n",
      "financiamento do Instituto Serrapilheira os professores Paulo J. S. Silva, do IMECC/Unicamp,\n",
      "Tiago Pereira e Luís Gustavo Nonato, do ICMC/USP desenvolveram um sistema que permite\n",
      "avaliar quando e com qual intensidade o protocolo de distanciamento deve ser implantado em\n",
      "cada cidade individualmente a fim de evitar o colapso do sistema da saúde. “O modelo leva em\n",
      "consideração fatores importantes na transmissão da infecção, como a proporção de pessoas\n",
      "que comutam diariamente entre cidades, a disponibilidade de leitos, além é claro, do número\n",
      "de casos de Covid-19 registrados em cada cidade”, comenta Luis Gustavo Nonato.\n",
      "\n",
      " \n",
      "\n",
      "0035 -\n",
      "\n",
      "SÃO JOSÉ DO RIO PRETO\n",
      "= OSASCO\n",
      "SÃO PAULO\n",
      "\n",
      "0.030 -\n",
      "\n",
      "0025 -\n",
      "\n",
      "0.020 -\n",
      "\n",
      "0035 -\n",
      "\n",
      "o\n",
      "\n",
      "Percentagem da População Infectada\n",
      "\n",
      "0.005 -\n",
      "\n",
      " \n",
      "\n",
      "0.000 -\n",
      "\n",
      "PEOPLE DS\n",
      "PES SIISSAISLIAIANA\n",
      "PESE PDDE NCDNEA YE\n",
      "PO PA 2 os 2\n",
      "\f",
      "\n"
     ]
    }
   ],
   "source": [
    "import pytesseract as ocr\n",
    "from PIL import Image\n",
    "\n",
    "frase = ocr.image_to_string(Image.open('pagina_0.png'), lang='por')\n",
    "print(frase)"
   ]
  },
  {
   "cell_type": "code",
   "execution_count": 21,
   "metadata": {},
   "outputs": [],
   "source": [
    "with open('modcovid.txt', 'w') as f:\n",
    "    f.write(frase)"
   ]
  },
  {
   "cell_type": "code",
   "execution_count": 24,
   "metadata": {},
   "outputs": [],
   "source": [
    "f.close()"
   ]
  },
  {
   "cell_type": "markdown",
   "metadata": {},
   "source": [
    "### Questão 2 (2.5 pontos)\n",
    "Leia o arquivo ``modcovid.txt`` e realize as seguinte operações:\n",
    "1. Extraia todas palavras contidas no arquivo e armazene em uma lista de palavras (utilize o método <font color='blue'>word_tokenize</font> do pacote <font color='blue'>nltk</font>).\n",
    "2. Remova da lista de palavras todos os \"palavras\" que não sejam formadas exclusivamente de caracteres do alfabeto.\n",
    "3. Quantas palavras com apenas 1 caractere sobraram na lista?"
   ]
  },
  {
   "cell_type": "code",
   "execution_count": 44,
   "metadata": {},
   "outputs": [],
   "source": [
    " with open('modcovid.txt','r') as f:\n",
    "        docs=f.read()\n",
    "        f.close()"
   ]
  },
  {
   "cell_type": "code",
   "execution_count": 45,
   "metadata": {},
   "outputs": [
    {
     "name": "stdout",
     "output_type": "stream",
     "text": [
      "['Ferramenta', 'matemática', 'ajuda', 'a', 'planejar', 'isolamento', 'intermitente', 'em', 'SP', 'Modelo', 'aponta', 'momentos', 'em', 'que', 'cada', 'cidade', 'poderia', 'ter', 'mais', 'ou']\n"
     ]
    },
    {
     "name": "stderr",
     "output_type": "stream",
     "text": [
      "[nltk_data] Downloading package punkt to\n",
      "[nltk_data]     C:\\Users\\nasse\\AppData\\Roaming\\nltk_data...\n",
      "[nltk_data]   Package punkt is already up-to-date!\n"
     ]
    }
   ],
   "source": [
    "# nltk.word_tokenize transforma a string em uma lista de palavras\n",
    "import nltk\n",
    "nltk.download('punkt')\n",
    "\n",
    "words = nltk.word_tokenize(docs) # extrai as palavras\n",
    "print(words[:20])    # 20 primeiras palavras extraidas"
   ]
  },
  {
   "cell_type": "code",
   "execution_count": 50,
   "metadata": {},
   "outputs": [
    {
     "name": "stdout",
     "output_type": "stream",
     "text": [
      "['Ferramenta', 'matemática', 'ajuda', 'a', 'planejar', 'isolamento', 'intermitente', 'em', 'SP', 'Modelo', 'aponta', 'momentos', 'em', 'que', 'cada', 'cidade', 'poderia', 'ter', 'mais', 'ou']\n"
     ]
    }
   ],
   "source": [
    "import string\n",
    "\n",
    "# o método \"isalpha\" retorna True quando a string é \n",
    "# formada apenas por letras do alphabeto\n",
    "\n",
    "limpas = [w.lower() for w in words if w.isalpha()]  \n",
    "\n",
    "print(words[:20])"
   ]
  },
  {
   "cell_type": "code",
   "execution_count": 59,
   "metadata": {},
   "outputs": [
    {
     "name": "stdout",
     "output_type": "stream",
     "text": [
      "['a', 'o', 'o', 'e', 'e', 'a', 'o', 'o', 'a', 'e', 'a', 'o', 'e', 'o', 'o', 'o', 'e', 'e', 'e', 'e', 'e', 'a', 'e', 'à', 'à', 'e', 'e', 'e', 'o', 'a', 'o', 'o', 'a', 'a', 'é', 'o']\n",
      "36\n"
     ]
    }
   ],
   "source": [
    "count=0\n",
    "uma=[]\n",
    "for i in limpas:\n",
    "    if len(i)==1:\n",
    "        count=count+1\n",
    "        uma.append(i)\n",
    "\n",
    "print(uma)\n",
    "print(count)"
   ]
  },
  {
   "cell_type": "markdown",
   "metadata": {},
   "source": [
    "---\n",
    "### Questão 3 (2.5 pontos)\n",
    "\n",
    "Carregue o arquivo `artists_mba21.csv` e armazene em um pandas DataFrame.\n",
    "\n",
    "Esse arquivo possui os atributos:\n",
    " * name: nome do artista\n",
    " * years: anos de nascimento e morte\n",
    " * genre: gênero(s) a que pertencem suas obras\n",
    " * nationality: nacionalidades\n",
    " * bio: biografia\n",
    " * wikipedia: link para a Wikipedia do artista\n",
    " * paintings: número de obras (pinturas)"
   ]
  },
  {
   "cell_type": "markdown",
   "metadata": {},
   "source": [
    "#### 3.a (1.5 pontos)\n",
    "\n",
    "Exiba um histograma contendo a frequência dos diferentes gêneros dos artistas. Note que um artista pode ter mais do que um gênero associado.\n",
    "\n",
    "Dica: use a função `str.split(',')` para separar múltiplos gêneros"
   ]
  },
  {
   "cell_type": "code",
   "execution_count": 65,
   "metadata": {},
   "outputs": [
    {
     "data": {
      "text/html": [
       "<div>\n",
       "<style scoped>\n",
       "    .dataframe tbody tr th:only-of-type {\n",
       "        vertical-align: middle;\n",
       "    }\n",
       "\n",
       "    .dataframe tbody tr th {\n",
       "        vertical-align: top;\n",
       "    }\n",
       "\n",
       "    .dataframe thead th {\n",
       "        text-align: right;\n",
       "    }\n",
       "</style>\n",
       "<table border=\"1\" class=\"dataframe\">\n",
       "  <thead>\n",
       "    <tr style=\"text-align: right;\">\n",
       "      <th></th>\n",
       "      <th>name</th>\n",
       "      <th>years</th>\n",
       "      <th>genre</th>\n",
       "      <th>nationality</th>\n",
       "      <th>bio</th>\n",
       "      <th>wikipedia</th>\n",
       "      <th>paintings</th>\n",
       "    </tr>\n",
       "  </thead>\n",
       "  <tbody>\n",
       "    <tr>\n",
       "      <th>0</th>\n",
       "      <td>Amedeo Modigliani</td>\n",
       "      <td>1884 - 1920</td>\n",
       "      <td>Expressionism</td>\n",
       "      <td>Italian</td>\n",
       "      <td>Amedeo Clemente Modigliani (Italian pronunciat...</td>\n",
       "      <td>http://en.wikipedia.org/wiki/Amedeo_Modigliani</td>\n",
       "      <td>193</td>\n",
       "    </tr>\n",
       "    <tr>\n",
       "      <th>1</th>\n",
       "      <td>Vasiliy Kandinskiy</td>\n",
       "      <td>1866 - 1944</td>\n",
       "      <td>Expressionism,Abstractionism</td>\n",
       "      <td>Russian</td>\n",
       "      <td>Wassily Wassilyevich Kandinsky (Russian: Васи́...</td>\n",
       "      <td>http://en.wikipedia.org/wiki/Wassily_Kandinsky</td>\n",
       "      <td>88</td>\n",
       "    </tr>\n",
       "  </tbody>\n",
       "</table>\n",
       "</div>"
      ],
      "text/plain": [
       "                 name        years                         genre nationality  \\\n",
       "0   Amedeo Modigliani  1884 - 1920                 Expressionism     Italian   \n",
       "1  Vasiliy Kandinskiy  1866 - 1944  Expressionism,Abstractionism     Russian   \n",
       "\n",
       "                                                 bio  \\\n",
       "0  Amedeo Clemente Modigliani (Italian pronunciat...   \n",
       "1  Wassily Wassilyevich Kandinsky (Russian: Васи́...   \n",
       "\n",
       "                                        wikipedia paintings  \n",
       "0  http://en.wikipedia.org/wiki/Amedeo_Modigliani       193  \n",
       "1  http://en.wikipedia.org/wiki/Wassily_Kandinsky        88  "
      ]
     },
     "execution_count": 65,
     "metadata": {},
     "output_type": "execute_result"
    }
   ],
   "source": [
    "# seu código\n",
    "import pandas as pd\n",
    "df=pd.read_csv('artists_mba21.csv')\n",
    "df.head(2)"
   ]
  },
  {
   "cell_type": "code",
   "execution_count": 85,
   "metadata": {},
   "outputs": [],
   "source": [
    "#df.genre.str.split(',',expand=True)"
   ]
  },
  {
   "cell_type": "code",
   "execution_count": 117,
   "metadata": {},
   "outputs": [],
   "source": [
    "x=list(df['genre'])\n",
    "genre=[]\n",
    "for i in x:\n",
    "    if i.find(',')==-1:\n",
    "        genre.append(i)\n",
    "    else:\n",
    "        for w in i.split(','):\n",
    "            genre.append(w)         \n",
    "        \n"
   ]
  },
  {
   "cell_type": "code",
   "execution_count": 125,
   "metadata": {},
   "outputs": [],
   "source": [
    "df2=pd.DataFrame(genre,columns=['genero'])"
   ]
  },
  {
   "cell_type": "code",
   "execution_count": 131,
   "metadata": {},
   "outputs": [
    {
     "data": {
      "image/png": "[encoded data removed]",
      "text/plain": [
       "<Figure size 864x432 with 1 Axes>"
      ]
     },
     "metadata": {
      "needs_background": "light"
     },
     "output_type": "display_data"
    }
   ],
   "source": [
    "import seaborn as sns\n",
    "import matplotlib.pyplot as plt\n",
    "plt.figure(figsize=(12,6))\n",
    "sns.histplot(data=df2,x=df2['genero'])\n",
    "plt.xticks(rotation=90)\n",
    "plt.show()\n"
   ]
  },
  {
   "cell_type": "markdown",
   "metadata": {},
   "source": [
    "#### 3.b (1.0 ponto)\n",
    "\n",
    "Trate a coluna \"paintings\", a qual deveria conter apenas atributos numéricos inteiros. Siga os seguintes passos:\n",
    "1. Exiba os valores não convertíveis para númerico\n",
    "2. Converta a coluna para o tipo inteiro de forma que não haja dados perdidos/faltantes\n",
    "\n",
    "Após o tratamento exiba a estatística descritiva da coluna tratada usando `describe()`\n",
    "\n",
    "Dica: há várias soluções possíveis, mas usar expressões regulares pode ser útil nesse caso. Por exemplo a expressão `'(\\d+)'` extrai apenas dígitos"
   ]
  },
  {
   "cell_type": "code",
   "execution_count": 146,
   "metadata": {
    "scrolled": false
   },
   "outputs": [
    {
     "data": {
      "text/plain": [
       "2       70)\n",
       "9     \"117\"\n",
       "43     '84'\n",
       "50    three\n",
       "51     '25'\n",
       "Name: paintings, dtype: object"
      ]
     },
     "execution_count": 146,
     "metadata": {},
     "output_type": "execute_result"
    }
   ],
   "source": [
    "df.drop(df[df.paintings.str.isdigit()].index)['paintings']"
   ]
  },
  {
   "cell_type": "code",
   "execution_count": 157,
   "metadata": {},
   "outputs": [],
   "source": [
    "def rep(x):\n",
    "    if str(x)=='70)':\n",
    "        return 70\n",
    "    elif str(x)=='\"117\"':\n",
    "        return 117\n",
    "    elif str(x)==\"'84'\":\n",
    "        return 84\n",
    "    elif str(x)=='three':\n",
    "        return 3\n",
    "    elif str(x)==\"'25'\":\n",
    "        return 25\n",
    "    else:\n",
    "        return x\n",
    "    \n"
   ]
  },
  {
   "cell_type": "code",
   "execution_count": 158,
   "metadata": {},
   "outputs": [],
   "source": [
    "df['paintings']=df['paintings'].apply(rep)"
   ]
  },
  {
   "cell_type": "code",
   "execution_count": 159,
   "metadata": {},
   "outputs": [
    {
     "name": "stdout",
     "output_type": "stream",
     "text": [
      "<class 'pandas.core.frame.DataFrame'>\n",
      "RangeIndex: 53 entries, 0 to 52\n",
      "Data columns (total 7 columns):\n",
      " #   Column       Non-Null Count  Dtype \n",
      "---  ------       --------------  ----- \n",
      " 0   name         53 non-null     object\n",
      " 1   years        53 non-null     object\n",
      " 2   genre        53 non-null     object\n",
      " 3   nationality  53 non-null     object\n",
      " 4   bio          53 non-null     object\n",
      " 5   wikipedia    53 non-null     object\n",
      " 6   paintings    53 non-null     object\n",
      "dtypes: object(7)\n",
      "memory usage: 3.0+ KB\n"
     ]
    }
   ],
   "source": [
    "df.info()"
   ]
  },
  {
   "cell_type": "code",
   "execution_count": 163,
   "metadata": {},
   "outputs": [
    {
     "name": "stdout",
     "output_type": "stream",
     "text": [
      "<class 'pandas.core.frame.DataFrame'>\n",
      "RangeIndex: 53 entries, 0 to 52\n",
      "Data columns (total 7 columns):\n",
      " #   Column       Non-Null Count  Dtype \n",
      "---  ------       --------------  ----- \n",
      " 0   name         53 non-null     object\n",
      " 1   years        53 non-null     object\n",
      " 2   genre        53 non-null     object\n",
      " 3   nationality  53 non-null     object\n",
      " 4   bio          53 non-null     object\n",
      " 5   wikipedia    53 non-null     object\n",
      " 6   paintings    53 non-null     object\n",
      "dtypes: object(7)\n",
      "memory usage: 3.0+ KB\n"
     ]
    }
   ],
   "source": [
    "df.info()"
   ]
  },
  {
   "cell_type": "code",
   "execution_count": 165,
   "metadata": {},
   "outputs": [],
   "source": [
    "df['paintings']=df['paintings'].astype(int)"
   ]
  },
  {
   "cell_type": "code",
   "execution_count": 166,
   "metadata": {},
   "outputs": [
    {
     "name": "stdout",
     "output_type": "stream",
     "text": [
      "<class 'pandas.core.frame.DataFrame'>\n",
      "RangeIndex: 53 entries, 0 to 52\n",
      "Data columns (total 7 columns):\n",
      " #   Column       Non-Null Count  Dtype \n",
      "---  ------       --------------  ----- \n",
      " 0   name         53 non-null     object\n",
      " 1   years        53 non-null     object\n",
      " 2   genre        53 non-null     object\n",
      " 3   nationality  53 non-null     object\n",
      " 4   bio          53 non-null     object\n",
      " 5   wikipedia    53 non-null     object\n",
      " 6   paintings    53 non-null     int32 \n",
      "dtypes: int32(1), object(6)\n",
      "memory usage: 2.8+ KB\n"
     ]
    }
   ],
   "source": [
    "df.info()"
   ]
  },
  {
   "cell_type": "markdown",
   "metadata": {},
   "source": [
    "### Questão 4 (2.5 pontos)\n",
    "\n",
    "Dada uma imagem `query.jpg` de uma pintura da qual não sabemos o artista, gostaríamos de fazer uma busca numa base de dados e recuperar obras similares de acordo com suas cores. Para isso utilizaremos um descritor baseado em cores conhecido por **Border-Interior Classification (BIC)**\n",
    "\n",
    "> Stehling, R. O., Nascimento, M. A., & Falcão, A. X. (2002). A compact and efficient image retrieval approach based on border/interior pixel classification. In Proceedings of the eleventh international conference on Information and knowledge management (pp. 102-109). \n",
    "\n",
    "O BIC funciona da seguinte forma:\n",
    "\n",
    "1. Transforma a imagem em um único canal de cores\n",
    "2. Reescala o número de cores da imagem para $C$ cores\n",
    "3. Computa dois histogramas de cor na imagem:\n",
    "   1. Para os pixels considerados \"interior\", cuja cor seja igual à dos 4 vizinhos (cima, baixo, direita e esquerda)\n",
    "   2. Para todos os pixels da imagem, considerados de \"borda\". Aqui também entram os pixels na extremidade da imagem (ou seja as primeiras e últimas linhas/colunas)\n",
    "4. Normaliza cada histograma, concatena os histogramas em um único vetor e normaliza novamente o vetor concatenado\n",
    "   \n",
    "Exemplo seja a matriz abaixo uma imagem com $C=4$, ou seja, com cores 0, 1, 2 e 3:\n",
    "\n",
    "|||||||\n",
    "|-|-|-|-|-|-|\n",
    "|3|3|3|2|2|0|\n",
    "|3|**3**|3|2|**2**|2|\n",
    "|3|**3**|3|2|**2**|2|\n",
    "|3|**3**|**3**|3|2|2|\n",
    "|0|3|3|1|2|0|\n",
    "\n",
    "Os valores em negrito correspondem à cores \"interior\" e o restante de \"borda\". \n",
    "\n",
    "Assim, teríamos o seguintes histogramas:<br>\n",
    "`h_borda = [3,1,9,11]`<br>\n",
    "`h_inter = [0,0,2,4]`\n",
    "\n",
    "Note que cada vetor representa as frequências, em ordem, das cores 0, 1, 2 e 3. Por exemplo, há 3 pixels da cor 0 referentes à borda, há 2 pixels da cor 2 referentes a interior.\n",
    "\n",
    "Após computar os histogramas, é preciso normalizá-los para evitar problemas com imagens de diferentes resoluções. Diferentes métodos podem ser utilizados. Aqui utilizaremos a *normalização L1*, dividindo os elementos pela soma absoluta do vetor, resultando em:<br>\n",
    "`h_borda_nr = [0.125,  0.0417, 0.375, 0.4583]`<br>\n",
    "`h_inter_nr = [0.000,  0.0000, 0.333, 0.6667]`<br>\n",
    "\n",
    "Assim, para uma determinada imagem com $C$ cores, o vetor de características terá $2\\cdot C$ dimensões, relativas aos 2 histogramas concatenados. Após a concatenação normalizamos novamente:<br>\n",
    "`bic_norm = [0.0625, 0.0208, 0.1875, 0.2292, 0.0000, 0.0000, 0.1667, 0.3333]`\n",
    "\n",
    "Esse será o vetor de características final a ser utilizado\n",
    "\n",
    "---\n",
    "Use o descritor BIC com $C=32$ para as imagens disponibilizadas. Use a função disponibilizada `rescale_image_colors()` para reescalar a imagem.\n",
    "\n",
    "Faça uma busca no diretório `paintings21`, retornando as 5 imagens mais similares a `query.jpg` de acordo com o descritor BIC e a distância Euclidiana. Exiba a imagem de consulta, e também as 5 imagens retornadas, com seus nomes e valores da distância obtidos."
   ]
  },
  {
   "cell_type": "code",
   "execution_count": 167,
   "metadata": {},
   "outputs": [],
   "source": [
    "# inclua aqui as bibliotecas e funções \n",
    "# inclua os pacotes necessários e as funções necessárias\n",
    "from skimage import feature\n",
    "from os import listdir\n",
    "import imageio\n",
    "import matplotlib.pyplot as plt\n",
    "\n",
    "def rescale_image_colors(img, n_colors=32):\n",
    "    # RGB para escala de cinza usando Luma Rec.709\n",
    "    img = np.array(img, dtype=np.float64, copy=False)\n",
    "    if (len(img.shape) > 2):\n",
    "        img = img[:,:,0]*0.2126 + img[:,:,1]*0.7152 + img[:,:,2]*0.0772\n",
    "        \n",
    "    # reescalando numero de cores\n",
    "    img = img/255.0\n",
    "    img = (img*(n_colors-1)).astype(np.uint8)\n",
    "    return img"
   ]
  },
  {
   "cell_type": "code",
   "execution_count": null,
   "metadata": {},
   "outputs": [],
   "source": [
    "# inclua o código relativo ao descritor BIC e para extração de características das imagens"
   ]
  },
  {
   "cell_type": "code",
   "execution_count": null,
   "metadata": {},
   "outputs": [],
   "source": [
    "# query\n",
    "imgQ = imageio.imread(\"paintings21/query.jpg\")\n",
    "\n",
    "l_imgs = listdir('./paintings21/')\n",
    "n_imgs = len(l_imgs)\n",
    "\n",
    "# percorre imagens\n",
    "for im in l_imgs:\n",
    "    imgS = imageio.imread('./paintings21/'+im)\n",
    "    print('\\r Processando: %s          ' % (im), end='')"
   ]
  },
  {
   "cell_type": "code",
   "execution_count": null,
   "metadata": {},
   "outputs": [],
   "source": [
    "# inclua o código para obter e visualizar as 5 imagens mais próximas com base nas distâncias computadas e exibi-las"
   ]
  },
  {
   "cell_type": "code",
   "execution_count": null,
   "metadata": {},
   "outputs": [],
   "source": []
  }
 ],
 "metadata": {
  "kernelspec": {
   "display_name": "Python 3",
   "language": "python",
   "name": "python3"
  },
  "language_info": {
   "codemirror_mode": {
    "name": "ipython",
    "version": 3
   },
   "file_extension": ".py",
   "mimetype": "text/x-python",
   "name": "python",
   "nbconvert_exporter": "python",
   "pygments_lexer": "ipython3",
   "version": "3.8.5"
  }
 },
 "nbformat": 4,
 "nbformat_minor": 2
}
