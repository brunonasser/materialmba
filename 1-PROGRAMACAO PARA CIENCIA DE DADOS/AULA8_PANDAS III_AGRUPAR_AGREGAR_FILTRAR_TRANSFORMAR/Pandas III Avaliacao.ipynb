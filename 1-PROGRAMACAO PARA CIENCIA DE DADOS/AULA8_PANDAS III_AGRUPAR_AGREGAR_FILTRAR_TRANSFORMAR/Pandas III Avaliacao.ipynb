{
 "cells": [
  {
   "cell_type": "markdown",
   "metadata": {},
   "source": [
    "# <span style=\"color:blue\"> MBA em Ciência de Dados</span>\n",
    "# <span style=\"color:blue\">Programação para Ciência de Dados</span>\n",
    "\n",
    "## <span style=\"color:blue\">Pandas Parte III - Avaliação </span>\n",
    "**Material Produzido por Luis Gustavo Nonato**<br>\n",
    "**Cemeai - ICMC/USP São Carlos**"
   ]
  },
  {
   "cell_type": "markdown",
   "metadata": {},
   "source": [
    "Os exercícios a seguir farão uso do arquivo <font style=\"font-family: monaco\">sales1000.csv</font> disponível para download no moodle.\n",
    "\n",
    "O arquivo <font style=\"font-family: monaco\">sales1000.csv</font> possui informações relativas à venda de produtos. As colunas abaixo são de particular importância para solução dos exercícios:\n",
    "- *Country*: país da venda\n",
    "- *Item Type*: tipo do produto vendido no país\n",
    "- *Units Sold*: quantidade vendida\n",
    "- *Unit Price*: preço de venda\n",
    "- *Unit Cost*: preço de custo\n",
    "- *Total Profit*: lucro total"
   ]
  },
  {
   "cell_type": "code",
   "execution_count": 1,
   "metadata": {},
   "outputs": [],
   "source": [
    "import pandas as pd\n",
    "import numpy as np\n",
    "\n",
    "df = pd.read_csv('sales1000.csv')"
   ]
  },
  {
   "cell_type": "markdown",
   "metadata": {},
   "source": [
    "### Exercício 1)\n",
    "Agrupe os elementos da base de dados armazenada no arquivo <font style=\"font-family: monaco\">sales1000.csv</font> de acordo com os países.\n",
    "Quantos produtos diferentes o país 'Japan' vende?\n",
    "\n",
    "a) 8<br>\n",
    "b) 7<br>\n",
    "c) 6<br>\n",
    "d) 5"
   ]
  },
  {
   "cell_type": "code",
   "execution_count": 23,
   "metadata": {},
   "outputs": [
    {
     "data": {
      "text/plain": [
       "Cosmetics        3\n",
       "Beverages        1\n",
       "Cereal           1\n",
       "Personal Care    1\n",
       "Meat             1\n",
       "Baby Food        1\n",
       "Name: Item Type, dtype: int64"
      ]
     },
     "execution_count": 23,
     "metadata": {},
     "output_type": "execute_result"
    }
   ],
   "source": [
    "df[df['Country']=='Japan']['Item Type'].value_counts()"
   ]
  },
  {
   "cell_type": "code",
   "execution_count": 24,
   "metadata": {},
   "outputs": [
    {
     "data": {
      "text/html": [
       "<div>\n",
       "<style scoped>\n",
       "    .dataframe tbody tr th:only-of-type {\n",
       "        vertical-align: middle;\n",
       "    }\n",
       "\n",
       "    .dataframe tbody tr th {\n",
       "        vertical-align: top;\n",
       "    }\n",
       "\n",
       "    .dataframe thead th {\n",
       "        text-align: right;\n",
       "    }\n",
       "</style>\n",
       "<table border=\"1\" class=\"dataframe\">\n",
       "  <thead>\n",
       "    <tr style=\"text-align: right;\">\n",
       "      <th></th>\n",
       "      <th>Region</th>\n",
       "      <th>Country</th>\n",
       "      <th>Item Type</th>\n",
       "      <th>Sales Channel</th>\n",
       "      <th>Order Priority</th>\n",
       "      <th>Order Date</th>\n",
       "      <th>Order ID</th>\n",
       "      <th>Ship Date</th>\n",
       "      <th>Units Sold</th>\n",
       "      <th>Unit Price</th>\n",
       "      <th>Unit Cost</th>\n",
       "      <th>Total Revenue</th>\n",
       "      <th>Total Cost</th>\n",
       "      <th>Total Profit</th>\n",
       "    </tr>\n",
       "  </thead>\n",
       "  <tbody>\n",
       "    <tr>\n",
       "      <th>3</th>\n",
       "      <td>Asia</td>\n",
       "      <td>Japan</td>\n",
       "      <td>Cereal</td>\n",
       "      <td>Offline</td>\n",
       "      <td>C</td>\n",
       "      <td>4/10/2010</td>\n",
       "      <td>161442649</td>\n",
       "      <td>5/12/2010</td>\n",
       "      <td>3322</td>\n",
       "      <td>205.70</td>\n",
       "      <td>117.11</td>\n",
       "      <td>683335.40</td>\n",
       "      <td>389039.42</td>\n",
       "      <td>294295.98</td>\n",
       "    </tr>\n",
       "    <tr>\n",
       "      <th>168</th>\n",
       "      <td>Asia</td>\n",
       "      <td>Japan</td>\n",
       "      <td>Beverages</td>\n",
       "      <td>Online</td>\n",
       "      <td>H</td>\n",
       "      <td>10/18/2012</td>\n",
       "      <td>981086671</td>\n",
       "      <td>11/21/2012</td>\n",
       "      <td>4203</td>\n",
       "      <td>47.45</td>\n",
       "      <td>31.79</td>\n",
       "      <td>199432.35</td>\n",
       "      <td>133613.37</td>\n",
       "      <td>65818.98</td>\n",
       "    </tr>\n",
       "    <tr>\n",
       "      <th>342</th>\n",
       "      <td>Asia</td>\n",
       "      <td>Japan</td>\n",
       "      <td>Baby Food</td>\n",
       "      <td>Offline</td>\n",
       "      <td>L</td>\n",
       "      <td>3/16/2016</td>\n",
       "      <td>823699796</td>\n",
       "      <td>4/19/2016</td>\n",
       "      <td>9929</td>\n",
       "      <td>255.28</td>\n",
       "      <td>159.42</td>\n",
       "      <td>2534675.12</td>\n",
       "      <td>1582881.18</td>\n",
       "      <td>951793.94</td>\n",
       "    </tr>\n",
       "    <tr>\n",
       "      <th>398</th>\n",
       "      <td>Asia</td>\n",
       "      <td>Japan</td>\n",
       "      <td>Cosmetics</td>\n",
       "      <td>Offline</td>\n",
       "      <td>C</td>\n",
       "      <td>8/16/2013</td>\n",
       "      <td>629925000</td>\n",
       "      <td>8/18/2013</td>\n",
       "      <td>7661</td>\n",
       "      <td>437.20</td>\n",
       "      <td>263.33</td>\n",
       "      <td>3349389.20</td>\n",
       "      <td>2017371.13</td>\n",
       "      <td>1332018.07</td>\n",
       "    </tr>\n",
       "    <tr>\n",
       "      <th>536</th>\n",
       "      <td>Asia</td>\n",
       "      <td>Japan</td>\n",
       "      <td>Cosmetics</td>\n",
       "      <td>Offline</td>\n",
       "      <td>H</td>\n",
       "      <td>11/20/2016</td>\n",
       "      <td>107172334</td>\n",
       "      <td>12/23/2016</td>\n",
       "      <td>3530</td>\n",
       "      <td>437.20</td>\n",
       "      <td>263.33</td>\n",
       "      <td>1543316.00</td>\n",
       "      <td>929554.90</td>\n",
       "      <td>613761.10</td>\n",
       "    </tr>\n",
       "    <tr>\n",
       "      <th>555</th>\n",
       "      <td>Asia</td>\n",
       "      <td>Japan</td>\n",
       "      <td>Personal Care</td>\n",
       "      <td>Offline</td>\n",
       "      <td>M</td>\n",
       "      <td>8/25/2011</td>\n",
       "      <td>885129249</td>\n",
       "      <td>9/3/2011</td>\n",
       "      <td>8269</td>\n",
       "      <td>81.73</td>\n",
       "      <td>56.67</td>\n",
       "      <td>675825.37</td>\n",
       "      <td>468604.23</td>\n",
       "      <td>207221.14</td>\n",
       "    </tr>\n",
       "    <tr>\n",
       "      <th>627</th>\n",
       "      <td>Asia</td>\n",
       "      <td>Japan</td>\n",
       "      <td>Meat</td>\n",
       "      <td>Offline</td>\n",
       "      <td>M</td>\n",
       "      <td>7/2/2010</td>\n",
       "      <td>551725089</td>\n",
       "      <td>8/10/2010</td>\n",
       "      <td>6569</td>\n",
       "      <td>421.89</td>\n",
       "      <td>364.69</td>\n",
       "      <td>2771395.41</td>\n",
       "      <td>2395648.61</td>\n",
       "      <td>375746.80</td>\n",
       "    </tr>\n",
       "    <tr>\n",
       "      <th>901</th>\n",
       "      <td>Asia</td>\n",
       "      <td>Japan</td>\n",
       "      <td>Cosmetics</td>\n",
       "      <td>Online</td>\n",
       "      <td>L</td>\n",
       "      <td>1/6/2016</td>\n",
       "      <td>453569972</td>\n",
       "      <td>2/19/2016</td>\n",
       "      <td>289</td>\n",
       "      <td>437.20</td>\n",
       "      <td>263.33</td>\n",
       "      <td>126350.80</td>\n",
       "      <td>76102.37</td>\n",
       "      <td>50248.43</td>\n",
       "    </tr>\n",
       "  </tbody>\n",
       "</table>\n",
       "</div>"
      ],
      "text/plain": [
       "    Region Country      Item Type Sales Channel Order Priority  Order Date  \\\n",
       "3     Asia   Japan         Cereal       Offline              C   4/10/2010   \n",
       "168   Asia   Japan      Beverages        Online              H  10/18/2012   \n",
       "342   Asia   Japan      Baby Food       Offline              L   3/16/2016   \n",
       "398   Asia   Japan      Cosmetics       Offline              C   8/16/2013   \n",
       "536   Asia   Japan      Cosmetics       Offline              H  11/20/2016   \n",
       "555   Asia   Japan  Personal Care       Offline              M   8/25/2011   \n",
       "627   Asia   Japan           Meat       Offline              M    7/2/2010   \n",
       "901   Asia   Japan      Cosmetics        Online              L    1/6/2016   \n",
       "\n",
       "      Order ID   Ship Date  Units Sold  Unit Price  Unit Cost  Total Revenue  \\\n",
       "3    161442649   5/12/2010        3322      205.70     117.11      683335.40   \n",
       "168  981086671  11/21/2012        4203       47.45      31.79      199432.35   \n",
       "342  823699796   4/19/2016        9929      255.28     159.42     2534675.12   \n",
       "398  629925000   8/18/2013        7661      437.20     263.33     3349389.20   \n",
       "536  107172334  12/23/2016        3530      437.20     263.33     1543316.00   \n",
       "555  885129249    9/3/2011        8269       81.73      56.67      675825.37   \n",
       "627  551725089   8/10/2010        6569      421.89     364.69     2771395.41   \n",
       "901  453569972   2/19/2016         289      437.20     263.33      126350.80   \n",
       "\n",
       "     Total Cost  Total Profit  \n",
       "3     389039.42     294295.98  \n",
       "168   133613.37      65818.98  \n",
       "342  1582881.18     951793.94  \n",
       "398  2017371.13    1332018.07  \n",
       "536   929554.90     613761.10  \n",
       "555   468604.23     207221.14  \n",
       "627  2395648.61     375746.80  \n",
       "901    76102.37      50248.43  "
      ]
     },
     "execution_count": 24,
     "metadata": {},
     "output_type": "execute_result"
    }
   ],
   "source": [
    "df1=df.groupby('Country')\n",
    "df1.get_group('Japan')"
   ]
  },
  {
   "cell_type": "markdown",
   "metadata": {},
   "source": [
    "### Exercício 2)\n",
    "Considerando todas as vendas de um país, qual o país com o menor lucro total?\n",
    "\n",
    "a) Cameroon<br>\n",
    "b) Japan<br>\n",
    "c) Australia<br>\n",
    "d) Cuba"
   ]
  },
  {
   "cell_type": "code",
   "execution_count": 46,
   "metadata": {},
   "outputs": [
    {
     "data": {
      "text/plain": [
       "Country\n",
       "Cameroon    34407.36\n",
       "Name: Total Profit, dtype: float64"
      ]
     },
     "execution_count": 46,
     "metadata": {},
     "output_type": "execute_result"
    }
   ],
   "source": [
    "lucro=df.groupby('Country')['Total Profit'].sum().sort_values()\n",
    "lucro[0:1]"
   ]
  },
  {
   "cell_type": "markdown",
   "metadata": {},
   "source": [
    "### Exercício 3)\n",
    "Quais países vendem mais que sete produtos distintos? \n",
    "\n",
    "a) Cuba e Belarus<br>\n",
    "b) Cuba<br>\n",
    "c) Cuba e Australia<br>\n",
    "d) Romania e Angola"
   ]
  },
  {
   "cell_type": "code",
   "execution_count": 56,
   "metadata": {},
   "outputs": [
    {
     "data": {
      "text/plain": [
       "pandas.core.series.Series"
      ]
     },
     "execution_count": 56,
     "metadata": {},
     "output_type": "execute_result"
    }
   ],
   "source": [
    "df.groupby('Country')['Item Type'].nunique()>7"
   ]
  },
  {
   "cell_type": "code",
   "execution_count": 66,
   "metadata": {},
   "outputs": [
    {
     "data": {
      "text/plain": [
       "7"
      ]
     },
     "execution_count": 66,
     "metadata": {},
     "output_type": "execute_result"
    }
   ],
   "source": [
    "df[df['Country']=='Romania']['Item Type'].nunique()"
   ]
  },
  {
   "cell_type": "code",
   "execution_count": 54,
   "metadata": {},
   "outputs": [
    {
     "data": {
      "text/plain": [
       "array(['Belarus', 'Cuba'], dtype=object)"
      ]
     },
     "execution_count": 54,
     "metadata": {},
     "output_type": "execute_result"
    }
   ],
   "source": [
    "df.groupby('Country').filter(lambda x: x['Item Type'].nunique()>7)['Country'].unique()"
   ]
  },
  {
   "cell_type": "markdown",
   "metadata": {},
   "source": [
    "### Exercício 4)\n",
    "Qual o país com a maior diferença entre a maior quantidade e a menor quantidade de produtos vendidos? Por exemplo, 'Tonga' vende os seguintes quantidades de produtos:\n",
    "```python\n",
    "Household  8635\n",
    "Beverages  9367\n",
    "Meat       9633\n",
    "Fruits     7124\n",
    "Meat       3499\n",
    "```\n",
    "Portando, a diferença entre a maior e a menor quantidade de produtos vendidos é $$9633-3499=6134$$ Qual o país com a maior diferença?\n",
    "\n",
    "a) Tonga<br>\n",
    "b) Cape Verde<br>\n",
    "c) Romania<br>\n",
    "d) Cuba"
   ]
  },
  {
   "cell_type": "code",
   "execution_count": 77,
   "metadata": {},
   "outputs": [
    {
     "data": {
      "text/plain": [
       "Country\n",
       "Cape Verde    9775\n",
       "Name: Units Sold, dtype: int64"
      ]
     },
     "execution_count": 77,
     "metadata": {},
     "output_type": "execute_result"
    }
   ],
   "source": [
    "df.groupby('Country')['Units Sold'].apply(lambda x: x.max()-x.min()).sort_values(ascending=False)[:1]"
   ]
  },
  {
   "cell_type": "markdown",
   "metadata": {},
   "source": [
    "### Exercício 5)\n",
    "O lucro de um produto é a diferença entre o preço de venda e o de custo. Qual o produto que fornece o menor lucro médio?\n",
    "\n",
    "a) Baby Food<br>\n",
    "b) Fruits<br>\n",
    "c) Household<br>\n",
    "d) Cosmetics"
   ]
  },
  {
   "cell_type": "code",
   "execution_count": 80,
   "metadata": {},
   "outputs": [
    {
     "data": {
      "text/plain": [
       "Item Type\n",
       "Fruits               2.41\n",
       "Beverages           15.66\n",
       "Personal Care       25.06\n",
       "Snacks              55.14\n",
       "Meat                57.20\n",
       "Vegetables          63.13\n",
       "Clothes             73.44\n",
       "Cereal              88.59\n",
       "Baby Food           95.86\n",
       "Office Supplies    126.25\n",
       "Household          165.73\n",
       "Cosmetics          173.87\n",
       "dtype: float64"
      ]
     },
     "execution_count": 80,
     "metadata": {},
     "output_type": "execute_result"
    }
   ],
   "source": [
    "df.groupby('Item Type').apply(lambda x: (x['Unit Price']-x['Unit Cost']).mean() ).sort_values()"
   ]
  }
 ],
 "metadata": {
  "kernelspec": {
   "display_name": "Python 3",
   "language": "python",
   "name": "python3"
  },
  "language_info": {
   "codemirror_mode": {
    "name": "ipython",
    "version": 3
   },
   "file_extension": ".py",
   "mimetype": "text/x-python",
   "name": "python",
   "nbconvert_exporter": "python",
   "pygments_lexer": "ipython3",
   "version": "3.7.6"
  }
 },
 "nbformat": 4,
 "nbformat_minor": 2
}
