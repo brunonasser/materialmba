{
 "cells": [
  {
   "cell_type": "markdown",
   "metadata": {
    "id": "6GUWTEKQe44l"
   },
   "source": [
    "# <font color=\"blue\"> MBA em Ciência de Dados</font>\n",
    "# <font color=\"blue\">Programação para Ciência de Dados</font>\n",
    "\n",
    "## <font color=\"blue\">Pandas Parte II</font>\n",
    "**Material Produzido por Luis Gustavo Nonato**<br>\n",
    "**Cemeai - ICMC/USP São Carlos**\n",
    "---"
   ]
  },
  {
   "cell_type": "markdown",
   "metadata": {
    "id": "E_UuTDbwe44m"
   },
   "source": [
    "__Conteúdo:__\n",
    "\n",
    "- Dados faltantes\n",
    "- Processando dados\n",
    "- Combinando e transformando\n",
    "- Estatísticas\n",
    "\n",
    "__Referências__ <br>\n",
    "- [Pandas: powerful Python data analysis toolkit: Wes McKinney & PyData Devel. Team](https://pandas.pydata.org/pandas-docs/stable/pandas.pdf)\n",
    "- [http://pandas.pydata.org/pandas-docs/stable/index.html](http://pandas.pydata.org/pandas-docs/stable/index.html)"
   ]
  },
  {
   "cell_type": "markdown",
   "metadata": {
    "id": "vHtSkzYRe44m"
   },
   "source": [
    "## Relembrando\n",
    "Pandas permite estruturar dados como:\n",
    "\n",
    "__Series__\n",
    "- Objeto similar a um array unidimensional, contendo dados e rótulos (indice de linhas)\n",
    "\n",
    "__DataFrame__\n",
    "- Similar a uma planilha, contendo dados com rótulos para linhas e colunas"
   ]
  },
  {
   "cell_type": "markdown",
   "metadata": {
    "id": "KhUunSt7e44n"
   },
   "source": [
    "## Dados faltantes\n",
    "Dados faltantes são muito comuns em aplicações reais, ou seja, valores dos elementos não são fornecidos para algumas entradas de uma Série ou DataFrame. Dados faltantes são representados pelo <font color='blue'>pandas</font> com o símbolo 'NaN'.\n",
    "\n",
    "Pandas fornece diversas funcionalidades para lidar com dados faltantes, por exemplo:\n",
    "- detectar dados faltantes com os métodos <font color='blue'>isnull</font> e <font color='blue'>notnull</font>\n",
    "- remover linhas que contenham dados faltantes utilizando o método <font color='blue'>dropna</font>\n",
    "   - linhas faltando qualquer elemento \n",
    "   - linhas faltando todos os dados\n",
    "   - linhas faltando um número específico de dados\n",
    "- Substituir os valores faltantes (NaN) por um valor específico utilizando o método  <font color='blue'>fillna</font>\n",
    "- Especificar valores para substituir dados faltantes em operações aritmétricas"
   ]
  },
  {
   "cell_type": "markdown",
   "metadata": {
    "id": "ufcFZ7WIe44n"
   },
   "source": [
    "A célula abaixo gera um arquivo chamado <font style=\"font-family: monaco\">missing.csv</font> com vários dados faltantes."
   ]
  },
  {
   "cell_type": "code",
   "execution_count": 2,
   "metadata": {
    "executionInfo": {
     "elapsed": 685,
     "status": "ok",
     "timestamp": 1615469654062,
     "user": {
      "displayName": "Moisés Rocha dos Santos",
      "photoUrl": "https://lh3.googleusercontent.com/a-/AOh14GibTBRTi_dNo8fVn5eJmxJxxTCqGLtdRIwf_lD2=s64",
      "userId": "12530905896628174712"
     },
     "user_tz": 180
    },
    "id": "Eooo3t4Xe44n"
   },
   "outputs": [],
   "source": [
    "import pandas as pd"
   ]
  },
  {
   "cell_type": "code",
   "execution_count": 3,
   "metadata": {
    "colab": {
     "base_uri": "https://localhost:8080/"
    },
    "executionInfo": {
     "elapsed": 621,
     "status": "ok",
     "timestamp": 1615469656597,
     "user": {
      "displayName": "Moisés Rocha dos Santos",
      "photoUrl": "https://lh3.googleusercontent.com/a-/AOh14GibTBRTi_dNo8fVn5eJmxJxxTCqGLtdRIwf_lD2=s64",
      "userId": "12530905896628174712"
     },
     "user_tz": 180
    },
    "id": "vqr29zYRe44o",
    "outputId": "84dbdb70-944c-4aa5-e98e-804d96b61eee"
   },
   "outputs": [
    {
     "name": "stdout",
     "output_type": "stream",
     "text": [
      "Writing missing.csv\n"
     ]
    }
   ],
   "source": [
    "%%writefile missing.csv\n",
    "Colorado,,,,\n",
    "Ohio,3,5,6,9\n",
    "Oregon,,,,\n",
    "Texas,9,12,,\n",
    "Utah,,,,"
   ]
  },
  {
   "cell_type": "code",
   "execution_count": 4,
   "metadata": {
    "colab": {
     "base_uri": "https://localhost:8080/"
    },
    "executionInfo": {
     "elapsed": 644,
     "status": "ok",
     "timestamp": 1615469662549,
     "user": {
      "displayName": "Moisés Rocha dos Santos",
      "photoUrl": "https://lh3.googleusercontent.com/a-/AOh14GibTBRTi_dNo8fVn5eJmxJxxTCqGLtdRIwf_lD2=s64",
      "userId": "12530905896628174712"
     },
     "user_tz": 180
    },
    "id": "Rq4tspaie44o",
    "outputId": "02ddc851-890c-4932-c126-a71b0160303a"
   },
   "outputs": [
    {
     "name": "stdout",
     "output_type": "stream",
     "text": [
      "          0    1     2    3    4\n",
      "0  Colorado  NaN   NaN  NaN  NaN\n",
      "1      Ohio  3.0   5.0  6.0  9.0\n",
      "2    Oregon  NaN   NaN  NaN  NaN\n",
      "3     Texas  9.0  12.0  NaN  NaN\n",
      "4      Utah  NaN   NaN  NaN  NaN\n"
     ]
    }
   ],
   "source": [
    "df = pd.read_csv('missing.csv',header=None) # carregando o arquivo 'missing.csv'\n",
    "                                            # como o arquivo não possui rótulos para as\n",
    "                                            # colunas, o comando 'header=None' cria os \n",
    "                                            # rótulos automaticamente com valores de 0 até n-1\n",
    "                                            # onde n é o número de colunas\n",
    "print(df)"
   ]
  },
  {
   "cell_type": "markdown",
   "metadata": {
    "id": "wiQtfkY2e44o"
   },
   "source": [
    "### <font color='blue'>isnull</font>\n",
    "O método <font color='blue'>isnull</font> cria uma máscara booleana onde os valores `True` correspondem às entradas com dados faltantes"
   ]
  },
  {
   "cell_type": "code",
   "execution_count": 5,
   "metadata": {
    "colab": {
     "base_uri": "https://localhost:8080/"
    },
    "executionInfo": {
     "elapsed": 636,
     "status": "ok",
     "timestamp": 1615469702732,
     "user": {
      "displayName": "Moisés Rocha dos Santos",
      "photoUrl": "https://lh3.googleusercontent.com/a-/AOh14GibTBRTi_dNo8fVn5eJmxJxxTCqGLtdRIwf_lD2=s64",
      "userId": "12530905896628174712"
     },
     "user_tz": 180
    },
    "id": "EjvkEWk2e44p",
    "outputId": "67719574-8707-485a-a85e-6c9e613e1df8"
   },
   "outputs": [
    {
     "name": "stdout",
     "output_type": "stream",
     "text": [
      "       0      1      2      3      4\n",
      "0  False   True   True   True   True\n",
      "1  False  False  False  False  False\n",
      "2  False   True   True   True   True\n",
      "3  False  False  False   True   True\n",
      "4  False   True   True   True   True\n"
     ]
    }
   ],
   "source": [
    "# o método 'isnull' cria uma máscara booleana onde os valores True \n",
    "# correspondem às entradas com dados faltantes\n",
    "\n",
    "print(df.isnull())"
   ]
  },
  {
   "cell_type": "markdown",
   "metadata": {
    "id": "e2haNTkXe44p"
   },
   "source": [
    "### <font color='blue'>dropna</font>\n",
    "O método <font color='blue'>dropna</font> remove todas as linhas onde dados faltantes aparecem."
   ]
  },
  {
   "cell_type": "code",
   "execution_count": 6,
   "metadata": {
    "colab": {
     "base_uri": "https://localhost:8080/"
    },
    "executionInfo": {
     "elapsed": 625,
     "status": "ok",
     "timestamp": 1615469711625,
     "user": {
      "displayName": "Moisés Rocha dos Santos",
      "photoUrl": "https://lh3.googleusercontent.com/a-/AOh14GibTBRTi_dNo8fVn5eJmxJxxTCqGLtdRIwf_lD2=s64",
      "userId": "12530905896628174712"
     },
     "user_tz": 180
    },
    "id": "f8c2xRcee44p",
    "outputId": "a1d2edb6-fcf7-4677-e481-d889f0e16ab8"
   },
   "outputs": [
    {
     "name": "stdout",
     "output_type": "stream",
     "text": [
      "      0    1    2    3    4\n",
      "1  Ohio  3.0  5.0  6.0  9.0\n"
     ]
    }
   ],
   "source": [
    "# o método 'dropna' remove todas as linhas onde existem dados faltantes;\n",
    "# como apenas a linha de índice 1 não possui dados faltantes, o resultado é\n",
    "# um DataFrame com apenas uma linha\n",
    "\n",
    "print(df.dropna())"
   ]
  },
  {
   "cell_type": "code",
   "execution_count": 7,
   "metadata": {
    "colab": {
     "base_uri": "https://localhost:8080/"
    },
    "executionInfo": {
     "elapsed": 632,
     "status": "ok",
     "timestamp": 1615469932373,
     "user": {
      "displayName": "Moisés Rocha dos Santos",
      "photoUrl": "https://lh3.googleusercontent.com/a-/AOh14GibTBRTi_dNo8fVn5eJmxJxxTCqGLtdRIwf_lD2=s64",
      "userId": "12530905896628174712"
     },
     "user_tz": 180
    },
    "id": "dtDgxFp2e44p",
    "outputId": "cd99d0fb-ce0e-4071-faf9-4b65d8deaa78"
   },
   "outputs": [
    {
     "name": "stdout",
     "output_type": "stream",
     "text": [
      "          0    1     2    3    4\n",
      "0  Colorado  NaN   NaN  NaN  NaN\n",
      "1      Ohio  3.0   5.0  6.0  9.0\n",
      "2    Oregon  NaN   NaN  NaN  NaN\n",
      "3     Texas  9.0  12.0  NaN  NaN\n",
      "4      Utah  NaN   NaN  NaN  NaN\n",
      "          0\n",
      "0  Colorado\n",
      "1      Ohio\n",
      "2    Oregon\n",
      "3     Texas\n",
      "4      Utah\n"
     ]
    }
   ],
   "source": [
    "# o método parâmetro 'how' permite especificar se apenas as linhas com todos \n",
    "# os dados faltantes devem ser removidas (how='all') ou se linhas que contenham \n",
    "# algum dado faltante deve ser removida (how='any')\n",
    "\n",
    "print(df.dropna(how='all'))  # remove linhas onde todos os dados estejam faltando\n",
    "\n",
    "\n",
    "# o parâmetro 'axis' pode ser especificado para que, ao invés de linhas, colunas \n",
    "# com dados faltantes serão removidas\n",
    "\n",
    "print(df.dropna(how='any',axis=1)) # remove colunas que contenham algum dado faltante,\n",
    "                                   # neste exemplo, apenas a coluna de índice 0\n",
    "                                   # não contém dados faltantes"
   ]
  },
  {
   "cell_type": "code",
   "execution_count": 8,
   "metadata": {
    "colab": {
     "base_uri": "https://localhost:8080/"
    },
    "executionInfo": {
     "elapsed": 663,
     "status": "ok",
     "timestamp": 1615469988975,
     "user": {
      "displayName": "Moisés Rocha dos Santos",
      "photoUrl": "https://lh3.googleusercontent.com/a-/AOh14GibTBRTi_dNo8fVn5eJmxJxxTCqGLtdRIwf_lD2=s64",
      "userId": "12530905896628174712"
     },
     "user_tz": 180
    },
    "id": "wDqGyVRAe44q",
    "outputId": "00e929e7-6c50-4528-8ff5-0fdab64ea08e"
   },
   "outputs": [
    {
     "name": "stdout",
     "output_type": "stream",
     "text": [
      "       0    1     2    3    4\n",
      "1   Ohio  3.0   5.0  6.0  9.0\n",
      "3  Texas  9.0  12.0  NaN  NaN\n"
     ]
    }
   ],
   "source": [
    "# o parâmetro 'thresh' remove linhas com k+1 ou mais dados faltantes, ou seja,\n",
    "# para que uma linha não seja removida, ela precisa ter no máximo k dados faltantes\n",
    "\n",
    "print(df.dropna(thresh=2)) # remove linhas com 3 ou mais dados faltantes"
   ]
  },
  {
   "cell_type": "markdown",
   "metadata": {
    "id": "p9-xG0aie44q"
   },
   "source": [
    "### <font color='blue'>fillna</font>\n",
    "O método <font color='blue'>fillna</font> permite substituir dados faltantes por algum valor especificado."
   ]
  },
  {
   "cell_type": "code",
   "execution_count": 9,
   "metadata": {
    "colab": {
     "base_uri": "https://localhost:8080/"
    },
    "executionInfo": {
     "elapsed": 649,
     "status": "ok",
     "timestamp": 1615470159077,
     "user": {
      "displayName": "Moisés Rocha dos Santos",
      "photoUrl": "https://lh3.googleusercontent.com/a-/AOh14GibTBRTi_dNo8fVn5eJmxJxxTCqGLtdRIwf_lD2=s64",
      "userId": "12530905896628174712"
     },
     "user_tz": 180
    },
    "id": "Rj0zAALSe44q",
    "outputId": "d0cfce2f-f82e-4092-8212-ad37eb9ca1fb"
   },
   "outputs": [
    {
     "name": "stdout",
     "output_type": "stream",
     "text": [
      "\n",
      "DataFrame original\n",
      "          0    1     2    3    4\n",
      "0  Colorado  NaN   NaN  NaN  NaN\n",
      "1      Ohio  3.0   5.0  6.0  9.0\n",
      "2    Oregon  NaN   NaN  NaN  NaN\n",
      "3     Texas  9.0  12.0  NaN  NaN\n",
      "4      Utah  NaN   NaN  NaN  NaN\n",
      "DataFrame com valores faltantes substituidos por 0\n",
      "          0    1     2    3    4\n",
      "0  Colorado  0.0   0.0  0.0  0.0\n",
      "1      Ohio  3.0   5.0  6.0  9.0\n",
      "2    Oregon  0.0   0.0  0.0  0.0\n",
      "3     Texas  9.0  12.0  0.0  0.0\n",
      "4      Utah  0.0   0.0  0.0  0.0\n"
     ]
    }
   ],
   "source": [
    "print('\\nDataFrame original')\n",
    "print(df)\n",
    "\n",
    "df1 = df.fillna(0) # Substitui valores faltantes por zero e guarda em um novo DataFrame \n",
    "                   # O DataFrame original não é afetado\n",
    "print('DataFrame com valores faltantes substituidos por 0')\n",
    "print(df1)\n"
   ]
  },
  {
   "cell_type": "code",
   "execution_count": 10,
   "metadata": {
    "colab": {
     "base_uri": "https://localhost:8080/"
    },
    "executionInfo": {
     "elapsed": 648,
     "status": "ok",
     "timestamp": 1615470161773,
     "user": {
      "displayName": "Moisés Rocha dos Santos",
      "photoUrl": "https://lh3.googleusercontent.com/a-/AOh14GibTBRTi_dNo8fVn5eJmxJxxTCqGLtdRIwf_lD2=s64",
      "userId": "12530905896628174712"
     },
     "user_tz": 180
    },
    "id": "tWG4kLQFe44q",
    "outputId": "024fdd4e-3db9-421b-8078-bbc9583f00ed"
   },
   "outputs": [
    {
     "name": "stdout",
     "output_type": "stream",
     "text": [
      "          0    1     2    3    4\n",
      "0  Colorado -1.0   NaN  0.0  1.0\n",
      "1      Ohio  3.0   5.0  6.0  9.0\n",
      "2    Oregon -1.0   NaN  0.0  1.0\n",
      "3     Texas  9.0  12.0  0.0  1.0\n",
      "4      Utah -1.0   NaN  0.0  1.0\n"
     ]
    }
   ],
   "source": [
    "# pode-se utilizar um dicionário para empregar um valor diferente para cada coluna\n",
    "# a chave do dicionário deve ser o rótulo da coluna e o valor correspondente é\n",
    "# o valor que substituirá o dado faltante na coluna\n",
    "\n",
    "print(df.fillna({1:-1,3:0,4:1})) # substitui o valor faltante da coluna 1 por -1\n",
    "                                 # da coluna 3 por 0 e da coluna 4 por 1"
   ]
  },
  {
   "cell_type": "markdown",
   "metadata": {
    "id": "JbRUwFTxe44r"
   },
   "source": [
    "## Processando os dados\n",
    "<font color='blue'>Pandas</font> fornece diversos mecanismos para manipular um DataFrame (ou Série). Exemplos de métodos são:\n",
    "\n",
    "- <font color='blue'>duplicated</font> e <font color='blue'>drop_duplicates</font>: encontra e remove linhas duplicadas, respectivamente\n",
    "- <font color='blue'>map</font>: transforma valores ou adiciona novas colunas com valores processados a partir de outras colunas\n",
    "- <font color='blue'>replace</font> substitui um valor específico\n",
    "- <font color='blue'>rename</font> modifica os rótulos das linhas ou colunas"
   ]
  },
  {
   "cell_type": "code",
   "execution_count": 11,
   "metadata": {
    "executionInfo": {
     "elapsed": 622,
     "status": "ok",
     "timestamp": 1615470165998,
     "user": {
      "displayName": "Moisés Rocha dos Santos",
      "photoUrl": "https://lh3.googleusercontent.com/a-/AOh14GibTBRTi_dNo8fVn5eJmxJxxTCqGLtdRIwf_lD2=s64",
      "userId": "12530905896628174712"
     },
     "user_tz": 180
    },
    "id": "7x2Q-BDfe44r"
   },
   "outputs": [],
   "source": [
    "import pandas as pd"
   ]
  },
  {
   "cell_type": "code",
   "execution_count": 12,
   "metadata": {
    "colab": {
     "base_uri": "https://localhost:8080/"
    },
    "executionInfo": {
     "elapsed": 633,
     "status": "ok",
     "timestamp": 1615470168116,
     "user": {
      "displayName": "Moisés Rocha dos Santos",
      "photoUrl": "https://lh3.googleusercontent.com/a-/AOh14GibTBRTi_dNo8fVn5eJmxJxxTCqGLtdRIwf_lD2=s64",
      "userId": "12530905896628174712"
     },
     "user_tz": 180
    },
    "id": "ScJCCDjre44r",
    "outputId": "60292329-6348-4b2f-b3fc-6a21cbe77adf"
   },
   "outputs": [
    {
     "name": "stdout",
     "output_type": "stream",
     "text": [
      "    c0  c1\n",
      "0  one   1\n",
      "1  one   1\n",
      "2  one   2\n",
      "3  two   3\n",
      "4  two   3\n",
      "5  two   4\n",
      "6  two   4\n"
     ]
    }
   ],
   "source": [
    "df = pd.DataFrame({'c0':['one','one','one','two','two','two','two'],\n",
    "                   'c1':[1,1,2,3,3,4,4]})  # gerando um DataFrame a partir \n",
    "                                           # de um dicionário\n",
    "print(df)"
   ]
  },
  {
   "cell_type": "markdown",
   "metadata": {
    "id": "boX2Vraje44r"
   },
   "source": [
    "###  <font color='blue'>duplicated</font> e <font color='blue'>drop_duplicates</font>"
   ]
  },
  {
   "cell_type": "code",
   "execution_count": 13,
   "metadata": {
    "colab": {
     "base_uri": "https://localhost:8080/"
    },
    "executionInfo": {
     "elapsed": 636,
     "status": "ok",
     "timestamp": 1615470186727,
     "user": {
      "displayName": "Moisés Rocha dos Santos",
      "photoUrl": "https://lh3.googleusercontent.com/a-/AOh14GibTBRTi_dNo8fVn5eJmxJxxTCqGLtdRIwf_lD2=s64",
      "userId": "12530905896628174712"
     },
     "user_tz": 180
    },
    "id": "yFdq6UQCe44s",
    "outputId": "7a0a4b48-2c84-4164-f1e1-0f68894768b9"
   },
   "outputs": [
    {
     "name": "stdout",
     "output_type": "stream",
     "text": [
      "0    False\n",
      "1     True\n",
      "2    False\n",
      "3    False\n",
      "4     True\n",
      "5    False\n",
      "6     True\n",
      "dtype: bool\n",
      "    c0  c1\n",
      "0  one   1\n",
      "2  one   2\n",
      "3  two   3\n",
      "5  two   4\n"
     ]
    }
   ],
   "source": [
    "# detecta linhas duplicadas\n",
    "print(df.duplicated())  # gera uma série booleana onde os valores True correspondem\n",
    "                        # às linhas do DataFrame que estão duplicadas\n",
    "\n",
    "print(df.drop_duplicates())  # remove todas as linhas duplicadas"
   ]
  },
  {
   "cell_type": "markdown",
   "metadata": {
    "id": "AV9gvViBe44s"
   },
   "source": [
    "### <font color='blue'>map</font>\n",
    "O método <font color='blue'>map</font> assume como parâmetro uma regra, que pode ser uma função ou um dicionário, a fim de transformar os valores de uma coluna com base na regra ou no dicionário."
   ]
  },
  {
   "cell_type": "code",
   "execution_count": 15,
   "metadata": {
    "colab": {
     "base_uri": "https://localhost:8080/"
    },
    "executionInfo": {
     "elapsed": 679,
     "status": "ok",
     "timestamp": 1615470213204,
     "user": {
      "displayName": "Moisés Rocha dos Santos",
      "photoUrl": "https://lh3.googleusercontent.com/a-/AOh14GibTBRTi_dNo8fVn5eJmxJxxTCqGLtdRIwf_lD2=s64",
      "userId": "12530905896628174712"
     },
     "user_tz": 180
    },
    "id": "m0r8f3Dze44s",
    "outputId": "7b2322a7-6ef8-4a97-efc0-d0b3ae7a4fc5"
   },
   "outputs": [
    {
     "data": {
      "text/html": [
       "<div>\n",
       "<style scoped>\n",
       "    .dataframe tbody tr th:only-of-type {\n",
       "        vertical-align: middle;\n",
       "    }\n",
       "\n",
       "    .dataframe tbody tr th {\n",
       "        vertical-align: top;\n",
       "    }\n",
       "\n",
       "    .dataframe thead th {\n",
       "        text-align: right;\n",
       "    }\n",
       "</style>\n",
       "<table border=\"1\" class=\"dataframe\">\n",
       "  <thead>\n",
       "    <tr style=\"text-align: right;\">\n",
       "      <th></th>\n",
       "      <th>food</th>\n",
       "      <th>ounces</th>\n",
       "      <th>type</th>\n",
       "    </tr>\n",
       "  </thead>\n",
       "  <tbody>\n",
       "    <tr>\n",
       "      <th>0</th>\n",
       "      <td>Bread</td>\n",
       "      <td>4</td>\n",
       "      <td>grain</td>\n",
       "    </tr>\n",
       "    <tr>\n",
       "      <th>1</th>\n",
       "      <td>Apple</td>\n",
       "      <td>3</td>\n",
       "      <td>fruit</td>\n",
       "    </tr>\n",
       "    <tr>\n",
       "      <th>2</th>\n",
       "      <td>Cheese</td>\n",
       "      <td>12</td>\n",
       "      <td>dairy</td>\n",
       "    </tr>\n",
       "  </tbody>\n",
       "</table>\n",
       "</div>"
      ],
      "text/plain": [
       "     food  ounces   type\n",
       "0   Bread       4  grain\n",
       "1   Apple       3  fruit\n",
       "2  Cheese      12  dairy"
      ]
     },
     "execution_count": 15,
     "metadata": {},
     "output_type": "execute_result"
    }
   ],
   "source": [
    "dt = {'food': ['Bread','Apple','Cheese'],  # construindo um DataFrame a partir de um dicionário\n",
    "      'ounces': [4,3,12],\n",
    "      'type':['grain','fruit','dairy']\n",
    "     }\n",
    "\n",
    "df = pd.DataFrame(dt)\n",
    "df"
   ]
  },
  {
   "cell_type": "code",
   "execution_count": 24,
   "metadata": {
    "colab": {
     "base_uri": "https://localhost:8080/"
    },
    "executionInfo": {
     "elapsed": 628,
     "status": "ok",
     "timestamp": 1615470264849,
     "user": {
      "displayName": "Moisés Rocha dos Santos",
      "photoUrl": "https://lh3.googleusercontent.com/a-/AOh14GibTBRTi_dNo8fVn5eJmxJxxTCqGLtdRIwf_lD2=s64",
      "userId": "12530905896628174712"
     },
     "user_tz": 180
    },
    "id": "Iw7EuOkGe44s",
    "outputId": "4f2edc2b-8a68-4f0e-856f-006345e782f2"
   },
   "outputs": [
    {
     "name": "stdout",
     "output_type": "stream",
     "text": [
      "     food  ounces   type\n",
      "0   Bread       4  GRAIN\n",
      "1   Apple       3  FRUIT\n",
      "2  Cheese      12  DAIRY\n"
     ]
    }
   ],
   "source": [
    "# modificando os valores da coluna 'type' para que fiquem em letras maiusculas\n",
    "df['type'] = df['type'].map(lambda x: x.upper())\n",
    "print(df)"
   ]
  },
  {
   "cell_type": "code",
   "execution_count": 25,
   "metadata": {
    "colab": {
     "base_uri": "https://localhost:8080/"
    },
    "executionInfo": {
     "elapsed": 796,
     "status": "ok",
     "timestamp": 1615470311475,
     "user": {
      "displayName": "Moisés Rocha dos Santos",
      "photoUrl": "https://lh3.googleusercontent.com/a-/AOh14GibTBRTi_dNo8fVn5eJmxJxxTCqGLtdRIwf_lD2=s64",
      "userId": "12530905896628174712"
     },
     "user_tz": 180
    },
    "id": "cT9DMaLBe44s",
    "outputId": "018116b1-1607-4656-effb-0c806855b91f"
   },
   "outputs": [
    {
     "name": "stdout",
     "output_type": "stream",
     "text": [
      "     food  ounces   type calories\n",
      "0   Bread       4  GRAIN     high\n",
      "1   Apple       3  FRUIT      low\n",
      "2  Cheese      12  DAIRY     high\n"
     ]
    }
   ],
   "source": [
    "# O resultado da transformação pode ser atribuído a uma nova coluna no DataFrame\n",
    "\n",
    "calories_by_type = {'Cheese':'high','Apple':'low','Bread':'high'} # a chave do dicionário\n",
    "                                                        # corresponde ao valor da coluna\n",
    "                                                        # que será mapeado. O valor associado\n",
    "                                                        # à chave é o resultado do mapeamento\n",
    "\n",
    "df['calories'] = df['food'].map(calories_by_type) # uma nova coluna é criada pelo mapeamento\n",
    "print(df)"
   ]
  },
  {
   "cell_type": "markdown",
   "metadata": {
    "id": "JktJyo36e44t"
   },
   "source": [
    "### <font color='blue'>replace</font>\n",
    "O método <font color='blue'>replace</font> permite:\n",
    "- substituir valores no DataFrame todo \n",
    "   - para isso o parâmetro passado para o 'replace' deve ser um dicionário ou duas listas \n",
    "- substituir valores em colunas específicas\n",
    "   - neste caso o parâmetro deve ser um dicionário de dicionários"
   ]
  },
  {
   "cell_type": "code",
   "execution_count": 26,
   "metadata": {
    "colab": {
     "base_uri": "https://localhost:8080/"
    },
    "executionInfo": {
     "elapsed": 781,
     "status": "ok",
     "timestamp": 1615470355564,
     "user": {
      "displayName": "Moisés Rocha dos Santos",
      "photoUrl": "https://lh3.googleusercontent.com/a-/AOh14GibTBRTi_dNo8fVn5eJmxJxxTCqGLtdRIwf_lD2=s64",
      "userId": "12530905896628174712"
     },
     "user_tz": 180
    },
    "id": "lkCrtp11e44t",
    "outputId": "0ce47eb7-2a20-4bf4-8af8-9cce4849920d"
   },
   "outputs": [
    {
     "name": "stdout",
     "output_type": "stream",
     "text": [
      "   c1  c2   c3   c4\n",
      "0   1   2  bla  cla\n",
      "1   2   4  cla  bla\n",
      "2   3   6  dla  fla\n",
      "3   4   8  ela  ela\n",
      "4   5  10  fla  dla\n"
     ]
    }
   ],
   "source": [
    "# criando um DataFrame a partir de um dicionário\n",
    "dfr = pd.DataFrame({'c1':[1,2,3,4,5],'c2':[2,4,6,8,10],'c3':['bla','cla','dla','ela','fla'],\n",
    "                   'c4':['cla','bla','fla','ela','dla']})\n",
    "print(dfr)"
   ]
  },
  {
   "cell_type": "markdown",
   "metadata": {
    "id": "7wL4Wocae44t"
   },
   "source": [
    "**Substituindo valores no DataFrame todo utilizando duas listas**"
   ]
  },
  {
   "cell_type": "code",
   "execution_count": 27,
   "metadata": {
    "colab": {
     "base_uri": "https://localhost:8080/",
     "height": 204
    },
    "executionInfo": {
     "elapsed": 658,
     "status": "ok",
     "timestamp": 1615470432136,
     "user": {
      "displayName": "Moisés Rocha dos Santos",
      "photoUrl": "https://lh3.googleusercontent.com/a-/AOh14GibTBRTi_dNo8fVn5eJmxJxxTCqGLtdRIwf_lD2=s64",
      "userId": "12530905896628174712"
     },
     "user_tz": 180
    },
    "id": "mbimUn2Re44u",
    "outputId": "bdcc06ff-ca8e-4086-b783-a320b00a7295"
   },
   "outputs": [
    {
     "data": {
      "text/html": [
       "<div>\n",
       "<style scoped>\n",
       "    .dataframe tbody tr th:only-of-type {\n",
       "        vertical-align: middle;\n",
       "    }\n",
       "\n",
       "    .dataframe tbody tr th {\n",
       "        vertical-align: top;\n",
       "    }\n",
       "\n",
       "    .dataframe thead th {\n",
       "        text-align: right;\n",
       "    }\n",
       "</style>\n",
       "<table border=\"1\" class=\"dataframe\">\n",
       "  <thead>\n",
       "    <tr style=\"text-align: right;\">\n",
       "      <th></th>\n",
       "      <th>c1</th>\n",
       "      <th>c2</th>\n",
       "      <th>c3</th>\n",
       "      <th>c4</th>\n",
       "    </tr>\n",
       "  </thead>\n",
       "  <tbody>\n",
       "    <tr>\n",
       "      <th>0</th>\n",
       "      <td>1</td>\n",
       "      <td>-2</td>\n",
       "      <td>bla</td>\n",
       "      <td>clam</td>\n",
       "    </tr>\n",
       "    <tr>\n",
       "      <th>1</th>\n",
       "      <td>-2</td>\n",
       "      <td>4</td>\n",
       "      <td>clam</td>\n",
       "      <td>bla</td>\n",
       "    </tr>\n",
       "    <tr>\n",
       "      <th>2</th>\n",
       "      <td>3</td>\n",
       "      <td>6</td>\n",
       "      <td>dla</td>\n",
       "      <td>fla</td>\n",
       "    </tr>\n",
       "    <tr>\n",
       "      <th>3</th>\n",
       "      <td>4</td>\n",
       "      <td>8</td>\n",
       "      <td>ela</td>\n",
       "      <td>ela</td>\n",
       "    </tr>\n",
       "    <tr>\n",
       "      <th>4</th>\n",
       "      <td>5</td>\n",
       "      <td>10</td>\n",
       "      <td>fla</td>\n",
       "      <td>dla</td>\n",
       "    </tr>\n",
       "  </tbody>\n",
       "</table>\n",
       "</div>"
      ],
      "text/plain": [
       "   c1  c2    c3    c4\n",
       "0   1  -2   bla  clam\n",
       "1  -2   4  clam   bla\n",
       "2   3   6   dla   fla\n",
       "3   4   8   ela   ela\n",
       "4   5  10   fla   dla"
      ]
     },
     "execution_count": 27,
     "metadata": {
      "tags": []
     },
     "output_type": "execute_result"
    }
   ],
   "source": [
    "# substituindo valores no DataFrame todo utilizando duas listas:\n",
    "# a primeira lista corresponde aos valores que serão modificados\n",
    "# a segunda lista contém os novos valores;\n",
    "# no exemplo abaixo, 2 será substituido por -2 e 'cla' por 'clam'\n",
    "\n",
    "dfr.replace([2,'cla'],[-2,'clam'])"
   ]
  },
  {
   "cell_type": "markdown",
   "metadata": {
    "id": "Ab9DLnn7e44u"
   },
   "source": [
    "**Substituindo valores no DataFrame todo utilizando um dicionário**"
   ]
  },
  {
   "cell_type": "code",
   "execution_count": 28,
   "metadata": {
    "colab": {
     "base_uri": "https://localhost:8080/"
    },
    "executionInfo": {
     "elapsed": 636,
     "status": "ok",
     "timestamp": 1615470464295,
     "user": {
      "displayName": "Moisés Rocha dos Santos",
      "photoUrl": "https://lh3.googleusercontent.com/a-/AOh14GibTBRTi_dNo8fVn5eJmxJxxTCqGLtdRIwf_lD2=s64",
      "userId": "12530905896628174712"
     },
     "user_tz": 180
    },
    "id": "-VUrO92me44u",
    "outputId": "80636a5d-70b6-4ac7-d4d2-32511562bb98"
   },
   "outputs": [
    {
     "name": "stdout",
     "output_type": "stream",
     "text": [
      "   c1  c2    c3    c4\n",
      "0   1   2   bla   cla\n",
      "1   2  -4   cla   bla\n",
      "2   3   6   dla  palm\n",
      "3  -4   8   ela   ela\n",
      "4   5  10  palm   dla\n"
     ]
    }
   ],
   "source": [
    "# um dicionário pode ser utilizado como parâmetro para método 'replace', onde\n",
    "# as chaves correspondem aos valores que serão modificados e os valores\n",
    "# correspondentes são os novos valores\n",
    "# no exemplo abaixo 4 será substituido por -4 e 'fla' por 'palm'\n",
    "\n",
    "print(dfr.replace({4:-4,'fla':'palm'}))"
   ]
  },
  {
   "cell_type": "markdown",
   "metadata": {
    "id": "c9coTtJ0e44u"
   },
   "source": [
    "**Substituindo valores em colunas do DataFrame utilizando dicionário de dicionários**"
   ]
  },
  {
   "cell_type": "code",
   "execution_count": 29,
   "metadata": {
    "colab": {
     "base_uri": "https://localhost:8080/"
    },
    "executionInfo": {
     "elapsed": 623,
     "status": "ok",
     "timestamp": 1615470495050,
     "user": {
      "displayName": "Moisés Rocha dos Santos",
      "photoUrl": "https://lh3.googleusercontent.com/a-/AOh14GibTBRTi_dNo8fVn5eJmxJxxTCqGLtdRIwf_lD2=s64",
      "userId": "12530905896628174712"
     },
     "user_tz": 180
    },
    "id": "nBn-kFi4e44u",
    "outputId": "7868bb7b-4d0f-40b3-c03d-6461ead9a314"
   },
   "outputs": [
    {
     "name": "stdout",
     "output_type": "stream",
     "text": [
      "   c1  c2    c3   c4\n",
      "0   1   2   bla  cla\n",
      "1  -2   4   cla  bla\n",
      "2   3   6   dla  fla\n",
      "3  -4   8  eles  ela\n",
      "4   5  10   fla  dla\n"
     ]
    }
   ],
   "source": [
    "# um dicionário de dicionários pode ser utilizado como parâmetro para substituir\n",
    "# valores em colunas específicas;\n",
    "# as chaves do dicionário principal correspondem aos rótulos das colunas que serão modificadas \n",
    "# os pares (chave, valor) dos dicionários \"secundários\" correspondem aos valores que serão modificados\n",
    "# e ao novo valor, respectivamente;\n",
    "# no exemplo abaixo, na coluna 'c1' o valor 4 será substituido por -4 e 2 por -2\n",
    "# na coluna 'c3' a string 'ela' será substituida por 'eles'\n",
    "\n",
    "print(dfr.replace({'c1':{4:-4,2:-2},'c3':{'ela':'eles'}}))"
   ]
  },
  {
   "cell_type": "markdown",
   "metadata": {
    "id": "sK3Fjzc4e44v"
   },
   "source": [
    "### <font color='blue'>rename</font>\n",
    "<font color='blue'>rename</font> pode ser utilizado para renomear os rótulos de linhas ou colunas. Uma função deve ser empregada para mapear os rótulos utilizando os parâmetros 'index' e 'columns'. A sintaxe do método é:\n",
    "```python\n",
    "DataFrame.rename(index=nome_func_renomeia_rotulos_linhas,columns=nome_func_renomeia_rotulos_linhas)\n",
    "```\n",
    "onde `nome_func_renomeia_rotulos_linhas` e `nome_func_renomeia_rotulos_linhas` são funções que recebem um rótulo como parâmetro e retorna o novo rótulo (tipicamente são definidas como funções <font color='blue'>lambda</font>) ou um dicionário onde as chaves e valores correspondem aos rótulos antigos e novos respectivamente. "
   ]
  },
  {
   "cell_type": "code",
   "execution_count": 30,
   "metadata": {
    "colab": {
     "base_uri": "https://localhost:8080/"
    },
    "executionInfo": {
     "elapsed": 655,
     "status": "ok",
     "timestamp": 1615470761369,
     "user": {
      "displayName": "Moisés Rocha dos Santos",
      "photoUrl": "https://lh3.googleusercontent.com/a-/AOh14GibTBRTi_dNo8fVn5eJmxJxxTCqGLtdRIwf_lD2=s64",
      "userId": "12530905896628174712"
     },
     "user_tz": 180
    },
    "id": "UtWk5Tw_e44v",
    "outputId": "3a6f9a0d-d308-4ddc-bd9f-9c2c53664117"
   },
   "outputs": [
    {
     "name": "stdout",
     "output_type": "stream",
     "text": [
      "DataFrame com rótulos originais\n",
      "   c1  c2   c3   c4\n",
      "0   1   2  bla  cla\n",
      "1   2   4  cla  bla\n",
      "2   3   6  dla  fla\n",
      "3   4   8  ela  ela\n",
      "4   5  10  fla  dla\n",
      "Rótulos das linhas: [0 1 2 3 4]\n",
      "Rótulos das colunas: ['c1' 'c2' 'c3' 'c4']\n",
      "\n",
      "DataFrame com rótulos modificados\n",
      "    C1  C2   C3   C4\n",
      "0a   1   2  bla  cla\n",
      "1a   2   4  cla  bla\n",
      "2a   3   6  dla  fla\n",
      "3a   4   8  ela  ela\n",
      "4a   5  10  fla  dla\n",
      "Rótulos das linhas: ['0a' '1a' '2a' '3a' '4a']\n",
      "Rótulos das colunas: ['C1' 'C2' 'C3' 'C4']\n"
     ]
    }
   ],
   "source": [
    "# criando um DataFrame a partir de um dicionário\n",
    "dfr = pd.DataFrame({'c1':[1,2,3,4,5],'c2':[2,4,6,8,10],'c3':['bla','cla','dla','ela','fla'],\n",
    "                   'c4':['cla','bla','fla','ela','dla']})\n",
    "\n",
    "print('DataFrame com rótulos originais')\n",
    "print(dfr)\n",
    "print('Rótulos das linhas:',dfr.index.values)\n",
    "print('Rótulos das colunas:',dfr.columns.values)\n",
    "\n",
    "print('\\nDataFrame com rótulos modificados')\n",
    "# o comando abaixo adiciona o caracter 'a' aos rótulos das linhas e torna\n",
    "# os caracteres dos rótulos das colunas maiúsculos\n",
    "dfr_modificado = dfr.rename(index=lambda x: str(x)+'a', columns=lambda x: x.upper())\n",
    "print(dfr_modificado)\n",
    "print('Rótulos das linhas:',dfr_modificado.index.values)\n",
    "print('Rótulos das colunas:',dfr_modificado.columns.values)"
   ]
  },
  {
   "cell_type": "markdown",
   "metadata": {
    "id": "2-cdBGhEe44v"
   },
   "source": [
    "## Combinando e transformando\n",
    "<font color='blue'>Pandas</font> fornece um conjunto de métodos para combinar DataFrames, o que é extremamente útil em cenários envolvendo múltiplas fontes de dados. Em particular, os métodos:\n",
    "- <font color='blue'>merge</font> combina DataFrames com base nos rótulos das linhas ou valores das colunas\n",
    "- <font color='blue'>concatenate</font> combina DataFrames a partir de um eixo específico\n",
    "- <font color='blue'>reshaping</font> transforma as linhas/colunas"
   ]
  },
  {
   "cell_type": "code",
   "execution_count": 31,
   "metadata": {
    "executionInfo": {
     "elapsed": 637,
     "status": "ok",
     "timestamp": 1615470854152,
     "user": {
      "displayName": "Moisés Rocha dos Santos",
      "photoUrl": "https://lh3.googleusercontent.com/a-/AOh14GibTBRTi_dNo8fVn5eJmxJxxTCqGLtdRIwf_lD2=s64",
      "userId": "12530905896628174712"
     },
     "user_tz": 180
    },
    "id": "Vclj97TDe44w"
   },
   "outputs": [],
   "source": [
    "import pandas as pd"
   ]
  },
  {
   "cell_type": "markdown",
   "metadata": {
    "id": "TnY2Yqu8e44w"
   },
   "source": [
    "### <font color='blue'>merge</font>  \n",
    "O método <font color='blue'>merge</font> \"funde\" dois DataFrames, duas séries, ou uma série com um DataFrame.\n",
    "\n",
    "A fuzão pode ser feita com base nos:\n",
    "- valores de duas colunas específicas, uma em cada DataFrame \n",
    "- valores de uma coluna em um dos DataFrame e rótulos das linhas no outro\n",
    "- valores dos rótulos das linhas em ambos os DataFrames (ou Séries)"
   ]
  },
  {
   "cell_type": "markdown",
   "metadata": {
    "id": "ybCINqgLe44w"
   },
   "source": [
    "#### Merge baseado nos valores de duas colunas"
   ]
  },
  {
   "cell_type": "code",
   "execution_count": 16,
   "metadata": {
    "colab": {
     "base_uri": "https://localhost:8080/"
    },
    "executionInfo": {
     "elapsed": 635,
     "status": "ok",
     "timestamp": 1615470860255,
     "user": {
      "displayName": "Moisés Rocha dos Santos",
      "photoUrl": "https://lh3.googleusercontent.com/a-/AOh14GibTBRTi_dNo8fVn5eJmxJxxTCqGLtdRIwf_lD2=s64",
      "userId": "12530905896628174712"
     },
     "user_tz": 180
    },
    "id": "zL9mvLwde44w",
    "outputId": "ba1c6316-263f-426e-d8f3-93fc493b060b"
   },
   "outputs": [
    {
     "name": "stdout",
     "output_type": "stream",
     "text": [
      "  key  data1\n",
      "0   b      0\n",
      "1   b      1\n",
      "2   a      2\n",
      "3   c      3\n",
      "4   a      4\n",
      "5   a      5\n",
      "6   b      6\n",
      "  key  data2\n",
      "0   a      0\n",
      "1   b      1\n",
      "2   d      2\n",
      "3   b      3\n",
      "4   d      4\n"
     ]
    }
   ],
   "source": [
    "# construindo dois DataFrames que serão fundidos com o método 'merge'\n",
    "df1 = pd.DataFrame({'key': ['b','b','a','c','a','a','b'], \n",
    "                   'data1': range(7)})\n",
    "\n",
    "df2 = pd.DataFrame({'key': ['a','b','d','b','d'], \n",
    "                   'data2': range(5)})\n",
    "\n",
    "print(df1)\n",
    "print(df2)"
   ]
  },
  {
   "cell_type": "code",
   "execution_count": 34,
   "metadata": {
    "colab": {
     "base_uri": "https://localhost:8080/",
     "height": 328
    },
    "executionInfo": {
     "elapsed": 764,
     "status": "ok",
     "timestamp": 1615471198870,
     "user": {
      "displayName": "Moisés Rocha dos Santos",
      "photoUrl": "https://lh3.googleusercontent.com/a-/AOh14GibTBRTi_dNo8fVn5eJmxJxxTCqGLtdRIwf_lD2=s64",
      "userId": "12530905896628174712"
     },
     "user_tz": 180
    },
    "id": "UHKwMmN7e44w",
    "outputId": "d4b549af-ff29-4f6e-abd3-f415e7d00074"
   },
   "outputs": [
    {
     "data": {
      "text/html": [
       "<div>\n",
       "<style scoped>\n",
       "    .dataframe tbody tr th:only-of-type {\n",
       "        vertical-align: middle;\n",
       "    }\n",
       "\n",
       "    .dataframe tbody tr th {\n",
       "        vertical-align: top;\n",
       "    }\n",
       "\n",
       "    .dataframe thead th {\n",
       "        text-align: right;\n",
       "    }\n",
       "</style>\n",
       "<table border=\"1\" class=\"dataframe\">\n",
       "  <thead>\n",
       "    <tr style=\"text-align: right;\">\n",
       "      <th></th>\n",
       "      <th>key</th>\n",
       "      <th>data1</th>\n",
       "      <th>data2</th>\n",
       "    </tr>\n",
       "  </thead>\n",
       "  <tbody>\n",
       "    <tr>\n",
       "      <th>0</th>\n",
       "      <td>b</td>\n",
       "      <td>0</td>\n",
       "      <td>1</td>\n",
       "    </tr>\n",
       "    <tr>\n",
       "      <th>1</th>\n",
       "      <td>b</td>\n",
       "      <td>0</td>\n",
       "      <td>3</td>\n",
       "    </tr>\n",
       "    <tr>\n",
       "      <th>2</th>\n",
       "      <td>b</td>\n",
       "      <td>1</td>\n",
       "      <td>1</td>\n",
       "    </tr>\n",
       "    <tr>\n",
       "      <th>3</th>\n",
       "      <td>b</td>\n",
       "      <td>1</td>\n",
       "      <td>3</td>\n",
       "    </tr>\n",
       "    <tr>\n",
       "      <th>4</th>\n",
       "      <td>b</td>\n",
       "      <td>6</td>\n",
       "      <td>1</td>\n",
       "    </tr>\n",
       "    <tr>\n",
       "      <th>5</th>\n",
       "      <td>b</td>\n",
       "      <td>6</td>\n",
       "      <td>3</td>\n",
       "    </tr>\n",
       "    <tr>\n",
       "      <th>6</th>\n",
       "      <td>a</td>\n",
       "      <td>2</td>\n",
       "      <td>0</td>\n",
       "    </tr>\n",
       "    <tr>\n",
       "      <th>7</th>\n",
       "      <td>a</td>\n",
       "      <td>4</td>\n",
       "      <td>0</td>\n",
       "    </tr>\n",
       "    <tr>\n",
       "      <th>8</th>\n",
       "      <td>a</td>\n",
       "      <td>5</td>\n",
       "      <td>0</td>\n",
       "    </tr>\n",
       "  </tbody>\n",
       "</table>\n",
       "</div>"
      ],
      "text/plain": [
       "  key  data1  data2\n",
       "0   b      0      1\n",
       "1   b      0      3\n",
       "2   b      1      1\n",
       "3   b      1      3\n",
       "4   b      6      1\n",
       "5   b      6      3\n",
       "6   a      2      0\n",
       "7   a      4      0\n",
       "8   a      5      0"
      ]
     },
     "execution_count": 34,
     "metadata": {
      "tags": []
     },
     "output_type": "execute_result"
    }
   ],
   "source": [
    "# Como ambos os DataFrames possuem uma coluna chamada 'key', pode-se fundir com base nos\n",
    "# valores de tal coluna. Neste caso a sintaxe é:\n",
    "\n",
    "pd.merge(df1,df2,on='key')  # Note que apenas os valores que aparencem em \n",
    "                            # ambos DataFrames são utilizados no 'merge'\n",
    "                            # No exemplo, apenas os valores 'b' e 'a' aparencem\n",
    "                            # na coluna 'key' de ambos DataFrames df1 e df2"
   ]
  },
  {
   "cell_type": "code",
   "execution_count": 35,
   "metadata": {
    "colab": {
     "base_uri": "https://localhost:8080/",
     "height": 421
    },
    "executionInfo": {
     "elapsed": 654,
     "status": "ok",
     "timestamp": 1615471204701,
     "user": {
      "displayName": "Moisés Rocha dos Santos",
      "photoUrl": "https://lh3.googleusercontent.com/a-/AOh14GibTBRTi_dNo8fVn5eJmxJxxTCqGLtdRIwf_lD2=s64",
      "userId": "12530905896628174712"
     },
     "user_tz": 180
    },
    "id": "_3xqB3Oge44x",
    "outputId": "e165d202-7d23-48aa-8433-649893864c7d"
   },
   "outputs": [
    {
     "data": {
      "text/html": [
       "<div>\n",
       "<style scoped>\n",
       "    .dataframe tbody tr th:only-of-type {\n",
       "        vertical-align: middle;\n",
       "    }\n",
       "\n",
       "    .dataframe tbody tr th {\n",
       "        vertical-align: top;\n",
       "    }\n",
       "\n",
       "    .dataframe thead th {\n",
       "        text-align: right;\n",
       "    }\n",
       "</style>\n",
       "<table border=\"1\" class=\"dataframe\">\n",
       "  <thead>\n",
       "    <tr style=\"text-align: right;\">\n",
       "      <th></th>\n",
       "      <th>key</th>\n",
       "      <th>data1</th>\n",
       "      <th>data2</th>\n",
       "    </tr>\n",
       "  </thead>\n",
       "  <tbody>\n",
       "    <tr>\n",
       "      <th>0</th>\n",
       "      <td>b</td>\n",
       "      <td>0.0</td>\n",
       "      <td>1.0</td>\n",
       "    </tr>\n",
       "    <tr>\n",
       "      <th>1</th>\n",
       "      <td>b</td>\n",
       "      <td>0.0</td>\n",
       "      <td>3.0</td>\n",
       "    </tr>\n",
       "    <tr>\n",
       "      <th>2</th>\n",
       "      <td>b</td>\n",
       "      <td>1.0</td>\n",
       "      <td>1.0</td>\n",
       "    </tr>\n",
       "    <tr>\n",
       "      <th>3</th>\n",
       "      <td>b</td>\n",
       "      <td>1.0</td>\n",
       "      <td>3.0</td>\n",
       "    </tr>\n",
       "    <tr>\n",
       "      <th>4</th>\n",
       "      <td>b</td>\n",
       "      <td>6.0</td>\n",
       "      <td>1.0</td>\n",
       "    </tr>\n",
       "    <tr>\n",
       "      <th>5</th>\n",
       "      <td>b</td>\n",
       "      <td>6.0</td>\n",
       "      <td>3.0</td>\n",
       "    </tr>\n",
       "    <tr>\n",
       "      <th>6</th>\n",
       "      <td>a</td>\n",
       "      <td>2.0</td>\n",
       "      <td>0.0</td>\n",
       "    </tr>\n",
       "    <tr>\n",
       "      <th>7</th>\n",
       "      <td>a</td>\n",
       "      <td>4.0</td>\n",
       "      <td>0.0</td>\n",
       "    </tr>\n",
       "    <tr>\n",
       "      <th>8</th>\n",
       "      <td>a</td>\n",
       "      <td>5.0</td>\n",
       "      <td>0.0</td>\n",
       "    </tr>\n",
       "    <tr>\n",
       "      <th>9</th>\n",
       "      <td>c</td>\n",
       "      <td>3.0</td>\n",
       "      <td>NaN</td>\n",
       "    </tr>\n",
       "    <tr>\n",
       "      <th>10</th>\n",
       "      <td>d</td>\n",
       "      <td>NaN</td>\n",
       "      <td>2.0</td>\n",
       "    </tr>\n",
       "    <tr>\n",
       "      <th>11</th>\n",
       "      <td>d</td>\n",
       "      <td>NaN</td>\n",
       "      <td>4.0</td>\n",
       "    </tr>\n",
       "  </tbody>\n",
       "</table>\n",
       "</div>"
      ],
      "text/plain": [
       "   key  data1  data2\n",
       "0    b    0.0    1.0\n",
       "1    b    0.0    3.0\n",
       "2    b    1.0    1.0\n",
       "3    b    1.0    3.0\n",
       "4    b    6.0    1.0\n",
       "5    b    6.0    3.0\n",
       "6    a    2.0    0.0\n",
       "7    a    4.0    0.0\n",
       "8    a    5.0    0.0\n",
       "9    c    3.0    NaN\n",
       "10   d    NaN    2.0\n",
       "11   d    NaN    4.0"
      ]
     },
     "execution_count": 35,
     "metadata": {
      "tags": []
     },
     "output_type": "execute_result"
    }
   ],
   "source": [
    "# O parâmetro \"how='outer'\" pode ser utilizado para forçar que valores presentes\n",
    "# em apenas um dos DataFrames apareçam no resutlado do 'merge'. Neste caso, um valor\n",
    "# 'NaN' é utilizado para marcar o dado faltante em um dos DataFrames\n",
    "\n",
    "# how = 'outer' --> união entre os dados\n",
    "# how = 'inner' --> intersecção entre os dados (default, utilizado no exemplo anterior)\n",
    "\n",
    "pd.merge(df1,df2,on='key',how='outer')  # o valor 'c' aparece na coluna 'key'\n",
    "                                        # apenas em df1, enquanto o valor 'd'\n",
    "                                        # aparece apenas em df2    "
   ]
  },
  {
   "cell_type": "code",
   "execution_count": 31,
   "metadata": {},
   "outputs": [
    {
     "name": "stdout",
     "output_type": "stream",
     "text": [
      "  key1  data1\n",
      "0    b      0\n",
      "1    b      1\n",
      "2    a      2\n",
      "3    c      3\n",
      "4    a      4\n",
      "5    a      5\n",
      "6    b      6\n",
      "  key2  data2\n",
      "0    a      0\n",
      "1    b      1\n",
      "2    d      2\n",
      "3    b      3\n",
      "4    d      4\n"
     ]
    }
   ],
   "source": [
    "print(df1)\n",
    "print(df2)"
   ]
  },
  {
   "cell_type": "code",
   "execution_count": 32,
   "metadata": {
    "colab": {
     "base_uri": "https://localhost:8080/",
     "height": 421
    },
    "executionInfo": {
     "elapsed": 669,
     "status": "ok",
     "timestamp": 1615471207265,
     "user": {
      "displayName": "Moisés Rocha dos Santos",
      "photoUrl": "https://lh3.googleusercontent.com/a-/AOh14GibTBRTi_dNo8fVn5eJmxJxxTCqGLtdRIwf_lD2=s64",
      "userId": "12530905896628174712"
     },
     "user_tz": 180
    },
    "id": "XqLTxcore44x",
    "outputId": "2f2860bf-eba8-4024-e5bb-e36e69863590"
   },
   "outputs": [
    {
     "data": {
      "text/html": [
       "<div>\n",
       "<style scoped>\n",
       "    .dataframe tbody tr th:only-of-type {\n",
       "        vertical-align: middle;\n",
       "    }\n",
       "\n",
       "    .dataframe tbody tr th {\n",
       "        vertical-align: top;\n",
       "    }\n",
       "\n",
       "    .dataframe thead th {\n",
       "        text-align: right;\n",
       "    }\n",
       "</style>\n",
       "<table border=\"1\" class=\"dataframe\">\n",
       "  <thead>\n",
       "    <tr style=\"text-align: right;\">\n",
       "      <th></th>\n",
       "      <th>key1</th>\n",
       "      <th>data1</th>\n",
       "      <th>key2</th>\n",
       "      <th>data2</th>\n",
       "    </tr>\n",
       "  </thead>\n",
       "  <tbody>\n",
       "    <tr>\n",
       "      <th>0</th>\n",
       "      <td>b</td>\n",
       "      <td>0</td>\n",
       "      <td>b</td>\n",
       "      <td>1</td>\n",
       "    </tr>\n",
       "    <tr>\n",
       "      <th>1</th>\n",
       "      <td>b</td>\n",
       "      <td>0</td>\n",
       "      <td>b</td>\n",
       "      <td>3</td>\n",
       "    </tr>\n",
       "    <tr>\n",
       "      <th>2</th>\n",
       "      <td>b</td>\n",
       "      <td>1</td>\n",
       "      <td>b</td>\n",
       "      <td>1</td>\n",
       "    </tr>\n",
       "    <tr>\n",
       "      <th>3</th>\n",
       "      <td>b</td>\n",
       "      <td>1</td>\n",
       "      <td>b</td>\n",
       "      <td>3</td>\n",
       "    </tr>\n",
       "    <tr>\n",
       "      <th>4</th>\n",
       "      <td>b</td>\n",
       "      <td>6</td>\n",
       "      <td>b</td>\n",
       "      <td>1</td>\n",
       "    </tr>\n",
       "    <tr>\n",
       "      <th>5</th>\n",
       "      <td>b</td>\n",
       "      <td>6</td>\n",
       "      <td>b</td>\n",
       "      <td>3</td>\n",
       "    </tr>\n",
       "    <tr>\n",
       "      <th>6</th>\n",
       "      <td>a</td>\n",
       "      <td>2</td>\n",
       "      <td>a</td>\n",
       "      <td>0</td>\n",
       "    </tr>\n",
       "    <tr>\n",
       "      <th>7</th>\n",
       "      <td>a</td>\n",
       "      <td>4</td>\n",
       "      <td>a</td>\n",
       "      <td>0</td>\n",
       "    </tr>\n",
       "    <tr>\n",
       "      <th>8</th>\n",
       "      <td>a</td>\n",
       "      <td>5</td>\n",
       "      <td>a</td>\n",
       "      <td>0</td>\n",
       "    </tr>\n",
       "  </tbody>\n",
       "</table>\n",
       "</div>"
      ],
      "text/plain": [
       "  key1  data1 key2  data2\n",
       "0    b      0    b      1\n",
       "1    b      0    b      3\n",
       "2    b      1    b      1\n",
       "3    b      1    b      3\n",
       "4    b      6    b      1\n",
       "5    b      6    b      3\n",
       "6    a      2    a      0\n",
       "7    a      4    a      0\n",
       "8    a      5    a      0"
      ]
     },
     "execution_count": 32,
     "metadata": {},
     "output_type": "execute_result"
    }
   ],
   "source": [
    "# Quando os DataFrames não possuem colunas com o mesmo rótulo, é possível \n",
    "# especificar quais colunas serão utilizadas em cada DataFrame por meio\n",
    "# dos parâmetros 'left_on' e 'right_on'\n",
    "\n",
    "df1 = pd.DataFrame({'key1': ['b','b','a','c','a','a','b'], # os DataFrames df1 e df2 nao \n",
    "                   'data1': range(7)})                     # possuem colunas com mesmo rótulo\n",
    "\n",
    "df2 = pd.DataFrame({'key2': ['a','b','d','b','d'],  \n",
    "                   'data2': range(5)})\n",
    "\n",
    "pd.merge(df1, df2,left_on='key1',right_on='key2',how='inner') \n",
    "            # 'left_on' se refere a coluna do DataFrame correspondendo ao primeiro parâmetro \n",
    "            # (parâmetro da esquerda), neste exemplo, df1\n",
    "            # 'right_on' se refere a coluna do DataFrame correspondendo ao segundo parâmetro \n",
    "            # (parâmetro da direita), neste exemplo, df2\n",
    "            # Note que neste caso ambas as colunas são inseridas no DataFrame resultante"
   ]
  },
  {
   "cell_type": "code",
   "execution_count": 26,
   "metadata": {},
   "outputs": [],
   "source": [
    "import numpy as np\n"
   ]
  },
  {
   "cell_type": "code",
   "execution_count": 28,
   "metadata": {},
   "outputs": [
    {
     "data": {
      "text/html": [
       "<div>\n",
       "<style scoped>\n",
       "    .dataframe tbody tr th:only-of-type {\n",
       "        vertical-align: middle;\n",
       "    }\n",
       "\n",
       "    .dataframe tbody tr th {\n",
       "        vertical-align: top;\n",
       "    }\n",
       "\n",
       "    .dataframe thead th {\n",
       "        text-align: right;\n",
       "    }\n",
       "</style>\n",
       "<table border=\"1\" class=\"dataframe\">\n",
       "  <thead>\n",
       "    <tr style=\"text-align: right;\">\n",
       "      <th></th>\n",
       "      <th>a</th>\n",
       "      <th>b</th>\n",
       "      <th>c</th>\n",
       "    </tr>\n",
       "  </thead>\n",
       "  <tbody>\n",
       "    <tr>\n",
       "      <th>0</th>\n",
       "      <td>3.356440</td>\n",
       "      <td>8.806623</td>\n",
       "      <td>6.701545</td>\n",
       "    </tr>\n",
       "    <tr>\n",
       "      <th>1</th>\n",
       "      <td>1.806962</td>\n",
       "      <td>4.322653</td>\n",
       "      <td>4.755081</td>\n",
       "    </tr>\n",
       "    <tr>\n",
       "      <th>2</th>\n",
       "      <td>2.669436</td>\n",
       "      <td>4.555976</td>\n",
       "      <td>5.842850</td>\n",
       "    </tr>\n",
       "  </tbody>\n",
       "</table>\n",
       "</div>"
      ],
      "text/plain": [
       "          a         b         c\n",
       "0  3.356440  8.806623  6.701545\n",
       "1  1.806962  4.322653  4.755081\n",
       "2  2.669436  4.555976  5.842850"
      ]
     },
     "execution_count": 28,
     "metadata": {},
     "output_type": "execute_result"
    }
   ],
   "source": [
    "pd.DataFrame(np.random.uniform(0,9,9).reshape(3,3),columns=['a','b','c'])"
   ]
  },
  {
   "cell_type": "markdown",
   "metadata": {
    "id": "_CxCaYOke44x"
   },
   "source": [
    "#### Merge baseado nos valores de uma coluna em um DataFrame e rótulos das linhas no outro DataFrame\n",
    "Para realizar o merging com base em colunas e rótulos, deve-se especificar os parâmetros\n",
    "'left\\_on', 'right\\_on', 'left\\_index' e 'right\\_index' de forma apropriada.\n",
    "- __left\\_on__ = nome da coluna a ser utilizada no DataFrame da esquerda (primeiro parâmetro)\n",
    "- __left\\_index__ = True indica que os rótulos das linhas no DataFrame da esquerda (primeiro parâmetro) serão utilizados \n",
    "- __right\\_on__ = nome da coluna a ser utilizada no DataFrame da direita (segundo parâmetro)\n",
    "- __right\\_index__ = True indica que os rótulos das linhas no DataFrame da direita (segundo parâmetro) serão utilizados \n",
    "\n",
    "**Obs:** Se o parâmetro __left\\_on__ for utilizando, não se pode empregrar ao mesmo tempo __left\\_index__. O mesmo vale para o uso concomitante de __right\\_on__ e __right\\_index__."
   ]
  },
  {
   "cell_type": "code",
   "execution_count": 37,
   "metadata": {
    "colab": {
     "base_uri": "https://localhost:8080/",
     "height": 515
    },
    "executionInfo": {
     "elapsed": 669,
     "status": "ok",
     "timestamp": 1615471212482,
     "user": {
      "displayName": "Moisés Rocha dos Santos",
      "photoUrl": "https://lh3.googleusercontent.com/a-/AOh14GibTBRTi_dNo8fVn5eJmxJxxTCqGLtdRIwf_lD2=s64",
      "userId": "12530905896628174712"
     },
     "user_tz": 180
    },
    "id": "tGBM0PNXe44x",
    "outputId": "e295608c-da62-4c98-b1c2-ee2e76446111"
   },
   "outputs": [
    {
     "name": "stdout",
     "output_type": "stream",
     "text": [
      "  key  value\n",
      "0   a      0\n",
      "1   b      1\n",
      "2   a      2\n",
      "3   a      3\n",
      "4   b      4\n",
      "5   c      5\n",
      "   group_val\n",
      "a        3.5\n",
      "b        7.0\n",
      "a        3.0\n"
     ]
    },
    {
     "data": {
      "text/html": [
       "<div>\n",
       "<style scoped>\n",
       "    .dataframe tbody tr th:only-of-type {\n",
       "        vertical-align: middle;\n",
       "    }\n",
       "\n",
       "    .dataframe tbody tr th {\n",
       "        vertical-align: top;\n",
       "    }\n",
       "\n",
       "    .dataframe thead th {\n",
       "        text-align: right;\n",
       "    }\n",
       "</style>\n",
       "<table border=\"1\" class=\"dataframe\">\n",
       "  <thead>\n",
       "    <tr style=\"text-align: right;\">\n",
       "      <th></th>\n",
       "      <th>key</th>\n",
       "      <th>value</th>\n",
       "      <th>group_val</th>\n",
       "    </tr>\n",
       "  </thead>\n",
       "  <tbody>\n",
       "    <tr>\n",
       "      <th>0</th>\n",
       "      <td>a</td>\n",
       "      <td>0</td>\n",
       "      <td>3.5</td>\n",
       "    </tr>\n",
       "    <tr>\n",
       "      <th>0</th>\n",
       "      <td>a</td>\n",
       "      <td>0</td>\n",
       "      <td>3.0</td>\n",
       "    </tr>\n",
       "    <tr>\n",
       "      <th>2</th>\n",
       "      <td>a</td>\n",
       "      <td>2</td>\n",
       "      <td>3.5</td>\n",
       "    </tr>\n",
       "    <tr>\n",
       "      <th>2</th>\n",
       "      <td>a</td>\n",
       "      <td>2</td>\n",
       "      <td>3.0</td>\n",
       "    </tr>\n",
       "    <tr>\n",
       "      <th>3</th>\n",
       "      <td>a</td>\n",
       "      <td>3</td>\n",
       "      <td>3.5</td>\n",
       "    </tr>\n",
       "    <tr>\n",
       "      <th>3</th>\n",
       "      <td>a</td>\n",
       "      <td>3</td>\n",
       "      <td>3.0</td>\n",
       "    </tr>\n",
       "    <tr>\n",
       "      <th>1</th>\n",
       "      <td>b</td>\n",
       "      <td>1</td>\n",
       "      <td>7.0</td>\n",
       "    </tr>\n",
       "    <tr>\n",
       "      <th>4</th>\n",
       "      <td>b</td>\n",
       "      <td>4</td>\n",
       "      <td>7.0</td>\n",
       "    </tr>\n",
       "    <tr>\n",
       "      <th>5</th>\n",
       "      <td>c</td>\n",
       "      <td>5</td>\n",
       "      <td>NaN</td>\n",
       "    </tr>\n",
       "  </tbody>\n",
       "</table>\n",
       "</div>"
      ],
      "text/plain": [
       "  key  value  group_val\n",
       "0   a      0        3.5\n",
       "0   a      0        3.0\n",
       "2   a      2        3.5\n",
       "2   a      2        3.0\n",
       "3   a      3        3.5\n",
       "3   a      3        3.0\n",
       "1   b      1        7.0\n",
       "4   b      4        7.0\n",
       "5   c      5        NaN"
      ]
     },
     "execution_count": 37,
     "metadata": {
      "tags": []
     },
     "output_type": "execute_result"
    }
   ],
   "source": [
    "df1 = pd.DataFrame({'key': ['a','b','a','a','b','c'], 'value': range(6)})\n",
    "\n",
    "df2 = pd.DataFrame({'group_val': [3.5, 7, 3.0]}, index=['a', 'b', 'a'])\n",
    "\n",
    "print(df1)\n",
    "print(df2)\n",
    "\n",
    "# Merge utilizando a coluna \"key\" de df1 e os rótulos das linhas em df2\n",
    "pd.merge(df1, df2, left_on='key', right_index=True,how='outer')"
   ]
  },
  {
   "cell_type": "code",
   "execution_count": 38,
   "metadata": {
    "colab": {
     "base_uri": "https://localhost:8080/",
     "height": 312
    },
    "executionInfo": {
     "elapsed": 709,
     "status": "ok",
     "timestamp": 1615471215627,
     "user": {
      "displayName": "Moisés Rocha dos Santos",
      "photoUrl": "https://lh3.googleusercontent.com/a-/AOh14GibTBRTi_dNo8fVn5eJmxJxxTCqGLtdRIwf_lD2=s64",
      "userId": "12530905896628174712"
     },
     "user_tz": 180
    },
    "id": "xrYZ3YL-e44x",
    "outputId": "0ff1166b-646d-4773-efe7-f66961e2a17d"
   },
   "outputs": [
    {
     "name": "stdout",
     "output_type": "stream",
     "text": [
      "   Ohio  Nevada\n",
      "a     1       2\n",
      "c     3       4\n",
      "e     5       6\n",
      "   Missouri  Alabama\n",
      "b         7        8\n",
      "c         9       10\n",
      "d        11       12\n",
      "e        13       14\n",
      "e         0        5\n"
     ]
    },
    {
     "data": {
      "text/html": [
       "<div>\n",
       "<style scoped>\n",
       "    .dataframe tbody tr th:only-of-type {\n",
       "        vertical-align: middle;\n",
       "    }\n",
       "\n",
       "    .dataframe tbody tr th {\n",
       "        vertical-align: top;\n",
       "    }\n",
       "\n",
       "    .dataframe thead th {\n",
       "        text-align: right;\n",
       "    }\n",
       "</style>\n",
       "<table border=\"1\" class=\"dataframe\">\n",
       "  <thead>\n",
       "    <tr style=\"text-align: right;\">\n",
       "      <th></th>\n",
       "      <th>Ohio</th>\n",
       "      <th>Nevada</th>\n",
       "      <th>Missouri</th>\n",
       "      <th>Alabama</th>\n",
       "    </tr>\n",
       "  </thead>\n",
       "  <tbody>\n",
       "    <tr>\n",
       "      <th>c</th>\n",
       "      <td>3</td>\n",
       "      <td>4</td>\n",
       "      <td>9</td>\n",
       "      <td>10</td>\n",
       "    </tr>\n",
       "    <tr>\n",
       "      <th>e</th>\n",
       "      <td>5</td>\n",
       "      <td>6</td>\n",
       "      <td>13</td>\n",
       "      <td>14</td>\n",
       "    </tr>\n",
       "    <tr>\n",
       "      <th>e</th>\n",
       "      <td>5</td>\n",
       "      <td>6</td>\n",
       "      <td>0</td>\n",
       "      <td>5</td>\n",
       "    </tr>\n",
       "  </tbody>\n",
       "</table>\n",
       "</div>"
      ],
      "text/plain": [
       "   Ohio  Nevada  Missouri  Alabama\n",
       "c     3       4         9       10\n",
       "e     5       6        13       14\n",
       "e     5       6         0        5"
      ]
     },
     "execution_count": 38,
     "metadata": {
      "tags": []
     },
     "output_type": "execute_result"
    }
   ],
   "source": [
    "# criando DataFrames a partir de lista de listas e especificando rótulos de linha e coluna\n",
    "df1 = pd.DataFrame([[1,2],[3,4],[5,6]], \n",
    "        index=['a','c','e'], columns=['Ohio','Nevada'])\n",
    "\n",
    "df2 = pd.DataFrame([[7,8],[9,10],[11,12],[13,14],[0,5]], \n",
    "        index=['b','c','d','e','e'],\n",
    "        columns=['Missouri','Alabama'])\n",
    "\n",
    "print(df1)\n",
    "print(df2)\n",
    "\n",
    "# merge utilizando rótulos dos dois DataFrames, \n",
    "# o parâmetro 'inner' (default, pode ser omitido) faz \n",
    "# com que apenas os rótulos que aparecem em ambos sejam considerados\n",
    "pd.merge(df1, df2, left_index=True, right_index=True, how='inner')"
   ]
  },
  {
   "cell_type": "markdown",
   "metadata": {
    "id": "OS2HHSIYe44x"
   },
   "source": [
    "### <font color='blue'>concat</font>\n",
    "O método <font color='blue'>concat</font> é utilizado para juntar DataFrames ou Séries com base em um dos eixos.\n",
    "- __axis = 0__ concatena por linhas \n",
    "- __axis = 1__ concatena por colunas. Quando empregado em um conjunto de séries resulta em um DataFrame\n",
    "\n",
    "O método assume como parâmetro uma lista de DataFrames ou Séries."
   ]
  },
  {
   "cell_type": "code",
   "execution_count": 39,
   "metadata": {
    "colab": {
     "base_uri": "https://localhost:8080/"
    },
    "executionInfo": {
     "elapsed": 637,
     "status": "ok",
     "timestamp": 1615471219470,
     "user": {
      "displayName": "Moisés Rocha dos Santos",
      "photoUrl": "https://lh3.googleusercontent.com/a-/AOh14GibTBRTi_dNo8fVn5eJmxJxxTCqGLtdRIwf_lD2=s64",
      "userId": "12530905896628174712"
     },
     "user_tz": 180
    },
    "id": "lPkNGRn6e44y",
    "outputId": "388af7f9-f0ca-4170-a909-673b0fde87cb"
   },
   "outputs": [
    {
     "name": "stdout",
     "output_type": "stream",
     "text": [
      "a    0\n",
      "b    1\n",
      "dtype: int64\n",
      "c    2\n",
      "d    3\n",
      "e    4\n",
      "dtype: int64\n",
      "a    1\n",
      "f    5\n",
      "d    6\n",
      "dtype: int64\n"
     ]
    },
    {
     "data": {
      "text/plain": [
       "a    0\n",
       "b    1\n",
       "c    2\n",
       "d    3\n",
       "e    4\n",
       "a    1\n",
       "f    5\n",
       "d    6\n",
       "dtype: int64"
      ]
     },
     "execution_count": 39,
     "metadata": {
      "tags": []
     },
     "output_type": "execute_result"
    }
   ],
   "source": [
    "# Construindo 3 séries especificando os rótulos das linhas\n",
    "s1 = pd.Series([0, 1], index=['a', 'b'])\n",
    "s2 = pd.Series([2, 3, 4], index=['c', 'd', 'e'])\n",
    "s3 = pd.Series([1,5, 6], index=['a','f', 'd']) \n",
    "print(s1)\n",
    "print(s2)\n",
    "print(s3)\n",
    "\n",
    "# Contatenando as 3 séries na vertical (axis=0 por default)\n",
    "# o resultado é uma nova séria (rótulos podem estar repetidos)\n",
    "pd.concat([s1,s2,s3])"
   ]
  },
  {
   "cell_type": "code",
   "execution_count": 40,
   "metadata": {
    "colab": {
     "base_uri": "https://localhost:8080/"
    },
    "executionInfo": {
     "elapsed": 646,
     "status": "ok",
     "timestamp": 1615471280541,
     "user": {
      "displayName": "Moisés Rocha dos Santos",
      "photoUrl": "https://lh3.googleusercontent.com/a-/AOh14GibTBRTi_dNo8fVn5eJmxJxxTCqGLtdRIwf_lD2=s64",
      "userId": "12530905896628174712"
     },
     "user_tz": 180
    },
    "id": "-m1vv-Lye44y",
    "outputId": "1078ee83-6b47-4f5c-b315-d4c1c9fc8626"
   },
   "outputs": [
    {
     "name": "stdout",
     "output_type": "stream",
     "text": [
      "     0    1    2\n",
      "a  0.0  NaN  1.0\n",
      "b  1.0  NaN  NaN\n",
      "c  NaN  2.0  NaN\n",
      "d  NaN  3.0  6.0\n",
      "e  NaN  4.0  NaN\n",
      "f  NaN  NaN  5.0\n"
     ]
    }
   ],
   "source": [
    "# concatenando as 3 séries por colunas especificando o parâmetro 'axis=1'\n",
    "# o resutado é um DataFrame\n",
    "print(pd.concat([s1,s2,s3],axis=1))"
   ]
  },
  {
   "cell_type": "markdown",
   "metadata": {
    "id": "zS9WqSSXe44y"
   },
   "source": [
    "## Estatísticas\n",
    "O <font color='blue'> pandas</font> possui vários métodos para se calcular estatísticas básicas em um DataFrame (ou série). Uma lista dos métodos estatíticos disponíveis pode ser encontrada [aqui](https://chrisalbon.com/python/data_wrangling/pandas_dataframe_descriptive_stats/) \n",
    "\n",
    "A maioria dos métodos estatísticos são agregações, isto é, produzem um escalar a partir de conjuntos de números. Quando aplicados a um DataFrame, aceitam o argumento `axis` para definir se as estatísticas serão calculadas nas linhas ou colunas (o padrão é `axis = 0`)."
   ]
  },
  {
   "cell_type": "code",
   "execution_count": 41,
   "metadata": {
    "executionInfo": {
     "elapsed": 807,
     "status": "ok",
     "timestamp": 1615471283969,
     "user": {
      "displayName": "Moisés Rocha dos Santos",
      "photoUrl": "https://lh3.googleusercontent.com/a-/AOh14GibTBRTi_dNo8fVn5eJmxJxxTCqGLtdRIwf_lD2=s64",
      "userId": "12530905896628174712"
     },
     "user_tz": 180
    },
    "id": "FHd_GLXxe44y"
   },
   "outputs": [],
   "source": [
    "import numpy as np\n",
    "import pandas as pd"
   ]
  },
  {
   "cell_type": "code",
   "execution_count": 42,
   "metadata": {
    "colab": {
     "base_uri": "https://localhost:8080/",
     "height": 359
    },
    "executionInfo": {
     "elapsed": 813,
     "status": "ok",
     "timestamp": 1615471285889,
     "user": {
      "displayName": "Moisés Rocha dos Santos",
      "photoUrl": "https://lh3.googleusercontent.com/a-/AOh14GibTBRTi_dNo8fVn5eJmxJxxTCqGLtdRIwf_lD2=s64",
      "userId": "12530905896628174712"
     },
     "user_tz": 180
    },
    "id": "tbSDZVd5e44z",
    "outputId": "a8932203-5cbd-4cc5-9f62-d852aa6fe0ae"
   },
   "outputs": [
    {
     "data": {
      "text/html": [
       "<div>\n",
       "<style scoped>\n",
       "    .dataframe tbody tr th:only-of-type {\n",
       "        vertical-align: middle;\n",
       "    }\n",
       "\n",
       "    .dataframe tbody tr th {\n",
       "        vertical-align: top;\n",
       "    }\n",
       "\n",
       "    .dataframe thead th {\n",
       "        text-align: right;\n",
       "    }\n",
       "</style>\n",
       "<table border=\"1\" class=\"dataframe\">\n",
       "  <thead>\n",
       "    <tr style=\"text-align: right;\">\n",
       "      <th></th>\n",
       "      <th>c0</th>\n",
       "      <th>c1</th>\n",
       "      <th>c2</th>\n",
       "    </tr>\n",
       "  </thead>\n",
       "  <tbody>\n",
       "    <tr>\n",
       "      <th>0</th>\n",
       "      <td>4.496732</td>\n",
       "      <td>7.793260</td>\n",
       "      <td>9.502547</td>\n",
       "    </tr>\n",
       "    <tr>\n",
       "      <th>1</th>\n",
       "      <td>0.829200</td>\n",
       "      <td>5.405365</td>\n",
       "      <td>7.209914</td>\n",
       "    </tr>\n",
       "    <tr>\n",
       "      <th>2</th>\n",
       "      <td>9.142645</td>\n",
       "      <td>5.164581</td>\n",
       "      <td>6.088182</td>\n",
       "    </tr>\n",
       "    <tr>\n",
       "      <th>3</th>\n",
       "      <td>3.240716</td>\n",
       "      <td>4.824630</td>\n",
       "      <td>8.401029</td>\n",
       "    </tr>\n",
       "    <tr>\n",
       "      <th>4</th>\n",
       "      <td>3.546542</td>\n",
       "      <td>6.224165</td>\n",
       "      <td>3.026196</td>\n",
       "    </tr>\n",
       "    <tr>\n",
       "      <th>5</th>\n",
       "      <td>4.437549</td>\n",
       "      <td>1.090673</td>\n",
       "      <td>9.665221</td>\n",
       "    </tr>\n",
       "    <tr>\n",
       "      <th>6</th>\n",
       "      <td>9.160455</td>\n",
       "      <td>7.462843</td>\n",
       "      <td>7.341343</td>\n",
       "    </tr>\n",
       "    <tr>\n",
       "      <th>7</th>\n",
       "      <td>8.031577</td>\n",
       "      <td>4.018805</td>\n",
       "      <td>3.270475</td>\n",
       "    </tr>\n",
       "    <tr>\n",
       "      <th>8</th>\n",
       "      <td>7.434698</td>\n",
       "      <td>3.460578</td>\n",
       "      <td>1.152409</td>\n",
       "    </tr>\n",
       "    <tr>\n",
       "      <th>9</th>\n",
       "      <td>8.712987</td>\n",
       "      <td>6.080305</td>\n",
       "      <td>4.779119</td>\n",
       "    </tr>\n",
       "  </tbody>\n",
       "</table>\n",
       "</div>"
      ],
      "text/plain": [
       "         c0        c1        c2\n",
       "0  4.496732  7.793260  9.502547\n",
       "1  0.829200  5.405365  7.209914\n",
       "2  9.142645  5.164581  6.088182\n",
       "3  3.240716  4.824630  8.401029\n",
       "4  3.546542  6.224165  3.026196\n",
       "5  4.437549  1.090673  9.665221\n",
       "6  9.160455  7.462843  7.341343\n",
       "7  8.031577  4.018805  3.270475\n",
       "8  7.434698  3.460578  1.152409\n",
       "9  8.712987  6.080305  4.779119"
      ]
     },
     "execution_count": 42,
     "metadata": {
      "tags": []
     },
     "output_type": "execute_result"
    }
   ],
   "source": [
    "\n",
    "D = np.random.uniform(low=0.0,high=10,size=(10,3)) # matriz 10x3 com números randômicos entre\n",
    "                                                   # 0 e 10\n",
    "\n",
    "df = pd.DataFrame(data=D,columns=['c0','c1','c2']) # constrói o DataFrame a partir do array\n",
    "                                                   # especificando o rótulo das colunas\n",
    "df"
   ]
  },
  {
   "cell_type": "code",
   "execution_count": 43,
   "metadata": {
    "colab": {
     "base_uri": "https://localhost:8080/"
    },
    "executionInfo": {
     "elapsed": 757,
     "status": "ok",
     "timestamp": 1615471288544,
     "user": {
      "displayName": "Moisés Rocha dos Santos",
      "photoUrl": "https://lh3.googleusercontent.com/a-/AOh14GibTBRTi_dNo8fVn5eJmxJxxTCqGLtdRIwf_lD2=s64",
      "userId": "12530905896628174712"
     },
     "user_tz": 180
    },
    "id": "JfxQO8Vbe44z",
    "outputId": "56eee268-723a-4b6d-ac2a-ee9366d3f089"
   },
   "outputs": [
    {
     "name": "stdout",
     "output_type": "stream",
     "text": [
      "soma colunas\n",
      "c0    59.033102\n",
      "c1    51.525204\n",
      "c2    60.436435\n",
      "dtype: float64\n",
      "\n",
      "soma linhas\n",
      "0    21.792539\n",
      "1    13.444479\n",
      "2    20.395408\n",
      "3    16.466376\n",
      "4    12.796903\n",
      "5    15.193442\n",
      "6    23.964642\n",
      "7    15.320857\n",
      "8    12.047685\n",
      "9    19.572411\n",
      "dtype: float64\n"
     ]
    }
   ],
   "source": [
    "# Somando os eixos de um DataFrame\n",
    "\n",
    "print('soma colunas')\n",
    "print(df.sum(axis=0)) # resultado é uma série onde os rótulos das linhas são os \n",
    "                      # rótulos das colunas do DataFrame\n",
    "    \n",
    "print('\\nsoma linhas')\n",
    "print(df.sum(axis=1)) # resultado é uma série com os mesmos rótulos das linhas do \n",
    "                      # DataFrame original"
   ]
  },
  {
   "cell_type": "code",
   "execution_count": 44,
   "metadata": {
    "colab": {
     "base_uri": "https://localhost:8080/"
    },
    "executionInfo": {
     "elapsed": 708,
     "status": "ok",
     "timestamp": 1615471291308,
     "user": {
      "displayName": "Moisés Rocha dos Santos",
      "photoUrl": "https://lh3.googleusercontent.com/a-/AOh14GibTBRTi_dNo8fVn5eJmxJxxTCqGLtdRIwf_lD2=s64",
      "userId": "12530905896628174712"
     },
     "user_tz": 180
    },
    "id": "JzECE5Bne44z",
    "outputId": "6cb475ab-18e6-49d0-e37e-6a4339b6abd7"
   },
   "outputs": [
    {
     "name": "stdout",
     "output_type": "stream",
     "text": [
      "media por colunas\n",
      "c0    5.903310\n",
      "c1    5.152520\n",
      "c2    6.043643\n",
      "dtype: float64\n",
      "\n",
      "media linhas\n",
      "0    7.264180\n",
      "1    4.481493\n",
      "2    6.798469\n",
      "3    5.488792\n",
      "4    4.265634\n",
      "5    5.064481\n",
      "6    7.988214\n",
      "7    5.106952\n",
      "8    4.015895\n",
      "9    6.524137\n",
      "dtype: float64\n"
     ]
    }
   ],
   "source": [
    "# Calculando a média em um eixo determinado\n",
    "\n",
    "print('media por colunas')\n",
    "print(df.mean(axis=0))  # calcula a média dos valores em cada coluna\n",
    "                        # resultado é uma série onde os rótulos das linhas são os \n",
    "                        # rótulos das colunas do DataFrame\n",
    "        \n",
    "print('\\nmedia linhas')\n",
    "print(df.mean(axis=1)) # calcula a média dos valores em cada linha\n",
    "                       # resultado é uma série com os mesmos rótulos das linhas do \n",
    "                       # DataFrame original"
   ]
  },
  {
   "cell_type": "code",
   "execution_count": 46,
   "metadata": {
    "colab": {
     "base_uri": "https://localhost:8080/",
     "height": 297
    },
    "executionInfo": {
     "elapsed": 797,
     "status": "ok",
     "timestamp": 1615471508982,
     "user": {
      "displayName": "Moisés Rocha dos Santos",
      "photoUrl": "https://lh3.googleusercontent.com/a-/AOh14GibTBRTi_dNo8fVn5eJmxJxxTCqGLtdRIwf_lD2=s64",
      "userId": "12530905896628174712"
     },
     "user_tz": 180
    },
    "id": "vKC2gIBJe44z",
    "outputId": "43c5b561-c7e3-457a-cc89-7bcc5e888ecf"
   },
   "outputs": [
    {
     "data": {
      "text/html": [
       "<div>\n",
       "<style scoped>\n",
       "    .dataframe tbody tr th:only-of-type {\n",
       "        vertical-align: middle;\n",
       "    }\n",
       "\n",
       "    .dataframe tbody tr th {\n",
       "        vertical-align: top;\n",
       "    }\n",
       "\n",
       "    .dataframe thead th {\n",
       "        text-align: right;\n",
       "    }\n",
       "</style>\n",
       "<table border=\"1\" class=\"dataframe\">\n",
       "  <thead>\n",
       "    <tr style=\"text-align: right;\">\n",
       "      <th></th>\n",
       "      <th>c0</th>\n",
       "      <th>c1</th>\n",
       "      <th>c2</th>\n",
       "    </tr>\n",
       "  </thead>\n",
       "  <tbody>\n",
       "    <tr>\n",
       "      <th>count</th>\n",
       "      <td>10.000000</td>\n",
       "      <td>10.000000</td>\n",
       "      <td>10.000000</td>\n",
       "    </tr>\n",
       "    <tr>\n",
       "      <th>mean</th>\n",
       "      <td>5.903310</td>\n",
       "      <td>5.152520</td>\n",
       "      <td>6.043643</td>\n",
       "    </tr>\n",
       "    <tr>\n",
       "      <th>std</th>\n",
       "      <td>2.951243</td>\n",
       "      <td>1.975924</td>\n",
       "      <td>2.905970</td>\n",
       "    </tr>\n",
       "    <tr>\n",
       "      <th>min</th>\n",
       "      <td>0.829200</td>\n",
       "      <td>1.090673</td>\n",
       "      <td>1.152409</td>\n",
       "    </tr>\n",
       "    <tr>\n",
       "      <th>25%</th>\n",
       "      <td>3.769294</td>\n",
       "      <td>4.220262</td>\n",
       "      <td>3.647636</td>\n",
       "    </tr>\n",
       "    <tr>\n",
       "      <th>50%</th>\n",
       "      <td>5.965715</td>\n",
       "      <td>5.284973</td>\n",
       "      <td>6.649048</td>\n",
       "    </tr>\n",
       "    <tr>\n",
       "      <th>75%</th>\n",
       "      <td>8.542634</td>\n",
       "      <td>6.188200</td>\n",
       "      <td>8.136108</td>\n",
       "    </tr>\n",
       "    <tr>\n",
       "      <th>max</th>\n",
       "      <td>9.160455</td>\n",
       "      <td>7.793260</td>\n",
       "      <td>9.665221</td>\n",
       "    </tr>\n",
       "  </tbody>\n",
       "</table>\n",
       "</div>"
      ],
      "text/plain": [
       "              c0         c1         c2\n",
       "count  10.000000  10.000000  10.000000\n",
       "mean    5.903310   5.152520   6.043643\n",
       "std     2.951243   1.975924   2.905970\n",
       "min     0.829200   1.090673   1.152409\n",
       "25%     3.769294   4.220262   3.647636\n",
       "50%     5.965715   5.284973   6.649048\n",
       "75%     8.542634   6.188200   8.136108\n",
       "max     9.160455   7.793260   9.665221"
      ]
     },
     "execution_count": 46,
     "metadata": {
      "tags": []
     },
     "output_type": "execute_result"
    }
   ],
   "source": [
    "# O método 'describe' fornece um resumo estatístico das colunas do DataFrame\n",
    "\n",
    "df.describe() # o resultado é um DataFrame onde as linhas correspondem\n",
    "              # a medidas estatísticas de cada coluna\n",
    "              # Por exemplo, a linha com rótulo '25%' informa o valor do primeiro quartil\n",
    "              # de cada coluna. A linha com rótulo 'min' o valor mínimo em cada coluna"
   ]
  }
 ],
 "metadata": {
  "colab": {
   "name": "Pandas II.ipynb",
   "provenance": []
  },
  "kernelspec": {
   "display_name": "Python 3",
   "language": "python",
   "name": "python3"
  },
  "language_info": {
   "codemirror_mode": {
    "name": "ipython",
    "version": 3
   },
   "file_extension": ".py",
   "mimetype": "text/x-python",
   "name": "python",
   "nbconvert_exporter": "python",
   "pygments_lexer": "ipython3",
   "version": "3.8.5"
  },
  "toc": {
   "base_numbering": 1,
   "nav_menu": {},
   "number_sections": true,
   "sideBar": true,
   "skip_h1_title": false,
   "title_cell": "Table of Contents",
   "title_sidebar": "Contents",
   "toc_cell": false,
   "toc_position": {},
   "toc_section_display": true,
   "toc_window_display": false
  },
  "varInspector": {
   "cols": {
    "lenName": 16,
    "lenType": 16,
    "lenVar": 40
   },
   "kernels_config": {
    "python": {
     "delete_cmd_postfix": "",
     "delete_cmd_prefix": "del ",
     "library": "var_list.py",
     "varRefreshCmd": "print(var_dic_list())"
    },
    "r": {
     "delete_cmd_postfix": ") ",
     "delete_cmd_prefix": "rm(",
     "library": "var_list.r",
     "varRefreshCmd": "cat(var_dic_list()) "
    }
   },
   "types_to_exclude": [
    "module",
    "function",
    "builtin_function_or_method",
    "instance",
    "_Feature"
   ],
   "window_display": false
  }
 },
 "nbformat": 4,
 "nbformat_minor": 1
}
