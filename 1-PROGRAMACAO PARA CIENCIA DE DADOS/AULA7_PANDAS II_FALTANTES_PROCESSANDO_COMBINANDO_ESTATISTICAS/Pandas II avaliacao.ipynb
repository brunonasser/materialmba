{
 "cells": [
  {
   "cell_type": "markdown",
   "metadata": {},
   "source": [
    "# <font color=\"blue\"> MBA em Ciência de Dados</font>\n",
    "# <font color=\"blue\">Programação para Ciência de Dados</font>\n",
    "\n",
    "## <font color=\"blue\">Pandas Parte II - Avaliação</font>\n",
    "**Material Produzido por Luis Gustavo Nonato**<br>\n",
    "**Cemeai - ICMC/USP São Carlos**\n",
    "---"
   ]
  },
  {
   "cell_type": "markdown",
   "metadata": {},
   "source": [
    "Os exercícios a seguir farão uso dos arquivos <font style=\"font-family: monaco\">ESC2013\\_RMSP\\_CEM.csv</font> e <font style=\"font-family: monaco\">ENEM2015.csv</font> disponíveis para download no sistema _Moodle_."
   ]
  },
  {
   "cell_type": "code",
   "execution_count": 7,
   "metadata": {},
   "outputs": [],
   "source": [
    "import numpy as np\n",
    "import pandas as pd\n",
    "import matplotlib.pyplot as plt"
   ]
  },
  {
   "cell_type": "code",
   "execution_count": 80,
   "metadata": {},
   "outputs": [],
   "source": [
    "# Os comandos abaixo são apenas para modificar como as informações serão apresentadas\n",
    "# no notebook\n",
    "\n",
    "# mostra no máximo 50 colunas\n",
    "pd.set_option('display.max_columns', 500)\n",
    "\n",
    "# aumenta o tamanho das figuras geradas pelo matplotlib\n",
    "plt.rcParams['figure.figsize'] = (10.0, 8.0)"
   ]
  },
  {
   "cell_type": "markdown",
   "metadata": {},
   "source": [
    "### Exercício 1)\n",
    "Carregue os arquivos <font style=\"font-family: monaco\">ESC2013\\_RMSP\\_CEM.csv</font> e <font style=\"font-family: monaco\">ENEM2015.csv</font>, armazenando-os em variáveis tipo DataFrame chamadas `escolas` e `enem` respectivamente. \n",
    "Os arquivos <font style=\"font-family: monaco\">ESC2013_RMSP_CEM.csv</font> e <font style=\"font-family: monaco\">ENEM2015.csv</font> possuem em comum o código das escolas, os quais estão armazenados nas colunas CODESC e CODIGO DA ENTIDADE, respectivamente.\n",
    "\n",
    "Quantas escolas cujo código aparece no arquivo <font style=\"font-family: monaco\">ENEM2015.csv</font> tambem aparecem em <font style=\"font-family: monaco\">ESC2013_RMSP_CEM.csv</font>?\n",
    "\n",
    "a) 1243 escolas<br>\n",
    "b) 1043 escolas <br>\n",
    "c) 10243 escolas <br>\n",
    "d) 1003 escolas\n",
    "\n",
    "**Dica**: Utilize o método <font color='blue'>isin</font> do <font color='blue'>pandas</font>."
   ]
  },
  {
   "cell_type": "code",
   "execution_count": 3,
   "metadata": {},
   "outputs": [],
   "source": [
    "escolas=pd.read_csv('ESC2013_RMSP_CEM.csv')\n",
    "enem=pd.read_csv('ENEM2015.csv')"
   ]
  },
  {
   "cell_type": "code",
   "execution_count": 21,
   "metadata": {},
   "outputs": [
    {
     "data": {
      "text/plain": [
       "0        35080548\n",
       "1        35352524\n",
       "2        35069929\n",
       "3        35036365\n",
       "4        35913424\n",
       "           ...   \n",
       "10932    35221247\n",
       "10933    35006737\n",
       "10934    35224807\n",
       "10935    35662082\n",
       "10936    35249191\n",
       "Name: CODESC, Length: 10937, dtype: int64"
      ]
     },
     "execution_count": 21,
     "metadata": {},
     "output_type": "execute_result"
    }
   ],
   "source": [
    "escolas['CODESC']"
   ]
  },
  {
   "cell_type": "code",
   "execution_count": 42,
   "metadata": {},
   "outputs": [
    {
     "data": {
      "text/plain": [
       "(1243,)"
      ]
     },
     "execution_count": 42,
     "metadata": {},
     "output_type": "execute_result"
    }
   ],
   "source": [
    "enem[enem['CODIGO DA ENTIDADE'].isin(escolas['CODESC'])]['CODIGO DA ENTIDADE'].unique().shape"
   ]
  },
  {
   "cell_type": "markdown",
   "metadata": {},
   "source": [
    "### Exercício 2)\n",
    "\n",
    "Verifique quantos valores faltantes existem em cada um dos DataFrames:\n",
    "\n",
    "a) `escolas`: 776346 valores faltantes; `enem`: 0 valores faltantes <br>\n",
    "b) `escolas`: 776346 valores faltantes; `enem`: 1 valor faltante <br>\n",
    "c) `escolas`: 7346 valores faltantes; `enem`: 103 valores faltantes <br>\n",
    "d) `escolas`: 7346 valores faltantes; `enem`: 10 valores faltantes  "
   ]
  },
  {
   "cell_type": "code",
   "execution_count": 49,
   "metadata": {},
   "outputs": [
    {
     "name": "stdout",
     "output_type": "stream",
     "text": [
      "qtd faltantes escolas: 776346\n",
      "qtd faltantes enem: 1\n"
     ]
    }
   ],
   "source": [
    "print('qtd faltantes escolas:', escolas.isnull().sum().sum())\n",
    "print('qtd faltantes enem:', enem.isnull().sum().sum())"
   ]
  },
  {
   "cell_type": "markdown",
   "metadata": {},
   "source": [
    "### Exercício 3)\n",
    "No DataFrame `escolas`, qual o rótulo da coluna com o maior número de valores faltantes.\n",
    "\n",
    "a) LP05_AF<br>\n",
    "b) MAT05_AF <br>\n",
    "c) IDEB05AF <br>\n",
    "d) COD_SC\n",
    "\n",
    "__Dica__: Utilize uma combinação dos comandos <font color='blue'>isna</font>, <font color='blue'>sum</font> e <font color='blue'>idxmax</font> do <font color='blue'>pandas</font>"
   ]
  },
  {
   "cell_type": "code",
   "execution_count": 57,
   "metadata": {},
   "outputs": [
    {
     "data": {
      "text/plain": [
       "'COD_SC'"
      ]
     },
     "execution_count": 57,
     "metadata": {},
     "output_type": "execute_result"
    }
   ],
   "source": [
    "escolas.isnull().sum().idxmax()"
   ]
  },
  {
   "cell_type": "markdown",
   "metadata": {},
   "source": [
    "### Exercício 4)\n",
    "\n",
    "O DataFrame `enem` possui valores faltantes na coluna 'Classificacao'. Preencha os valores faltantes com o valor da 'moda' da coluna. Qual o valor da moda utilizado para preencher os valores faltantes?\n",
    "\n",
    "a) 1<br>\n",
    "b) 2<br>\n",
    "c) 3<br>\n",
    "d) 4"
   ]
  },
  {
   "cell_type": "code",
   "execution_count": 65,
   "metadata": {},
   "outputs": [],
   "source": [
    "import  statistics as st"
   ]
  },
  {
   "cell_type": "code",
   "execution_count": 71,
   "metadata": {},
   "outputs": [
    {
     "data": {
      "text/plain": [
       "2.0    865\n",
       "1.0    193\n",
       "3.0    126\n",
       "4.0     57\n",
       "0.0      1\n",
       "Name: Classificacao, dtype: int64"
      ]
     },
     "execution_count": 71,
     "metadata": {},
     "output_type": "execute_result"
    }
   ],
   "source": [
    "enem['Classificacao'].value_counts()"
   ]
  },
  {
   "cell_type": "code",
   "execution_count": 68,
   "metadata": {},
   "outputs": [
    {
     "data": {
      "text/plain": [
       "2.0"
      ]
     },
     "execution_count": 68,
     "metadata": {},
     "output_type": "execute_result"
    }
   ],
   "source": [
    "st.mode(enem['Classificacao'])"
   ]
  },
  {
   "cell_type": "markdown",
   "metadata": {},
   "source": [
    "### Exercício 5)\n",
    "Os arquivos <font style=\"font-family: monaco\">ESC2013\\_RMSP\\_CEM.csv</font> e <font style=\"font-family: monaco\">ENEM2015.csv</font> possuem em comum o código das escolas, os quais estão armazenados nas colunas _CODESC_ e _CODIGO DA ENTIDADE_, respectivamente.\n",
    "\n",
    "Busque na coluna 'NUMERO DE PARTICIPANTES' do DataFrame `enem` o código das escolas com o menor número de participantes no ENEM. Utilizando o código obtido, imprima os nomes de tais escolas (armazenado na coluna 'NOMEESC' do DataFrame `escolas`). Uma das escolas com o menor número de participantes é:\n",
    "\n",
    "a) TEOTONIO ALVES PEREIRA<br>\n",
    "b) THAMARA CORREA DE MATOS<br>\n",
    "c) BRASILIO FLORES DE AZEVEDO<br>\n",
    "d) OSWALDO SAMMARTINO"
   ]
  },
  {
   "cell_type": "code",
   "execution_count": 78,
   "metadata": {
    "scrolled": true
   },
   "outputs": [],
   "source": [
    "junto=pd.merge(enem,escolas,left_on='CODIGO DA ENTIDADE',right_on='CODESC').sort_values('NUMERO DE PARTICIPANTES')"
   ]
  },
  {
   "cell_type": "code",
   "execution_count": 91,
   "metadata": {},
   "outputs": [
    {
     "data": {
      "text/plain": [
       "1093    DOM BOSCO SANTO ANDRE UNIDADE III COLEGIO\n",
       "624                        PAULO DE TARSO COLEGIO\n",
       "896                 ANDRADE INSTITUTO EDUCACIONAL\n",
       "674                     CALIFORNIA JUNIOR COLEGIO\n",
       "967                              ADVENTUS COLEGIO\n",
       "1173                              CRIACAO COLEGIO\n",
       "673                   GUARULHOS COLEGIO INTEGRADO\n",
       "740                           RUI BARBOSA COLEGIO\n",
       "1172                               VIVARE COLEGIO\n",
       "954                              POLIEDRO COLEGIO\n",
       "582                              HARMONIA COLEGIO\n",
       "584            PRESTES MAIA INSTITUTO EDUCACIONAL\n",
       "661                         COSTA ZAVAGLI COLEGIO\n",
       "593                     EUCLYDES DA CUNHA COLEGIO\n",
       "598                 COOPERATIVISTA DE POA COLEGIO\n",
       "574            MANOEL MARCONDES GALVAO UNIDADE II\n",
       "447                           JEAN PIAGET COLEGIO\n",
       "890                              FUTURO ESCOLA DO\n",
       "856                               ARCADIA COLEGIO\n",
       "1095         ALEXANDRE DUMAS COMPLEXO EDUCACIONAL\n",
       "1130                               FUTURA COLEGIO\n",
       "416                        ASSUNCAO COLEGIO EIEFM\n",
       "110                        TEOTONIO ALVES PEREIRA\n",
       "371                                BRASIL COLEGIO\n",
       "780                            MARCO ZERO COLEGIO\n",
       "380      NOSSA SENHORA DO SAGRADO CORACAO COLEGIO\n",
       "326                            CENTENARIO COLEGIO\n",
       "1152                           SHANGRI LA COLEGIO\n",
       "881                         AUGUSTO SILVA COLEGIO\n",
       "876                            SANTA RITA COLEGIO\n",
       "Name: NOMEESC, dtype: object"
      ]
     },
     "execution_count": 91,
     "metadata": {},
     "output_type": "execute_result"
    }
   ],
   "source": [
    "junto[junto['NUMERO DE PARTICIPANTES']==10]['NOMEESC']"
   ]
  }
 ],
 "metadata": {
  "kernelspec": {
   "display_name": "Python 3",
   "language": "python",
   "name": "python3"
  },
  "language_info": {
   "codemirror_mode": {
    "name": "ipython",
    "version": 3
   },
   "file_extension": ".py",
   "mimetype": "text/x-python",
   "name": "python",
   "nbconvert_exporter": "python",
   "pygments_lexer": "ipython3",
   "version": "3.7.6"
  },
  "toc": {
   "base_numbering": 1,
   "nav_menu": {},
   "number_sections": true,
   "sideBar": true,
   "skip_h1_title": false,
   "title_cell": "Table of Contents",
   "title_sidebar": "Contents",
   "toc_cell": false,
   "toc_position": {},
   "toc_section_display": true,
   "toc_window_display": false
  }
 },
 "nbformat": 4,
 "nbformat_minor": 2
}
