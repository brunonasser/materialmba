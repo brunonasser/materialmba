{
 "cells": [
  {
   "cell_type": "markdown",
   "metadata": {
    "id": "1adEq3D8dNla"
   },
   "source": [
    "# <font color=\"blue\"> MBA em Ciência de Dados</font>\n",
    "# <font color=\"blue\">Programação para Ciência de Dados</font>\n",
    "\n",
    "## <font color=\"blue\">Pandas Parte I - Avaliação</font>\n",
    "**Material Produzido por Luis Gustavo Nonato**<br>\n",
    "**Cemeai - ICMC/USP São Carlos**\n",
    "---"
   ]
  },
  {
   "cell_type": "markdown",
   "metadata": {
    "id": "GxXB_brNdNlo"
   },
   "source": [
    "As questões a seguir farão uso do arquivo <font style=\"font-family: monaco\">WorldCupMatches.csv</font>, disponível para download no moodle. Baixe o arquivo no seu diretório de trabalho para responder as questões.\n",
    "\n",
    "O arquivo <font style=\"font-family: monaco\">WorldCupMatches.csv</font> contém informações sobre todas as partidas de copas do mundo entre 1930 e 2014, ou seja, cada linha no arquivo corresponde a uma partida de futebol em copa do mundo.\n",
    "\n",
    "Algumas das colunas que serão importantes para resolver as questões são:\n",
    "- __Year__: indica o ano da copa\n",
    "- __Stage__: em qual fase da copa a partida aconteceu\n",
    "- __HomeTeamName__: nome do time anfitrião da partida\n",
    "- __AwayTeamName__: nome do time adversário na partida\n",
    "- __Attendance__: número de espectadores da partida\n",
    "- __Stadium__: estádio onde a partida foi realizada"
   ]
  },
  {
   "cell_type": "code",
   "execution_count": 1,
   "metadata": {
    "id": "diuEN8z2dNlq"
   },
   "outputs": [],
   "source": [
    "import pandas as pd\n",
    "import numpy as np"
   ]
  },
  {
   "cell_type": "markdown",
   "metadata": {
    "id": "rgNre_d6dNlr"
   },
   "source": [
    "### Exercício 1) \n",
    "Leia o arquivo <font style=\"font-family: monaco\">WorldCupMatches.csv</font>, armazene em uma variável DataFrame  chamada `copa_partidas`. Quantas colunas o DataFrame possui e quais as colunas cujo rótulo possui o menor número de caracteres?\n",
    "\n",
    "a) 17, 'Round', 'Match'<br>\n",
    "b) 18, ['Stage', 'Stadi']<br>\n",
    "c) 20, ['Year', 'City']<br>\n",
    "d) 22, ['Home','WinC']"
   ]
  },
  {
   "cell_type": "code",
   "execution_count": 3,
   "metadata": {
    "id": "bOWNS5AAdNls"
   },
   "outputs": [
    {
     "data": {
      "text/html": [
       "<div>\n",
       "<style scoped>\n",
       "    .dataframe tbody tr th:only-of-type {\n",
       "        vertical-align: middle;\n",
       "    }\n",
       "\n",
       "    .dataframe tbody tr th {\n",
       "        vertical-align: top;\n",
       "    }\n",
       "\n",
       "    .dataframe thead th {\n",
       "        text-align: right;\n",
       "    }\n",
       "</style>\n",
       "<table border=\"1\" class=\"dataframe\">\n",
       "  <thead>\n",
       "    <tr style=\"text-align: right;\">\n",
       "      <th></th>\n",
       "      <th>Year</th>\n",
       "      <th>Datetime</th>\n",
       "      <th>Stage</th>\n",
       "      <th>Stadium</th>\n",
       "      <th>City</th>\n",
       "      <th>HomeTeamName</th>\n",
       "      <th>HomeTeamGoals</th>\n",
       "      <th>AwayTeamGoals</th>\n",
       "      <th>AwayTeamName</th>\n",
       "      <th>WinConditions</th>\n",
       "      <th>Attendance</th>\n",
       "      <th>HalfTimeHomeGoals</th>\n",
       "      <th>HalfTimeAwayGoals</th>\n",
       "      <th>Referee</th>\n",
       "      <th>Assistant1</th>\n",
       "      <th>Assistant2</th>\n",
       "      <th>RoundID</th>\n",
       "      <th>MatchID</th>\n",
       "      <th>HomeTeamInitials</th>\n",
       "      <th>AwayTeamInitials</th>\n",
       "    </tr>\n",
       "  </thead>\n",
       "  <tbody>\n",
       "    <tr>\n",
       "      <th>0</th>\n",
       "      <td>1930</td>\n",
       "      <td>13 Jul 1930 - 15:00</td>\n",
       "      <td>Group 1</td>\n",
       "      <td>Pocitos</td>\n",
       "      <td>Montevideo</td>\n",
       "      <td>France</td>\n",
       "      <td>4</td>\n",
       "      <td>1</td>\n",
       "      <td>Mexico</td>\n",
       "      <td></td>\n",
       "      <td>4444.0</td>\n",
       "      <td>3</td>\n",
       "      <td>0</td>\n",
       "      <td>LOMBARDI Domingo (URU)</td>\n",
       "      <td>CRISTOPHE Henry (BEL)</td>\n",
       "      <td>REGO Gilberto (BRA)</td>\n",
       "      <td>201</td>\n",
       "      <td>1096</td>\n",
       "      <td>FRA</td>\n",
       "      <td>MEX</td>\n",
       "    </tr>\n",
       "    <tr>\n",
       "      <th>1</th>\n",
       "      <td>1930</td>\n",
       "      <td>13 Jul 1930 - 15:00</td>\n",
       "      <td>Group 4</td>\n",
       "      <td>Parque Central</td>\n",
       "      <td>Montevideo</td>\n",
       "      <td>USA</td>\n",
       "      <td>3</td>\n",
       "      <td>0</td>\n",
       "      <td>Belgium</td>\n",
       "      <td></td>\n",
       "      <td>18346.0</td>\n",
       "      <td>2</td>\n",
       "      <td>0</td>\n",
       "      <td>MACIAS Jose (ARG)</td>\n",
       "      <td>MATEUCCI Francisco (URU)</td>\n",
       "      <td>WARNKEN Alberto (CHI)</td>\n",
       "      <td>201</td>\n",
       "      <td>1090</td>\n",
       "      <td>USA</td>\n",
       "      <td>BEL</td>\n",
       "    </tr>\n",
       "    <tr>\n",
       "      <th>2</th>\n",
       "      <td>1930</td>\n",
       "      <td>14 Jul 1930 - 12:45</td>\n",
       "      <td>Group 2</td>\n",
       "      <td>Parque Central</td>\n",
       "      <td>Montevideo</td>\n",
       "      <td>Yugoslavia</td>\n",
       "      <td>2</td>\n",
       "      <td>1</td>\n",
       "      <td>Brazil</td>\n",
       "      <td></td>\n",
       "      <td>24059.0</td>\n",
       "      <td>2</td>\n",
       "      <td>0</td>\n",
       "      <td>TEJADA Anibal (URU)</td>\n",
       "      <td>VALLARINO Ricardo (URU)</td>\n",
       "      <td>BALWAY Thomas (FRA)</td>\n",
       "      <td>201</td>\n",
       "      <td>1093</td>\n",
       "      <td>YUG</td>\n",
       "      <td>BRA</td>\n",
       "    </tr>\n",
       "    <tr>\n",
       "      <th>3</th>\n",
       "      <td>1930</td>\n",
       "      <td>14 Jul 1930 - 14:50</td>\n",
       "      <td>Group 3</td>\n",
       "      <td>Pocitos</td>\n",
       "      <td>Montevideo</td>\n",
       "      <td>Romania</td>\n",
       "      <td>3</td>\n",
       "      <td>1</td>\n",
       "      <td>Peru</td>\n",
       "      <td></td>\n",
       "      <td>2549.0</td>\n",
       "      <td>1</td>\n",
       "      <td>0</td>\n",
       "      <td>WARNKEN Alberto (CHI)</td>\n",
       "      <td>LANGENUS Jean (BEL)</td>\n",
       "      <td>MATEUCCI Francisco (URU)</td>\n",
       "      <td>201</td>\n",
       "      <td>1098</td>\n",
       "      <td>ROU</td>\n",
       "      <td>PER</td>\n",
       "    </tr>\n",
       "    <tr>\n",
       "      <th>4</th>\n",
       "      <td>1930</td>\n",
       "      <td>15 Jul 1930 - 16:00</td>\n",
       "      <td>Group 1</td>\n",
       "      <td>Parque Central</td>\n",
       "      <td>Montevideo</td>\n",
       "      <td>Argentina</td>\n",
       "      <td>1</td>\n",
       "      <td>0</td>\n",
       "      <td>France</td>\n",
       "      <td></td>\n",
       "      <td>23409.0</td>\n",
       "      <td>0</td>\n",
       "      <td>0</td>\n",
       "      <td>REGO Gilberto (BRA)</td>\n",
       "      <td>SAUCEDO Ulises (BOL)</td>\n",
       "      <td>RADULESCU Constantin (ROU)</td>\n",
       "      <td>201</td>\n",
       "      <td>1085</td>\n",
       "      <td>ARG</td>\n",
       "      <td>FRA</td>\n",
       "    </tr>\n",
       "  </tbody>\n",
       "</table>\n",
       "</div>"
      ],
      "text/plain": [
       "   Year              Datetime    Stage         Stadium         City  \\\n",
       "0  1930  13 Jul 1930 - 15:00   Group 1         Pocitos  Montevideo    \n",
       "1  1930  13 Jul 1930 - 15:00   Group 4  Parque Central  Montevideo    \n",
       "2  1930  14 Jul 1930 - 12:45   Group 2  Parque Central  Montevideo    \n",
       "3  1930  14 Jul 1930 - 14:50   Group 3         Pocitos  Montevideo    \n",
       "4  1930  15 Jul 1930 - 16:00   Group 1  Parque Central  Montevideo    \n",
       "\n",
       "  HomeTeamName  HomeTeamGoals  AwayTeamGoals AwayTeamName WinConditions  \\\n",
       "0       France              4              1       Mexico                 \n",
       "1          USA              3              0      Belgium                 \n",
       "2   Yugoslavia              2              1       Brazil                 \n",
       "3      Romania              3              1         Peru                 \n",
       "4    Argentina              1              0       France                 \n",
       "\n",
       "   Attendance  HalfTimeHomeGoals  HalfTimeAwayGoals                 Referee  \\\n",
       "0      4444.0                  3                  0  LOMBARDI Domingo (URU)   \n",
       "1     18346.0                  2                  0       MACIAS Jose (ARG)   \n",
       "2     24059.0                  2                  0     TEJADA Anibal (URU)   \n",
       "3      2549.0                  1                  0   WARNKEN Alberto (CHI)   \n",
       "4     23409.0                  0                  0     REGO Gilberto (BRA)   \n",
       "\n",
       "                 Assistant1                  Assistant2  RoundID  MatchID  \\\n",
       "0     CRISTOPHE Henry (BEL)         REGO Gilberto (BRA)      201     1096   \n",
       "1  MATEUCCI Francisco (URU)       WARNKEN Alberto (CHI)      201     1090   \n",
       "2   VALLARINO Ricardo (URU)         BALWAY Thomas (FRA)      201     1093   \n",
       "3       LANGENUS Jean (BEL)    MATEUCCI Francisco (URU)      201     1098   \n",
       "4      SAUCEDO Ulises (BOL)  RADULESCU Constantin (ROU)      201     1085   \n",
       "\n",
       "  HomeTeamInitials AwayTeamInitials  \n",
       "0              FRA              MEX  \n",
       "1              USA              BEL  \n",
       "2              YUG              BRA  \n",
       "3              ROU              PER  \n",
       "4              ARG              FRA  "
      ]
     },
     "execution_count": 3,
     "metadata": {},
     "output_type": "execute_result"
    }
   ],
   "source": [
    "# SOLUÇÃO\n",
    "df=pd.read_csv('WorldCupMatches.csv')\n",
    "df.head()"
   ]
  },
  {
   "cell_type": "markdown",
   "metadata": {
    "id": "dMotebdfdNlu"
   },
   "source": [
    "### Exercício 2) \n",
    "O comando abaixo extrai quais são as 'strings' contidas na coluna `Stage`:\n",
    "```python\n",
    "copa_partidas['Stage'].unique()\n",
    "```\n",
    "Dentre as strings resultantes, 'Semi-finals' indica que a linha corresponde a uma partida de semi-final de uma copa.\n",
    "\n",
    "Utilizando o método <font color='blue'>query</font>, encontre as linhas contendo as partidas de semi-final das copas. Construa uma lista contendo os nomes dos times que disputaram a semi-final da copa de 1986.\n",
    "\n",
    "Os nomes que aparecem na lista construída são:\n",
    "\n",
    "a) ['France', 'Argentina', 'Germany FR', 'Belgium']<br>\n",
    "b) ['Franca', 'Argentina', 'Alemanha', 'Belgica']<br>\n",
    "c) ['France', 'Argentina', 'Germany', 'Belgium']<br>\n",
    "c) ['France', 'Argentina', 'Peru', 'Belgium']<br>\n",
    "\n",
    "__DICA:__ Utilize o método <font color='blue'>query</font> duas vezes, a primeira para obter um DataFrame com os semi-finalistas e a segunda para obter um DataFrame com os semi-finalistas da copa de 1986. Os nomes dos semi-finalistas estão nas colunas `HomeTeamNam` e `AwayTeamName`."
   ]
  },
  {
   "cell_type": "code",
   "execution_count": null,
   "metadata": {
    "id": "bRQD9FmcdNlv"
   },
   "outputs": [],
   "source": [
    "# SOLUÇÃO\n",
    "\n"
   ]
  },
  {
   "cell_type": "markdown",
   "metadata": {
    "id": "gpbEqD6PdNlw"
   },
   "source": [
    "### Exercício 3) \n",
    "Quantas vezes o Brasil jogou contra a Argentina em copas do mundo?\n",
    "\n",
    "a) 7<br>\n",
    "b) 6<br>\n",
    "c) 5<br>\n",
    "d) 4\n",
    "\n",
    "__Dica:__ Utilize o método <font color='blue'>query</font> combinando <font color='blue'>&</font> (AND) e <font color='blue'>|</font> (OR)"
   ]
  },
  {
   "cell_type": "code",
   "execution_count": null,
   "metadata": {
    "id": "-Y8r53zxdNlx"
   },
   "outputs": [],
   "source": [
    "# SOLUÇÃO\n",
    "\n"
   ]
  },
  {
   "cell_type": "markdown",
   "metadata": {
    "id": "ZRuVXYO_dNly"
   },
   "source": [
    "### Exercício 4)\n",
    "Qual foi a partida em copa do mundo com o maior número de espectadores?\n",
    "\n",
    "a) Mexico X Paraguay em 1986<br>\n",
    "b) Uruguay X Brazil em 1950<br>\n",
    "c) Brazil X Sweden em 1950<br>\n",
    "d) Argentina X England em 1986\n",
    "\n",
    "__DICA:__ Ordene o DataFrame pela coluna `Attendance`"
   ]
  },
  {
   "cell_type": "code",
   "execution_count": null,
   "metadata": {
    "id": "fU-7O81ydNlz"
   },
   "outputs": [],
   "source": [
    "# SOLUÇÃO\n"
   ]
  },
  {
   "cell_type": "markdown",
   "metadata": {
    "id": "lcc5WRrzdNl0"
   },
   "source": [
    "### Exercício 5)\n",
    "Qual foi o estádio com o maior número de partidas?\n",
    "\n",
    "a) Nacional<br>\n",
    "b) Jalisco<br>\n",
    "c) Maracana<br>\n",
    "d) Estadio Azteca\n",
    "\n",
    "__Dica:__ Construa um dicionário onde a chave é o nome do estádio e o valor do número de partidas disputadas naquele estádio. Busque pela tupla (chave,valor) onde valor é máximo."
   ]
  },
  {
   "cell_type": "code",
   "execution_count": null,
   "metadata": {
    "id": "skQwghUPdNl0"
   },
   "outputs": [],
   "source": [
    "# SOLUÇÃO\n"
   ]
  }
 ],
 "metadata": {
  "colab": {
   "collapsed_sections": [],
   "name": "Pandas I avaliacao.ipynb",
   "provenance": []
  },
  "kernelspec": {
   "display_name": "Python 3",
   "language": "python",
   "name": "python3"
  },
  "language_info": {
   "codemirror_mode": {
    "name": "ipython",
    "version": 3
   },
   "file_extension": ".py",
   "mimetype": "text/x-python",
   "name": "python",
   "nbconvert_exporter": "python",
   "pygments_lexer": "ipython3",
   "version": "3.7.6"
  }
 },
 "nbformat": 4,
 "nbformat_minor": 1
}
