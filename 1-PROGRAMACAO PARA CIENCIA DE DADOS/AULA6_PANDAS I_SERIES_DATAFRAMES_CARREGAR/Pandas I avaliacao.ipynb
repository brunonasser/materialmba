{
 "cells": [
  {
   "cell_type": "markdown",
   "metadata": {
    "id": "1adEq3D8dNla"
   },
   "source": [
    "# <font color=\"blue\"> MBA em Ciência de Dados</font>\n",
    "# <font color=\"blue\">Programação para Ciência de Dados</font>\n",
    "\n",
    "## <font color=\"blue\">Pandas Parte I - Avaliação</font>\n",
    "**Material Produzido por Luis Gustavo Nonato**<br>\n",
    "**Cemeai - ICMC/USP São Carlos**\n",
    "---"
   ]
  },
  {
   "cell_type": "markdown",
   "metadata": {
    "id": "GxXB_brNdNlo"
   },
   "source": [
    "As questões a seguir farão uso do arquivo <font style=\"font-family: monaco\">WorldCupMatches.csv</font>, disponível para download no moodle. Baixe o arquivo no seu diretório de trabalho para responder as questões.\n",
    "\n",
    "O arquivo <font style=\"font-family: monaco\">WorldCupMatches.csv</font> contém informações sobre todas as partidas de copas do mundo entre 1930 e 2014, ou seja, cada linha no arquivo corresponde a uma partida de futebol em copa do mundo.\n",
    "\n",
    "Algumas das colunas que serão importantes para resolver as questões são:\n",
    "- __Year__: indica o ano da copa\n",
    "- __Stage__: em qual fase da copa a partida aconteceu\n",
    "- __HomeTeamName__: nome do time anfitrião da partida\n",
    "- __AwayTeamName__: nome do time adversário na partida\n",
    "- __Attendance__: número de espectadores da partida\n",
    "- __Stadium__: estádio onde a partida foi realizada"
   ]
  },
  {
   "cell_type": "code",
   "execution_count": 1,
   "metadata": {
    "id": "diuEN8z2dNlq"
   },
   "outputs": [],
   "source": [
    "import pandas as pd\n",
    "import numpy as np"
   ]
  },
  {
   "cell_type": "markdown",
   "metadata": {
    "id": "rgNre_d6dNlr"
   },
   "source": [
    "### Exercício 1) \n",
    "Leia o arquivo <font style=\"font-family: monaco\">WorldCupMatches.csv</font>, armazene em uma variável DataFrame  chamada `copa_partidas`. Quantas colunas o DataFrame possui e quais as colunas cujo rótulo possui o menor número de caracteres?\n",
    "\n",
    "a) 17, 'Round', 'Match'<br>\n",
    "b) 18, ['Stage', 'Stadi']<br>\n",
    "c) 20, ['Year', 'City']<br>\n",
    "d) 22, ['Home','WinC']"
   ]
  },
  {
   "cell_type": "code",
   "execution_count": 40,
   "metadata": {
    "id": "bOWNS5AAdNls"
   },
   "outputs": [],
   "source": [
    "# SOLUÇÃO\n",
    "df=pd.read_csv('WorldCupMatches.csv')\n",
    "colunas=df.columns"
   ]
  },
  {
   "cell_type": "code",
   "execution_count": 41,
   "metadata": {},
   "outputs": [
    {
     "data": {
      "text/plain": [
       "(836, 20)"
      ]
     },
     "execution_count": 41,
     "metadata": {},
     "output_type": "execute_result"
    }
   ],
   "source": [
    "df.shape"
   ]
  },
  {
   "cell_type": "code",
   "execution_count": 42,
   "metadata": {},
   "outputs": [
    {
     "data": {
      "text/plain": [
       "20"
      ]
     },
     "execution_count": 42,
     "metadata": {},
     "output_type": "execute_result"
    }
   ],
   "source": [
    "len(colunas)"
   ]
  },
  {
   "cell_type": "code",
   "execution_count": 43,
   "metadata": {},
   "outputs": [
    {
     "data": {
      "text/plain": [
       "{'a': 3, 'b': 5}"
      ]
     },
     "execution_count": 43,
     "metadata": {},
     "output_type": "execute_result"
    }
   ],
   "source": [
    "dic={'a':1,'b':5}\n",
    "dic['a']=3\n",
    "dic"
   ]
  },
  {
   "cell_type": "code",
   "execution_count": 44,
   "metadata": {},
   "outputs": [],
   "source": [
    "dic={}\n",
    "for i in colunas:\n",
    "    dic[i]=len(i)\n"
   ]
  },
  {
   "cell_type": "code",
   "execution_count": 45,
   "metadata": {},
   "outputs": [
    {
     "data": {
      "text/plain": [
       "{'Year': 4,\n",
       " 'Datetime': 8,\n",
       " 'Stage': 5,\n",
       " 'Stadium': 7,\n",
       " 'City': 4,\n",
       " 'HomeTeamName': 12,\n",
       " 'HomeTeamGoals': 13,\n",
       " 'AwayTeamGoals': 13,\n",
       " 'AwayTeamName': 12,\n",
       " 'WinConditions': 13,\n",
       " 'Attendance': 10,\n",
       " 'HalfTimeHomeGoals': 17,\n",
       " 'HalfTimeAwayGoals': 17,\n",
       " 'Referee': 7,\n",
       " 'Assistant1': 10,\n",
       " 'Assistant2': 10,\n",
       " 'RoundID': 7,\n",
       " 'MatchID': 7,\n",
       " 'HomeTeamInitials': 16,\n",
       " 'AwayTeamInitials': 16}"
      ]
     },
     "execution_count": 45,
     "metadata": {},
     "output_type": "execute_result"
    }
   ],
   "source": [
    "dic"
   ]
  },
  {
   "cell_type": "markdown",
   "metadata": {
    "id": "dMotebdfdNlu"
   },
   "source": [
    "### Exercício 2) \n",
    "O comando abaixo extrai quais são as 'strings' contidas na coluna `Stage`:\n",
    "```python\n",
    "copa_partidas['Stage'].unique()\n",
    "```\n",
    "Dentre as strings resultantes, 'Semi-finals' indica que a linha corresponde a uma partida de semi-final de uma copa.\n",
    "\n",
    "Utilizando o método <font color='blue'>query</font>, encontre as linhas contendo as partidas de semi-final das copas. Construa uma lista contendo os nomes dos times que disputaram a semi-final da copa de 1986.\n",
    "\n",
    "Os nomes que aparecem na lista construída são:\n",
    "\n",
    "a) ['France', 'Argentina', 'Germany FR', 'Belgium']<br>\n",
    "b) ['Franca', 'Argentina', 'Alemanha', 'Belgica']<br>\n",
    "c) ['France', 'Argentina', 'Germany', 'Belgium']<br>\n",
    "c) ['France', 'Argentina', 'Peru', 'Belgium']<br>\n",
    "\n",
    "__DICA:__ Utilize o método <font color='blue'>query</font> duas vezes, a primeira para obter um DataFrame com os semi-finalistas e a segunda para obter um DataFrame com os semi-finalistas da copa de 1986. Os nomes dos semi-finalistas estão nas colunas `HomeTeamNam` e `AwayTeamName`."
   ]
  },
  {
   "cell_type": "code",
   "execution_count": 46,
   "metadata": {
    "id": "bRQD9FmcdNlv"
   },
   "outputs": [
    {
     "data": {
      "text/html": [
       "<div>\n",
       "<style scoped>\n",
       "    .dataframe tbody tr th:only-of-type {\n",
       "        vertical-align: middle;\n",
       "    }\n",
       "\n",
       "    .dataframe tbody tr th {\n",
       "        vertical-align: top;\n",
       "    }\n",
       "\n",
       "    .dataframe thead th {\n",
       "        text-align: right;\n",
       "    }\n",
       "</style>\n",
       "<table border=\"1\" class=\"dataframe\">\n",
       "  <thead>\n",
       "    <tr style=\"text-align: right;\">\n",
       "      <th></th>\n",
       "      <th>HomeTeamName</th>\n",
       "      <th>AwayTeamName</th>\n",
       "    </tr>\n",
       "  </thead>\n",
       "  <tbody>\n",
       "    <tr>\n",
       "      <th>408</th>\n",
       "      <td>France</td>\n",
       "      <td>Germany FR</td>\n",
       "    </tr>\n",
       "    <tr>\n",
       "      <th>409</th>\n",
       "      <td>Argentina</td>\n",
       "      <td>Belgium</td>\n",
       "    </tr>\n",
       "  </tbody>\n",
       "</table>\n",
       "</div>"
      ],
      "text/plain": [
       "    HomeTeamName AwayTeamName\n",
       "408       France   Germany FR\n",
       "409    Argentina      Belgium"
      ]
     },
     "execution_count": 46,
     "metadata": {},
     "output_type": "execute_result"
    }
   ],
   "source": [
    "# SOLUÇÃO\n",
    "copa_partidas[(copa_partidas['Stage']=='Semi-finals') & (copa_partidas['Year']==1986)][['HomeTeamName','AwayTeamName']]\n"
   ]
  },
  {
   "cell_type": "markdown",
   "metadata": {
    "id": "gpbEqD6PdNlw"
   },
   "source": [
    "### Exercício 3) \n",
    "Quantas vezes o Brasil jogou contra a Argentina em copas do mundo?\n",
    "\n",
    "a) 7<br>\n",
    "b) 6<br>\n",
    "c) 5<br>\n",
    "d) 4\n",
    "\n",
    "__Dica:__ Utilize o método <font color='blue'>query</font> combinando <font color='blue'>&</font> (AND) e <font color='blue'>|</font> (OR)"
   ]
  },
  {
   "cell_type": "code",
   "execution_count": 55,
   "metadata": {
    "id": "-Y8r53zxdNlx"
   },
   "outputs": [
    {
     "data": {
      "text/plain": [
       "(4, 20)"
      ]
     },
     "execution_count": 55,
     "metadata": {},
     "output_type": "execute_result"
    }
   ],
   "source": [
    "# SOLUÇÃO\n",
    "df[((df['HomeTeamName']=='Brazil')&(df['AwayTeamName']=='Argentina')) | ((df['HomeTeamName']=='Argentina')&(df['AwayTeamName']=='Brazil'))].shape\n"
   ]
  },
  {
   "cell_type": "markdown",
   "metadata": {
    "id": "ZRuVXYO_dNly"
   },
   "source": [
    "### Exercício 4)\n",
    "Qual foi a partida em copa do mundo com o maior número de espectadores?\n",
    "\n",
    "a) Mexico X Paraguay em 1986<br>\n",
    "b) Uruguay X Brazil em 1950<br>\n",
    "c) Brazil X Sweden em 1950<br>\n",
    "d) Argentina X England em 1986\n",
    "\n",
    "__DICA:__ Ordene o DataFrame pela coluna `Attendance`"
   ]
  },
  {
   "cell_type": "code",
   "execution_count": 60,
   "metadata": {
    "id": "fU-7O81ydNlz"
   },
   "outputs": [
    {
     "data": {
      "text/html": [
       "<div>\n",
       "<style scoped>\n",
       "    .dataframe tbody tr th:only-of-type {\n",
       "        vertical-align: middle;\n",
       "    }\n",
       "\n",
       "    .dataframe tbody tr th {\n",
       "        vertical-align: top;\n",
       "    }\n",
       "\n",
       "    .dataframe thead th {\n",
       "        text-align: right;\n",
       "    }\n",
       "</style>\n",
       "<table border=\"1\" class=\"dataframe\">\n",
       "  <thead>\n",
       "    <tr style=\"text-align: right;\">\n",
       "      <th></th>\n",
       "      <th>Year</th>\n",
       "      <th>Datetime</th>\n",
       "      <th>Stage</th>\n",
       "      <th>Stadium</th>\n",
       "      <th>City</th>\n",
       "      <th>HomeTeamName</th>\n",
       "      <th>HomeTeamGoals</th>\n",
       "      <th>AwayTeamGoals</th>\n",
       "      <th>AwayTeamName</th>\n",
       "      <th>WinConditions</th>\n",
       "      <th>Attendance</th>\n",
       "      <th>HalfTimeHomeGoals</th>\n",
       "      <th>HalfTimeAwayGoals</th>\n",
       "      <th>Referee</th>\n",
       "      <th>Assistant1</th>\n",
       "      <th>Assistant2</th>\n",
       "      <th>RoundID</th>\n",
       "      <th>MatchID</th>\n",
       "      <th>HomeTeamInitials</th>\n",
       "      <th>AwayTeamInitials</th>\n",
       "    </tr>\n",
       "  </thead>\n",
       "  <tbody>\n",
       "    <tr>\n",
       "      <th>74</th>\n",
       "      <td>1950</td>\n",
       "      <td>16 Jul 1950 - 15:00</td>\n",
       "      <td>Group 6</td>\n",
       "      <td>Maracan� - Est�dio Jornalista M�rio Filho</td>\n",
       "      <td>Rio De Janeiro</td>\n",
       "      <td>Uruguay</td>\n",
       "      <td>2</td>\n",
       "      <td>1</td>\n",
       "      <td>Brazil</td>\n",
       "      <td></td>\n",
       "      <td>173850.0</td>\n",
       "      <td>0</td>\n",
       "      <td>0</td>\n",
       "      <td>READER George (ENG)</td>\n",
       "      <td>ELLIS Arthur (ENG)</td>\n",
       "      <td>MITCHELL George (SCO)</td>\n",
       "      <td>209</td>\n",
       "      <td>1190</td>\n",
       "      <td>URU</td>\n",
       "      <td>BRA</td>\n",
       "    </tr>\n",
       "  </tbody>\n",
       "</table>\n",
       "</div>"
      ],
      "text/plain": [
       "    Year              Datetime    Stage  \\\n",
       "74  1950  16 Jul 1950 - 15:00   Group 6   \n",
       "\n",
       "                                      Stadium             City HomeTeamName  \\\n",
       "74  Maracan� - Est�dio Jornalista M�rio Filho  Rio De Janeiro       Uruguay   \n",
       "\n",
       "    HomeTeamGoals  AwayTeamGoals AwayTeamName WinConditions  Attendance  \\\n",
       "74              2              1       Brazil                  173850.0   \n",
       "\n",
       "    HalfTimeHomeGoals  HalfTimeAwayGoals              Referee  \\\n",
       "74                  0                  0  READER George (ENG)   \n",
       "\n",
       "            Assistant1             Assistant2  RoundID  MatchID  \\\n",
       "74  ELLIS Arthur (ENG)  MITCHELL George (SCO)      209     1190   \n",
       "\n",
       "   HomeTeamInitials AwayTeamInitials  \n",
       "74              URU              BRA  "
      ]
     },
     "execution_count": 60,
     "metadata": {},
     "output_type": "execute_result"
    }
   ],
   "source": [
    "# SOLUÇÃO\n",
    "df.sort_values('Attendance',ascending=False).head(1)"
   ]
  },
  {
   "cell_type": "markdown",
   "metadata": {
    "id": "lcc5WRrzdNl0"
   },
   "source": [
    "### Exercício 5)\n",
    "Qual foi o estádio com o maior número de partidas?\n",
    "\n",
    "a) Nacional<br>\n",
    "b) Jalisco<br>\n",
    "c) Maracana<br>\n",
    "d) Estadio Azteca\n",
    "\n",
    "__Dica:__ Construa um dicionário onde a chave é o nome do estádio e o valor do número de partidas disputadas naquele estádio. Busque pela tupla (chave,valor) onde valor é máximo."
   ]
  },
  {
   "cell_type": "code",
   "execution_count": 62,
   "metadata": {
    "id": "skQwghUPdNl0"
   },
   "outputs": [
    {
     "data": {
      "text/plain": [
       "Estadio Azteca             19\n",
       "Jalisco                    14\n",
       "Olympiastadion             14\n",
       "Nou Camp - Estadio Le�n    11\n",
       "Nacional                   10\n",
       "Name: Stadium, dtype: int64"
      ]
     },
     "execution_count": 62,
     "metadata": {},
     "output_type": "execute_result"
    }
   ],
   "source": [
    "# SOLUÇÃO\n",
    "df['Stadium'].value_counts().head()\n"
   ]
  }
 ],
 "metadata": {
  "colab": {
   "collapsed_sections": [],
   "name": "Pandas I avaliacao.ipynb",
   "provenance": []
  },
  "kernelspec": {
   "display_name": "Python 3",
   "language": "python",
   "name": "python3"
  },
  "language_info": {
   "codemirror_mode": {
    "name": "ipython",
    "version": 3
   },
   "file_extension": ".py",
   "mimetype": "text/x-python",
   "name": "python",
   "nbconvert_exporter": "python",
   "pygments_lexer": "ipython3",
   "version": "3.7.6"
  }
 },
 "nbformat": 4,
 "nbformat_minor": 1
}
