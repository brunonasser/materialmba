{
 "cells": [
  {
   "cell_type": "markdown",
   "metadata": {},
   "source": [
    "# <span style=\"color:blue\"> MBA em Ciência de Dados</span>\n",
    "# <span style=\"color:blue\">Programação para Ciência de Dados</span>\n",
    "\n",
    "## <span style=\"color:blue\">Numpy Parte I - Avaliação</span>\n",
    "**Material Produzido por Luis Gustavo Nonato**<br>\n",
    "**Cemeai - ICMC/USP São Carlos**"
   ]
  },
  {
   "cell_type": "markdown",
   "metadata": {},
   "source": [
    "## <font color='red'> As respostas da avaliação devem ser inseridas no moodle </font>"
   ]
  },
  {
   "cell_type": "code",
   "execution_count": 3,
   "metadata": {},
   "outputs": [],
   "source": [
    "import numpy as np"
   ]
  },
  {
   "cell_type": "markdown",
   "metadata": {},
   "source": [
    "### Exercício 1)\n",
    "Considere o array `X` como descrito abaixo:\n",
    "```python\n",
    "[[0  1  2  3  4]\n",
    " [5  6  7  8  9]\n",
    " [10 11 12 13 14]\n",
    " [15 16 17 18 19]]\n",
    "```\n",
    "Qual dos códigos abaixo retorna um array com os elementos 12, 18 e 6 a partir de `X`?\n",
    "\n",
    "a) print(X[1,2,3])<br>\n",
    "b) print(X[[2,3,1],[2,3,1]]) <br>\n",
    "c) print(X[:,[2,3,1])<br>\n",
    "d) print([1,2,3],:)"
   ]
  },
  {
   "cell_type": "code",
   "execution_count": 16,
   "metadata": {},
   "outputs": [
    {
     "name": "stderr",
     "output_type": "stream",
     "text": [
      "C:\\Users\\nasse\\anaconda3\\lib\\site-packages\\ipykernel_launcher.py:2: FutureWarning: Using a non-tuple sequence for multidimensional indexing is deprecated; use `arr[tuple(seq)]` instead of `arr[seq]`. In the future this will be interpreted as an array index, `arr[np.array(seq)]`, which will result either in an error or a different result.\n",
      "  \n"
     ]
    },
    {
     "data": {
      "text/plain": [
       "array([12, 18,  6])"
      ]
     },
     "execution_count": 16,
     "metadata": {},
     "output_type": "execute_result"
    }
   ],
   "source": [
    "x=np.arange(20).reshape(4,5)\n",
    "x[[[2,3,1],[2,3,1]]]"
   ]
  },
  {
   "cell_type": "markdown",
   "metadata": {},
   "source": [
    "### Exercício 2)\n",
    "Considerando o array `X` do exercício 1), qual dos códigos abaixo retorna o array \n",
    "```python\n",
    "[[ 5  7  8]\n",
    " [10 12 13]]\n",
    "```\n",
    "a) print(X[1:3,0:2:3]])<br>\n",
    "b) print(X[[1,2,3],[0,2,3]])<br>\n",
    "c) print(X[1:3,:3])<br>\n",
    "d) print(X[1:3,[0,2,3]])"
   ]
  },
  {
   "cell_type": "code",
   "execution_count": 21,
   "metadata": {},
   "outputs": [
    {
     "data": {
      "text/plain": [
       "array([[ 0,  1,  2,  3,  4],\n",
       "       [ 5,  6,  7,  8,  9],\n",
       "       [10, 11, 12, 13, 14],\n",
       "       [15, 16, 17, 18, 19]])"
      ]
     },
     "execution_count": 21,
     "metadata": {},
     "output_type": "execute_result"
    }
   ],
   "source": [
    "x"
   ]
  },
  {
   "cell_type": "code",
   "execution_count": 24,
   "metadata": {},
   "outputs": [
    {
     "data": {
      "text/plain": [
       "array([[5, 7, 8]])"
      ]
     },
     "execution_count": 24,
     "metadata": {},
     "output_type": "execute_result"
    }
   ],
   "source": [
    "x[1:3,[0,2,3]]"
   ]
  },
  {
   "cell_type": "markdown",
   "metadata": {},
   "source": [
    "### Exercício 3)\n",
    "Considere o numpy array `A` abaixo:\n",
    "```python\n",
    "[[ 2 19 16  1 12  7]\n",
    " [ 5 19 18 17  9  3]\n",
    " [16  4 18 11  4  2]\n",
    " [ 6  2 18 14 15 15]\n",
    " [ 4  8  1 14 19 13]]\n",
    "```\n",
    "Qual das alternativas abaixo corresponde ao número de dimensões, a forma e ao número de elementos no array, respectivamente?\n",
    "\n",
    "a) (5, 6) 2 2<br>\n",
    "b) 2 (5, 6) 2<br>\n",
    "c) (5, 6) 2 30<br>\n",
    "d) 2 (5, 6) 30"
   ]
  },
  {
   "cell_type": "code",
   "execution_count": 31,
   "metadata": {},
   "outputs": [
    {
     "name": "stdout",
     "output_type": "stream",
     "text": [
      "(5, 6)\n",
      "30\n"
     ]
    }
   ],
   "source": [
    "A = np.array([[ 2 ,19 ,16, 1, 12 , 7],\n",
    " [ 5 ,19 ,18, 17, 9 , 3],\n",
    " [16 , 4 ,18 ,11 , 4 , 2],\n",
    " [ 6 , 2 ,18 ,14 ,15 ,15],\n",
    " [ 4 , 8 , 1 ,14,19 ,13]])\n",
    "print(A.shape)\n",
    "print(A.size)\n"
   ]
  },
  {
   "cell_type": "markdown",
   "metadata": {},
   "source": [
    "### Exercício 4) \n",
    "Considere o numpy array `A` do exercício anterior. Escreva um código para criar uma máscara para selecionar todos os elementos pares do array e armazena-los em um novo array unidimensional `B`. O resultado do comando\n",
    "```python\n",
    "print(B.size)\n",
    "```\n",
    "será:<br>\n",
    "a) 13<br>\n",
    "b) 15<br>\n",
    "c) 16<br>\n",
    "d) 17"
   ]
  },
  {
   "cell_type": "code",
   "execution_count": 34,
   "metadata": {},
   "outputs": [
    {
     "name": "stdout",
     "output_type": "stream",
     "text": [
      "16\n"
     ]
    }
   ],
   "source": [
    "mask=(A%2==0)\n",
    "B=A[mask]\n",
    "print(B.size)"
   ]
  },
  {
   "cell_type": "code",
   "execution_count": null,
   "metadata": {},
   "outputs": [],
   "source": [
    "#mask =  # escreva o código para criar a máscara\n",
    "\n",
    "mask = (A%2==0)\n",
    "B = A[mask]\n",
    "print(B,B.size)\n",
    "# copie e cole o resultado do print no moodle"
   ]
  },
  {
   "cell_type": "markdown",
   "metadata": {},
   "source": [
    "### Exercício 5)\n",
    "Ainda considerando o array `A` do exercício 3), que alternativa melhor explica o que o código abaixo está realizando:\n",
    "```python\n",
    "l_mask = [(i%2==0) and (j%2!=0) for i in range(A.shape[0]) for j in range(A.shape[1])]\n",
    "mask = np.array(l_mask).reshape(A.shape)\n",
    "A[mask] = -1\n",
    "```\n",
    "a) insere elementos -1 nas colunas ímpares de `A` utilizando uma máscara booleana<br>\n",
    "b) insere elementos -1 nas linhas pares e colunas ímpares de `A` utilizando uma máscara booleana<br>\n",
    "c) insere elementos -1 nas linhas ímpares e colunas pares de `A` utilizando uma máscara booleana<br>\n",
    "c) troca os elementos pares da matriz por -1 utilizando uma máscara booleana"
   ]
  },
  {
   "cell_type": "code",
   "execution_count": 35,
   "metadata": {},
   "outputs": [
    {
     "data": {
      "text/plain": [
       "array([[ 2, 19, 16,  1, 12,  7],\n",
       "       [ 5, 19, 18, 17,  9,  3],\n",
       "       [16,  4, 18, 11,  4,  2],\n",
       "       [ 6,  2, 18, 14, 15, 15],\n",
       "       [ 4,  8,  1, 14, 19, 13]])"
      ]
     },
     "execution_count": 35,
     "metadata": {},
     "output_type": "execute_result"
    }
   ],
   "source": [
    "A"
   ]
  },
  {
   "cell_type": "code",
   "execution_count": 47,
   "metadata": {},
   "outputs": [
    {
     "data": {
      "text/plain": [
       "array([[ 2, -1, 16, -1, 12, -1],\n",
       "       [ 5, 19, 18, 17,  9,  3],\n",
       "       [16, -1, 18, -1,  4, -1],\n",
       "       [ 6,  2, 18, 14, 15, 15],\n",
       "       [ 4, -1,  1, -1, 19, -1]])"
      ]
     },
     "execution_count": 47,
     "metadata": {},
     "output_type": "execute_result"
    }
   ],
   "source": [
    "l_mask = [(i%2==0) and (j%2!=0) for i in range(A.shape[0]) for j in range(A.shape[1])]\n",
    "mask=np.array(l_mask).reshape(A.shape)\n",
    "A[mask]=-1\n",
    "A"
   ]
  }
 ],
 "metadata": {
  "kernelspec": {
   "display_name": "Python 3",
   "language": "python",
   "name": "python3"
  },
  "language_info": {
   "codemirror_mode": {
    "name": "ipython",
    "version": 3
   },
   "file_extension": ".py",
   "mimetype": "text/x-python",
   "name": "python",
   "nbconvert_exporter": "python",
   "pygments_lexer": "ipython3",
   "version": "3.7.6"
  }
 },
 "nbformat": 4,
 "nbformat_minor": 2
}
