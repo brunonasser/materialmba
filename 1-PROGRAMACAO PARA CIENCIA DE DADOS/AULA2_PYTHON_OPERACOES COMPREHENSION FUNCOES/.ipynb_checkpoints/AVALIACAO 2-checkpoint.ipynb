{
 "cells": [
  {
   "cell_type": "markdown",
   "metadata": {},
   "source": [
    "## QUESTAO 1"
   ]
  },
  {
   "cell_type": "markdown",
   "metadata": {},
   "source": [
    "Considere a lista mat abaixo, onde cada elemento é também uma lista. A lista correspondendo a cada elemento de mat tem como primeiro elemento ao cargo, o segundo elemento o nível de formação e o terceiro o nome de um funcionário.\n",
    "```\n",
    "mat = [\n",
    "['supervisor', 'tecnico', 'Carlos'],\n",
    "['assistente', 'tecnico', 'Lucas'],\n",
    "['iniciante', 'doutor', 'Jeremias'],\n",
    "['supervisor', 'mestre', 'Alberto'],\n",
    "['gerente', 'graduado', 'Ricardo'],\n",
    "['engenheiro', 'graduado', 'Fernando'],\n",
    "]```\n",
    "\n",
    "Utilize comprehension para gerar uma lista chamada nomes que contenha o nome dos funcionários que NÃO são doutor. O código correto é para gerar a lista nomes é:"
   ]
  },
  {
   "cell_type": "code",
   "execution_count": 1,
   "metadata": {},
   "outputs": [
    {
     "data": {
      "text/plain": [
       "['Carlos', 'Lucas', 'Alberto', 'Ricardo', 'Fernando']"
      ]
     },
     "execution_count": 1,
     "metadata": {},
     "output_type": "execute_result"
    }
   ],
   "source": [
    "mat = [\n",
    "['supervisor', 'tecnico', 'Carlos'],\n",
    "['assistente', 'tecnico', 'Lucas'],\n",
    "['iniciante', 'doutor', 'Jeremias'],\n",
    "['supervisor', 'mestre', 'Alberto'],\n",
    "['gerente', 'graduado', 'Ricardo'],\n",
    "['engenheiro', 'graduado', 'Fernando'],\n",
    "]\n",
    "NOMES=[i[-1] for i in mat if i[1]!='doutor']\n",
    "NOMES"
   ]
  },
  {
   "cell_type": "markdown",
   "metadata": {},
   "source": [
    "## Questao 2"
   ]
  },
  {
   "cell_type": "markdown",
   "metadata": {},
   "source": [
    "Ainda utilizando a lista mat do exercício anterior e comprehension, crie um dicionário da forma nome:(cargo, area) , ou seja, as chaves são os nomes e os valores uma tupla com o par (cargo, nível de formação). No dicionário produzido, o valor associado à chave 'Carlos' será:"
   ]
  },
  {
   "cell_type": "code",
   "execution_count": 2,
   "metadata": {},
   "outputs": [
    {
     "data": {
      "text/plain": [
       "{'Carlos': ('supervisor', 'tecnico'),\n",
       " 'Lucas': ('assistente', 'tecnico'),\n",
       " 'Jeremias': ('iniciante', 'doutor'),\n",
       " 'Alberto': ('supervisor', 'mestre'),\n",
       " 'Ricardo': ('gerente', 'graduado'),\n",
       " 'Fernando': ('engenheiro', 'graduado')}"
      ]
     },
     "execution_count": 2,
     "metadata": {},
     "output_type": "execute_result"
    }
   ],
   "source": [
    "nome={x[-1]:(x[0],x[1]) for x in mat }\n",
    "nome"
   ]
  },
  {
   "cell_type": "markdown",
   "metadata": {},
   "source": [
    "## Questao 3"
   ]
  },
  {
   "cell_type": "markdown",
   "metadata": {},
   "source": [
    "A função **variacoes** descrita abaixo\n",
    "```\n",
    "def variacoes(s):\n",
    "dc = {______________}\n",
    "return(dc)\n",
    "```\n",
    "recebe uma 'string' como parâmetro e gera um dicionário como resposta, onde as chaves do dicionário são todas as variações da string com um caracter removido, sendo o valor associado a cada chave a string original. Por exemplo:\n",
    "\n",
    "print(variacoes('casa'))\n",
    "\n",
    "deve resultar em:\n",
    "```{'asa': 'casa', 'csa': 'casa', 'caa': 'casa', 'cas': 'casa'}```\n",
    "Qual das alternativas abaixo completa corretamente a função?"
   ]
  },
  {
   "cell_type": "code",
   "execution_count": 4,
   "metadata": {},
   "outputs": [
    {
     "name": "stdout",
     "output_type": "stream",
     "text": [
      "{'asa': 'casa', 'csa': 'casa', 'caa': 'casa', 'cas': 'casa'}\n"
     ]
    }
   ],
   "source": [
    "def variacoes(s):\n",
    "    dc={s[0:i]+s[i+1:]:s for i in range(len(s))}\n",
    "    return dc\n",
    "print(variacoes('casa'))"
   ]
  },
  {
   "cell_type": "markdown",
   "metadata": {},
   "source": [
    "## Questao 4"
   ]
  },
  {
   "cell_type": "markdown",
   "metadata": {},
   "source": [
    "O método sorted assume como parâmetos uma sequência e um parâmetro key que pode ser uma função, a qual é aplicada aos elementos da lista a fim de ordená-los de acordo com os valores resutantes da função. Utilize uma função lambda como parâmetro para método sorted para ordenar os elementos de uma lista como se estes fossem da forma (x+0.5)2.\n",
    "\n",
    "O resultado da função construída quando aplicada à lista\n",
    "\n",
    "[0.11, -0.11, 0.4, 0.11, -0.57, -0.05, 0.85, -0.27, -0.07, -0.78]\n",
    "será:"
   ]
  },
  {
   "cell_type": "code",
   "execution_count": 6,
   "metadata": {},
   "outputs": [],
   "source": [
    "f=lambda x: x**2"
   ]
  },
  {
   "cell_type": "code",
   "execution_count": 7,
   "metadata": {},
   "outputs": [
    {
     "data": {
      "text/plain": [
       "4"
      ]
     },
     "execution_count": 7,
     "metadata": {},
     "output_type": "execute_result"
    }
   ],
   "source": [
    "f(2)"
   ]
  },
  {
   "cell_type": "code",
   "execution_count": 13,
   "metadata": {},
   "outputs": [
    {
     "data": {
      "text/plain": [
       "[-0.57, -0.27, -0.78, -0.11, -0.07, -0.05, 0.11, 0.11, 0.4, 0.85]"
      ]
     },
     "execution_count": 13,
     "metadata": {},
     "output_type": "execute_result"
    }
   ],
   "source": [
    "l=[0.11, -0.11, 0.4, 0.11, -0.57, -0.05, 0.85, -0.27, -0.07, -0.78]\n",
    "\n",
    "sorted(l,key=lambda x: (x+0.5)**2)"
   ]
  },
  {
   "cell_type": "markdown",
   "metadata": {},
   "source": [
    "## Questao 5"
   ]
  },
  {
   "cell_type": "markdown",
   "metadata": {},
   "source": [
    "Construa uma função concatena_dicionarios que recebe dois dicionários como parâmetros e concatena ambos em um único dicionário contendo as chaves e valores dos dois dicionários. Se a chave se repete em ambos, junte os valores em uma lista. Por exemplo, dados os dicionários:\n",
    "\n",
    "dc1 = {1: '5479', 5: '1479', 7: '1549', 9: '1547'}\n",
    "dc2 = {5: '2647', 2: '9647', 1: '9247'}\n",
    "\n",
    "a função deve resultar no dicionário\n",
    "\n",
    "{1: ['5479', '9247'], 7: '1549', 5: ['1479', '2647'], 9: '1547', 2: '9647'}\n",
    "\n",
    "Supondo os dicionários:\n",
    "\n",
    "dc1 = {4: '10153', 18: '41118', 2: '101515', 15: '354', 7: '4145', 8: '10316', 3: '121016',\n",
    "11: '15122', 12: '16158', 10: '4188', 14: '15318', 5: '11711', 16: '181412'}\n",
    "dc2 = {19: '16619', 4: '11310', 18: '171112', 11: '171817', 12: '171911', 6: '4195',\n",
    "5: '171910', 3: '10310', 16: '191916', 10: '111619', 17: '51016'}\n",
    "\n",
    "como entrada para a função construída, quais serão os valores associados as chaves 3 e 18?"
   ]
  },
  {
   "cell_type": "code",
   "execution_count": 44,
   "metadata": {},
   "outputs": [],
   "source": [
    "d2={'c':3,'d':4}\n",
    "d2['e']=5\n",
    "\n",
    "x=[d2['c'],d2['e']]\n",
    "if 'x' in d2:\n",
    "    print('tem')"
   ]
  },
  {
   "cell_type": "code",
   "execution_count": 42,
   "metadata": {},
   "outputs": [
    {
     "name": "stdout",
     "output_type": "stream",
     "text": [
      "4 4\n",
      "18 18\n",
      "3 3\n",
      "11 11\n",
      "12 12\n",
      "10 10\n",
      "5 5\n",
      "16 16\n"
     ]
    },
    {
     "data": {
      "text/plain": [
       "{4: '11310',\n",
       " 19: '16619',\n",
       " 18: '171112',\n",
       " 11: '171817',\n",
       " 12: '171911',\n",
       " 6: '4195',\n",
       " 5: '171910',\n",
       " 3: '10310',\n",
       " 16: '181412',\n",
       " 10: '111619',\n",
       " 17: '51016',\n",
       " 2: '101515',\n",
       " 15: '354',\n",
       " 7: '4145',\n",
       " 8: '10316',\n",
       " 14: '15318'}"
      ]
     },
     "execution_count": 42,
     "metadata": {},
     "output_type": "execute_result"
    }
   ],
   "source": [
    "dc1 = {4: '10153', 18: '41118', 2: '101515', 15: '354', 7: '4145', 8: '10316', 3: '121016', 11: '15122', 12: '16158', 10: '4188', 14: '15318', 5: '11711', 16: '181412'} \n",
    "dc2 = {19: '16619', 4: '11310', 18: '171112', 11: '171817', 12: '171911', 6: '4195', 5: '171910', 3: '10310', 16: '191916', 10: '111619', 17: '51016'}\n",
    "d={}\n",
    "for i in dc1:\n",
    "    for j in dc2:\n",
    "        if i==j:\n",
    "            print(i,j)\n",
    "            d[i]=[dc1[i],dc2[i]]\n",
    "\n",
    "d\n",
    "\n",
    "\n",
    "                "
   ]
  },
  {
   "cell_type": "code",
   "execution_count": null,
   "metadata": {},
   "outputs": [],
   "source": []
  },
  {
   "cell_type": "code",
   "execution_count": 45,
   "metadata": {},
   "outputs": [],
   "source": [
    "def concatena_dicionarios(d1,d2):\n",
    "    d={}\n",
    "    for i in d1:\n",
    "        if i in d2:\n",
    "            d[i]=[d1[i],d2[i]]\n",
    "        else:\n",
    "            d[i]=d1[i]\n",
    "    for j in d2:\n",
    "        if j not in d1:\n",
    "            d[j]=d2[j]\n",
    "    return d\n",
    "    "
   ]
  },
  {
   "cell_type": "code",
   "execution_count": 46,
   "metadata": {},
   "outputs": [
    {
     "data": {
      "text/plain": [
       "{4: ['10153', '11310'],\n",
       " 18: ['41118', '171112'],\n",
       " 2: '101515',\n",
       " 15: '354',\n",
       " 7: '4145',\n",
       " 8: '10316',\n",
       " 3: ['121016', '10310'],\n",
       " 11: ['15122', '171817'],\n",
       " 12: ['16158', '171911'],\n",
       " 10: ['4188', '111619'],\n",
       " 14: '15318',\n",
       " 5: ['11711', '171910'],\n",
       " 16: ['181412', '191916'],\n",
       " 19: '16619',\n",
       " 6: '4195',\n",
       " 17: '51016'}"
      ]
     },
     "execution_count": 46,
     "metadata": {},
     "output_type": "execute_result"
    }
   ],
   "source": [
    "dc1 = {4: '10153', 18: '41118', 2: '101515', 15: '354', 7: '4145', 8: '10316', 3: '121016', 11: '15122', 12: '16158', 10: '4188', 14: '15318', 5: '11711', 16: '181412'} \n",
    "dc2 = {19: '16619', 4: '11310', 18: '171112', 11: '171817', 12: '171911', 6: '4195', 5: '171910', 3: '10310', 16: '191916', 10: '111619', 17: '51016'}\n",
    "dc3=concatena_dicionarios(dc1,dc2)\n",
    "dc3"
   ]
  }
 ],
 "metadata": {
  "kernelspec": {
   "display_name": "Python 3",
   "language": "python",
   "name": "python3"
  },
  "language_info": {
   "codemirror_mode": {
    "name": "ipython",
    "version": 3
   },
   "file_extension": ".py",
   "mimetype": "text/x-python",
   "name": "python",
   "nbconvert_exporter": "python",
   "pygments_lexer": "ipython3",
   "version": "3.7.6"
  }
 },
 "nbformat": 4,
 "nbformat_minor": 4
}
