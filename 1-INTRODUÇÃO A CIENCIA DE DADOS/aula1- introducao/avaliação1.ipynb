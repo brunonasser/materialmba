{
 "cells": [
  {
   "cell_type": "markdown",
   "metadata": {},
   "source": [
    "## Questao1"
   ]
  },
  {
   "cell_type": "markdown",
   "metadata": {},
   "source": [
    "Determine a moda do conjunto:\n",
    "``` python \n",
    "Z = [0,0,2,3,1,2,4,5,6,8,0,0,7,0,1,2,1,1, 5,3,1,0,7,3,2,3,4,5,6,7,8,9,1,1,2,2,3] ```"
   ]
  },
  {
   "cell_type": "code",
   "execution_count": 1,
   "metadata": {},
   "outputs": [],
   "source": [
    "Z = [0,0,2,3,1,2,4,5,6,8,0,0,7,0,1,2,1,1, 5,3,1,0,7,3,2,3,4,5,6,7,8,9,1,1,2,2,3]"
   ]
  },
  {
   "cell_type": "code",
   "execution_count": 7,
   "metadata": {},
   "outputs": [
    {
     "name": "stdout",
     "output_type": "stream",
     "text": [
      "1\n"
     ]
    }
   ],
   "source": [
    "from statistics import mode\n",
    "x=mode(Z)\n",
    "print(x)"
   ]
  },
  {
   "cell_type": "markdown",
   "metadata": {},
   "source": [
    "## Questao2"
   ]
  },
  {
   "cell_type": "markdown",
   "metadata": {},
   "source": [
    "Determine a média e mediana do conjunto de dados\n",
    "```python \n",
    "        Z = [0,0,2,3,1,2,4,5,6,8,0,0,7,0,1,2,1,1, 5,3,1,0,7,3,2,3,4,5,6,7,8,9,1,1,2,2,3] ```"
   ]
  },
  {
   "cell_type": "code",
   "execution_count": 12,
   "metadata": {},
   "outputs": [],
   "source": [
    "Z = [0,0,2,3,1,2,4,5,6,8,0,0,7,0,1,2,1,1,5,3,1,0,7,3,2,3,4,5,6,7,8,9,1,1,2,2,3]"
   ]
  },
  {
   "cell_type": "code",
   "execution_count": 13,
   "metadata": {},
   "outputs": [
    {
     "name": "stdout",
     "output_type": "stream",
     "text": [
      "media: 3.108108108108108\n",
      "media: 2.0\n"
     ]
    }
   ],
   "source": [
    "import numpy as np\n",
    "print('media:',np.mean(Z))\n",
    "print('media:',np.median(Z))"
   ]
  },
  {
   "cell_type": "markdown",
   "metadata": {},
   "source": [
    "## Questao3"
   ]
  },
  {
   "cell_type": "markdown",
   "metadata": {},
   "source": [
    "  Calcule a variância, desvio padrão e distância interquantil do conjunto de dados:\n",
    "``` python\n",
    "Z = [0,0,2,3,1,2,4,5,6,8,7,5,3,1,0,7,3,2,3,4,5,6,7,8,9,1,1,2,2,3] \n",
    "```"
   ]
  },
  {
   "cell_type": "code",
   "execution_count": 14,
   "metadata": {},
   "outputs": [],
   "source": [
    "Z = [0,0,2,3,1,2,4,5,6,8,7,5,3,1,0,7,3,2,3,4,5,6,7,8,9,1,1,2,2,3]"
   ]
  },
  {
   "cell_type": "code",
   "execution_count": 29,
   "metadata": {},
   "outputs": [],
   "source": [
    "import numpy as np\n",
    "#variancia\n",
    "def var(x):\n",
    "    media=np.mean(x)\n",
    "    N=len(x)\n",
    "    soma=0\n",
    "    for i in x:\n",
    "        soma=(i-media)**2+soma\n",
    "    s=soma/(N-1)\n",
    "    return s\n",
    "#desvio\n",
    "def des(x):\n",
    "    media=np.mean(x)\n",
    "    N=len(x)\n",
    "    soma=0\n",
    "    for i in x:\n",
    "        soma=(i-media)**2+soma\n",
    "    s=(soma/(N-1))**(1/2)\n",
    "    return s\n",
    "    "
   ]
  },
  {
   "cell_type": "code",
   "execution_count": 32,
   "metadata": {},
   "outputs": [
    {
     "name": "stdout",
     "output_type": "stream",
     "text": [
      "variancia: 6.919540229885057\n",
      "variancia: 2.630501896955229\n",
      "variancia: 3.75\n"
     ]
    }
   ],
   "source": [
    "from scipy.stats import iqr\n",
    "print('variancia:',var(Z))\n",
    "print('variancia:',des(Z))\n",
    "print('variancia:',iqr(Z))"
   ]
  },
  {
   "cell_type": "markdown",
   "metadata": {},
   "source": [
    "## Questão4"
   ]
  },
  {
   "cell_type": "markdown",
   "metadata": {},
   "source": [
    "Para a função tangente no intervalo [-1.5,1.5], calcule os coeficientes de Pearson e Spearman."
   ]
  },
  {
   "cell_type": "code",
   "execution_count": null,
   "metadata": {},
   "outputs": [],
   "source": []
  },
  {
   "cell_type": "code",
   "execution_count": 17,
   "metadata": {},
   "outputs": [
    {
     "ename": "TypeError",
     "evalue": "must be real number, not list",
     "output_type": "error",
     "traceback": [
      "\u001b[1;31m---------------------------------------------------------------------------\u001b[0m",
      "\u001b[1;31mTypeError\u001b[0m                                 Traceback (most recent call last)",
      "\u001b[1;32m<ipython-input-17-eb41a20da096>\u001b[0m in \u001b[0;36m<module>\u001b[1;34m\u001b[0m\n\u001b[0;32m      8\u001b[0m \u001b[0mX\u001b[0m\u001b[1;33m=\u001b[0m\u001b[0mlist\u001b[0m\u001b[1;33m(\u001b[0m\u001b[0mX\u001b[0m\u001b[1;33m)\u001b[0m\u001b[1;33m\u001b[0m\u001b[1;33m\u001b[0m\u001b[0m\n\u001b[0;32m      9\u001b[0m \u001b[1;33m\u001b[0m\u001b[0m\n\u001b[1;32m---> 10\u001b[1;33m \u001b[0mY\u001b[0m\u001b[1;33m=\u001b[0m\u001b[0mmath\u001b[0m\u001b[1;33m.\u001b[0m\u001b[0mtan\u001b[0m\u001b[1;33m(\u001b[0m\u001b[0mX\u001b[0m\u001b[1;33m)\u001b[0m\u001b[1;33m\u001b[0m\u001b[1;33m\u001b[0m\u001b[0m\n\u001b[0m\u001b[0;32m     11\u001b[0m \u001b[1;33m\u001b[0m\u001b[0m\n\u001b[0;32m     12\u001b[0m \u001b[0mcorr\u001b[0m\u001b[1;33m,\u001b[0m \u001b[0mp_value\u001b[0m \u001b[1;33m=\u001b[0m \u001b[0mpearsonr\u001b[0m\u001b[1;33m(\u001b[0m\u001b[0mX\u001b[0m\u001b[1;33m,\u001b[0m \u001b[0mY\u001b[0m\u001b[1;33m)\u001b[0m\u001b[1;33m\u001b[0m\u001b[1;33m\u001b[0m\u001b[0m\n",
      "\u001b[1;31mTypeError\u001b[0m: must be real number, not list"
     ]
    }
   ],
   "source": [
    "import numpy as np\n",
    "import matplotlib.pyplot as plt\n",
    "from scipy.stats import pearsonr, spearmanr\n",
    "import math\n",
    "\n",
    "N = 100\n",
    "X = np.linspace(-1,10, N)\n",
    "X=list(X)\n",
    "\n",
    "Y=math.tan(X)\n",
    "\n",
    "corr, p_value = pearsonr(X, Y)\n",
    "print('pearsonr:',corr)\n",
    "corrs, p_values = spearmanr(X, Y)\n",
    "print('spearmanr:',corrs)\n"
   ]
  },
  {
   "cell_type": "code",
   "execution_count": 9,
   "metadata": {},
   "outputs": [
    {
     "data": {
      "text/plain": [
       "numpy.ndarray"
      ]
     },
     "execution_count": 9,
     "metadata": {},
     "output_type": "execute_result"
    }
   ],
   "source": [
    "X = np.linspace(-1,10, N)\n",
    "type(X)"
   ]
  },
  {
   "cell_type": "code",
   "execution_count": null,
   "metadata": {},
   "outputs": [],
   "source": []
  },
  {
   "cell_type": "markdown",
   "metadata": {},
   "source": [
    "## Questao5"
   ]
  },
  {
   "cell_type": "markdown",
   "metadata": {},
   "source": [
    "Calcule a distância de Kullback-Leibler entre as variáveis X e Y, com distribuição: P = [0.15,0.25,0.2] e Q = [0.3, 0.6, 0.1]"
   ]
  },
  {
   "cell_type": "code",
   "execution_count": 37,
   "metadata": {},
   "outputs": [
    {
     "name": "stdout",
     "output_type": "stream",
     "text": [
      "KL(P,Q) =  0.20380924824852753\n",
      "KL(Q,P) =  0.15308505475833864\n"
     ]
    }
   ],
   "source": [
    "from scipy.stats import entropy\n",
    "P = [0.15,0.25,0.2] \n",
    "Q = [0.3, 0.6, 0.1]\n",
    "print('KL(P,Q) = ', entropy(P,Q))\n",
    "print('KL(Q,P) = ', entropy(Q,P))"
   ]
  },
  {
   "cell_type": "code",
   "execution_count": null,
   "metadata": {},
   "outputs": [],
   "source": []
  }
 ],
 "metadata": {
  "kernelspec": {
   "display_name": "Python 3",
   "language": "python",
   "name": "python3"
  },
  "language_info": {
   "codemirror_mode": {
    "name": "ipython",
    "version": 3
   },
   "file_extension": ".py",
   "mimetype": "text/x-python",
   "name": "python",
   "nbconvert_exporter": "python",
   "pygments_lexer": "ipython3",
   "version": "3.7.6"
  }
 },
 "nbformat": 4,
 "nbformat_minor": 4
}
