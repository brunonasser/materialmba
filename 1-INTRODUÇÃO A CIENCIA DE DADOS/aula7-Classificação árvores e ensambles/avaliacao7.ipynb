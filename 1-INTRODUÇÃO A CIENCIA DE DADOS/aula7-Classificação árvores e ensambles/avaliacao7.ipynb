{
 "cells": [
  {
   "cell_type": "markdown",
   "metadata": {},
   "source": [
    "## questao1\n",
    "Considere os dados da vertebralcolumn-2C e o código abaixo. Use uma árvore de decisão com o critério Gini, isto é, use: model = tree.DecisionTreeClassifier(criterion = 'gini', ran-dom_state = 101)\n",
    "Determine o valor das medidas F1 e precision. Arredonde para a primeira casa decimal."
   ]
  },
  {
   "cell_type": "code",
   "execution_count": 1,
   "metadata": {},
   "outputs": [],
   "source": [
    "import random\n",
    "import pandas as pd\n",
    "import numpy as np\n",
    "import matplotlib.pyplot as plt\n",
    "from sklearn.model_selection import train_test_split\n",
    "\n",
    "np.random.seed(42)\n",
    "\n",
    "data = pd.read_csv('data/vertebralcolumn-2C.csv', header=(0))\n",
    "\n",
    "data = data.to_numpy()\n",
    "nrow,ncol = data.shape\n",
    "y = data[:,-1]\n",
    "X = data[:,0:ncol-1]\n",
    "\n",
    "p = 0.2 # fracao de elementos no conjunto de teste\n",
    "x_train, x_test, y_train, y_test = train_test_split(X, y, test_size = p, random_state = 2)"
   ]
  },
  {
   "cell_type": "code",
   "execution_count": 2,
   "metadata": {},
   "outputs": [],
   "source": [
    "from sklearn import tree\n",
    "# Cria o modelo usando o criterio Gini\n",
    "model = tree.DecisionTreeClassifier(criterion = 'gini', random_state = 101)\n",
    "# Ajusta o modelo usando os dados de treinamento\n",
    "model.fit(x_train,y_train)\n",
    "# realizar a predição\n",
    "y_pred = model.predict(x_test) "
   ]
  },
  {
   "cell_type": "code",
   "execution_count": 5,
   "metadata": {},
   "outputs": [
    {
     "name": "stdout",
     "output_type": "stream",
     "text": [
      "Accuracy: 0.7741935483870968\n",
      "F1 score: 0.7163398692810458\n",
      "Precision: 0.7255434782608696\n",
      "Recall: 0.7095959595959596\n",
      "\n",
      " clasification report:\n",
      "               precision    recall  f1-score   support\n",
      "\n",
      "    Abnormal       0.83      0.86      0.84        44\n",
      "      Normal       0.62      0.56      0.59        18\n",
      "\n",
      "    accuracy                           0.77        62\n",
      "   macro avg       0.73      0.71      0.72        62\n",
      "weighted avg       0.77      0.77      0.77        62\n",
      "\n"
     ]
    }
   ],
   "source": [
    "from sklearn.metrics import precision_score, recall_score, classification_report, accuracy_score, f1_score\n",
    "\n",
    "print('Accuracy:', accuracy_score(y_pred, y_test))\n",
    "print('F1 score:', f1_score(y_test, y_pred, average=\"macro\"))\n",
    "print('Precision:', precision_score(y_test, y_pred, average=\"macro\"))\n",
    "print('Recall:', recall_score(y_test, y_pred, average=\"macro\"))\n",
    "print('\\n clasification report:\\n', classification_report(y_test, y_pred))"
   ]
  },
  {
   "cell_type": "markdown",
   "metadata": {},
   "source": [
    "## questao2"
   ]
  },
  {
   "cell_type": "code",
   "execution_count": 11,
   "metadata": {},
   "outputs": [
    {
     "name": "stdout",
     "output_type": "stream",
     "text": [
      "Accuracy: 0.8870967741935484\n"
     ]
    }
   ],
   "source": [
    "from sklearn.ensemble import RandomForestClassifier\n",
    "\n",
    "# define os parâmetros do modelo\n",
    "model=RandomForestClassifier(n_estimators=100, random_state = 42)\n",
    "model.fit(x_train,y_train)\n",
    "\n",
    "#Predict the response for test dataset\n",
    "y_pred = model.predict(x_test)\n",
    "score = accuracy_score(y_pred, y_test)\n",
    "print('Accuracy:', score)"
   ]
  },
  {
   "cell_type": "code",
   "execution_count": 12,
   "metadata": {},
   "outputs": [
    {
     "name": "stdout",
     "output_type": "stream",
     "text": [
      "Accuracy: 0.8870967741935484\n",
      "F1 score: 0.8554778554778555\n",
      "Precision: 0.8801418439716312\n",
      "Recall: 0.8383838383838385\n",
      "\n",
      " clasification report:\n",
      "               precision    recall  f1-score   support\n",
      "\n",
      "    Abnormal       0.89      0.95      0.92        44\n",
      "      Normal       0.87      0.72      0.79        18\n",
      "\n",
      "    accuracy                           0.89        62\n",
      "   macro avg       0.88      0.84      0.86        62\n",
      "weighted avg       0.89      0.89      0.88        62\n",
      "\n"
     ]
    }
   ],
   "source": [
    "print('Accuracy:', accuracy_score(y_pred, y_test))\n",
    "print('F1 score:', f1_score(y_test, y_pred, average=\"macro\"))\n",
    "print('Precision:', precision_score(y_test, y_pred, average=\"macro\"))\n",
    "print('Recall:', recall_score(y_test, y_pred, average=\"macro\"))\n",
    "print('\\n clasification report:\\n', classification_report(y_test, y_pred))"
   ]
  },
  {
   "cell_type": "code",
   "execution_count": null,
   "metadata": {},
   "outputs": [],
   "source": []
  }
 ],
 "metadata": {
  "kernelspec": {
   "display_name": "Python 3",
   "language": "python",
   "name": "python3"
  },
  "language_info": {
   "codemirror_mode": {
    "name": "ipython",
    "version": 3
   },
   "file_extension": ".py",
   "mimetype": "text/x-python",
   "name": "python",
   "nbconvert_exporter": "python",
   "pygments_lexer": "ipython3",
   "version": "3.7.6"
  }
 },
 "nbformat": 4,
 "nbformat_minor": 4
}
