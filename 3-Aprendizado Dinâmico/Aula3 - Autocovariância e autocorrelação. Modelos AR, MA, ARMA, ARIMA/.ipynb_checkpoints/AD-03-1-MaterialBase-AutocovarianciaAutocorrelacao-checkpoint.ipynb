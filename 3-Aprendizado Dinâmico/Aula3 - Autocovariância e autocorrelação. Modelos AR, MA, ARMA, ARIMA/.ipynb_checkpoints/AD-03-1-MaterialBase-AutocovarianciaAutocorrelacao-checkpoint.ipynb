{
 "cells": [
  {
   "cell_type": "markdown",
   "metadata": {},
   "source": [
    "# Funções de Autocovariância e Autocorrelação\n",
    "\n",
    "por **Cibele Russo**\n",
    "\n",
    "Baseado em \n",
    "\n",
    "- Moretting, P.A.; Toloi, C.M.C. “Análise de Séries Temporais”. Blucher, 2004.\n",
    "- Ehlers, R.S. (2009) Análise de Séries Temporais, http://www.icmc.usp.br/~ehlers/stemp/stemp.pdf. Acessado em 28/06/2020.\n",
    "\n",
    "\n",
    "Implementações:\n",
    "\n",
    "- Brownlee, Jason. Introduction to time series forecasting with python: how to prepare data and develop models to predict the future. Machine Learning Mastery, 2017.\n",
    "\n",
    "Leituras sugeridas:\n",
    "\n",
    "- https://en.wikipedia.org/wiki/Autocorrelation\n",
    "\n",
    "- https://otexts.com/fpp2/autocorrelation.html\n",
    "\n",
    "- https://www.statsmodels.org/devel/generated/statsmodels.graphics.tsaplots.plot_pacf.html\n",
    "\n",
    "- https://en.wikipedia.org/wiki/Partial_autocorrelation_function\n"
   ]
  },
  {
   "cell_type": "markdown",
   "metadata": {},
   "source": [
    "Logo falaremos de modelos autorregressivos, mas antes disso precisamos estudar covariância, correlação e como elas são usadas para descrever a associação entre observações de uma série temporal observada.\n",
    "\n",
    "Nesta aula, falaremos de \n",
    "\n",
    "- Função de autocovariância\n",
    "\n",
    "- Função de autocorrelação\n",
    "\n",
    "- Gráficos de autocorrelação e autocorrelação parcial\n",
    "\n"
   ]
  },
  {
   "cell_type": "markdown",
   "metadata": {},
   "source": [
    "<span style=\"color:red\">**Antes de falar de autocovariância e autocorrelação, o que é covariância e correlação?**</span>\n"
   ]
  },
  {
   "cell_type": "markdown",
   "metadata": {},
   "source": [
    "\n",
    "Basicamente, a **covariância é uma medida de variabilidade conjunta entre duas variáveis aleatórias**.\n",
    "\n",
    "Ela mede a força da associação linear entre essas duas variáveis. \n",
    "\n",
    "E a **correlação é essa medida de associação linear padronizada**, de forma que assuma valores entre -1 e 1.\n",
    "\n",
    "O sinal da covariância e da correlação indica se as variáveis se associam de forma positiva ou negativa.\n",
    "\n",
    "\n"
   ]
  },
  {
   "cell_type": "markdown",
   "metadata": {},
   "source": [
    "## Covariância e correlação\n",
    "\n",
    "A covariância entre duas variáveis aleatórias  $X$ e $Y$ é dada por\n",
    "\n",
    "$\\sigma^2_{XY}=Cov(X,Y) = E[(X-E(X))(Y-E(Y))]$\n",
    "\n",
    "Sejam $\\sigma^2_X$ e  $\\sigma^2_Y$ as variâncias de $X$ e $Y$, respectivamente.\n",
    "\n",
    "A correlação entre  $X$ e $Y$ é dada por\n",
    "\n",
    "$\\rho = Cor(X,Y) = \\displaystyle\\frac{ E[(X-E(X))(Y-E(Y))]}{\\sqrt{Var(X)}\\sqrt{(Var(Y))}} = \\displaystyle\\frac{\\sigma^2_{XY}}{\\sqrt{\\sigma^2_X} \\sqrt{\\sigma^2_Y}}$\n",
    "\n",
    "Obs: $-1\\leq\\rho\\leq 1$ e quanto maior a correlação em módulo, mais forte é a associação, positiva ou negativa, entre as duas variáveis.\n",
    "\n",
    "\n",
    "\n",
    "### Coeficiente de correlação de Pearson\n",
    "\n",
    "O coeficiente de correlação de Pearson entre as variáveis aleatórias $X$ e $Y$, dada que amostras de $X$ e $Y$ foram observadas, é dado por\n",
    "\n",
    "${\\displaystyle r_{xy}={\\frac {\\sum _{i=1}^{n}(x_{i}-{\\bar {x}})(y_{i}-{\\bar {y}})}{{\\sqrt {\\sum _{i=1}^{n}(x_{i}-{\\bar {x}})^{2}}}{\\sqrt {\\sum _{i=1}^{n}(y_{i}-{\\bar {y}})^{2}}}}}}$\n",
    "\n",
    "\n",
    "Em Python, podemos usar a função numpy.corrcoef(x,y)\n",
    "\n",
    "\n",
    "\n",
    "<span style=\"color:red\">**Correlação não significa causalidade!**</span>"
   ]
  },
  {
   "cell_type": "markdown",
   "metadata": {},
   "source": [
    "<span style=\"color:red\">**E então que é autocovariância e autocorrelação?**</span>"
   ]
  },
  {
   "cell_type": "markdown",
   "metadata": {},
   "source": [
    "## Autocovariância\n",
    " \n",
    "Seja $\\{Z_t, t\\in \\mathbb{Z}\\}$ um processo estacionário real com tempo discreto, de média zero.\n",
    "\n",
    "A função de autocovariância facv para um deslocamento no tempo $\\tau$ é dada por $\\gamma_\\tau = E(Z_t Z_{t+\\tau})$.\n",
    "\n",
    "Mais geralmente, a **função de autocovariância** é dada por:\n",
    "\n",
    "$\\gamma(\\tau) = E[(Z(t)-\\mu)(Z (t+\\tau )-\\mu)] = Cov(Z (t), Z (t + \\tau )).$\n",
    "\n",
    "$\\gamma(\\tau)$ é chamado de coeficiente de autocovariância na defasagem $\\tau$.\n"
   ]
  },
  {
   "cell_type": "markdown",
   "metadata": {},
   "source": [
    "## Autocorrelação\n",
    "\n",
    "Uma quantidade livre de escala é a **função de autocorrelação**\n",
    "\n",
    "$\\rho(\\tau) = \\displaystyle\\frac{\\gamma(\\tau)}{\\gamma(0)}, \\mbox{ para } \\tau \\in \\mathbb{Z}.$\n",
    "\n",
    "\n",
    "\n"
   ]
  },
  {
   "cell_type": "markdown",
   "metadata": {},
   "source": [
    "\n",
    " \n",
    "A autocorrelação, também conhecida como correlação serial, é a correlação de um sinal com uma cópia atrasada de si mesma em função do atraso (lag). Informalmente, é a semelhança entre as observações em função do intervalo de tempo entre elas.\n",
    "\n",
    "(Fonte: Traduzido de https://en.wikipedia.org/wiki/Autocorrelation)\n",
    "\n",
    "\n",
    "Para entender a autocorrelação, é comum construirmos gráficos e autocorrelação e autocorrelação parcial."
   ]
  },
  {
   "cell_type": "markdown",
   "metadata": {},
   "source": [
    "## Autocorrelação em séries temporais\n",
    "\n",
    "Seja $y_k$ a $k$-ésima observação da série temporal, e $\\bar{y}$ e média amostral da série.\n",
    "\n",
    "A autocorrelação entre observações com atraso $k$ é dada por\n",
    "\n",
    "${\\displaystyle \\rho_k = \\frac {\\sum\\limits_{t=1}^{n-k} (y_t - \\bar{y})(y_{t+k}-\\bar{y})} {\\sum\\limits_{t=1}^{n} (y_t - \\bar{y})^2}}$\n",
    "\n",
    "\n"
   ]
  },
  {
   "cell_type": "markdown",
   "metadata": {},
   "source": [
    "## Correlograma\n",
    "\n",
    "O correlograma é uma representação das autocorrelações entre as observações da série temporal.\n",
    "\n",
    "Ou seja, cada ponto do gráfico representa a correlação entre a série original e a série com o atraso correspondente."
   ]
  },
  {
   "cell_type": "markdown",
   "metadata": {},
   "source": [
    "## Autocorrelação parcial\n",
    "\n",
    "A autocorrelação parcial é uma medida de associação linear de duas variáveis após remover o efeito de outras variáveis que afetam ambas. Ou seja, a autocorrelação parcial com atraso $k$ é a autocorrelação entre $y_t$ e $y_ {t + k}$ em que não são contabilizados os atrasos entre $1$ e $k - 1$.\n",
    "\n",
    "Na prática, modelos lineares são ajustados para a série \"corrente\" com a série em atraso como preditor, e os resíduos desse modelo são utilizados para o próximo passo, calcula-se a correlação entre os resíduos e a próxima série em atraso e assim por diante.\n",
    "\n",
    "\n",
    "\n"
   ]
  },
  {
   "cell_type": "markdown",
   "metadata": {},
   "source": [
    "## Aplicações"
   ]
  },
  {
   "cell_type": "code",
   "execution_count": 1,
   "metadata": {},
   "outputs": [],
   "source": [
    "import pandas as pd\n",
    "import numpy as np\n",
    "import matplotlib as plt\n",
    "%matplotlib inline\n",
    "import statsmodels.api as sm\n",
    "\n",
    "\n",
    "# Ignorar warnings não prejudiciais\n",
    "import warnings\n",
    "warnings.filterwarnings(\"ignore\")\n",
    "\n",
    "\n",
    "pkgdir = '/hdd/MBA/AprendizadoDinamico/Data'\n",
    "\n",
    "# Dados Passageiros aéreos\n",
    "df1 = pd.read_csv(f'{pkgdir}/airline_passengers.csv',index_col=0,parse_dates=True)\n",
    "df1.index.freq = 'MS'\n",
    "\n",
    "# Dados de nascimentos diários de mulheres\n",
    "df2 = pd.read_csv(f'{pkgdir}/DailyTotalFemaleBirths.csv',index_col='Date',parse_dates=True)\n",
    "df2.index.freq = 'D'\n"
   ]
  },
  {
   "cell_type": "code",
   "execution_count": 2,
   "metadata": {},
   "outputs": [],
   "source": [
    "# Funções para cálculo da autocorrelação e autocorrelação parcial\n",
    "\n",
    "from statsmodels.tsa.stattools import acovf, acf, pacf, pacf_yw, pacf_ols"
   ]
  },
  {
   "cell_type": "markdown",
   "metadata": {},
   "source": [
    "## Funções para cálculo de autocorrelação e autocorrelação parcial"
   ]
  },
  {
   "cell_type": "markdown",
   "metadata": {},
   "source": [
    "https://www.statsmodels.org/stable/generated/statsmodels.tsa.stattools.pacf.html"
   ]
  },
  {
   "cell_type": "code",
   "execution_count": 3,
   "metadata": {
    "scrolled": false
   },
   "outputs": [
    {
     "data": {
      "text/plain": [
       "array([1.        , 0.94804734, 0.87557484, 0.80668116, 0.75262542,\n",
       "       0.71376997, 0.6817336 , 0.66290439, 0.65561048, 0.67094833,\n",
       "       0.70271992, 0.74324019, 0.76039504, 0.71266087, 0.64634228,\n",
       "       0.58592342, 0.53795519, 0.49974753, 0.46873401, 0.44987066,\n",
       "       0.4416288 , 0.45722376, 0.48248203, 0.51712699, 0.53218983,\n",
       "       0.49397569, 0.43772134, 0.3876029 , 0.34802503, 0.31498388,\n",
       "       0.28849682, 0.27080187, 0.26429011, 0.27679934, 0.2985215 ,\n",
       "       0.32558712, 0.3370236 , 0.30333486, 0.25397708, 0.21065534,\n",
       "       0.17217092])"
      ]
     },
     "execution_count": 3,
     "metadata": {},
     "output_type": "execute_result"
    }
   ],
   "source": [
    "acf(df1['Milhares de passageiros'])"
   ]
  },
  {
   "cell_type": "code",
   "execution_count": 4,
   "metadata": {},
   "outputs": [
    {
     "data": {
      "text/plain": [
       "array([ 1.00000000e+00,  9.54677042e-01, -2.65277317e-01,  5.54695472e-02,\n",
       "        1.08856215e-01,  8.11257853e-02,  4.12540544e-03,  1.56169553e-01,\n",
       "        1.03708330e-01,  2.88781439e-01,  2.06918048e-01,  2.41129704e-01,\n",
       "       -1.58004984e-01, -7.18324604e-01, -8.94806410e-02,  2.21605913e-01,\n",
       "        1.34622533e-01,  1.15615719e-01,  1.94829396e-01,  9.66561845e-02,\n",
       "       -2.02158680e-01, -9.36381005e-02, -3.45594572e-01, -1.06170206e-01,\n",
       "        2.77804723e-01,  5.87815922e-02,  9.86624045e-03,  2.37687367e-01,\n",
       "        9.40568218e-02, -1.47505422e-01, -1.88609051e-01, -2.52801158e-01,\n",
       "       -2.57153789e-01, -1.40349613e-01,  1.88263087e-01,  1.30686258e-01,\n",
       "        5.23902189e-01,  6.91426442e-01,  9.91163921e-01,  3.71021065e+01,\n",
       "       -8.85334119e-01])"
      ]
     },
     "execution_count": 4,
     "metadata": {},
     "output_type": "execute_result"
    }
   ],
   "source": [
    "pacf(df1['Milhares de passageiros'])"
   ]
  },
  {
   "cell_type": "code",
   "execution_count": 5,
   "metadata": {},
   "outputs": [
    {
     "data": {
      "text/plain": [
       "array([ 1.        ,  0.95893198, -0.32983096,  0.2018249 ,  0.14500798,\n",
       "        0.25848232, -0.02690283,  0.20433019,  0.15607896,  0.56860841,\n",
       "        0.29256358,  0.8402143 ,  0.61268285, -0.66597616, -0.38463943,\n",
       "        0.0787466 , -0.02663483, -0.05805221, -0.04350748,  0.27732556,\n",
       "       -0.04046447,  0.13739883,  0.3859958 ,  0.24203808, -0.04912986,\n",
       "       -0.19599778, -0.15443575,  0.04484465,  0.18371541, -0.0906113 ,\n",
       "       -0.06202938,  0.34827092,  0.09899499, -0.08396793,  0.36328898,\n",
       "       -0.17956662,  0.15839435,  0.06376775, -0.27503705,  0.2707607 ,\n",
       "        0.32002003])"
      ]
     },
     "execution_count": 5,
     "metadata": {},
     "output_type": "execute_result"
    }
   ],
   "source": [
    "pacf(df1['Milhares de passageiros'], method='ols')"
   ]
  },
  {
   "cell_type": "code",
   "execution_count": 6,
   "metadata": {},
   "outputs": [
    {
     "data": {
      "text/plain": [
       "array([ 1.        ,  0.95893198, -0.32983096,  0.2018249 ,  0.14500798,\n",
       "        0.25848232, -0.02690283,  0.20433019,  0.15607896,  0.56860841,\n",
       "        0.29256358,  0.8402143 ,  0.61268285, -0.66597616, -0.38463943,\n",
       "        0.0787466 , -0.02663483, -0.05805221, -0.04350748,  0.27732556,\n",
       "       -0.04046447,  0.13739883,  0.3859958 ,  0.24203808, -0.04912986,\n",
       "       -0.19599778, -0.15443575,  0.04484465,  0.18371541, -0.0906113 ,\n",
       "       -0.06202938,  0.34827092,  0.09899499, -0.08396793,  0.36328898,\n",
       "       -0.17956662,  0.15839435,  0.06376775, -0.27503705,  0.2707607 ,\n",
       "        0.32002003])"
      ]
     },
     "execution_count": 6,
     "metadata": {},
     "output_type": "execute_result"
    }
   ],
   "source": [
    "pacf_ols(df1['Milhares de passageiros'])"
   ]
  },
  {
   "cell_type": "code",
   "execution_count": 7,
   "metadata": {},
   "outputs": [
    {
     "data": {
      "text/plain": [
       "array([ 1.        ,  0.21724118,  0.15287758,  0.10821254,  0.09066059,\n",
       "        0.09595481,  0.09104012,  0.19508071,  0.14115295,  0.06117859,\n",
       "        0.04781522,  0.04770662, -0.01964707,  0.02287422,  0.08112657,\n",
       "        0.11185686,  0.07333732,  0.01501845,  0.07270333,  0.06859   ,\n",
       "        0.09280107,  0.26386846,  0.14012147,  0.06070286,  0.08716232,\n",
       "        0.05038825,  0.0650489 ,  0.11466565,  0.1552232 ,  0.12850638,\n",
       "        0.10358981,  0.09734643,  0.04912286,  0.04022798,  0.05838555,\n",
       "        0.05359812,  0.10151053,  0.08268663,  0.0912185 ,  0.11192192,\n",
       "        0.05652846])"
      ]
     },
     "execution_count": 7,
     "metadata": {},
     "output_type": "execute_result"
    }
   ],
   "source": [
    "acf(df2['Births'])"
   ]
  },
  {
   "cell_type": "code",
   "execution_count": 8,
   "metadata": {
    "scrolled": true
   },
   "outputs": [
    {
     "data": {
      "text/plain": [
       "array([ 1.        ,  0.2179641 ,  0.11388341,  0.06139271,  0.05014092,\n",
       "        0.05597304,  0.0483302 ,  0.16061715,  0.061602  , -0.0245556 ,\n",
       "       -0.00774957,  0.00782231, -0.07054357,  0.00367697,  0.05073901,\n",
       "        0.06869818,  0.02855912, -0.03000743,  0.04890835,  0.05079005,\n",
       "        0.06672663,  0.23464568,  0.01251561, -0.05701977,  0.03051524,\n",
       "       -0.03035958, -0.00790227,  0.08244362,  0.05410409,  0.00122559,\n",
       "        0.04213413,  0.03829265, -0.0147851 ,  0.02911748,  0.01617994,\n",
       "       -0.03759518,  0.03129664,  0.01440593,  0.05191662,  0.07161683,\n",
       "       -0.00544217])"
      ]
     },
     "execution_count": 8,
     "metadata": {},
     "output_type": "execute_result"
    }
   ],
   "source": [
    "pacf(df2['Births'], method='ols')"
   ]
  },
  {
   "cell_type": "markdown",
   "metadata": {},
   "source": [
    "# Representação gráfica da autocorrelação\n"
   ]
  },
  {
   "cell_type": "code",
   "execution_count": 9,
   "metadata": {},
   "outputs": [
    {
     "data": {
      "image/png": "[encoded data removed]",
      "text/plain": [
       "<Figure size 432x288 with 1 Axes>"
      ]
     },
     "metadata": {
      "needs_background": "light"
     },
     "output_type": "display_data"
    }
   ],
   "source": [
    "from pandas.plotting import lag_plot\n",
    "\n",
    "lag_plot(df1['Milhares de passageiros']);"
   ]
  },
  {
   "cell_type": "markdown",
   "metadata": {},
   "source": [
    "O gráfico acima indica forte correlação entre a série original e a série com atraso 1."
   ]
  },
  {
   "cell_type": "code",
   "execution_count": 10,
   "metadata": {},
   "outputs": [
    {
     "data": {
      "image/png": "[encoded data removed]",
      "text/plain": [
       "<Figure size 432x288 with 1 Axes>"
      ]
     },
     "metadata": {
      "needs_background": "light"
     },
     "output_type": "display_data"
    }
   ],
   "source": [
    "from pandas.plotting import lag_plot\n",
    "\n",
    "lag_plot(df1['Milhares de passageiros'],lag=2);"
   ]
  },
  {
   "cell_type": "markdown",
   "metadata": {},
   "source": [
    "**Dados dos nascimentos**"
   ]
  },
  {
   "cell_type": "code",
   "execution_count": 11,
   "metadata": {},
   "outputs": [
    {
     "data": {
      "image/png": "[encoded data removed]",
      "text/plain": [
       "<Figure size 432x288 with 1 Axes>"
      ]
     },
     "metadata": {
      "needs_background": "light"
     },
     "output_type": "display_data"
    }
   ],
   "source": [
    "lag_plot(df2['Births']);"
   ]
  },
  {
   "cell_type": "code",
   "execution_count": 12,
   "metadata": {},
   "outputs": [
    {
     "data": {
      "text/plain": [
       "<AxesSubplot:xlabel='y(t)', ylabel='y(t + 2)'>"
      ]
     },
     "execution_count": 12,
     "metadata": {},
     "output_type": "execute_result"
    },
    {
     "data": {
      "image/png": "[encoded data removed]",
      "text/plain": [
       "<Figure size 432x288 with 1 Axes>"
      ]
     },
     "metadata": {
      "needs_background": "light"
     },
     "output_type": "display_data"
    }
   ],
   "source": [
    "lag_plot(df2['Births'], lag=2)"
   ]
  },
  {
   "cell_type": "markdown",
   "metadata": {},
   "source": [
    "## Representação gráfica da autocorrelação\n",
    "\n"
   ]
  },
  {
   "cell_type": "code",
   "execution_count": 13,
   "metadata": {},
   "outputs": [],
   "source": [
    "from statsmodels.graphics.tsaplots import plot_acf,plot_pacf"
   ]
  },
  {
   "cell_type": "code",
   "execution_count": 14,
   "metadata": {},
   "outputs": [
    {
     "data": {
      "image/png": "[encoded data removed]",
      "text/plain": [
       "<Figure size 432x288 with 1 Axes>"
      ]
     },
     "metadata": {
      "needs_background": "light"
     },
     "output_type": "display_data"
    }
   ],
   "source": [
    "title = 'Autocorrelação: Passageiros aéreos'\n",
    "lags = 40\n",
    "plot_acf(df1['Milhares de passageiros'],title=title,lags=lags);\n"
   ]
  },
  {
   "cell_type": "markdown",
   "metadata": {},
   "source": [
    "Observe o efeito da sazonalidade e portanto da não-estacionariedade no gráfico da autocorrelação.\n",
    "\n",
    "A região em azul representa um intervalo de confiança para a correlação, e quando um ponto ultrapassa essa região temos um indicativo de significância da correlação observada.\n"
   ]
  },
  {
   "cell_type": "code",
   "execution_count": 15,
   "metadata": {},
   "outputs": [
    {
     "data": {
      "image/png": "[encoded data removed]",
      "text/plain": [
       "<Figure size 432x288 with 1 Axes>"
      ]
     },
     "metadata": {
      "needs_background": "light"
     },
     "output_type": "display_data"
    }
   ],
   "source": [
    "title='Autocorrelação: Nascimentos de mulheres'\n",
    "lags=40\n",
    "plot_acf(df2['Births'],title=title,lags=lags);"
   ]
  },
  {
   "cell_type": "markdown",
   "metadata": {},
   "source": [
    "## Representação gráfica da autocorrelação parcial"
   ]
  },
  {
   "cell_type": "code",
   "execution_count": 16,
   "metadata": {},
   "outputs": [
    {
     "data": {
      "image/png": "[encoded data removed]",
      "text/plain": [
       "<Figure size 432x288 with 1 Axes>"
      ]
     },
     "metadata": {
      "needs_background": "light"
     },
     "output_type": "display_data"
    }
   ],
   "source": [
    "title='Autocorrelação parcial: Nascimentos de mulheres'\n",
    "lags=40\n",
    "plot_pacf(df2['Births'],title=title,lags=lags);"
   ]
  },
  {
   "cell_type": "markdown",
   "metadata": {},
   "source": [
    "**Exercícios:**\n",
    "    \n",
    "Obtenha gráficos de autocorrelação e autocorrelação parcial para os dados de COVID-19 do estado de São Paulo. Lembre-se de utilizar os dados completos como fizemos na Aula 2.\n",
    "\n",
    "Obtenha gráficos de autocorrelação e autocorrelação parcial para os dados PETR4.\n",
    "    "
   ]
  }
 ],
 "metadata": {
  "kernelspec": {
   "display_name": "Python 3",
   "language": "python",
   "name": "python3"
  },
  "language_info": {
   "codemirror_mode": {
    "name": "ipython",
    "version": 3
   },
   "file_extension": ".py",
   "mimetype": "text/x-python",
   "name": "python",
   "nbconvert_exporter": "python",
   "pygments_lexer": "ipython3",
   "version": "3.8.5"
  },
  "toc": {
   "base_numbering": 1,
   "nav_menu": {},
   "number_sections": true,
   "sideBar": true,
   "skip_h1_title": false,
   "title_cell": "Table of Contents",
   "title_sidebar": "Contents",
   "toc_cell": false,
   "toc_position": {},
   "toc_section_display": true,
   "toc_window_display": false
  },
  "varInspector": {
   "cols": {
    "lenName": 16,
    "lenType": 16,
    "lenVar": 40
   },
   "kernels_config": {
    "python": {
     "delete_cmd_postfix": "",
     "delete_cmd_prefix": "del ",
     "library": "var_list.py",
     "varRefreshCmd": "print(var_dic_list())"
    },
    "r": {
     "delete_cmd_postfix": ") ",
     "delete_cmd_prefix": "rm(",
     "library": "var_list.r",
     "varRefreshCmd": "cat(var_dic_list()) "
    }
   },
   "types_to_exclude": [
    "module",
    "function",
    "builtin_function_or_method",
    "instance",
    "_Feature"
   ],
   "window_display": false
  }
 },
 "nbformat": 4,
 "nbformat_minor": 2
}
