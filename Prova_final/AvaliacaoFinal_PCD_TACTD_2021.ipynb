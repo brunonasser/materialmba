{
 "cells": [
  {
   "cell_type": "markdown",
   "metadata": {
    "id": "e99b03f7"
   },
   "source": [
    "#PREENCHA SEU NOME COMPLETO AQUI: \n",
    "\n",
    "### <span style=\"color:blue\">MBA em Ciência de Dados</span>\n",
    "\n",
    "<span style=\"color:blue\">Programação para Ciência de Dados</br>\n",
    "<span style=\"color:blue\">Técnicas Avançadas de Captura e Tratamento de Dados\n",
    "\n",
    "### <span style=\"color:blue\">Prova Final</span>\n",
    "\n",
    "**Material Produzido por:**<br>\n",
    ">**Prof Moacir A. Ponti**<br>\n",
    ">**Prof Luis Gustavo Nonato**<br> \n",
    "\n",
    "**CEMEAI - ICMC/USP São Carlos**\n",
    "\n",
    "---\n",
    "\n",
    "O arquivo `Emendas.csv` contém informações das emendas parlamentares do congresso nacional. Execute as seguintes operações sobre essa base de dados:\n",
    "\n",
    "1. **Leia o arquivo e considere apenas as colunas** 'Nome Funcao', 'Valor Empenhado', 'Valor Pago' e 'Valor Restos A Pagar Pagos'. 1\n",
    "\n",
    "2. Verifique e anote **quantos dados faltantes totais** existem no DataFrame resultante.\n",
    "\n",
    "3. Substitua os valores faltantes:\n",
    "    1. na coluna 'Valor Empenhado' pela média dos valores atuais nessa coluna,\n",
    "    2. por zero no restante do data frame.\n",
    "    \n",
    "4. Compute e anote a **soma total da coluna 'Valor Empenhado'** em milhares de reais (i.e. dividindo o valor por 1000) considerando os valores após o preenchimento de dados faltantes do passo anterior.\n",
    "\n",
    "5. Considerando a coluna 'Nome Funcao' como sendo categorias de emendas, compute a frequência da categoria majoritária, isto é, a categoria com maior número de ocorrências e a **porcentagem dessa categoria majoritária** com relação às demais categorias na base completa.\n",
    "    \n",
    "    \n",
    "**INSTRUÇÕES (Importante)**:<br>\n",
    "1. Você deve exportar esse notebook **com sua solução para as questões da prova** em formato .py e fazer upload no Moodle. \n",
    "   \n",
    "    * Atenção: você *não* deve fazer upload de um arquivo notebook (.ipynb), mas sim um arquivo **texto .py** contendo os códigos python que utilizou para resolver as questões. O arquivo .py pode ser gerado através de uma das opções abaixo:<br>\n",
    "        * no Jupyter Notebook/local: `File --> Download as --> Python (.py)` \n",
    "        * no Google Colab: `File --> Download .py` \n",
    "        * caso não esteja utilizando o Jupyter nem Colab, copie e cole seu código em um arquivo ASCII (Texto) salvando com a extensão .py\n",
    "\n",
    "2. O arquivo deve ser nomeado com seu nome e sobrenome, sem espaços e sem acentuacao. Exemplo: moacirponti.py\n",
    "\n",
    "3. É OBRIGATÓRIO conter no cabeçalho (início) do arquivo um comentário / texto com o seu nome completo\n",
    "\n",
    "\n",
    "**Desejamos uma boa prova!**\n",
    "\n",
    "Com base nos itens acima, assinale a alternativa correta\n",
    "\n",
    "a) Dados faltantes: 5, Total Valor Empenhado: 114025453, Porcentagem Majoritária: 43%<br>\n",
    "b) Dados faltantes: 9, Total Valor Empenhado: 204004899, Porcentagem Majoritária: 57% <br>\n",
    "c) Dados faltantes: 14, Total Valor Empenhado: 104025454, Porcentagem Majoritária: 43%<br>\n",
    "d) Dados faltantes: 14, Total Valor Empenhado: 2283864, Porcentagem Majoritária: 43% <br>\n",
    "e) Dados faltantes: 5, Total Valor Empenhado: 104004899, Porcentagem Majoritária: 57% "
   ]
  },
  {
   "cell_type": "code",
   "execution_count": 2,
   "metadata": {
    "id": "55257248"
   },
   "outputs": [],
   "source": [
    "import pandas as pd\n",
    "import numpy as np"
   ]
  },
  {
   "cell_type": "code",
   "execution_count": 25,
   "metadata": {
    "id": "f00fd4de",
    "outputId": "e09d17c3-a2fd-4b66-a139-2637d1c4f2b9"
   },
   "outputs": [],
   "source": [
    "# carregar a base de dados\n",
    "data = pd.read_csv('Emendas.csv')"
   ]
  },
  {
   "cell_type": "code",
   "execution_count": 26,
   "metadata": {},
   "outputs": [
    {
     "data": {
      "text/plain": [
       "Index(['Codigo da Emenda', 'Ano da Emenda', 'Codigo do Autor da Emenda',\n",
       "       'Nome do Autor da Emenda', 'Numero da emenda', 'Codigo IBGE Municipio',\n",
       "       'Nome Municipio', 'Codigo IBGE Estado', 'Nome Estado', 'Codigo Regiao',\n",
       "       'Nome Regiao', 'Codigo Funcao', 'Nome Funcao', 'Codigo Subfuncao',\n",
       "       'Nome Subfuncao', 'Valor Empenhado', 'Valor Liquidado', 'Valor Pago',\n",
       "       'Valor Restos A Pagar Inscritos', 'Valor Restos A Pagar Cancelados',\n",
       "       'Valor Restos A Pagar Pagos'],\n",
       "      dtype='object')"
      ]
     },
     "execution_count": 26,
     "metadata": {},
     "output_type": "execute_result"
    }
   ],
   "source": [
    "data.columns"
   ]
  },
  {
   "cell_type": "code",
   "execution_count": 27,
   "metadata": {},
   "outputs": [],
   "source": [
    "df=data[['Nome Funcao','Valor Empenhado','Valor Pago','Valor Restos A Pagar Pagos']]"
   ]
  },
  {
   "cell_type": "code",
   "execution_count": 33,
   "metadata": {},
   "outputs": [
    {
     "data": {
      "text/html": [
       "<div>\n",
       "<style scoped>\n",
       "    .dataframe tbody tr th:only-of-type {\n",
       "        vertical-align: middle;\n",
       "    }\n",
       "\n",
       "    .dataframe tbody tr th {\n",
       "        vertical-align: top;\n",
       "    }\n",
       "\n",
       "    .dataframe thead th {\n",
       "        text-align: right;\n",
       "    }\n",
       "</style>\n",
       "<table border=\"1\" class=\"dataframe\">\n",
       "  <thead>\n",
       "    <tr style=\"text-align: right;\">\n",
       "      <th></th>\n",
       "      <th>Nome Funcao</th>\n",
       "      <th>Valor Empenhado</th>\n",
       "      <th>Valor Pago</th>\n",
       "      <th>Valor Restos A Pagar Pagos</th>\n",
       "    </tr>\n",
       "  </thead>\n",
       "  <tbody>\n",
       "    <tr>\n",
       "      <th>0</th>\n",
       "      <td>Saude</td>\n",
       "      <td>789725.0</td>\n",
       "      <td>0.0</td>\n",
       "      <td>789725.00</td>\n",
       "    </tr>\n",
       "    <tr>\n",
       "      <th>1</th>\n",
       "      <td>Urbanismo</td>\n",
       "      <td>1400000.0</td>\n",
       "      <td>0.0</td>\n",
       "      <td>916156.64</td>\n",
       "    </tr>\n",
       "    <tr>\n",
       "      <th>2</th>\n",
       "      <td>Urbanismo</td>\n",
       "      <td>1400000.0</td>\n",
       "      <td>0.0</td>\n",
       "      <td>1400000.00</td>\n",
       "    </tr>\n",
       "    <tr>\n",
       "      <th>3</th>\n",
       "      <td>Saude</td>\n",
       "      <td>500000.0</td>\n",
       "      <td>0.0</td>\n",
       "      <td>500000.00</td>\n",
       "    </tr>\n",
       "    <tr>\n",
       "      <th>4</th>\n",
       "      <td>Saude</td>\n",
       "      <td>231800.0</td>\n",
       "      <td>0.0</td>\n",
       "      <td>231800.00</td>\n",
       "    </tr>\n",
       "    <tr>\n",
       "      <th>...</th>\n",
       "      <td>...</td>\n",
       "      <td>...</td>\n",
       "      <td>...</td>\n",
       "      <td>...</td>\n",
       "    </tr>\n",
       "    <tr>\n",
       "      <th>45543</th>\n",
       "      <td>Assistencia social</td>\n",
       "      <td>400000.0</td>\n",
       "      <td>400000.0</td>\n",
       "      <td>0.00</td>\n",
       "    </tr>\n",
       "    <tr>\n",
       "      <th>45544</th>\n",
       "      <td>Saude</td>\n",
       "      <td>294485.0</td>\n",
       "      <td>0.0</td>\n",
       "      <td>0.00</td>\n",
       "    </tr>\n",
       "    <tr>\n",
       "      <th>45545</th>\n",
       "      <td>Desporto e lazer</td>\n",
       "      <td>300000.0</td>\n",
       "      <td>0.0</td>\n",
       "      <td>0.00</td>\n",
       "    </tr>\n",
       "    <tr>\n",
       "      <th>45546</th>\n",
       "      <td>Saude</td>\n",
       "      <td>199962.0</td>\n",
       "      <td>199962.0</td>\n",
       "      <td>0.00</td>\n",
       "    </tr>\n",
       "    <tr>\n",
       "      <th>45547</th>\n",
       "      <td>Saude</td>\n",
       "      <td>119985.0</td>\n",
       "      <td>119985.0</td>\n",
       "      <td>0.00</td>\n",
       "    </tr>\n",
       "  </tbody>\n",
       "</table>\n",
       "<p>45548 rows × 4 columns</p>\n",
       "</div>"
      ],
      "text/plain": [
       "              Nome Funcao  Valor Empenhado  Valor Pago  \\\n",
       "0                   Saude         789725.0         0.0   \n",
       "1               Urbanismo        1400000.0         0.0   \n",
       "2               Urbanismo        1400000.0         0.0   \n",
       "3                   Saude         500000.0         0.0   \n",
       "4                   Saude         231800.0         0.0   \n",
       "...                   ...              ...         ...   \n",
       "45543  Assistencia social         400000.0    400000.0   \n",
       "45544               Saude         294485.0         0.0   \n",
       "45545    Desporto e lazer         300000.0         0.0   \n",
       "45546               Saude         199962.0    199962.0   \n",
       "45547               Saude         119985.0    119985.0   \n",
       "\n",
       "       Valor Restos A Pagar Pagos  \n",
       "0                       789725.00  \n",
       "1                       916156.64  \n",
       "2                      1400000.00  \n",
       "3                       500000.00  \n",
       "4                       231800.00  \n",
       "...                           ...  \n",
       "45543                        0.00  \n",
       "45544                        0.00  \n",
       "45545                        0.00  \n",
       "45546                        0.00  \n",
       "45547                        0.00  \n",
       "\n",
       "[45548 rows x 4 columns]"
      ]
     },
     "execution_count": 33,
     "metadata": {},
     "output_type": "execute_result"
    }
   ],
   "source": [
    "df"
   ]
  },
  {
   "cell_type": "code",
   "execution_count": 29,
   "metadata": {},
   "outputs": [
    {
     "data": {
      "text/plain": [
       "Nome Funcao                   0\n",
       "Valor Empenhado               9\n",
       "Valor Pago                    0\n",
       "Valor Restos A Pagar Pagos    5\n",
       "dtype: int64"
      ]
     },
     "execution_count": 29,
     "metadata": {},
     "output_type": "execute_result"
    }
   ],
   "source": [
    "df.isnull().sum()"
   ]
  },
  {
   "cell_type": "code",
   "execution_count": 30,
   "metadata": {
    "id": "964ac8cc",
    "outputId": "bb744f13-bd6a-4a19-a7df-118bee5a4215"
   },
   "outputs": [
    {
     "name": "stdout",
     "output_type": "stream",
     "text": [
      "total dados faltantes: 14\n"
     ]
    }
   ],
   "source": [
    "# computar valores faltantes na base de dados\n",
    "print('total dados faltantes: {}'.format(df.isnull().sum().sum()))"
   ]
  },
  {
   "cell_type": "code",
   "execution_count": 37,
   "metadata": {
    "id": "611c24da",
    "outputId": "7a1f5bec-fa9a-4a6f-b28c-8c4dbdd2c2da"
   },
   "outputs": [
    {
     "name": "stderr",
     "output_type": "stream",
     "text": [
      "<ipython-input-37-4fb9b3413e99>:3: SettingWithCopyWarning: \n",
      "A value is trying to be set on a copy of a slice from a DataFrame.\n",
      "Try using .loc[row_indexer,col_indexer] = value instead\n",
      "\n",
      "See the caveats in the documentation: https://pandas.pydata.org/pandas-docs/stable/user_guide/indexing.html#returning-a-view-versus-a-copy\n",
      "  df['Valor Empenhado']=df['Valor Empenhado'].fillna(media)\n",
      "C:\\Users\\nasse\\anaconda3\\lib\\site-packages\\pandas\\core\\frame.py:4317: SettingWithCopyWarning: \n",
      "A value is trying to be set on a copy of a slice from a DataFrame\n",
      "\n",
      "See the caveats in the documentation: https://pandas.pydata.org/pandas-docs/stable/user_guide/indexing.html#returning-a-view-versus-a-copy\n",
      "  return super().fillna(\n"
     ]
    }
   ],
   "source": [
    "# preencher os valores faltantes conforme instrucoes\n",
    "media = df['Valor Empenhado'].mean()\n",
    "df['Valor Empenhado']=df['Valor Empenhado'].fillna(media)\n",
    "df.fillna(0,inplace=True)"
   ]
  },
  {
   "cell_type": "code",
   "execution_count": 38,
   "metadata": {},
   "outputs": [
    {
     "data": {
      "text/plain": [
       "Nome Funcao                   0\n",
       "Valor Empenhado               0\n",
       "Valor Pago                    0\n",
       "Valor Restos A Pagar Pagos    0\n",
       "dtype: int64"
      ]
     },
     "execution_count": 38,
     "metadata": {},
     "output_type": "execute_result"
    }
   ],
   "source": [
    "df.isnull().sum()"
   ]
  },
  {
   "cell_type": "code",
   "execution_count": 43,
   "metadata": {
    "id": "f3e673bf"
   },
   "outputs": [
    {
     "name": "stdout",
     "output_type": "stream",
     "text": [
      "soma total da coluna Valor Empenhado 104025453.78610356 mi\n"
     ]
    }
   ],
   "source": [
    "# computar soma dos valores empenhados\n",
    "print('soma total da coluna Valor Empenhado {} mi'.format(df['Valor Empenhado'].sum()/1000))"
   ]
  },
  {
   "cell_type": "code",
   "execution_count": 57,
   "metadata": {
    "id": "53277251",
    "outputId": "ef3a5610-b7c5-4e5c-a45d-56db238aa35f"
   },
   "outputs": [
    {
     "data": {
      "text/html": [
       "<div>\n",
       "<style scoped>\n",
       "    .dataframe tbody tr th:only-of-type {\n",
       "        vertical-align: middle;\n",
       "    }\n",
       "\n",
       "    .dataframe tbody tr th {\n",
       "        vertical-align: top;\n",
       "    }\n",
       "\n",
       "    .dataframe thead th {\n",
       "        text-align: right;\n",
       "    }\n",
       "</style>\n",
       "<table border=\"1\" class=\"dataframe\">\n",
       "  <thead>\n",
       "    <tr style=\"text-align: right;\">\n",
       "      <th></th>\n",
       "      <th>Porcentagem</th>\n",
       "    </tr>\n",
       "  </thead>\n",
       "  <tbody>\n",
       "    <tr>\n",
       "      <th>Saude</th>\n",
       "      <td>43.330113</td>\n",
       "    </tr>\n",
       "  </tbody>\n",
       "</table>\n",
       "</div>"
      ],
      "text/plain": [
       "       Porcentagem\n",
       "Saude    43.330113"
      ]
     },
     "execution_count": 57,
     "metadata": {},
     "output_type": "execute_result"
    }
   ],
   "source": [
    "# computar porcentagem da categoria (Nome Funcao) majoritária\n",
    "(df['Nome Funcao'].value_counts(normalize=True).to_frame('Porcentagem').sort_values('Porcentagem',ascending=False)*100).head(1)"
   ]
  }
 ],
 "metadata": {
  "colab": {
   "name": "AvaliacaoFinal_PCD_TACTD_2021_Solucoes.ipynb",
   "provenance": []
  },
  "kernelspec": {
   "display_name": "Python 3",
   "language": "python",
   "name": "python3"
  },
  "language_info": {
   "codemirror_mode": {
    "name": "ipython",
    "version": 3
   },
   "file_extension": ".py",
   "mimetype": "text/x-python",
   "name": "python",
   "nbconvert_exporter": "python",
   "pygments_lexer": "ipython3",
   "version": "3.8.5"
  },
  "toc": {
   "base_numbering": 1,
   "nav_menu": {},
   "number_sections": true,
   "sideBar": true,
   "skip_h1_title": false,
   "title_cell": "Table of Contents",
   "title_sidebar": "Contents",
   "toc_cell": false,
   "toc_position": {},
   "toc_section_display": true,
   "toc_window_display": false
  },
  "varInspector": {
   "cols": {
    "lenName": 16,
    "lenType": 16,
    "lenVar": 40
   },
   "kernels_config": {
    "python": {
     "delete_cmd_postfix": "",
     "delete_cmd_prefix": "del ",
     "library": "var_list.py",
     "varRefreshCmd": "print(var_dic_list())"
    },
    "r": {
     "delete_cmd_postfix": ") ",
     "delete_cmd_prefix": "rm(",
     "library": "var_list.r",
     "varRefreshCmd": "cat(var_dic_list()) "
    }
   },
   "types_to_exclude": [
    "module",
    "function",
    "builtin_function_or_method",
    "instance",
    "_Feature"
   ],
   "window_display": false
  }
 },
 "nbformat": 4,
 "nbformat_minor": 5
}
